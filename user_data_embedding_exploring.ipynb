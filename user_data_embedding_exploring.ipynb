{
 "cells": [
  {
   "cell_type": "code",
   "execution_count": 64,
   "metadata": {
    "collapsed": true
   },
   "outputs": [],
   "source": [
    "import tensorflow as tf\n",
    "import pandas as pd\n",
    "import numpy as np"
   ]
  },
  {
   "cell_type": "heading",
   "metadata": {},
   "level": 3,
   "source": [
    "读入需要embedding的数据"
   ]
  },
  {
   "cell_type": "code",
   "execution_count": null,
   "metadata": {},
   "outputs": [],
   "source": [
    "user_feature_embedding = pd.read_csv('data/user_feature_embedding.csv')"
   ]
  },
  {
   "cell_type": "code",
   "execution_count": 115,
   "metadata": {},
   "outputs": [],
   "source": [
    "def read_data(files, batch_size):  \n",
    "    COLUMN_DEFAULTS = [[''], [''], [''], [''], [''], [''], [''], [''], [''], [''], [''], [''], ['']]\n",
    "    COLUMNS = ['interest1', 'interest2', 'interest3', 'interest4', 'interest5',\n",
    "               'kw1', 'kw2', 'kw3',\n",
    "               'topic1', 'topic2', 'topic3',\n",
    "               'appIdInstall', 'appIdAction']\n",
    "    \n",
    "    def convert(value):\n",
    "        splits = tf.string_split([value], '-')\n",
    "        dense = tf.sparse_tensor_to_dense(splits, default_value='0')\n",
    "        return tf.string_to_number(dense, out_type=tf.int32)\n",
    "    \n",
    "    def parser(value):\n",
    "        interest1, interest2, interest3, interest4, interest5, \\\n",
    "               kw1, kw2, kw3, \\\n",
    "               topic1, topic2, topic3, \\\n",
    "               appIdInstall, appIdAction = tf.decode_csv(value, COLUMN_DEFAULTS)\n",
    "        return convert(interest1), convert(interest2), convert(interest3), convert(interest4), convert(interest5),\\\n",
    "            convert(kw1), convert(kw2), convert(kw3), \\\n",
    "            convert(topic1), convert(topic2), convert(topic3), \\\n",
    "            convert(appIdInstall), convert(appIdAction)\n",
    "        \n",
    "    dataset = tf.data.TextLineDataset(files).skip(1).map(parser).batch(batch_size)\n",
    "    text_line = dataset.make_one_shot_iterator().get_next()\n",
    "    \n",
    "    return text_line"
   ]
  },
  {
   "cell_type": "heading",
   "metadata": {},
   "level": 3,
   "source": [
    "在计算图中构建输入部分"
   ]
  },
  {
   "cell_type": "code",
   "execution_count": 121,
   "metadata": {},
   "outputs": [],
   "source": [
    "tf.reset_default_graph()\n",
    "with tf.get_default_graph().as_default():\n",
    "    interest1, interest2, interest3, interest4, interest5, \\\n",
    "               kw1, kw2, kw3, \\\n",
    "               topic1, topic2, topic3, \\\n",
    "               appIdInstall, appIdAction = read_data('data/user_feature_embedding.csv', 2)\n"
   ]
  },
  {
   "cell_type": "code",
   "execution_count": 128,
   "metadata": {},
   "outputs": [
    {
     "name": "stdout",
     "output_type": "stream",
     "text": [
      "[array([[[ 93,  70,  77,  86, 109,  47,  75,  69,  45,   8,  29,  49,\n          83,   6,  46,  36,  11,  44,  30, 118,  76,  48,  28, 106,\n          59,  67,  41, 114, 111,  71,   9]]]), array([[[46, 19, 13, 29]]])]\n"
     ]
    },
    {
     "ename": "ValueError",
     "evalue": "could not broadcast input array from shape (1,31) into shape (1,1)",
     "traceback": [
      "\u001b[1;31m---------------------------------------------------------------------------\u001b[0m",
      "\u001b[1;31mAttributeError\u001b[0m                            Traceback (most recent call last)",
      "\u001b[1;32mC:\\ProgramData\\Anaconda3\\envs\\py3\\lib\\site-packages\\numpy\\core\\fromnumeric.py\u001b[0m in \u001b[0;36mshape\u001b[1;34m(a)\u001b[0m\n\u001b[0;32m   1651\u001b[0m     \u001b[1;32mtry\u001b[0m\u001b[1;33m:\u001b[0m\u001b[1;33m\u001b[0m\u001b[0m\n\u001b[1;32m-> 1652\u001b[1;33m         \u001b[0mresult\u001b[0m \u001b[1;33m=\u001b[0m \u001b[0ma\u001b[0m\u001b[1;33m.\u001b[0m\u001b[0mshape\u001b[0m\u001b[1;33m\u001b[0m\u001b[0m\n\u001b[0m\u001b[0;32m   1653\u001b[0m     \u001b[1;32mexcept\u001b[0m \u001b[0mAttributeError\u001b[0m\u001b[1;33m:\u001b[0m\u001b[1;33m\u001b[0m\u001b[0m\n",
      "\u001b[1;31mAttributeError\u001b[0m: 'list' object has no attribute 'shape'",
      "\nDuring handling of the above exception, another exception occurred:\n",
      "\u001b[1;31mValueError\u001b[0m                                Traceback (most recent call last)",
      "\u001b[1;32m<ipython-input-128-f06c4ed0a82d>\u001b[0m in \u001b[0;36m<module>\u001b[1;34m()\u001b[0m\n\u001b[0;32m     11\u001b[0m         \u001b[0mres\u001b[0m \u001b[1;33m=\u001b[0m \u001b[0msess\u001b[0m\u001b[1;33m.\u001b[0m\u001b[0mrun\u001b[0m\u001b[1;33m(\u001b[0m\u001b[1;33m[\u001b[0m\u001b[0minterest1\u001b[0m\u001b[1;33m,\u001b[0m \u001b[0minterest2\u001b[0m\u001b[1;33m]\u001b[0m\u001b[1;33m)\u001b[0m\u001b[1;33m\u001b[0m\u001b[0m\n\u001b[0;32m     12\u001b[0m         \u001b[0mprint\u001b[0m\u001b[1;33m(\u001b[0m\u001b[0mres\u001b[0m\u001b[1;33m)\u001b[0m\u001b[1;33m\u001b[0m\u001b[0m\n\u001b[1;32m---> 13\u001b[1;33m         \u001b[0mprint\u001b[0m\u001b[1;33m(\u001b[0m\u001b[0mnp\u001b[0m\u001b[1;33m.\u001b[0m\u001b[0mshape\u001b[0m\u001b[1;33m(\u001b[0m\u001b[0mres\u001b[0m\u001b[1;33m)\u001b[0m\u001b[1;33m)\u001b[0m\u001b[1;33m\u001b[0m\u001b[0m\n\u001b[0m",
      "\u001b[1;32mC:\\ProgramData\\Anaconda3\\envs\\py3\\lib\\site-packages\\numpy\\core\\fromnumeric.py\u001b[0m in \u001b[0;36mshape\u001b[1;34m(a)\u001b[0m\n\u001b[0;32m   1652\u001b[0m         \u001b[0mresult\u001b[0m \u001b[1;33m=\u001b[0m \u001b[0ma\u001b[0m\u001b[1;33m.\u001b[0m\u001b[0mshape\u001b[0m\u001b[1;33m\u001b[0m\u001b[0m\n\u001b[0;32m   1653\u001b[0m     \u001b[1;32mexcept\u001b[0m \u001b[0mAttributeError\u001b[0m\u001b[1;33m:\u001b[0m\u001b[1;33m\u001b[0m\u001b[0m\n\u001b[1;32m-> 1654\u001b[1;33m         \u001b[0mresult\u001b[0m \u001b[1;33m=\u001b[0m \u001b[0masarray\u001b[0m\u001b[1;33m(\u001b[0m\u001b[0ma\u001b[0m\u001b[1;33m)\u001b[0m\u001b[1;33m.\u001b[0m\u001b[0mshape\u001b[0m\u001b[1;33m\u001b[0m\u001b[0m\n\u001b[0m\u001b[0;32m   1655\u001b[0m     \u001b[1;32mreturn\u001b[0m \u001b[0mresult\u001b[0m\u001b[1;33m\u001b[0m\u001b[0m\n\u001b[0;32m   1656\u001b[0m \u001b[1;33m\u001b[0m\u001b[0m\n",
      "\u001b[1;32mC:\\ProgramData\\Anaconda3\\envs\\py3\\lib\\site-packages\\numpy\\core\\numeric.py\u001b[0m in \u001b[0;36masarray\u001b[1;34m(a, dtype, order)\u001b[0m\n\u001b[0;32m    490\u001b[0m \u001b[1;33m\u001b[0m\u001b[0m\n\u001b[0;32m    491\u001b[0m     \"\"\"\n\u001b[1;32m--> 492\u001b[1;33m     \u001b[1;32mreturn\u001b[0m \u001b[0marray\u001b[0m\u001b[1;33m(\u001b[0m\u001b[0ma\u001b[0m\u001b[1;33m,\u001b[0m \u001b[0mdtype\u001b[0m\u001b[1;33m,\u001b[0m \u001b[0mcopy\u001b[0m\u001b[1;33m=\u001b[0m\u001b[1;32mFalse\u001b[0m\u001b[1;33m,\u001b[0m \u001b[0morder\u001b[0m\u001b[1;33m=\u001b[0m\u001b[0morder\u001b[0m\u001b[1;33m)\u001b[0m\u001b[1;33m\u001b[0m\u001b[0m\n\u001b[0m\u001b[0;32m    493\u001b[0m \u001b[1;33m\u001b[0m\u001b[0m\n\u001b[0;32m    494\u001b[0m \u001b[1;33m\u001b[0m\u001b[0m\n",
      "\u001b[1;31mValueError\u001b[0m: could not broadcast input array from shape (1,31) into shape (1,1)"
     ],
     "output_type": "error"
    }
   ],
   "source": [
    "# just test \n",
    "with tf.Session() as sess:\n",
    "    for i in range(1):\n",
    "        # interest1, interest2, interest3, interest4, interest5, \\\n",
    "        #        kw1, kw2, kw3, \\\n",
    "        #        topic1, topic2, topic3, \\\n",
    "        #        appIdInstall, appIdAction = sess.run([interest1, interest2, interest3, interest4, interest5, \\\n",
    "        #        kw1, kw2, kw3, \\\n",
    "        #        topic1, topic2, topic3, \\\n",
    "        #        appIdInstall, appIdAction])\n",
    "        res = sess.run([interest1, interest2])\n",
    "        print(res)\n",
    "        print()\n"
   ]
  },
  {
   "cell_type": "heading",
   "metadata": {},
   "level": 3,
   "source": [
    "为每个特征构建embedding"
   ]
  },
  {
   "cell_type": "code",
   "execution_count": 125,
   "metadata": {},
   "outputs": [],
   "source": [
    "with tf.get_default_graph().as_default():\n",
    "    with tf.name_scope('embedding'):\n",
    "        embedding = tf.Variable(tf.random_uniform([123, 1], -1, 1))\n",
    "        interest1_embedded = tf.nn.embedding_lookup(embedding, interest1)\n",
    "        interest1_embedded_sum = tf.reduce_sum(interest1_embedded, -2)"
   ]
  }
 ],
 "metadata": {
  "kernelspec": {
   "display_name": "Python 2",
   "language": "python",
   "name": "python2"
  },
  "language_info": {
   "codemirror_mode": {
    "name": "ipython",
    "version": 2
   },
   "file_extension": ".py",
   "mimetype": "text/x-python",
   "name": "python",
   "nbconvert_exporter": "python",
   "pygments_lexer": "ipython2",
   "version": "2.7.6"
  }
 },
 "nbformat": 4,
 "nbformat_minor": 0
}
