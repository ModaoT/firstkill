{
 "cells": [
  {
   "cell_type": "code",
   "execution_count": 64,
   "metadata": {
    "collapsed": true
   },
   "outputs": [],
   "source": [
    "import tensorflow as tf\n",
    "import pandas as pd\n",
    "import numpy as np"
   ]
  },
  {
   "cell_type": "heading",
   "metadata": {},
   "level": 3,
   "source": [
    "读入需要embedding的数据"
   ]
  },
  {
   "cell_type": "code",
   "execution_count": null,
   "metadata": {},
   "outputs": [],
   "source": [
    "user_feature_embedding = pd.read_csv('data/user_feature_embedding.csv')"
   ]
  },
  {
   "cell_type": "code",
   "execution_count": 115,
   "metadata": {},
   "outputs": [],
   "source": [
    "def read_data(files, batch_size):  \n",
    "    COLUMN_DEFAULTS = [[''], [''], [''], [''], [''], [''], [''], [''], [''], [''], [''], [''], ['']]\n",
    "    COLUMNS = ['interest1', 'interest2', 'interest3', 'interest4', 'interest5',\n",
    "               'kw1', 'kw2', 'kw3',\n",
    "               'topic1', 'topic2', 'topic3',\n",
    "               'appIdInstall', 'appIdAction']\n",
    "    \n",
    "    def convert(value):\n",
    "        splits = tf.string_split([value], '-')\n",
    "        dense = tf.sparse_tensor_to_dense(splits, default_value='0')\n",
    "        return tf.string_to_number(dense, out_type=tf.int32)\n",
    "    \n",
    "    def parser(value):\n",
    "        interest1, interest2, interest3, interest4, interest5, \\\n",
    "               kw1, kw2, kw3, \\\n",
    "               topic1, topic2, topic3, \\\n",
    "               appIdInstall, appIdAction = tf.decode_csv(value, COLUMN_DEFAULTS)\n",
    "        return convert(interest1), convert(interest2), convert(interest3), convert(interest4), convert(interest5),\\\n",
    "            convert(kw1), convert(kw2), convert(kw3), \\\n",
    "            convert(topic1), convert(topic2), convert(topic3), \\\n",
    "            convert(appIdInstall), convert(appIdAction)\n",
    "        \n",
    "    dataset = tf.data.TextLineDataset(files).skip(1).map(parser).batch(batch_size)\n",
    "    text_line = dataset.make_one_shot_iterator().get_next()\n",
    "    \n",
    "    return text_line"
   ]
  },
  {
   "cell_type": "heading",
   "metadata": {},
   "level": 3,
   "source": [
    "在计算图中构建输入部分"
   ]
  },
  {
   "cell_type": "code",
   "execution_count": 121,
   "metadata": {},
   "outputs": [],
   "source": [
    "tf.reset_default_graph()\n",
    "with tf.get_default_graph().as_default():\n",
    "    interest1, interest2, interest3, interest4, interest5, \\\n",
    "               kw1, kw2, kw3, \\\n",
    "               topic1, topic2, topic3, \\\n",
    "               appIdInstall, appIdAction = read_data('data/user_feature_embedding.csv', 1)\n"
   ]
  },
  {
   "cell_type": "code",
   "execution_count": 123,
   "metadata": {},
   "outputs": [
    {
     "name": "stdout",
     "output_type": "stream",
     "text": [
      "[[[ 93  70  77  86 109  47  75  69  45   8  29  49  83   6  46  36  11\n    44  30 118  76  48  28 106  59  67  41 114 111  71   9]]]\n[[[46 19 13 29]]]\n\n[[[75 29]]]\n[[[33]]]\n\n"
     ]
    }
   ],
   "source": [
    "# just test \n",
    "with tf.Session() as sess:\n",
    "    for i in range(2):\n",
    "        # interest1, interest2, interest3, interest4, interest5, \\\n",
    "        #        kw1, kw2, kw3, \\\n",
    "        #        topic1, topic2, topic3, \\\n",
    "        #        appIdInstall, appIdAction = sess.run([interest1, interest2, interest3, interest4, interest5, \\\n",
    "        #        kw1, kw2, kw3, \\\n",
    "        #        topic1, topic2, topic3, \\\n",
    "        #        appIdInstall, appIdAction])\n",
    "        int1, int2 = sess.run([interest1, interest2])\n",
    "        print(int1)\n",
    "        print(int2)\n",
    "        print()\n"
   ]
  },
  {
   "cell_type": "heading",
   "metadata": {},
   "level": 3,
   "source": [
    "为每个特征构建embedding"
   ]
  },
  {
   "cell_type": "code",
   "execution_count": 125,
   "metadata": {},
   "outputs": [],
   "source": [
    "with tf.get_default_graph().as_default():\n",
    "    with tf.name_scope('embedding'):\n",
    "        embedding = tf.Variable(tf.random_uniform([123, 1], -1, 1))\n",
    "        interest1_embedded = tf.nn.embedding_lookup(embedding, interest1)\n",
    "        interest1_embedded_sum = tf.reduce_sum(interest1_embedded, -2)"
   ]
  }
 ],
 "metadata": {
  "kernelspec": {
   "display_name": "Python 2",
   "language": "python",
   "name": "python2"
  },
  "language_info": {
   "codemirror_mode": {
    "name": "ipython",
    "version": 2
   },
   "file_extension": ".py",
   "mimetype": "text/x-python",
   "name": "python",
   "nbconvert_exporter": "python",
   "pygments_lexer": "ipython2",
   "version": "2.7.6"
  }
 },
 "nbformat": 4,
 "nbformat_minor": 0
}
