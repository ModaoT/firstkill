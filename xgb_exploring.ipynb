{
 "cells": [
  {
   "cell_type": "code",
   "execution_count": null,
   "metadata": {
    "collapsed": true
   },
   "outputs": [],
   "source": [
    "import lightgbm as lgb\n",
    "import pandas as pd\n",
    "from scipy import sparse\n",
    "from sklearn.model_selection import train_test_split\n",
    "\n",
    "train_x = sparse.load_npz('data_l500/train_x.npz')\n",
    "res = pd.read_csv('data_l500/res.csv')\n",
    "train_y = pd.read_csv('data_l500/train_y.csv')\n",
    "test_x = sparse.load_npz('data_l500/test_x.npz')\n",
    "tr_x, val_x, tr_y, val_y = train_test_split(train_x, train_y, test_size=0.2, random_state=1111)\n",
    "del train_x\n",
    "del train_y"
   ]
  },
  {
   "cell_type": "code",
   "execution_count": null,
   "metadata": {},
   "outputs": [],
   "source": [
    "print(tr_x.shape)\n",
    "print(val_x.shape)\n",
    "print(tr_y.shape)\n",
    "print(val_y.shape)\n",
    "print(test_x.shape)"
   ]
  },
  {
   "cell_type": "code",
   "execution_count": null,
   "metadata": {},
   "outputs": [],
   "source": [
    "print(\"LGB test\")\n",
    "clf = lgb.LGBMClassifier(\n",
    "    boosting_type='gbdt', num_leaves=31, reg_alpha=0.0, reg_lambda=1,\n",
    "    max_depth=-1, n_estimators=10000, objective='binary',\n",
    "    subsample=0.6, colsample_bytree=0.7, subsample_freq=1,\n",
    "    learning_rate=0.05, min_child_weight=50\n",
    ")\n",
    "clf.fit(tr_x, tr_y, eval_set=[(val_x, val_y)], eval_metric='auc', early_stopping_rounds=100)\n",
    "res['score'] = clf.predict_proba(test_x)[:, 1]\n",
    "res['score'] = res['score'].apply(lambda x: float('%.6f' % x))\n",
    "res.to_csv('data_l500/result/submission05041746.csv', index=False)\n",
    "clf.booster_.save_model('data_l500/result/05041746_744487_740586')"
   ]
  }
 ],
 "metadata": {
  "kernelspec": {
   "display_name": "Python 2",
   "language": "python",
   "name": "python2"
  },
  "language_info": {
   "codemirror_mode": {
    "name": "ipython",
    "version": 2
   },
   "file_extension": ".py",
   "mimetype": "text/x-python",
   "name": "python",
   "nbconvert_exporter": "python",
   "pygments_lexer": "ipython2",
   "version": "2.7.6"
  }
 },
 "nbformat": 4,
 "nbformat_minor": 0
}
