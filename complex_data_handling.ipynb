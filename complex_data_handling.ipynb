{
 "cells": [
  {
   "cell_type": "code",
   "execution_count": 1,
   "metadata": {
    "collapsed": true
   },
   "outputs": [],
   "source": [
    "# 数据处理工具\n",
    "import pandas as pd\n",
    "import numpy as np\n",
    "import random as rnd\n",
    "from collections import Counter\n",
    "import utils\n",
    "\n",
    "# 可视化工具\n",
    "import seaborn as sns\n",
    "import matplotlib.pyplot as plt\n",
    "%matplotlib inline\n",
    "\n",
    "\n",
    "column_base = ['uid', 'age', 'gender', 'marriageStatus', 'education', 'consumptionAbility',\n",
    "               'LBS', 'ct', 'os', 'carrier', 'house']\n",
    "column_embedding = ['uid', 'interest1', 'interest2', 'interest3', 'interest4', 'interest5',\n",
    "                    'kw1', 'kw2', 'kw3',\n",
    "                    'topic1', 'topic2', 'topic3',\n",
    "                    'appIdInstall', 'appIdAction']"
   ]
  },
  {
   "cell_type": "code",
   "execution_count": 2,
   "metadata": {},
   "outputs": [],
   "source": [
    "user_feature_embedding_int = pd.read_csv('data/user_feature_embedding_int.csv')"
   ]
  },
  {
   "cell_type": "code",
   "execution_count": 3,
   "metadata": {},
   "outputs": [
    {
     "name": "stdout",
     "output_type": "stream",
     "text": [
      "progress: 0%\r"
     ]
    },
    {
     "name": "stdout",
     "output_type": "stream",
     "text": [
      "progress: 10%\r"
     ]
    },
    {
     "name": "stdout",
     "output_type": "stream",
     "text": [
      "progress: 20%\r"
     ]
    }
   ],
   "source": [
    "added_int2 = utils.add_base_for_all(user_feature_embedding_int['interest2'], 200)\n",
    "added_int3 = utils.add_base_for_all(user_feature_embedding_int['interest3'], 300)"
   ]
  },
  {
   "cell_type": "code",
   "execution_count": 6,
   "metadata": {},
   "outputs": [
    {
     "name": "stdout",
     "output_type": "stream",
     "text": [
      "progress: 100%\n"
     ]
    },
    {
     "name": "stdout",
     "output_type": "stream",
     "text": [
      "progress: 0%\r"
     ]
    },
    {
     "name": "stdout",
     "output_type": "stream",
     "text": [
      "progress: 20%\r"
     ]
    },
    {
     "name": "stdout",
     "output_type": "stream",
     "text": [
      "progress: 40%\r"
     ]
    },
    {
     "name": "stdout",
     "output_type": "stream",
     "text": [
      "progress: 60%\r"
     ]
    },
    {
     "name": "stdout",
     "output_type": "stream",
     "text": [
      "progress: 70%\r"
     ]
    },
    {
     "name": "stdout",
     "output_type": "stream",
     "text": [
      "progress: 90%\r"
     ]
    },
    {
     "name": "stdout",
     "output_type": "stream",
     "text": [
      "progress: 100%\r"
     ]
    },
    {
     "name": "stdout",
     "output_type": "stream",
     "text": [
      "progress: 100%\n"
     ]
    }
   ],
   "source": [
    "added_int4 = utils.add_base_for_all(user_feature_embedding_int['interest4'], 400)\n",
    "added_int5 = utils.add_base_for_all(user_feature_embedding_int['interest5'], 500)"
   ]
  },
  {
   "cell_type": "code",
   "execution_count": 8,
   "metadata": {},
   "outputs": [
    {
     "data": {
      "text/html": [
       "<div>\n",
       "<style scoped>\n",
       "    .dataframe tbody tr th:only-of-type {\n",
       "        vertical-align: middle;\n",
       "    }\n",
       "\n",
       "    .dataframe tbody tr th {\n",
       "        vertical-align: top;\n",
       "    }\n",
       "\n",
       "    .dataframe thead th {\n",
       "        text-align: right;\n",
       "    }\n",
       "</style>\n",
       "<table border=\"1\" class=\"dataframe\">\n",
       "  <thead>\n",
       "    <tr style=\"text-align: right;\">\n",
       "      <th></th>\n",
       "      <th>Unnamed: 0</th>\n",
       "      <th>uid</th>\n",
       "      <th>interest1</th>\n",
       "      <th>interest2</th>\n",
       "      <th>interest3</th>\n",
       "      <th>interest4</th>\n",
       "      <th>interest5</th>\n",
       "    </tr>\n",
       "  </thead>\n",
       "  <tbody>\n",
       "    <tr>\n",
       "      <th>0</th>\n",
       "      <td>0</td>\n",
       "      <td>26325489</td>\n",
       "      <td>93-70-77-86-109-47-75-69-45-8-29-49-83-6-46-36...</td>\n",
       "      <td>246-219-213-229</td>\n",
       "      <td>NaN</td>\n",
       "      <td>NaN</td>\n",
       "      <td>552-600-572-631-616-511-571-512-508-613-528-57...</td>\n",
       "    </tr>\n",
       "    <tr>\n",
       "      <th>1</th>\n",
       "      <td>1</td>\n",
       "      <td>1184123</td>\n",
       "      <td>75-29</td>\n",
       "      <td>233</td>\n",
       "      <td>NaN</td>\n",
       "      <td>NaN</td>\n",
       "      <td>NaN</td>\n",
       "    </tr>\n",
       "    <tr>\n",
       "      <th>2</th>\n",
       "      <td>2</td>\n",
       "      <td>76072711</td>\n",
       "      <td>70-12-28-106-59-49-41-6-42-115-35-116-36-11-96</td>\n",
       "      <td>251-222-279-281-270-206-221-204-241-235</td>\n",
       "      <td>NaN</td>\n",
       "      <td>NaN</td>\n",
       "      <td>577-572-580-616-601-513-501-609-508-550-506-54...</td>\n",
       "    </tr>\n",
       "    <tr>\n",
       "      <th>3</th>\n",
       "      <td>3</td>\n",
       "      <td>63071413</td>\n",
       "      <td>93-70-77-47-76-75-69-29-59-49-122-42-46-23-17-...</td>\n",
       "      <td>224-270-219-213-230-210</td>\n",
       "      <td>NaN</td>\n",
       "      <td>NaN</td>\n",
       "      <td>600-580-592-537-616-513-547-504-571-508-550-52...</td>\n",
       "    </tr>\n",
       "    <tr>\n",
       "      <th>4</th>\n",
       "      <td>4</td>\n",
       "      <td>81294159</td>\n",
       "      <td>75-29-49-122-36-11</td>\n",
       "      <td>NaN</td>\n",
       "      <td>NaN</td>\n",
       "      <td>NaN</td>\n",
       "      <td>631-616-513-508-506-632-542-509-559-518-558-56...</td>\n",
       "    </tr>\n",
       "    <tr>\n",
       "      <th>5</th>\n",
       "      <td>5</td>\n",
       "      <td>26419924</td>\n",
       "      <td>NaN</td>\n",
       "      <td>NaN</td>\n",
       "      <td>NaN</td>\n",
       "      <td>NaN</td>\n",
       "      <td>NaN</td>\n",
       "    </tr>\n",
       "    <tr>\n",
       "      <th>6</th>\n",
       "      <td>6</td>\n",
       "      <td>3467967</td>\n",
       "      <td>70-76-106-36-11</td>\n",
       "      <td>224-230</td>\n",
       "      <td>NaN</td>\n",
       "      <td>NaN</td>\n",
       "      <td>552-572-631-537-547-579-571-508-613-550-516-50...</td>\n",
       "    </tr>\n",
       "    <tr>\n",
       "      <th>7</th>\n",
       "      <td>7</td>\n",
       "      <td>54125482</td>\n",
       "      <td>93-70-77-47-75-69-29-49-27-6-53-19-46-56-36-11...</td>\n",
       "      <td>209-221</td>\n",
       "      <td>NaN</td>\n",
       "      <td>NaN</td>\n",
       "      <td>572-592-616-513-547-578-571-508-530-550-528-50...</td>\n",
       "    </tr>\n",
       "    <tr>\n",
       "      <th>8</th>\n",
       "      <td>8</td>\n",
       "      <td>29339838</td>\n",
       "      <td>93-70-118-109-1-76-69-102-28-8-59-49-6-18-39-4...</td>\n",
       "      <td>247-273-253-246-204-248-229</td>\n",
       "      <td>NaN</td>\n",
       "      <td>NaN</td>\n",
       "      <td>600-572-529-528-520-546</td>\n",
       "    </tr>\n",
       "    <tr>\n",
       "      <th>9</th>\n",
       "      <td>9</td>\n",
       "      <td>3741280</td>\n",
       "      <td>70-76</td>\n",
       "      <td>247-231-232-244</td>\n",
       "      <td>NaN</td>\n",
       "      <td>NaN</td>\n",
       "      <td>577-600-572-592-616-547-609-508-550-586-528-50...</td>\n",
       "    </tr>\n",
       "  </tbody>\n",
       "</table>\n",
       "</div>"
      ],
      "text/plain": [
       "<div>\n",
       "<style scoped>\n",
       "    .dataframe tbody tr th:only-of-type {\n",
       "        vertical-align: middle;\n",
       "    }\n",
       "\n",
       "    .dataframe tbody tr th {\n",
       "        vertical-align: top;\n",
       "    }\n",
       "\n",
       "    .dataframe thead th {\n",
       "        text-align: right;\n",
       "    }\n",
       "</style>\n",
       "<table border=\"1\" class=\"dataframe\">\n",
       "  <thead>\n",
       "    <tr style=\"text-align: right;\">\n",
       "      <th></th>\n",
       "      <th>Unnamed: 0</th>\n",
       "      <th>uid</th>\n",
       "      <th>interest1</th>\n",
       "      <th>interest2</th>\n",
       "      <th>interest3</th>\n",
       "      <th>interest4</th>\n",
       "      <th>interest5</th>\n",
       "    </tr>\n",
       "  </thead>\n",
       "  <tbody>\n",
       "    <tr>\n",
       "      <th>0</th>\n",
       "      <td>0</td>\n",
       "      <td>26325489</td>\n",
       "      <td>93-70-77-86-109-47-75-69-45-8-29-49-83-6-46-36...</td>\n",
       "      <td>246-219-213-229</td>\n",
       "      <td>NaN</td>\n",
       "      <td>NaN</td>\n",
       "      <td>552-600-572-631-616-511-571-512-508-613-528-57...</td>\n",
       "    </tr>\n",
       "    <tr>\n",
       "      <th>1</th>\n",
       "      <td>1</td>\n",
       "      <td>1184123</td>\n",
       "      <td>75-29</td>\n",
       "      <td>233</td>\n",
       "      <td>NaN</td>\n",
       "      <td>NaN</td>\n",
       "      <td>NaN</td>\n",
       "    </tr>\n",
       "    <tr>\n",
       "      <th>2</th>\n",
       "      <td>2</td>\n",
       "      <td>76072711</td>\n",
       "      <td>70-12-28-106-59-49-41-6-42-115-35-116-36-11-96</td>\n",
       "      <td>251-222-279-281-270-206-221-204-241-235</td>\n",
       "      <td>NaN</td>\n",
       "      <td>NaN</td>\n",
       "      <td>577-572-580-616-601-513-501-609-508-550-506-54...</td>\n",
       "    </tr>\n",
       "    <tr>\n",
       "      <th>3</th>\n",
       "      <td>3</td>\n",
       "      <td>63071413</td>\n",
       "      <td>93-70-77-47-76-75-69-29-59-49-122-42-46-23-17-...</td>\n",
       "      <td>224-270-219-213-230-210</td>\n",
       "      <td>NaN</td>\n",
       "      <td>NaN</td>\n",
       "      <td>600-580-592-537-616-513-547-504-571-508-550-52...</td>\n",
       "    </tr>\n",
       "    <tr>\n",
       "      <th>4</th>\n",
       "      <td>4</td>\n",
       "      <td>81294159</td>\n",
       "      <td>75-29-49-122-36-11</td>\n",
       "      <td>NaN</td>\n",
       "      <td>NaN</td>\n",
       "      <td>NaN</td>\n",
       "      <td>631-616-513-508-506-632-542-509-559-518-558-56...</td>\n",
       "    </tr>\n",
       "    <tr>\n",
       "      <th>5</th>\n",
       "      <td>5</td>\n",
       "      <td>26419924</td>\n",
       "      <td>NaN</td>\n",
       "      <td>NaN</td>\n",
       "      <td>NaN</td>\n",
       "      <td>NaN</td>\n",
       "      <td>NaN</td>\n",
       "    </tr>\n",
       "    <tr>\n",
       "      <th>6</th>\n",
       "      <td>6</td>\n",
       "      <td>3467967</td>\n",
       "      <td>70-76-106-36-11</td>\n",
       "      <td>224-230</td>\n",
       "      <td>NaN</td>\n",
       "      <td>NaN</td>\n",
       "      <td>552-572-631-537-547-579-571-508-613-550-516-50...</td>\n",
       "    </tr>\n",
       "    <tr>\n",
       "      <th>7</th>\n",
       "      <td>7</td>\n",
       "      <td>54125482</td>\n",
       "      <td>93-70-77-47-75-69-29-49-27-6-53-19-46-56-36-11...</td>\n",
       "      <td>209-221</td>\n",
       "      <td>NaN</td>\n",
       "      <td>NaN</td>\n",
       "      <td>572-592-616-513-547-578-571-508-530-550-528-50...</td>\n",
       "    </tr>\n",
       "    <tr>\n",
       "      <th>8</th>\n",
       "      <td>8</td>\n",
       "      <td>29339838</td>\n",
       "      <td>93-70-118-109-1-76-69-102-28-8-59-49-6-18-39-4...</td>\n",
       "      <td>247-273-253-246-204-248-229</td>\n",
       "      <td>NaN</td>\n",
       "      <td>NaN</td>\n",
       "      <td>600-572-529-528-520-546</td>\n",
       "    </tr>\n",
       "    <tr>\n",
       "      <th>9</th>\n",
       "      <td>9</td>\n",
       "      <td>3741280</td>\n",
       "      <td>70-76</td>\n",
       "      <td>247-231-232-244</td>\n",
       "      <td>NaN</td>\n",
       "      <td>NaN</td>\n",
       "      <td>577-600-572-592-616-547-609-508-550-586-528-50...</td>\n",
       "    </tr>\n",
       "  </tbody>\n",
       "</table>\n",
       "</div>"
      ]
     },
     "execution_count": 8,
     "metadata": {},
     "output_type": "execute_result"
    }
   ],
   "source": [
    "user_feature_embedding_int['interest2'] = added_int2 \n",
    "user_feature_embedding_int['interest3'] = added_int3 \n",
    "user_feature_embedding_int['interest4'] = added_int4 \n",
    "user_feature_embedding_int['interest5'] = added_int5 \n",
    "user_feature_embedding_int.head(10)"
   ]
  },
  {
   "cell_type": "code",
   "execution_count": 21,
   "metadata": {},
   "outputs": [
    {
     "name": "stdout",
     "output_type": "stream",
     "text": [
      "progress: 0%\r"
     ]
    },
    {
     "name": "stdout",
     "output_type": "stream",
     "text": [
      "progress: 10%\r"
     ]
    },
    {
     "name": "stdout",
     "output_type": "stream",
     "text": [
      "progress: 20%\r"
     ]
    },
    {
     "name": "stdout",
     "output_type": "stream",
     "text": [
      "progress: 30%\r"
     ]
    },
    {
     "name": "stdout",
     "output_type": "stream",
     "text": [
      "progress: 40%\r"
     ]
    },
    {
     "name": "stdout",
     "output_type": "stream",
     "text": [
      "progress: 50%\r"
     ]
    },
    {
     "name": "stdout",
     "output_type": "stream",
     "text": [
      "progress: 60%\r"
     ]
    },
    {
     "name": "stdout",
     "output_type": "stream",
     "text": [
      "progress: 70%\r"
     ]
    },
    {
     "name": "stdout",
     "output_type": "stream",
     "text": [
      "progress: 80%\r"
     ]
    },
    {
     "name": "stdout",
     "output_type": "stream",
     "text": [
      "progress: 90%\r"
     ]
    },
    {
     "name": "stdout",
     "output_type": "stream",
     "text": [
      "progress: 100%\r"
     ]
    },
    {
     "name": "stdout",
     "output_type": "stream",
     "text": [
      "progress: 100%\n"
     ]
    },
    {
     "name": "stdout",
     "output_type": "stream",
     "text": [
      "progress: 0%\r"
     ]
    },
    {
     "name": "stdout",
     "output_type": "stream",
     "text": [
      "progress: 10%\r"
     ]
    },
    {
     "name": "stdout",
     "output_type": "stream",
     "text": [
      "progress: 20%\r"
     ]
    },
    {
     "name": "stdout",
     "output_type": "stream",
     "text": [
      "progress: 30%\r"
     ]
    },
    {
     "name": "stdout",
     "output_type": "stream",
     "text": [
      "progress: 40%\r"
     ]
    },
    {
     "name": "stdout",
     "output_type": "stream",
     "text": [
      "progress: 50%\r"
     ]
    },
    {
     "name": "stdout",
     "output_type": "stream",
     "text": [
      "progress: 60%\r"
     ]
    },
    {
     "name": "stdout",
     "output_type": "stream",
     "text": [
      "progress: 70%\r"
     ]
    },
    {
     "name": "stdout",
     "output_type": "stream",
     "text": [
      "progress: 80%\r"
     ]
    },
    {
     "name": "stdout",
     "output_type": "stream",
     "text": [
      "progress: 90%\r"
     ]
    },
    {
     "name": "stdout",
     "output_type": "stream",
     "text": [
      "progress: 100%\r"
     ]
    },
    {
     "name": "stdout",
     "output_type": "stream",
     "text": [
      "progress: 100%\n"
     ]
    }
   ],
   "source": [
    "user_feature_embedding_int12 = utils.merge_feature(user_feature_embedding_int, 'interest1', 'interest2')\n",
    "user_feature_embedding_int123 = utils.merge_feature(user_feature_embedding_int12, 'interest1interest2', 'interest3')\n"
   ]
  },
  {
   "cell_type": "code",
   "execution_count": 22,
   "metadata": {},
   "outputs": [
    {
     "name": "stdout",
     "output_type": "stream",
     "text": [
      "progress: 0%\r"
     ]
    },
    {
     "name": "stdout",
     "output_type": "stream",
     "text": [
      "progress: 10%\r"
     ]
    },
    {
     "name": "stdout",
     "output_type": "stream",
     "text": [
      "progress: 20%\r"
     ]
    },
    {
     "name": "stdout",
     "output_type": "stream",
     "text": [
      "progress: 30%\r"
     ]
    },
    {
     "name": "stdout",
     "output_type": "stream",
     "text": [
      "progress: 40%\r"
     ]
    },
    {
     "name": "stdout",
     "output_type": "stream",
     "text": [
      "progress: 50%\r"
     ]
    },
    {
     "name": "stdout",
     "output_type": "stream",
     "text": [
      "progress: 60%\r"
     ]
    },
    {
     "name": "stdout",
     "output_type": "stream",
     "text": [
      "progress: 70%\r"
     ]
    },
    {
     "name": "stdout",
     "output_type": "stream",
     "text": [
      "progress: 80%\r"
     ]
    },
    {
     "name": "stdout",
     "output_type": "stream",
     "text": [
      "progress: 90%\r"
     ]
    },
    {
     "name": "stdout",
     "output_type": "stream",
     "text": [
      "progress: 100%\r"
     ]
    },
    {
     "name": "stdout",
     "output_type": "stream",
     "text": [
      "progress: 100%\n"
     ]
    },
    {
     "name": "stdout",
     "output_type": "stream",
     "text": [
      "progress: 0%\r"
     ]
    },
    {
     "name": "stdout",
     "output_type": "stream",
     "text": [
      "progress: 10%\r"
     ]
    },
    {
     "name": "stdout",
     "output_type": "stream",
     "text": [
      "progress: 20%\r"
     ]
    },
    {
     "name": "stdout",
     "output_type": "stream",
     "text": [
      "progress: 30%\r"
     ]
    },
    {
     "name": "stdout",
     "output_type": "stream",
     "text": [
      "progress: 40%\r"
     ]
    },
    {
     "name": "stdout",
     "output_type": "stream",
     "text": [
      "progress: 50%\r"
     ]
    },
    {
     "name": "stdout",
     "output_type": "stream",
     "text": [
      "progress: 60%\r"
     ]
    },
    {
     "name": "stdout",
     "output_type": "stream",
     "text": [
      "progress: 70%\r"
     ]
    },
    {
     "name": "stdout",
     "output_type": "stream",
     "text": [
      "progress: 80%\r"
     ]
    },
    {
     "name": "stdout",
     "output_type": "stream",
     "text": [
      "progress: 90%\r"
     ]
    },
    {
     "name": "stdout",
     "output_type": "stream",
     "text": [
      "progress: 100%\r"
     ]
    },
    {
     "name": "stdout",
     "output_type": "stream",
     "text": [
      "progress: 100%\n"
     ]
    }
   ],
   "source": [
    "user_feature_embedding_int1234 = utils.merge_feature(user_feature_embedding_int123, \n",
    "                                                     'interest1interest2interest3', 'interest4')\n",
    "user_feature_embedding_int12345 = utils.merge_feature(user_feature_embedding_int1234, \n",
    "                                                      'interest1interest2interest3interest4', 'interest5')"
   ]
  },
  {
   "cell_type": "code",
   "execution_count": 23,
   "metadata": {},
   "outputs": [],
   "source": [
    "user_feature_embedding_int12345.rename(columns={'interest1interest2interest3interest4interest5': 'interest'}, inplace=True)"
   ]
  },
  {
   "cell_type": "code",
   "execution_count": 26,
   "metadata": {},
   "outputs": [
    {
     "data": {
      "text/html": [
       "<div>\n",
       "<style scoped>\n",
       "    .dataframe tbody tr th:only-of-type {\n",
       "        vertical-align: middle;\n",
       "    }\n",
       "\n",
       "    .dataframe tbody tr th {\n",
       "        vertical-align: top;\n",
       "    }\n",
       "\n",
       "    .dataframe thead th {\n",
       "        text-align: right;\n",
       "    }\n",
       "</style>\n",
       "<table border=\"1\" class=\"dataframe\">\n",
       "  <thead>\n",
       "    <tr style=\"text-align: right;\">\n",
       "      <th></th>\n",
       "      <th>Unnamed: 0</th>\n",
       "      <th>uid</th>\n",
       "      <th>interest1</th>\n",
       "      <th>interest2</th>\n",
       "      <th>interest3</th>\n",
       "      <th>interest4</th>\n",
       "      <th>interest5</th>\n",
       "    </tr>\n",
       "  </thead>\n",
       "  <tbody>\n",
       "    <tr>\n",
       "      <th>11420034</th>\n",
       "      <td>11420034</td>\n",
       "      <td>7613183</td>\n",
       "      <td>77-46</td>\n",
       "      <td>270-254</td>\n",
       "      <td>NaN</td>\n",
       "      <td>NaN</td>\n",
       "      <td>NaN</td>\n",
       "    </tr>\n",
       "    <tr>\n",
       "      <th>11420035</th>\n",
       "      <td>11420035</td>\n",
       "      <td>44380874</td>\n",
       "      <td>70-76</td>\n",
       "      <td>NaN</td>\n",
       "      <td>NaN</td>\n",
       "      <td>NaN</td>\n",
       "      <td>NaN</td>\n",
       "    </tr>\n",
       "    <tr>\n",
       "      <th>11420036</th>\n",
       "      <td>11420036</td>\n",
       "      <td>23288734</td>\n",
       "      <td>93-70-77-86-12-47-75-29-49-72-46-112-36-11-76-...</td>\n",
       "      <td>224-221-230</td>\n",
       "      <td>NaN</td>\n",
       "      <td>NaN</td>\n",
       "      <td>600-572-580-592-537-616-513-501-571-609-508-55...</td>\n",
       "    </tr>\n",
       "    <tr>\n",
       "      <th>11420037</th>\n",
       "      <td>11420037</td>\n",
       "      <td>17482116</td>\n",
       "      <td>93-70-28-49-15-18-73-46-113-36-11-90</td>\n",
       "      <td>NaN</td>\n",
       "      <td>NaN</td>\n",
       "      <td>NaN</td>\n",
       "      <td>NaN</td>\n",
       "    </tr>\n",
       "    <tr>\n",
       "      <th>11420038</th>\n",
       "      <td>11420038</td>\n",
       "      <td>46849102</td>\n",
       "      <td>70-37-12-100-76-75-29-46-88-36-11</td>\n",
       "      <td>279-206</td>\n",
       "      <td>NaN</td>\n",
       "      <td>NaN</td>\n",
       "      <td>572-631-537-511-579-508-569-506-542-546-574-564</td>\n",
       "    </tr>\n",
       "  </tbody>\n",
       "</table>\n",
       "</div>"
      ],
      "text/plain": [
       "<div>\n",
       "<style scoped>\n",
       "    .dataframe tbody tr th:only-of-type {\n",
       "        vertical-align: middle;\n",
       "    }\n",
       "\n",
       "    .dataframe tbody tr th {\n",
       "        vertical-align: top;\n",
       "    }\n",
       "\n",
       "    .dataframe thead th {\n",
       "        text-align: right;\n",
       "    }\n",
       "</style>\n",
       "<table border=\"1\" class=\"dataframe\">\n",
       "  <thead>\n",
       "    <tr style=\"text-align: right;\">\n",
       "      <th></th>\n",
       "      <th>Unnamed: 0</th>\n",
       "      <th>uid</th>\n",
       "      <th>interest1</th>\n",
       "      <th>interest2</th>\n",
       "      <th>interest3</th>\n",
       "      <th>interest4</th>\n",
       "      <th>interest5</th>\n",
       "    </tr>\n",
       "  </thead>\n",
       "  <tbody>\n",
       "    <tr>\n",
       "      <th>11420034</th>\n",
       "      <td>11420034</td>\n",
       "      <td>7613183</td>\n",
       "      <td>77-46</td>\n",
       "      <td>270-254</td>\n",
       "      <td>NaN</td>\n",
       "      <td>NaN</td>\n",
       "      <td>NaN</td>\n",
       "    </tr>\n",
       "    <tr>\n",
       "      <th>11420035</th>\n",
       "      <td>11420035</td>\n",
       "      <td>44380874</td>\n",
       "      <td>70-76</td>\n",
       "      <td>NaN</td>\n",
       "      <td>NaN</td>\n",
       "      <td>NaN</td>\n",
       "      <td>NaN</td>\n",
       "    </tr>\n",
       "    <tr>\n",
       "      <th>11420036</th>\n",
       "      <td>11420036</td>\n",
       "      <td>23288734</td>\n",
       "      <td>93-70-77-86-12-47-75-29-49-72-46-112-36-11-76-...</td>\n",
       "      <td>224-221-230</td>\n",
       "      <td>NaN</td>\n",
       "      <td>NaN</td>\n",
       "      <td>600-572-580-592-537-616-513-501-571-609-508-55...</td>\n",
       "    </tr>\n",
       "    <tr>\n",
       "      <th>11420037</th>\n",
       "      <td>11420037</td>\n",
       "      <td>17482116</td>\n",
       "      <td>93-70-28-49-15-18-73-46-113-36-11-90</td>\n",
       "      <td>NaN</td>\n",
       "      <td>NaN</td>\n",
       "      <td>NaN</td>\n",
       "      <td>NaN</td>\n",
       "    </tr>\n",
       "    <tr>\n",
       "      <th>11420038</th>\n",
       "      <td>11420038</td>\n",
       "      <td>46849102</td>\n",
       "      <td>70-37-12-100-76-75-29-46-88-36-11</td>\n",
       "      <td>279-206</td>\n",
       "      <td>NaN</td>\n",
       "      <td>NaN</td>\n",
       "      <td>572-631-537-511-579-508-569-506-542-546-574-564</td>\n",
       "    </tr>\n",
       "  </tbody>\n",
       "</table>\n",
       "</div>"
      ]
     },
     "execution_count": 26,
     "metadata": {},
     "output_type": "execute_result"
    }
   ],
   "source": [
    "user_feature_embedding_int.tail()"
   ]
  },
  {
   "cell_type": "code",
   "execution_count": 27,
   "metadata": {},
   "outputs": [
    {
     "data": {
      "text/html": [
       "<div>\n",
       "<style scoped>\n",
       "    .dataframe tbody tr th:only-of-type {\n",
       "        vertical-align: middle;\n",
       "    }\n",
       "\n",
       "    .dataframe tbody tr th {\n",
       "        vertical-align: top;\n",
       "    }\n",
       "\n",
       "    .dataframe thead th {\n",
       "        text-align: right;\n",
       "    }\n",
       "</style>\n",
       "<table border=\"1\" class=\"dataframe\">\n",
       "  <thead>\n",
       "    <tr style=\"text-align: right;\">\n",
       "      <th></th>\n",
       "      <th>Unnamed: 0</th>\n",
       "      <th>uid</th>\n",
       "      <th>interest</th>\n",
       "    </tr>\n",
       "  </thead>\n",
       "  <tbody>\n",
       "    <tr>\n",
       "      <th>11420034</th>\n",
       "      <td>11420034</td>\n",
       "      <td>7613183</td>\n",
       "      <td>77-46-270-254</td>\n",
       "    </tr>\n",
       "    <tr>\n",
       "      <th>11420035</th>\n",
       "      <td>11420035</td>\n",
       "      <td>44380874</td>\n",
       "      <td>70-76</td>\n",
       "    </tr>\n",
       "    <tr>\n",
       "      <th>11420036</th>\n",
       "      <td>11420036</td>\n",
       "      <td>23288734</td>\n",
       "      <td>93-70-77-86-12-47-75-29-49-72-46-112-36-11-76-...</td>\n",
       "    </tr>\n",
       "    <tr>\n",
       "      <th>11420037</th>\n",
       "      <td>11420037</td>\n",
       "      <td>17482116</td>\n",
       "      <td>93-70-28-49-15-18-73-46-113-36-11-90</td>\n",
       "    </tr>\n",
       "    <tr>\n",
       "      <th>11420038</th>\n",
       "      <td>11420038</td>\n",
       "      <td>46849102</td>\n",
       "      <td>70-37-12-100-76-75-29-46-88-36-11-279-206-572-...</td>\n",
       "    </tr>\n",
       "  </tbody>\n",
       "</table>\n",
       "</div>"
      ],
      "text/plain": [
       "<div>\n",
       "<style scoped>\n",
       "    .dataframe tbody tr th:only-of-type {\n",
       "        vertical-align: middle;\n",
       "    }\n",
       "\n",
       "    .dataframe tbody tr th {\n",
       "        vertical-align: top;\n",
       "    }\n",
       "\n",
       "    .dataframe thead th {\n",
       "        text-align: right;\n",
       "    }\n",
       "</style>\n",
       "<table border=\"1\" class=\"dataframe\">\n",
       "  <thead>\n",
       "    <tr style=\"text-align: right;\">\n",
       "      <th></th>\n",
       "      <th>Unnamed: 0</th>\n",
       "      <th>uid</th>\n",
       "      <th>interest</th>\n",
       "    </tr>\n",
       "  </thead>\n",
       "  <tbody>\n",
       "    <tr>\n",
       "      <th>11420034</th>\n",
       "      <td>11420034</td>\n",
       "      <td>7613183</td>\n",
       "      <td>77-46-270-254</td>\n",
       "    </tr>\n",
       "    <tr>\n",
       "      <th>11420035</th>\n",
       "      <td>11420035</td>\n",
       "      <td>44380874</td>\n",
       "      <td>70-76</td>\n",
       "    </tr>\n",
       "    <tr>\n",
       "      <th>11420036</th>\n",
       "      <td>11420036</td>\n",
       "      <td>23288734</td>\n",
       "      <td>93-70-77-86-12-47-75-29-49-72-46-112-36-11-76-...</td>\n",
       "    </tr>\n",
       "    <tr>\n",
       "      <th>11420037</th>\n",
       "      <td>11420037</td>\n",
       "      <td>17482116</td>\n",
       "      <td>93-70-28-49-15-18-73-46-113-36-11-90</td>\n",
       "    </tr>\n",
       "    <tr>\n",
       "      <th>11420038</th>\n",
       "      <td>11420038</td>\n",
       "      <td>46849102</td>\n",
       "      <td>70-37-12-100-76-75-29-46-88-36-11-279-206-572-...</td>\n",
       "    </tr>\n",
       "  </tbody>\n",
       "</table>\n",
       "</div>"
      ]
     },
     "execution_count": 27,
     "metadata": {},
     "output_type": "execute_result"
    }
   ],
   "source": [
    "user_feature_embedding_int12345.tail()"
   ]
  },
  {
   "cell_type": "code",
   "execution_count": 29,
   "metadata": {},
   "outputs": [],
   "source": [
    "user_feature_embedding_int12345.to_csv('data/user_feature_embedding_int_merged.csv', columns=['uid', 'interest'], index=False)"
   ]
  },
  {
   "cell_type": "heading",
   "metadata": {},
   "level": 1,
   "source": [
    "加载kw并合并"
   ]
  },
  {
   "cell_type": "code",
   "execution_count": 30,
   "metadata": {},
   "outputs": [],
   "source": [
    "user_feature_embedding_kw = pd.read_csv('data/user_feature_embedding_kw.csv')"
   ]
  },
  {
   "cell_type": "code",
   "execution_count": 32,
   "metadata": {},
   "outputs": [
    {
     "name": "stdout",
     "output_type": "stream",
     "text": [
      "progress: 0%\r"
     ]
    },
    {
     "name": "stdout",
     "output_type": "stream",
     "text": [
      "progress: 10%\r"
     ]
    },
    {
     "name": "stdout",
     "output_type": "stream",
     "text": [
      "progress: 20%\r"
     ]
    },
    {
     "name": "stdout",
     "output_type": "stream",
     "text": [
      "progress: 30%\r"
     ]
    },
    {
     "name": "stdout",
     "output_type": "stream",
     "text": [
      "progress: 40%\r"
     ]
    },
    {
     "name": "stdout",
     "output_type": "stream",
     "text": [
      "progress: 50%\r"
     ]
    },
    {
     "name": "stdout",
     "output_type": "stream",
     "text": [
      "progress: 60%\r"
     ]
    },
    {
     "name": "stdout",
     "output_type": "stream",
     "text": [
      "progress: 70%\r"
     ]
    },
    {
     "name": "stdout",
     "output_type": "stream",
     "text": [
      "progress: 80%\r"
     ]
    },
    {
     "name": "stdout",
     "output_type": "stream",
     "text": [
      "progress: 90%\r"
     ]
    },
    {
     "name": "stdout",
     "output_type": "stream",
     "text": [
      "progress: 100%\r"
     ]
    },
    {
     "name": "stdout",
     "output_type": "stream",
     "text": [
      "progress: 100%\n"
     ]
    },
    {
     "name": "stdout",
     "output_type": "stream",
     "text": [
      "progress: 50%\r"
     ]
    },
    {
     "name": "stdout",
     "output_type": "stream",
     "text": [
      "progress: 100%\n"
     ]
    }
   ],
   "source": [
    "added_kw2 = utils.add_base_for_all(user_feature_embedding_kw['kw2'], 800000)\n",
    "added_kw3 = utils.add_base_for_all(user_feature_embedding_kw['kw3'], 930000)"
   ]
  },
  {
   "cell_type": "code",
   "execution_count": 36,
   "metadata": {},
   "outputs": [
    {
     "data": {
      "text/html": [
       "<div>\n",
       "<style scoped>\n",
       "    .dataframe tbody tr th:only-of-type {\n",
       "        vertical-align: middle;\n",
       "    }\n",
       "\n",
       "    .dataframe tbody tr th {\n",
       "        vertical-align: top;\n",
       "    }\n",
       "\n",
       "    .dataframe thead th {\n",
       "        text-align: right;\n",
       "    }\n",
       "</style>\n",
       "<table border=\"1\" class=\"dataframe\">\n",
       "  <thead>\n",
       "    <tr style=\"text-align: right;\">\n",
       "      <th></th>\n",
       "      <th>Unnamed: 0</th>\n",
       "      <th>uid</th>\n",
       "      <th>kw1</th>\n",
       "      <th>kw2</th>\n",
       "      <th>kw3</th>\n",
       "    </tr>\n",
       "  </thead>\n",
       "  <tbody>\n",
       "    <tr>\n",
       "      <th>11420029</th>\n",
       "      <td>11420029</td>\n",
       "      <td>71132967</td>\n",
       "      <td>710106-403248-760335-184197-529100</td>\n",
       "      <td>890202-881211-822863-841919-895597</td>\n",
       "      <td>NaN</td>\n",
       "    </tr>\n",
       "    <tr>\n",
       "      <th>11420030</th>\n",
       "      <td>11420030</td>\n",
       "      <td>26696723</td>\n",
       "      <td>412838-732675-290900-149555-274523</td>\n",
       "      <td>829946-808125-894407-821446-807014</td>\n",
       "      <td>NaN</td>\n",
       "    </tr>\n",
       "    <tr>\n",
       "      <th>11420031</th>\n",
       "      <td>11420031</td>\n",
       "      <td>5568914</td>\n",
       "      <td>589299-502673-661739-367799-623073</td>\n",
       "      <td>811395-879112-905115-819826-805827</td>\n",
       "      <td>NaN</td>\n",
       "    </tr>\n",
       "    <tr>\n",
       "      <th>11420032</th>\n",
       "      <td>11420032</td>\n",
       "      <td>23358525</td>\n",
       "      <td>NaN</td>\n",
       "      <td>843977-917462-855952-826484-876242</td>\n",
       "      <td>NaN</td>\n",
       "    </tr>\n",
       "    <tr>\n",
       "      <th>11420033</th>\n",
       "      <td>11420033</td>\n",
       "      <td>56878126</td>\n",
       "      <td>268355-600132-341021-375558-396935</td>\n",
       "      <td>812518-806918-844999-856399-906104</td>\n",
       "      <td>NaN</td>\n",
       "    </tr>\n",
       "    <tr>\n",
       "      <th>11420034</th>\n",
       "      <td>11420034</td>\n",
       "      <td>7613183</td>\n",
       "      <td>NaN</td>\n",
       "      <td>852715-885039-801664-897701-893916</td>\n",
       "      <td>NaN</td>\n",
       "    </tr>\n",
       "    <tr>\n",
       "      <th>11420035</th>\n",
       "      <td>11420035</td>\n",
       "      <td>44380874</td>\n",
       "      <td>605930-8561-387429</td>\n",
       "      <td>811395-879112-887384-881211-888239</td>\n",
       "      <td>966983-974157-981317-962080-962707</td>\n",
       "    </tr>\n",
       "    <tr>\n",
       "      <th>11420036</th>\n",
       "      <td>11420036</td>\n",
       "      <td>23288734</td>\n",
       "      <td>468512-559980-298850-391804-690140</td>\n",
       "      <td>859389-801218-815329-915199-844840</td>\n",
       "      <td>NaN</td>\n",
       "    </tr>\n",
       "    <tr>\n",
       "      <th>11420037</th>\n",
       "      <td>11420037</td>\n",
       "      <td>17482116</td>\n",
       "      <td>572255-138832-565894-716811-621765</td>\n",
       "      <td>882538</td>\n",
       "      <td>NaN</td>\n",
       "    </tr>\n",
       "    <tr>\n",
       "      <th>11420038</th>\n",
       "      <td>11420038</td>\n",
       "      <td>46849102</td>\n",
       "      <td>267586-411375-16567-279516-285713</td>\n",
       "      <td>861483-817460-817892-820148-909981</td>\n",
       "      <td>NaN</td>\n",
       "    </tr>\n",
       "  </tbody>\n",
       "</table>\n",
       "</div>"
      ],
      "text/plain": [
       "<div>\n",
       "<style scoped>\n",
       "    .dataframe tbody tr th:only-of-type {\n",
       "        vertical-align: middle;\n",
       "    }\n",
       "\n",
       "    .dataframe tbody tr th {\n",
       "        vertical-align: top;\n",
       "    }\n",
       "\n",
       "    .dataframe thead th {\n",
       "        text-align: right;\n",
       "    }\n",
       "</style>\n",
       "<table border=\"1\" class=\"dataframe\">\n",
       "  <thead>\n",
       "    <tr style=\"text-align: right;\">\n",
       "      <th></th>\n",
       "      <th>Unnamed: 0</th>\n",
       "      <th>uid</th>\n",
       "      <th>kw1</th>\n",
       "      <th>kw2</th>\n",
       "      <th>kw3</th>\n",
       "    </tr>\n",
       "  </thead>\n",
       "  <tbody>\n",
       "    <tr>\n",
       "      <th>11420029</th>\n",
       "      <td>11420029</td>\n",
       "      <td>71132967</td>\n",
       "      <td>710106-403248-760335-184197-529100</td>\n",
       "      <td>890202-881211-822863-841919-895597</td>\n",
       "      <td>NaN</td>\n",
       "    </tr>\n",
       "    <tr>\n",
       "      <th>11420030</th>\n",
       "      <td>11420030</td>\n",
       "      <td>26696723</td>\n",
       "      <td>412838-732675-290900-149555-274523</td>\n",
       "      <td>829946-808125-894407-821446-807014</td>\n",
       "      <td>NaN</td>\n",
       "    </tr>\n",
       "    <tr>\n",
       "      <th>11420031</th>\n",
       "      <td>11420031</td>\n",
       "      <td>5568914</td>\n",
       "      <td>589299-502673-661739-367799-623073</td>\n",
       "      <td>811395-879112-905115-819826-805827</td>\n",
       "      <td>NaN</td>\n",
       "    </tr>\n",
       "    <tr>\n",
       "      <th>11420032</th>\n",
       "      <td>11420032</td>\n",
       "      <td>23358525</td>\n",
       "      <td>NaN</td>\n",
       "      <td>843977-917462-855952-826484-876242</td>\n",
       "      <td>NaN</td>\n",
       "    </tr>\n",
       "    <tr>\n",
       "      <th>11420033</th>\n",
       "      <td>11420033</td>\n",
       "      <td>56878126</td>\n",
       "      <td>268355-600132-341021-375558-396935</td>\n",
       "      <td>812518-806918-844999-856399-906104</td>\n",
       "      <td>NaN</td>\n",
       "    </tr>\n",
       "    <tr>\n",
       "      <th>11420034</th>\n",
       "      <td>11420034</td>\n",
       "      <td>7613183</td>\n",
       "      <td>NaN</td>\n",
       "      <td>852715-885039-801664-897701-893916</td>\n",
       "      <td>NaN</td>\n",
       "    </tr>\n",
       "    <tr>\n",
       "      <th>11420035</th>\n",
       "      <td>11420035</td>\n",
       "      <td>44380874</td>\n",
       "      <td>605930-8561-387429</td>\n",
       "      <td>811395-879112-887384-881211-888239</td>\n",
       "      <td>966983-974157-981317-962080-962707</td>\n",
       "    </tr>\n",
       "    <tr>\n",
       "      <th>11420036</th>\n",
       "      <td>11420036</td>\n",
       "      <td>23288734</td>\n",
       "      <td>468512-559980-298850-391804-690140</td>\n",
       "      <td>859389-801218-815329-915199-844840</td>\n",
       "      <td>NaN</td>\n",
       "    </tr>\n",
       "    <tr>\n",
       "      <th>11420037</th>\n",
       "      <td>11420037</td>\n",
       "      <td>17482116</td>\n",
       "      <td>572255-138832-565894-716811-621765</td>\n",
       "      <td>882538</td>\n",
       "      <td>NaN</td>\n",
       "    </tr>\n",
       "    <tr>\n",
       "      <th>11420038</th>\n",
       "      <td>11420038</td>\n",
       "      <td>46849102</td>\n",
       "      <td>267586-411375-16567-279516-285713</td>\n",
       "      <td>861483-817460-817892-820148-909981</td>\n",
       "      <td>NaN</td>\n",
       "    </tr>\n",
       "  </tbody>\n",
       "</table>\n",
       "</div>"
      ]
     },
     "execution_count": 36,
     "metadata": {},
     "output_type": "execute_result"
    }
   ],
   "source": [
    "user_feature_embedding_kw['kw2'] = added_kw2 \n",
    "user_feature_embedding_kw['kw3'] = added_kw3 \n",
    "user_feature_embedding_kw.tail(10)"
   ]
  },
  {
   "cell_type": "code",
   "execution_count": 37,
   "metadata": {},
   "outputs": [
    {
     "name": "stdout",
     "output_type": "stream",
     "text": [
      "progress: 0%\r"
     ]
    },
    {
     "name": "stdout",
     "output_type": "stream",
     "text": [
      "progress: 10%\r"
     ]
    },
    {
     "name": "stdout",
     "output_type": "stream",
     "text": [
      "progress: 20%\r"
     ]
    },
    {
     "name": "stdout",
     "output_type": "stream",
     "text": [
      "progress: 30%\r"
     ]
    },
    {
     "name": "stdout",
     "output_type": "stream",
     "text": [
      "progress: 40%\r"
     ]
    },
    {
     "name": "stdout",
     "output_type": "stream",
     "text": [
      "progress: 50%\r"
     ]
    },
    {
     "name": "stdout",
     "output_type": "stream",
     "text": [
      "progress: 60%\r"
     ]
    },
    {
     "name": "stdout",
     "output_type": "stream",
     "text": [
      "progress: 70%\r"
     ]
    },
    {
     "name": "stdout",
     "output_type": "stream",
     "text": [
      "progress: 80%\r"
     ]
    },
    {
     "name": "stdout",
     "output_type": "stream",
     "text": [
      "progress: 90%\r"
     ]
    },
    {
     "name": "stdout",
     "output_type": "stream",
     "text": [
      "progress: 100%\r"
     ]
    },
    {
     "name": "stdout",
     "output_type": "stream",
     "text": [
      "progress: 100%\n"
     ]
    },
    {
     "name": "stdout",
     "output_type": "stream",
     "text": [
      "progress: 0%\r"
     ]
    },
    {
     "name": "stdout",
     "output_type": "stream",
     "text": [
      "progress: 10%\r"
     ]
    },
    {
     "name": "stdout",
     "output_type": "stream",
     "text": [
      "progress: 20%\r"
     ]
    },
    {
     "name": "stdout",
     "output_type": "stream",
     "text": [
      "progress: 30%\r"
     ]
    },
    {
     "name": "stdout",
     "output_type": "stream",
     "text": [
      "progress: 40%\r"
     ]
    },
    {
     "name": "stdout",
     "output_type": "stream",
     "text": [
      "progress: 50%\r"
     ]
    },
    {
     "name": "stdout",
     "output_type": "stream",
     "text": [
      "progress: 60%\r"
     ]
    },
    {
     "name": "stdout",
     "output_type": "stream",
     "text": [
      "progress: 70%\r"
     ]
    },
    {
     "name": "stdout",
     "output_type": "stream",
     "text": [
      "progress: 80%\r"
     ]
    },
    {
     "name": "stdout",
     "output_type": "stream",
     "text": [
      "progress: 90%\r"
     ]
    },
    {
     "name": "stdout",
     "output_type": "stream",
     "text": [
      "progress: 100%\r"
     ]
    },
    {
     "name": "stdout",
     "output_type": "stream",
     "text": [
      "progress: 100%\n"
     ]
    }
   ],
   "source": [
    "user_feature_embedding_kw12 = utils.merge_feature(user_feature_embedding_kw, 'kw1', 'kw2')\n",
    "user_feature_embedding_kw123 = utils.merge_feature(user_feature_embedding_kw12, 'kw1kw2', 'kw3')"
   ]
  },
  {
   "cell_type": "code",
   "execution_count": 38,
   "metadata": {},
   "outputs": [
    {
     "data": {
      "text/html": [
       "<div>\n",
       "<style scoped>\n",
       "    .dataframe tbody tr th:only-of-type {\n",
       "        vertical-align: middle;\n",
       "    }\n",
       "\n",
       "    .dataframe tbody tr th {\n",
       "        vertical-align: top;\n",
       "    }\n",
       "\n",
       "    .dataframe thead th {\n",
       "        text-align: right;\n",
       "    }\n",
       "</style>\n",
       "<table border=\"1\" class=\"dataframe\">\n",
       "  <thead>\n",
       "    <tr style=\"text-align: right;\">\n",
       "      <th></th>\n",
       "      <th>Unnamed: 0</th>\n",
       "      <th>uid</th>\n",
       "      <th>kw</th>\n",
       "    </tr>\n",
       "  </thead>\n",
       "  <tbody>\n",
       "    <tr>\n",
       "      <th>11420029</th>\n",
       "      <td>11420029</td>\n",
       "      <td>71132967</td>\n",
       "      <td>710106-403248-760335-184197-529100-890202-8812...</td>\n",
       "    </tr>\n",
       "    <tr>\n",
       "      <th>11420030</th>\n",
       "      <td>11420030</td>\n",
       "      <td>26696723</td>\n",
       "      <td>412838-732675-290900-149555-274523-829946-8081...</td>\n",
       "    </tr>\n",
       "    <tr>\n",
       "      <th>11420031</th>\n",
       "      <td>11420031</td>\n",
       "      <td>5568914</td>\n",
       "      <td>589299-502673-661739-367799-623073-811395-8791...</td>\n",
       "    </tr>\n",
       "    <tr>\n",
       "      <th>11420032</th>\n",
       "      <td>11420032</td>\n",
       "      <td>23358525</td>\n",
       "      <td>843977-917462-855952-826484-876242</td>\n",
       "    </tr>\n",
       "    <tr>\n",
       "      <th>11420033</th>\n",
       "      <td>11420033</td>\n",
       "      <td>56878126</td>\n",
       "      <td>268355-600132-341021-375558-396935-812518-8069...</td>\n",
       "    </tr>\n",
       "    <tr>\n",
       "      <th>11420034</th>\n",
       "      <td>11420034</td>\n",
       "      <td>7613183</td>\n",
       "      <td>852715-885039-801664-897701-893916</td>\n",
       "    </tr>\n",
       "    <tr>\n",
       "      <th>11420035</th>\n",
       "      <td>11420035</td>\n",
       "      <td>44380874</td>\n",
       "      <td>605930-8561-387429-811395-879112-887384-881211...</td>\n",
       "    </tr>\n",
       "    <tr>\n",
       "      <th>11420036</th>\n",
       "      <td>11420036</td>\n",
       "      <td>23288734</td>\n",
       "      <td>468512-559980-298850-391804-690140-859389-8012...</td>\n",
       "    </tr>\n",
       "    <tr>\n",
       "      <th>11420037</th>\n",
       "      <td>11420037</td>\n",
       "      <td>17482116</td>\n",
       "      <td>572255-138832-565894-716811-621765-882538</td>\n",
       "    </tr>\n",
       "    <tr>\n",
       "      <th>11420038</th>\n",
       "      <td>11420038</td>\n",
       "      <td>46849102</td>\n",
       "      <td>267586-411375-16567-279516-285713-861483-81746...</td>\n",
       "    </tr>\n",
       "  </tbody>\n",
       "</table>\n",
       "</div>"
      ],
      "text/plain": [
       "<div>\n",
       "<style scoped>\n",
       "    .dataframe tbody tr th:only-of-type {\n",
       "        vertical-align: middle;\n",
       "    }\n",
       "\n",
       "    .dataframe tbody tr th {\n",
       "        vertical-align: top;\n",
       "    }\n",
       "\n",
       "    .dataframe thead th {\n",
       "        text-align: right;\n",
       "    }\n",
       "</style>\n",
       "<table border=\"1\" class=\"dataframe\">\n",
       "  <thead>\n",
       "    <tr style=\"text-align: right;\">\n",
       "      <th></th>\n",
       "      <th>Unnamed: 0</th>\n",
       "      <th>uid</th>\n",
       "      <th>kw</th>\n",
       "    </tr>\n",
       "  </thead>\n",
       "  <tbody>\n",
       "    <tr>\n",
       "      <th>11420029</th>\n",
       "      <td>11420029</td>\n",
       "      <td>71132967</td>\n",
       "      <td>710106-403248-760335-184197-529100-890202-8812...</td>\n",
       "    </tr>\n",
       "    <tr>\n",
       "      <th>11420030</th>\n",
       "      <td>11420030</td>\n",
       "      <td>26696723</td>\n",
       "      <td>412838-732675-290900-149555-274523-829946-8081...</td>\n",
       "    </tr>\n",
       "    <tr>\n",
       "      <th>11420031</th>\n",
       "      <td>11420031</td>\n",
       "      <td>5568914</td>\n",
       "      <td>589299-502673-661739-367799-623073-811395-8791...</td>\n",
       "    </tr>\n",
       "    <tr>\n",
       "      <th>11420032</th>\n",
       "      <td>11420032</td>\n",
       "      <td>23358525</td>\n",
       "      <td>843977-917462-855952-826484-876242</td>\n",
       "    </tr>\n",
       "    <tr>\n",
       "      <th>11420033</th>\n",
       "      <td>11420033</td>\n",
       "      <td>56878126</td>\n",
       "      <td>268355-600132-341021-375558-396935-812518-8069...</td>\n",
       "    </tr>\n",
       "    <tr>\n",
       "      <th>11420034</th>\n",
       "      <td>11420034</td>\n",
       "      <td>7613183</td>\n",
       "      <td>852715-885039-801664-897701-893916</td>\n",
       "    </tr>\n",
       "    <tr>\n",
       "      <th>11420035</th>\n",
       "      <td>11420035</td>\n",
       "      <td>44380874</td>\n",
       "      <td>605930-8561-387429-811395-879112-887384-881211...</td>\n",
       "    </tr>\n",
       "    <tr>\n",
       "      <th>11420036</th>\n",
       "      <td>11420036</td>\n",
       "      <td>23288734</td>\n",
       "      <td>468512-559980-298850-391804-690140-859389-8012...</td>\n",
       "    </tr>\n",
       "    <tr>\n",
       "      <th>11420037</th>\n",
       "      <td>11420037</td>\n",
       "      <td>17482116</td>\n",
       "      <td>572255-138832-565894-716811-621765-882538</td>\n",
       "    </tr>\n",
       "    <tr>\n",
       "      <th>11420038</th>\n",
       "      <td>11420038</td>\n",
       "      <td>46849102</td>\n",
       "      <td>267586-411375-16567-279516-285713-861483-81746...</td>\n",
       "    </tr>\n",
       "  </tbody>\n",
       "</table>\n",
       "</div>"
      ]
     },
     "execution_count": 38,
     "metadata": {},
     "output_type": "execute_result"
    }
   ],
   "source": [
    "user_feature_embedding_kw123.rename(columns={'kw1kw2kw3': 'kw'}, inplace=True)\n",
    "user_feature_embedding_kw123.tail(10)"
   ]
  },
  {
   "cell_type": "code",
   "execution_count": 40,
   "metadata": {},
   "outputs": [],
   "source": [
    "user_feature_embedding_kw123.to_csv('data/user_feature_embedding_kw_merged.csv', columns=['uid', 'kw'], index=False)"
   ]
  },
  {
   "cell_type": "heading",
   "metadata": {},
   "level": 1,
   "source": [
    "加载topic并合并"
   ]
  },
  {
   "cell_type": "code",
   "execution_count": 41,
   "metadata": {},
   "outputs": [],
   "source": [
    "user_feature_embedding_to = pd.read_csv('data/user_feature_embedding_to.csv')"
   ]
  },
  {
   "cell_type": "code",
   "execution_count": 43,
   "metadata": {},
   "outputs": [
    {
     "name": "stdout",
     "output_type": "stream",
     "text": [
      "progress: 0%\r"
     ]
    },
    {
     "name": "stdout",
     "output_type": "stream",
     "text": [
      "progress: 10%\r"
     ]
    },
    {
     "name": "stdout",
     "output_type": "stream",
     "text": [
      "progress: 20%\r"
     ]
    },
    {
     "name": "stdout",
     "output_type": "stream",
     "text": [
      "progress: 30%\r"
     ]
    },
    {
     "name": "stdout",
     "output_type": "stream",
     "text": [
      "progress: 40%\r"
     ]
    },
    {
     "name": "stdout",
     "output_type": "stream",
     "text": [
      "progress: 50%\r"
     ]
    },
    {
     "name": "stdout",
     "output_type": "stream",
     "text": [
      "progress: 60%\r"
     ]
    },
    {
     "name": "stdout",
     "output_type": "stream",
     "text": [
      "progress: 70%\r"
     ]
    },
    {
     "name": "stdout",
     "output_type": "stream",
     "text": [
      "progress: 80%\r"
     ]
    },
    {
     "name": "stdout",
     "output_type": "stream",
     "text": [
      "progress: 90%\r"
     ]
    },
    {
     "name": "stdout",
     "output_type": "stream",
     "text": [
      "progress: 100%\r"
     ]
    },
    {
     "name": "stdout",
     "output_type": "stream",
     "text": [
      "progress: 100%\n"
     ]
    },
    {
     "name": "stdout",
     "output_type": "stream",
     "text": [
      "progress: 50%\r"
     ]
    },
    {
     "name": "stdout",
     "output_type": "stream",
     "text": [
      "progress: 100%\n"
     ]
    }
   ],
   "source": [
    "added_to2 = utils.add_base_for_all(user_feature_embedding_to['topic2'], 10000)\n",
    "added_to3 = utils.add_base_for_all(user_feature_embedding_to['topic3'], 20000)"
   ]
  },
  {
   "cell_type": "code",
   "execution_count": 45,
   "metadata": {},
   "outputs": [
    {
     "data": {
      "text/html": [
       "<div>\n",
       "<style scoped>\n",
       "    .dataframe tbody tr th:only-of-type {\n",
       "        vertical-align: middle;\n",
       "    }\n",
       "\n",
       "    .dataframe tbody tr th {\n",
       "        vertical-align: top;\n",
       "    }\n",
       "\n",
       "    .dataframe thead th {\n",
       "        text-align: right;\n",
       "    }\n",
       "</style>\n",
       "<table border=\"1\" class=\"dataframe\">\n",
       "  <thead>\n",
       "    <tr style=\"text-align: right;\">\n",
       "      <th></th>\n",
       "      <th>Unnamed: 0</th>\n",
       "      <th>uid</th>\n",
       "      <th>topic1</th>\n",
       "      <th>topic2</th>\n",
       "      <th>topic3</th>\n",
       "    </tr>\n",
       "  </thead>\n",
       "  <tbody>\n",
       "    <tr>\n",
       "      <th>11420029</th>\n",
       "      <td>11420029</td>\n",
       "      <td>71132967</td>\n",
       "      <td>6687-7829-3450-1407-6578</td>\n",
       "      <td>10235-18318-10026-10097-15782</td>\n",
       "      <td>NaN</td>\n",
       "    </tr>\n",
       "    <tr>\n",
       "      <th>11420030</th>\n",
       "      <td>11420030</td>\n",
       "      <td>26696723</td>\n",
       "      <td>644-6586-8525-2638-4367</td>\n",
       "      <td>15298-15810-10412-14677-13393</td>\n",
       "      <td>NaN</td>\n",
       "    </tr>\n",
       "    <tr>\n",
       "      <th>11420031</th>\n",
       "      <td>11420031</td>\n",
       "      <td>5568914</td>\n",
       "      <td>8783-4264-4466-6216-142</td>\n",
       "      <td>11094-10282-12902-15188-17366</td>\n",
       "      <td>NaN</td>\n",
       "    </tr>\n",
       "    <tr>\n",
       "      <th>11420032</th>\n",
       "      <td>11420032</td>\n",
       "      <td>23358525</td>\n",
       "      <td>NaN</td>\n",
       "      <td>16619-15954-12386-19412-18893</td>\n",
       "      <td>NaN</td>\n",
       "    </tr>\n",
       "    <tr>\n",
       "      <th>11420033</th>\n",
       "      <td>11420033</td>\n",
       "      <td>56878126</td>\n",
       "      <td>6579-9826-7113-244-8460</td>\n",
       "      <td>18655-14431-16477-17389-13270</td>\n",
       "      <td>NaN</td>\n",
       "    </tr>\n",
       "    <tr>\n",
       "      <th>11420034</th>\n",
       "      <td>11420034</td>\n",
       "      <td>7613183</td>\n",
       "      <td>50-2293-39-714-7688</td>\n",
       "      <td>16500-10263-11400-10895-12826</td>\n",
       "      <td>NaN</td>\n",
       "    </tr>\n",
       "    <tr>\n",
       "      <th>11420035</th>\n",
       "      <td>11420035</td>\n",
       "      <td>44380874</td>\n",
       "      <td>6096-4164-4783-2958-2136</td>\n",
       "      <td>15271-10026-17079-19533-10203</td>\n",
       "      <td>23800-23783-21845-21110-28621</td>\n",
       "    </tr>\n",
       "    <tr>\n",
       "      <th>11420036</th>\n",
       "      <td>11420036</td>\n",
       "      <td>23288734</td>\n",
       "      <td>9826-3039-3459-523-2535</td>\n",
       "      <td>15641-17571-12537-18402-15457</td>\n",
       "      <td>NaN</td>\n",
       "    </tr>\n",
       "    <tr>\n",
       "      <th>11420037</th>\n",
       "      <td>11420037</td>\n",
       "      <td>17482116</td>\n",
       "      <td>1557-4257-5029-6584-6896</td>\n",
       "      <td>10814-14194-14857-17331-14746</td>\n",
       "      <td>NaN</td>\n",
       "    </tr>\n",
       "    <tr>\n",
       "      <th>11420038</th>\n",
       "      <td>11420038</td>\n",
       "      <td>46849102</td>\n",
       "      <td>7254-1661-5309-8575-6115</td>\n",
       "      <td>15199-13373-16431-11833-18494</td>\n",
       "      <td>NaN</td>\n",
       "    </tr>\n",
       "  </tbody>\n",
       "</table>\n",
       "</div>"
      ],
      "text/plain": [
       "<div>\n",
       "<style scoped>\n",
       "    .dataframe tbody tr th:only-of-type {\n",
       "        vertical-align: middle;\n",
       "    }\n",
       "\n",
       "    .dataframe tbody tr th {\n",
       "        vertical-align: top;\n",
       "    }\n",
       "\n",
       "    .dataframe thead th {\n",
       "        text-align: right;\n",
       "    }\n",
       "</style>\n",
       "<table border=\"1\" class=\"dataframe\">\n",
       "  <thead>\n",
       "    <tr style=\"text-align: right;\">\n",
       "      <th></th>\n",
       "      <th>Unnamed: 0</th>\n",
       "      <th>uid</th>\n",
       "      <th>topic1</th>\n",
       "      <th>topic2</th>\n",
       "      <th>topic3</th>\n",
       "    </tr>\n",
       "  </thead>\n",
       "  <tbody>\n",
       "    <tr>\n",
       "      <th>11420029</th>\n",
       "      <td>11420029</td>\n",
       "      <td>71132967</td>\n",
       "      <td>6687-7829-3450-1407-6578</td>\n",
       "      <td>10235-18318-10026-10097-15782</td>\n",
       "      <td>NaN</td>\n",
       "    </tr>\n",
       "    <tr>\n",
       "      <th>11420030</th>\n",
       "      <td>11420030</td>\n",
       "      <td>26696723</td>\n",
       "      <td>644-6586-8525-2638-4367</td>\n",
       "      <td>15298-15810-10412-14677-13393</td>\n",
       "      <td>NaN</td>\n",
       "    </tr>\n",
       "    <tr>\n",
       "      <th>11420031</th>\n",
       "      <td>11420031</td>\n",
       "      <td>5568914</td>\n",
       "      <td>8783-4264-4466-6216-142</td>\n",
       "      <td>11094-10282-12902-15188-17366</td>\n",
       "      <td>NaN</td>\n",
       "    </tr>\n",
       "    <tr>\n",
       "      <th>11420032</th>\n",
       "      <td>11420032</td>\n",
       "      <td>23358525</td>\n",
       "      <td>NaN</td>\n",
       "      <td>16619-15954-12386-19412-18893</td>\n",
       "      <td>NaN</td>\n",
       "    </tr>\n",
       "    <tr>\n",
       "      <th>11420033</th>\n",
       "      <td>11420033</td>\n",
       "      <td>56878126</td>\n",
       "      <td>6579-9826-7113-244-8460</td>\n",
       "      <td>18655-14431-16477-17389-13270</td>\n",
       "      <td>NaN</td>\n",
       "    </tr>\n",
       "    <tr>\n",
       "      <th>11420034</th>\n",
       "      <td>11420034</td>\n",
       "      <td>7613183</td>\n",
       "      <td>50-2293-39-714-7688</td>\n",
       "      <td>16500-10263-11400-10895-12826</td>\n",
       "      <td>NaN</td>\n",
       "    </tr>\n",
       "    <tr>\n",
       "      <th>11420035</th>\n",
       "      <td>11420035</td>\n",
       "      <td>44380874</td>\n",
       "      <td>6096-4164-4783-2958-2136</td>\n",
       "      <td>15271-10026-17079-19533-10203</td>\n",
       "      <td>23800-23783-21845-21110-28621</td>\n",
       "    </tr>\n",
       "    <tr>\n",
       "      <th>11420036</th>\n",
       "      <td>11420036</td>\n",
       "      <td>23288734</td>\n",
       "      <td>9826-3039-3459-523-2535</td>\n",
       "      <td>15641-17571-12537-18402-15457</td>\n",
       "      <td>NaN</td>\n",
       "    </tr>\n",
       "    <tr>\n",
       "      <th>11420037</th>\n",
       "      <td>11420037</td>\n",
       "      <td>17482116</td>\n",
       "      <td>1557-4257-5029-6584-6896</td>\n",
       "      <td>10814-14194-14857-17331-14746</td>\n",
       "      <td>NaN</td>\n",
       "    </tr>\n",
       "    <tr>\n",
       "      <th>11420038</th>\n",
       "      <td>11420038</td>\n",
       "      <td>46849102</td>\n",
       "      <td>7254-1661-5309-8575-6115</td>\n",
       "      <td>15199-13373-16431-11833-18494</td>\n",
       "      <td>NaN</td>\n",
       "    </tr>\n",
       "  </tbody>\n",
       "</table>\n",
       "</div>"
      ]
     },
     "execution_count": 45,
     "metadata": {},
     "output_type": "execute_result"
    }
   ],
   "source": [
    "user_feature_embedding_to['topic2'] = added_to2 \n",
    "user_feature_embedding_to['topic3'] = added_to3 \n",
    "user_feature_embedding_to.tail(10)"
   ]
  },
  {
   "cell_type": "code",
   "execution_count": 46,
   "metadata": {},
   "outputs": [
    {
     "name": "stdout",
     "output_type": "stream",
     "text": [
      "progress: 0%\r"
     ]
    },
    {
     "name": "stdout",
     "output_type": "stream",
     "text": [
      "progress: 10%\r"
     ]
    },
    {
     "name": "stdout",
     "output_type": "stream",
     "text": [
      "progress: 20%\r"
     ]
    },
    {
     "name": "stdout",
     "output_type": "stream",
     "text": [
      "progress: 30%\r"
     ]
    },
    {
     "name": "stdout",
     "output_type": "stream",
     "text": [
      "progress: 40%\r"
     ]
    },
    {
     "name": "stdout",
     "output_type": "stream",
     "text": [
      "progress: 50%\r"
     ]
    },
    {
     "name": "stdout",
     "output_type": "stream",
     "text": [
      "progress: 60%\r"
     ]
    },
    {
     "name": "stdout",
     "output_type": "stream",
     "text": [
      "progress: 70%\r"
     ]
    },
    {
     "name": "stdout",
     "output_type": "stream",
     "text": [
      "progress: 80%\r"
     ]
    },
    {
     "name": "stdout",
     "output_type": "stream",
     "text": [
      "progress: 90%\r"
     ]
    },
    {
     "name": "stdout",
     "output_type": "stream",
     "text": [
      "progress: 100%\r"
     ]
    },
    {
     "name": "stdout",
     "output_type": "stream",
     "text": [
      "progress: 100%\n"
     ]
    },
    {
     "name": "stdout",
     "output_type": "stream",
     "text": [
      "progress: 0%\r"
     ]
    },
    {
     "name": "stdout",
     "output_type": "stream",
     "text": [
      "progress: 10%\r"
     ]
    },
    {
     "name": "stdout",
     "output_type": "stream",
     "text": [
      "progress: 20%\r"
     ]
    },
    {
     "name": "stdout",
     "output_type": "stream",
     "text": [
      "progress: 30%\r"
     ]
    },
    {
     "name": "stdout",
     "output_type": "stream",
     "text": [
      "progress: 40%\r"
     ]
    },
    {
     "name": "stdout",
     "output_type": "stream",
     "text": [
      "progress: 50%\r"
     ]
    },
    {
     "name": "stdout",
     "output_type": "stream",
     "text": [
      "progress: 60%\r"
     ]
    },
    {
     "name": "stdout",
     "output_type": "stream",
     "text": [
      "progress: 70%\r"
     ]
    },
    {
     "name": "stdout",
     "output_type": "stream",
     "text": [
      "progress: 80%\r"
     ]
    },
    {
     "name": "stdout",
     "output_type": "stream",
     "text": [
      "progress: 90%\r"
     ]
    },
    {
     "name": "stdout",
     "output_type": "stream",
     "text": [
      "progress: 100%\r"
     ]
    },
    {
     "name": "stdout",
     "output_type": "stream",
     "text": [
      "progress: 100%\n"
     ]
    }
   ],
   "source": [
    "user_feature_embedding_to12 = utils.merge_feature(user_feature_embedding_to, 'topic1', 'topic2')\n",
    "user_feature_embedding_to123 = utils.merge_feature(user_feature_embedding_to12, 'topic1topic2', 'topic3')"
   ]
  },
  {
   "cell_type": "code",
   "execution_count": 47,
   "metadata": {},
   "outputs": [
    {
     "data": {
      "text/html": [
       "<div>\n",
       "<style scoped>\n",
       "    .dataframe tbody tr th:only-of-type {\n",
       "        vertical-align: middle;\n",
       "    }\n",
       "\n",
       "    .dataframe tbody tr th {\n",
       "        vertical-align: top;\n",
       "    }\n",
       "\n",
       "    .dataframe thead th {\n",
       "        text-align: right;\n",
       "    }\n",
       "</style>\n",
       "<table border=\"1\" class=\"dataframe\">\n",
       "  <thead>\n",
       "    <tr style=\"text-align: right;\">\n",
       "      <th></th>\n",
       "      <th>Unnamed: 0</th>\n",
       "      <th>uid</th>\n",
       "      <th>topic</th>\n",
       "    </tr>\n",
       "  </thead>\n",
       "  <tbody>\n",
       "    <tr>\n",
       "      <th>11420029</th>\n",
       "      <td>11420029</td>\n",
       "      <td>71132967</td>\n",
       "      <td>6687-7829-3450-1407-6578-10235-18318-10026-100...</td>\n",
       "    </tr>\n",
       "    <tr>\n",
       "      <th>11420030</th>\n",
       "      <td>11420030</td>\n",
       "      <td>26696723</td>\n",
       "      <td>644-6586-8525-2638-4367-15298-15810-10412-1467...</td>\n",
       "    </tr>\n",
       "    <tr>\n",
       "      <th>11420031</th>\n",
       "      <td>11420031</td>\n",
       "      <td>5568914</td>\n",
       "      <td>8783-4264-4466-6216-142-11094-10282-12902-1518...</td>\n",
       "    </tr>\n",
       "    <tr>\n",
       "      <th>11420032</th>\n",
       "      <td>11420032</td>\n",
       "      <td>23358525</td>\n",
       "      <td>16619-15954-12386-19412-18893</td>\n",
       "    </tr>\n",
       "    <tr>\n",
       "      <th>11420033</th>\n",
       "      <td>11420033</td>\n",
       "      <td>56878126</td>\n",
       "      <td>6579-9826-7113-244-8460-18655-14431-16477-1738...</td>\n",
       "    </tr>\n",
       "    <tr>\n",
       "      <th>11420034</th>\n",
       "      <td>11420034</td>\n",
       "      <td>7613183</td>\n",
       "      <td>50-2293-39-714-7688-16500-10263-11400-10895-12826</td>\n",
       "    </tr>\n",
       "    <tr>\n",
       "      <th>11420035</th>\n",
       "      <td>11420035</td>\n",
       "      <td>44380874</td>\n",
       "      <td>6096-4164-4783-2958-2136-15271-10026-17079-195...</td>\n",
       "    </tr>\n",
       "    <tr>\n",
       "      <th>11420036</th>\n",
       "      <td>11420036</td>\n",
       "      <td>23288734</td>\n",
       "      <td>9826-3039-3459-523-2535-15641-17571-12537-1840...</td>\n",
       "    </tr>\n",
       "    <tr>\n",
       "      <th>11420037</th>\n",
       "      <td>11420037</td>\n",
       "      <td>17482116</td>\n",
       "      <td>1557-4257-5029-6584-6896-10814-14194-14857-173...</td>\n",
       "    </tr>\n",
       "    <tr>\n",
       "      <th>11420038</th>\n",
       "      <td>11420038</td>\n",
       "      <td>46849102</td>\n",
       "      <td>7254-1661-5309-8575-6115-15199-13373-16431-118...</td>\n",
       "    </tr>\n",
       "  </tbody>\n",
       "</table>\n",
       "</div>"
      ],
      "text/plain": [
       "<div>\n",
       "<style scoped>\n",
       "    .dataframe tbody tr th:only-of-type {\n",
       "        vertical-align: middle;\n",
       "    }\n",
       "\n",
       "    .dataframe tbody tr th {\n",
       "        vertical-align: top;\n",
       "    }\n",
       "\n",
       "    .dataframe thead th {\n",
       "        text-align: right;\n",
       "    }\n",
       "</style>\n",
       "<table border=\"1\" class=\"dataframe\">\n",
       "  <thead>\n",
       "    <tr style=\"text-align: right;\">\n",
       "      <th></th>\n",
       "      <th>Unnamed: 0</th>\n",
       "      <th>uid</th>\n",
       "      <th>topic</th>\n",
       "    </tr>\n",
       "  </thead>\n",
       "  <tbody>\n",
       "    <tr>\n",
       "      <th>11420029</th>\n",
       "      <td>11420029</td>\n",
       "      <td>71132967</td>\n",
       "      <td>6687-7829-3450-1407-6578-10235-18318-10026-100...</td>\n",
       "    </tr>\n",
       "    <tr>\n",
       "      <th>11420030</th>\n",
       "      <td>11420030</td>\n",
       "      <td>26696723</td>\n",
       "      <td>644-6586-8525-2638-4367-15298-15810-10412-1467...</td>\n",
       "    </tr>\n",
       "    <tr>\n",
       "      <th>11420031</th>\n",
       "      <td>11420031</td>\n",
       "      <td>5568914</td>\n",
       "      <td>8783-4264-4466-6216-142-11094-10282-12902-1518...</td>\n",
       "    </tr>\n",
       "    <tr>\n",
       "      <th>11420032</th>\n",
       "      <td>11420032</td>\n",
       "      <td>23358525</td>\n",
       "      <td>16619-15954-12386-19412-18893</td>\n",
       "    </tr>\n",
       "    <tr>\n",
       "      <th>11420033</th>\n",
       "      <td>11420033</td>\n",
       "      <td>56878126</td>\n",
       "      <td>6579-9826-7113-244-8460-18655-14431-16477-1738...</td>\n",
       "    </tr>\n",
       "    <tr>\n",
       "      <th>11420034</th>\n",
       "      <td>11420034</td>\n",
       "      <td>7613183</td>\n",
       "      <td>50-2293-39-714-7688-16500-10263-11400-10895-12826</td>\n",
       "    </tr>\n",
       "    <tr>\n",
       "      <th>11420035</th>\n",
       "      <td>11420035</td>\n",
       "      <td>44380874</td>\n",
       "      <td>6096-4164-4783-2958-2136-15271-10026-17079-195...</td>\n",
       "    </tr>\n",
       "    <tr>\n",
       "      <th>11420036</th>\n",
       "      <td>11420036</td>\n",
       "      <td>23288734</td>\n",
       "      <td>9826-3039-3459-523-2535-15641-17571-12537-1840...</td>\n",
       "    </tr>\n",
       "    <tr>\n",
       "      <th>11420037</th>\n",
       "      <td>11420037</td>\n",
       "      <td>17482116</td>\n",
       "      <td>1557-4257-5029-6584-6896-10814-14194-14857-173...</td>\n",
       "    </tr>\n",
       "    <tr>\n",
       "      <th>11420038</th>\n",
       "      <td>11420038</td>\n",
       "      <td>46849102</td>\n",
       "      <td>7254-1661-5309-8575-6115-15199-13373-16431-118...</td>\n",
       "    </tr>\n",
       "  </tbody>\n",
       "</table>\n",
       "</div>"
      ]
     },
     "execution_count": 47,
     "metadata": {},
     "output_type": "execute_result"
    }
   ],
   "source": [
    "user_feature_embedding_to123.rename(columns={'topic1topic2topic3': 'topic'}, inplace=True)\n",
    "user_feature_embedding_to123.tail(10)"
   ]
  },
  {
   "cell_type": "code",
   "execution_count": 48,
   "metadata": {},
   "outputs": [],
   "source": [
    "user_feature_embedding_to123.to_csv('data/user_feature_embedding_to_merged.csv', columns=['uid', 'topic'], index=False)"
   ]
  },
  {
   "cell_type": "heading",
   "metadata": {},
   "level": 1,
   "source": [
    "加载app并合并"
   ]
  },
  {
   "cell_type": "code",
   "execution_count": 50,
   "metadata": {},
   "outputs": [],
   "source": [
    "user_feature_embedding_app = pd.read_csv('data/user_feature_embedding_app.csv')"
   ]
  },
  {
   "cell_type": "code",
   "execution_count": 51,
   "metadata": {},
   "outputs": [
    {
     "name": "stdout",
     "output_type": "stream",
     "text": [
      "progress: 100%\n"
     ]
    }
   ],
   "source": [
    "added_app2 = utils.add_base_for_all(user_feature_embedding_app['appIdAction'], 70000)"
   ]
  },
  {
   "cell_type": "code",
   "execution_count": 57,
   "metadata": {},
   "outputs": [
    {
     "data": {
      "text/html": [
       "<div>\n",
       "<style scoped>\n",
       "    .dataframe tbody tr th:only-of-type {\n",
       "        vertical-align: middle;\n",
       "    }\n",
       "\n",
       "    .dataframe tbody tr th {\n",
       "        vertical-align: top;\n",
       "    }\n",
       "\n",
       "    .dataframe thead th {\n",
       "        text-align: right;\n",
       "    }\n",
       "</style>\n",
       "<table border=\"1\" class=\"dataframe\">\n",
       "  <thead>\n",
       "    <tr style=\"text-align: right;\">\n",
       "      <th></th>\n",
       "      <th>Unnamed: 0</th>\n",
       "      <th>uid</th>\n",
       "      <th>appIdInstall</th>\n",
       "      <th>appIdAction</th>\n",
       "    </tr>\n",
       "  </thead>\n",
       "  <tbody>\n",
       "    <tr>\n",
       "      <th>11419939</th>\n",
       "      <td>11419939</td>\n",
       "      <td>43212985</td>\n",
       "      <td>NaN</td>\n",
       "      <td>NaN</td>\n",
       "    </tr>\n",
       "    <tr>\n",
       "      <th>11419940</th>\n",
       "      <td>11419940</td>\n",
       "      <td>80714503</td>\n",
       "      <td>NaN</td>\n",
       "      <td>NaN</td>\n",
       "    </tr>\n",
       "    <tr>\n",
       "      <th>11419941</th>\n",
       "      <td>11419941</td>\n",
       "      <td>17534046</td>\n",
       "      <td>NaN</td>\n",
       "      <td>NaN</td>\n",
       "    </tr>\n",
       "    <tr>\n",
       "      <th>11419942</th>\n",
       "      <td>11419942</td>\n",
       "      <td>79141155</td>\n",
       "      <td>NaN</td>\n",
       "      <td>74681-70908-74041-71171-72602</td>\n",
       "    </tr>\n",
       "    <tr>\n",
       "      <th>11419943</th>\n",
       "      <td>11419943</td>\n",
       "      <td>78087196</td>\n",
       "      <td>NaN</td>\n",
       "      <td>NaN</td>\n",
       "    </tr>\n",
       "    <tr>\n",
       "      <th>11419944</th>\n",
       "      <td>11419944</td>\n",
       "      <td>26012499</td>\n",
       "      <td>NaN</td>\n",
       "      <td>NaN</td>\n",
       "    </tr>\n",
       "    <tr>\n",
       "      <th>11419945</th>\n",
       "      <td>11419945</td>\n",
       "      <td>1273858</td>\n",
       "      <td>NaN</td>\n",
       "      <td>NaN</td>\n",
       "    </tr>\n",
       "    <tr>\n",
       "      <th>11419946</th>\n",
       "      <td>11419946</td>\n",
       "      <td>70184616</td>\n",
       "      <td>NaN</td>\n",
       "      <td>NaN</td>\n",
       "    </tr>\n",
       "    <tr>\n",
       "      <th>11419947</th>\n",
       "      <td>11419947</td>\n",
       "      <td>66381083</td>\n",
       "      <td>NaN</td>\n",
       "      <td>NaN</td>\n",
       "    </tr>\n",
       "    <tr>\n",
       "      <th>11419948</th>\n",
       "      <td>11419948</td>\n",
       "      <td>30848295</td>\n",
       "      <td>NaN</td>\n",
       "      <td>NaN</td>\n",
       "    </tr>\n",
       "    <tr>\n",
       "      <th>11419949</th>\n",
       "      <td>11419949</td>\n",
       "      <td>76033050</td>\n",
       "      <td>NaN</td>\n",
       "      <td>NaN</td>\n",
       "    </tr>\n",
       "    <tr>\n",
       "      <th>11419950</th>\n",
       "      <td>11419950</td>\n",
       "      <td>13260048</td>\n",
       "      <td>NaN</td>\n",
       "      <td>NaN</td>\n",
       "    </tr>\n",
       "    <tr>\n",
       "      <th>11419951</th>\n",
       "      <td>11419951</td>\n",
       "      <td>65129150</td>\n",
       "      <td>NaN</td>\n",
       "      <td>NaN</td>\n",
       "    </tr>\n",
       "    <tr>\n",
       "      <th>11419952</th>\n",
       "      <td>11419952</td>\n",
       "      <td>40248494</td>\n",
       "      <td>NaN</td>\n",
       "      <td>NaN</td>\n",
       "    </tr>\n",
       "    <tr>\n",
       "      <th>11419953</th>\n",
       "      <td>11419953</td>\n",
       "      <td>40013010</td>\n",
       "      <td>NaN</td>\n",
       "      <td>NaN</td>\n",
       "    </tr>\n",
       "    <tr>\n",
       "      <th>11419954</th>\n",
       "      <td>11419954</td>\n",
       "      <td>39927335</td>\n",
       "      <td>NaN</td>\n",
       "      <td>NaN</td>\n",
       "    </tr>\n",
       "    <tr>\n",
       "      <th>11419955</th>\n",
       "      <td>11419955</td>\n",
       "      <td>8818950</td>\n",
       "      <td>NaN</td>\n",
       "      <td>NaN</td>\n",
       "    </tr>\n",
       "    <tr>\n",
       "      <th>11419956</th>\n",
       "      <td>11419956</td>\n",
       "      <td>20046695</td>\n",
       "      <td>NaN</td>\n",
       "      <td>NaN</td>\n",
       "    </tr>\n",
       "    <tr>\n",
       "      <th>11419957</th>\n",
       "      <td>11419957</td>\n",
       "      <td>40465124</td>\n",
       "      <td>NaN</td>\n",
       "      <td>NaN</td>\n",
       "    </tr>\n",
       "    <tr>\n",
       "      <th>11419958</th>\n",
       "      <td>11419958</td>\n",
       "      <td>82216450</td>\n",
       "      <td>NaN</td>\n",
       "      <td>NaN</td>\n",
       "    </tr>\n",
       "    <tr>\n",
       "      <th>11419959</th>\n",
       "      <td>11419959</td>\n",
       "      <td>58909377</td>\n",
       "      <td>NaN</td>\n",
       "      <td>NaN</td>\n",
       "    </tr>\n",
       "    <tr>\n",
       "      <th>11419960</th>\n",
       "      <td>11419960</td>\n",
       "      <td>33920817</td>\n",
       "      <td>NaN</td>\n",
       "      <td>NaN</td>\n",
       "    </tr>\n",
       "    <tr>\n",
       "      <th>11419961</th>\n",
       "      <td>11419961</td>\n",
       "      <td>72361689</td>\n",
       "      <td>NaN</td>\n",
       "      <td>NaN</td>\n",
       "    </tr>\n",
       "    <tr>\n",
       "      <th>11419962</th>\n",
       "      <td>11419962</td>\n",
       "      <td>63387476</td>\n",
       "      <td>NaN</td>\n",
       "      <td>NaN</td>\n",
       "    </tr>\n",
       "    <tr>\n",
       "      <th>11419963</th>\n",
       "      <td>11419963</td>\n",
       "      <td>59771828</td>\n",
       "      <td>NaN</td>\n",
       "      <td>NaN</td>\n",
       "    </tr>\n",
       "    <tr>\n",
       "      <th>11419964</th>\n",
       "      <td>11419964</td>\n",
       "      <td>2160033</td>\n",
       "      <td>NaN</td>\n",
       "      <td>NaN</td>\n",
       "    </tr>\n",
       "    <tr>\n",
       "      <th>11419965</th>\n",
       "      <td>11419965</td>\n",
       "      <td>52908781</td>\n",
       "      <td>NaN</td>\n",
       "      <td>NaN</td>\n",
       "    </tr>\n",
       "    <tr>\n",
       "      <th>11419966</th>\n",
       "      <td>11419966</td>\n",
       "      <td>73491522</td>\n",
       "      <td>NaN</td>\n",
       "      <td>NaN</td>\n",
       "    </tr>\n",
       "    <tr>\n",
       "      <th>11419967</th>\n",
       "      <td>11419967</td>\n",
       "      <td>746554</td>\n",
       "      <td>NaN</td>\n",
       "      <td>NaN</td>\n",
       "    </tr>\n",
       "    <tr>\n",
       "      <th>11419968</th>\n",
       "      <td>11419968</td>\n",
       "      <td>71792318</td>\n",
       "      <td>NaN</td>\n",
       "      <td>NaN</td>\n",
       "    </tr>\n",
       "    <tr>\n",
       "      <th>...</th>\n",
       "      <td>...</td>\n",
       "      <td>...</td>\n",
       "      <td>...</td>\n",
       "      <td>...</td>\n",
       "    </tr>\n",
       "    <tr>\n",
       "      <th>11420009</th>\n",
       "      <td>11420009</td>\n",
       "      <td>28766696</td>\n",
       "      <td>NaN</td>\n",
       "      <td>NaN</td>\n",
       "    </tr>\n",
       "    <tr>\n",
       "      <th>11420010</th>\n",
       "      <td>11420010</td>\n",
       "      <td>9379016</td>\n",
       "      <td>NaN</td>\n",
       "      <td>NaN</td>\n",
       "    </tr>\n",
       "    <tr>\n",
       "      <th>11420011</th>\n",
       "      <td>11420011</td>\n",
       "      <td>36778060</td>\n",
       "      <td>NaN</td>\n",
       "      <td>NaN</td>\n",
       "    </tr>\n",
       "    <tr>\n",
       "      <th>11420012</th>\n",
       "      <td>11420012</td>\n",
       "      <td>65477341</td>\n",
       "      <td>NaN</td>\n",
       "      <td>NaN</td>\n",
       "    </tr>\n",
       "    <tr>\n",
       "      <th>11420013</th>\n",
       "      <td>11420013</td>\n",
       "      <td>62071751</td>\n",
       "      <td>NaN</td>\n",
       "      <td>NaN</td>\n",
       "    </tr>\n",
       "    <tr>\n",
       "      <th>11420014</th>\n",
       "      <td>11420014</td>\n",
       "      <td>23875871</td>\n",
       "      <td>NaN</td>\n",
       "      <td>NaN</td>\n",
       "    </tr>\n",
       "    <tr>\n",
       "      <th>11420015</th>\n",
       "      <td>11420015</td>\n",
       "      <td>72482685</td>\n",
       "      <td>NaN</td>\n",
       "      <td>NaN</td>\n",
       "    </tr>\n",
       "    <tr>\n",
       "      <th>11420016</th>\n",
       "      <td>11420016</td>\n",
       "      <td>49633124</td>\n",
       "      <td>NaN</td>\n",
       "      <td>NaN</td>\n",
       "    </tr>\n",
       "    <tr>\n",
       "      <th>11420017</th>\n",
       "      <td>11420017</td>\n",
       "      <td>34232279</td>\n",
       "      <td>NaN</td>\n",
       "      <td>NaN</td>\n",
       "    </tr>\n",
       "    <tr>\n",
       "      <th>11420018</th>\n",
       "      <td>11420018</td>\n",
       "      <td>43019794</td>\n",
       "      <td>NaN</td>\n",
       "      <td>NaN</td>\n",
       "    </tr>\n",
       "    <tr>\n",
       "      <th>11420019</th>\n",
       "      <td>11420019</td>\n",
       "      <td>9491382</td>\n",
       "      <td>NaN</td>\n",
       "      <td>NaN</td>\n",
       "    </tr>\n",
       "    <tr>\n",
       "      <th>11420020</th>\n",
       "      <td>11420020</td>\n",
       "      <td>56646987</td>\n",
       "      <td>NaN</td>\n",
       "      <td>NaN</td>\n",
       "    </tr>\n",
       "    <tr>\n",
       "      <th>11420021</th>\n",
       "      <td>11420021</td>\n",
       "      <td>2382797</td>\n",
       "      <td>NaN</td>\n",
       "      <td>NaN</td>\n",
       "    </tr>\n",
       "    <tr>\n",
       "      <th>11420022</th>\n",
       "      <td>11420022</td>\n",
       "      <td>80135113</td>\n",
       "      <td>NaN</td>\n",
       "      <td>NaN</td>\n",
       "    </tr>\n",
       "    <tr>\n",
       "      <th>11420023</th>\n",
       "      <td>11420023</td>\n",
       "      <td>56723604</td>\n",
       "      <td>NaN</td>\n",
       "      <td>NaN</td>\n",
       "    </tr>\n",
       "    <tr>\n",
       "      <th>11420024</th>\n",
       "      <td>11420024</td>\n",
       "      <td>77888846</td>\n",
       "      <td>NaN</td>\n",
       "      <td>NaN</td>\n",
       "    </tr>\n",
       "    <tr>\n",
       "      <th>11420025</th>\n",
       "      <td>11420025</td>\n",
       "      <td>67598382</td>\n",
       "      <td>NaN</td>\n",
       "      <td>NaN</td>\n",
       "    </tr>\n",
       "    <tr>\n",
       "      <th>11420026</th>\n",
       "      <td>11420026</td>\n",
       "      <td>60350852</td>\n",
       "      <td>NaN</td>\n",
       "      <td>NaN</td>\n",
       "    </tr>\n",
       "    <tr>\n",
       "      <th>11420027</th>\n",
       "      <td>11420027</td>\n",
       "      <td>60142126</td>\n",
       "      <td>NaN</td>\n",
       "      <td>NaN</td>\n",
       "    </tr>\n",
       "    <tr>\n",
       "      <th>11420028</th>\n",
       "      <td>11420028</td>\n",
       "      <td>16562764</td>\n",
       "      <td>NaN</td>\n",
       "      <td>NaN</td>\n",
       "    </tr>\n",
       "    <tr>\n",
       "      <th>11420029</th>\n",
       "      <td>11420029</td>\n",
       "      <td>71132967</td>\n",
       "      <td>NaN</td>\n",
       "      <td>NaN</td>\n",
       "    </tr>\n",
       "    <tr>\n",
       "      <th>11420030</th>\n",
       "      <td>11420030</td>\n",
       "      <td>26696723</td>\n",
       "      <td>NaN</td>\n",
       "      <td>NaN</td>\n",
       "    </tr>\n",
       "    <tr>\n",
       "      <th>11420031</th>\n",
       "      <td>11420031</td>\n",
       "      <td>5568914</td>\n",
       "      <td>NaN</td>\n",
       "      <td>NaN</td>\n",
       "    </tr>\n",
       "    <tr>\n",
       "      <th>11420032</th>\n",
       "      <td>11420032</td>\n",
       "      <td>23358525</td>\n",
       "      <td>NaN</td>\n",
       "      <td>NaN</td>\n",
       "    </tr>\n",
       "    <tr>\n",
       "      <th>11420033</th>\n",
       "      <td>11420033</td>\n",
       "      <td>56878126</td>\n",
       "      <td>NaN</td>\n",
       "      <td>NaN</td>\n",
       "    </tr>\n",
       "    <tr>\n",
       "      <th>11420034</th>\n",
       "      <td>11420034</td>\n",
       "      <td>7613183</td>\n",
       "      <td>NaN</td>\n",
       "      <td>NaN</td>\n",
       "    </tr>\n",
       "    <tr>\n",
       "      <th>11420035</th>\n",
       "      <td>11420035</td>\n",
       "      <td>44380874</td>\n",
       "      <td>NaN</td>\n",
       "      <td>NaN</td>\n",
       "    </tr>\n",
       "    <tr>\n",
       "      <th>11420036</th>\n",
       "      <td>11420036</td>\n",
       "      <td>23288734</td>\n",
       "      <td>NaN</td>\n",
       "      <td>NaN</td>\n",
       "    </tr>\n",
       "    <tr>\n",
       "      <th>11420037</th>\n",
       "      <td>11420037</td>\n",
       "      <td>17482116</td>\n",
       "      <td>NaN</td>\n",
       "      <td>NaN</td>\n",
       "    </tr>\n",
       "    <tr>\n",
       "      <th>11420038</th>\n",
       "      <td>11420038</td>\n",
       "      <td>46849102</td>\n",
       "      <td>NaN</td>\n",
       "      <td>NaN</td>\n",
       "    </tr>\n",
       "  </tbody>\n",
       "</table>\n",
       "<p>100 rows × 4 columns</p>\n",
       "</div>"
      ],
      "text/plain": [
       "<div>\n",
       "<style scoped>\n",
       "    .dataframe tbody tr th:only-of-type {\n",
       "        vertical-align: middle;\n",
       "    }\n",
       "\n",
       "    .dataframe tbody tr th {\n",
       "        vertical-align: top;\n",
       "    }\n",
       "\n",
       "    .dataframe thead th {\n",
       "        text-align: right;\n",
       "    }\n",
       "</style>\n",
       "<table border=\"1\" class=\"dataframe\">\n",
       "  <thead>\n",
       "    <tr style=\"text-align: right;\">\n",
       "      <th></th>\n",
       "      <th>Unnamed: 0</th>\n",
       "      <th>uid</th>\n",
       "      <th>appIdInstall</th>\n",
       "      <th>appIdAction</th>\n",
       "    </tr>\n",
       "  </thead>\n",
       "  <tbody>\n",
       "    <tr>\n",
       "      <th>11419939</th>\n",
       "      <td>11419939</td>\n",
       "      <td>43212985</td>\n",
       "      <td>NaN</td>\n",
       "      <td>NaN</td>\n",
       "    </tr>\n",
       "    <tr>\n",
       "      <th>11419940</th>\n",
       "      <td>11419940</td>\n",
       "      <td>80714503</td>\n",
       "      <td>NaN</td>\n",
       "      <td>NaN</td>\n",
       "    </tr>\n",
       "    <tr>\n",
       "      <th>11419941</th>\n",
       "      <td>11419941</td>\n",
       "      <td>17534046</td>\n",
       "      <td>NaN</td>\n",
       "      <td>NaN</td>\n",
       "    </tr>\n",
       "    <tr>\n",
       "      <th>11419942</th>\n",
       "      <td>11419942</td>\n",
       "      <td>79141155</td>\n",
       "      <td>NaN</td>\n",
       "      <td>74681-70908-74041-71171-72602</td>\n",
       "    </tr>\n",
       "    <tr>\n",
       "      <th>11419943</th>\n",
       "      <td>11419943</td>\n",
       "      <td>78087196</td>\n",
       "      <td>NaN</td>\n",
       "      <td>NaN</td>\n",
       "    </tr>\n",
       "    <tr>\n",
       "      <th>11419944</th>\n",
       "      <td>11419944</td>\n",
       "      <td>26012499</td>\n",
       "      <td>NaN</td>\n",
       "      <td>NaN</td>\n",
       "    </tr>\n",
       "    <tr>\n",
       "      <th>11419945</th>\n",
       "      <td>11419945</td>\n",
       "      <td>1273858</td>\n",
       "      <td>NaN</td>\n",
       "      <td>NaN</td>\n",
       "    </tr>\n",
       "    <tr>\n",
       "      <th>11419946</th>\n",
       "      <td>11419946</td>\n",
       "      <td>70184616</td>\n",
       "      <td>NaN</td>\n",
       "      <td>NaN</td>\n",
       "    </tr>\n",
       "    <tr>\n",
       "      <th>11419947</th>\n",
       "      <td>11419947</td>\n",
       "      <td>66381083</td>\n",
       "      <td>NaN</td>\n",
       "      <td>NaN</td>\n",
       "    </tr>\n",
       "    <tr>\n",
       "      <th>11419948</th>\n",
       "      <td>11419948</td>\n",
       "      <td>30848295</td>\n",
       "      <td>NaN</td>\n",
       "      <td>NaN</td>\n",
       "    </tr>\n",
       "    <tr>\n",
       "      <th>11419949</th>\n",
       "      <td>11419949</td>\n",
       "      <td>76033050</td>\n",
       "      <td>NaN</td>\n",
       "      <td>NaN</td>\n",
       "    </tr>\n",
       "    <tr>\n",
       "      <th>11419950</th>\n",
       "      <td>11419950</td>\n",
       "      <td>13260048</td>\n",
       "      <td>NaN</td>\n",
       "      <td>NaN</td>\n",
       "    </tr>\n",
       "    <tr>\n",
       "      <th>11419951</th>\n",
       "      <td>11419951</td>\n",
       "      <td>65129150</td>\n",
       "      <td>NaN</td>\n",
       "      <td>NaN</td>\n",
       "    </tr>\n",
       "    <tr>\n",
       "      <th>11419952</th>\n",
       "      <td>11419952</td>\n",
       "      <td>40248494</td>\n",
       "      <td>NaN</td>\n",
       "      <td>NaN</td>\n",
       "    </tr>\n",
       "    <tr>\n",
       "      <th>11419953</th>\n",
       "      <td>11419953</td>\n",
       "      <td>40013010</td>\n",
       "      <td>NaN</td>\n",
       "      <td>NaN</td>\n",
       "    </tr>\n",
       "    <tr>\n",
       "      <th>11419954</th>\n",
       "      <td>11419954</td>\n",
       "      <td>39927335</td>\n",
       "      <td>NaN</td>\n",
       "      <td>NaN</td>\n",
       "    </tr>\n",
       "    <tr>\n",
       "      <th>11419955</th>\n",
       "      <td>11419955</td>\n",
       "      <td>8818950</td>\n",
       "      <td>NaN</td>\n",
       "      <td>NaN</td>\n",
       "    </tr>\n",
       "    <tr>\n",
       "      <th>11419956</th>\n",
       "      <td>11419956</td>\n",
       "      <td>20046695</td>\n",
       "      <td>NaN</td>\n",
       "      <td>NaN</td>\n",
       "    </tr>\n",
       "    <tr>\n",
       "      <th>11419957</th>\n",
       "      <td>11419957</td>\n",
       "      <td>40465124</td>\n",
       "      <td>NaN</td>\n",
       "      <td>NaN</td>\n",
       "    </tr>\n",
       "    <tr>\n",
       "      <th>11419958</th>\n",
       "      <td>11419958</td>\n",
       "      <td>82216450</td>\n",
       "      <td>NaN</td>\n",
       "      <td>NaN</td>\n",
       "    </tr>\n",
       "    <tr>\n",
       "      <th>11419959</th>\n",
       "      <td>11419959</td>\n",
       "      <td>58909377</td>\n",
       "      <td>NaN</td>\n",
       "      <td>NaN</td>\n",
       "    </tr>\n",
       "    <tr>\n",
       "      <th>11419960</th>\n",
       "      <td>11419960</td>\n",
       "      <td>33920817</td>\n",
       "      <td>NaN</td>\n",
       "      <td>NaN</td>\n",
       "    </tr>\n",
       "    <tr>\n",
       "      <th>11419961</th>\n",
       "      <td>11419961</td>\n",
       "      <td>72361689</td>\n",
       "      <td>NaN</td>\n",
       "      <td>NaN</td>\n",
       "    </tr>\n",
       "    <tr>\n",
       "      <th>11419962</th>\n",
       "      <td>11419962</td>\n",
       "      <td>63387476</td>\n",
       "      <td>NaN</td>\n",
       "      <td>NaN</td>\n",
       "    </tr>\n",
       "    <tr>\n",
       "      <th>11419963</th>\n",
       "      <td>11419963</td>\n",
       "      <td>59771828</td>\n",
       "      <td>NaN</td>\n",
       "      <td>NaN</td>\n",
       "    </tr>\n",
       "    <tr>\n",
       "      <th>11419964</th>\n",
       "      <td>11419964</td>\n",
       "      <td>2160033</td>\n",
       "      <td>NaN</td>\n",
       "      <td>NaN</td>\n",
       "    </tr>\n",
       "    <tr>\n",
       "      <th>11419965</th>\n",
       "      <td>11419965</td>\n",
       "      <td>52908781</td>\n",
       "      <td>NaN</td>\n",
       "      <td>NaN</td>\n",
       "    </tr>\n",
       "    <tr>\n",
       "      <th>11419966</th>\n",
       "      <td>11419966</td>\n",
       "      <td>73491522</td>\n",
       "      <td>NaN</td>\n",
       "      <td>NaN</td>\n",
       "    </tr>\n",
       "    <tr>\n",
       "      <th>11419967</th>\n",
       "      <td>11419967</td>\n",
       "      <td>746554</td>\n",
       "      <td>NaN</td>\n",
       "      <td>NaN</td>\n",
       "    </tr>\n",
       "    <tr>\n",
       "      <th>11419968</th>\n",
       "      <td>11419968</td>\n",
       "      <td>71792318</td>\n",
       "      <td>NaN</td>\n",
       "      <td>NaN</td>\n",
       "    </tr>\n",
       "    <tr>\n",
       "      <th>...</th>\n",
       "      <td>...</td>\n",
       "      <td>...</td>\n",
       "      <td>...</td>\n",
       "      <td>...</td>\n",
       "    </tr>\n",
       "    <tr>\n",
       "      <th>11420009</th>\n",
       "      <td>11420009</td>\n",
       "      <td>28766696</td>\n",
       "      <td>NaN</td>\n",
       "      <td>NaN</td>\n",
       "    </tr>\n",
       "    <tr>\n",
       "      <th>11420010</th>\n",
       "      <td>11420010</td>\n",
       "      <td>9379016</td>\n",
       "      <td>NaN</td>\n",
       "      <td>NaN</td>\n",
       "    </tr>\n",
       "    <tr>\n",
       "      <th>11420011</th>\n",
       "      <td>11420011</td>\n",
       "      <td>36778060</td>\n",
       "      <td>NaN</td>\n",
       "      <td>NaN</td>\n",
       "    </tr>\n",
       "    <tr>\n",
       "      <th>11420012</th>\n",
       "      <td>11420012</td>\n",
       "      <td>65477341</td>\n",
       "      <td>NaN</td>\n",
       "      <td>NaN</td>\n",
       "    </tr>\n",
       "    <tr>\n",
       "      <th>11420013</th>\n",
       "      <td>11420013</td>\n",
       "      <td>62071751</td>\n",
       "      <td>NaN</td>\n",
       "      <td>NaN</td>\n",
       "    </tr>\n",
       "    <tr>\n",
       "      <th>11420014</th>\n",
       "      <td>11420014</td>\n",
       "      <td>23875871</td>\n",
       "      <td>NaN</td>\n",
       "      <td>NaN</td>\n",
       "    </tr>\n",
       "    <tr>\n",
       "      <th>11420015</th>\n",
       "      <td>11420015</td>\n",
       "      <td>72482685</td>\n",
       "      <td>NaN</td>\n",
       "      <td>NaN</td>\n",
       "    </tr>\n",
       "    <tr>\n",
       "      <th>11420016</th>\n",
       "      <td>11420016</td>\n",
       "      <td>49633124</td>\n",
       "      <td>NaN</td>\n",
       "      <td>NaN</td>\n",
       "    </tr>\n",
       "    <tr>\n",
       "      <th>11420017</th>\n",
       "      <td>11420017</td>\n",
       "      <td>34232279</td>\n",
       "      <td>NaN</td>\n",
       "      <td>NaN</td>\n",
       "    </tr>\n",
       "    <tr>\n",
       "      <th>11420018</th>\n",
       "      <td>11420018</td>\n",
       "      <td>43019794</td>\n",
       "      <td>NaN</td>\n",
       "      <td>NaN</td>\n",
       "    </tr>\n",
       "    <tr>\n",
       "      <th>11420019</th>\n",
       "      <td>11420019</td>\n",
       "      <td>9491382</td>\n",
       "      <td>NaN</td>\n",
       "      <td>NaN</td>\n",
       "    </tr>\n",
       "    <tr>\n",
       "      <th>11420020</th>\n",
       "      <td>11420020</td>\n",
       "      <td>56646987</td>\n",
       "      <td>NaN</td>\n",
       "      <td>NaN</td>\n",
       "    </tr>\n",
       "    <tr>\n",
       "      <th>11420021</th>\n",
       "      <td>11420021</td>\n",
       "      <td>2382797</td>\n",
       "      <td>NaN</td>\n",
       "      <td>NaN</td>\n",
       "    </tr>\n",
       "    <tr>\n",
       "      <th>11420022</th>\n",
       "      <td>11420022</td>\n",
       "      <td>80135113</td>\n",
       "      <td>NaN</td>\n",
       "      <td>NaN</td>\n",
       "    </tr>\n",
       "    <tr>\n",
       "      <th>11420023</th>\n",
       "      <td>11420023</td>\n",
       "      <td>56723604</td>\n",
       "      <td>NaN</td>\n",
       "      <td>NaN</td>\n",
       "    </tr>\n",
       "    <tr>\n",
       "      <th>11420024</th>\n",
       "      <td>11420024</td>\n",
       "      <td>77888846</td>\n",
       "      <td>NaN</td>\n",
       "      <td>NaN</td>\n",
       "    </tr>\n",
       "    <tr>\n",
       "      <th>11420025</th>\n",
       "      <td>11420025</td>\n",
       "      <td>67598382</td>\n",
       "      <td>NaN</td>\n",
       "      <td>NaN</td>\n",
       "    </tr>\n",
       "    <tr>\n",
       "      <th>11420026</th>\n",
       "      <td>11420026</td>\n",
       "      <td>60350852</td>\n",
       "      <td>NaN</td>\n",
       "      <td>NaN</td>\n",
       "    </tr>\n",
       "    <tr>\n",
       "      <th>11420027</th>\n",
       "      <td>11420027</td>\n",
       "      <td>60142126</td>\n",
       "      <td>NaN</td>\n",
       "      <td>NaN</td>\n",
       "    </tr>\n",
       "    <tr>\n",
       "      <th>11420028</th>\n",
       "      <td>11420028</td>\n",
       "      <td>16562764</td>\n",
       "      <td>NaN</td>\n",
       "      <td>NaN</td>\n",
       "    </tr>\n",
       "    <tr>\n",
       "      <th>11420029</th>\n",
       "      <td>11420029</td>\n",
       "      <td>71132967</td>\n",
       "      <td>NaN</td>\n",
       "      <td>NaN</td>\n",
       "    </tr>\n",
       "    <tr>\n",
       "      <th>11420030</th>\n",
       "      <td>11420030</td>\n",
       "      <td>26696723</td>\n",
       "      <td>NaN</td>\n",
       "      <td>NaN</td>\n",
       "    </tr>\n",
       "    <tr>\n",
       "      <th>11420031</th>\n",
       "      <td>11420031</td>\n",
       "      <td>5568914</td>\n",
       "      <td>NaN</td>\n",
       "      <td>NaN</td>\n",
       "    </tr>\n",
       "    <tr>\n",
       "      <th>11420032</th>\n",
       "      <td>11420032</td>\n",
       "      <td>23358525</td>\n",
       "      <td>NaN</td>\n",
       "      <td>NaN</td>\n",
       "    </tr>\n",
       "    <tr>\n",
       "      <th>11420033</th>\n",
       "      <td>11420033</td>\n",
       "      <td>56878126</td>\n",
       "      <td>NaN</td>\n",
       "      <td>NaN</td>\n",
       "    </tr>\n",
       "    <tr>\n",
       "      <th>11420034</th>\n",
       "      <td>11420034</td>\n",
       "      <td>7613183</td>\n",
       "      <td>NaN</td>\n",
       "      <td>NaN</td>\n",
       "    </tr>\n",
       "    <tr>\n",
       "      <th>11420035</th>\n",
       "      <td>11420035</td>\n",
       "      <td>44380874</td>\n",
       "      <td>NaN</td>\n",
       "      <td>NaN</td>\n",
       "    </tr>\n",
       "    <tr>\n",
       "      <th>11420036</th>\n",
       "      <td>11420036</td>\n",
       "      <td>23288734</td>\n",
       "      <td>NaN</td>\n",
       "      <td>NaN</td>\n",
       "    </tr>\n",
       "    <tr>\n",
       "      <th>11420037</th>\n",
       "      <td>11420037</td>\n",
       "      <td>17482116</td>\n",
       "      <td>NaN</td>\n",
       "      <td>NaN</td>\n",
       "    </tr>\n",
       "    <tr>\n",
       "      <th>11420038</th>\n",
       "      <td>11420038</td>\n",
       "      <td>46849102</td>\n",
       "      <td>NaN</td>\n",
       "      <td>NaN</td>\n",
       "    </tr>\n",
       "  </tbody>\n",
       "</table>\n",
       "<p>100 rows × 4 columns</p>\n",
       "</div>"
      ]
     },
     "execution_count": 57,
     "metadata": {},
     "output_type": "execute_result"
    }
   ],
   "source": [
    "user_feature_embedding_app['appIdAction'] = added_app2 \n",
    "user_feature_embedding_app.tail(100)"
   ]
  },
  {
   "cell_type": "code",
   "execution_count": 58,
   "metadata": {},
   "outputs": [
    {
     "name": "stdout",
     "output_type": "stream",
     "text": [
      "progress: 0%\r"
     ]
    },
    {
     "name": "stdout",
     "output_type": "stream",
     "text": [
      "progress: 10%\r"
     ]
    },
    {
     "name": "stdout",
     "output_type": "stream",
     "text": [
      "progress: 20%\r"
     ]
    },
    {
     "name": "stdout",
     "output_type": "stream",
     "text": [
      "progress: 30%\r"
     ]
    },
    {
     "name": "stdout",
     "output_type": "stream",
     "text": [
      "progress: 40%\r"
     ]
    },
    {
     "name": "stdout",
     "output_type": "stream",
     "text": [
      "progress: 50%\r"
     ]
    },
    {
     "name": "stdout",
     "output_type": "stream",
     "text": [
      "progress: 60%\r"
     ]
    },
    {
     "name": "stdout",
     "output_type": "stream",
     "text": [
      "progress: 70%\r"
     ]
    },
    {
     "name": "stdout",
     "output_type": "stream",
     "text": [
      "progress: 80%\r"
     ]
    },
    {
     "name": "stdout",
     "output_type": "stream",
     "text": [
      "progress: 90%\r"
     ]
    },
    {
     "name": "stdout",
     "output_type": "stream",
     "text": [
      "progress: 100%\r"
     ]
    },
    {
     "name": "stdout",
     "output_type": "stream",
     "text": [
      "progress: 100%\n"
     ]
    }
   ],
   "source": [
    "user_feature_embedding_app12 = utils.merge_feature(user_feature_embedding_app, 'appIdInstall', 'appIdAction')"
   ]
  },
  {
   "cell_type": "code",
   "execution_count": 59,
   "metadata": {},
   "outputs": [],
   "source": [
    "user_feature_embedding_app12.rename(columns={'appIdInstallappIdAction': 'appId'}, inplace=True)\n"
   ]
  },
  {
   "cell_type": "code",
   "execution_count": 60,
   "metadata": {},
   "outputs": [],
   "source": [
    "user_feature_embedding_app12.to_csv('data/user_feature_embedding_app_merged.csv', columns=['uid', 'appId'], index=False)"
   ]
  }
 ],
 "metadata": {
  "kernelspec": {
   "display_name": "Python 2",
   "language": "python",
   "name": "python2"
  },
  "language_info": {
   "codemirror_mode": {
    "name": "ipython",
    "version": 2
   },
   "file_extension": ".py",
   "mimetype": "text/x-python",
   "name": "python",
   "nbconvert_exporter": "python",
   "pygments_lexer": "ipython2",
   "version": "2.7.6"
  }
 },
 "nbformat": 4,
 "nbformat_minor": 0
}
