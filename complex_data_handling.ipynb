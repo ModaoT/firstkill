{
 "cells": [
  {
   "cell_type": "code",
   "execution_count": 1,
   "metadata": {
    "collapsed": true
   },
   "outputs": [],
   "source": [
    "# 数据处理工具\n",
    "import pandas as pd\n",
    "import numpy as np\n",
    "import random as rnd\n",
    "from collections import Counter\n",
    "import utils\n",
    "\n",
    "# 可视化工具\n",
    "import seaborn as sns\n",
    "import matplotlib.pyplot as plt\n",
    "%matplotlib inline\n",
    "\n",
    "\n",
    "column_base = ['uid', 'age', 'gender', 'marriageStatus', 'education', 'consumptionAbility',\n",
    "               'LBS', 'ct', 'os', 'carrier', 'house']\n",
    "column_embedding = ['uid', 'interest1', 'interest2', 'interest3', 'interest4', 'interest5',\n",
    "                    'kw1', 'kw2', 'kw3',\n",
    "                    'topic1', 'topic2', 'topic3',\n",
    "                    'appIdInstall', 'appIdAction']"
   ]
  },
  {
   "cell_type": "code",
   "execution_count": 2,
   "metadata": {},
   "outputs": [],
   "source": [
    "user_feature_embedding_int = pd.read_csv('data/user_feature_embedding_int.csv')"
   ]
  },
  {
   "cell_type": "code",
   "execution_count": 3,
   "metadata": {},
   "outputs": [
    {
     "name": "stdout",
     "output_type": "stream",
     "text": [
      "progress: 0%\r"
     ]
    },
    {
     "name": "stdout",
     "output_type": "stream",
     "text": [
      "progress: 10%\r"
     ]
    },
    {
     "name": "stdout",
     "output_type": "stream",
     "text": [
      "progress: 20%\r"
     ]
    }
   ],
   "source": [
    "added_int2 = utils.add_base_for_all(user_feature_embedding_int['interest2'], 200)\n",
    "added_int3 = utils.add_base_for_all(user_feature_embedding_int['interest3'], 300)"
   ]
  },
  {
   "cell_type": "code",
   "execution_count": 6,
   "metadata": {},
   "outputs": [
    {
     "name": "stdout",
     "output_type": "stream",
     "text": [
      "progress: 100%\n"
     ]
    },
    {
     "name": "stdout",
     "output_type": "stream",
     "text": [
      "progress: 0%\r"
     ]
    },
    {
     "name": "stdout",
     "output_type": "stream",
     "text": [
      "progress: 20%\r"
     ]
    },
    {
     "name": "stdout",
     "output_type": "stream",
     "text": [
      "progress: 40%\r"
     ]
    },
    {
     "name": "stdout",
     "output_type": "stream",
     "text": [
      "progress: 60%\r"
     ]
    },
    {
     "name": "stdout",
     "output_type": "stream",
     "text": [
      "progress: 70%\r"
     ]
    },
    {
     "name": "stdout",
     "output_type": "stream",
     "text": [
      "progress: 90%\r"
     ]
    },
    {
     "name": "stdout",
     "output_type": "stream",
     "text": [
      "progress: 100%\r"
     ]
    },
    {
     "name": "stdout",
     "output_type": "stream",
     "text": [
      "progress: 100%\n"
     ]
    }
   ],
   "source": [
    "added_int4 = utils.add_base_for_all(user_feature_embedding_int['interest4'], 400)\n",
    "added_int5 = utils.add_base_for_all(user_feature_embedding_int['interest5'], 500)"
   ]
  },
  {
   "cell_type": "code",
   "execution_count": 8,
   "metadata": {},
   "outputs": [
    {
     "data": {
      "text/html": [
       "<div>\n",
       "<style scoped>\n",
       "    .dataframe tbody tr th:only-of-type {\n",
       "        vertical-align: middle;\n",
       "    }\n",
       "\n",
       "    .dataframe tbody tr th {\n",
       "        vertical-align: top;\n",
       "    }\n",
       "\n",
       "    .dataframe thead th {\n",
       "        text-align: right;\n",
       "    }\n",
       "</style>\n",
       "<table border=\"1\" class=\"dataframe\">\n",
       "  <thead>\n",
       "    <tr style=\"text-align: right;\">\n",
       "      <th></th>\n",
       "      <th>Unnamed: 0</th>\n",
       "      <th>uid</th>\n",
       "      <th>interest1</th>\n",
       "      <th>interest2</th>\n",
       "      <th>interest3</th>\n",
       "      <th>interest4</th>\n",
       "      <th>interest5</th>\n",
       "    </tr>\n",
       "  </thead>\n",
       "  <tbody>\n",
       "    <tr>\n",
       "      <th>0</th>\n",
       "      <td>0</td>\n",
       "      <td>26325489</td>\n",
       "      <td>93-70-77-86-109-47-75-69-45-8-29-49-83-6-46-36...</td>\n",
       "      <td>246-219-213-229</td>\n",
       "      <td>NaN</td>\n",
       "      <td>NaN</td>\n",
       "      <td>552-600-572-631-616-511-571-512-508-613-528-57...</td>\n",
       "    </tr>\n",
       "    <tr>\n",
       "      <th>1</th>\n",
       "      <td>1</td>\n",
       "      <td>1184123</td>\n",
       "      <td>75-29</td>\n",
       "      <td>233</td>\n",
       "      <td>NaN</td>\n",
       "      <td>NaN</td>\n",
       "      <td>NaN</td>\n",
       "    </tr>\n",
       "    <tr>\n",
       "      <th>2</th>\n",
       "      <td>2</td>\n",
       "      <td>76072711</td>\n",
       "      <td>70-12-28-106-59-49-41-6-42-115-35-116-36-11-96</td>\n",
       "      <td>251-222-279-281-270-206-221-204-241-235</td>\n",
       "      <td>NaN</td>\n",
       "      <td>NaN</td>\n",
       "      <td>577-572-580-616-601-513-501-609-508-550-506-54...</td>\n",
       "    </tr>\n",
       "    <tr>\n",
       "      <th>3</th>\n",
       "      <td>3</td>\n",
       "      <td>63071413</td>\n",
       "      <td>93-70-77-47-76-75-69-29-59-49-122-42-46-23-17-...</td>\n",
       "      <td>224-270-219-213-230-210</td>\n",
       "      <td>NaN</td>\n",
       "      <td>NaN</td>\n",
       "      <td>600-580-592-537-616-513-547-504-571-508-550-52...</td>\n",
       "    </tr>\n",
       "    <tr>\n",
       "      <th>4</th>\n",
       "      <td>4</td>\n",
       "      <td>81294159</td>\n",
       "      <td>75-29-49-122-36-11</td>\n",
       "      <td>NaN</td>\n",
       "      <td>NaN</td>\n",
       "      <td>NaN</td>\n",
       "      <td>631-616-513-508-506-632-542-509-559-518-558-56...</td>\n",
       "    </tr>\n",
       "    <tr>\n",
       "      <th>5</th>\n",
       "      <td>5</td>\n",
       "      <td>26419924</td>\n",
       "      <td>NaN</td>\n",
       "      <td>NaN</td>\n",
       "      <td>NaN</td>\n",
       "      <td>NaN</td>\n",
       "      <td>NaN</td>\n",
       "    </tr>\n",
       "    <tr>\n",
       "      <th>6</th>\n",
       "      <td>6</td>\n",
       "      <td>3467967</td>\n",
       "      <td>70-76-106-36-11</td>\n",
       "      <td>224-230</td>\n",
       "      <td>NaN</td>\n",
       "      <td>NaN</td>\n",
       "      <td>552-572-631-537-547-579-571-508-613-550-516-50...</td>\n",
       "    </tr>\n",
       "    <tr>\n",
       "      <th>7</th>\n",
       "      <td>7</td>\n",
       "      <td>54125482</td>\n",
       "      <td>93-70-77-47-75-69-29-49-27-6-53-19-46-56-36-11...</td>\n",
       "      <td>209-221</td>\n",
       "      <td>NaN</td>\n",
       "      <td>NaN</td>\n",
       "      <td>572-592-616-513-547-578-571-508-530-550-528-50...</td>\n",
       "    </tr>\n",
       "    <tr>\n",
       "      <th>8</th>\n",
       "      <td>8</td>\n",
       "      <td>29339838</td>\n",
       "      <td>93-70-118-109-1-76-69-102-28-8-59-49-6-18-39-4...</td>\n",
       "      <td>247-273-253-246-204-248-229</td>\n",
       "      <td>NaN</td>\n",
       "      <td>NaN</td>\n",
       "      <td>600-572-529-528-520-546</td>\n",
       "    </tr>\n",
       "    <tr>\n",
       "      <th>9</th>\n",
       "      <td>9</td>\n",
       "      <td>3741280</td>\n",
       "      <td>70-76</td>\n",
       "      <td>247-231-232-244</td>\n",
       "      <td>NaN</td>\n",
       "      <td>NaN</td>\n",
       "      <td>577-600-572-592-616-547-609-508-550-586-528-50...</td>\n",
       "    </tr>\n",
       "  </tbody>\n",
       "</table>\n",
       "</div>"
      ],
      "text/plain": [
       "<div>\n",
       "<style scoped>\n",
       "    .dataframe tbody tr th:only-of-type {\n",
       "        vertical-align: middle;\n",
       "    }\n",
       "\n",
       "    .dataframe tbody tr th {\n",
       "        vertical-align: top;\n",
       "    }\n",
       "\n",
       "    .dataframe thead th {\n",
       "        text-align: right;\n",
       "    }\n",
       "</style>\n",
       "<table border=\"1\" class=\"dataframe\">\n",
       "  <thead>\n",
       "    <tr style=\"text-align: right;\">\n",
       "      <th></th>\n",
       "      <th>Unnamed: 0</th>\n",
       "      <th>uid</th>\n",
       "      <th>interest1</th>\n",
       "      <th>interest2</th>\n",
       "      <th>interest3</th>\n",
       "      <th>interest4</th>\n",
       "      <th>interest5</th>\n",
       "    </tr>\n",
       "  </thead>\n",
       "  <tbody>\n",
       "    <tr>\n",
       "      <th>0</th>\n",
       "      <td>0</td>\n",
       "      <td>26325489</td>\n",
       "      <td>93-70-77-86-109-47-75-69-45-8-29-49-83-6-46-36...</td>\n",
       "      <td>246-219-213-229</td>\n",
       "      <td>NaN</td>\n",
       "      <td>NaN</td>\n",
       "      <td>552-600-572-631-616-511-571-512-508-613-528-57...</td>\n",
       "    </tr>\n",
       "    <tr>\n",
       "      <th>1</th>\n",
       "      <td>1</td>\n",
       "      <td>1184123</td>\n",
       "      <td>75-29</td>\n",
       "      <td>233</td>\n",
       "      <td>NaN</td>\n",
       "      <td>NaN</td>\n",
       "      <td>NaN</td>\n",
       "    </tr>\n",
       "    <tr>\n",
       "      <th>2</th>\n",
       "      <td>2</td>\n",
       "      <td>76072711</td>\n",
       "      <td>70-12-28-106-59-49-41-6-42-115-35-116-36-11-96</td>\n",
       "      <td>251-222-279-281-270-206-221-204-241-235</td>\n",
       "      <td>NaN</td>\n",
       "      <td>NaN</td>\n",
       "      <td>577-572-580-616-601-513-501-609-508-550-506-54...</td>\n",
       "    </tr>\n",
       "    <tr>\n",
       "      <th>3</th>\n",
       "      <td>3</td>\n",
       "      <td>63071413</td>\n",
       "      <td>93-70-77-47-76-75-69-29-59-49-122-42-46-23-17-...</td>\n",
       "      <td>224-270-219-213-230-210</td>\n",
       "      <td>NaN</td>\n",
       "      <td>NaN</td>\n",
       "      <td>600-580-592-537-616-513-547-504-571-508-550-52...</td>\n",
       "    </tr>\n",
       "    <tr>\n",
       "      <th>4</th>\n",
       "      <td>4</td>\n",
       "      <td>81294159</td>\n",
       "      <td>75-29-49-122-36-11</td>\n",
       "      <td>NaN</td>\n",
       "      <td>NaN</td>\n",
       "      <td>NaN</td>\n",
       "      <td>631-616-513-508-506-632-542-509-559-518-558-56...</td>\n",
       "    </tr>\n",
       "    <tr>\n",
       "      <th>5</th>\n",
       "      <td>5</td>\n",
       "      <td>26419924</td>\n",
       "      <td>NaN</td>\n",
       "      <td>NaN</td>\n",
       "      <td>NaN</td>\n",
       "      <td>NaN</td>\n",
       "      <td>NaN</td>\n",
       "    </tr>\n",
       "    <tr>\n",
       "      <th>6</th>\n",
       "      <td>6</td>\n",
       "      <td>3467967</td>\n",
       "      <td>70-76-106-36-11</td>\n",
       "      <td>224-230</td>\n",
       "      <td>NaN</td>\n",
       "      <td>NaN</td>\n",
       "      <td>552-572-631-537-547-579-571-508-613-550-516-50...</td>\n",
       "    </tr>\n",
       "    <tr>\n",
       "      <th>7</th>\n",
       "      <td>7</td>\n",
       "      <td>54125482</td>\n",
       "      <td>93-70-77-47-75-69-29-49-27-6-53-19-46-56-36-11...</td>\n",
       "      <td>209-221</td>\n",
       "      <td>NaN</td>\n",
       "      <td>NaN</td>\n",
       "      <td>572-592-616-513-547-578-571-508-530-550-528-50...</td>\n",
       "    </tr>\n",
       "    <tr>\n",
       "      <th>8</th>\n",
       "      <td>8</td>\n",
       "      <td>29339838</td>\n",
       "      <td>93-70-118-109-1-76-69-102-28-8-59-49-6-18-39-4...</td>\n",
       "      <td>247-273-253-246-204-248-229</td>\n",
       "      <td>NaN</td>\n",
       "      <td>NaN</td>\n",
       "      <td>600-572-529-528-520-546</td>\n",
       "    </tr>\n",
       "    <tr>\n",
       "      <th>9</th>\n",
       "      <td>9</td>\n",
       "      <td>3741280</td>\n",
       "      <td>70-76</td>\n",
       "      <td>247-231-232-244</td>\n",
       "      <td>NaN</td>\n",
       "      <td>NaN</td>\n",
       "      <td>577-600-572-592-616-547-609-508-550-586-528-50...</td>\n",
       "    </tr>\n",
       "  </tbody>\n",
       "</table>\n",
       "</div>"
      ]
     },
     "execution_count": 8,
     "metadata": {},
     "output_type": "execute_result"
    }
   ],
   "source": [
    "user_feature_embedding_int['interest2'] = added_int2 \n",
    "user_feature_embedding_int['interest3'] = added_int3 \n",
    "user_feature_embedding_int['interest4'] = added_int4 \n",
    "user_feature_embedding_int['interest5'] = added_int5 \n",
    "user_feature_embedding_int.head(10)"
   ]
  },
  {
   "cell_type": "code",
   "execution_count": 21,
   "metadata": {},
   "outputs": [
    {
     "name": "stdout",
     "output_type": "stream",
     "text": [
      "progress: 0%\r"
     ]
    },
    {
     "name": "stdout",
     "output_type": "stream",
     "text": [
      "progress: 10%\r"
     ]
    },
    {
     "name": "stdout",
     "output_type": "stream",
     "text": [
      "progress: 20%\r"
     ]
    },
    {
     "name": "stdout",
     "output_type": "stream",
     "text": [
      "progress: 30%\r"
     ]
    },
    {
     "name": "stdout",
     "output_type": "stream",
     "text": [
      "progress: 40%\r"
     ]
    },
    {
     "name": "stdout",
     "output_type": "stream",
     "text": [
      "progress: 50%\r"
     ]
    },
    {
     "name": "stdout",
     "output_type": "stream",
     "text": [
      "progress: 60%\r"
     ]
    },
    {
     "name": "stdout",
     "output_type": "stream",
     "text": [
      "progress: 70%\r"
     ]
    },
    {
     "name": "stdout",
     "output_type": "stream",
     "text": [
      "progress: 80%\r"
     ]
    },
    {
     "name": "stdout",
     "output_type": "stream",
     "text": [
      "progress: 90%\r"
     ]
    },
    {
     "name": "stdout",
     "output_type": "stream",
     "text": [
      "progress: 100%\r"
     ]
    },
    {
     "name": "stdout",
     "output_type": "stream",
     "text": [
      "progress: 100%\n"
     ]
    },
    {
     "name": "stdout",
     "output_type": "stream",
     "text": [
      "progress: 0%\r"
     ]
    },
    {
     "name": "stdout",
     "output_type": "stream",
     "text": [
      "progress: 10%\r"
     ]
    },
    {
     "name": "stdout",
     "output_type": "stream",
     "text": [
      "progress: 20%\r"
     ]
    },
    {
     "name": "stdout",
     "output_type": "stream",
     "text": [
      "progress: 30%\r"
     ]
    },
    {
     "name": "stdout",
     "output_type": "stream",
     "text": [
      "progress: 40%\r"
     ]
    },
    {
     "name": "stdout",
     "output_type": "stream",
     "text": [
      "progress: 50%\r"
     ]
    },
    {
     "name": "stdout",
     "output_type": "stream",
     "text": [
      "progress: 60%\r"
     ]
    },
    {
     "name": "stdout",
     "output_type": "stream",
     "text": [
      "progress: 70%\r"
     ]
    },
    {
     "name": "stdout",
     "output_type": "stream",
     "text": [
      "progress: 80%\r"
     ]
    },
    {
     "name": "stdout",
     "output_type": "stream",
     "text": [
      "progress: 90%\r"
     ]
    },
    {
     "name": "stdout",
     "output_type": "stream",
     "text": [
      "progress: 100%\r"
     ]
    },
    {
     "name": "stdout",
     "output_type": "stream",
     "text": [
      "progress: 100%\n"
     ]
    }
   ],
   "source": [
    "user_feature_embedding_int12 = utils.merge_feature(user_feature_embedding_int, 'interest1', 'interest2')\n",
    "user_feature_embedding_int123 = utils.merge_feature(user_feature_embedding_int12, 'interest1interest2', 'interest3')\n"
   ]
  },
  {
   "cell_type": "code",
   "execution_count": 22,
   "metadata": {},
   "outputs": [
    {
     "name": "stdout",
     "output_type": "stream",
     "text": [
      "progress: 0%\r"
     ]
    },
    {
     "name": "stdout",
     "output_type": "stream",
     "text": [
      "progress: 10%\r"
     ]
    },
    {
     "name": "stdout",
     "output_type": "stream",
     "text": [
      "progress: 20%\r"
     ]
    },
    {
     "name": "stdout",
     "output_type": "stream",
     "text": [
      "progress: 30%\r"
     ]
    },
    {
     "name": "stdout",
     "output_type": "stream",
     "text": [
      "progress: 40%\r"
     ]
    },
    {
     "name": "stdout",
     "output_type": "stream",
     "text": [
      "progress: 50%\r"
     ]
    },
    {
     "name": "stdout",
     "output_type": "stream",
     "text": [
      "progress: 60%\r"
     ]
    },
    {
     "name": "stdout",
     "output_type": "stream",
     "text": [
      "progress: 70%\r"
     ]
    },
    {
     "name": "stdout",
     "output_type": "stream",
     "text": [
      "progress: 80%\r"
     ]
    },
    {
     "name": "stdout",
     "output_type": "stream",
     "text": [
      "progress: 90%\r"
     ]
    },
    {
     "name": "stdout",
     "output_type": "stream",
     "text": [
      "progress: 100%\r"
     ]
    },
    {
     "name": "stdout",
     "output_type": "stream",
     "text": [
      "progress: 100%\n"
     ]
    },
    {
     "name": "stdout",
     "output_type": "stream",
     "text": [
      "progress: 0%\r"
     ]
    },
    {
     "name": "stdout",
     "output_type": "stream",
     "text": [
      "progress: 10%\r"
     ]
    },
    {
     "name": "stdout",
     "output_type": "stream",
     "text": [
      "progress: 20%\r"
     ]
    },
    {
     "name": "stdout",
     "output_type": "stream",
     "text": [
      "progress: 30%\r"
     ]
    },
    {
     "name": "stdout",
     "output_type": "stream",
     "text": [
      "progress: 40%\r"
     ]
    },
    {
     "name": "stdout",
     "output_type": "stream",
     "text": [
      "progress: 50%\r"
     ]
    },
    {
     "name": "stdout",
     "output_type": "stream",
     "text": [
      "progress: 60%\r"
     ]
    },
    {
     "name": "stdout",
     "output_type": "stream",
     "text": [
      "progress: 70%\r"
     ]
    },
    {
     "name": "stdout",
     "output_type": "stream",
     "text": [
      "progress: 80%\r"
     ]
    },
    {
     "name": "stdout",
     "output_type": "stream",
     "text": [
      "progress: 90%\r"
     ]
    },
    {
     "name": "stdout",
     "output_type": "stream",
     "text": [
      "progress: 100%\r"
     ]
    },
    {
     "name": "stdout",
     "output_type": "stream",
     "text": [
      "progress: 100%\n"
     ]
    }
   ],
   "source": [
    "user_feature_embedding_int1234 = utils.merge_feature(user_feature_embedding_int123, \n",
    "                                                     'interest1interest2interest3', 'interest4')\n",
    "user_feature_embedding_int12345 = utils.merge_feature(user_feature_embedding_int1234, \n",
    "                                                      'interest1interest2interest3interest4', 'interest5')"
   ]
  },
  {
   "cell_type": "code",
   "execution_count": 23,
   "metadata": {},
   "outputs": [],
   "source": [
    "user_feature_embedding_int12345.rename(columns={'interest1interest2interest3interest4interest5': 'interest'}, inplace=True)"
   ]
  },
  {
   "cell_type": "code",
   "execution_count": 26,
   "metadata": {},
   "outputs": [
    {
     "data": {
      "text/html": [
       "<div>\n",
       "<style scoped>\n",
       "    .dataframe tbody tr th:only-of-type {\n",
       "        vertical-align: middle;\n",
       "    }\n",
       "\n",
       "    .dataframe tbody tr th {\n",
       "        vertical-align: top;\n",
       "    }\n",
       "\n",
       "    .dataframe thead th {\n",
       "        text-align: right;\n",
       "    }\n",
       "</style>\n",
       "<table border=\"1\" class=\"dataframe\">\n",
       "  <thead>\n",
       "    <tr style=\"text-align: right;\">\n",
       "      <th></th>\n",
       "      <th>Unnamed: 0</th>\n",
       "      <th>uid</th>\n",
       "      <th>interest1</th>\n",
       "      <th>interest2</th>\n",
       "      <th>interest3</th>\n",
       "      <th>interest4</th>\n",
       "      <th>interest5</th>\n",
       "    </tr>\n",
       "  </thead>\n",
       "  <tbody>\n",
       "    <tr>\n",
       "      <th>11420034</th>\n",
       "      <td>11420034</td>\n",
       "      <td>7613183</td>\n",
       "      <td>77-46</td>\n",
       "      <td>270-254</td>\n",
       "      <td>NaN</td>\n",
       "      <td>NaN</td>\n",
       "      <td>NaN</td>\n",
       "    </tr>\n",
       "    <tr>\n",
       "      <th>11420035</th>\n",
       "      <td>11420035</td>\n",
       "      <td>44380874</td>\n",
       "      <td>70-76</td>\n",
       "      <td>NaN</td>\n",
       "      <td>NaN</td>\n",
       "      <td>NaN</td>\n",
       "      <td>NaN</td>\n",
       "    </tr>\n",
       "    <tr>\n",
       "      <th>11420036</th>\n",
       "      <td>11420036</td>\n",
       "      <td>23288734</td>\n",
       "      <td>93-70-77-86-12-47-75-29-49-72-46-112-36-11-76-...</td>\n",
       "      <td>224-221-230</td>\n",
       "      <td>NaN</td>\n",
       "      <td>NaN</td>\n",
       "      <td>600-572-580-592-537-616-513-501-571-609-508-55...</td>\n",
       "    </tr>\n",
       "    <tr>\n",
       "      <th>11420037</th>\n",
       "      <td>11420037</td>\n",
       "      <td>17482116</td>\n",
       "      <td>93-70-28-49-15-18-73-46-113-36-11-90</td>\n",
       "      <td>NaN</td>\n",
       "      <td>NaN</td>\n",
       "      <td>NaN</td>\n",
       "      <td>NaN</td>\n",
       "    </tr>\n",
       "    <tr>\n",
       "      <th>11420038</th>\n",
       "      <td>11420038</td>\n",
       "      <td>46849102</td>\n",
       "      <td>70-37-12-100-76-75-29-46-88-36-11</td>\n",
       "      <td>279-206</td>\n",
       "      <td>NaN</td>\n",
       "      <td>NaN</td>\n",
       "      <td>572-631-537-511-579-508-569-506-542-546-574-564</td>\n",
       "    </tr>\n",
       "  </tbody>\n",
       "</table>\n",
       "</div>"
      ],
      "text/plain": [
       "<div>\n",
       "<style scoped>\n",
       "    .dataframe tbody tr th:only-of-type {\n",
       "        vertical-align: middle;\n",
       "    }\n",
       "\n",
       "    .dataframe tbody tr th {\n",
       "        vertical-align: top;\n",
       "    }\n",
       "\n",
       "    .dataframe thead th {\n",
       "        text-align: right;\n",
       "    }\n",
       "</style>\n",
       "<table border=\"1\" class=\"dataframe\">\n",
       "  <thead>\n",
       "    <tr style=\"text-align: right;\">\n",
       "      <th></th>\n",
       "      <th>Unnamed: 0</th>\n",
       "      <th>uid</th>\n",
       "      <th>interest1</th>\n",
       "      <th>interest2</th>\n",
       "      <th>interest3</th>\n",
       "      <th>interest4</th>\n",
       "      <th>interest5</th>\n",
       "    </tr>\n",
       "  </thead>\n",
       "  <tbody>\n",
       "    <tr>\n",
       "      <th>11420034</th>\n",
       "      <td>11420034</td>\n",
       "      <td>7613183</td>\n",
       "      <td>77-46</td>\n",
       "      <td>270-254</td>\n",
       "      <td>NaN</td>\n",
       "      <td>NaN</td>\n",
       "      <td>NaN</td>\n",
       "    </tr>\n",
       "    <tr>\n",
       "      <th>11420035</th>\n",
       "      <td>11420035</td>\n",
       "      <td>44380874</td>\n",
       "      <td>70-76</td>\n",
       "      <td>NaN</td>\n",
       "      <td>NaN</td>\n",
       "      <td>NaN</td>\n",
       "      <td>NaN</td>\n",
       "    </tr>\n",
       "    <tr>\n",
       "      <th>11420036</th>\n",
       "      <td>11420036</td>\n",
       "      <td>23288734</td>\n",
       "      <td>93-70-77-86-12-47-75-29-49-72-46-112-36-11-76-...</td>\n",
       "      <td>224-221-230</td>\n",
       "      <td>NaN</td>\n",
       "      <td>NaN</td>\n",
       "      <td>600-572-580-592-537-616-513-501-571-609-508-55...</td>\n",
       "    </tr>\n",
       "    <tr>\n",
       "      <th>11420037</th>\n",
       "      <td>11420037</td>\n",
       "      <td>17482116</td>\n",
       "      <td>93-70-28-49-15-18-73-46-113-36-11-90</td>\n",
       "      <td>NaN</td>\n",
       "      <td>NaN</td>\n",
       "      <td>NaN</td>\n",
       "      <td>NaN</td>\n",
       "    </tr>\n",
       "    <tr>\n",
       "      <th>11420038</th>\n",
       "      <td>11420038</td>\n",
       "      <td>46849102</td>\n",
       "      <td>70-37-12-100-76-75-29-46-88-36-11</td>\n",
       "      <td>279-206</td>\n",
       "      <td>NaN</td>\n",
       "      <td>NaN</td>\n",
       "      <td>572-631-537-511-579-508-569-506-542-546-574-564</td>\n",
       "    </tr>\n",
       "  </tbody>\n",
       "</table>\n",
       "</div>"
      ]
     },
     "execution_count": 26,
     "metadata": {},
     "output_type": "execute_result"
    }
   ],
   "source": [
    "user_feature_embedding_int.tail()"
   ]
  },
  {
   "cell_type": "code",
   "execution_count": 27,
   "metadata": {},
   "outputs": [
    {
     "data": {
      "text/html": [
       "<div>\n",
       "<style scoped>\n",
       "    .dataframe tbody tr th:only-of-type {\n",
       "        vertical-align: middle;\n",
       "    }\n",
       "\n",
       "    .dataframe tbody tr th {\n",
       "        vertical-align: top;\n",
       "    }\n",
       "\n",
       "    .dataframe thead th {\n",
       "        text-align: right;\n",
       "    }\n",
       "</style>\n",
       "<table border=\"1\" class=\"dataframe\">\n",
       "  <thead>\n",
       "    <tr style=\"text-align: right;\">\n",
       "      <th></th>\n",
       "      <th>Unnamed: 0</th>\n",
       "      <th>uid</th>\n",
       "      <th>interest</th>\n",
       "    </tr>\n",
       "  </thead>\n",
       "  <tbody>\n",
       "    <tr>\n",
       "      <th>11420034</th>\n",
       "      <td>11420034</td>\n",
       "      <td>7613183</td>\n",
       "      <td>77-46-270-254</td>\n",
       "    </tr>\n",
       "    <tr>\n",
       "      <th>11420035</th>\n",
       "      <td>11420035</td>\n",
       "      <td>44380874</td>\n",
       "      <td>70-76</td>\n",
       "    </tr>\n",
       "    <tr>\n",
       "      <th>11420036</th>\n",
       "      <td>11420036</td>\n",
       "      <td>23288734</td>\n",
       "      <td>93-70-77-86-12-47-75-29-49-72-46-112-36-11-76-...</td>\n",
       "    </tr>\n",
       "    <tr>\n",
       "      <th>11420037</th>\n",
       "      <td>11420037</td>\n",
       "      <td>17482116</td>\n",
       "      <td>93-70-28-49-15-18-73-46-113-36-11-90</td>\n",
       "    </tr>\n",
       "    <tr>\n",
       "      <th>11420038</th>\n",
       "      <td>11420038</td>\n",
       "      <td>46849102</td>\n",
       "      <td>70-37-12-100-76-75-29-46-88-36-11-279-206-572-...</td>\n",
       "    </tr>\n",
       "  </tbody>\n",
       "</table>\n",
       "</div>"
      ],
      "text/plain": [
       "<div>\n",
       "<style scoped>\n",
       "    .dataframe tbody tr th:only-of-type {\n",
       "        vertical-align: middle;\n",
       "    }\n",
       "\n",
       "    .dataframe tbody tr th {\n",
       "        vertical-align: top;\n",
       "    }\n",
       "\n",
       "    .dataframe thead th {\n",
       "        text-align: right;\n",
       "    }\n",
       "</style>\n",
       "<table border=\"1\" class=\"dataframe\">\n",
       "  <thead>\n",
       "    <tr style=\"text-align: right;\">\n",
       "      <th></th>\n",
       "      <th>Unnamed: 0</th>\n",
       "      <th>uid</th>\n",
       "      <th>interest</th>\n",
       "    </tr>\n",
       "  </thead>\n",
       "  <tbody>\n",
       "    <tr>\n",
       "      <th>11420034</th>\n",
       "      <td>11420034</td>\n",
       "      <td>7613183</td>\n",
       "      <td>77-46-270-254</td>\n",
       "    </tr>\n",
       "    <tr>\n",
       "      <th>11420035</th>\n",
       "      <td>11420035</td>\n",
       "      <td>44380874</td>\n",
       "      <td>70-76</td>\n",
       "    </tr>\n",
       "    <tr>\n",
       "      <th>11420036</th>\n",
       "      <td>11420036</td>\n",
       "      <td>23288734</td>\n",
       "      <td>93-70-77-86-12-47-75-29-49-72-46-112-36-11-76-...</td>\n",
       "    </tr>\n",
       "    <tr>\n",
       "      <th>11420037</th>\n",
       "      <td>11420037</td>\n",
       "      <td>17482116</td>\n",
       "      <td>93-70-28-49-15-18-73-46-113-36-11-90</td>\n",
       "    </tr>\n",
       "    <tr>\n",
       "      <th>11420038</th>\n",
       "      <td>11420038</td>\n",
       "      <td>46849102</td>\n",
       "      <td>70-37-12-100-76-75-29-46-88-36-11-279-206-572-...</td>\n",
       "    </tr>\n",
       "  </tbody>\n",
       "</table>\n",
       "</div>"
      ]
     },
     "execution_count": 27,
     "metadata": {},
     "output_type": "execute_result"
    }
   ],
   "source": [
    "user_feature_embedding_int12345.tail()"
   ]
  },
  {
   "cell_type": "code",
   "execution_count": 29,
   "metadata": {},
   "outputs": [],
   "source": [
    "user_feature_embedding_int12345.to_csv('data/user_feature_embedding_int_merged.csv', columns=['uid', 'interest'], index=False)"
   ]
  },
  {
   "cell_type": "heading",
   "metadata": {},
   "level": 1,
   "source": [
    "加载kw并合并"
   ]
  },
  {
   "cell_type": "code",
   "execution_count": 30,
   "metadata": {},
   "outputs": [],
   "source": [
    "user_feature_embedding_kw = pd.read_csv('data/user_feature_embedding_kw.csv')"
   ]
  },
  {
   "cell_type": "code",
   "execution_count": 32,
   "metadata": {},
   "outputs": [
    {
     "name": "stdout",
     "output_type": "stream",
     "text": [
      "progress: 0%\r"
     ]
    },
    {
     "name": "stdout",
     "output_type": "stream",
     "text": [
      "progress: 10%\r"
     ]
    },
    {
     "name": "stdout",
     "output_type": "stream",
     "text": [
      "progress: 20%\r"
     ]
    },
    {
     "name": "stdout",
     "output_type": "stream",
     "text": [
      "progress: 30%\r"
     ]
    },
    {
     "name": "stdout",
     "output_type": "stream",
     "text": [
      "progress: 40%\r"
     ]
    },
    {
     "name": "stdout",
     "output_type": "stream",
     "text": [
      "progress: 50%\r"
     ]
    },
    {
     "name": "stdout",
     "output_type": "stream",
     "text": [
      "progress: 60%\r"
     ]
    },
    {
     "name": "stdout",
     "output_type": "stream",
     "text": [
      "progress: 70%\r"
     ]
    },
    {
     "name": "stdout",
     "output_type": "stream",
     "text": [
      "progress: 80%\r"
     ]
    },
    {
     "name": "stdout",
     "output_type": "stream",
     "text": [
      "progress: 90%\r"
     ]
    },
    {
     "name": "stdout",
     "output_type": "stream",
     "text": [
      "progress: 100%\r"
     ]
    },
    {
     "name": "stdout",
     "output_type": "stream",
     "text": [
      "progress: 100%\n"
     ]
    },
    {
     "name": "stdout",
     "output_type": "stream",
     "text": [
      "progress: 50%\r"
     ]
    },
    {
     "name": "stdout",
     "output_type": "stream",
     "text": [
      "progress: 100%\n"
     ]
    }
   ],
   "source": [
    "added_kw2 = utils.add_base_for_all(user_feature_embedding_kw['kw2'], 800000)\n",
    "added_kw3 = utils.add_base_for_all(user_feature_embedding_kw['kw3'], 930000)"
   ]
  },
  {
   "cell_type": "code",
   "execution_count": 36,
   "metadata": {},
   "outputs": [
    {
     "data": {
      "text/html": [
       "<div>\n",
       "<style scoped>\n",
       "    .dataframe tbody tr th:only-of-type {\n",
       "        vertical-align: middle;\n",
       "    }\n",
       "\n",
       "    .dataframe tbody tr th {\n",
       "        vertical-align: top;\n",
       "    }\n",
       "\n",
       "    .dataframe thead th {\n",
       "        text-align: right;\n",
       "    }\n",
       "</style>\n",
       "<table border=\"1\" class=\"dataframe\">\n",
       "  <thead>\n",
       "    <tr style=\"text-align: right;\">\n",
       "      <th></th>\n",
       "      <th>Unnamed: 0</th>\n",
       "      <th>uid</th>\n",
       "      <th>kw1</th>\n",
       "      <th>kw2</th>\n",
       "      <th>kw3</th>\n",
       "    </tr>\n",
       "  </thead>\n",
       "  <tbody>\n",
       "    <tr>\n",
       "      <th>11420029</th>\n",
       "      <td>11420029</td>\n",
       "      <td>71132967</td>\n",
       "      <td>710106-403248-760335-184197-529100</td>\n",
       "      <td>890202-881211-822863-841919-895597</td>\n",
       "      <td>NaN</td>\n",
       "    </tr>\n",
       "    <tr>\n",
       "      <th>11420030</th>\n",
       "      <td>11420030</td>\n",
       "      <td>26696723</td>\n",
       "      <td>412838-732675-290900-149555-274523</td>\n",
       "      <td>829946-808125-894407-821446-807014</td>\n",
       "      <td>NaN</td>\n",
       "    </tr>\n",
       "    <tr>\n",
       "      <th>11420031</th>\n",
       "      <td>11420031</td>\n",
       "      <td>5568914</td>\n",
       "      <td>589299-502673-661739-367799-623073</td>\n",
       "      <td>811395-879112-905115-819826-805827</td>\n",
       "      <td>NaN</td>\n",
       "    </tr>\n",
       "    <tr>\n",
       "      <th>11420032</th>\n",
       "      <td>11420032</td>\n",
       "      <td>23358525</td>\n",
       "      <td>NaN</td>\n",
       "      <td>843977-917462-855952-826484-876242</td>\n",
       "      <td>NaN</td>\n",
       "    </tr>\n",
       "    <tr>\n",
       "      <th>11420033</th>\n",
       "      <td>11420033</td>\n",
       "      <td>56878126</td>\n",
       "      <td>268355-600132-341021-375558-396935</td>\n",
       "      <td>812518-806918-844999-856399-906104</td>\n",
       "      <td>NaN</td>\n",
       "    </tr>\n",
       "    <tr>\n",
       "      <th>11420034</th>\n",
       "      <td>11420034</td>\n",
       "      <td>7613183</td>\n",
       "      <td>NaN</td>\n",
       "      <td>852715-885039-801664-897701-893916</td>\n",
       "      <td>NaN</td>\n",
       "    </tr>\n",
       "    <tr>\n",
       "      <th>11420035</th>\n",
       "      <td>11420035</td>\n",
       "      <td>44380874</td>\n",
       "      <td>605930-8561-387429</td>\n",
       "      <td>811395-879112-887384-881211-888239</td>\n",
       "      <td>966983-974157-981317-962080-962707</td>\n",
       "    </tr>\n",
       "    <tr>\n",
       "      <th>11420036</th>\n",
       "      <td>11420036</td>\n",
       "      <td>23288734</td>\n",
       "      <td>468512-559980-298850-391804-690140</td>\n",
       "      <td>859389-801218-815329-915199-844840</td>\n",
       "      <td>NaN</td>\n",
       "    </tr>\n",
       "    <tr>\n",
       "      <th>11420037</th>\n",
       "      <td>11420037</td>\n",
       "      <td>17482116</td>\n",
       "      <td>572255-138832-565894-716811-621765</td>\n",
       "      <td>882538</td>\n",
       "      <td>NaN</td>\n",
       "    </tr>\n",
       "    <tr>\n",
       "      <th>11420038</th>\n",
       "      <td>11420038</td>\n",
       "      <td>46849102</td>\n",
       "      <td>267586-411375-16567-279516-285713</td>\n",
       "      <td>861483-817460-817892-820148-909981</td>\n",
       "      <td>NaN</td>\n",
       "    </tr>\n",
       "  </tbody>\n",
       "</table>\n",
       "</div>"
      ],
      "text/plain": [
       "<div>\n",
       "<style scoped>\n",
       "    .dataframe tbody tr th:only-of-type {\n",
       "        vertical-align: middle;\n",
       "    }\n",
       "\n",
       "    .dataframe tbody tr th {\n",
       "        vertical-align: top;\n",
       "    }\n",
       "\n",
       "    .dataframe thead th {\n",
       "        text-align: right;\n",
       "    }\n",
       "</style>\n",
       "<table border=\"1\" class=\"dataframe\">\n",
       "  <thead>\n",
       "    <tr style=\"text-align: right;\">\n",
       "      <th></th>\n",
       "      <th>Unnamed: 0</th>\n",
       "      <th>uid</th>\n",
       "      <th>kw1</th>\n",
       "      <th>kw2</th>\n",
       "      <th>kw3</th>\n",
       "    </tr>\n",
       "  </thead>\n",
       "  <tbody>\n",
       "    <tr>\n",
       "      <th>11420029</th>\n",
       "      <td>11420029</td>\n",
       "      <td>71132967</td>\n",
       "      <td>710106-403248-760335-184197-529100</td>\n",
       "      <td>890202-881211-822863-841919-895597</td>\n",
       "      <td>NaN</td>\n",
       "    </tr>\n",
       "    <tr>\n",
       "      <th>11420030</th>\n",
       "      <td>11420030</td>\n",
       "      <td>26696723</td>\n",
       "      <td>412838-732675-290900-149555-274523</td>\n",
       "      <td>829946-808125-894407-821446-807014</td>\n",
       "      <td>NaN</td>\n",
       "    </tr>\n",
       "    <tr>\n",
       "      <th>11420031</th>\n",
       "      <td>11420031</td>\n",
       "      <td>5568914</td>\n",
       "      <td>589299-502673-661739-367799-623073</td>\n",
       "      <td>811395-879112-905115-819826-805827</td>\n",
       "      <td>NaN</td>\n",
       "    </tr>\n",
       "    <tr>\n",
       "      <th>11420032</th>\n",
       "      <td>11420032</td>\n",
       "      <td>23358525</td>\n",
       "      <td>NaN</td>\n",
       "      <td>843977-917462-855952-826484-876242</td>\n",
       "      <td>NaN</td>\n",
       "    </tr>\n",
       "    <tr>\n",
       "      <th>11420033</th>\n",
       "      <td>11420033</td>\n",
       "      <td>56878126</td>\n",
       "      <td>268355-600132-341021-375558-396935</td>\n",
       "      <td>812518-806918-844999-856399-906104</td>\n",
       "      <td>NaN</td>\n",
       "    </tr>\n",
       "    <tr>\n",
       "      <th>11420034</th>\n",
       "      <td>11420034</td>\n",
       "      <td>7613183</td>\n",
       "      <td>NaN</td>\n",
       "      <td>852715-885039-801664-897701-893916</td>\n",
       "      <td>NaN</td>\n",
       "    </tr>\n",
       "    <tr>\n",
       "      <th>11420035</th>\n",
       "      <td>11420035</td>\n",
       "      <td>44380874</td>\n",
       "      <td>605930-8561-387429</td>\n",
       "      <td>811395-879112-887384-881211-888239</td>\n",
       "      <td>966983-974157-981317-962080-962707</td>\n",
       "    </tr>\n",
       "    <tr>\n",
       "      <th>11420036</th>\n",
       "      <td>11420036</td>\n",
       "      <td>23288734</td>\n",
       "      <td>468512-559980-298850-391804-690140</td>\n",
       "      <td>859389-801218-815329-915199-844840</td>\n",
       "      <td>NaN</td>\n",
       "    </tr>\n",
       "    <tr>\n",
       "      <th>11420037</th>\n",
       "      <td>11420037</td>\n",
       "      <td>17482116</td>\n",
       "      <td>572255-138832-565894-716811-621765</td>\n",
       "      <td>882538</td>\n",
       "      <td>NaN</td>\n",
       "    </tr>\n",
       "    <tr>\n",
       "      <th>11420038</th>\n",
       "      <td>11420038</td>\n",
       "      <td>46849102</td>\n",
       "      <td>267586-411375-16567-279516-285713</td>\n",
       "      <td>861483-817460-817892-820148-909981</td>\n",
       "      <td>NaN</td>\n",
       "    </tr>\n",
       "  </tbody>\n",
       "</table>\n",
       "</div>"
      ]
     },
     "execution_count": 36,
     "metadata": {},
     "output_type": "execute_result"
    }
   ],
   "source": [
    "user_feature_embedding_kw['kw2'] = added_kw2 \n",
    "user_feature_embedding_kw['kw3'] = added_kw3 \n",
    "user_feature_embedding_kw.tail(10)"
   ]
  },
  {
   "cell_type": "code",
   "execution_count": 37,
   "metadata": {},
   "outputs": [
    {
     "name": "stdout",
     "output_type": "stream",
     "text": [
      "progress: 0%\r"
     ]
    },
    {
     "name": "stdout",
     "output_type": "stream",
     "text": [
      "progress: 10%\r"
     ]
    },
    {
     "name": "stdout",
     "output_type": "stream",
     "text": [
      "progress: 20%\r"
     ]
    },
    {
     "name": "stdout",
     "output_type": "stream",
     "text": [
      "progress: 30%\r"
     ]
    },
    {
     "name": "stdout",
     "output_type": "stream",
     "text": [
      "progress: 40%\r"
     ]
    },
    {
     "name": "stdout",
     "output_type": "stream",
     "text": [
      "progress: 50%\r"
     ]
    },
    {
     "name": "stdout",
     "output_type": "stream",
     "text": [
      "progress: 60%\r"
     ]
    },
    {
     "name": "stdout",
     "output_type": "stream",
     "text": [
      "progress: 70%\r"
     ]
    },
    {
     "name": "stdout",
     "output_type": "stream",
     "text": [
      "progress: 80%\r"
     ]
    },
    {
     "name": "stdout",
     "output_type": "stream",
     "text": [
      "progress: 90%\r"
     ]
    },
    {
     "name": "stdout",
     "output_type": "stream",
     "text": [
      "progress: 100%\r"
     ]
    },
    {
     "name": "stdout",
     "output_type": "stream",
     "text": [
      "progress: 100%\n"
     ]
    },
    {
     "name": "stdout",
     "output_type": "stream",
     "text": [
      "progress: 0%\r"
     ]
    },
    {
     "name": "stdout",
     "output_type": "stream",
     "text": [
      "progress: 10%\r"
     ]
    },
    {
     "name": "stdout",
     "output_type": "stream",
     "text": [
      "progress: 20%\r"
     ]
    },
    {
     "name": "stdout",
     "output_type": "stream",
     "text": [
      "progress: 30%\r"
     ]
    },
    {
     "name": "stdout",
     "output_type": "stream",
     "text": [
      "progress: 40%\r"
     ]
    },
    {
     "name": "stdout",
     "output_type": "stream",
     "text": [
      "progress: 50%\r"
     ]
    },
    {
     "name": "stdout",
     "output_type": "stream",
     "text": [
      "progress: 60%\r"
     ]
    },
    {
     "name": "stdout",
     "output_type": "stream",
     "text": [
      "progress: 70%\r"
     ]
    },
    {
     "name": "stdout",
     "output_type": "stream",
     "text": [
      "progress: 80%\r"
     ]
    },
    {
     "name": "stdout",
     "output_type": "stream",
     "text": [
      "progress: 90%\r"
     ]
    },
    {
     "name": "stdout",
     "output_type": "stream",
     "text": [
      "progress: 100%\r"
     ]
    },
    {
     "name": "stdout",
     "output_type": "stream",
     "text": [
      "progress: 100%\n"
     ]
    }
   ],
   "source": [
    "user_feature_embedding_kw12 = utils.merge_feature(user_feature_embedding_kw, 'kw1', 'kw2')\n",
    "user_feature_embedding_kw123 = utils.merge_feature(user_feature_embedding_kw12, 'kw1kw2', 'kw3')"
   ]
  },
  {
   "cell_type": "code",
   "execution_count": 38,
   "metadata": {},
   "outputs": [
    {
     "data": {
      "text/html": [
       "<div>\n",
       "<style scoped>\n",
       "    .dataframe tbody tr th:only-of-type {\n",
       "        vertical-align: middle;\n",
       "    }\n",
       "\n",
       "    .dataframe tbody tr th {\n",
       "        vertical-align: top;\n",
       "    }\n",
       "\n",
       "    .dataframe thead th {\n",
       "        text-align: right;\n",
       "    }\n",
       "</style>\n",
       "<table border=\"1\" class=\"dataframe\">\n",
       "  <thead>\n",
       "    <tr style=\"text-align: right;\">\n",
       "      <th></th>\n",
       "      <th>Unnamed: 0</th>\n",
       "      <th>uid</th>\n",
       "      <th>kw</th>\n",
       "    </tr>\n",
       "  </thead>\n",
       "  <tbody>\n",
       "    <tr>\n",
       "      <th>11420029</th>\n",
       "      <td>11420029</td>\n",
       "      <td>71132967</td>\n",
       "      <td>710106-403248-760335-184197-529100-890202-8812...</td>\n",
       "    </tr>\n",
       "    <tr>\n",
       "      <th>11420030</th>\n",
       "      <td>11420030</td>\n",
       "      <td>26696723</td>\n",
       "      <td>412838-732675-290900-149555-274523-829946-8081...</td>\n",
       "    </tr>\n",
       "    <tr>\n",
       "      <th>11420031</th>\n",
       "      <td>11420031</td>\n",
       "      <td>5568914</td>\n",
       "      <td>589299-502673-661739-367799-623073-811395-8791...</td>\n",
       "    </tr>\n",
       "    <tr>\n",
       "      <th>11420032</th>\n",
       "      <td>11420032</td>\n",
       "      <td>23358525</td>\n",
       "      <td>843977-917462-855952-826484-876242</td>\n",
       "    </tr>\n",
       "    <tr>\n",
       "      <th>11420033</th>\n",
       "      <td>11420033</td>\n",
       "      <td>56878126</td>\n",
       "      <td>268355-600132-341021-375558-396935-812518-8069...</td>\n",
       "    </tr>\n",
       "    <tr>\n",
       "      <th>11420034</th>\n",
       "      <td>11420034</td>\n",
       "      <td>7613183</td>\n",
       "      <td>852715-885039-801664-897701-893916</td>\n",
       "    </tr>\n",
       "    <tr>\n",
       "      <th>11420035</th>\n",
       "      <td>11420035</td>\n",
       "      <td>44380874</td>\n",
       "      <td>605930-8561-387429-811395-879112-887384-881211...</td>\n",
       "    </tr>\n",
       "    <tr>\n",
       "      <th>11420036</th>\n",
       "      <td>11420036</td>\n",
       "      <td>23288734</td>\n",
       "      <td>468512-559980-298850-391804-690140-859389-8012...</td>\n",
       "    </tr>\n",
       "    <tr>\n",
       "      <th>11420037</th>\n",
       "      <td>11420037</td>\n",
       "      <td>17482116</td>\n",
       "      <td>572255-138832-565894-716811-621765-882538</td>\n",
       "    </tr>\n",
       "    <tr>\n",
       "      <th>11420038</th>\n",
       "      <td>11420038</td>\n",
       "      <td>46849102</td>\n",
       "      <td>267586-411375-16567-279516-285713-861483-81746...</td>\n",
       "    </tr>\n",
       "  </tbody>\n",
       "</table>\n",
       "</div>"
      ],
      "text/plain": [
       "<div>\n",
       "<style scoped>\n",
       "    .dataframe tbody tr th:only-of-type {\n",
       "        vertical-align: middle;\n",
       "    }\n",
       "\n",
       "    .dataframe tbody tr th {\n",
       "        vertical-align: top;\n",
       "    }\n",
       "\n",
       "    .dataframe thead th {\n",
       "        text-align: right;\n",
       "    }\n",
       "</style>\n",
       "<table border=\"1\" class=\"dataframe\">\n",
       "  <thead>\n",
       "    <tr style=\"text-align: right;\">\n",
       "      <th></th>\n",
       "      <th>Unnamed: 0</th>\n",
       "      <th>uid</th>\n",
       "      <th>kw</th>\n",
       "    </tr>\n",
       "  </thead>\n",
       "  <tbody>\n",
       "    <tr>\n",
       "      <th>11420029</th>\n",
       "      <td>11420029</td>\n",
       "      <td>71132967</td>\n",
       "      <td>710106-403248-760335-184197-529100-890202-8812...</td>\n",
       "    </tr>\n",
       "    <tr>\n",
       "      <th>11420030</th>\n",
       "      <td>11420030</td>\n",
       "      <td>26696723</td>\n",
       "      <td>412838-732675-290900-149555-274523-829946-8081...</td>\n",
       "    </tr>\n",
       "    <tr>\n",
       "      <th>11420031</th>\n",
       "      <td>11420031</td>\n",
       "      <td>5568914</td>\n",
       "      <td>589299-502673-661739-367799-623073-811395-8791...</td>\n",
       "    </tr>\n",
       "    <tr>\n",
       "      <th>11420032</th>\n",
       "      <td>11420032</td>\n",
       "      <td>23358525</td>\n",
       "      <td>843977-917462-855952-826484-876242</td>\n",
       "    </tr>\n",
       "    <tr>\n",
       "      <th>11420033</th>\n",
       "      <td>11420033</td>\n",
       "      <td>56878126</td>\n",
       "      <td>268355-600132-341021-375558-396935-812518-8069...</td>\n",
       "    </tr>\n",
       "    <tr>\n",
       "      <th>11420034</th>\n",
       "      <td>11420034</td>\n",
       "      <td>7613183</td>\n",
       "      <td>852715-885039-801664-897701-893916</td>\n",
       "    </tr>\n",
       "    <tr>\n",
       "      <th>11420035</th>\n",
       "      <td>11420035</td>\n",
       "      <td>44380874</td>\n",
       "      <td>605930-8561-387429-811395-879112-887384-881211...</td>\n",
       "    </tr>\n",
       "    <tr>\n",
       "      <th>11420036</th>\n",
       "      <td>11420036</td>\n",
       "      <td>23288734</td>\n",
       "      <td>468512-559980-298850-391804-690140-859389-8012...</td>\n",
       "    </tr>\n",
       "    <tr>\n",
       "      <th>11420037</th>\n",
       "      <td>11420037</td>\n",
       "      <td>17482116</td>\n",
       "      <td>572255-138832-565894-716811-621765-882538</td>\n",
       "    </tr>\n",
       "    <tr>\n",
       "      <th>11420038</th>\n",
       "      <td>11420038</td>\n",
       "      <td>46849102</td>\n",
       "      <td>267586-411375-16567-279516-285713-861483-81746...</td>\n",
       "    </tr>\n",
       "  </tbody>\n",
       "</table>\n",
       "</div>"
      ]
     },
     "execution_count": 38,
     "metadata": {},
     "output_type": "execute_result"
    }
   ],
   "source": [
    "user_feature_embedding_kw123.rename(columns={'kw1kw2kw3': 'kw'}, inplace=True)\n",
    "user_feature_embedding_kw123.tail(10)"
   ]
  },
  {
   "cell_type": "code",
   "execution_count": 40,
   "metadata": {},
   "outputs": [],
   "source": [
    "user_feature_embedding_kw123.to_csv('data/user_feature_embedding_kw_merged.csv', columns=['uid', 'kw'], index=False)"
   ]
  },
  {
   "cell_type": "heading",
   "metadata": {},
   "level": 1,
   "source": [
    "加载topic并合并"
   ]
  },
  {
   "cell_type": "code",
   "execution_count": 41,
   "metadata": {},
   "outputs": [],
   "source": [
    "user_feature_embedding_to = pd.read_csv('data/user_feature_embedding_to.csv')"
   ]
  },
  {
   "cell_type": "code",
   "execution_count": 43,
   "metadata": {},
   "outputs": [
    {
     "name": "stdout",
     "output_type": "stream",
     "text": [
      "progress: 0%\r"
     ]
    },
    {
     "name": "stdout",
     "output_type": "stream",
     "text": [
      "progress: 10%\r"
     ]
    },
    {
     "name": "stdout",
     "output_type": "stream",
     "text": [
      "progress: 20%\r"
     ]
    },
    {
     "name": "stdout",
     "output_type": "stream",
     "text": [
      "progress: 30%\r"
     ]
    },
    {
     "name": "stdout",
     "output_type": "stream",
     "text": [
      "progress: 40%\r"
     ]
    },
    {
     "name": "stdout",
     "output_type": "stream",
     "text": [
      "progress: 50%\r"
     ]
    },
    {
     "name": "stdout",
     "output_type": "stream",
     "text": [
      "progress: 60%\r"
     ]
    },
    {
     "name": "stdout",
     "output_type": "stream",
     "text": [
      "progress: 70%\r"
     ]
    },
    {
     "name": "stdout",
     "output_type": "stream",
     "text": [
      "progress: 80%\r"
     ]
    },
    {
     "name": "stdout",
     "output_type": "stream",
     "text": [
      "progress: 90%\r"
     ]
    },
    {
     "name": "stdout",
     "output_type": "stream",
     "text": [
      "progress: 100%\r"
     ]
    },
    {
     "name": "stdout",
     "output_type": "stream",
     "text": [
      "progress: 100%\n"
     ]
    },
    {
     "name": "stdout",
     "output_type": "stream",
     "text": [
      "progress: 50%\r"
     ]
    },
    {
     "name": "stdout",
     "output_type": "stream",
     "text": [
      "progress: 100%\n"
     ]
    }
   ],
   "source": [
    "added_to2 = utils.add_base_for_all(user_feature_embedding_to['topic2'], 10000)\n",
    "added_to3 = utils.add_base_for_all(user_feature_embedding_to['topic3'], 20000)"
   ]
  },
  {
   "cell_type": "code",
   "execution_count": 45,
   "metadata": {},
   "outputs": [
    {
     "data": {
      "text/html": [
       "<div>\n",
       "<style scoped>\n",
       "    .dataframe tbody tr th:only-of-type {\n",
       "        vertical-align: middle;\n",
       "    }\n",
       "\n",
       "    .dataframe tbody tr th {\n",
       "        vertical-align: top;\n",
       "    }\n",
       "\n",
       "    .dataframe thead th {\n",
       "        text-align: right;\n",
       "    }\n",
       "</style>\n",
       "<table border=\"1\" class=\"dataframe\">\n",
       "  <thead>\n",
       "    <tr style=\"text-align: right;\">\n",
       "      <th></th>\n",
       "      <th>Unnamed: 0</th>\n",
       "      <th>uid</th>\n",
       "      <th>topic1</th>\n",
       "      <th>topic2</th>\n",
       "      <th>topic3</th>\n",
       "    </tr>\n",
       "  </thead>\n",
       "  <tbody>\n",
       "    <tr>\n",
       "      <th>11420029</th>\n",
       "      <td>11420029</td>\n",
       "      <td>71132967</td>\n",
       "      <td>6687-7829-3450-1407-6578</td>\n",
       "      <td>10235-18318-10026-10097-15782</td>\n",
       "      <td>NaN</td>\n",
       "    </tr>\n",
       "    <tr>\n",
       "      <th>11420030</th>\n",
       "      <td>11420030</td>\n",
       "      <td>26696723</td>\n",
       "      <td>644-6586-8525-2638-4367</td>\n",
       "      <td>15298-15810-10412-14677-13393</td>\n",
       "      <td>NaN</td>\n",
       "    </tr>\n",
       "    <tr>\n",
       "      <th>11420031</th>\n",
       "      <td>11420031</td>\n",
       "      <td>5568914</td>\n",
       "      <td>8783-4264-4466-6216-142</td>\n",
       "      <td>11094-10282-12902-15188-17366</td>\n",
       "      <td>NaN</td>\n",
       "    </tr>\n",
       "    <tr>\n",
       "      <th>11420032</th>\n",
       "      <td>11420032</td>\n",
       "      <td>23358525</td>\n",
       "      <td>NaN</td>\n",
       "      <td>16619-15954-12386-19412-18893</td>\n",
       "      <td>NaN</td>\n",
       "    </tr>\n",
       "    <tr>\n",
       "      <th>11420033</th>\n",
       "      <td>11420033</td>\n",
       "      <td>56878126</td>\n",
       "      <td>6579-9826-7113-244-8460</td>\n",
       "      <td>18655-14431-16477-17389-13270</td>\n",
       "      <td>NaN</td>\n",
       "    </tr>\n",
       "    <tr>\n",
       "      <th>11420034</th>\n",
       "      <td>11420034</td>\n",
       "      <td>7613183</td>\n",
       "      <td>50-2293-39-714-7688</td>\n",
       "      <td>16500-10263-11400-10895-12826</td>\n",
       "      <td>NaN</td>\n",
       "    </tr>\n",
       "    <tr>\n",
       "      <th>11420035</th>\n",
       "      <td>11420035</td>\n",
       "      <td>44380874</td>\n",
       "      <td>6096-4164-4783-2958-2136</td>\n",
       "      <td>15271-10026-17079-19533-10203</td>\n",
       "      <td>23800-23783-21845-21110-28621</td>\n",
       "    </tr>\n",
       "    <tr>\n",
       "      <th>11420036</th>\n",
       "      <td>11420036</td>\n",
       "      <td>23288734</td>\n",
       "      <td>9826-3039-3459-523-2535</td>\n",
       "      <td>15641-17571-12537-18402-15457</td>\n",
       "      <td>NaN</td>\n",
       "    </tr>\n",
       "    <tr>\n",
       "      <th>11420037</th>\n",
       "      <td>11420037</td>\n",
       "      <td>17482116</td>\n",
       "      <td>1557-4257-5029-6584-6896</td>\n",
       "      <td>10814-14194-14857-17331-14746</td>\n",
       "      <td>NaN</td>\n",
       "    </tr>\n",
       "    <tr>\n",
       "      <th>11420038</th>\n",
       "      <td>11420038</td>\n",
       "      <td>46849102</td>\n",
       "      <td>7254-1661-5309-8575-6115</td>\n",
       "      <td>15199-13373-16431-11833-18494</td>\n",
       "      <td>NaN</td>\n",
       "    </tr>\n",
       "  </tbody>\n",
       "</table>\n",
       "</div>"
      ],
      "text/plain": [
       "<div>\n",
       "<style scoped>\n",
       "    .dataframe tbody tr th:only-of-type {\n",
       "        vertical-align: middle;\n",
       "    }\n",
       "\n",
       "    .dataframe tbody tr th {\n",
       "        vertical-align: top;\n",
       "    }\n",
       "\n",
       "    .dataframe thead th {\n",
       "        text-align: right;\n",
       "    }\n",
       "</style>\n",
       "<table border=\"1\" class=\"dataframe\">\n",
       "  <thead>\n",
       "    <tr style=\"text-align: right;\">\n",
       "      <th></th>\n",
       "      <th>Unnamed: 0</th>\n",
       "      <th>uid</th>\n",
       "      <th>topic1</th>\n",
       "      <th>topic2</th>\n",
       "      <th>topic3</th>\n",
       "    </tr>\n",
       "  </thead>\n",
       "  <tbody>\n",
       "    <tr>\n",
       "      <th>11420029</th>\n",
       "      <td>11420029</td>\n",
       "      <td>71132967</td>\n",
       "      <td>6687-7829-3450-1407-6578</td>\n",
       "      <td>10235-18318-10026-10097-15782</td>\n",
       "      <td>NaN</td>\n",
       "    </tr>\n",
       "    <tr>\n",
       "      <th>11420030</th>\n",
       "      <td>11420030</td>\n",
       "      <td>26696723</td>\n",
       "      <td>644-6586-8525-2638-4367</td>\n",
       "      <td>15298-15810-10412-14677-13393</td>\n",
       "      <td>NaN</td>\n",
       "    </tr>\n",
       "    <tr>\n",
       "      <th>11420031</th>\n",
       "      <td>11420031</td>\n",
       "      <td>5568914</td>\n",
       "      <td>8783-4264-4466-6216-142</td>\n",
       "      <td>11094-10282-12902-15188-17366</td>\n",
       "      <td>NaN</td>\n",
       "    </tr>\n",
       "    <tr>\n",
       "      <th>11420032</th>\n",
       "      <td>11420032</td>\n",
       "      <td>23358525</td>\n",
       "      <td>NaN</td>\n",
       "      <td>16619-15954-12386-19412-18893</td>\n",
       "      <td>NaN</td>\n",
       "    </tr>\n",
       "    <tr>\n",
       "      <th>11420033</th>\n",
       "      <td>11420033</td>\n",
       "      <td>56878126</td>\n",
       "      <td>6579-9826-7113-244-8460</td>\n",
       "      <td>18655-14431-16477-17389-13270</td>\n",
       "      <td>NaN</td>\n",
       "    </tr>\n",
       "    <tr>\n",
       "      <th>11420034</th>\n",
       "      <td>11420034</td>\n",
       "      <td>7613183</td>\n",
       "      <td>50-2293-39-714-7688</td>\n",
       "      <td>16500-10263-11400-10895-12826</td>\n",
       "      <td>NaN</td>\n",
       "    </tr>\n",
       "    <tr>\n",
       "      <th>11420035</th>\n",
       "      <td>11420035</td>\n",
       "      <td>44380874</td>\n",
       "      <td>6096-4164-4783-2958-2136</td>\n",
       "      <td>15271-10026-17079-19533-10203</td>\n",
       "      <td>23800-23783-21845-21110-28621</td>\n",
       "    </tr>\n",
       "    <tr>\n",
       "      <th>11420036</th>\n",
       "      <td>11420036</td>\n",
       "      <td>23288734</td>\n",
       "      <td>9826-3039-3459-523-2535</td>\n",
       "      <td>15641-17571-12537-18402-15457</td>\n",
       "      <td>NaN</td>\n",
       "    </tr>\n",
       "    <tr>\n",
       "      <th>11420037</th>\n",
       "      <td>11420037</td>\n",
       "      <td>17482116</td>\n",
       "      <td>1557-4257-5029-6584-6896</td>\n",
       "      <td>10814-14194-14857-17331-14746</td>\n",
       "      <td>NaN</td>\n",
       "    </tr>\n",
       "    <tr>\n",
       "      <th>11420038</th>\n",
       "      <td>11420038</td>\n",
       "      <td>46849102</td>\n",
       "      <td>7254-1661-5309-8575-6115</td>\n",
       "      <td>15199-13373-16431-11833-18494</td>\n",
       "      <td>NaN</td>\n",
       "    </tr>\n",
       "  </tbody>\n",
       "</table>\n",
       "</div>"
      ]
     },
     "execution_count": 45,
     "metadata": {},
     "output_type": "execute_result"
    }
   ],
   "source": [
    "user_feature_embedding_to['topic2'] = added_to2 \n",
    "user_feature_embedding_to['topic3'] = added_to3 \n",
    "user_feature_embedding_to.tail(10)"
   ]
  },
  {
   "cell_type": "code",
   "execution_count": 46,
   "metadata": {},
   "outputs": [
    {
     "name": "stdout",
     "output_type": "stream",
     "text": [
      "progress: 0%\r"
     ]
    },
    {
     "name": "stdout",
     "output_type": "stream",
     "text": [
      "progress: 10%\r"
     ]
    },
    {
     "name": "stdout",
     "output_type": "stream",
     "text": [
      "progress: 20%\r"
     ]
    },
    {
     "name": "stdout",
     "output_type": "stream",
     "text": [
      "progress: 30%\r"
     ]
    },
    {
     "name": "stdout",
     "output_type": "stream",
     "text": [
      "progress: 40%\r"
     ]
    },
    {
     "name": "stdout",
     "output_type": "stream",
     "text": [
      "progress: 50%\r"
     ]
    },
    {
     "name": "stdout",
     "output_type": "stream",
     "text": [
      "progress: 60%\r"
     ]
    },
    {
     "name": "stdout",
     "output_type": "stream",
     "text": [
      "progress: 70%\r"
     ]
    },
    {
     "name": "stdout",
     "output_type": "stream",
     "text": [
      "progress: 80%\r"
     ]
    },
    {
     "name": "stdout",
     "output_type": "stream",
     "text": [
      "progress: 90%\r"
     ]
    },
    {
     "name": "stdout",
     "output_type": "stream",
     "text": [
      "progress: 100%\r"
     ]
    },
    {
     "name": "stdout",
     "output_type": "stream",
     "text": [
      "progress: 100%\n"
     ]
    },
    {
     "name": "stdout",
     "output_type": "stream",
     "text": [
      "progress: 0%\r"
     ]
    },
    {
     "name": "stdout",
     "output_type": "stream",
     "text": [
      "progress: 10%\r"
     ]
    },
    {
     "name": "stdout",
     "output_type": "stream",
     "text": [
      "progress: 20%\r"
     ]
    },
    {
     "name": "stdout",
     "output_type": "stream",
     "text": [
      "progress: 30%\r"
     ]
    },
    {
     "name": "stdout",
     "output_type": "stream",
     "text": [
      "progress: 40%\r"
     ]
    },
    {
     "name": "stdout",
     "output_type": "stream",
     "text": [
      "progress: 50%\r"
     ]
    },
    {
     "name": "stdout",
     "output_type": "stream",
     "text": [
      "progress: 60%\r"
     ]
    },
    {
     "name": "stdout",
     "output_type": "stream",
     "text": [
      "progress: 70%\r"
     ]
    },
    {
     "name": "stdout",
     "output_type": "stream",
     "text": [
      "progress: 80%\r"
     ]
    },
    {
     "name": "stdout",
     "output_type": "stream",
     "text": [
      "progress: 90%\r"
     ]
    },
    {
     "name": "stdout",
     "output_type": "stream",
     "text": [
      "progress: 100%\r"
     ]
    },
    {
     "name": "stdout",
     "output_type": "stream",
     "text": [
      "progress: 100%\n"
     ]
    }
   ],
   "source": [
    "user_feature_embedding_to12 = utils.merge_feature(user_feature_embedding_to, 'topic1', 'topic2')\n",
    "user_feature_embedding_to123 = utils.merge_feature(user_feature_embedding_to12, 'topic1topic2', 'topic3')"
   ]
  },
  {
   "cell_type": "code",
   "execution_count": 47,
   "metadata": {},
   "outputs": [
    {
     "data": {
      "text/html": [
       "<div>\n",
       "<style scoped>\n",
       "    .dataframe tbody tr th:only-of-type {\n",
       "        vertical-align: middle;\n",
       "    }\n",
       "\n",
       "    .dataframe tbody tr th {\n",
       "        vertical-align: top;\n",
       "    }\n",
       "\n",
       "    .dataframe thead th {\n",
       "        text-align: right;\n",
       "    }\n",
       "</style>\n",
       "<table border=\"1\" class=\"dataframe\">\n",
       "  <thead>\n",
       "    <tr style=\"text-align: right;\">\n",
       "      <th></th>\n",
       "      <th>Unnamed: 0</th>\n",
       "      <th>uid</th>\n",
       "      <th>topic</th>\n",
       "    </tr>\n",
       "  </thead>\n",
       "  <tbody>\n",
       "    <tr>\n",
       "      <th>11420029</th>\n",
       "      <td>11420029</td>\n",
       "      <td>71132967</td>\n",
       "      <td>6687-7829-3450-1407-6578-10235-18318-10026-100...</td>\n",
       "    </tr>\n",
       "    <tr>\n",
       "      <th>11420030</th>\n",
       "      <td>11420030</td>\n",
       "      <td>26696723</td>\n",
       "      <td>644-6586-8525-2638-4367-15298-15810-10412-1467...</td>\n",
       "    </tr>\n",
       "    <tr>\n",
       "      <th>11420031</th>\n",
       "      <td>11420031</td>\n",
       "      <td>5568914</td>\n",
       "      <td>8783-4264-4466-6216-142-11094-10282-12902-1518...</td>\n",
       "    </tr>\n",
       "    <tr>\n",
       "      <th>11420032</th>\n",
       "      <td>11420032</td>\n",
       "      <td>23358525</td>\n",
       "      <td>16619-15954-12386-19412-18893</td>\n",
       "    </tr>\n",
       "    <tr>\n",
       "      <th>11420033</th>\n",
       "      <td>11420033</td>\n",
       "      <td>56878126</td>\n",
       "      <td>6579-9826-7113-244-8460-18655-14431-16477-1738...</td>\n",
       "    </tr>\n",
       "    <tr>\n",
       "      <th>11420034</th>\n",
       "      <td>11420034</td>\n",
       "      <td>7613183</td>\n",
       "      <td>50-2293-39-714-7688-16500-10263-11400-10895-12826</td>\n",
       "    </tr>\n",
       "    <tr>\n",
       "      <th>11420035</th>\n",
       "      <td>11420035</td>\n",
       "      <td>44380874</td>\n",
       "      <td>6096-4164-4783-2958-2136-15271-10026-17079-195...</td>\n",
       "    </tr>\n",
       "    <tr>\n",
       "      <th>11420036</th>\n",
       "      <td>11420036</td>\n",
       "      <td>23288734</td>\n",
       "      <td>9826-3039-3459-523-2535-15641-17571-12537-1840...</td>\n",
       "    </tr>\n",
       "    <tr>\n",
       "      <th>11420037</th>\n",
       "      <td>11420037</td>\n",
       "      <td>17482116</td>\n",
       "      <td>1557-4257-5029-6584-6896-10814-14194-14857-173...</td>\n",
       "    </tr>\n",
       "    <tr>\n",
       "      <th>11420038</th>\n",
       "      <td>11420038</td>\n",
       "      <td>46849102</td>\n",
       "      <td>7254-1661-5309-8575-6115-15199-13373-16431-118...</td>\n",
       "    </tr>\n",
       "  </tbody>\n",
       "</table>\n",
       "</div>"
      ],
      "text/plain": [
       "<div>\n",
       "<style scoped>\n",
       "    .dataframe tbody tr th:only-of-type {\n",
       "        vertical-align: middle;\n",
       "    }\n",
       "\n",
       "    .dataframe tbody tr th {\n",
       "        vertical-align: top;\n",
       "    }\n",
       "\n",
       "    .dataframe thead th {\n",
       "        text-align: right;\n",
       "    }\n",
       "</style>\n",
       "<table border=\"1\" class=\"dataframe\">\n",
       "  <thead>\n",
       "    <tr style=\"text-align: right;\">\n",
       "      <th></th>\n",
       "      <th>Unnamed: 0</th>\n",
       "      <th>uid</th>\n",
       "      <th>topic</th>\n",
       "    </tr>\n",
       "  </thead>\n",
       "  <tbody>\n",
       "    <tr>\n",
       "      <th>11420029</th>\n",
       "      <td>11420029</td>\n",
       "      <td>71132967</td>\n",
       "      <td>6687-7829-3450-1407-6578-10235-18318-10026-100...</td>\n",
       "    </tr>\n",
       "    <tr>\n",
       "      <th>11420030</th>\n",
       "      <td>11420030</td>\n",
       "      <td>26696723</td>\n",
       "      <td>644-6586-8525-2638-4367-15298-15810-10412-1467...</td>\n",
       "    </tr>\n",
       "    <tr>\n",
       "      <th>11420031</th>\n",
       "      <td>11420031</td>\n",
       "      <td>5568914</td>\n",
       "      <td>8783-4264-4466-6216-142-11094-10282-12902-1518...</td>\n",
       "    </tr>\n",
       "    <tr>\n",
       "      <th>11420032</th>\n",
       "      <td>11420032</td>\n",
       "      <td>23358525</td>\n",
       "      <td>16619-15954-12386-19412-18893</td>\n",
       "    </tr>\n",
       "    <tr>\n",
       "      <th>11420033</th>\n",
       "      <td>11420033</td>\n",
       "      <td>56878126</td>\n",
       "      <td>6579-9826-7113-244-8460-18655-14431-16477-1738...</td>\n",
       "    </tr>\n",
       "    <tr>\n",
       "      <th>11420034</th>\n",
       "      <td>11420034</td>\n",
       "      <td>7613183</td>\n",
       "      <td>50-2293-39-714-7688-16500-10263-11400-10895-12826</td>\n",
       "    </tr>\n",
       "    <tr>\n",
       "      <th>11420035</th>\n",
       "      <td>11420035</td>\n",
       "      <td>44380874</td>\n",
       "      <td>6096-4164-4783-2958-2136-15271-10026-17079-195...</td>\n",
       "    </tr>\n",
       "    <tr>\n",
       "      <th>11420036</th>\n",
       "      <td>11420036</td>\n",
       "      <td>23288734</td>\n",
       "      <td>9826-3039-3459-523-2535-15641-17571-12537-1840...</td>\n",
       "    </tr>\n",
       "    <tr>\n",
       "      <th>11420037</th>\n",
       "      <td>11420037</td>\n",
       "      <td>17482116</td>\n",
       "      <td>1557-4257-5029-6584-6896-10814-14194-14857-173...</td>\n",
       "    </tr>\n",
       "    <tr>\n",
       "      <th>11420038</th>\n",
       "      <td>11420038</td>\n",
       "      <td>46849102</td>\n",
       "      <td>7254-1661-5309-8575-6115-15199-13373-16431-118...</td>\n",
       "    </tr>\n",
       "  </tbody>\n",
       "</table>\n",
       "</div>"
      ]
     },
     "execution_count": 47,
     "metadata": {},
     "output_type": "execute_result"
    }
   ],
   "source": [
    "user_feature_embedding_to123.rename(columns={'topic1topic2topic3': 'topic'}, inplace=True)\n",
    "user_feature_embedding_to123.tail(10)"
   ]
  },
  {
   "cell_type": "code",
   "execution_count": 48,
   "metadata": {},
   "outputs": [],
   "source": [
    "user_feature_embedding_to123.to_csv('data/user_feature_embedding_to_merged.csv', columns=['uid', 'topic'], index=False)"
   ]
  },
  {
   "cell_type": "heading",
   "metadata": {},
   "level": 1,
   "source": [
    "加载app并合并"
   ]
  },
  {
   "cell_type": "code",
   "execution_count": 50,
   "metadata": {},
   "outputs": [],
   "source": [
    "user_feature_embedding_app = pd.read_csv('data/user_feature_embedding_app.csv')"
   ]
  },
  {
   "cell_type": "code",
   "execution_count": 51,
   "metadata": {},
   "outputs": [
    {
     "name": "stdout",
     "output_type": "stream",
     "text": [
      "progress: 100%\n"
     ]
    }
   ],
   "source": [
    "added_app2 = utils.add_base_for_all(user_feature_embedding_app['appIdAction'], 70000)"
   ]
  },
  {
   "cell_type": "code",
   "execution_count": 57,
   "metadata": {},
   "outputs": [
    {
     "data": {
      "text/html": [
       "<div>\n",
       "<style scoped>\n",
       "    .dataframe tbody tr th:only-of-type {\n",
       "        vertical-align: middle;\n",
       "    }\n",
       "\n",
       "    .dataframe tbody tr th {\n",
       "        vertical-align: top;\n",
       "    }\n",
       "\n",
       "    .dataframe thead th {\n",
       "        text-align: right;\n",
       "    }\n",
       "</style>\n",
       "<table border=\"1\" class=\"dataframe\">\n",
       "  <thead>\n",
       "    <tr style=\"text-align: right;\">\n",
       "      <th></th>\n",
       "      <th>Unnamed: 0</th>\n",
       "      <th>uid</th>\n",
       "      <th>appIdInstall</th>\n",
       "      <th>appIdAction</th>\n",
       "    </tr>\n",
       "  </thead>\n",
       "  <tbody>\n",
       "    <tr>\n",
       "      <th>11419939</th>\n",
       "      <td>11419939</td>\n",
       "      <td>43212985</td>\n",
       "      <td>NaN</td>\n",
       "      <td>NaN</td>\n",
       "    </tr>\n",
       "    <tr>\n",
       "      <th>11419940</th>\n",
       "      <td>11419940</td>\n",
       "      <td>80714503</td>\n",
       "      <td>NaN</td>\n",
       "      <td>NaN</td>\n",
       "    </tr>\n",
       "    <tr>\n",
       "      <th>11419941</th>\n",
       "      <td>11419941</td>\n",
       "      <td>17534046</td>\n",
       "      <td>NaN</td>\n",
       "      <td>NaN</td>\n",
       "    </tr>\n",
       "    <tr>\n",
       "      <th>11419942</th>\n",
       "      <td>11419942</td>\n",
       "      <td>79141155</td>\n",
       "      <td>NaN</td>\n",
       "      <td>74681-70908-74041-71171-72602</td>\n",
       "    </tr>\n",
       "    <tr>\n",
       "      <th>11419943</th>\n",
       "      <td>11419943</td>\n",
       "      <td>78087196</td>\n",
       "      <td>NaN</td>\n",
       "      <td>NaN</td>\n",
       "    </tr>\n",
       "    <tr>\n",
       "      <th>11419944</th>\n",
       "      <td>11419944</td>\n",
       "      <td>26012499</td>\n",
       "      <td>NaN</td>\n",
       "      <td>NaN</td>\n",
       "    </tr>\n",
       "    <tr>\n",
       "      <th>11419945</th>\n",
       "      <td>11419945</td>\n",
       "      <td>1273858</td>\n",
       "      <td>NaN</td>\n",
       "      <td>NaN</td>\n",
       "    </tr>\n",
       "    <tr>\n",
       "      <th>11419946</th>\n",
       "      <td>11419946</td>\n",
       "      <td>70184616</td>\n",
       "      <td>NaN</td>\n",
       "      <td>NaN</td>\n",
       "    </tr>\n",
       "    <tr>\n",
       "      <th>11419947</th>\n",
       "      <td>11419947</td>\n",
       "      <td>66381083</td>\n",
       "      <td>NaN</td>\n",
       "      <td>NaN</td>\n",
       "    </tr>\n",
       "    <tr>\n",
       "      <th>11419948</th>\n",
       "      <td>11419948</td>\n",
       "      <td>30848295</td>\n",
       "      <td>NaN</td>\n",
       "      <td>NaN</td>\n",
       "    </tr>\n",
       "    <tr>\n",
       "      <th>11419949</th>\n",
       "      <td>11419949</td>\n",
       "      <td>76033050</td>\n",
       "      <td>NaN</td>\n",
       "      <td>NaN</td>\n",
       "    </tr>\n",
       "    <tr>\n",
       "      <th>11419950</th>\n",
       "      <td>11419950</td>\n",
       "      <td>13260048</td>\n",
       "      <td>NaN</td>\n",
       "      <td>NaN</td>\n",
       "    </tr>\n",
       "    <tr>\n",
       "      <th>11419951</th>\n",
       "      <td>11419951</td>\n",
       "      <td>65129150</td>\n",
       "      <td>NaN</td>\n",
       "      <td>NaN</td>\n",
       "    </tr>\n",
       "    <tr>\n",
       "      <th>11419952</th>\n",
       "      <td>11419952</td>\n",
       "      <td>40248494</td>\n",
       "      <td>NaN</td>\n",
       "      <td>NaN</td>\n",
       "    </tr>\n",
       "    <tr>\n",
       "      <th>11419953</th>\n",
       "      <td>11419953</td>\n",
       "      <td>40013010</td>\n",
       "      <td>NaN</td>\n",
       "      <td>NaN</td>\n",
       "    </tr>\n",
       "    <tr>\n",
       "      <th>11419954</th>\n",
       "      <td>11419954</td>\n",
       "      <td>39927335</td>\n",
       "      <td>NaN</td>\n",
       "      <td>NaN</td>\n",
       "    </tr>\n",
       "    <tr>\n",
       "      <th>11419955</th>\n",
       "      <td>11419955</td>\n",
       "      <td>8818950</td>\n",
       "      <td>NaN</td>\n",
       "      <td>NaN</td>\n",
       "    </tr>\n",
       "    <tr>\n",
       "      <th>11419956</th>\n",
       "      <td>11419956</td>\n",
       "      <td>20046695</td>\n",
       "      <td>NaN</td>\n",
       "      <td>NaN</td>\n",
       "    </tr>\n",
       "    <tr>\n",
       "      <th>11419957</th>\n",
       "      <td>11419957</td>\n",
       "      <td>40465124</td>\n",
       "      <td>NaN</td>\n",
       "      <td>NaN</td>\n",
       "    </tr>\n",
       "    <tr>\n",
       "      <th>11419958</th>\n",
       "      <td>11419958</td>\n",
       "      <td>82216450</td>\n",
       "      <td>NaN</td>\n",
       "      <td>NaN</td>\n",
       "    </tr>\n",
       "    <tr>\n",
       "      <th>11419959</th>\n",
       "      <td>11419959</td>\n",
       "      <td>58909377</td>\n",
       "      <td>NaN</td>\n",
       "      <td>NaN</td>\n",
       "    </tr>\n",
       "    <tr>\n",
       "      <th>11419960</th>\n",
       "      <td>11419960</td>\n",
       "      <td>33920817</td>\n",
       "      <td>NaN</td>\n",
       "      <td>NaN</td>\n",
       "    </tr>\n",
       "    <tr>\n",
       "      <th>11419961</th>\n",
       "      <td>11419961</td>\n",
       "      <td>72361689</td>\n",
       "      <td>NaN</td>\n",
       "      <td>NaN</td>\n",
       "    </tr>\n",
       "    <tr>\n",
       "      <th>11419962</th>\n",
       "      <td>11419962</td>\n",
       "      <td>63387476</td>\n",
       "      <td>NaN</td>\n",
       "      <td>NaN</td>\n",
       "    </tr>\n",
       "    <tr>\n",
       "      <th>11419963</th>\n",
       "      <td>11419963</td>\n",
       "      <td>59771828</td>\n",
       "      <td>NaN</td>\n",
       "      <td>NaN</td>\n",
       "    </tr>\n",
       "    <tr>\n",
       "      <th>11419964</th>\n",
       "      <td>11419964</td>\n",
       "      <td>2160033</td>\n",
       "      <td>NaN</td>\n",
       "      <td>NaN</td>\n",
       "    </tr>\n",
       "    <tr>\n",
       "      <th>11419965</th>\n",
       "      <td>11419965</td>\n",
       "      <td>52908781</td>\n",
       "      <td>NaN</td>\n",
       "      <td>NaN</td>\n",
       "    </tr>\n",
       "    <tr>\n",
       "      <th>11419966</th>\n",
       "      <td>11419966</td>\n",
       "      <td>73491522</td>\n",
       "      <td>NaN</td>\n",
       "      <td>NaN</td>\n",
       "    </tr>\n",
       "    <tr>\n",
       "      <th>11419967</th>\n",
       "      <td>11419967</td>\n",
       "      <td>746554</td>\n",
       "      <td>NaN</td>\n",
       "      <td>NaN</td>\n",
       "    </tr>\n",
       "    <tr>\n",
       "      <th>11419968</th>\n",
       "      <td>11419968</td>\n",
       "      <td>71792318</td>\n",
       "      <td>NaN</td>\n",
       "      <td>NaN</td>\n",
       "    </tr>\n",
       "    <tr>\n",
       "      <th>...</th>\n",
       "      <td>...</td>\n",
       "      <td>...</td>\n",
       "      <td>...</td>\n",
       "      <td>...</td>\n",
       "    </tr>\n",
       "    <tr>\n",
       "      <th>11420009</th>\n",
       "      <td>11420009</td>\n",
       "      <td>28766696</td>\n",
       "      <td>NaN</td>\n",
       "      <td>NaN</td>\n",
       "    </tr>\n",
       "    <tr>\n",
       "      <th>11420010</th>\n",
       "      <td>11420010</td>\n",
       "      <td>9379016</td>\n",
       "      <td>NaN</td>\n",
       "      <td>NaN</td>\n",
       "    </tr>\n",
       "    <tr>\n",
       "      <th>11420011</th>\n",
       "      <td>11420011</td>\n",
       "      <td>36778060</td>\n",
       "      <td>NaN</td>\n",
       "      <td>NaN</td>\n",
       "    </tr>\n",
       "    <tr>\n",
       "      <th>11420012</th>\n",
       "      <td>11420012</td>\n",
       "      <td>65477341</td>\n",
       "      <td>NaN</td>\n",
       "      <td>NaN</td>\n",
       "    </tr>\n",
       "    <tr>\n",
       "      <th>11420013</th>\n",
       "      <td>11420013</td>\n",
       "      <td>62071751</td>\n",
       "      <td>NaN</td>\n",
       "      <td>NaN</td>\n",
       "    </tr>\n",
       "    <tr>\n",
       "      <th>11420014</th>\n",
       "      <td>11420014</td>\n",
       "      <td>23875871</td>\n",
       "      <td>NaN</td>\n",
       "      <td>NaN</td>\n",
       "    </tr>\n",
       "    <tr>\n",
       "      <th>11420015</th>\n",
       "      <td>11420015</td>\n",
       "      <td>72482685</td>\n",
       "      <td>NaN</td>\n",
       "      <td>NaN</td>\n",
       "    </tr>\n",
       "    <tr>\n",
       "      <th>11420016</th>\n",
       "      <td>11420016</td>\n",
       "      <td>49633124</td>\n",
       "      <td>NaN</td>\n",
       "      <td>NaN</td>\n",
       "    </tr>\n",
       "    <tr>\n",
       "      <th>11420017</th>\n",
       "      <td>11420017</td>\n",
       "      <td>34232279</td>\n",
       "      <td>NaN</td>\n",
       "      <td>NaN</td>\n",
       "    </tr>\n",
       "    <tr>\n",
       "      <th>11420018</th>\n",
       "      <td>11420018</td>\n",
       "      <td>43019794</td>\n",
       "      <td>NaN</td>\n",
       "      <td>NaN</td>\n",
       "    </tr>\n",
       "    <tr>\n",
       "      <th>11420019</th>\n",
       "      <td>11420019</td>\n",
       "      <td>9491382</td>\n",
       "      <td>NaN</td>\n",
       "      <td>NaN</td>\n",
       "    </tr>\n",
       "    <tr>\n",
       "      <th>11420020</th>\n",
       "      <td>11420020</td>\n",
       "      <td>56646987</td>\n",
       "      <td>NaN</td>\n",
       "      <td>NaN</td>\n",
       "    </tr>\n",
       "    <tr>\n",
       "      <th>11420021</th>\n",
       "      <td>11420021</td>\n",
       "      <td>2382797</td>\n",
       "      <td>NaN</td>\n",
       "      <td>NaN</td>\n",
       "    </tr>\n",
       "    <tr>\n",
       "      <th>11420022</th>\n",
       "      <td>11420022</td>\n",
       "      <td>80135113</td>\n",
       "      <td>NaN</td>\n",
       "      <td>NaN</td>\n",
       "    </tr>\n",
       "    <tr>\n",
       "      <th>11420023</th>\n",
       "      <td>11420023</td>\n",
       "      <td>56723604</td>\n",
       "      <td>NaN</td>\n",
       "      <td>NaN</td>\n",
       "    </tr>\n",
       "    <tr>\n",
       "      <th>11420024</th>\n",
       "      <td>11420024</td>\n",
       "      <td>77888846</td>\n",
       "      <td>NaN</td>\n",
       "      <td>NaN</td>\n",
       "    </tr>\n",
       "    <tr>\n",
       "      <th>11420025</th>\n",
       "      <td>11420025</td>\n",
       "      <td>67598382</td>\n",
       "      <td>NaN</td>\n",
       "      <td>NaN</td>\n",
       "    </tr>\n",
       "    <tr>\n",
       "      <th>11420026</th>\n",
       "      <td>11420026</td>\n",
       "      <td>60350852</td>\n",
       "      <td>NaN</td>\n",
       "      <td>NaN</td>\n",
       "    </tr>\n",
       "    <tr>\n",
       "      <th>11420027</th>\n",
       "      <td>11420027</td>\n",
       "      <td>60142126</td>\n",
       "      <td>NaN</td>\n",
       "      <td>NaN</td>\n",
       "    </tr>\n",
       "    <tr>\n",
       "      <th>11420028</th>\n",
       "      <td>11420028</td>\n",
       "      <td>16562764</td>\n",
       "      <td>NaN</td>\n",
       "      <td>NaN</td>\n",
       "    </tr>\n",
       "    <tr>\n",
       "      <th>11420029</th>\n",
       "      <td>11420029</td>\n",
       "      <td>71132967</td>\n",
       "      <td>NaN</td>\n",
       "      <td>NaN</td>\n",
       "    </tr>\n",
       "    <tr>\n",
       "      <th>11420030</th>\n",
       "      <td>11420030</td>\n",
       "      <td>26696723</td>\n",
       "      <td>NaN</td>\n",
       "      <td>NaN</td>\n",
       "    </tr>\n",
       "    <tr>\n",
       "      <th>11420031</th>\n",
       "      <td>11420031</td>\n",
       "      <td>5568914</td>\n",
       "      <td>NaN</td>\n",
       "      <td>NaN</td>\n",
       "    </tr>\n",
       "    <tr>\n",
       "      <th>11420032</th>\n",
       "      <td>11420032</td>\n",
       "      <td>23358525</td>\n",
       "      <td>NaN</td>\n",
       "      <td>NaN</td>\n",
       "    </tr>\n",
       "    <tr>\n",
       "      <th>11420033</th>\n",
       "      <td>11420033</td>\n",
       "      <td>56878126</td>\n",
       "      <td>NaN</td>\n",
       "      <td>NaN</td>\n",
       "    </tr>\n",
       "    <tr>\n",
       "      <th>11420034</th>\n",
       "      <td>11420034</td>\n",
       "      <td>7613183</td>\n",
       "      <td>NaN</td>\n",
       "      <td>NaN</td>\n",
       "    </tr>\n",
       "    <tr>\n",
       "      <th>11420035</th>\n",
       "      <td>11420035</td>\n",
       "      <td>44380874</td>\n",
       "      <td>NaN</td>\n",
       "      <td>NaN</td>\n",
       "    </tr>\n",
       "    <tr>\n",
       "      <th>11420036</th>\n",
       "      <td>11420036</td>\n",
       "      <td>23288734</td>\n",
       "      <td>NaN</td>\n",
       "      <td>NaN</td>\n",
       "    </tr>\n",
       "    <tr>\n",
       "      <th>11420037</th>\n",
       "      <td>11420037</td>\n",
       "      <td>17482116</td>\n",
       "      <td>NaN</td>\n",
       "      <td>NaN</td>\n",
       "    </tr>\n",
       "    <tr>\n",
       "      <th>11420038</th>\n",
       "      <td>11420038</td>\n",
       "      <td>46849102</td>\n",
       "      <td>NaN</td>\n",
       "      <td>NaN</td>\n",
       "    </tr>\n",
       "  </tbody>\n",
       "</table>\n",
       "<p>100 rows × 4 columns</p>\n",
       "</div>"
      ],
      "text/plain": [
       "<div>\n",
       "<style scoped>\n",
       "    .dataframe tbody tr th:only-of-type {\n",
       "        vertical-align: middle;\n",
       "    }\n",
       "\n",
       "    .dataframe tbody tr th {\n",
       "        vertical-align: top;\n",
       "    }\n",
       "\n",
       "    .dataframe thead th {\n",
       "        text-align: right;\n",
       "    }\n",
       "</style>\n",
       "<table border=\"1\" class=\"dataframe\">\n",
       "  <thead>\n",
       "    <tr style=\"text-align: right;\">\n",
       "      <th></th>\n",
       "      <th>Unnamed: 0</th>\n",
       "      <th>uid</th>\n",
       "      <th>appIdInstall</th>\n",
       "      <th>appIdAction</th>\n",
       "    </tr>\n",
       "  </thead>\n",
       "  <tbody>\n",
       "    <tr>\n",
       "      <th>11419939</th>\n",
       "      <td>11419939</td>\n",
       "      <td>43212985</td>\n",
       "      <td>NaN</td>\n",
       "      <td>NaN</td>\n",
       "    </tr>\n",
       "    <tr>\n",
       "      <th>11419940</th>\n",
       "      <td>11419940</td>\n",
       "      <td>80714503</td>\n",
       "      <td>NaN</td>\n",
       "      <td>NaN</td>\n",
       "    </tr>\n",
       "    <tr>\n",
       "      <th>11419941</th>\n",
       "      <td>11419941</td>\n",
       "      <td>17534046</td>\n",
       "      <td>NaN</td>\n",
       "      <td>NaN</td>\n",
       "    </tr>\n",
       "    <tr>\n",
       "      <th>11419942</th>\n",
       "      <td>11419942</td>\n",
       "      <td>79141155</td>\n",
       "      <td>NaN</td>\n",
       "      <td>74681-70908-74041-71171-72602</td>\n",
       "    </tr>\n",
       "    <tr>\n",
       "      <th>11419943</th>\n",
       "      <td>11419943</td>\n",
       "      <td>78087196</td>\n",
       "      <td>NaN</td>\n",
       "      <td>NaN</td>\n",
       "    </tr>\n",
       "    <tr>\n",
       "      <th>11419944</th>\n",
       "      <td>11419944</td>\n",
       "      <td>26012499</td>\n",
       "      <td>NaN</td>\n",
       "      <td>NaN</td>\n",
       "    </tr>\n",
       "    <tr>\n",
       "      <th>11419945</th>\n",
       "      <td>11419945</td>\n",
       "      <td>1273858</td>\n",
       "      <td>NaN</td>\n",
       "      <td>NaN</td>\n",
       "    </tr>\n",
       "    <tr>\n",
       "      <th>11419946</th>\n",
       "      <td>11419946</td>\n",
       "      <td>70184616</td>\n",
       "      <td>NaN</td>\n",
       "      <td>NaN</td>\n",
       "    </tr>\n",
       "    <tr>\n",
       "      <th>11419947</th>\n",
       "      <td>11419947</td>\n",
       "      <td>66381083</td>\n",
       "      <td>NaN</td>\n",
       "      <td>NaN</td>\n",
       "    </tr>\n",
       "    <tr>\n",
       "      <th>11419948</th>\n",
       "      <td>11419948</td>\n",
       "      <td>30848295</td>\n",
       "      <td>NaN</td>\n",
       "      <td>NaN</td>\n",
       "    </tr>\n",
       "    <tr>\n",
       "      <th>11419949</th>\n",
       "      <td>11419949</td>\n",
       "      <td>76033050</td>\n",
       "      <td>NaN</td>\n",
       "      <td>NaN</td>\n",
       "    </tr>\n",
       "    <tr>\n",
       "      <th>11419950</th>\n",
       "      <td>11419950</td>\n",
       "      <td>13260048</td>\n",
       "      <td>NaN</td>\n",
       "      <td>NaN</td>\n",
       "    </tr>\n",
       "    <tr>\n",
       "      <th>11419951</th>\n",
       "      <td>11419951</td>\n",
       "      <td>65129150</td>\n",
       "      <td>NaN</td>\n",
       "      <td>NaN</td>\n",
       "    </tr>\n",
       "    <tr>\n",
       "      <th>11419952</th>\n",
       "      <td>11419952</td>\n",
       "      <td>40248494</td>\n",
       "      <td>NaN</td>\n",
       "      <td>NaN</td>\n",
       "    </tr>\n",
       "    <tr>\n",
       "      <th>11419953</th>\n",
       "      <td>11419953</td>\n",
       "      <td>40013010</td>\n",
       "      <td>NaN</td>\n",
       "      <td>NaN</td>\n",
       "    </tr>\n",
       "    <tr>\n",
       "      <th>11419954</th>\n",
       "      <td>11419954</td>\n",
       "      <td>39927335</td>\n",
       "      <td>NaN</td>\n",
       "      <td>NaN</td>\n",
       "    </tr>\n",
       "    <tr>\n",
       "      <th>11419955</th>\n",
       "      <td>11419955</td>\n",
       "      <td>8818950</td>\n",
       "      <td>NaN</td>\n",
       "      <td>NaN</td>\n",
       "    </tr>\n",
       "    <tr>\n",
       "      <th>11419956</th>\n",
       "      <td>11419956</td>\n",
       "      <td>20046695</td>\n",
       "      <td>NaN</td>\n",
       "      <td>NaN</td>\n",
       "    </tr>\n",
       "    <tr>\n",
       "      <th>11419957</th>\n",
       "      <td>11419957</td>\n",
       "      <td>40465124</td>\n",
       "      <td>NaN</td>\n",
       "      <td>NaN</td>\n",
       "    </tr>\n",
       "    <tr>\n",
       "      <th>11419958</th>\n",
       "      <td>11419958</td>\n",
       "      <td>82216450</td>\n",
       "      <td>NaN</td>\n",
       "      <td>NaN</td>\n",
       "    </tr>\n",
       "    <tr>\n",
       "      <th>11419959</th>\n",
       "      <td>11419959</td>\n",
       "      <td>58909377</td>\n",
       "      <td>NaN</td>\n",
       "      <td>NaN</td>\n",
       "    </tr>\n",
       "    <tr>\n",
       "      <th>11419960</th>\n",
       "      <td>11419960</td>\n",
       "      <td>33920817</td>\n",
       "      <td>NaN</td>\n",
       "      <td>NaN</td>\n",
       "    </tr>\n",
       "    <tr>\n",
       "      <th>11419961</th>\n",
       "      <td>11419961</td>\n",
       "      <td>72361689</td>\n",
       "      <td>NaN</td>\n",
       "      <td>NaN</td>\n",
       "    </tr>\n",
       "    <tr>\n",
       "      <th>11419962</th>\n",
       "      <td>11419962</td>\n",
       "      <td>63387476</td>\n",
       "      <td>NaN</td>\n",
       "      <td>NaN</td>\n",
       "    </tr>\n",
       "    <tr>\n",
       "      <th>11419963</th>\n",
       "      <td>11419963</td>\n",
       "      <td>59771828</td>\n",
       "      <td>NaN</td>\n",
       "      <td>NaN</td>\n",
       "    </tr>\n",
       "    <tr>\n",
       "      <th>11419964</th>\n",
       "      <td>11419964</td>\n",
       "      <td>2160033</td>\n",
       "      <td>NaN</td>\n",
       "      <td>NaN</td>\n",
       "    </tr>\n",
       "    <tr>\n",
       "      <th>11419965</th>\n",
       "      <td>11419965</td>\n",
       "      <td>52908781</td>\n",
       "      <td>NaN</td>\n",
       "      <td>NaN</td>\n",
       "    </tr>\n",
       "    <tr>\n",
       "      <th>11419966</th>\n",
       "      <td>11419966</td>\n",
       "      <td>73491522</td>\n",
       "      <td>NaN</td>\n",
       "      <td>NaN</td>\n",
       "    </tr>\n",
       "    <tr>\n",
       "      <th>11419967</th>\n",
       "      <td>11419967</td>\n",
       "      <td>746554</td>\n",
       "      <td>NaN</td>\n",
       "      <td>NaN</td>\n",
       "    </tr>\n",
       "    <tr>\n",
       "      <th>11419968</th>\n",
       "      <td>11419968</td>\n",
       "      <td>71792318</td>\n",
       "      <td>NaN</td>\n",
       "      <td>NaN</td>\n",
       "    </tr>\n",
       "    <tr>\n",
       "      <th>...</th>\n",
       "      <td>...</td>\n",
       "      <td>...</td>\n",
       "      <td>...</td>\n",
       "      <td>...</td>\n",
       "    </tr>\n",
       "    <tr>\n",
       "      <th>11420009</th>\n",
       "      <td>11420009</td>\n",
       "      <td>28766696</td>\n",
       "      <td>NaN</td>\n",
       "      <td>NaN</td>\n",
       "    </tr>\n",
       "    <tr>\n",
       "      <th>11420010</th>\n",
       "      <td>11420010</td>\n",
       "      <td>9379016</td>\n",
       "      <td>NaN</td>\n",
       "      <td>NaN</td>\n",
       "    </tr>\n",
       "    <tr>\n",
       "      <th>11420011</th>\n",
       "      <td>11420011</td>\n",
       "      <td>36778060</td>\n",
       "      <td>NaN</td>\n",
       "      <td>NaN</td>\n",
       "    </tr>\n",
       "    <tr>\n",
       "      <th>11420012</th>\n",
       "      <td>11420012</td>\n",
       "      <td>65477341</td>\n",
       "      <td>NaN</td>\n",
       "      <td>NaN</td>\n",
       "    </tr>\n",
       "    <tr>\n",
       "      <th>11420013</th>\n",
       "      <td>11420013</td>\n",
       "      <td>62071751</td>\n",
       "      <td>NaN</td>\n",
       "      <td>NaN</td>\n",
       "    </tr>\n",
       "    <tr>\n",
       "      <th>11420014</th>\n",
       "      <td>11420014</td>\n",
       "      <td>23875871</td>\n",
       "      <td>NaN</td>\n",
       "      <td>NaN</td>\n",
       "    </tr>\n",
       "    <tr>\n",
       "      <th>11420015</th>\n",
       "      <td>11420015</td>\n",
       "      <td>72482685</td>\n",
       "      <td>NaN</td>\n",
       "      <td>NaN</td>\n",
       "    </tr>\n",
       "    <tr>\n",
       "      <th>11420016</th>\n",
       "      <td>11420016</td>\n",
       "      <td>49633124</td>\n",
       "      <td>NaN</td>\n",
       "      <td>NaN</td>\n",
       "    </tr>\n",
       "    <tr>\n",
       "      <th>11420017</th>\n",
       "      <td>11420017</td>\n",
       "      <td>34232279</td>\n",
       "      <td>NaN</td>\n",
       "      <td>NaN</td>\n",
       "    </tr>\n",
       "    <tr>\n",
       "      <th>11420018</th>\n",
       "      <td>11420018</td>\n",
       "      <td>43019794</td>\n",
       "      <td>NaN</td>\n",
       "      <td>NaN</td>\n",
       "    </tr>\n",
       "    <tr>\n",
       "      <th>11420019</th>\n",
       "      <td>11420019</td>\n",
       "      <td>9491382</td>\n",
       "      <td>NaN</td>\n",
       "      <td>NaN</td>\n",
       "    </tr>\n",
       "    <tr>\n",
       "      <th>11420020</th>\n",
       "      <td>11420020</td>\n",
       "      <td>56646987</td>\n",
       "      <td>NaN</td>\n",
       "      <td>NaN</td>\n",
       "    </tr>\n",
       "    <tr>\n",
       "      <th>11420021</th>\n",
       "      <td>11420021</td>\n",
       "      <td>2382797</td>\n",
       "      <td>NaN</td>\n",
       "      <td>NaN</td>\n",
       "    </tr>\n",
       "    <tr>\n",
       "      <th>11420022</th>\n",
       "      <td>11420022</td>\n",
       "      <td>80135113</td>\n",
       "      <td>NaN</td>\n",
       "      <td>NaN</td>\n",
       "    </tr>\n",
       "    <tr>\n",
       "      <th>11420023</th>\n",
       "      <td>11420023</td>\n",
       "      <td>56723604</td>\n",
       "      <td>NaN</td>\n",
       "      <td>NaN</td>\n",
       "    </tr>\n",
       "    <tr>\n",
       "      <th>11420024</th>\n",
       "      <td>11420024</td>\n",
       "      <td>77888846</td>\n",
       "      <td>NaN</td>\n",
       "      <td>NaN</td>\n",
       "    </tr>\n",
       "    <tr>\n",
       "      <th>11420025</th>\n",
       "      <td>11420025</td>\n",
       "      <td>67598382</td>\n",
       "      <td>NaN</td>\n",
       "      <td>NaN</td>\n",
       "    </tr>\n",
       "    <tr>\n",
       "      <th>11420026</th>\n",
       "      <td>11420026</td>\n",
       "      <td>60350852</td>\n",
       "      <td>NaN</td>\n",
       "      <td>NaN</td>\n",
       "    </tr>\n",
       "    <tr>\n",
       "      <th>11420027</th>\n",
       "      <td>11420027</td>\n",
       "      <td>60142126</td>\n",
       "      <td>NaN</td>\n",
       "      <td>NaN</td>\n",
       "    </tr>\n",
       "    <tr>\n",
       "      <th>11420028</th>\n",
       "      <td>11420028</td>\n",
       "      <td>16562764</td>\n",
       "      <td>NaN</td>\n",
       "      <td>NaN</td>\n",
       "    </tr>\n",
       "    <tr>\n",
       "      <th>11420029</th>\n",
       "      <td>11420029</td>\n",
       "      <td>71132967</td>\n",
       "      <td>NaN</td>\n",
       "      <td>NaN</td>\n",
       "    </tr>\n",
       "    <tr>\n",
       "      <th>11420030</th>\n",
       "      <td>11420030</td>\n",
       "      <td>26696723</td>\n",
       "      <td>NaN</td>\n",
       "      <td>NaN</td>\n",
       "    </tr>\n",
       "    <tr>\n",
       "      <th>11420031</th>\n",
       "      <td>11420031</td>\n",
       "      <td>5568914</td>\n",
       "      <td>NaN</td>\n",
       "      <td>NaN</td>\n",
       "    </tr>\n",
       "    <tr>\n",
       "      <th>11420032</th>\n",
       "      <td>11420032</td>\n",
       "      <td>23358525</td>\n",
       "      <td>NaN</td>\n",
       "      <td>NaN</td>\n",
       "    </tr>\n",
       "    <tr>\n",
       "      <th>11420033</th>\n",
       "      <td>11420033</td>\n",
       "      <td>56878126</td>\n",
       "      <td>NaN</td>\n",
       "      <td>NaN</td>\n",
       "    </tr>\n",
       "    <tr>\n",
       "      <th>11420034</th>\n",
       "      <td>11420034</td>\n",
       "      <td>7613183</td>\n",
       "      <td>NaN</td>\n",
       "      <td>NaN</td>\n",
       "    </tr>\n",
       "    <tr>\n",
       "      <th>11420035</th>\n",
       "      <td>11420035</td>\n",
       "      <td>44380874</td>\n",
       "      <td>NaN</td>\n",
       "      <td>NaN</td>\n",
       "    </tr>\n",
       "    <tr>\n",
       "      <th>11420036</th>\n",
       "      <td>11420036</td>\n",
       "      <td>23288734</td>\n",
       "      <td>NaN</td>\n",
       "      <td>NaN</td>\n",
       "    </tr>\n",
       "    <tr>\n",
       "      <th>11420037</th>\n",
       "      <td>11420037</td>\n",
       "      <td>17482116</td>\n",
       "      <td>NaN</td>\n",
       "      <td>NaN</td>\n",
       "    </tr>\n",
       "    <tr>\n",
       "      <th>11420038</th>\n",
       "      <td>11420038</td>\n",
       "      <td>46849102</td>\n",
       "      <td>NaN</td>\n",
       "      <td>NaN</td>\n",
       "    </tr>\n",
       "  </tbody>\n",
       "</table>\n",
       "<p>100 rows × 4 columns</p>\n",
       "</div>"
      ]
     },
     "execution_count": 57,
     "metadata": {},
     "output_type": "execute_result"
    }
   ],
   "source": [
    "user_feature_embedding_app['appIdAction'] = added_app2 \n",
    "user_feature_embedding_app.tail(100)"
   ]
  },
  {
   "cell_type": "code",
   "execution_count": 58,
   "metadata": {},
   "outputs": [
    {
     "name": "stdout",
     "output_type": "stream",
     "text": [
      "progress: 0%\r"
     ]
    },
    {
     "name": "stdout",
     "output_type": "stream",
     "text": [
      "progress: 10%\r"
     ]
    },
    {
     "name": "stdout",
     "output_type": "stream",
     "text": [
      "progress: 20%\r"
     ]
    },
    {
     "name": "stdout",
     "output_type": "stream",
     "text": [
      "progress: 30%\r"
     ]
    },
    {
     "name": "stdout",
     "output_type": "stream",
     "text": [
      "progress: 40%\r"
     ]
    },
    {
     "name": "stdout",
     "output_type": "stream",
     "text": [
      "progress: 50%\r"
     ]
    },
    {
     "name": "stdout",
     "output_type": "stream",
     "text": [
      "progress: 60%\r"
     ]
    },
    {
     "name": "stdout",
     "output_type": "stream",
     "text": [
      "progress: 70%\r"
     ]
    },
    {
     "name": "stdout",
     "output_type": "stream",
     "text": [
      "progress: 80%\r"
     ]
    },
    {
     "name": "stdout",
     "output_type": "stream",
     "text": [
      "progress: 90%\r"
     ]
    },
    {
     "name": "stdout",
     "output_type": "stream",
     "text": [
      "progress: 100%\r"
     ]
    },
    {
     "name": "stdout",
     "output_type": "stream",
     "text": [
      "progress: 100%\n"
     ]
    }
   ],
   "source": [
    "user_feature_embedding_app12 = utils.merge_feature(user_feature_embedding_app, 'appIdInstall', 'appIdAction')"
   ]
  },
  {
   "cell_type": "code",
   "execution_count": 59,
   "metadata": {},
   "outputs": [],
   "source": [
    "user_feature_embedding_app12.rename(columns={'appIdInstallappIdAction': 'appId'}, inplace=True)\n"
   ]
  },
  {
   "cell_type": "code",
   "execution_count": 60,
   "metadata": {},
   "outputs": [],
   "source": [
    "user_feature_embedding_app12.to_csv('data/user_feature_embedding_app_merged.csv', columns=['uid', 'appId'], index=False)"
   ]
  },
  {
   "cell_type": "heading",
   "metadata": {},
   "level": 1,
   "source": [
    "清洗kw"
   ]
  },
  {
   "cell_type": "code",
   "execution_count": 52,
   "metadata": {},
   "outputs": [],
   "source": [
    "# 数据处理工具\n",
    "import pandas as pd\n",
    "import numpy as np\n",
    "import random as rnd\n",
    "from collections import Counter\n",
    "import utils\n",
    "\n",
    "# 可视化工具\n",
    "import seaborn as sns\n",
    "import matplotlib.pyplot as plt\n",
    "%matplotlib inline"
   ]
  },
  {
   "cell_type": "code",
   "execution_count": 2,
   "metadata": {},
   "outputs": [
    {
     "data": {
      "text/html": [
       "<div>\n",
       "<style scoped>\n",
       "    .dataframe tbody tr th:only-of-type {\n",
       "        vertical-align: middle;\n",
       "    }\n",
       "\n",
       "    .dataframe tbody tr th {\n",
       "        vertical-align: top;\n",
       "    }\n",
       "\n",
       "    .dataframe thead th {\n",
       "        text-align: right;\n",
       "    }\n",
       "</style>\n",
       "<table border=\"1\" class=\"dataframe\">\n",
       "  <thead>\n",
       "    <tr style=\"text-align: right;\">\n",
       "      <th></th>\n",
       "      <th>uid</th>\n",
       "      <th>kw</th>\n",
       "    </tr>\n",
       "  </thead>\n",
       "  <tbody>\n",
       "    <tr>\n",
       "      <th>0</th>\n",
       "      <td>26325489</td>\n",
       "      <td>664359-276966-734911-103617-562294-811395-8791...</td>\n",
       "    </tr>\n",
       "    <tr>\n",
       "      <th>1</th>\n",
       "      <td>1184123</td>\n",
       "      <td>338851-361151-542834-496283-229952-880263-8396...</td>\n",
       "    </tr>\n",
       "    <tr>\n",
       "      <th>2</th>\n",
       "      <td>76072711</td>\n",
       "      <td>746140-695808-126355-771775-411511-905115-8713...</td>\n",
       "    </tr>\n",
       "    <tr>\n",
       "      <th>3</th>\n",
       "      <td>63071413</td>\n",
       "      <td>283399-402245-734509-654027-32061-874010-83291...</td>\n",
       "    </tr>\n",
       "    <tr>\n",
       "      <th>4</th>\n",
       "      <td>81294159</td>\n",
       "      <td>562294-157603-589706-657719-495672-862764-8978...</td>\n",
       "    </tr>\n",
       "  </tbody>\n",
       "</table>\n",
       "</div>"
      ],
      "text/plain": [
       "<div>\n",
       "<style scoped>\n",
       "    .dataframe tbody tr th:only-of-type {\n",
       "        vertical-align: middle;\n",
       "    }\n",
       "\n",
       "    .dataframe tbody tr th {\n",
       "        vertical-align: top;\n",
       "    }\n",
       "\n",
       "    .dataframe thead th {\n",
       "        text-align: right;\n",
       "    }\n",
       "</style>\n",
       "<table border=\"1\" class=\"dataframe\">\n",
       "  <thead>\n",
       "    <tr style=\"text-align: right;\">\n",
       "      <th></th>\n",
       "      <th>uid</th>\n",
       "      <th>kw</th>\n",
       "    </tr>\n",
       "  </thead>\n",
       "  <tbody>\n",
       "    <tr>\n",
       "      <th>0</th>\n",
       "      <td>26325489</td>\n",
       "      <td>664359-276966-734911-103617-562294-811395-8791...</td>\n",
       "    </tr>\n",
       "    <tr>\n",
       "      <th>1</th>\n",
       "      <td>1184123</td>\n",
       "      <td>338851-361151-542834-496283-229952-880263-8396...</td>\n",
       "    </tr>\n",
       "    <tr>\n",
       "      <th>2</th>\n",
       "      <td>76072711</td>\n",
       "      <td>746140-695808-126355-771775-411511-905115-8713...</td>\n",
       "    </tr>\n",
       "    <tr>\n",
       "      <th>3</th>\n",
       "      <td>63071413</td>\n",
       "      <td>283399-402245-734509-654027-32061-874010-83291...</td>\n",
       "    </tr>\n",
       "    <tr>\n",
       "      <th>4</th>\n",
       "      <td>81294159</td>\n",
       "      <td>562294-157603-589706-657719-495672-862764-8978...</td>\n",
       "    </tr>\n",
       "  </tbody>\n",
       "</table>\n",
       "</div>"
      ]
     },
     "execution_count": 2,
     "metadata": {},
     "output_type": "execute_result"
    }
   ],
   "source": [
    "user_feature_embedding_kw = pd.read_csv('data/user_feature_embedding_kw_merged.csv')\n",
    "user_feature_embedding_kw.head()"
   ]
  },
  {
   "cell_type": "code",
   "execution_count": 5,
   "metadata": {},
   "outputs": [
    {
     "name": "stdout",
     "output_type": "stream",
     "text": [
      "progress: 0\r"
     ]
    },
    {
     "name": "stdout",
     "output_type": "stream",
     "text": [
      "progress: 1\r"
     ]
    },
    {
     "name": "stdout",
     "output_type": "stream",
     "text": [
      "progress: 2\r"
     ]
    },
    {
     "name": "stdout",
     "output_type": "stream",
     "text": [
      "progress: 3\r"
     ]
    },
    {
     "name": "stdout",
     "output_type": "stream",
     "text": [
      "progress: 4\r"
     ]
    },
    {
     "name": "stdout",
     "output_type": "stream",
     "text": [
      "progress: 5\r"
     ]
    },
    {
     "name": "stdout",
     "output_type": "stream",
     "text": [
      "progress: 6\r"
     ]
    },
    {
     "name": "stdout",
     "output_type": "stream",
     "text": [
      "progress: 7\r"
     ]
    },
    {
     "name": "stdout",
     "output_type": "stream",
     "text": [
      "progress: 8\r"
     ]
    },
    {
     "name": "stdout",
     "output_type": "stream",
     "text": [
      "progress: 9\r"
     ]
    },
    {
     "name": "stdout",
     "output_type": "stream",
     "text": [
      "progress: 10\r"
     ]
    },
    {
     "name": "stdout",
     "output_type": "stream",
     "text": [
      "progress: 100\n"
     ]
    },
    {
     "data": {
      "text/plain": [
       "(array([1559114.,  523800.,  853431.,  465373.,  531742.,  794444.,\n         835833.,  468655.,  588669.,  503524.,  673016.,  718718.,\n         582342.,  504233.,  360503.,  488315.,  753657.,  619270.,\n         507339.,  572422.,  591106.,  529380.,  674004.,  610738.,\n         474558.,  515423.,  609239., 1041888.,  502353.,  679687.,\n         415470.,  545932.,  381554.,  941976.,  618724.,  408416.,\n         887453.,  557216.,  478284.,  644561.,  648327.,  840363.,\n         521952.,  521454.,  420104.,  441379.,  721988.,  640331.,\n         534163., 1288346.,  527645.,  690856.,  824825.,  651724.,\n         633754.,  619878., 1049608.,  560097.,  853431.,  385570.,\n         762602.,  514974.,  507973.,  545679.,  457739.,  552398.,\n         417740.,  496019.,  473768.,  907547.,  564656.,  528007.,\n         434505.,  619045.,  513729.,  594474.,  925852.,  548507.,\n         428177.,  289044., 5179038., 5912355., 2842255., 4832209.,\n        4130390., 4761127., 3322070., 5526278., 5231407., 3595213.,\n        4291665., 3720695.,  801529.,  586144.,  230885.,  417093.,\n         736997.,  294000.,  317908.,  192022.]),\n array([2.0000000e+00, 1.0001980e+04, 2.0001960e+04, 3.0001940e+04,\n        4.0001920e+04, 5.0001900e+04, 6.0001880e+04, 7.0001860e+04,\n        8.0001840e+04, 9.0001820e+04, 1.0000180e+05, 1.1000178e+05,\n        1.2000176e+05, 1.3000174e+05, 1.4000172e+05, 1.5000170e+05,\n        1.6000168e+05, 1.7000166e+05, 1.8000164e+05, 1.9000162e+05,\n        2.0000160e+05, 2.1000158e+05, 2.2000156e+05, 2.3000154e+05,\n        2.4000152e+05, 2.5000150e+05, 2.6000148e+05, 2.7000146e+05,\n        2.8000144e+05, 2.9000142e+05, 3.0000140e+05, 3.1000138e+05,\n        3.2000136e+05, 3.3000134e+05, 3.4000132e+05, 3.5000130e+05,\n        3.6000128e+05, 3.7000126e+05, 3.8000124e+05, 3.9000122e+05,\n        4.0000120e+05, 4.1000118e+05, 4.2000116e+05, 4.3000114e+05,\n        4.4000112e+05, 4.5000110e+05, 4.6000108e+05, 4.7000106e+05,\n        4.8000104e+05, 4.9000102e+05, 5.0000100e+05, 5.1000098e+05,\n        5.2000096e+05, 5.3000094e+05, 5.4000092e+05, 5.5000090e+05,\n        5.6000088e+05, 5.7000086e+05, 5.8000084e+05, 5.9000082e+05,\n        6.0000080e+05, 6.1000078e+05, 6.2000076e+05, 6.3000074e+05,\n        6.4000072e+05, 6.5000070e+05, 6.6000068e+05, 6.7000066e+05,\n        6.8000064e+05, 6.9000062e+05, 7.0000060e+05, 7.1000058e+05,\n        7.2000056e+05, 7.3000054e+05, 7.4000052e+05, 7.5000050e+05,\n        7.6000048e+05, 7.7000046e+05, 7.8000044e+05, 7.9000042e+05,\n        8.0000040e+05, 8.1000038e+05, 8.2000036e+05, 8.3000034e+05,\n        8.4000032e+05, 8.5000030e+05, 8.6000028e+05, 8.7000026e+05,\n        8.8000024e+05, 8.9000022e+05, 9.0000020e+05, 9.1000018e+05,\n        9.2000016e+05, 9.3000014e+05, 9.4000012e+05, 9.5000010e+05,\n        9.6000008e+05, 9.7000006e+05, 9.8000004e+05, 9.9000002e+05,\n        1.0000000e+06]),\n <a list of 100 Patch objects>)"
      ]
     },
     "execution_count": 5,
     "metadata": {},
     "output_type": "execute_result"
    },
    {
     "data": {
      "image/png": "[encoded data removed]",
      "text/plain": [
       "<Figure size 432x288 with 1 Axes>"
      ]
     },
     "metadata": {},
     "output_type": "display_data"
    }
   ],
   "source": [
    "collector_kw = utils.count_element(user_feature_embedding_kw['kw'], fill_na='1000000')\n",
    "plt.hist(collector_kw, bins=100)"
   ]
  },
  {
   "cell_type": "code",
   "execution_count": 7,
   "metadata": {},
   "outputs": [
    {
     "data": {
      "text/plain": [
       "[(818185, 1082469),\n (811395, 865516),\n (8561, 845987),\n (497092, 681470),\n (876242, 678845),\n (879112, 643064),\n (837224, 593205),\n (866915, 573062),\n (917462, 545526),\n (808546, 533722)]"
      ]
     },
     "execution_count": 7,
     "metadata": {},
     "output_type": "execute_result"
    }
   ],
   "source": [
    "counter_kw = Counter(collector_kw)\n",
    "counter_kw.most_common(10)"
   ]
  },
  {
   "cell_type": "code",
   "execution_count": 10,
   "metadata": {},
   "outputs": [
    {
     "name": "stdout",
     "output_type": "stream",
     "text": [
      "308537\n16656\n"
     ]
    }
   ],
   "source": [
    "dic_less_than_500, dic_more_than_500 = utils.count_baseline(counter_kw, 500)\n",
    "print(len(dic_less_than_500))\n",
    "print(len(dic_more_than_500))"
   ]
  },
  {
   "cell_type": "code",
   "execution_count": 11,
   "metadata": {},
   "outputs": [
    {
     "data": {
      "text/plain": [
       "(array([109099.,  54713.,  28580.,  17884.,  12759.,   9609.,   7503.,\n          6152.,   5017.,   4222.,   3724.,   3238.,   2786.,   2488.,\n          2248.,   2101.,   1939.,   1696.,   1535.,   1457.,   1345.,\n          1216.,   1199.,   1095.,    961.,    949.,    858.,    916.,\n           808.,    768.,    693.,    706.,    638.,    617.,    600.,\n           557.,    550.,    510.,    519.,    503.,    471.,    443.,\n           460.,    425.,    374.,    336.,    387.,    355.,    334.,\n           349.,    255.,    330.,    335.,    282.,    307.,    313.,\n           282.,    286.,    268.,    237.,    260.,    239.,    248.,\n           250.,    231.,    243.,    224.,    187.,    218.,    170.,\n           217.,    171.,    172.,    183.,    165.,    184.,    172.,\n           194.,    178.,    157.,    173.,    160.,    166.,    158.,\n           178.,    158.,    158.,    154.,    149.,    150.,    121.,\n           139.,    141.,    137.,    125.,    127.,    146.,    124.,\n           110.,    113.]),\n array([  1.  ,   5.98,  10.96,  15.94,  20.92,  25.9 ,  30.88,  35.86,\n         40.84,  45.82,  50.8 ,  55.78,  60.76,  65.74,  70.72,  75.7 ,\n         80.68,  85.66,  90.64,  95.62, 100.6 , 105.58, 110.56, 115.54,\n        120.52, 125.5 , 130.48, 135.46, 140.44, 145.42, 150.4 , 155.38,\n        160.36, 165.34, 170.32, 175.3 , 180.28, 185.26, 190.24, 195.22,\n        200.2 , 205.18, 210.16, 215.14, 220.12, 225.1 , 230.08, 235.06,\n        240.04, 245.02, 250.  , 254.98, 259.96, 264.94, 269.92, 274.9 ,\n        279.88, 284.86, 289.84, 294.82, 299.8 , 304.78, 309.76, 314.74,\n        319.72, 324.7 , 329.68, 334.66, 339.64, 344.62, 349.6 , 354.58,\n        359.56, 364.54, 369.52, 374.5 , 379.48, 384.46, 389.44, 394.42,\n        399.4 , 404.38, 409.36, 414.34, 419.32, 424.3 , 429.28, 434.26,\n        439.24, 444.22, 449.2 , 454.18, 459.16, 464.14, 469.12, 474.1 ,\n        479.08, 484.06, 489.04, 494.02, 499.  ]),\n <a list of 100 Patch objects>)"
      ]
     },
     "execution_count": 11,
     "metadata": {},
     "output_type": "execute_result"
    },
    {
     "data": {
      "image/png": "[encoded data removed]",
      "text/plain": [
       "<Figure size 432x288 with 1 Axes>"
      ]
     },
     "metadata": {},
     "output_type": "display_data"
    }
   ],
   "source": [
    "plt.hist(dic_less_than_500.values(), bins=100)"
   ]
  },
  {
   "cell_type": "code",
   "execution_count": 16,
   "metadata": {},
   "outputs": [
    {
     "name": "stdout",
     "output_type": "stream",
     "text": [
      "progress: 0\r"
     ]
    },
    {
     "name": "stdout",
     "output_type": "stream",
     "text": [
      "progress: 1\r"
     ]
    },
    {
     "name": "stdout",
     "output_type": "stream",
     "text": [
      "progress: 2\r"
     ]
    },
    {
     "name": "stdout",
     "output_type": "stream",
     "text": [
      "progress: 3\r"
     ]
    },
    {
     "name": "stdout",
     "output_type": "stream",
     "text": [
      "progress: 4\r"
     ]
    },
    {
     "name": "stdout",
     "output_type": "stream",
     "text": [
      "progress: 5\r"
     ]
    },
    {
     "name": "stdout",
     "output_type": "stream",
     "text": [
      "progress: 6\r"
     ]
    },
    {
     "name": "stdout",
     "output_type": "stream",
     "text": [
      "progress: 7\r"
     ]
    },
    {
     "name": "stdout",
     "output_type": "stream",
     "text": [
      "progress: 8\r"
     ]
    },
    {
     "name": "stdout",
     "output_type": "stream",
     "text": [
      "progress: 9\r"
     ]
    },
    {
     "name": "stdout",
     "output_type": "stream",
     "text": [
      "progress: 10\r"
     ]
    },
    {
     "name": "stdout",
     "output_type": "stream",
     "text": [
      "progress: 100\n"
     ]
    }
   ],
   "source": [
    "kw_cleaned = utils.remove_rare_labels(user_feature_embedding_kw['kw'], dic_less_than_500, '0')"
   ]
  },
  {
   "cell_type": "code",
   "execution_count": 22,
   "metadata": {},
   "outputs": [
    {
     "name": "stdout",
     "output_type": "stream",
     "text": [
      "progress: 0\r"
     ]
    },
    {
     "name": "stdout",
     "output_type": "stream",
     "text": [
      "progress: 1\r"
     ]
    },
    {
     "name": "stdout",
     "output_type": "stream",
     "text": [
      "progress: 2\r"
     ]
    },
    {
     "name": "stdout",
     "output_type": "stream",
     "text": [
      "progress: 3\r"
     ]
    },
    {
     "name": "stdout",
     "output_type": "stream",
     "text": [
      "progress: 4\r"
     ]
    },
    {
     "name": "stdout",
     "output_type": "stream",
     "text": [
      "progress: 5\r"
     ]
    },
    {
     "name": "stdout",
     "output_type": "stream",
     "text": [
      "progress: 6\r"
     ]
    },
    {
     "name": "stdout",
     "output_type": "stream",
     "text": [
      "progress: 7\r"
     ]
    },
    {
     "name": "stdout",
     "output_type": "stream",
     "text": [
      "progress: 8\r"
     ]
    },
    {
     "name": "stdout",
     "output_type": "stream",
     "text": [
      "progress: 9\r"
     ]
    },
    {
     "name": "stdout",
     "output_type": "stream",
     "text": [
      "progress: 10\r"
     ]
    },
    {
     "name": "stdout",
     "output_type": "stream",
     "text": [
      "progress: 100\n"
     ]
    }
   ],
   "source": [
    "kw_cleaned_collector = utils.count_element(kw_cleaned)"
   ]
  },
  {
   "cell_type": "code",
   "execution_count": 24,
   "metadata": {},
   "outputs": [
    {
     "name": "stdout",
     "output_type": "stream",
     "text": [
      "308537\n16656\n0\n16656\n"
     ]
    }
   ],
   "source": [
    "kw_cleaned_count = Counter(kw_cleaned_collector)\n",
    "utils.asset_clean_result(kw_cleaned_count, 500, dic_less_than_500, dic_more_than_500)"
   ]
  },
  {
   "cell_type": "code",
   "execution_count": 30,
   "metadata": {},
   "outputs": [
    {
     "name": "stdout",
     "output_type": "stream",
     "text": [
      "988761\n0\n"
     ]
    }
   ],
   "source": [
    "print(max(kw_cleaned_collector))\n",
    "print(min(kw_cleaned_collector))"
   ]
  },
  {
   "cell_type": "code",
   "execution_count": 32,
   "metadata": {},
   "outputs": [
    {
     "data": {
      "text/plain": [
       "[0, 0, 0, 0, 0, 0, 0, 0, 0, 0]"
      ]
     },
     "execution_count": 32,
     "metadata": {},
     "output_type": "execute_result"
    }
   ],
   "source": [
    "sorted(kw_cleaned_collector)[:10]"
   ]
  },
  {
   "cell_type": "code",
   "execution_count": 36,
   "metadata": {},
   "outputs": [],
   "source": [
    "word2int = utils.create_lookup_tables(kw_cleaned_collector)"
   ]
  },
  {
   "cell_type": "code",
   "execution_count": 46,
   "metadata": {},
   "outputs": [
    {
     "name": "stdout",
     "output_type": "stream",
     "text": [
      "16655\n0\n988761\n0\n"
     ]
    }
   ],
   "source": [
    "print(max(word2int.values()))\n",
    "print(min(word2int.values()))\n",
    "print(max(word2int.keys()))\n",
    "print(min(word2int.keys()))"
   ]
  },
  {
   "cell_type": "code",
   "execution_count": 50,
   "metadata": {},
   "outputs": [
    {
     "name": "stdout",
     "output_type": "stream",
     "text": [
      "16656\n16656\n"
     ]
    }
   ],
   "source": [
    "print(len(set(kw_cleaned_collector)))\n",
    "print(len(word2int.keys()))"
   ]
  },
  {
   "cell_type": "code",
   "execution_count": 56,
   "metadata": {},
   "outputs": [
    {
     "name": "stdout",
     "output_type": "stream",
     "text": [
      "progress: 0\r"
     ]
    },
    {
     "name": "stdout",
     "output_type": "stream",
     "text": [
      "progress: 10\r"
     ]
    },
    {
     "name": "stdout",
     "output_type": "stream",
     "text": [
      "progress: 20\r"
     ]
    },
    {
     "name": "stdout",
     "output_type": "stream",
     "text": [
      "progress: 30\r"
     ]
    },
    {
     "name": "stdout",
     "output_type": "stream",
     "text": [
      "progress: 40\r"
     ]
    },
    {
     "name": "stdout",
     "output_type": "stream",
     "text": [
      "progress: 50\r"
     ]
    },
    {
     "name": "stdout",
     "output_type": "stream",
     "text": [
      "progress: 60\r"
     ]
    },
    {
     "name": "stdout",
     "output_type": "stream",
     "text": [
      "progress: 70\r"
     ]
    },
    {
     "name": "stdout",
     "output_type": "stream",
     "text": [
      "progress: 80\r"
     ]
    },
    {
     "name": "stdout",
     "output_type": "stream",
     "text": [
      "progress: 90\r"
     ]
    },
    {
     "name": "stdout",
     "output_type": "stream",
     "text": [
      "progress: 100\r"
     ]
    },
    {
     "name": "stdout",
     "output_type": "stream",
     "text": [
      "progress: 100\n"
     ]
    },
    {
     "data": {
      "text/plain": [
       "0          2643-7395-1625-11-1-5-3251-4343-2845\n1            12-247-77-7736-50-897-1754-877-125\n2                  6951-471-2035-14-69-45-43-60\n3    113-184-372-492-1478-555-531-3458-3962-600\n4         11-13232-544-1734-154-3234-339-400-43\nName: kw, dtype: object"
      ]
     },
     "execution_count": 56,
     "metadata": {},
     "output_type": "execute_result"
    }
   ],
   "source": [
    "import sys\n",
    "kw_mapped = kw_cleaned.copy()\n",
    "length = len(kw_mapped)\n",
    "step = length // 10\n",
    "for i, e in enumerate(kw_mapped.fillna('0')):\n",
    "    if e.isdigit():\n",
    "        kw_mapped[i] = str(word2int[int(e)])\n",
    "    else:\n",
    "        elements = list()\n",
    "        for ee in e.split('-'):\n",
    "            elements.append(str(word2int[int(ee)]))\n",
    "        formed = '-'\n",
    "        formed = formed.join(elements)\n",
    "        kw_mapped[i] = formed\n",
    "    if i % step == 0:\n",
    "        sys.stdout.write('progress: ' + str(10 * i // step) + '\\r')\n",
    "        sys.stdout.flush()\n",
    "sys.stdout.write('progress: 100\\n')\n",
    "sys.stdout.flush()\n",
    "\n",
    "kw_mapped.head()"
   ]
  },
  {
   "cell_type": "code",
   "execution_count": 61,
   "metadata": {},
   "outputs": [
    {
     "data": {
      "text/html": [
       "<div>\n",
       "<style scoped>\n",
       "    .dataframe tbody tr th:only-of-type {\n",
       "        vertical-align: middle;\n",
       "    }\n",
       "\n",
       "    .dataframe tbody tr th {\n",
       "        vertical-align: top;\n",
       "    }\n",
       "\n",
       "    .dataframe thead th {\n",
       "        text-align: right;\n",
       "    }\n",
       "</style>\n",
       "<table border=\"1\" class=\"dataframe\">\n",
       "  <thead>\n",
       "    <tr style=\"text-align: right;\">\n",
       "      <th></th>\n",
       "      <th>uid</th>\n",
       "      <th>kw</th>\n",
       "    </tr>\n",
       "  </thead>\n",
       "  <tbody>\n",
       "    <tr>\n",
       "      <th>0</th>\n",
       "      <td>26325489</td>\n",
       "      <td>664359-276966-734911-103617-562294-811395-8791...</td>\n",
       "    </tr>\n",
       "    <tr>\n",
       "      <th>1</th>\n",
       "      <td>1184123</td>\n",
       "      <td>338851-361151-542834-496283-229952-880263-8396...</td>\n",
       "    </tr>\n",
       "    <tr>\n",
       "      <th>2</th>\n",
       "      <td>76072711</td>\n",
       "      <td>746140-695808-126355-771775-411511-905115-8713...</td>\n",
       "    </tr>\n",
       "    <tr>\n",
       "      <th>3</th>\n",
       "      <td>63071413</td>\n",
       "      <td>283399-402245-734509-654027-32061-874010-83291...</td>\n",
       "    </tr>\n",
       "    <tr>\n",
       "      <th>4</th>\n",
       "      <td>81294159</td>\n",
       "      <td>562294-157603-589706-657719-495672-862764-8978...</td>\n",
       "    </tr>\n",
       "  </tbody>\n",
       "</table>\n",
       "</div>"
      ],
      "text/plain": [
       "<div>\n",
       "<style scoped>\n",
       "    .dataframe tbody tr th:only-of-type {\n",
       "        vertical-align: middle;\n",
       "    }\n",
       "\n",
       "    .dataframe tbody tr th {\n",
       "        vertical-align: top;\n",
       "    }\n",
       "\n",
       "    .dataframe thead th {\n",
       "        text-align: right;\n",
       "    }\n",
       "</style>\n",
       "<table border=\"1\" class=\"dataframe\">\n",
       "  <thead>\n",
       "    <tr style=\"text-align: right;\">\n",
       "      <th></th>\n",
       "      <th>uid</th>\n",
       "      <th>kw</th>\n",
       "    </tr>\n",
       "  </thead>\n",
       "  <tbody>\n",
       "    <tr>\n",
       "      <th>0</th>\n",
       "      <td>26325489</td>\n",
       "      <td>664359-276966-734911-103617-562294-811395-8791...</td>\n",
       "    </tr>\n",
       "    <tr>\n",
       "      <th>1</th>\n",
       "      <td>1184123</td>\n",
       "      <td>338851-361151-542834-496283-229952-880263-8396...</td>\n",
       "    </tr>\n",
       "    <tr>\n",
       "      <th>2</th>\n",
       "      <td>76072711</td>\n",
       "      <td>746140-695808-126355-771775-411511-905115-8713...</td>\n",
       "    </tr>\n",
       "    <tr>\n",
       "      <th>3</th>\n",
       "      <td>63071413</td>\n",
       "      <td>283399-402245-734509-654027-32061-874010-83291...</td>\n",
       "    </tr>\n",
       "    <tr>\n",
       "      <th>4</th>\n",
       "      <td>81294159</td>\n",
       "      <td>562294-157603-589706-657719-495672-862764-8978...</td>\n",
       "    </tr>\n",
       "  </tbody>\n",
       "</table>\n",
       "</div>"
      ]
     },
     "execution_count": 61,
     "metadata": {},
     "output_type": "execute_result"
    }
   ],
   "source": [
    "user_feature_embedding_kw.head()"
   ]
  },
  {
   "cell_type": "code",
   "execution_count": 58,
   "metadata": {},
   "outputs": [
    {
     "name": "stdout",
     "output_type": "stream",
     "text": [
      "progress: 0\r"
     ]
    },
    {
     "name": "stdout",
     "output_type": "stream",
     "text": [
      "progress: 1\r"
     ]
    },
    {
     "name": "stdout",
     "output_type": "stream",
     "text": [
      "progress: 2\r"
     ]
    },
    {
     "name": "stdout",
     "output_type": "stream",
     "text": [
      "progress: 3\r"
     ]
    },
    {
     "name": "stdout",
     "output_type": "stream",
     "text": [
      "progress: 4\r"
     ]
    },
    {
     "name": "stdout",
     "output_type": "stream",
     "text": [
      "progress: 5\r"
     ]
    },
    {
     "name": "stdout",
     "output_type": "stream",
     "text": [
      "progress: 6\r"
     ]
    },
    {
     "name": "stdout",
     "output_type": "stream",
     "text": [
      "progress: 7\r"
     ]
    },
    {
     "name": "stdout",
     "output_type": "stream",
     "text": [
      "progress: 8\r"
     ]
    },
    {
     "name": "stdout",
     "output_type": "stream",
     "text": [
      "progress: 9\r"
     ]
    },
    {
     "name": "stdout",
     "output_type": "stream",
     "text": [
      "progress: 10\r"
     ]
    },
    {
     "name": "stdout",
     "output_type": "stream",
     "text": [
      "progress: 100\n"
     ]
    },
    {
     "data": {
      "text/plain": [
       "(array([34026482.,  9887247.,  5945686.,  4259013.,  3235858.,  2685098.,\n         2274348.,  1968619.,  1711787.,  1542920.,  1376254.,  1233235.,\n         1125602.,  1030900.,   956926.,   892560.,   842085.,   788564.,\n          744890.,   699851.,   662547.,   625664.,   590903.,   565773.,\n          535111.,   512839.,   485133.,   465913.,   444682.,   429532.,\n          413066.,   394852.,   381292.,   365333.,   354405.,   340009.,\n          329624.,   316822.,   309028.,   296863.,   288125.,   278644.,\n          268205.,   261168.,   252163.,   246820.,   238324.,   233525.,\n          226268.,   221832.,   215634.,   208806.,   204568.,   198241.,\n          194652.,   188201.,   184787.,   179493.,   176602.,   171418.,\n          168558.,   165122.,   160646.,   158338.,   154428.,   152402.,\n          148493.,   146396.,   142462.,   140668.,   137942.,   134296.,\n          132265.,   128948.,   127205.,   124156.,   122580.,   119526.,\n          118203.,   115253.,   113844.,   112050.,   109507.,   108170.,\n          105733.,   104717.,   102462.,   101458.,    99163.,    98050.,\n           96486.,    94403.,    93576.,    91596.,    90693.,    88683.,\n           87894.,    86093.,    85258.,    84009.]),\n array([    0.  ,   166.55,   333.1 ,   499.65,   666.2 ,   832.75,\n          999.3 ,  1165.85,  1332.4 ,  1498.95,  1665.5 ,  1832.05,\n         1998.6 ,  2165.15,  2331.7 ,  2498.25,  2664.8 ,  2831.35,\n         2997.9 ,  3164.45,  3331.  ,  3497.55,  3664.1 ,  3830.65,\n         3997.2 ,  4163.75,  4330.3 ,  4496.85,  4663.4 ,  4829.95,\n         4996.5 ,  5163.05,  5329.6 ,  5496.15,  5662.7 ,  5829.25,\n         5995.8 ,  6162.35,  6328.9 ,  6495.45,  6662.  ,  6828.55,\n         6995.1 ,  7161.65,  7328.2 ,  7494.75,  7661.3 ,  7827.85,\n         7994.4 ,  8160.95,  8327.5 ,  8494.05,  8660.6 ,  8827.15,\n         8993.7 ,  9160.25,  9326.8 ,  9493.35,  9659.9 ,  9826.45,\n         9993.  , 10159.55, 10326.1 , 10492.65, 10659.2 , 10825.75,\n        10992.3 , 11158.85, 11325.4 , 11491.95, 11658.5 , 11825.05,\n        11991.6 , 12158.15, 12324.7 , 12491.25, 12657.8 , 12824.35,\n        12990.9 , 13157.45, 13324.  , 13490.55, 13657.1 , 13823.65,\n        13990.2 , 14156.75, 14323.3 , 14489.85, 14656.4 , 14822.95,\n        14989.5 , 15156.05, 15322.6 , 15489.15, 15655.7 , 15822.25,\n        15988.8 , 16155.35, 16321.9 , 16488.45, 16655.  ]),\n <a list of 100 Patch objects>)"
      ]
     },
     "execution_count": 58,
     "metadata": {},
     "output_type": "execute_result"
    },
    {
     "data": {
      "image/png": "[encoded data removed]",
      "text/plain": [
       "<Figure size 432x288 with 1 Axes>"
      ]
     },
     "metadata": {},
     "output_type": "display_data"
    }
   ],
   "source": [
    "kw_mapped_collector = utils.count_element(kw_mapped, '1000000')\n",
    "plt.hist(kw_mapped_collector, bins=100)"
   ]
  },
  {
   "cell_type": "code",
   "execution_count": 60,
   "metadata": {},
   "outputs": [
    {
     "name": "stdout",
     "output_type": "stream",
     "text": [
      "16655\n"
     ]
    },
    {
     "name": "stdout",
     "output_type": "stream",
     "text": [
      "0\n"
     ]
    }
   ],
   "source": [
    "print(max(kw_mapped_collector))\n",
    "print(min(kw_mapped_collector))"
   ]
  },
  {
   "cell_type": "code",
   "execution_count": 68,
   "metadata": {},
   "outputs": [],
   "source": [
    "user_feature_embedding_kw['kw'] = kw_mapped\n",
    "user_feature_embedding_kw.to_csv('data/user_feature_embedding_kw_merged_mapped_cleaned.csv', columns=['kw'], index=False)"
   ]
  },
  {
   "cell_type": "code",
   "execution_count": 70,
   "metadata": {},
   "outputs": [
    {
     "data": {
      "text/html": [
       "<div>\n",
       "<style scoped>\n",
       "    .dataframe tbody tr th:only-of-type {\n",
       "        vertical-align: middle;\n",
       "    }\n",
       "\n",
       "    .dataframe tbody tr th {\n",
       "        vertical-align: top;\n",
       "    }\n",
       "\n",
       "    .dataframe thead th {\n",
       "        text-align: right;\n",
       "    }\n",
       "</style>\n",
       "<table border=\"1\" class=\"dataframe\">\n",
       "  <thead>\n",
       "    <tr style=\"text-align: right;\">\n",
       "      <th></th>\n",
       "      <th>uid</th>\n",
       "      <th>kw</th>\n",
       "    </tr>\n",
       "  </thead>\n",
       "  <tbody>\n",
       "    <tr>\n",
       "      <th>0</th>\n",
       "      <td>26325489</td>\n",
       "      <td>2643-7395-1625-11-1-5-3251-4343-2845</td>\n",
       "    </tr>\n",
       "    <tr>\n",
       "      <th>1</th>\n",
       "      <td>1184123</td>\n",
       "      <td>12-247-77-7736-50-897-1754-877-125</td>\n",
       "    </tr>\n",
       "    <tr>\n",
       "      <th>2</th>\n",
       "      <td>76072711</td>\n",
       "      <td>6951-471-2035-14-69-45-43-60</td>\n",
       "    </tr>\n",
       "    <tr>\n",
       "      <th>3</th>\n",
       "      <td>63071413</td>\n",
       "      <td>113-184-372-492-1478-555-531-3458-3962-600</td>\n",
       "    </tr>\n",
       "    <tr>\n",
       "      <th>4</th>\n",
       "      <td>81294159</td>\n",
       "      <td>11-13232-544-1734-154-3234-339-400-43</td>\n",
       "    </tr>\n",
       "  </tbody>\n",
       "</table>\n",
       "</div>"
      ],
      "text/plain": [
       "<div>\n",
       "<style scoped>\n",
       "    .dataframe tbody tr th:only-of-type {\n",
       "        vertical-align: middle;\n",
       "    }\n",
       "\n",
       "    .dataframe tbody tr th {\n",
       "        vertical-align: top;\n",
       "    }\n",
       "\n",
       "    .dataframe thead th {\n",
       "        text-align: right;\n",
       "    }\n",
       "</style>\n",
       "<table border=\"1\" class=\"dataframe\">\n",
       "  <thead>\n",
       "    <tr style=\"text-align: right;\">\n",
       "      <th></th>\n",
       "      <th>uid</th>\n",
       "      <th>kw</th>\n",
       "    </tr>\n",
       "  </thead>\n",
       "  <tbody>\n",
       "    <tr>\n",
       "      <th>0</th>\n",
       "      <td>26325489</td>\n",
       "      <td>2643-7395-1625-11-1-5-3251-4343-2845</td>\n",
       "    </tr>\n",
       "    <tr>\n",
       "      <th>1</th>\n",
       "      <td>1184123</td>\n",
       "      <td>12-247-77-7736-50-897-1754-877-125</td>\n",
       "    </tr>\n",
       "    <tr>\n",
       "      <th>2</th>\n",
       "      <td>76072711</td>\n",
       "      <td>6951-471-2035-14-69-45-43-60</td>\n",
       "    </tr>\n",
       "    <tr>\n",
       "      <th>3</th>\n",
       "      <td>63071413</td>\n",
       "      <td>113-184-372-492-1478-555-531-3458-3962-600</td>\n",
       "    </tr>\n",
       "    <tr>\n",
       "      <th>4</th>\n",
       "      <td>81294159</td>\n",
       "      <td>11-13232-544-1734-154-3234-339-400-43</td>\n",
       "    </tr>\n",
       "  </tbody>\n",
       "</table>\n",
       "</div>"
      ]
     },
     "execution_count": 70,
     "metadata": {},
     "output_type": "execute_result"
    }
   ],
   "source": [
    "user_feature_embedding_kw.head()"
   ]
  },
  {
   "cell_type": "code",
   "execution_count": 71,
   "metadata": {},
   "outputs": [
    {
     "data": {
      "text/plain": [
       "0          2643-7395-1625-11-1-5-3251-4343-2845\n1            12-247-77-7736-50-897-1754-877-125\n2                  6951-471-2035-14-69-45-43-60\n3    113-184-372-492-1478-555-531-3458-3962-600\n4         11-13232-544-1734-154-3234-339-400-43\nName: kw, dtype: object"
      ]
     },
     "execution_count": 71,
     "metadata": {},
     "output_type": "execute_result"
    }
   ],
   "source": [
    "kw_mapped.head()"
   ]
  }
 ],
 "metadata": {
  "kernelspec": {
   "display_name": "Python 2",
   "language": "python",
   "name": "python2"
  },
  "language_info": {
   "codemirror_mode": {
    "name": "ipython",
    "version": 2
   },
   "file_extension": ".py",
   "mimetype": "text/x-python",
   "name": "python",
   "nbconvert_exporter": "python",
   "pygments_lexer": "ipython2",
   "version": "2.7.6"
  }
 },
 "nbformat": 4,
 "nbformat_minor": 0
}
