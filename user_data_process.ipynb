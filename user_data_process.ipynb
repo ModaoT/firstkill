{
 "cells": [
  {
   "cell_type": "heading",
   "metadata": {
    "collapsed": true
   },
   "level": 1,
   "source": [
    "由于数据量太大，单独建一个Notebook用于处理用户特征"
   ]
  },
  {
   "cell_type": "code",
   "execution_count": 1,
   "metadata": {},
   "outputs": [],
   "source": [
    "# 数据处理工具\n",
    "import pandas as pd\n",
    "import numpy as np\n",
    "import random as rnd\n",
    "from collections import Counter\n",
    "import utils\n",
    "\n",
    "# 可视化工具\n",
    "import seaborn as sns\n",
    "import matplotlib.pyplot as plt\n",
    "%matplotlib inline"
   ]
  },
  {
   "cell_type": "code",
   "execution_count": 2,
   "metadata": {},
   "outputs": [],
   "source": [
    "user_feature1 = pd.read_csv('data/user_feature1.csv')"
   ]
  },
  {
   "cell_type": "code",
   "execution_count": 3,
   "metadata": {},
   "outputs": [],
   "source": [
    "user_feature2 = pd.read_csv('data/user_feature2.csv')"
   ]
  },
  {
   "cell_type": "code",
   "execution_count": 4,
   "metadata": {},
   "outputs": [],
   "source": [
    "user_feature3 = pd.read_csv('data/user_feature3.csv')"
   ]
  },
  {
   "cell_type": "code",
   "execution_count": 5,
   "metadata": {},
   "outputs": [],
   "source": [
    "user_feature4 = pd.read_csv('data/user_feature4.csv')"
   ]
  },
  {
   "cell_type": "code",
   "execution_count": 6,
   "metadata": {},
   "outputs": [],
   "source": [
    "user_feature5 = pd.read_csv('data/user_feature5.csv')"
   ]
  },
  {
   "cell_type": "code",
   "execution_count": 7,
   "metadata": {},
   "outputs": [],
   "source": [
    "user_feature_all = user_feature1.append(user_feature2).append(user_feature3).append(user_feature4).append(user_feature5)"
   ]
  },
  {
   "cell_type": "code",
   "execution_count": 2,
   "metadata": {},
   "outputs": [],
   "source": [
    "column1 = ['uid', 'age', 'gender', 'marriageStatus', 'education', 'consumptionAbility', 'LBS', 'appIdInstall', \n",
    "           'appIdAction', 'ct', 'os', 'carrier', 'house']\n",
    "column2 = ['interest1', 'interest2', 'interest3', 'interest4', 'interest5']\n",
    "column3 = ['kw1', 'kw2', 'kw3']\n",
    "column4 = ['topic1', 'topic2', 'topic3']"
   ]
  },
  {
   "cell_type": "code",
   "execution_count": 2,
   "metadata": {},
   "outputs": [],
   "source": [
    "column = ['uid', 'age', 'gender', 'marriageStatus', 'education', 'consumptionAbility', 'LBS', \n",
    "          'interest1', 'interest2', 'interest3', 'interest4', 'interest5', \n",
    "          'kw1', 'kw2', 'kw3', \n",
    "          'topic1', 'topic2', 'topic3', \n",
    "          'appIdInstall', 'appIdAction', 'ct', 'os', 'carrier', 'house']\n"
   ]
  },
  {
   "cell_type": "code",
   "execution_count": 9,
   "metadata": {},
   "outputs": [],
   "source": [
    "user_feature_all.to_csv('data/user_feature_all.csv', columns=column, index=False)"
   ]
  },
  {
   "cell_type": "heading",
   "metadata": {},
   "level": 2,
   "source": [
    "重新读入合并的user data数据"
   ]
  },
  {
   "cell_type": "code",
   "execution_count": 2,
   "metadata": {},
   "outputs": [],
   "source": [
    "user_feature_all = pd.read_csv('data/user_feature_all.csv')"
   ]
  },
  {
   "cell_type": "code",
   "execution_count": 3,
   "metadata": {},
   "outputs": [
    {
     "data": {
      "text/html": [
       "<div>\n",
       "<style scoped>\n",
       "    .dataframe tbody tr th:only-of-type {\n",
       "        vertical-align: middle;\n",
       "    }\n",
       "\n",
       "    .dataframe tbody tr th {\n",
       "        vertical-align: top;\n",
       "    }\n",
       "\n",
       "    .dataframe thead th {\n",
       "        text-align: right;\n",
       "    }\n",
       "</style>\n",
       "<table border=\"1\" class=\"dataframe\">\n",
       "  <thead>\n",
       "    <tr style=\"text-align: right;\">\n",
       "      <th></th>\n",
       "      <th>uid</th>\n",
       "      <th>age</th>\n",
       "      <th>gender</th>\n",
       "      <th>marriageStatus</th>\n",
       "      <th>education</th>\n",
       "      <th>consumptionAbility</th>\n",
       "      <th>LBS</th>\n",
       "      <th>interest1</th>\n",
       "      <th>interest2</th>\n",
       "      <th>interest3</th>\n",
       "      <th>...</th>\n",
       "      <th>kw3</th>\n",
       "      <th>topic1</th>\n",
       "      <th>topic2</th>\n",
       "      <th>topic3</th>\n",
       "      <th>appIdInstall</th>\n",
       "      <th>appIdAction</th>\n",
       "      <th>ct</th>\n",
       "      <th>os</th>\n",
       "      <th>carrier</th>\n",
       "      <th>house</th>\n",
       "    </tr>\n",
       "  </thead>\n",
       "  <tbody>\n",
       "    <tr>\n",
       "      <th>0</th>\n",
       "      <td>26325489</td>\n",
       "      <td>4</td>\n",
       "      <td>2</td>\n",
       "      <td>11</td>\n",
       "      <td>7</td>\n",
       "      <td>2</td>\n",
       "      <td>950.0</td>\n",
       "      <td>93-70-77-86-109-47-75-69-45-8-29-49-83-6-46-36...</td>\n",
       "      <td>46-19-13-29</td>\n",
       "      <td>NaN</td>\n",
       "      <td>...</td>\n",
       "      <td>NaN</td>\n",
       "      <td>9826-105-8525-5488-7281</td>\n",
       "      <td>9708-5553-6745-7477-7150</td>\n",
       "      <td>NaN</td>\n",
       "      <td>NaN</td>\n",
       "      <td>NaN</td>\n",
       "      <td>3-1</td>\n",
       "      <td>2</td>\n",
       "      <td>1</td>\n",
       "      <td>NaN</td>\n",
       "    </tr>\n",
       "    <tr>\n",
       "      <th>1</th>\n",
       "      <td>1184123</td>\n",
       "      <td>2</td>\n",
       "      <td>1</td>\n",
       "      <td>5-13</td>\n",
       "      <td>2</td>\n",
       "      <td>1</td>\n",
       "      <td>803.0</td>\n",
       "      <td>75-29</td>\n",
       "      <td>33</td>\n",
       "      <td>NaN</td>\n",
       "      <td>...</td>\n",
       "      <td>NaN</td>\n",
       "      <td>4391-9140-5669-1348-4388</td>\n",
       "      <td>9401-7724-1380-8890-7153</td>\n",
       "      <td>NaN</td>\n",
       "      <td>NaN</td>\n",
       "      <td>NaN</td>\n",
       "      <td>3-1</td>\n",
       "      <td>1</td>\n",
       "      <td>1</td>\n",
       "      <td>NaN</td>\n",
       "    </tr>\n",
       "    <tr>\n",
       "      <th>2</th>\n",
       "      <td>76072711</td>\n",
       "      <td>1</td>\n",
       "      <td>1</td>\n",
       "      <td>13-10</td>\n",
       "      <td>5</td>\n",
       "      <td>1</td>\n",
       "      <td>927.0</td>\n",
       "      <td>70-12-28-106-59-49-41-6-42-115-35-116-36-11-96</td>\n",
       "      <td>51-22-79-81-70-6-21-4-41-35</td>\n",
       "      <td>NaN</td>\n",
       "      <td>...</td>\n",
       "      <td>NaN</td>\n",
       "      <td>1502-5488-9826-2187-8088</td>\n",
       "      <td>5005-9154-2756-5612-4209</td>\n",
       "      <td>NaN</td>\n",
       "      <td>NaN</td>\n",
       "      <td>NaN</td>\n",
       "      <td>3-1</td>\n",
       "      <td>1</td>\n",
       "      <td>3</td>\n",
       "      <td>NaN</td>\n",
       "    </tr>\n",
       "    <tr>\n",
       "      <th>3</th>\n",
       "      <td>63071413</td>\n",
       "      <td>4</td>\n",
       "      <td>1</td>\n",
       "      <td>11</td>\n",
       "      <td>7</td>\n",
       "      <td>1</td>\n",
       "      <td>486.0</td>\n",
       "      <td>93-70-77-47-76-75-69-29-59-49-122-42-46-23-17-...</td>\n",
       "      <td>24-70-19-13-30-10</td>\n",
       "      <td>NaN</td>\n",
       "      <td>...</td>\n",
       "      <td>NaN</td>\n",
       "      <td>1619-7342-3064-9213-8525</td>\n",
       "      <td>810-2438-5659-1844-9262</td>\n",
       "      <td>NaN</td>\n",
       "      <td>NaN</td>\n",
       "      <td>NaN</td>\n",
       "      <td>1-3</td>\n",
       "      <td>1-2</td>\n",
       "      <td>3</td>\n",
       "      <td>NaN</td>\n",
       "    </tr>\n",
       "    <tr>\n",
       "      <th>4</th>\n",
       "      <td>81294159</td>\n",
       "      <td>5</td>\n",
       "      <td>1</td>\n",
       "      <td>11</td>\n",
       "      <td>6</td>\n",
       "      <td>2</td>\n",
       "      <td>112.0</td>\n",
       "      <td>75-29-49-122-36-11</td>\n",
       "      <td>NaN</td>\n",
       "      <td>NaN</td>\n",
       "      <td>...</td>\n",
       "      <td>NaN</td>\n",
       "      <td>477-9826-5808-644-2747</td>\n",
       "      <td>5483-2199-5424-1511-7751</td>\n",
       "      <td>NaN</td>\n",
       "      <td>NaN</td>\n",
       "      <td>NaN</td>\n",
       "      <td>3-1-4-2</td>\n",
       "      <td>1</td>\n",
       "      <td>3</td>\n",
       "      <td>NaN</td>\n",
       "    </tr>\n",
       "  </tbody>\n",
       "</table>\n",
       "<p>5 rows × 24 columns</p>\n",
       "</div>"
      ],
      "text/plain": [
       "<div>\n",
       "<style scoped>\n",
       "    .dataframe tbody tr th:only-of-type {\n",
       "        vertical-align: middle;\n",
       "    }\n",
       "\n",
       "    .dataframe tbody tr th {\n",
       "        vertical-align: top;\n",
       "    }\n",
       "\n",
       "    .dataframe thead th {\n",
       "        text-align: right;\n",
       "    }\n",
       "</style>\n",
       "<table border=\"1\" class=\"dataframe\">\n",
       "  <thead>\n",
       "    <tr style=\"text-align: right;\">\n",
       "      <th></th>\n",
       "      <th>uid</th>\n",
       "      <th>age</th>\n",
       "      <th>gender</th>\n",
       "      <th>marriageStatus</th>\n",
       "      <th>education</th>\n",
       "      <th>consumptionAbility</th>\n",
       "      <th>LBS</th>\n",
       "      <th>interest1</th>\n",
       "      <th>interest2</th>\n",
       "      <th>interest3</th>\n",
       "      <th>...</th>\n",
       "      <th>kw3</th>\n",
       "      <th>topic1</th>\n",
       "      <th>topic2</th>\n",
       "      <th>topic3</th>\n",
       "      <th>appIdInstall</th>\n",
       "      <th>appIdAction</th>\n",
       "      <th>ct</th>\n",
       "      <th>os</th>\n",
       "      <th>carrier</th>\n",
       "      <th>house</th>\n",
       "    </tr>\n",
       "  </thead>\n",
       "  <tbody>\n",
       "    <tr>\n",
       "      <th>0</th>\n",
       "      <td>26325489</td>\n",
       "      <td>4</td>\n",
       "      <td>2</td>\n",
       "      <td>11</td>\n",
       "      <td>7</td>\n",
       "      <td>2</td>\n",
       "      <td>950.0</td>\n",
       "      <td>93-70-77-86-109-47-75-69-45-8-29-49-83-6-46-36...</td>\n",
       "      <td>46-19-13-29</td>\n",
       "      <td>NaN</td>\n",
       "      <td>...</td>\n",
       "      <td>NaN</td>\n",
       "      <td>9826-105-8525-5488-7281</td>\n",
       "      <td>9708-5553-6745-7477-7150</td>\n",
       "      <td>NaN</td>\n",
       "      <td>NaN</td>\n",
       "      <td>NaN</td>\n",
       "      <td>3-1</td>\n",
       "      <td>2</td>\n",
       "      <td>1</td>\n",
       "      <td>NaN</td>\n",
       "    </tr>\n",
       "    <tr>\n",
       "      <th>1</th>\n",
       "      <td>1184123</td>\n",
       "      <td>2</td>\n",
       "      <td>1</td>\n",
       "      <td>5-13</td>\n",
       "      <td>2</td>\n",
       "      <td>1</td>\n",
       "      <td>803.0</td>\n",
       "      <td>75-29</td>\n",
       "      <td>33</td>\n",
       "      <td>NaN</td>\n",
       "      <td>...</td>\n",
       "      <td>NaN</td>\n",
       "      <td>4391-9140-5669-1348-4388</td>\n",
       "      <td>9401-7724-1380-8890-7153</td>\n",
       "      <td>NaN</td>\n",
       "      <td>NaN</td>\n",
       "      <td>NaN</td>\n",
       "      <td>3-1</td>\n",
       "      <td>1</td>\n",
       "      <td>1</td>\n",
       "      <td>NaN</td>\n",
       "    </tr>\n",
       "    <tr>\n",
       "      <th>2</th>\n",
       "      <td>76072711</td>\n",
       "      <td>1</td>\n",
       "      <td>1</td>\n",
       "      <td>13-10</td>\n",
       "      <td>5</td>\n",
       "      <td>1</td>\n",
       "      <td>927.0</td>\n",
       "      <td>70-12-28-106-59-49-41-6-42-115-35-116-36-11-96</td>\n",
       "      <td>51-22-79-81-70-6-21-4-41-35</td>\n",
       "      <td>NaN</td>\n",
       "      <td>...</td>\n",
       "      <td>NaN</td>\n",
       "      <td>1502-5488-9826-2187-8088</td>\n",
       "      <td>5005-9154-2756-5612-4209</td>\n",
       "      <td>NaN</td>\n",
       "      <td>NaN</td>\n",
       "      <td>NaN</td>\n",
       "      <td>3-1</td>\n",
       "      <td>1</td>\n",
       "      <td>3</td>\n",
       "      <td>NaN</td>\n",
       "    </tr>\n",
       "    <tr>\n",
       "      <th>3</th>\n",
       "      <td>63071413</td>\n",
       "      <td>4</td>\n",
       "      <td>1</td>\n",
       "      <td>11</td>\n",
       "      <td>7</td>\n",
       "      <td>1</td>\n",
       "      <td>486.0</td>\n",
       "      <td>93-70-77-47-76-75-69-29-59-49-122-42-46-23-17-...</td>\n",
       "      <td>24-70-19-13-30-10</td>\n",
       "      <td>NaN</td>\n",
       "      <td>...</td>\n",
       "      <td>NaN</td>\n",
       "      <td>1619-7342-3064-9213-8525</td>\n",
       "      <td>810-2438-5659-1844-9262</td>\n",
       "      <td>NaN</td>\n",
       "      <td>NaN</td>\n",
       "      <td>NaN</td>\n",
       "      <td>1-3</td>\n",
       "      <td>1-2</td>\n",
       "      <td>3</td>\n",
       "      <td>NaN</td>\n",
       "    </tr>\n",
       "    <tr>\n",
       "      <th>4</th>\n",
       "      <td>81294159</td>\n",
       "      <td>5</td>\n",
       "      <td>1</td>\n",
       "      <td>11</td>\n",
       "      <td>6</td>\n",
       "      <td>2</td>\n",
       "      <td>112.0</td>\n",
       "      <td>75-29-49-122-36-11</td>\n",
       "      <td>NaN</td>\n",
       "      <td>NaN</td>\n",
       "      <td>...</td>\n",
       "      <td>NaN</td>\n",
       "      <td>477-9826-5808-644-2747</td>\n",
       "      <td>5483-2199-5424-1511-7751</td>\n",
       "      <td>NaN</td>\n",
       "      <td>NaN</td>\n",
       "      <td>NaN</td>\n",
       "      <td>3-1-4-2</td>\n",
       "      <td>1</td>\n",
       "      <td>3</td>\n",
       "      <td>NaN</td>\n",
       "    </tr>\n",
       "  </tbody>\n",
       "</table>\n",
       "<p>5 rows × 24 columns</p>\n",
       "</div>"
      ]
     },
     "execution_count": 3,
     "metadata": {},
     "output_type": "execute_result"
    }
   ],
   "source": [
    "user_feature_all.head()"
   ]
  },
  {
   "cell_type": "code",
   "execution_count": 4,
   "metadata": {},
   "outputs": [
    {
     "name": "stdout",
     "output_type": "stream",
     "text": [
      "<class 'pandas.core.frame.DataFrame'>\nRangeIndex: 11420039 entries, 0 to 11420038\nData columns (total 24 columns):\nuid                   int64\nage                   int64\ngender                int64\nmarriageStatus        object\neducation             int64\nconsumptionAbility    int64\nLBS                   float64\ninterest1             object\ninterest2             object\ninterest3             object\ninterest4             object\ninterest5             object\nkw1                   object\nkw2                   object\nkw3                   object\ntopic1                object\ntopic2                object\ntopic3                object\nappIdInstall          object\nappIdAction           object\nct                    object\nos                    object\ncarrier               int64\nhouse                 float64\ndtypes: float64(2), int64(6), object(16)\nmemory usage: 2.0+ GB\n"
     ]
    }
   ],
   "source": [
    "user_feature_all.info()"
   ]
  },
  {
   "cell_type": "code",
   "execution_count": 7,
   "metadata": {},
   "outputs": [
    {
     "data": {
      "text/plain": [
       "Counter({0: 5832, 1: 2646609, 2: 2348005, 3: 1322315, 4: 2337992, 5: 2759286})"
      ]
     },
     "execution_count": 7,
     "metadata": {},
     "output_type": "execute_result"
    }
   ],
   "source": [
    "ages = Counter(user_feature_all['age'])\n",
    "ages"
   ]
  },
  {
   "cell_type": "code",
   "execution_count": 10,
   "metadata": {},
   "outputs": [
    {
     "data": {
      "text/plain": [
       "(array([   5832.,       0., 2646609.,       0., 2348005.,       0.,\n        1322315.,       0., 2337992., 2759286.]),\n array([0. , 0.5, 1. , 1.5, 2. , 2.5, 3. , 3.5, 4. , 4.5, 5. ]),\n <a list of 10 Patch objects>)"
      ]
     },
     "execution_count": 10,
     "metadata": {},
     "output_type": "execute_result"
    },
    {
     "data": {
      "image/png": "[encoded data removed]",
      "text/plain": [
       "<Figure size 432x288 with 1 Axes>"
      ]
     },
     "metadata": {},
     "output_type": "display_data"
    }
   ],
   "source": [
    "plt.hist(user_feature_all['age'])"
   ]
  },
  {
   "cell_type": "code",
   "execution_count": 8,
   "metadata": {},
   "outputs": [
    {
     "data": {
      "text/html": [
       "<div>\n",
       "<style scoped>\n",
       "    .dataframe tbody tr th:only-of-type {\n",
       "        vertical-align: middle;\n",
       "    }\n",
       "\n",
       "    .dataframe tbody tr th {\n",
       "        vertical-align: top;\n",
       "    }\n",
       "\n",
       "    .dataframe thead th {\n",
       "        text-align: right;\n",
       "    }\n",
       "</style>\n",
       "<table border=\"1\" class=\"dataframe\">\n",
       "  <thead>\n",
       "    <tr style=\"text-align: right;\">\n",
       "      <th></th>\n",
       "      <th>uid</th>\n",
       "      <th>age</th>\n",
       "      <th>gender</th>\n",
       "      <th>marriageStatus</th>\n",
       "      <th>education</th>\n",
       "      <th>consumptionAbility</th>\n",
       "      <th>LBS</th>\n",
       "      <th>interest1</th>\n",
       "      <th>interest2</th>\n",
       "      <th>interest3</th>\n",
       "      <th>...</th>\n",
       "      <th>kw3</th>\n",
       "      <th>topic1</th>\n",
       "      <th>topic2</th>\n",
       "      <th>topic3</th>\n",
       "      <th>appIdInstall</th>\n",
       "      <th>appIdAction</th>\n",
       "      <th>ct</th>\n",
       "      <th>os</th>\n",
       "      <th>carrier</th>\n",
       "      <th>house</th>\n",
       "    </tr>\n",
       "  </thead>\n",
       "  <tbody>\n",
       "    <tr>\n",
       "      <th>0</th>\n",
       "      <td>26325489</td>\n",
       "      <td>0.8</td>\n",
       "      <td>2</td>\n",
       "      <td>11</td>\n",
       "      <td>7</td>\n",
       "      <td>2</td>\n",
       "      <td>950.0</td>\n",
       "      <td>93-70-77-86-109-47-75-69-45-8-29-49-83-6-46-36...</td>\n",
       "      <td>46-19-13-29</td>\n",
       "      <td>NaN</td>\n",
       "      <td>...</td>\n",
       "      <td>NaN</td>\n",
       "      <td>9826-105-8525-5488-7281</td>\n",
       "      <td>9708-5553-6745-7477-7150</td>\n",
       "      <td>NaN</td>\n",
       "      <td>NaN</td>\n",
       "      <td>NaN</td>\n",
       "      <td>3-1</td>\n",
       "      <td>2</td>\n",
       "      <td>1</td>\n",
       "      <td>NaN</td>\n",
       "    </tr>\n",
       "    <tr>\n",
       "      <th>1</th>\n",
       "      <td>1184123</td>\n",
       "      <td>0.4</td>\n",
       "      <td>1</td>\n",
       "      <td>5-13</td>\n",
       "      <td>2</td>\n",
       "      <td>1</td>\n",
       "      <td>803.0</td>\n",
       "      <td>75-29</td>\n",
       "      <td>33</td>\n",
       "      <td>NaN</td>\n",
       "      <td>...</td>\n",
       "      <td>NaN</td>\n",
       "      <td>4391-9140-5669-1348-4388</td>\n",
       "      <td>9401-7724-1380-8890-7153</td>\n",
       "      <td>NaN</td>\n",
       "      <td>NaN</td>\n",
       "      <td>NaN</td>\n",
       "      <td>3-1</td>\n",
       "      <td>1</td>\n",
       "      <td>1</td>\n",
       "      <td>NaN</td>\n",
       "    </tr>\n",
       "    <tr>\n",
       "      <th>2</th>\n",
       "      <td>76072711</td>\n",
       "      <td>0.2</td>\n",
       "      <td>1</td>\n",
       "      <td>13-10</td>\n",
       "      <td>5</td>\n",
       "      <td>1</td>\n",
       "      <td>927.0</td>\n",
       "      <td>70-12-28-106-59-49-41-6-42-115-35-116-36-11-96</td>\n",
       "      <td>51-22-79-81-70-6-21-4-41-35</td>\n",
       "      <td>NaN</td>\n",
       "      <td>...</td>\n",
       "      <td>NaN</td>\n",
       "      <td>1502-5488-9826-2187-8088</td>\n",
       "      <td>5005-9154-2756-5612-4209</td>\n",
       "      <td>NaN</td>\n",
       "      <td>NaN</td>\n",
       "      <td>NaN</td>\n",
       "      <td>3-1</td>\n",
       "      <td>1</td>\n",
       "      <td>3</td>\n",
       "      <td>NaN</td>\n",
       "    </tr>\n",
       "    <tr>\n",
       "      <th>3</th>\n",
       "      <td>63071413</td>\n",
       "      <td>0.8</td>\n",
       "      <td>1</td>\n",
       "      <td>11</td>\n",
       "      <td>7</td>\n",
       "      <td>1</td>\n",
       "      <td>486.0</td>\n",
       "      <td>93-70-77-47-76-75-69-29-59-49-122-42-46-23-17-...</td>\n",
       "      <td>24-70-19-13-30-10</td>\n",
       "      <td>NaN</td>\n",
       "      <td>...</td>\n",
       "      <td>NaN</td>\n",
       "      <td>1619-7342-3064-9213-8525</td>\n",
       "      <td>810-2438-5659-1844-9262</td>\n",
       "      <td>NaN</td>\n",
       "      <td>NaN</td>\n",
       "      <td>NaN</td>\n",
       "      <td>1-3</td>\n",
       "      <td>1-2</td>\n",
       "      <td>3</td>\n",
       "      <td>NaN</td>\n",
       "    </tr>\n",
       "    <tr>\n",
       "      <th>4</th>\n",
       "      <td>81294159</td>\n",
       "      <td>1.0</td>\n",
       "      <td>1</td>\n",
       "      <td>11</td>\n",
       "      <td>6</td>\n",
       "      <td>2</td>\n",
       "      <td>112.0</td>\n",
       "      <td>75-29-49-122-36-11</td>\n",
       "      <td>NaN</td>\n",
       "      <td>NaN</td>\n",
       "      <td>...</td>\n",
       "      <td>NaN</td>\n",
       "      <td>477-9826-5808-644-2747</td>\n",
       "      <td>5483-2199-5424-1511-7751</td>\n",
       "      <td>NaN</td>\n",
       "      <td>NaN</td>\n",
       "      <td>NaN</td>\n",
       "      <td>3-1-4-2</td>\n",
       "      <td>1</td>\n",
       "      <td>3</td>\n",
       "      <td>NaN</td>\n",
       "    </tr>\n",
       "  </tbody>\n",
       "</table>\n",
       "<p>5 rows × 24 columns</p>\n",
       "</div>"
      ],
      "text/plain": [
       "<div>\n",
       "<style scoped>\n",
       "    .dataframe tbody tr th:only-of-type {\n",
       "        vertical-align: middle;\n",
       "    }\n",
       "\n",
       "    .dataframe tbody tr th {\n",
       "        vertical-align: top;\n",
       "    }\n",
       "\n",
       "    .dataframe thead th {\n",
       "        text-align: right;\n",
       "    }\n",
       "</style>\n",
       "<table border=\"1\" class=\"dataframe\">\n",
       "  <thead>\n",
       "    <tr style=\"text-align: right;\">\n",
       "      <th></th>\n",
       "      <th>uid</th>\n",
       "      <th>age</th>\n",
       "      <th>gender</th>\n",
       "      <th>marriageStatus</th>\n",
       "      <th>education</th>\n",
       "      <th>consumptionAbility</th>\n",
       "      <th>LBS</th>\n",
       "      <th>interest1</th>\n",
       "      <th>interest2</th>\n",
       "      <th>interest3</th>\n",
       "      <th>...</th>\n",
       "      <th>kw3</th>\n",
       "      <th>topic1</th>\n",
       "      <th>topic2</th>\n",
       "      <th>topic3</th>\n",
       "      <th>appIdInstall</th>\n",
       "      <th>appIdAction</th>\n",
       "      <th>ct</th>\n",
       "      <th>os</th>\n",
       "      <th>carrier</th>\n",
       "      <th>house</th>\n",
       "    </tr>\n",
       "  </thead>\n",
       "  <tbody>\n",
       "    <tr>\n",
       "      <th>0</th>\n",
       "      <td>26325489</td>\n",
       "      <td>0.8</td>\n",
       "      <td>2</td>\n",
       "      <td>11</td>\n",
       "      <td>7</td>\n",
       "      <td>2</td>\n",
       "      <td>950.0</td>\n",
       "      <td>93-70-77-86-109-47-75-69-45-8-29-49-83-6-46-36...</td>\n",
       "      <td>46-19-13-29</td>\n",
       "      <td>NaN</td>\n",
       "      <td>...</td>\n",
       "      <td>NaN</td>\n",
       "      <td>9826-105-8525-5488-7281</td>\n",
       "      <td>9708-5553-6745-7477-7150</td>\n",
       "      <td>NaN</td>\n",
       "      <td>NaN</td>\n",
       "      <td>NaN</td>\n",
       "      <td>3-1</td>\n",
       "      <td>2</td>\n",
       "      <td>1</td>\n",
       "      <td>NaN</td>\n",
       "    </tr>\n",
       "    <tr>\n",
       "      <th>1</th>\n",
       "      <td>1184123</td>\n",
       "      <td>0.4</td>\n",
       "      <td>1</td>\n",
       "      <td>5-13</td>\n",
       "      <td>2</td>\n",
       "      <td>1</td>\n",
       "      <td>803.0</td>\n",
       "      <td>75-29</td>\n",
       "      <td>33</td>\n",
       "      <td>NaN</td>\n",
       "      <td>...</td>\n",
       "      <td>NaN</td>\n",
       "      <td>4391-9140-5669-1348-4388</td>\n",
       "      <td>9401-7724-1380-8890-7153</td>\n",
       "      <td>NaN</td>\n",
       "      <td>NaN</td>\n",
       "      <td>NaN</td>\n",
       "      <td>3-1</td>\n",
       "      <td>1</td>\n",
       "      <td>1</td>\n",
       "      <td>NaN</td>\n",
       "    </tr>\n",
       "    <tr>\n",
       "      <th>2</th>\n",
       "      <td>76072711</td>\n",
       "      <td>0.2</td>\n",
       "      <td>1</td>\n",
       "      <td>13-10</td>\n",
       "      <td>5</td>\n",
       "      <td>1</td>\n",
       "      <td>927.0</td>\n",
       "      <td>70-12-28-106-59-49-41-6-42-115-35-116-36-11-96</td>\n",
       "      <td>51-22-79-81-70-6-21-4-41-35</td>\n",
       "      <td>NaN</td>\n",
       "      <td>...</td>\n",
       "      <td>NaN</td>\n",
       "      <td>1502-5488-9826-2187-8088</td>\n",
       "      <td>5005-9154-2756-5612-4209</td>\n",
       "      <td>NaN</td>\n",
       "      <td>NaN</td>\n",
       "      <td>NaN</td>\n",
       "      <td>3-1</td>\n",
       "      <td>1</td>\n",
       "      <td>3</td>\n",
       "      <td>NaN</td>\n",
       "    </tr>\n",
       "    <tr>\n",
       "      <th>3</th>\n",
       "      <td>63071413</td>\n",
       "      <td>0.8</td>\n",
       "      <td>1</td>\n",
       "      <td>11</td>\n",
       "      <td>7</td>\n",
       "      <td>1</td>\n",
       "      <td>486.0</td>\n",
       "      <td>93-70-77-47-76-75-69-29-59-49-122-42-46-23-17-...</td>\n",
       "      <td>24-70-19-13-30-10</td>\n",
       "      <td>NaN</td>\n",
       "      <td>...</td>\n",
       "      <td>NaN</td>\n",
       "      <td>1619-7342-3064-9213-8525</td>\n",
       "      <td>810-2438-5659-1844-9262</td>\n",
       "      <td>NaN</td>\n",
       "      <td>NaN</td>\n",
       "      <td>NaN</td>\n",
       "      <td>1-3</td>\n",
       "      <td>1-2</td>\n",
       "      <td>3</td>\n",
       "      <td>NaN</td>\n",
       "    </tr>\n",
       "    <tr>\n",
       "      <th>4</th>\n",
       "      <td>81294159</td>\n",
       "      <td>1.0</td>\n",
       "      <td>1</td>\n",
       "      <td>11</td>\n",
       "      <td>6</td>\n",
       "      <td>2</td>\n",
       "      <td>112.0</td>\n",
       "      <td>75-29-49-122-36-11</td>\n",
       "      <td>NaN</td>\n",
       "      <td>NaN</td>\n",
       "      <td>...</td>\n",
       "      <td>NaN</td>\n",
       "      <td>477-9826-5808-644-2747</td>\n",
       "      <td>5483-2199-5424-1511-7751</td>\n",
       "      <td>NaN</td>\n",
       "      <td>NaN</td>\n",
       "      <td>NaN</td>\n",
       "      <td>3-1-4-2</td>\n",
       "      <td>1</td>\n",
       "      <td>3</td>\n",
       "      <td>NaN</td>\n",
       "    </tr>\n",
       "  </tbody>\n",
       "</table>\n",
       "<p>5 rows × 24 columns</p>\n",
       "</div>"
      ]
     },
     "execution_count": 8,
     "metadata": {},
     "output_type": "execute_result"
    }
   ],
   "source": [
    "user_feature_all['age'] = user_feature_all['age'] / user_feature_all['age'].max()\n",
    "user_feature_all.head()"
   ]
  },
  {
   "cell_type": "code",
   "execution_count": 10,
   "metadata": {},
   "outputs": [
    {
     "data": {
      "text/plain": [
       "Counter({0: 35594, 1: 7768063, 2: 3616382})"
      ]
     },
     "execution_count": 10,
     "metadata": {},
     "output_type": "execute_result"
    }
   ],
   "source": [
    "genders = Counter(user_feature_all['gender'])\n",
    "genders"
   ]
  },
  {
   "cell_type": "code",
   "execution_count": 11,
   "metadata": {},
   "outputs": [
    {
     "data": {
      "text/plain": [
       "(array([  35594.,       0.,       0.,       0.,       0., 7768063.,\n              0.,       0.,       0., 3616382.]),\n array([0. , 0.2, 0.4, 0.6, 0.8, 1. , 1.2, 1.4, 1.6, 1.8, 2. ]),\n <a list of 10 Patch objects>)"
      ]
     },
     "execution_count": 11,
     "metadata": {},
     "output_type": "execute_result"
    },
    {
     "data": {
      "image/png": "[encoded data removed]",
      "text/plain": [
       "<Figure size 432x288 with 1 Axes>"
      ]
     },
     "metadata": {},
     "output_type": "display_data"
    }
   ],
   "source": [
    "plt.hist(user_feature_all['gender'])"
   ]
  },
  {
   "cell_type": "code",
   "execution_count": 11,
   "metadata": {},
   "outputs": [
    {
     "data": {
      "text/html": [
       "<div>\n",
       "<style scoped>\n",
       "    .dataframe tbody tr th:only-of-type {\n",
       "        vertical-align: middle;\n",
       "    }\n",
       "\n",
       "    .dataframe tbody tr th {\n",
       "        vertical-align: top;\n",
       "    }\n",
       "\n",
       "    .dataframe thead th {\n",
       "        text-align: right;\n",
       "    }\n",
       "</style>\n",
       "<table border=\"1\" class=\"dataframe\">\n",
       "  <thead>\n",
       "    <tr style=\"text-align: right;\">\n",
       "      <th></th>\n",
       "      <th>uid</th>\n",
       "      <th>age</th>\n",
       "      <th>gender</th>\n",
       "      <th>marriageStatus</th>\n",
       "      <th>education</th>\n",
       "      <th>consumptionAbility</th>\n",
       "      <th>LBS</th>\n",
       "      <th>interest1</th>\n",
       "      <th>interest2</th>\n",
       "      <th>interest3</th>\n",
       "      <th>...</th>\n",
       "      <th>kw3</th>\n",
       "      <th>topic1</th>\n",
       "      <th>topic2</th>\n",
       "      <th>topic3</th>\n",
       "      <th>appIdInstall</th>\n",
       "      <th>appIdAction</th>\n",
       "      <th>ct</th>\n",
       "      <th>os</th>\n",
       "      <th>carrier</th>\n",
       "      <th>house</th>\n",
       "    </tr>\n",
       "  </thead>\n",
       "  <tbody>\n",
       "    <tr>\n",
       "      <th>0</th>\n",
       "      <td>26325489</td>\n",
       "      <td>0.8</td>\n",
       "      <td>1.0</td>\n",
       "      <td>11</td>\n",
       "      <td>7</td>\n",
       "      <td>2</td>\n",
       "      <td>950.0</td>\n",
       "      <td>93-70-77-86-109-47-75-69-45-8-29-49-83-6-46-36...</td>\n",
       "      <td>46-19-13-29</td>\n",
       "      <td>NaN</td>\n",
       "      <td>...</td>\n",
       "      <td>NaN</td>\n",
       "      <td>9826-105-8525-5488-7281</td>\n",
       "      <td>9708-5553-6745-7477-7150</td>\n",
       "      <td>NaN</td>\n",
       "      <td>NaN</td>\n",
       "      <td>NaN</td>\n",
       "      <td>3-1</td>\n",
       "      <td>2</td>\n",
       "      <td>1</td>\n",
       "      <td>NaN</td>\n",
       "    </tr>\n",
       "    <tr>\n",
       "      <th>1</th>\n",
       "      <td>1184123</td>\n",
       "      <td>0.4</td>\n",
       "      <td>0.5</td>\n",
       "      <td>5-13</td>\n",
       "      <td>2</td>\n",
       "      <td>1</td>\n",
       "      <td>803.0</td>\n",
       "      <td>75-29</td>\n",
       "      <td>33</td>\n",
       "      <td>NaN</td>\n",
       "      <td>...</td>\n",
       "      <td>NaN</td>\n",
       "      <td>4391-9140-5669-1348-4388</td>\n",
       "      <td>9401-7724-1380-8890-7153</td>\n",
       "      <td>NaN</td>\n",
       "      <td>NaN</td>\n",
       "      <td>NaN</td>\n",
       "      <td>3-1</td>\n",
       "      <td>1</td>\n",
       "      <td>1</td>\n",
       "      <td>NaN</td>\n",
       "    </tr>\n",
       "    <tr>\n",
       "      <th>2</th>\n",
       "      <td>76072711</td>\n",
       "      <td>0.2</td>\n",
       "      <td>0.5</td>\n",
       "      <td>13-10</td>\n",
       "      <td>5</td>\n",
       "      <td>1</td>\n",
       "      <td>927.0</td>\n",
       "      <td>70-12-28-106-59-49-41-6-42-115-35-116-36-11-96</td>\n",
       "      <td>51-22-79-81-70-6-21-4-41-35</td>\n",
       "      <td>NaN</td>\n",
       "      <td>...</td>\n",
       "      <td>NaN</td>\n",
       "      <td>1502-5488-9826-2187-8088</td>\n",
       "      <td>5005-9154-2756-5612-4209</td>\n",
       "      <td>NaN</td>\n",
       "      <td>NaN</td>\n",
       "      <td>NaN</td>\n",
       "      <td>3-1</td>\n",
       "      <td>1</td>\n",
       "      <td>3</td>\n",
       "      <td>NaN</td>\n",
       "    </tr>\n",
       "    <tr>\n",
       "      <th>3</th>\n",
       "      <td>63071413</td>\n",
       "      <td>0.8</td>\n",
       "      <td>0.5</td>\n",
       "      <td>11</td>\n",
       "      <td>7</td>\n",
       "      <td>1</td>\n",
       "      <td>486.0</td>\n",
       "      <td>93-70-77-47-76-75-69-29-59-49-122-42-46-23-17-...</td>\n",
       "      <td>24-70-19-13-30-10</td>\n",
       "      <td>NaN</td>\n",
       "      <td>...</td>\n",
       "      <td>NaN</td>\n",
       "      <td>1619-7342-3064-9213-8525</td>\n",
       "      <td>810-2438-5659-1844-9262</td>\n",
       "      <td>NaN</td>\n",
       "      <td>NaN</td>\n",
       "      <td>NaN</td>\n",
       "      <td>1-3</td>\n",
       "      <td>1-2</td>\n",
       "      <td>3</td>\n",
       "      <td>NaN</td>\n",
       "    </tr>\n",
       "    <tr>\n",
       "      <th>4</th>\n",
       "      <td>81294159</td>\n",
       "      <td>1.0</td>\n",
       "      <td>0.5</td>\n",
       "      <td>11</td>\n",
       "      <td>6</td>\n",
       "      <td>2</td>\n",
       "      <td>112.0</td>\n",
       "      <td>75-29-49-122-36-11</td>\n",
       "      <td>NaN</td>\n",
       "      <td>NaN</td>\n",
       "      <td>...</td>\n",
       "      <td>NaN</td>\n",
       "      <td>477-9826-5808-644-2747</td>\n",
       "      <td>5483-2199-5424-1511-7751</td>\n",
       "      <td>NaN</td>\n",
       "      <td>NaN</td>\n",
       "      <td>NaN</td>\n",
       "      <td>3-1-4-2</td>\n",
       "      <td>1</td>\n",
       "      <td>3</td>\n",
       "      <td>NaN</td>\n",
       "    </tr>\n",
       "  </tbody>\n",
       "</table>\n",
       "<p>5 rows × 24 columns</p>\n",
       "</div>"
      ],
      "text/plain": [
       "<div>\n",
       "<style scoped>\n",
       "    .dataframe tbody tr th:only-of-type {\n",
       "        vertical-align: middle;\n",
       "    }\n",
       "\n",
       "    .dataframe tbody tr th {\n",
       "        vertical-align: top;\n",
       "    }\n",
       "\n",
       "    .dataframe thead th {\n",
       "        text-align: right;\n",
       "    }\n",
       "</style>\n",
       "<table border=\"1\" class=\"dataframe\">\n",
       "  <thead>\n",
       "    <tr style=\"text-align: right;\">\n",
       "      <th></th>\n",
       "      <th>uid</th>\n",
       "      <th>age</th>\n",
       "      <th>gender</th>\n",
       "      <th>marriageStatus</th>\n",
       "      <th>education</th>\n",
       "      <th>consumptionAbility</th>\n",
       "      <th>LBS</th>\n",
       "      <th>interest1</th>\n",
       "      <th>interest2</th>\n",
       "      <th>interest3</th>\n",
       "      <th>...</th>\n",
       "      <th>kw3</th>\n",
       "      <th>topic1</th>\n",
       "      <th>topic2</th>\n",
       "      <th>topic3</th>\n",
       "      <th>appIdInstall</th>\n",
       "      <th>appIdAction</th>\n",
       "      <th>ct</th>\n",
       "      <th>os</th>\n",
       "      <th>carrier</th>\n",
       "      <th>house</th>\n",
       "    </tr>\n",
       "  </thead>\n",
       "  <tbody>\n",
       "    <tr>\n",
       "      <th>0</th>\n",
       "      <td>26325489</td>\n",
       "      <td>0.8</td>\n",
       "      <td>1.0</td>\n",
       "      <td>11</td>\n",
       "      <td>7</td>\n",
       "      <td>2</td>\n",
       "      <td>950.0</td>\n",
       "      <td>93-70-77-86-109-47-75-69-45-8-29-49-83-6-46-36...</td>\n",
       "      <td>46-19-13-29</td>\n",
       "      <td>NaN</td>\n",
       "      <td>...</td>\n",
       "      <td>NaN</td>\n",
       "      <td>9826-105-8525-5488-7281</td>\n",
       "      <td>9708-5553-6745-7477-7150</td>\n",
       "      <td>NaN</td>\n",
       "      <td>NaN</td>\n",
       "      <td>NaN</td>\n",
       "      <td>3-1</td>\n",
       "      <td>2</td>\n",
       "      <td>1</td>\n",
       "      <td>NaN</td>\n",
       "    </tr>\n",
       "    <tr>\n",
       "      <th>1</th>\n",
       "      <td>1184123</td>\n",
       "      <td>0.4</td>\n",
       "      <td>0.5</td>\n",
       "      <td>5-13</td>\n",
       "      <td>2</td>\n",
       "      <td>1</td>\n",
       "      <td>803.0</td>\n",
       "      <td>75-29</td>\n",
       "      <td>33</td>\n",
       "      <td>NaN</td>\n",
       "      <td>...</td>\n",
       "      <td>NaN</td>\n",
       "      <td>4391-9140-5669-1348-4388</td>\n",
       "      <td>9401-7724-1380-8890-7153</td>\n",
       "      <td>NaN</td>\n",
       "      <td>NaN</td>\n",
       "      <td>NaN</td>\n",
       "      <td>3-1</td>\n",
       "      <td>1</td>\n",
       "      <td>1</td>\n",
       "      <td>NaN</td>\n",
       "    </tr>\n",
       "    <tr>\n",
       "      <th>2</th>\n",
       "      <td>76072711</td>\n",
       "      <td>0.2</td>\n",
       "      <td>0.5</td>\n",
       "      <td>13-10</td>\n",
       "      <td>5</td>\n",
       "      <td>1</td>\n",
       "      <td>927.0</td>\n",
       "      <td>70-12-28-106-59-49-41-6-42-115-35-116-36-11-96</td>\n",
       "      <td>51-22-79-81-70-6-21-4-41-35</td>\n",
       "      <td>NaN</td>\n",
       "      <td>...</td>\n",
       "      <td>NaN</td>\n",
       "      <td>1502-5488-9826-2187-8088</td>\n",
       "      <td>5005-9154-2756-5612-4209</td>\n",
       "      <td>NaN</td>\n",
       "      <td>NaN</td>\n",
       "      <td>NaN</td>\n",
       "      <td>3-1</td>\n",
       "      <td>1</td>\n",
       "      <td>3</td>\n",
       "      <td>NaN</td>\n",
       "    </tr>\n",
       "    <tr>\n",
       "      <th>3</th>\n",
       "      <td>63071413</td>\n",
       "      <td>0.8</td>\n",
       "      <td>0.5</td>\n",
       "      <td>11</td>\n",
       "      <td>7</td>\n",
       "      <td>1</td>\n",
       "      <td>486.0</td>\n",
       "      <td>93-70-77-47-76-75-69-29-59-49-122-42-46-23-17-...</td>\n",
       "      <td>24-70-19-13-30-10</td>\n",
       "      <td>NaN</td>\n",
       "      <td>...</td>\n",
       "      <td>NaN</td>\n",
       "      <td>1619-7342-3064-9213-8525</td>\n",
       "      <td>810-2438-5659-1844-9262</td>\n",
       "      <td>NaN</td>\n",
       "      <td>NaN</td>\n",
       "      <td>NaN</td>\n",
       "      <td>1-3</td>\n",
       "      <td>1-2</td>\n",
       "      <td>3</td>\n",
       "      <td>NaN</td>\n",
       "    </tr>\n",
       "    <tr>\n",
       "      <th>4</th>\n",
       "      <td>81294159</td>\n",
       "      <td>1.0</td>\n",
       "      <td>0.5</td>\n",
       "      <td>11</td>\n",
       "      <td>6</td>\n",
       "      <td>2</td>\n",
       "      <td>112.0</td>\n",
       "      <td>75-29-49-122-36-11</td>\n",
       "      <td>NaN</td>\n",
       "      <td>NaN</td>\n",
       "      <td>...</td>\n",
       "      <td>NaN</td>\n",
       "      <td>477-9826-5808-644-2747</td>\n",
       "      <td>5483-2199-5424-1511-7751</td>\n",
       "      <td>NaN</td>\n",
       "      <td>NaN</td>\n",
       "      <td>NaN</td>\n",
       "      <td>3-1-4-2</td>\n",
       "      <td>1</td>\n",
       "      <td>3</td>\n",
       "      <td>NaN</td>\n",
       "    </tr>\n",
       "  </tbody>\n",
       "</table>\n",
       "<p>5 rows × 24 columns</p>\n",
       "</div>"
      ]
     },
     "execution_count": 11,
     "metadata": {},
     "output_type": "execute_result"
    }
   ],
   "source": [
    "user_feature_all['gender'] = user_feature_all['gender'] / user_feature_all['gender'].max()\n",
    "user_feature_all.head()"
   ]
  },
  {
   "cell_type": "code",
   "execution_count": 13,
   "metadata": {},
   "outputs": [
    {
     "data": {
      "text/plain": [
       "Counter({0.0: 35594, 0.5: 7768063, 1.0: 3616382})"
      ]
     },
     "execution_count": 13,
     "metadata": {},
     "output_type": "execute_result"
    }
   ],
   "source": [
    "genders = Counter(user_feature_all['gender'])\n",
    "genders"
   ]
  },
  {
   "cell_type": "code",
   "execution_count": 15,
   "metadata": {},
   "outputs": [
    {
     "data": {
      "text/plain": [
       "Counter({0: 113486,\n         1: 1366418,\n         2: 2787696,\n         3: 528555,\n         4: 125985,\n         5: 391070,\n         6: 1969266,\n         7: 4137563})"
      ]
     },
     "execution_count": 15,
     "metadata": {},
     "output_type": "execute_result"
    }
   ],
   "source": [
    "education = Counter(user_feature_all['education'])\n",
    "education"
   ]
  },
  {
   "cell_type": "code",
   "execution_count": 12,
   "metadata": {},
   "outputs": [
    {
     "data": {
      "text/plain": [
       "(array([ 113486., 1366418., 2787696.,       0.,  528555.,  125985.,\n              0.,  391070., 1969266., 4137563.]),\n array([0. , 0.7, 1.4, 2.1, 2.8, 3.5, 4.2, 4.9, 5.6, 6.3, 7. ]),\n <a list of 10 Patch objects>)"
      ]
     },
     "execution_count": 12,
     "metadata": {},
     "output_type": "execute_result"
    },
    {
     "data": {
      "image/png": "[encoded data removed]",
      "text/plain": [
       "<Figure size 432x288 with 1 Axes>"
      ]
     },
     "metadata": {},
     "output_type": "display_data"
    }
   ],
   "source": [
    "plt.hist(user_feature_all['education'])"
   ]
  },
  {
   "cell_type": "code",
   "execution_count": 16,
   "metadata": {},
   "outputs": [
    {
     "data": {
      "text/html": [
       "<div>\n",
       "<style scoped>\n",
       "    .dataframe tbody tr th:only-of-type {\n",
       "        vertical-align: middle;\n",
       "    }\n",
       "\n",
       "    .dataframe tbody tr th {\n",
       "        vertical-align: top;\n",
       "    }\n",
       "\n",
       "    .dataframe thead th {\n",
       "        text-align: right;\n",
       "    }\n",
       "</style>\n",
       "<table border=\"1\" class=\"dataframe\">\n",
       "  <thead>\n",
       "    <tr style=\"text-align: right;\">\n",
       "      <th></th>\n",
       "      <th>uid</th>\n",
       "      <th>age</th>\n",
       "      <th>gender</th>\n",
       "      <th>marriageStatus</th>\n",
       "      <th>education</th>\n",
       "      <th>consumptionAbility</th>\n",
       "      <th>LBS</th>\n",
       "      <th>interest1</th>\n",
       "      <th>interest2</th>\n",
       "      <th>interest3</th>\n",
       "      <th>...</th>\n",
       "      <th>kw3</th>\n",
       "      <th>topic1</th>\n",
       "      <th>topic2</th>\n",
       "      <th>topic3</th>\n",
       "      <th>appIdInstall</th>\n",
       "      <th>appIdAction</th>\n",
       "      <th>ct</th>\n",
       "      <th>os</th>\n",
       "      <th>carrier</th>\n",
       "      <th>house</th>\n",
       "    </tr>\n",
       "  </thead>\n",
       "  <tbody>\n",
       "    <tr>\n",
       "      <th>0</th>\n",
       "      <td>26325489</td>\n",
       "      <td>0.8</td>\n",
       "      <td>1.0</td>\n",
       "      <td>11</td>\n",
       "      <td>1.000000</td>\n",
       "      <td>2</td>\n",
       "      <td>950.0</td>\n",
       "      <td>93-70-77-86-109-47-75-69-45-8-29-49-83-6-46-36...</td>\n",
       "      <td>46-19-13-29</td>\n",
       "      <td>NaN</td>\n",
       "      <td>...</td>\n",
       "      <td>NaN</td>\n",
       "      <td>9826-105-8525-5488-7281</td>\n",
       "      <td>9708-5553-6745-7477-7150</td>\n",
       "      <td>NaN</td>\n",
       "      <td>NaN</td>\n",
       "      <td>NaN</td>\n",
       "      <td>3-1</td>\n",
       "      <td>2</td>\n",
       "      <td>1</td>\n",
       "      <td>NaN</td>\n",
       "    </tr>\n",
       "    <tr>\n",
       "      <th>1</th>\n",
       "      <td>1184123</td>\n",
       "      <td>0.4</td>\n",
       "      <td>0.5</td>\n",
       "      <td>5-13</td>\n",
       "      <td>0.285714</td>\n",
       "      <td>1</td>\n",
       "      <td>803.0</td>\n",
       "      <td>75-29</td>\n",
       "      <td>33</td>\n",
       "      <td>NaN</td>\n",
       "      <td>...</td>\n",
       "      <td>NaN</td>\n",
       "      <td>4391-9140-5669-1348-4388</td>\n",
       "      <td>9401-7724-1380-8890-7153</td>\n",
       "      <td>NaN</td>\n",
       "      <td>NaN</td>\n",
       "      <td>NaN</td>\n",
       "      <td>3-1</td>\n",
       "      <td>1</td>\n",
       "      <td>1</td>\n",
       "      <td>NaN</td>\n",
       "    </tr>\n",
       "    <tr>\n",
       "      <th>2</th>\n",
       "      <td>76072711</td>\n",
       "      <td>0.2</td>\n",
       "      <td>0.5</td>\n",
       "      <td>13-10</td>\n",
       "      <td>0.714286</td>\n",
       "      <td>1</td>\n",
       "      <td>927.0</td>\n",
       "      <td>70-12-28-106-59-49-41-6-42-115-35-116-36-11-96</td>\n",
       "      <td>51-22-79-81-70-6-21-4-41-35</td>\n",
       "      <td>NaN</td>\n",
       "      <td>...</td>\n",
       "      <td>NaN</td>\n",
       "      <td>1502-5488-9826-2187-8088</td>\n",
       "      <td>5005-9154-2756-5612-4209</td>\n",
       "      <td>NaN</td>\n",
       "      <td>NaN</td>\n",
       "      <td>NaN</td>\n",
       "      <td>3-1</td>\n",
       "      <td>1</td>\n",
       "      <td>3</td>\n",
       "      <td>NaN</td>\n",
       "    </tr>\n",
       "    <tr>\n",
       "      <th>3</th>\n",
       "      <td>63071413</td>\n",
       "      <td>0.8</td>\n",
       "      <td>0.5</td>\n",
       "      <td>11</td>\n",
       "      <td>1.000000</td>\n",
       "      <td>1</td>\n",
       "      <td>486.0</td>\n",
       "      <td>93-70-77-47-76-75-69-29-59-49-122-42-46-23-17-...</td>\n",
       "      <td>24-70-19-13-30-10</td>\n",
       "      <td>NaN</td>\n",
       "      <td>...</td>\n",
       "      <td>NaN</td>\n",
       "      <td>1619-7342-3064-9213-8525</td>\n",
       "      <td>810-2438-5659-1844-9262</td>\n",
       "      <td>NaN</td>\n",
       "      <td>NaN</td>\n",
       "      <td>NaN</td>\n",
       "      <td>1-3</td>\n",
       "      <td>1-2</td>\n",
       "      <td>3</td>\n",
       "      <td>NaN</td>\n",
       "    </tr>\n",
       "    <tr>\n",
       "      <th>4</th>\n",
       "      <td>81294159</td>\n",
       "      <td>1.0</td>\n",
       "      <td>0.5</td>\n",
       "      <td>11</td>\n",
       "      <td>0.857143</td>\n",
       "      <td>2</td>\n",
       "      <td>112.0</td>\n",
       "      <td>75-29-49-122-36-11</td>\n",
       "      <td>NaN</td>\n",
       "      <td>NaN</td>\n",
       "      <td>...</td>\n",
       "      <td>NaN</td>\n",
       "      <td>477-9826-5808-644-2747</td>\n",
       "      <td>5483-2199-5424-1511-7751</td>\n",
       "      <td>NaN</td>\n",
       "      <td>NaN</td>\n",
       "      <td>NaN</td>\n",
       "      <td>3-1-4-2</td>\n",
       "      <td>1</td>\n",
       "      <td>3</td>\n",
       "      <td>NaN</td>\n",
       "    </tr>\n",
       "  </tbody>\n",
       "</table>\n",
       "<p>5 rows × 24 columns</p>\n",
       "</div>"
      ],
      "text/plain": [
       "<div>\n",
       "<style scoped>\n",
       "    .dataframe tbody tr th:only-of-type {\n",
       "        vertical-align: middle;\n",
       "    }\n",
       "\n",
       "    .dataframe tbody tr th {\n",
       "        vertical-align: top;\n",
       "    }\n",
       "\n",
       "    .dataframe thead th {\n",
       "        text-align: right;\n",
       "    }\n",
       "</style>\n",
       "<table border=\"1\" class=\"dataframe\">\n",
       "  <thead>\n",
       "    <tr style=\"text-align: right;\">\n",
       "      <th></th>\n",
       "      <th>uid</th>\n",
       "      <th>age</th>\n",
       "      <th>gender</th>\n",
       "      <th>marriageStatus</th>\n",
       "      <th>education</th>\n",
       "      <th>consumptionAbility</th>\n",
       "      <th>LBS</th>\n",
       "      <th>interest1</th>\n",
       "      <th>interest2</th>\n",
       "      <th>interest3</th>\n",
       "      <th>...</th>\n",
       "      <th>kw3</th>\n",
       "      <th>topic1</th>\n",
       "      <th>topic2</th>\n",
       "      <th>topic3</th>\n",
       "      <th>appIdInstall</th>\n",
       "      <th>appIdAction</th>\n",
       "      <th>ct</th>\n",
       "      <th>os</th>\n",
       "      <th>carrier</th>\n",
       "      <th>house</th>\n",
       "    </tr>\n",
       "  </thead>\n",
       "  <tbody>\n",
       "    <tr>\n",
       "      <th>0</th>\n",
       "      <td>26325489</td>\n",
       "      <td>0.8</td>\n",
       "      <td>1.0</td>\n",
       "      <td>11</td>\n",
       "      <td>1.000000</td>\n",
       "      <td>2</td>\n",
       "      <td>950.0</td>\n",
       "      <td>93-70-77-86-109-47-75-69-45-8-29-49-83-6-46-36...</td>\n",
       "      <td>46-19-13-29</td>\n",
       "      <td>NaN</td>\n",
       "      <td>...</td>\n",
       "      <td>NaN</td>\n",
       "      <td>9826-105-8525-5488-7281</td>\n",
       "      <td>9708-5553-6745-7477-7150</td>\n",
       "      <td>NaN</td>\n",
       "      <td>NaN</td>\n",
       "      <td>NaN</td>\n",
       "      <td>3-1</td>\n",
       "      <td>2</td>\n",
       "      <td>1</td>\n",
       "      <td>NaN</td>\n",
       "    </tr>\n",
       "    <tr>\n",
       "      <th>1</th>\n",
       "      <td>1184123</td>\n",
       "      <td>0.4</td>\n",
       "      <td>0.5</td>\n",
       "      <td>5-13</td>\n",
       "      <td>0.285714</td>\n",
       "      <td>1</td>\n",
       "      <td>803.0</td>\n",
       "      <td>75-29</td>\n",
       "      <td>33</td>\n",
       "      <td>NaN</td>\n",
       "      <td>...</td>\n",
       "      <td>NaN</td>\n",
       "      <td>4391-9140-5669-1348-4388</td>\n",
       "      <td>9401-7724-1380-8890-7153</td>\n",
       "      <td>NaN</td>\n",
       "      <td>NaN</td>\n",
       "      <td>NaN</td>\n",
       "      <td>3-1</td>\n",
       "      <td>1</td>\n",
       "      <td>1</td>\n",
       "      <td>NaN</td>\n",
       "    </tr>\n",
       "    <tr>\n",
       "      <th>2</th>\n",
       "      <td>76072711</td>\n",
       "      <td>0.2</td>\n",
       "      <td>0.5</td>\n",
       "      <td>13-10</td>\n",
       "      <td>0.714286</td>\n",
       "      <td>1</td>\n",
       "      <td>927.0</td>\n",
       "      <td>70-12-28-106-59-49-41-6-42-115-35-116-36-11-96</td>\n",
       "      <td>51-22-79-81-70-6-21-4-41-35</td>\n",
       "      <td>NaN</td>\n",
       "      <td>...</td>\n",
       "      <td>NaN</td>\n",
       "      <td>1502-5488-9826-2187-8088</td>\n",
       "      <td>5005-9154-2756-5612-4209</td>\n",
       "      <td>NaN</td>\n",
       "      <td>NaN</td>\n",
       "      <td>NaN</td>\n",
       "      <td>3-1</td>\n",
       "      <td>1</td>\n",
       "      <td>3</td>\n",
       "      <td>NaN</td>\n",
       "    </tr>\n",
       "    <tr>\n",
       "      <th>3</th>\n",
       "      <td>63071413</td>\n",
       "      <td>0.8</td>\n",
       "      <td>0.5</td>\n",
       "      <td>11</td>\n",
       "      <td>1.000000</td>\n",
       "      <td>1</td>\n",
       "      <td>486.0</td>\n",
       "      <td>93-70-77-47-76-75-69-29-59-49-122-42-46-23-17-...</td>\n",
       "      <td>24-70-19-13-30-10</td>\n",
       "      <td>NaN</td>\n",
       "      <td>...</td>\n",
       "      <td>NaN</td>\n",
       "      <td>1619-7342-3064-9213-8525</td>\n",
       "      <td>810-2438-5659-1844-9262</td>\n",
       "      <td>NaN</td>\n",
       "      <td>NaN</td>\n",
       "      <td>NaN</td>\n",
       "      <td>1-3</td>\n",
       "      <td>1-2</td>\n",
       "      <td>3</td>\n",
       "      <td>NaN</td>\n",
       "    </tr>\n",
       "    <tr>\n",
       "      <th>4</th>\n",
       "      <td>81294159</td>\n",
       "      <td>1.0</td>\n",
       "      <td>0.5</td>\n",
       "      <td>11</td>\n",
       "      <td>0.857143</td>\n",
       "      <td>2</td>\n",
       "      <td>112.0</td>\n",
       "      <td>75-29-49-122-36-11</td>\n",
       "      <td>NaN</td>\n",
       "      <td>NaN</td>\n",
       "      <td>...</td>\n",
       "      <td>NaN</td>\n",
       "      <td>477-9826-5808-644-2747</td>\n",
       "      <td>5483-2199-5424-1511-7751</td>\n",
       "      <td>NaN</td>\n",
       "      <td>NaN</td>\n",
       "      <td>NaN</td>\n",
       "      <td>3-1-4-2</td>\n",
       "      <td>1</td>\n",
       "      <td>3</td>\n",
       "      <td>NaN</td>\n",
       "    </tr>\n",
       "  </tbody>\n",
       "</table>\n",
       "<p>5 rows × 24 columns</p>\n",
       "</div>"
      ]
     },
     "execution_count": 16,
     "metadata": {},
     "output_type": "execute_result"
    }
   ],
   "source": [
    "user_feature_all['education'] = user_feature_all['education'] / user_feature_all['education'].max()\n",
    "user_feature_all.head()"
   ]
  },
  {
   "cell_type": "code",
   "execution_count": 18,
   "metadata": {},
   "outputs": [
    {
     "data": {
      "text/plain": [
       "Counter({0: 2545303, 1: 6800781, 2: 2073955})"
      ]
     },
     "execution_count": 18,
     "metadata": {},
     "output_type": "execute_result"
    }
   ],
   "source": [
    "consumptionAbility = Counter(user_feature_all['consumptionAbility'])\n",
    "consumptionAbility"
   ]
  },
  {
   "cell_type": "code",
   "execution_count": 13,
   "metadata": {},
   "outputs": [
    {
     "data": {
      "text/plain": [
       "(array([2545303.,       0.,       0.,       0.,       0., 6800781.,\n              0.,       0.,       0., 2073955.]),\n array([0. , 0.2, 0.4, 0.6, 0.8, 1. , 1.2, 1.4, 1.6, 1.8, 2. ]),\n <a list of 10 Patch objects>)"
      ]
     },
     "execution_count": 13,
     "metadata": {},
     "output_type": "execute_result"
    },
    {
     "data": {
      "image/png": "[encoded data removed]",
      "text/plain": [
       "<Figure size 432x288 with 1 Axes>"
      ]
     },
     "metadata": {},
     "output_type": "display_data"
    }
   ],
   "source": [
    "plt.hist(user_feature_all['consumptionAbility'])"
   ]
  },
  {
   "cell_type": "code",
   "execution_count": 19,
   "metadata": {},
   "outputs": [
    {
     "data": {
      "text/html": [
       "<div>\n",
       "<style scoped>\n",
       "    .dataframe tbody tr th:only-of-type {\n",
       "        vertical-align: middle;\n",
       "    }\n",
       "\n",
       "    .dataframe tbody tr th {\n",
       "        vertical-align: top;\n",
       "    }\n",
       "\n",
       "    .dataframe thead th {\n",
       "        text-align: right;\n",
       "    }\n",
       "</style>\n",
       "<table border=\"1\" class=\"dataframe\">\n",
       "  <thead>\n",
       "    <tr style=\"text-align: right;\">\n",
       "      <th></th>\n",
       "      <th>uid</th>\n",
       "      <th>age</th>\n",
       "      <th>gender</th>\n",
       "      <th>marriageStatus</th>\n",
       "      <th>education</th>\n",
       "      <th>consumptionAbility</th>\n",
       "      <th>LBS</th>\n",
       "      <th>interest1</th>\n",
       "      <th>interest2</th>\n",
       "      <th>interest3</th>\n",
       "      <th>...</th>\n",
       "      <th>kw3</th>\n",
       "      <th>topic1</th>\n",
       "      <th>topic2</th>\n",
       "      <th>topic3</th>\n",
       "      <th>appIdInstall</th>\n",
       "      <th>appIdAction</th>\n",
       "      <th>ct</th>\n",
       "      <th>os</th>\n",
       "      <th>carrier</th>\n",
       "      <th>house</th>\n",
       "    </tr>\n",
       "  </thead>\n",
       "  <tbody>\n",
       "    <tr>\n",
       "      <th>0</th>\n",
       "      <td>26325489</td>\n",
       "      <td>0.8</td>\n",
       "      <td>1.0</td>\n",
       "      <td>11</td>\n",
       "      <td>1.000000</td>\n",
       "      <td>1.0</td>\n",
       "      <td>950.0</td>\n",
       "      <td>93-70-77-86-109-47-75-69-45-8-29-49-83-6-46-36...</td>\n",
       "      <td>46-19-13-29</td>\n",
       "      <td>NaN</td>\n",
       "      <td>...</td>\n",
       "      <td>NaN</td>\n",
       "      <td>9826-105-8525-5488-7281</td>\n",
       "      <td>9708-5553-6745-7477-7150</td>\n",
       "      <td>NaN</td>\n",
       "      <td>NaN</td>\n",
       "      <td>NaN</td>\n",
       "      <td>3-1</td>\n",
       "      <td>2</td>\n",
       "      <td>1</td>\n",
       "      <td>NaN</td>\n",
       "    </tr>\n",
       "    <tr>\n",
       "      <th>1</th>\n",
       "      <td>1184123</td>\n",
       "      <td>0.4</td>\n",
       "      <td>0.5</td>\n",
       "      <td>5-13</td>\n",
       "      <td>0.285714</td>\n",
       "      <td>0.5</td>\n",
       "      <td>803.0</td>\n",
       "      <td>75-29</td>\n",
       "      <td>33</td>\n",
       "      <td>NaN</td>\n",
       "      <td>...</td>\n",
       "      <td>NaN</td>\n",
       "      <td>4391-9140-5669-1348-4388</td>\n",
       "      <td>9401-7724-1380-8890-7153</td>\n",
       "      <td>NaN</td>\n",
       "      <td>NaN</td>\n",
       "      <td>NaN</td>\n",
       "      <td>3-1</td>\n",
       "      <td>1</td>\n",
       "      <td>1</td>\n",
       "      <td>NaN</td>\n",
       "    </tr>\n",
       "    <tr>\n",
       "      <th>2</th>\n",
       "      <td>76072711</td>\n",
       "      <td>0.2</td>\n",
       "      <td>0.5</td>\n",
       "      <td>13-10</td>\n",
       "      <td>0.714286</td>\n",
       "      <td>0.5</td>\n",
       "      <td>927.0</td>\n",
       "      <td>70-12-28-106-59-49-41-6-42-115-35-116-36-11-96</td>\n",
       "      <td>51-22-79-81-70-6-21-4-41-35</td>\n",
       "      <td>NaN</td>\n",
       "      <td>...</td>\n",
       "      <td>NaN</td>\n",
       "      <td>1502-5488-9826-2187-8088</td>\n",
       "      <td>5005-9154-2756-5612-4209</td>\n",
       "      <td>NaN</td>\n",
       "      <td>NaN</td>\n",
       "      <td>NaN</td>\n",
       "      <td>3-1</td>\n",
       "      <td>1</td>\n",
       "      <td>3</td>\n",
       "      <td>NaN</td>\n",
       "    </tr>\n",
       "    <tr>\n",
       "      <th>3</th>\n",
       "      <td>63071413</td>\n",
       "      <td>0.8</td>\n",
       "      <td>0.5</td>\n",
       "      <td>11</td>\n",
       "      <td>1.000000</td>\n",
       "      <td>0.5</td>\n",
       "      <td>486.0</td>\n",
       "      <td>93-70-77-47-76-75-69-29-59-49-122-42-46-23-17-...</td>\n",
       "      <td>24-70-19-13-30-10</td>\n",
       "      <td>NaN</td>\n",
       "      <td>...</td>\n",
       "      <td>NaN</td>\n",
       "      <td>1619-7342-3064-9213-8525</td>\n",
       "      <td>810-2438-5659-1844-9262</td>\n",
       "      <td>NaN</td>\n",
       "      <td>NaN</td>\n",
       "      <td>NaN</td>\n",
       "      <td>1-3</td>\n",
       "      <td>1-2</td>\n",
       "      <td>3</td>\n",
       "      <td>NaN</td>\n",
       "    </tr>\n",
       "    <tr>\n",
       "      <th>4</th>\n",
       "      <td>81294159</td>\n",
       "      <td>1.0</td>\n",
       "      <td>0.5</td>\n",
       "      <td>11</td>\n",
       "      <td>0.857143</td>\n",
       "      <td>1.0</td>\n",
       "      <td>112.0</td>\n",
       "      <td>75-29-49-122-36-11</td>\n",
       "      <td>NaN</td>\n",
       "      <td>NaN</td>\n",
       "      <td>...</td>\n",
       "      <td>NaN</td>\n",
       "      <td>477-9826-5808-644-2747</td>\n",
       "      <td>5483-2199-5424-1511-7751</td>\n",
       "      <td>NaN</td>\n",
       "      <td>NaN</td>\n",
       "      <td>NaN</td>\n",
       "      <td>3-1-4-2</td>\n",
       "      <td>1</td>\n",
       "      <td>3</td>\n",
       "      <td>NaN</td>\n",
       "    </tr>\n",
       "  </tbody>\n",
       "</table>\n",
       "<p>5 rows × 24 columns</p>\n",
       "</div>"
      ],
      "text/plain": [
       "<div>\n",
       "<style scoped>\n",
       "    .dataframe tbody tr th:only-of-type {\n",
       "        vertical-align: middle;\n",
       "    }\n",
       "\n",
       "    .dataframe tbody tr th {\n",
       "        vertical-align: top;\n",
       "    }\n",
       "\n",
       "    .dataframe thead th {\n",
       "        text-align: right;\n",
       "    }\n",
       "</style>\n",
       "<table border=\"1\" class=\"dataframe\">\n",
       "  <thead>\n",
       "    <tr style=\"text-align: right;\">\n",
       "      <th></th>\n",
       "      <th>uid</th>\n",
       "      <th>age</th>\n",
       "      <th>gender</th>\n",
       "      <th>marriageStatus</th>\n",
       "      <th>education</th>\n",
       "      <th>consumptionAbility</th>\n",
       "      <th>LBS</th>\n",
       "      <th>interest1</th>\n",
       "      <th>interest2</th>\n",
       "      <th>interest3</th>\n",
       "      <th>...</th>\n",
       "      <th>kw3</th>\n",
       "      <th>topic1</th>\n",
       "      <th>topic2</th>\n",
       "      <th>topic3</th>\n",
       "      <th>appIdInstall</th>\n",
       "      <th>appIdAction</th>\n",
       "      <th>ct</th>\n",
       "      <th>os</th>\n",
       "      <th>carrier</th>\n",
       "      <th>house</th>\n",
       "    </tr>\n",
       "  </thead>\n",
       "  <tbody>\n",
       "    <tr>\n",
       "      <th>0</th>\n",
       "      <td>26325489</td>\n",
       "      <td>0.8</td>\n",
       "      <td>1.0</td>\n",
       "      <td>11</td>\n",
       "      <td>1.000000</td>\n",
       "      <td>1.0</td>\n",
       "      <td>950.0</td>\n",
       "      <td>93-70-77-86-109-47-75-69-45-8-29-49-83-6-46-36...</td>\n",
       "      <td>46-19-13-29</td>\n",
       "      <td>NaN</td>\n",
       "      <td>...</td>\n",
       "      <td>NaN</td>\n",
       "      <td>9826-105-8525-5488-7281</td>\n",
       "      <td>9708-5553-6745-7477-7150</td>\n",
       "      <td>NaN</td>\n",
       "      <td>NaN</td>\n",
       "      <td>NaN</td>\n",
       "      <td>3-1</td>\n",
       "      <td>2</td>\n",
       "      <td>1</td>\n",
       "      <td>NaN</td>\n",
       "    </tr>\n",
       "    <tr>\n",
       "      <th>1</th>\n",
       "      <td>1184123</td>\n",
       "      <td>0.4</td>\n",
       "      <td>0.5</td>\n",
       "      <td>5-13</td>\n",
       "      <td>0.285714</td>\n",
       "      <td>0.5</td>\n",
       "      <td>803.0</td>\n",
       "      <td>75-29</td>\n",
       "      <td>33</td>\n",
       "      <td>NaN</td>\n",
       "      <td>...</td>\n",
       "      <td>NaN</td>\n",
       "      <td>4391-9140-5669-1348-4388</td>\n",
       "      <td>9401-7724-1380-8890-7153</td>\n",
       "      <td>NaN</td>\n",
       "      <td>NaN</td>\n",
       "      <td>NaN</td>\n",
       "      <td>3-1</td>\n",
       "      <td>1</td>\n",
       "      <td>1</td>\n",
       "      <td>NaN</td>\n",
       "    </tr>\n",
       "    <tr>\n",
       "      <th>2</th>\n",
       "      <td>76072711</td>\n",
       "      <td>0.2</td>\n",
       "      <td>0.5</td>\n",
       "      <td>13-10</td>\n",
       "      <td>0.714286</td>\n",
       "      <td>0.5</td>\n",
       "      <td>927.0</td>\n",
       "      <td>70-12-28-106-59-49-41-6-42-115-35-116-36-11-96</td>\n",
       "      <td>51-22-79-81-70-6-21-4-41-35</td>\n",
       "      <td>NaN</td>\n",
       "      <td>...</td>\n",
       "      <td>NaN</td>\n",
       "      <td>1502-5488-9826-2187-8088</td>\n",
       "      <td>5005-9154-2756-5612-4209</td>\n",
       "      <td>NaN</td>\n",
       "      <td>NaN</td>\n",
       "      <td>NaN</td>\n",
       "      <td>3-1</td>\n",
       "      <td>1</td>\n",
       "      <td>3</td>\n",
       "      <td>NaN</td>\n",
       "    </tr>\n",
       "    <tr>\n",
       "      <th>3</th>\n",
       "      <td>63071413</td>\n",
       "      <td>0.8</td>\n",
       "      <td>0.5</td>\n",
       "      <td>11</td>\n",
       "      <td>1.000000</td>\n",
       "      <td>0.5</td>\n",
       "      <td>486.0</td>\n",
       "      <td>93-70-77-47-76-75-69-29-59-49-122-42-46-23-17-...</td>\n",
       "      <td>24-70-19-13-30-10</td>\n",
       "      <td>NaN</td>\n",
       "      <td>...</td>\n",
       "      <td>NaN</td>\n",
       "      <td>1619-7342-3064-9213-8525</td>\n",
       "      <td>810-2438-5659-1844-9262</td>\n",
       "      <td>NaN</td>\n",
       "      <td>NaN</td>\n",
       "      <td>NaN</td>\n",
       "      <td>1-3</td>\n",
       "      <td>1-2</td>\n",
       "      <td>3</td>\n",
       "      <td>NaN</td>\n",
       "    </tr>\n",
       "    <tr>\n",
       "      <th>4</th>\n",
       "      <td>81294159</td>\n",
       "      <td>1.0</td>\n",
       "      <td>0.5</td>\n",
       "      <td>11</td>\n",
       "      <td>0.857143</td>\n",
       "      <td>1.0</td>\n",
       "      <td>112.0</td>\n",
       "      <td>75-29-49-122-36-11</td>\n",
       "      <td>NaN</td>\n",
       "      <td>NaN</td>\n",
       "      <td>...</td>\n",
       "      <td>NaN</td>\n",
       "      <td>477-9826-5808-644-2747</td>\n",
       "      <td>5483-2199-5424-1511-7751</td>\n",
       "      <td>NaN</td>\n",
       "      <td>NaN</td>\n",
       "      <td>NaN</td>\n",
       "      <td>3-1-4-2</td>\n",
       "      <td>1</td>\n",
       "      <td>3</td>\n",
       "      <td>NaN</td>\n",
       "    </tr>\n",
       "  </tbody>\n",
       "</table>\n",
       "<p>5 rows × 24 columns</p>\n",
       "</div>"
      ]
     },
     "execution_count": 19,
     "metadata": {},
     "output_type": "execute_result"
    }
   ],
   "source": [
    "user_feature_all['consumptionAbility'] = user_feature_all['consumptionAbility'] / user_feature_all['consumptionAbility'].max()\n",
    "user_feature_all.head()"
   ]
  },
  {
   "cell_type": "code",
   "execution_count": 21,
   "metadata": {},
   "outputs": [
    {
     "data": {
      "text/plain": [
       "Counter({0.0: 2545303, 0.5: 6800781, 1.0: 2073955})"
      ]
     },
     "execution_count": 21,
     "metadata": {},
     "output_type": "execute_result"
    }
   ],
   "source": [
    "consumptionAbility = Counter(user_feature_all['consumptionAbility'])\n",
    "consumptionAbility"
   ]
  },
  {
   "cell_type": "code",
   "execution_count": null,
   "metadata": {},
   "outputs": [],
   "source": [
    "user_feature_all['LBS'] = user_feature_all['LBS'].fillna(user_feature_all['LBS'].mean())"
   ]
  },
  {
   "cell_type": "code",
   "execution_count": 17,
   "metadata": {},
   "outputs": [
    {
     "data": {
      "text/plain": [
       "(array([1.65510e+05, 1.49748e+05, 2.29261e+05, 5.57400e+04, 1.09573e+05,\n        9.98830e+04, 2.51584e+05, 3.50692e+05, 1.52568e+05, 5.16755e+05,\n        1.52844e+05, 3.81520e+04, 1.40396e+05, 8.92090e+04, 2.09100e+05,\n        8.90710e+04, 2.29876e+05, 2.19471e+05, 6.85620e+04, 3.73800e+04,\n        1.53346e+05, 5.32830e+04, 4.72664e+05, 7.73500e+04, 4.78380e+04,\n        5.83980e+04, 8.37980e+04, 2.14816e+05, 3.91167e+05, 2.71677e+05,\n        1.09933e+05, 9.22790e+04, 1.12045e+05, 5.38870e+04, 8.01200e+04,\n        2.27267e+05, 2.24705e+05, 6.30990e+04, 4.63562e+05, 7.04890e+04,\n        8.79740e+04, 9.14330e+04, 1.67780e+05, 8.70800e+04, 7.65180e+04,\n        9.01490e+04, 1.02139e+05, 6.24370e+04, 3.35161e+05, 1.03367e+05,\n        5.25130e+04, 1.00262e+05, 1.44200e+04, 1.23305e+05, 6.17970e+04,\n        1.16967e+05, 1.06985e+05, 2.13499e+05, 1.22562e+05, 6.91200e+04,\n        1.01400e+03, 1.59260e+05, 4.86240e+04, 5.08550e+04, 1.57550e+05,\n        1.22160e+05, 1.71447e+05, 5.09871e+05, 6.53270e+04, 6.02040e+04,\n        5.07420e+04, 1.18097e+05, 4.55840e+04, 7.86440e+04, 3.67620e+04,\n        1.16971e+05, 1.68423e+05, 7.24230e+04, 7.82300e+04, 2.25963e+05,\n        1.09440e+05, 6.13820e+04, 4.83810e+04, 3.90000e+01, 0.00000e+00,\n        0.00000e+00, 0.00000e+00, 0.00000e+00, 0.00000e+00, 0.00000e+00,\n        0.00000e+00, 0.00000e+00, 0.00000e+00, 0.00000e+00, 0.00000e+00,\n        0.00000e+00, 0.00000e+00, 0.00000e+00, 0.00000e+00, 8.00000e+01]),\n array([   0.,   12.,   24.,   36.,   48.,   60.,   72.,   84.,   96.,\n         108.,  120.,  132.,  144.,  156.,  168.,  180.,  192.,  204.,\n         216.,  228.,  240.,  252.,  264.,  276.,  288.,  300.,  312.,\n         324.,  336.,  348.,  360.,  372.,  384.,  396.,  408.,  420.,\n         432.,  444.,  456.,  468.,  480.,  492.,  504.,  516.,  528.,\n         540.,  552.,  564.,  576.,  588.,  600.,  612.,  624.,  636.,\n         648.,  660.,  672.,  684.,  696.,  708.,  720.,  732.,  744.,\n         756.,  768.,  780.,  792.,  804.,  816.,  828.,  840.,  852.,\n         864.,  876.,  888.,  900.,  912.,  924.,  936.,  948.,  960.,\n         972.,  984.,  996., 1008., 1020., 1032., 1044., 1056., 1068.,\n        1080., 1092., 1104., 1116., 1128., 1140., 1152., 1164., 1176.,\n        1188., 1200.]),\n <a list of 100 Patch objects>)"
      ]
     },
     "execution_count": 17,
     "metadata": {},
     "output_type": "execute_result"
    },
    {
     "data": {
      "image/png": "[encoded data removed]",
      "text/plain": [
       "<Figure size 432x288 with 1 Axes>"
      ]
     },
     "metadata": {},
     "output_type": "display_data"
    }
   ],
   "source": [
    "plt.hist(user_feature_all['LBS'].fillna(1200), bins=100)"
   ]
  },
  {
   "cell_type": "code",
   "execution_count": null,
   "metadata": {},
   "outputs": [
    {
     "data": {
      "text/html": [
       "<div>\n",
       "<style scoped>\n",
       "    .dataframe tbody tr th:only-of-type {\n",
       "        vertical-align: middle;\n",
       "    }\n",
       "\n",
       "    .dataframe tbody tr th {\n",
       "        vertical-align: top;\n",
       "    }\n",
       "\n",
       "    .dataframe thead th {\n",
       "        text-align: right;\n",
       "    }\n",
       "</style>\n",
       "<table border=\"1\" class=\"dataframe\">\n",
       "  <thead>\n",
       "    <tr style=\"text-align: right;\">\n",
       "      <th></th>\n",
       "      <th>uid</th>\n",
       "      <th>age</th>\n",
       "      <th>gender</th>\n",
       "      <th>marriageStatus</th>\n",
       "      <th>education</th>\n",
       "      <th>consumptionAbility</th>\n",
       "      <th>LBS</th>\n",
       "      <th>interest1</th>\n",
       "      <th>interest2</th>\n",
       "      <th>interest3</th>\n",
       "      <th>...</th>\n",
       "      <th>kw3</th>\n",
       "      <th>topic1</th>\n",
       "      <th>topic2</th>\n",
       "      <th>topic3</th>\n",
       "      <th>appIdInstall</th>\n",
       "      <th>appIdAction</th>\n",
       "      <th>ct</th>\n",
       "      <th>os</th>\n",
       "      <th>carrier</th>\n",
       "      <th>house</th>\n",
       "    </tr>\n",
       "  </thead>\n",
       "  <tbody>\n",
       "    <tr>\n",
       "      <th>0</th>\n",
       "      <td>26325489</td>\n",
       "      <td>0.8</td>\n",
       "      <td>1.0</td>\n",
       "      <td>11</td>\n",
       "      <td>1.000000</td>\n",
       "      <td>1.0</td>\n",
       "      <td>0.952859</td>\n",
       "      <td>93-70-77-86-109-47-75-69-45-8-29-49-83-6-46-36...</td>\n",
       "      <td>46-19-13-29</td>\n",
       "      <td>NaN</td>\n",
       "      <td>...</td>\n",
       "      <td>NaN</td>\n",
       "      <td>9826-105-8525-5488-7281</td>\n",
       "      <td>9708-5553-6745-7477-7150</td>\n",
       "      <td>NaN</td>\n",
       "      <td>NaN</td>\n",
       "      <td>NaN</td>\n",
       "      <td>3-1</td>\n",
       "      <td>2</td>\n",
       "      <td>1</td>\n",
       "      <td>NaN</td>\n",
       "    </tr>\n",
       "    <tr>\n",
       "      <th>1</th>\n",
       "      <td>1184123</td>\n",
       "      <td>0.4</td>\n",
       "      <td>0.5</td>\n",
       "      <td>5-13</td>\n",
       "      <td>0.285714</td>\n",
       "      <td>0.5</td>\n",
       "      <td>0.805416</td>\n",
       "      <td>75-29</td>\n",
       "      <td>33</td>\n",
       "      <td>NaN</td>\n",
       "      <td>...</td>\n",
       "      <td>NaN</td>\n",
       "      <td>4391-9140-5669-1348-4388</td>\n",
       "      <td>9401-7724-1380-8890-7153</td>\n",
       "      <td>NaN</td>\n",
       "      <td>NaN</td>\n",
       "      <td>NaN</td>\n",
       "      <td>3-1</td>\n",
       "      <td>1</td>\n",
       "      <td>1</td>\n",
       "      <td>NaN</td>\n",
       "    </tr>\n",
       "    <tr>\n",
       "      <th>2</th>\n",
       "      <td>76072711</td>\n",
       "      <td>0.2</td>\n",
       "      <td>0.5</td>\n",
       "      <td>13-10</td>\n",
       "      <td>0.714286</td>\n",
       "      <td>0.5</td>\n",
       "      <td>0.929789</td>\n",
       "      <td>70-12-28-106-59-49-41-6-42-115-35-116-36-11-96</td>\n",
       "      <td>51-22-79-81-70-6-21-4-41-35</td>\n",
       "      <td>NaN</td>\n",
       "      <td>...</td>\n",
       "      <td>NaN</td>\n",
       "      <td>1502-5488-9826-2187-8088</td>\n",
       "      <td>5005-9154-2756-5612-4209</td>\n",
       "      <td>NaN</td>\n",
       "      <td>NaN</td>\n",
       "      <td>NaN</td>\n",
       "      <td>3-1</td>\n",
       "      <td>1</td>\n",
       "      <td>3</td>\n",
       "      <td>NaN</td>\n",
       "    </tr>\n",
       "    <tr>\n",
       "      <th>3</th>\n",
       "      <td>63071413</td>\n",
       "      <td>0.8</td>\n",
       "      <td>0.5</td>\n",
       "      <td>11</td>\n",
       "      <td>1.000000</td>\n",
       "      <td>0.5</td>\n",
       "      <td>0.487462</td>\n",
       "      <td>93-70-77-47-76-75-69-29-59-49-122-42-46-23-17-...</td>\n",
       "      <td>24-70-19-13-30-10</td>\n",
       "      <td>NaN</td>\n",
       "      <td>...</td>\n",
       "      <td>NaN</td>\n",
       "      <td>1619-7342-3064-9213-8525</td>\n",
       "      <td>810-2438-5659-1844-9262</td>\n",
       "      <td>NaN</td>\n",
       "      <td>NaN</td>\n",
       "      <td>NaN</td>\n",
       "      <td>1-3</td>\n",
       "      <td>1-2</td>\n",
       "      <td>3</td>\n",
       "      <td>NaN</td>\n",
       "    </tr>\n",
       "    <tr>\n",
       "      <th>4</th>\n",
       "      <td>81294159</td>\n",
       "      <td>1.0</td>\n",
       "      <td>0.5</td>\n",
       "      <td>11</td>\n",
       "      <td>0.857143</td>\n",
       "      <td>1.0</td>\n",
       "      <td>0.112337</td>\n",
       "      <td>75-29-49-122-36-11</td>\n",
       "      <td>NaN</td>\n",
       "      <td>NaN</td>\n",
       "      <td>...</td>\n",
       "      <td>NaN</td>\n",
       "      <td>477-9826-5808-644-2747</td>\n",
       "      <td>5483-2199-5424-1511-7751</td>\n",
       "      <td>NaN</td>\n",
       "      <td>NaN</td>\n",
       "      <td>NaN</td>\n",
       "      <td>3-1-4-2</td>\n",
       "      <td>1</td>\n",
       "      <td>3</td>\n",
       "      <td>NaN</td>\n",
       "    </tr>\n",
       "  </tbody>\n",
       "</table>\n",
       "<p>5 rows × 24 columns</p>\n",
       "</div>"
      ],
      "text/plain": [
       "<div>\n",
       "<style scoped>\n",
       "    .dataframe tbody tr th:only-of-type {\n",
       "        vertical-align: middle;\n",
       "    }\n",
       "\n",
       "    .dataframe tbody tr th {\n",
       "        vertical-align: top;\n",
       "    }\n",
       "\n",
       "    .dataframe thead th {\n",
       "        text-align: right;\n",
       "    }\n",
       "</style>\n",
       "<table border=\"1\" class=\"dataframe\">\n",
       "  <thead>\n",
       "    <tr style=\"text-align: right;\">\n",
       "      <th></th>\n",
       "      <th>uid</th>\n",
       "      <th>age</th>\n",
       "      <th>gender</th>\n",
       "      <th>marriageStatus</th>\n",
       "      <th>education</th>\n",
       "      <th>consumptionAbility</th>\n",
       "      <th>LBS</th>\n",
       "      <th>interest1</th>\n",
       "      <th>interest2</th>\n",
       "      <th>interest3</th>\n",
       "      <th>...</th>\n",
       "      <th>kw3</th>\n",
       "      <th>topic1</th>\n",
       "      <th>topic2</th>\n",
       "      <th>topic3</th>\n",
       "      <th>appIdInstall</th>\n",
       "      <th>appIdAction</th>\n",
       "      <th>ct</th>\n",
       "      <th>os</th>\n",
       "      <th>carrier</th>\n",
       "      <th>house</th>\n",
       "    </tr>\n",
       "  </thead>\n",
       "  <tbody>\n",
       "    <tr>\n",
       "      <th>0</th>\n",
       "      <td>26325489</td>\n",
       "      <td>0.8</td>\n",
       "      <td>1.0</td>\n",
       "      <td>11</td>\n",
       "      <td>1.000000</td>\n",
       "      <td>1.0</td>\n",
       "      <td>0.952859</td>\n",
       "      <td>93-70-77-86-109-47-75-69-45-8-29-49-83-6-46-36...</td>\n",
       "      <td>46-19-13-29</td>\n",
       "      <td>NaN</td>\n",
       "      <td>...</td>\n",
       "      <td>NaN</td>\n",
       "      <td>9826-105-8525-5488-7281</td>\n",
       "      <td>9708-5553-6745-7477-7150</td>\n",
       "      <td>NaN</td>\n",
       "      <td>NaN</td>\n",
       "      <td>NaN</td>\n",
       "      <td>3-1</td>\n",
       "      <td>2</td>\n",
       "      <td>1</td>\n",
       "      <td>NaN</td>\n",
       "    </tr>\n",
       "    <tr>\n",
       "      <th>1</th>\n",
       "      <td>1184123</td>\n",
       "      <td>0.4</td>\n",
       "      <td>0.5</td>\n",
       "      <td>5-13</td>\n",
       "      <td>0.285714</td>\n",
       "      <td>0.5</td>\n",
       "      <td>0.805416</td>\n",
       "      <td>75-29</td>\n",
       "      <td>33</td>\n",
       "      <td>NaN</td>\n",
       "      <td>...</td>\n",
       "      <td>NaN</td>\n",
       "      <td>4391-9140-5669-1348-4388</td>\n",
       "      <td>9401-7724-1380-8890-7153</td>\n",
       "      <td>NaN</td>\n",
       "      <td>NaN</td>\n",
       "      <td>NaN</td>\n",
       "      <td>3-1</td>\n",
       "      <td>1</td>\n",
       "      <td>1</td>\n",
       "      <td>NaN</td>\n",
       "    </tr>\n",
       "    <tr>\n",
       "      <th>2</th>\n",
       "      <td>76072711</td>\n",
       "      <td>0.2</td>\n",
       "      <td>0.5</td>\n",
       "      <td>13-10</td>\n",
       "      <td>0.714286</td>\n",
       "      <td>0.5</td>\n",
       "      <td>0.929789</td>\n",
       "      <td>70-12-28-106-59-49-41-6-42-115-35-116-36-11-96</td>\n",
       "      <td>51-22-79-81-70-6-21-4-41-35</td>\n",
       "      <td>NaN</td>\n",
       "      <td>...</td>\n",
       "      <td>NaN</td>\n",
       "      <td>1502-5488-9826-2187-8088</td>\n",
       "      <td>5005-9154-2756-5612-4209</td>\n",
       "      <td>NaN</td>\n",
       "      <td>NaN</td>\n",
       "      <td>NaN</td>\n",
       "      <td>3-1</td>\n",
       "      <td>1</td>\n",
       "      <td>3</td>\n",
       "      <td>NaN</td>\n",
       "    </tr>\n",
       "    <tr>\n",
       "      <th>3</th>\n",
       "      <td>63071413</td>\n",
       "      <td>0.8</td>\n",
       "      <td>0.5</td>\n",
       "      <td>11</td>\n",
       "      <td>1.000000</td>\n",
       "      <td>0.5</td>\n",
       "      <td>0.487462</td>\n",
       "      <td>93-70-77-47-76-75-69-29-59-49-122-42-46-23-17-...</td>\n",
       "      <td>24-70-19-13-30-10</td>\n",
       "      <td>NaN</td>\n",
       "      <td>...</td>\n",
       "      <td>NaN</td>\n",
       "      <td>1619-7342-3064-9213-8525</td>\n",
       "      <td>810-2438-5659-1844-9262</td>\n",
       "      <td>NaN</td>\n",
       "      <td>NaN</td>\n",
       "      <td>NaN</td>\n",
       "      <td>1-3</td>\n",
       "      <td>1-2</td>\n",
       "      <td>3</td>\n",
       "      <td>NaN</td>\n",
       "    </tr>\n",
       "    <tr>\n",
       "      <th>4</th>\n",
       "      <td>81294159</td>\n",
       "      <td>1.0</td>\n",
       "      <td>0.5</td>\n",
       "      <td>11</td>\n",
       "      <td>0.857143</td>\n",
       "      <td>1.0</td>\n",
       "      <td>0.112337</td>\n",
       "      <td>75-29-49-122-36-11</td>\n",
       "      <td>NaN</td>\n",
       "      <td>NaN</td>\n",
       "      <td>...</td>\n",
       "      <td>NaN</td>\n",
       "      <td>477-9826-5808-644-2747</td>\n",
       "      <td>5483-2199-5424-1511-7751</td>\n",
       "      <td>NaN</td>\n",
       "      <td>NaN</td>\n",
       "      <td>NaN</td>\n",
       "      <td>3-1-4-2</td>\n",
       "      <td>1</td>\n",
       "      <td>3</td>\n",
       "      <td>NaN</td>\n",
       "    </tr>\n",
       "  </tbody>\n",
       "</table>\n",
       "<p>5 rows × 24 columns</p>\n",
       "</div>"
      ]
     },
     "execution_count": 23,
     "metadata": {},
     "output_type": "execute_result"
    }
   ],
   "source": [
    "user_feature_all['LBS'] = user_feature_all['LBS'] / user_feature_all['LBS'].max()\n",
    "user_feature_all.head()"
   ]
  },
  {
   "cell_type": "code",
   "execution_count": 24,
   "metadata": {},
   "outputs": [
    {
     "data": {
      "text/plain": [
       "count    1.142004e+07\nmean     4.459327e-01\nstd      2.856929e-01\nmin      0.000000e+00\n25%      1.925777e-01\n50%      4.262788e-01\n75%      6.890672e-01\nmax      1.000000e+00\nName: LBS, dtype: float64"
      ]
     },
     "execution_count": 24,
     "metadata": {},
     "output_type": "execute_result"
    }
   ],
   "source": [
    "user_feature_all['LBS'].describe()"
   ]
  },
  {
   "cell_type": "code",
   "execution_count": 26,
   "metadata": {},
   "outputs": [
    {
     "data": {
      "text/plain": [
       "Counter({0: 3210617, 1: 5460418, 2: 1176651, 3: 1572353})"
      ]
     },
     "execution_count": 26,
     "metadata": {},
     "output_type": "execute_result"
    }
   ],
   "source": [
    "carrier = Counter(user_feature_all['carrier'])\n",
    "carrier"
   ]
  },
  {
   "cell_type": "code",
   "execution_count": 18,
   "metadata": {},
   "outputs": [
    {
     "data": {
      "text/plain": [
       "(array([3210617.,       0.,       0., 5460418.,       0.,       0.,\n        1176651.,       0.,       0., 1572353.]),\n array([0. , 0.3, 0.6, 0.9, 1.2, 1.5, 1.8, 2.1, 2.4, 2.7, 3. ]),\n <a list of 10 Patch objects>)"
      ]
     },
     "execution_count": 18,
     "metadata": {},
     "output_type": "execute_result"
    },
    {
     "data": {
      "image/png": "[encoded data removed]",
      "text/plain": [
       "<Figure size 432x288 with 1 Axes>"
      ]
     },
     "metadata": {},
     "output_type": "display_data"
    }
   ],
   "source": [
    "plt.hist(user_feature_all['carrier'])"
   ]
  },
  {
   "cell_type": "code",
   "execution_count": 27,
   "metadata": {},
   "outputs": [
    {
     "data": {
      "text/html": [
       "<div>\n",
       "<style scoped>\n",
       "    .dataframe tbody tr th:only-of-type {\n",
       "        vertical-align: middle;\n",
       "    }\n",
       "\n",
       "    .dataframe tbody tr th {\n",
       "        vertical-align: top;\n",
       "    }\n",
       "\n",
       "    .dataframe thead th {\n",
       "        text-align: right;\n",
       "    }\n",
       "</style>\n",
       "<table border=\"1\" class=\"dataframe\">\n",
       "  <thead>\n",
       "    <tr style=\"text-align: right;\">\n",
       "      <th></th>\n",
       "      <th>uid</th>\n",
       "      <th>age</th>\n",
       "      <th>gender</th>\n",
       "      <th>marriageStatus</th>\n",
       "      <th>education</th>\n",
       "      <th>consumptionAbility</th>\n",
       "      <th>LBS</th>\n",
       "      <th>interest1</th>\n",
       "      <th>interest2</th>\n",
       "      <th>interest3</th>\n",
       "      <th>...</th>\n",
       "      <th>kw3</th>\n",
       "      <th>topic1</th>\n",
       "      <th>topic2</th>\n",
       "      <th>topic3</th>\n",
       "      <th>appIdInstall</th>\n",
       "      <th>appIdAction</th>\n",
       "      <th>ct</th>\n",
       "      <th>os</th>\n",
       "      <th>carrier</th>\n",
       "      <th>house</th>\n",
       "    </tr>\n",
       "  </thead>\n",
       "  <tbody>\n",
       "    <tr>\n",
       "      <th>0</th>\n",
       "      <td>26325489</td>\n",
       "      <td>0.8</td>\n",
       "      <td>1.0</td>\n",
       "      <td>11</td>\n",
       "      <td>1.000000</td>\n",
       "      <td>1.0</td>\n",
       "      <td>0.952859</td>\n",
       "      <td>93-70-77-86-109-47-75-69-45-8-29-49-83-6-46-36...</td>\n",
       "      <td>46-19-13-29</td>\n",
       "      <td>NaN</td>\n",
       "      <td>...</td>\n",
       "      <td>NaN</td>\n",
       "      <td>9826-105-8525-5488-7281</td>\n",
       "      <td>9708-5553-6745-7477-7150</td>\n",
       "      <td>NaN</td>\n",
       "      <td>NaN</td>\n",
       "      <td>NaN</td>\n",
       "      <td>3-1</td>\n",
       "      <td>2</td>\n",
       "      <td>0.333333</td>\n",
       "      <td>NaN</td>\n",
       "    </tr>\n",
       "    <tr>\n",
       "      <th>1</th>\n",
       "      <td>1184123</td>\n",
       "      <td>0.4</td>\n",
       "      <td>0.5</td>\n",
       "      <td>5-13</td>\n",
       "      <td>0.285714</td>\n",
       "      <td>0.5</td>\n",
       "      <td>0.805416</td>\n",
       "      <td>75-29</td>\n",
       "      <td>33</td>\n",
       "      <td>NaN</td>\n",
       "      <td>...</td>\n",
       "      <td>NaN</td>\n",
       "      <td>4391-9140-5669-1348-4388</td>\n",
       "      <td>9401-7724-1380-8890-7153</td>\n",
       "      <td>NaN</td>\n",
       "      <td>NaN</td>\n",
       "      <td>NaN</td>\n",
       "      <td>3-1</td>\n",
       "      <td>1</td>\n",
       "      <td>0.333333</td>\n",
       "      <td>NaN</td>\n",
       "    </tr>\n",
       "    <tr>\n",
       "      <th>2</th>\n",
       "      <td>76072711</td>\n",
       "      <td>0.2</td>\n",
       "      <td>0.5</td>\n",
       "      <td>13-10</td>\n",
       "      <td>0.714286</td>\n",
       "      <td>0.5</td>\n",
       "      <td>0.929789</td>\n",
       "      <td>70-12-28-106-59-49-41-6-42-115-35-116-36-11-96</td>\n",
       "      <td>51-22-79-81-70-6-21-4-41-35</td>\n",
       "      <td>NaN</td>\n",
       "      <td>...</td>\n",
       "      <td>NaN</td>\n",
       "      <td>1502-5488-9826-2187-8088</td>\n",
       "      <td>5005-9154-2756-5612-4209</td>\n",
       "      <td>NaN</td>\n",
       "      <td>NaN</td>\n",
       "      <td>NaN</td>\n",
       "      <td>3-1</td>\n",
       "      <td>1</td>\n",
       "      <td>1.000000</td>\n",
       "      <td>NaN</td>\n",
       "    </tr>\n",
       "    <tr>\n",
       "      <th>3</th>\n",
       "      <td>63071413</td>\n",
       "      <td>0.8</td>\n",
       "      <td>0.5</td>\n",
       "      <td>11</td>\n",
       "      <td>1.000000</td>\n",
       "      <td>0.5</td>\n",
       "      <td>0.487462</td>\n",
       "      <td>93-70-77-47-76-75-69-29-59-49-122-42-46-23-17-...</td>\n",
       "      <td>24-70-19-13-30-10</td>\n",
       "      <td>NaN</td>\n",
       "      <td>...</td>\n",
       "      <td>NaN</td>\n",
       "      <td>1619-7342-3064-9213-8525</td>\n",
       "      <td>810-2438-5659-1844-9262</td>\n",
       "      <td>NaN</td>\n",
       "      <td>NaN</td>\n",
       "      <td>NaN</td>\n",
       "      <td>1-3</td>\n",
       "      <td>1-2</td>\n",
       "      <td>1.000000</td>\n",
       "      <td>NaN</td>\n",
       "    </tr>\n",
       "    <tr>\n",
       "      <th>4</th>\n",
       "      <td>81294159</td>\n",
       "      <td>1.0</td>\n",
       "      <td>0.5</td>\n",
       "      <td>11</td>\n",
       "      <td>0.857143</td>\n",
       "      <td>1.0</td>\n",
       "      <td>0.112337</td>\n",
       "      <td>75-29-49-122-36-11</td>\n",
       "      <td>NaN</td>\n",
       "      <td>NaN</td>\n",
       "      <td>...</td>\n",
       "      <td>NaN</td>\n",
       "      <td>477-9826-5808-644-2747</td>\n",
       "      <td>5483-2199-5424-1511-7751</td>\n",
       "      <td>NaN</td>\n",
       "      <td>NaN</td>\n",
       "      <td>NaN</td>\n",
       "      <td>3-1-4-2</td>\n",
       "      <td>1</td>\n",
       "      <td>1.000000</td>\n",
       "      <td>NaN</td>\n",
       "    </tr>\n",
       "  </tbody>\n",
       "</table>\n",
       "<p>5 rows × 24 columns</p>\n",
       "</div>"
      ],
      "text/plain": [
       "<div>\n",
       "<style scoped>\n",
       "    .dataframe tbody tr th:only-of-type {\n",
       "        vertical-align: middle;\n",
       "    }\n",
       "\n",
       "    .dataframe tbody tr th {\n",
       "        vertical-align: top;\n",
       "    }\n",
       "\n",
       "    .dataframe thead th {\n",
       "        text-align: right;\n",
       "    }\n",
       "</style>\n",
       "<table border=\"1\" class=\"dataframe\">\n",
       "  <thead>\n",
       "    <tr style=\"text-align: right;\">\n",
       "      <th></th>\n",
       "      <th>uid</th>\n",
       "      <th>age</th>\n",
       "      <th>gender</th>\n",
       "      <th>marriageStatus</th>\n",
       "      <th>education</th>\n",
       "      <th>consumptionAbility</th>\n",
       "      <th>LBS</th>\n",
       "      <th>interest1</th>\n",
       "      <th>interest2</th>\n",
       "      <th>interest3</th>\n",
       "      <th>...</th>\n",
       "      <th>kw3</th>\n",
       "      <th>topic1</th>\n",
       "      <th>topic2</th>\n",
       "      <th>topic3</th>\n",
       "      <th>appIdInstall</th>\n",
       "      <th>appIdAction</th>\n",
       "      <th>ct</th>\n",
       "      <th>os</th>\n",
       "      <th>carrier</th>\n",
       "      <th>house</th>\n",
       "    </tr>\n",
       "  </thead>\n",
       "  <tbody>\n",
       "    <tr>\n",
       "      <th>0</th>\n",
       "      <td>26325489</td>\n",
       "      <td>0.8</td>\n",
       "      <td>1.0</td>\n",
       "      <td>11</td>\n",
       "      <td>1.000000</td>\n",
       "      <td>1.0</td>\n",
       "      <td>0.952859</td>\n",
       "      <td>93-70-77-86-109-47-75-69-45-8-29-49-83-6-46-36...</td>\n",
       "      <td>46-19-13-29</td>\n",
       "      <td>NaN</td>\n",
       "      <td>...</td>\n",
       "      <td>NaN</td>\n",
       "      <td>9826-105-8525-5488-7281</td>\n",
       "      <td>9708-5553-6745-7477-7150</td>\n",
       "      <td>NaN</td>\n",
       "      <td>NaN</td>\n",
       "      <td>NaN</td>\n",
       "      <td>3-1</td>\n",
       "      <td>2</td>\n",
       "      <td>0.333333</td>\n",
       "      <td>NaN</td>\n",
       "    </tr>\n",
       "    <tr>\n",
       "      <th>1</th>\n",
       "      <td>1184123</td>\n",
       "      <td>0.4</td>\n",
       "      <td>0.5</td>\n",
       "      <td>5-13</td>\n",
       "      <td>0.285714</td>\n",
       "      <td>0.5</td>\n",
       "      <td>0.805416</td>\n",
       "      <td>75-29</td>\n",
       "      <td>33</td>\n",
       "      <td>NaN</td>\n",
       "      <td>...</td>\n",
       "      <td>NaN</td>\n",
       "      <td>4391-9140-5669-1348-4388</td>\n",
       "      <td>9401-7724-1380-8890-7153</td>\n",
       "      <td>NaN</td>\n",
       "      <td>NaN</td>\n",
       "      <td>NaN</td>\n",
       "      <td>3-1</td>\n",
       "      <td>1</td>\n",
       "      <td>0.333333</td>\n",
       "      <td>NaN</td>\n",
       "    </tr>\n",
       "    <tr>\n",
       "      <th>2</th>\n",
       "      <td>76072711</td>\n",
       "      <td>0.2</td>\n",
       "      <td>0.5</td>\n",
       "      <td>13-10</td>\n",
       "      <td>0.714286</td>\n",
       "      <td>0.5</td>\n",
       "      <td>0.929789</td>\n",
       "      <td>70-12-28-106-59-49-41-6-42-115-35-116-36-11-96</td>\n",
       "      <td>51-22-79-81-70-6-21-4-41-35</td>\n",
       "      <td>NaN</td>\n",
       "      <td>...</td>\n",
       "      <td>NaN</td>\n",
       "      <td>1502-5488-9826-2187-8088</td>\n",
       "      <td>5005-9154-2756-5612-4209</td>\n",
       "      <td>NaN</td>\n",
       "      <td>NaN</td>\n",
       "      <td>NaN</td>\n",
       "      <td>3-1</td>\n",
       "      <td>1</td>\n",
       "      <td>1.000000</td>\n",
       "      <td>NaN</td>\n",
       "    </tr>\n",
       "    <tr>\n",
       "      <th>3</th>\n",
       "      <td>63071413</td>\n",
       "      <td>0.8</td>\n",
       "      <td>0.5</td>\n",
       "      <td>11</td>\n",
       "      <td>1.000000</td>\n",
       "      <td>0.5</td>\n",
       "      <td>0.487462</td>\n",
       "      <td>93-70-77-47-76-75-69-29-59-49-122-42-46-23-17-...</td>\n",
       "      <td>24-70-19-13-30-10</td>\n",
       "      <td>NaN</td>\n",
       "      <td>...</td>\n",
       "      <td>NaN</td>\n",
       "      <td>1619-7342-3064-9213-8525</td>\n",
       "      <td>810-2438-5659-1844-9262</td>\n",
       "      <td>NaN</td>\n",
       "      <td>NaN</td>\n",
       "      <td>NaN</td>\n",
       "      <td>1-3</td>\n",
       "      <td>1-2</td>\n",
       "      <td>1.000000</td>\n",
       "      <td>NaN</td>\n",
       "    </tr>\n",
       "    <tr>\n",
       "      <th>4</th>\n",
       "      <td>81294159</td>\n",
       "      <td>1.0</td>\n",
       "      <td>0.5</td>\n",
       "      <td>11</td>\n",
       "      <td>0.857143</td>\n",
       "      <td>1.0</td>\n",
       "      <td>0.112337</td>\n",
       "      <td>75-29-49-122-36-11</td>\n",
       "      <td>NaN</td>\n",
       "      <td>NaN</td>\n",
       "      <td>...</td>\n",
       "      <td>NaN</td>\n",
       "      <td>477-9826-5808-644-2747</td>\n",
       "      <td>5483-2199-5424-1511-7751</td>\n",
       "      <td>NaN</td>\n",
       "      <td>NaN</td>\n",
       "      <td>NaN</td>\n",
       "      <td>3-1-4-2</td>\n",
       "      <td>1</td>\n",
       "      <td>1.000000</td>\n",
       "      <td>NaN</td>\n",
       "    </tr>\n",
       "  </tbody>\n",
       "</table>\n",
       "<p>5 rows × 24 columns</p>\n",
       "</div>"
      ]
     },
     "execution_count": 27,
     "metadata": {},
     "output_type": "execute_result"
    }
   ],
   "source": [
    "user_feature_all['carrier'] = user_feature_all['carrier'] / user_feature_all['carrier'].max()\n",
    "user_feature_all.head()"
   ]
  },
  {
   "cell_type": "code",
   "execution_count": 29,
   "metadata": {},
   "outputs": [
    {
     "data": {
      "text/plain": [
       "Counter({0.0: 3210617,\n         0.3333333333333333: 5460418,\n         0.6666666666666666: 1176651,\n         1.0: 1572353})"
      ]
     },
     "execution_count": 29,
     "metadata": {},
     "output_type": "execute_result"
    }
   ],
   "source": [
    "carrier = Counter(user_feature_all['carrier'])\n",
    "carrier"
   ]
  },
  {
   "cell_type": "code",
   "execution_count": 30,
   "metadata": {},
   "outputs": [
    {
     "data": {
      "text/plain": [
       "Counter({'0': 9330110, 1.0: 2089929})"
      ]
     },
     "execution_count": 30,
     "metadata": {},
     "output_type": "execute_result"
    }
   ],
   "source": [
    "house = user_feature_all['house'].fillna('0')\n",
    "Counter(house)"
   ]
  },
  {
   "cell_type": "code",
   "execution_count": 19,
   "metadata": {},
   "outputs": [
    {
     "data": {
      "text/plain": [
       "(array([2089929.,       0.,       0.,       0.,       0.,       0.,\n              0.,       0.,       0., 9330110.]),\n array([1. , 1.3, 1.6, 1.9, 2.2, 2.5, 2.8, 3.1, 3.4, 3.7, 4. ]),\n <a list of 10 Patch objects>)"
      ]
     },
     "execution_count": 19,
     "metadata": {},
     "output_type": "execute_result"
    },
    {
     "data": {
      "image/png": "[encoded data removed]",
      "text/plain": [
       "<Figure size 432x288 with 1 Axes>"
      ]
     },
     "metadata": {},
     "output_type": "display_data"
    }
   ],
   "source": [
    "plt.hist(user_feature_all['house'].fillna(4))"
   ]
  },
  {
   "cell_type": "code",
   "execution_count": 31,
   "metadata": {},
   "outputs": [
    {
     "data": {
      "text/html": [
       "<div>\n",
       "<style scoped>\n",
       "    .dataframe tbody tr th:only-of-type {\n",
       "        vertical-align: middle;\n",
       "    }\n",
       "\n",
       "    .dataframe tbody tr th {\n",
       "        vertical-align: top;\n",
       "    }\n",
       "\n",
       "    .dataframe thead th {\n",
       "        text-align: right;\n",
       "    }\n",
       "</style>\n",
       "<table border=\"1\" class=\"dataframe\">\n",
       "  <thead>\n",
       "    <tr style=\"text-align: right;\">\n",
       "      <th></th>\n",
       "      <th>uid</th>\n",
       "      <th>age</th>\n",
       "      <th>gender</th>\n",
       "      <th>marriageStatus</th>\n",
       "      <th>education</th>\n",
       "      <th>consumptionAbility</th>\n",
       "      <th>LBS</th>\n",
       "      <th>interest1</th>\n",
       "      <th>interest2</th>\n",
       "      <th>interest3</th>\n",
       "      <th>...</th>\n",
       "      <th>kw3</th>\n",
       "      <th>topic1</th>\n",
       "      <th>topic2</th>\n",
       "      <th>topic3</th>\n",
       "      <th>appIdInstall</th>\n",
       "      <th>appIdAction</th>\n",
       "      <th>ct</th>\n",
       "      <th>os</th>\n",
       "      <th>carrier</th>\n",
       "      <th>house</th>\n",
       "    </tr>\n",
       "  </thead>\n",
       "  <tbody>\n",
       "    <tr>\n",
       "      <th>0</th>\n",
       "      <td>26325489</td>\n",
       "      <td>0.8</td>\n",
       "      <td>1.0</td>\n",
       "      <td>11</td>\n",
       "      <td>1.000000</td>\n",
       "      <td>1.0</td>\n",
       "      <td>0.952859</td>\n",
       "      <td>93-70-77-86-109-47-75-69-45-8-29-49-83-6-46-36...</td>\n",
       "      <td>46-19-13-29</td>\n",
       "      <td>NaN</td>\n",
       "      <td>...</td>\n",
       "      <td>NaN</td>\n",
       "      <td>9826-105-8525-5488-7281</td>\n",
       "      <td>9708-5553-6745-7477-7150</td>\n",
       "      <td>NaN</td>\n",
       "      <td>NaN</td>\n",
       "      <td>NaN</td>\n",
       "      <td>3-1</td>\n",
       "      <td>2</td>\n",
       "      <td>0.333333</td>\n",
       "      <td>0</td>\n",
       "    </tr>\n",
       "    <tr>\n",
       "      <th>1</th>\n",
       "      <td>1184123</td>\n",
       "      <td>0.4</td>\n",
       "      <td>0.5</td>\n",
       "      <td>5-13</td>\n",
       "      <td>0.285714</td>\n",
       "      <td>0.5</td>\n",
       "      <td>0.805416</td>\n",
       "      <td>75-29</td>\n",
       "      <td>33</td>\n",
       "      <td>NaN</td>\n",
       "      <td>...</td>\n",
       "      <td>NaN</td>\n",
       "      <td>4391-9140-5669-1348-4388</td>\n",
       "      <td>9401-7724-1380-8890-7153</td>\n",
       "      <td>NaN</td>\n",
       "      <td>NaN</td>\n",
       "      <td>NaN</td>\n",
       "      <td>3-1</td>\n",
       "      <td>1</td>\n",
       "      <td>0.333333</td>\n",
       "      <td>0</td>\n",
       "    </tr>\n",
       "    <tr>\n",
       "      <th>2</th>\n",
       "      <td>76072711</td>\n",
       "      <td>0.2</td>\n",
       "      <td>0.5</td>\n",
       "      <td>13-10</td>\n",
       "      <td>0.714286</td>\n",
       "      <td>0.5</td>\n",
       "      <td>0.929789</td>\n",
       "      <td>70-12-28-106-59-49-41-6-42-115-35-116-36-11-96</td>\n",
       "      <td>51-22-79-81-70-6-21-4-41-35</td>\n",
       "      <td>NaN</td>\n",
       "      <td>...</td>\n",
       "      <td>NaN</td>\n",
       "      <td>1502-5488-9826-2187-8088</td>\n",
       "      <td>5005-9154-2756-5612-4209</td>\n",
       "      <td>NaN</td>\n",
       "      <td>NaN</td>\n",
       "      <td>NaN</td>\n",
       "      <td>3-1</td>\n",
       "      <td>1</td>\n",
       "      <td>1.000000</td>\n",
       "      <td>0</td>\n",
       "    </tr>\n",
       "    <tr>\n",
       "      <th>3</th>\n",
       "      <td>63071413</td>\n",
       "      <td>0.8</td>\n",
       "      <td>0.5</td>\n",
       "      <td>11</td>\n",
       "      <td>1.000000</td>\n",
       "      <td>0.5</td>\n",
       "      <td>0.487462</td>\n",
       "      <td>93-70-77-47-76-75-69-29-59-49-122-42-46-23-17-...</td>\n",
       "      <td>24-70-19-13-30-10</td>\n",
       "      <td>NaN</td>\n",
       "      <td>...</td>\n",
       "      <td>NaN</td>\n",
       "      <td>1619-7342-3064-9213-8525</td>\n",
       "      <td>810-2438-5659-1844-9262</td>\n",
       "      <td>NaN</td>\n",
       "      <td>NaN</td>\n",
       "      <td>NaN</td>\n",
       "      <td>1-3</td>\n",
       "      <td>1-2</td>\n",
       "      <td>1.000000</td>\n",
       "      <td>0</td>\n",
       "    </tr>\n",
       "    <tr>\n",
       "      <th>4</th>\n",
       "      <td>81294159</td>\n",
       "      <td>1.0</td>\n",
       "      <td>0.5</td>\n",
       "      <td>11</td>\n",
       "      <td>0.857143</td>\n",
       "      <td>1.0</td>\n",
       "      <td>0.112337</td>\n",
       "      <td>75-29-49-122-36-11</td>\n",
       "      <td>NaN</td>\n",
       "      <td>NaN</td>\n",
       "      <td>...</td>\n",
       "      <td>NaN</td>\n",
       "      <td>477-9826-5808-644-2747</td>\n",
       "      <td>5483-2199-5424-1511-7751</td>\n",
       "      <td>NaN</td>\n",
       "      <td>NaN</td>\n",
       "      <td>NaN</td>\n",
       "      <td>3-1-4-2</td>\n",
       "      <td>1</td>\n",
       "      <td>1.000000</td>\n",
       "      <td>0</td>\n",
       "    </tr>\n",
       "  </tbody>\n",
       "</table>\n",
       "<p>5 rows × 24 columns</p>\n",
       "</div>"
      ],
      "text/plain": [
       "<div>\n",
       "<style scoped>\n",
       "    .dataframe tbody tr th:only-of-type {\n",
       "        vertical-align: middle;\n",
       "    }\n",
       "\n",
       "    .dataframe tbody tr th {\n",
       "        vertical-align: top;\n",
       "    }\n",
       "\n",
       "    .dataframe thead th {\n",
       "        text-align: right;\n",
       "    }\n",
       "</style>\n",
       "<table border=\"1\" class=\"dataframe\">\n",
       "  <thead>\n",
       "    <tr style=\"text-align: right;\">\n",
       "      <th></th>\n",
       "      <th>uid</th>\n",
       "      <th>age</th>\n",
       "      <th>gender</th>\n",
       "      <th>marriageStatus</th>\n",
       "      <th>education</th>\n",
       "      <th>consumptionAbility</th>\n",
       "      <th>LBS</th>\n",
       "      <th>interest1</th>\n",
       "      <th>interest2</th>\n",
       "      <th>interest3</th>\n",
       "      <th>...</th>\n",
       "      <th>kw3</th>\n",
       "      <th>topic1</th>\n",
       "      <th>topic2</th>\n",
       "      <th>topic3</th>\n",
       "      <th>appIdInstall</th>\n",
       "      <th>appIdAction</th>\n",
       "      <th>ct</th>\n",
       "      <th>os</th>\n",
       "      <th>carrier</th>\n",
       "      <th>house</th>\n",
       "    </tr>\n",
       "  </thead>\n",
       "  <tbody>\n",
       "    <tr>\n",
       "      <th>0</th>\n",
       "      <td>26325489</td>\n",
       "      <td>0.8</td>\n",
       "      <td>1.0</td>\n",
       "      <td>11</td>\n",
       "      <td>1.000000</td>\n",
       "      <td>1.0</td>\n",
       "      <td>0.952859</td>\n",
       "      <td>93-70-77-86-109-47-75-69-45-8-29-49-83-6-46-36...</td>\n",
       "      <td>46-19-13-29</td>\n",
       "      <td>NaN</td>\n",
       "      <td>...</td>\n",
       "      <td>NaN</td>\n",
       "      <td>9826-105-8525-5488-7281</td>\n",
       "      <td>9708-5553-6745-7477-7150</td>\n",
       "      <td>NaN</td>\n",
       "      <td>NaN</td>\n",
       "      <td>NaN</td>\n",
       "      <td>3-1</td>\n",
       "      <td>2</td>\n",
       "      <td>0.333333</td>\n",
       "      <td>0</td>\n",
       "    </tr>\n",
       "    <tr>\n",
       "      <th>1</th>\n",
       "      <td>1184123</td>\n",
       "      <td>0.4</td>\n",
       "      <td>0.5</td>\n",
       "      <td>5-13</td>\n",
       "      <td>0.285714</td>\n",
       "      <td>0.5</td>\n",
       "      <td>0.805416</td>\n",
       "      <td>75-29</td>\n",
       "      <td>33</td>\n",
       "      <td>NaN</td>\n",
       "      <td>...</td>\n",
       "      <td>NaN</td>\n",
       "      <td>4391-9140-5669-1348-4388</td>\n",
       "      <td>9401-7724-1380-8890-7153</td>\n",
       "      <td>NaN</td>\n",
       "      <td>NaN</td>\n",
       "      <td>NaN</td>\n",
       "      <td>3-1</td>\n",
       "      <td>1</td>\n",
       "      <td>0.333333</td>\n",
       "      <td>0</td>\n",
       "    </tr>\n",
       "    <tr>\n",
       "      <th>2</th>\n",
       "      <td>76072711</td>\n",
       "      <td>0.2</td>\n",
       "      <td>0.5</td>\n",
       "      <td>13-10</td>\n",
       "      <td>0.714286</td>\n",
       "      <td>0.5</td>\n",
       "      <td>0.929789</td>\n",
       "      <td>70-12-28-106-59-49-41-6-42-115-35-116-36-11-96</td>\n",
       "      <td>51-22-79-81-70-6-21-4-41-35</td>\n",
       "      <td>NaN</td>\n",
       "      <td>...</td>\n",
       "      <td>NaN</td>\n",
       "      <td>1502-5488-9826-2187-8088</td>\n",
       "      <td>5005-9154-2756-5612-4209</td>\n",
       "      <td>NaN</td>\n",
       "      <td>NaN</td>\n",
       "      <td>NaN</td>\n",
       "      <td>3-1</td>\n",
       "      <td>1</td>\n",
       "      <td>1.000000</td>\n",
       "      <td>0</td>\n",
       "    </tr>\n",
       "    <tr>\n",
       "      <th>3</th>\n",
       "      <td>63071413</td>\n",
       "      <td>0.8</td>\n",
       "      <td>0.5</td>\n",
       "      <td>11</td>\n",
       "      <td>1.000000</td>\n",
       "      <td>0.5</td>\n",
       "      <td>0.487462</td>\n",
       "      <td>93-70-77-47-76-75-69-29-59-49-122-42-46-23-17-...</td>\n",
       "      <td>24-70-19-13-30-10</td>\n",
       "      <td>NaN</td>\n",
       "      <td>...</td>\n",
       "      <td>NaN</td>\n",
       "      <td>1619-7342-3064-9213-8525</td>\n",
       "      <td>810-2438-5659-1844-9262</td>\n",
       "      <td>NaN</td>\n",
       "      <td>NaN</td>\n",
       "      <td>NaN</td>\n",
       "      <td>1-3</td>\n",
       "      <td>1-2</td>\n",
       "      <td>1.000000</td>\n",
       "      <td>0</td>\n",
       "    </tr>\n",
       "    <tr>\n",
       "      <th>4</th>\n",
       "      <td>81294159</td>\n",
       "      <td>1.0</td>\n",
       "      <td>0.5</td>\n",
       "      <td>11</td>\n",
       "      <td>0.857143</td>\n",
       "      <td>1.0</td>\n",
       "      <td>0.112337</td>\n",
       "      <td>75-29-49-122-36-11</td>\n",
       "      <td>NaN</td>\n",
       "      <td>NaN</td>\n",
       "      <td>...</td>\n",
       "      <td>NaN</td>\n",
       "      <td>477-9826-5808-644-2747</td>\n",
       "      <td>5483-2199-5424-1511-7751</td>\n",
       "      <td>NaN</td>\n",
       "      <td>NaN</td>\n",
       "      <td>NaN</td>\n",
       "      <td>3-1-4-2</td>\n",
       "      <td>1</td>\n",
       "      <td>1.000000</td>\n",
       "      <td>0</td>\n",
       "    </tr>\n",
       "  </tbody>\n",
       "</table>\n",
       "<p>5 rows × 24 columns</p>\n",
       "</div>"
      ]
     },
     "execution_count": 31,
     "metadata": {},
     "output_type": "execute_result"
    }
   ],
   "source": [
    "user_feature_all['house'] = user_feature_all['house'].fillna('0')\n",
    "user_feature_all.head()"
   ]
  },
  {
   "cell_type": "code",
   "execution_count": 32,
   "metadata": {},
   "outputs": [],
   "source": [
    "user_feature_all.to_csv('data/user_feature_all_stage1.csv', columns=column, index=False)"
   ]
  },
  {
   "cell_type": "heading",
   "metadata": {},
   "level": 1,
   "source": [
    "Checkpoint1"
   ]
  },
  {
   "cell_type": "code",
   "execution_count": 1,
   "metadata": {},
   "outputs": [
    {
     "ename": "NameError",
     "evalue": "name 'pd' is not defined",
     "traceback": [
      "\u001b[1;31m---------------------------------------------------------------------------\u001b[0m",
      "\u001b[1;31mNameError\u001b[0m                                 Traceback (most recent call last)",
      "\u001b[1;32m<ipython-input-1-430dfe054e7e>\u001b[0m in \u001b[0;36m<module>\u001b[1;34m()\u001b[0m\n\u001b[1;32m----> 1\u001b[1;33m \u001b[0muser_feature_all\u001b[0m \u001b[1;33m=\u001b[0m \u001b[0mpd\u001b[0m\u001b[1;33m.\u001b[0m\u001b[0mread_csv\u001b[0m\u001b[1;33m(\u001b[0m\u001b[1;34m'data/user_feature_all_stage1.csv'\u001b[0m\u001b[1;33m)\u001b[0m\u001b[1;33m\u001b[0m\u001b[0m\n\u001b[0m\u001b[0;32m      2\u001b[0m \u001b[0muser_feature_all\u001b[0m\u001b[1;33m.\u001b[0m\u001b[0mhead\u001b[0m\u001b[1;33m(\u001b[0m\u001b[1;33m)\u001b[0m\u001b[1;33m\u001b[0m\u001b[0m\n",
      "\u001b[1;31mNameError\u001b[0m: name 'pd' is not defined"
     ],
     "output_type": "error"
    }
   ],
   "source": [
    "user_feature_all = pd.read_csv('data/user_feature_all_stage1.csv')\n",
    "user_feature_all.head()"
   ]
  },
  {
   "cell_type": "heading",
   "metadata": {},
   "level": 3,
   "source": [
    "将数据切分成base和embedding，base即基础特征，直接送入神经网络，embedding比较复杂，需要用到自然语言处理中的word2cev，再送入神经网络"
   ]
  },
  {
   "cell_type": "code",
   "execution_count": 74,
   "metadata": {},
   "outputs": [],
   "source": [
    "column_base = ['uid', 'age', 'gender', 'marriageStatus', 'education', 'consumptionAbility',\n",
    "               'LBS', 'ct', 'os', 'carrier', 'house']\n",
    "column_embedding = ['uid', 'interest1', 'interest2', 'interest3', 'interest4', 'interest5',\n",
    "                    'kw1', 'kw2', 'kw3',\n",
    "                    'topic1', 'topic2', 'topic3',\n",
    "                    'appIdInstall', 'appIdAction']\n"
   ]
  },
  {
   "cell_type": "code",
   "execution_count": 5,
   "metadata": {},
   "outputs": [],
   "source": [
    "user_feature_all[column_base].to_csv('data/user_feature_base.csv', columns=column_base, index=False)"
   ]
  },
  {
   "cell_type": "code",
   "execution_count": 22,
   "metadata": {},
   "outputs": [],
   "source": [
    "user_feature_all[column_embedding].to_csv('data/user_feature_embedding.csv', columns=column_embedding, index=False)"
   ]
  },
  {
   "cell_type": "heading",
   "metadata": {},
   "level": 1,
   "source": [
    "Checkpoint2: 加载base，进一步处理"
   ]
  },
  {
   "cell_type": "code",
   "execution_count": 36,
   "metadata": {},
   "outputs": [
    {
     "data": {
      "text/html": [
       "<div>\n",
       "<style scoped>\n",
       "    .dataframe tbody tr th:only-of-type {\n",
       "        vertical-align: middle;\n",
       "    }\n",
       "\n",
       "    .dataframe tbody tr th {\n",
       "        vertical-align: top;\n",
       "    }\n",
       "\n",
       "    .dataframe thead th {\n",
       "        text-align: right;\n",
       "    }\n",
       "</style>\n",
       "<table border=\"1\" class=\"dataframe\">\n",
       "  <thead>\n",
       "    <tr style=\"text-align: right;\">\n",
       "      <th></th>\n",
       "      <th>uid</th>\n",
       "      <th>age</th>\n",
       "      <th>gender</th>\n",
       "      <th>marriageStatus</th>\n",
       "      <th>education</th>\n",
       "      <th>consumptionAbility</th>\n",
       "      <th>LBS</th>\n",
       "      <th>ct</th>\n",
       "      <th>os</th>\n",
       "      <th>carrier</th>\n",
       "      <th>house</th>\n",
       "    </tr>\n",
       "  </thead>\n",
       "  <tbody>\n",
       "    <tr>\n",
       "      <th>0</th>\n",
       "      <td>26325489</td>\n",
       "      <td>0.8</td>\n",
       "      <td>1.0</td>\n",
       "      <td>11</td>\n",
       "      <td>1.000000</td>\n",
       "      <td>1.0</td>\n",
       "      <td>0.952859</td>\n",
       "      <td>3-1</td>\n",
       "      <td>2</td>\n",
       "      <td>0.333333</td>\n",
       "      <td>0.0</td>\n",
       "    </tr>\n",
       "    <tr>\n",
       "      <th>1</th>\n",
       "      <td>1184123</td>\n",
       "      <td>0.4</td>\n",
       "      <td>0.5</td>\n",
       "      <td>5-13</td>\n",
       "      <td>0.285714</td>\n",
       "      <td>0.5</td>\n",
       "      <td>0.805416</td>\n",
       "      <td>3-1</td>\n",
       "      <td>1</td>\n",
       "      <td>0.333333</td>\n",
       "      <td>0.0</td>\n",
       "    </tr>\n",
       "    <tr>\n",
       "      <th>2</th>\n",
       "      <td>76072711</td>\n",
       "      <td>0.2</td>\n",
       "      <td>0.5</td>\n",
       "      <td>13-10</td>\n",
       "      <td>0.714286</td>\n",
       "      <td>0.5</td>\n",
       "      <td>0.929789</td>\n",
       "      <td>3-1</td>\n",
       "      <td>1</td>\n",
       "      <td>1.000000</td>\n",
       "      <td>0.0</td>\n",
       "    </tr>\n",
       "    <tr>\n",
       "      <th>3</th>\n",
       "      <td>63071413</td>\n",
       "      <td>0.8</td>\n",
       "      <td>0.5</td>\n",
       "      <td>11</td>\n",
       "      <td>1.000000</td>\n",
       "      <td>0.5</td>\n",
       "      <td>0.487462</td>\n",
       "      <td>1-3</td>\n",
       "      <td>1-2</td>\n",
       "      <td>1.000000</td>\n",
       "      <td>0.0</td>\n",
       "    </tr>\n",
       "    <tr>\n",
       "      <th>4</th>\n",
       "      <td>81294159</td>\n",
       "      <td>1.0</td>\n",
       "      <td>0.5</td>\n",
       "      <td>11</td>\n",
       "      <td>0.857143</td>\n",
       "      <td>1.0</td>\n",
       "      <td>0.112337</td>\n",
       "      <td>3-1-4-2</td>\n",
       "      <td>1</td>\n",
       "      <td>1.000000</td>\n",
       "      <td>0.0</td>\n",
       "    </tr>\n",
       "  </tbody>\n",
       "</table>\n",
       "</div>"
      ],
      "text/plain": [
       "<div>\n",
       "<style scoped>\n",
       "    .dataframe tbody tr th:only-of-type {\n",
       "        vertical-align: middle;\n",
       "    }\n",
       "\n",
       "    .dataframe tbody tr th {\n",
       "        vertical-align: top;\n",
       "    }\n",
       "\n",
       "    .dataframe thead th {\n",
       "        text-align: right;\n",
       "    }\n",
       "</style>\n",
       "<table border=\"1\" class=\"dataframe\">\n",
       "  <thead>\n",
       "    <tr style=\"text-align: right;\">\n",
       "      <th></th>\n",
       "      <th>uid</th>\n",
       "      <th>age</th>\n",
       "      <th>gender</th>\n",
       "      <th>marriageStatus</th>\n",
       "      <th>education</th>\n",
       "      <th>consumptionAbility</th>\n",
       "      <th>LBS</th>\n",
       "      <th>ct</th>\n",
       "      <th>os</th>\n",
       "      <th>carrier</th>\n",
       "      <th>house</th>\n",
       "    </tr>\n",
       "  </thead>\n",
       "  <tbody>\n",
       "    <tr>\n",
       "      <th>0</th>\n",
       "      <td>26325489</td>\n",
       "      <td>0.8</td>\n",
       "      <td>1.0</td>\n",
       "      <td>11</td>\n",
       "      <td>1.000000</td>\n",
       "      <td>1.0</td>\n",
       "      <td>0.952859</td>\n",
       "      <td>3-1</td>\n",
       "      <td>2</td>\n",
       "      <td>0.333333</td>\n",
       "      <td>0.0</td>\n",
       "    </tr>\n",
       "    <tr>\n",
       "      <th>1</th>\n",
       "      <td>1184123</td>\n",
       "      <td>0.4</td>\n",
       "      <td>0.5</td>\n",
       "      <td>5-13</td>\n",
       "      <td>0.285714</td>\n",
       "      <td>0.5</td>\n",
       "      <td>0.805416</td>\n",
       "      <td>3-1</td>\n",
       "      <td>1</td>\n",
       "      <td>0.333333</td>\n",
       "      <td>0.0</td>\n",
       "    </tr>\n",
       "    <tr>\n",
       "      <th>2</th>\n",
       "      <td>76072711</td>\n",
       "      <td>0.2</td>\n",
       "      <td>0.5</td>\n",
       "      <td>13-10</td>\n",
       "      <td>0.714286</td>\n",
       "      <td>0.5</td>\n",
       "      <td>0.929789</td>\n",
       "      <td>3-1</td>\n",
       "      <td>1</td>\n",
       "      <td>1.000000</td>\n",
       "      <td>0.0</td>\n",
       "    </tr>\n",
       "    <tr>\n",
       "      <th>3</th>\n",
       "      <td>63071413</td>\n",
       "      <td>0.8</td>\n",
       "      <td>0.5</td>\n",
       "      <td>11</td>\n",
       "      <td>1.000000</td>\n",
       "      <td>0.5</td>\n",
       "      <td>0.487462</td>\n",
       "      <td>1-3</td>\n",
       "      <td>1-2</td>\n",
       "      <td>1.000000</td>\n",
       "      <td>0.0</td>\n",
       "    </tr>\n",
       "    <tr>\n",
       "      <th>4</th>\n",
       "      <td>81294159</td>\n",
       "      <td>1.0</td>\n",
       "      <td>0.5</td>\n",
       "      <td>11</td>\n",
       "      <td>0.857143</td>\n",
       "      <td>1.0</td>\n",
       "      <td>0.112337</td>\n",
       "      <td>3-1-4-2</td>\n",
       "      <td>1</td>\n",
       "      <td>1.000000</td>\n",
       "      <td>0.0</td>\n",
       "    </tr>\n",
       "  </tbody>\n",
       "</table>\n",
       "</div>"
      ]
     },
     "execution_count": 36,
     "metadata": {},
     "output_type": "execute_result"
    }
   ],
   "source": [
    "user_feature_base = pd.read_csv('data/user_feature_base.csv')\n",
    "user_feature_base.head()"
   ]
  },
  {
   "cell_type": "code",
   "execution_count": 5,
   "metadata": {},
   "outputs": [
    {
     "data": {
      "text/plain": [
       "Counter({'0': 777224,\n         '10': 4262449,\n         '11': 3621989,\n         '12-13': 189100,\n         '12-13-10': 103,\n         '12-13-9': 8841,\n         '13': 333334,\n         '13-10': 1397672,\n         '13-10-9': 4,\n         '13-15': 72971,\n         '13-15-10': 3,\n         '13-9': 102224,\n         '14': 207,\n         '15': 269446,\n         '15-10': 20,\n         '2-13': 105230,\n         '2-13-10': 1,\n         '2-13-9': 6341,\n         '3': 179,\n         '5-13': 85440,\n         '5-13-10': 6,\n         '5-13-9': 3366,\n         '6-13': 167577,\n         '6-13-10': 5,\n         '6-13-9': 16303,\n         '8': 3,\n         nan: 1})"
      ]
     },
     "execution_count": 5,
     "metadata": {},
     "output_type": "execute_result"
    }
   ],
   "source": [
    "Counter(user_feature_base['marriageStatus'])"
   ]
  },
  {
   "cell_type": "code",
   "execution_count": 24,
   "metadata": {},
   "outputs": [],
   "source": [
    "import utils"
   ]
  },
  {
   "cell_type": "code",
   "execution_count": 50,
   "metadata": {},
   "outputs": [
    {
     "data": {
      "text/plain": [
       "0    0\n1    1\n2    2\n3    3\n4    4\ndtype: int64"
      ]
     },
     "execution_count": 50,
     "metadata": {},
     "output_type": "execute_result"
    }
   ],
   "source": [
    "status = set()\n",
    "for e in user_feature_base['ct'].dropna():\n",
    "    if e.isdigit():\n",
    "        status.add(int(e))\n",
    "    else:\n",
    "        for ee in e.split('-'):\n",
    "            status.add(int(ee))\n",
    "s = pd.Series(sorted(status))\n",
    "s"
   ]
  },
  {
   "cell_type": "code",
   "execution_count": 39,
   "metadata": {},
   "outputs": [
    {
     "data": {
      "text/plain": [
       "{0: 0,\n 2: 1,\n 3: 2,\n 5: 3,\n 6: 4,\n 8: 5,\n 9: 6,\n 10: 7,\n 11: 8,\n 12: 9,\n 13: 10,\n 14: 11,\n 15: 12}"
      ]
     },
     "execution_count": 39,
     "metadata": {},
     "output_type": "execute_result"
    }
   ],
   "source": [
    "word_to_int = utils.create_lookup_tables(status)\n",
    "word_to_int"
   ]
  },
  {
   "cell_type": "code",
   "execution_count": 40,
   "metadata": {},
   "outputs": [
    {
     "data": {
      "text/plain": [
       "0     256\n1    1032\n2    1152\n3     256\n4     256\nName: marriageStatus, dtype: int64"
      ]
     },
     "execution_count": 40,
     "metadata": {},
     "output_type": "execute_result"
    }
   ],
   "source": [
    "u1 = user_feature_base.copy()\n",
    "\n",
    "\n",
    "def convert_marriage(x):\n",
    "    if x == 'NaN':\n",
    "        return 0\n",
    "    elif x.isdigit():\n",
    "        return 1 << word_to_int[int(x)]\n",
    "    else:\n",
    "        res = 0\n",
    "        for e in x.split('-'):\n",
    "            res += (1 << word_to_int[int(e)])\n",
    "        return res\n",
    "    \n",
    "    \n",
    "u1 = u1['marriageStatus'].fillna('NaN').map(convert_marriage)\n",
    "u1.head()"
   ]
  },
  {
   "cell_type": "code",
   "execution_count": 19,
   "metadata": {},
   "outputs": [
    {
     "data": {
      "text/plain": [
       "Counter({0: 1,\n         1: 777224,\n         4: 179,\n         32: 3,\n         128: 4262449,\n         256: 3621989,\n         1024: 333334,\n         1026: 105230,\n         1032: 85440,\n         1040: 167577,\n         1088: 102224,\n         1090: 6341,\n         1096: 3366,\n         1104: 16303,\n         1152: 1397672,\n         1154: 1,\n         1160: 6,\n         1168: 5,\n         1216: 4,\n         1536: 189100,\n         1600: 8841,\n         1664: 103,\n         2048: 207,\n         4096: 269446,\n         4224: 20,\n         5120: 72971,\n         5248: 3})"
      ]
     },
     "execution_count": 19,
     "metadata": {},
     "output_type": "execute_result"
    }
   ],
   "source": [
    "Counter(u1)"
   ]
  },
  {
   "cell_type": "code",
   "execution_count": 42,
   "metadata": {},
   "outputs": [],
   "source": [
    "# u1 = u1['marriageStatus'].fillna('NaN').map(convert_marriage)\n",
    "# u1.head()\n",
    "u2 = user_feature_base['marriageStatus'].fillna('NaN').map(convert_marriage)\n"
   ]
  },
  {
   "cell_type": "code",
   "execution_count": 45,
   "metadata": {},
   "outputs": [
    {
     "data": {
      "text/html": [
       "<div>\n",
       "<style scoped>\n",
       "    .dataframe tbody tr th:only-of-type {\n",
       "        vertical-align: middle;\n",
       "    }\n",
       "\n",
       "    .dataframe tbody tr th {\n",
       "        vertical-align: top;\n",
       "    }\n",
       "\n",
       "    .dataframe thead th {\n",
       "        text-align: right;\n",
       "    }\n",
       "</style>\n",
       "<table border=\"1\" class=\"dataframe\">\n",
       "  <thead>\n",
       "    <tr style=\"text-align: right;\">\n",
       "      <th></th>\n",
       "      <th>uid</th>\n",
       "      <th>age</th>\n",
       "      <th>gender</th>\n",
       "      <th>marriageStatus</th>\n",
       "      <th>education</th>\n",
       "      <th>consumptionAbility</th>\n",
       "      <th>LBS</th>\n",
       "      <th>ct</th>\n",
       "      <th>os</th>\n",
       "      <th>carrier</th>\n",
       "      <th>house</th>\n",
       "    </tr>\n",
       "  </thead>\n",
       "  <tbody>\n",
       "    <tr>\n",
       "      <th>0</th>\n",
       "      <td>26325489</td>\n",
       "      <td>0.8</td>\n",
       "      <td>1.0</td>\n",
       "      <td>256</td>\n",
       "      <td>1.000000</td>\n",
       "      <td>1.0</td>\n",
       "      <td>0.952859</td>\n",
       "      <td>3-1</td>\n",
       "      <td>2</td>\n",
       "      <td>0.333333</td>\n",
       "      <td>0.0</td>\n",
       "    </tr>\n",
       "    <tr>\n",
       "      <th>1</th>\n",
       "      <td>1184123</td>\n",
       "      <td>0.4</td>\n",
       "      <td>0.5</td>\n",
       "      <td>1032</td>\n",
       "      <td>0.285714</td>\n",
       "      <td>0.5</td>\n",
       "      <td>0.805416</td>\n",
       "      <td>3-1</td>\n",
       "      <td>1</td>\n",
       "      <td>0.333333</td>\n",
       "      <td>0.0</td>\n",
       "    </tr>\n",
       "    <tr>\n",
       "      <th>2</th>\n",
       "      <td>76072711</td>\n",
       "      <td>0.2</td>\n",
       "      <td>0.5</td>\n",
       "      <td>1152</td>\n",
       "      <td>0.714286</td>\n",
       "      <td>0.5</td>\n",
       "      <td>0.929789</td>\n",
       "      <td>3-1</td>\n",
       "      <td>1</td>\n",
       "      <td>1.000000</td>\n",
       "      <td>0.0</td>\n",
       "    </tr>\n",
       "    <tr>\n",
       "      <th>3</th>\n",
       "      <td>63071413</td>\n",
       "      <td>0.8</td>\n",
       "      <td>0.5</td>\n",
       "      <td>256</td>\n",
       "      <td>1.000000</td>\n",
       "      <td>0.5</td>\n",
       "      <td>0.487462</td>\n",
       "      <td>1-3</td>\n",
       "      <td>1-2</td>\n",
       "      <td>1.000000</td>\n",
       "      <td>0.0</td>\n",
       "    </tr>\n",
       "    <tr>\n",
       "      <th>4</th>\n",
       "      <td>81294159</td>\n",
       "      <td>1.0</td>\n",
       "      <td>0.5</td>\n",
       "      <td>256</td>\n",
       "      <td>0.857143</td>\n",
       "      <td>1.0</td>\n",
       "      <td>0.112337</td>\n",
       "      <td>3-1-4-2</td>\n",
       "      <td>1</td>\n",
       "      <td>1.000000</td>\n",
       "      <td>0.0</td>\n",
       "    </tr>\n",
       "  </tbody>\n",
       "</table>\n",
       "</div>"
      ],
      "text/plain": [
       "<div>\n",
       "<style scoped>\n",
       "    .dataframe tbody tr th:only-of-type {\n",
       "        vertical-align: middle;\n",
       "    }\n",
       "\n",
       "    .dataframe tbody tr th {\n",
       "        vertical-align: top;\n",
       "    }\n",
       "\n",
       "    .dataframe thead th {\n",
       "        text-align: right;\n",
       "    }\n",
       "</style>\n",
       "<table border=\"1\" class=\"dataframe\">\n",
       "  <thead>\n",
       "    <tr style=\"text-align: right;\">\n",
       "      <th></th>\n",
       "      <th>uid</th>\n",
       "      <th>age</th>\n",
       "      <th>gender</th>\n",
       "      <th>marriageStatus</th>\n",
       "      <th>education</th>\n",
       "      <th>consumptionAbility</th>\n",
       "      <th>LBS</th>\n",
       "      <th>ct</th>\n",
       "      <th>os</th>\n",
       "      <th>carrier</th>\n",
       "      <th>house</th>\n",
       "    </tr>\n",
       "  </thead>\n",
       "  <tbody>\n",
       "    <tr>\n",
       "      <th>0</th>\n",
       "      <td>26325489</td>\n",
       "      <td>0.8</td>\n",
       "      <td>1.0</td>\n",
       "      <td>256</td>\n",
       "      <td>1.000000</td>\n",
       "      <td>1.0</td>\n",
       "      <td>0.952859</td>\n",
       "      <td>3-1</td>\n",
       "      <td>2</td>\n",
       "      <td>0.333333</td>\n",
       "      <td>0.0</td>\n",
       "    </tr>\n",
       "    <tr>\n",
       "      <th>1</th>\n",
       "      <td>1184123</td>\n",
       "      <td>0.4</td>\n",
       "      <td>0.5</td>\n",
       "      <td>1032</td>\n",
       "      <td>0.285714</td>\n",
       "      <td>0.5</td>\n",
       "      <td>0.805416</td>\n",
       "      <td>3-1</td>\n",
       "      <td>1</td>\n",
       "      <td>0.333333</td>\n",
       "      <td>0.0</td>\n",
       "    </tr>\n",
       "    <tr>\n",
       "      <th>2</th>\n",
       "      <td>76072711</td>\n",
       "      <td>0.2</td>\n",
       "      <td>0.5</td>\n",
       "      <td>1152</td>\n",
       "      <td>0.714286</td>\n",
       "      <td>0.5</td>\n",
       "      <td>0.929789</td>\n",
       "      <td>3-1</td>\n",
       "      <td>1</td>\n",
       "      <td>1.000000</td>\n",
       "      <td>0.0</td>\n",
       "    </tr>\n",
       "    <tr>\n",
       "      <th>3</th>\n",
       "      <td>63071413</td>\n",
       "      <td>0.8</td>\n",
       "      <td>0.5</td>\n",
       "      <td>256</td>\n",
       "      <td>1.000000</td>\n",
       "      <td>0.5</td>\n",
       "      <td>0.487462</td>\n",
       "      <td>1-3</td>\n",
       "      <td>1-2</td>\n",
       "      <td>1.000000</td>\n",
       "      <td>0.0</td>\n",
       "    </tr>\n",
       "    <tr>\n",
       "      <th>4</th>\n",
       "      <td>81294159</td>\n",
       "      <td>1.0</td>\n",
       "      <td>0.5</td>\n",
       "      <td>256</td>\n",
       "      <td>0.857143</td>\n",
       "      <td>1.0</td>\n",
       "      <td>0.112337</td>\n",
       "      <td>3-1-4-2</td>\n",
       "      <td>1</td>\n",
       "      <td>1.000000</td>\n",
       "      <td>0.0</td>\n",
       "    </tr>\n",
       "  </tbody>\n",
       "</table>\n",
       "</div>"
      ]
     },
     "execution_count": 45,
     "metadata": {},
     "output_type": "execute_result"
    }
   ],
   "source": [
    "user_feature_base['marriageStatus'] = u2\n",
    "user_feature_base.head()"
   ]
  },
  {
   "cell_type": "code",
   "execution_count": 46,
   "metadata": {},
   "outputs": [
    {
     "data": {
      "text/html": [
       "<div>\n",
       "<style scoped>\n",
       "    .dataframe tbody tr th:only-of-type {\n",
       "        vertical-align: middle;\n",
       "    }\n",
       "\n",
       "    .dataframe tbody tr th {\n",
       "        vertical-align: top;\n",
       "    }\n",
       "\n",
       "    .dataframe thead th {\n",
       "        text-align: right;\n",
       "    }\n",
       "</style>\n",
       "<table border=\"1\" class=\"dataframe\">\n",
       "  <thead>\n",
       "    <tr style=\"text-align: right;\">\n",
       "      <th></th>\n",
       "      <th>uid</th>\n",
       "      <th>age</th>\n",
       "      <th>gender</th>\n",
       "      <th>marriageStatus</th>\n",
       "      <th>education</th>\n",
       "      <th>consumptionAbility</th>\n",
       "      <th>LBS</th>\n",
       "      <th>ct</th>\n",
       "      <th>os</th>\n",
       "      <th>carrier</th>\n",
       "      <th>house</th>\n",
       "    </tr>\n",
       "  </thead>\n",
       "  <tbody>\n",
       "    <tr>\n",
       "      <th>0</th>\n",
       "      <td>26325489</td>\n",
       "      <td>0.8</td>\n",
       "      <td>1.0</td>\n",
       "      <td>0.048780</td>\n",
       "      <td>1.000000</td>\n",
       "      <td>1.0</td>\n",
       "      <td>0.952859</td>\n",
       "      <td>3-1</td>\n",
       "      <td>2</td>\n",
       "      <td>0.333333</td>\n",
       "      <td>0.0</td>\n",
       "    </tr>\n",
       "    <tr>\n",
       "      <th>1</th>\n",
       "      <td>1184123</td>\n",
       "      <td>0.4</td>\n",
       "      <td>0.5</td>\n",
       "      <td>0.196646</td>\n",
       "      <td>0.285714</td>\n",
       "      <td>0.5</td>\n",
       "      <td>0.805416</td>\n",
       "      <td>3-1</td>\n",
       "      <td>1</td>\n",
       "      <td>0.333333</td>\n",
       "      <td>0.0</td>\n",
       "    </tr>\n",
       "    <tr>\n",
       "      <th>2</th>\n",
       "      <td>76072711</td>\n",
       "      <td>0.2</td>\n",
       "      <td>0.5</td>\n",
       "      <td>0.219512</td>\n",
       "      <td>0.714286</td>\n",
       "      <td>0.5</td>\n",
       "      <td>0.929789</td>\n",
       "      <td>3-1</td>\n",
       "      <td>1</td>\n",
       "      <td>1.000000</td>\n",
       "      <td>0.0</td>\n",
       "    </tr>\n",
       "    <tr>\n",
       "      <th>3</th>\n",
       "      <td>63071413</td>\n",
       "      <td>0.8</td>\n",
       "      <td>0.5</td>\n",
       "      <td>0.048780</td>\n",
       "      <td>1.000000</td>\n",
       "      <td>0.5</td>\n",
       "      <td>0.487462</td>\n",
       "      <td>1-3</td>\n",
       "      <td>1-2</td>\n",
       "      <td>1.000000</td>\n",
       "      <td>0.0</td>\n",
       "    </tr>\n",
       "    <tr>\n",
       "      <th>4</th>\n",
       "      <td>81294159</td>\n",
       "      <td>1.0</td>\n",
       "      <td>0.5</td>\n",
       "      <td>0.048780</td>\n",
       "      <td>0.857143</td>\n",
       "      <td>1.0</td>\n",
       "      <td>0.112337</td>\n",
       "      <td>3-1-4-2</td>\n",
       "      <td>1</td>\n",
       "      <td>1.000000</td>\n",
       "      <td>0.0</td>\n",
       "    </tr>\n",
       "  </tbody>\n",
       "</table>\n",
       "</div>"
      ],
      "text/plain": [
       "<div>\n",
       "<style scoped>\n",
       "    .dataframe tbody tr th:only-of-type {\n",
       "        vertical-align: middle;\n",
       "    }\n",
       "\n",
       "    .dataframe tbody tr th {\n",
       "        vertical-align: top;\n",
       "    }\n",
       "\n",
       "    .dataframe thead th {\n",
       "        text-align: right;\n",
       "    }\n",
       "</style>\n",
       "<table border=\"1\" class=\"dataframe\">\n",
       "  <thead>\n",
       "    <tr style=\"text-align: right;\">\n",
       "      <th></th>\n",
       "      <th>uid</th>\n",
       "      <th>age</th>\n",
       "      <th>gender</th>\n",
       "      <th>marriageStatus</th>\n",
       "      <th>education</th>\n",
       "      <th>consumptionAbility</th>\n",
       "      <th>LBS</th>\n",
       "      <th>ct</th>\n",
       "      <th>os</th>\n",
       "      <th>carrier</th>\n",
       "      <th>house</th>\n",
       "    </tr>\n",
       "  </thead>\n",
       "  <tbody>\n",
       "    <tr>\n",
       "      <th>0</th>\n",
       "      <td>26325489</td>\n",
       "      <td>0.8</td>\n",
       "      <td>1.0</td>\n",
       "      <td>0.048780</td>\n",
       "      <td>1.000000</td>\n",
       "      <td>1.0</td>\n",
       "      <td>0.952859</td>\n",
       "      <td>3-1</td>\n",
       "      <td>2</td>\n",
       "      <td>0.333333</td>\n",
       "      <td>0.0</td>\n",
       "    </tr>\n",
       "    <tr>\n",
       "      <th>1</th>\n",
       "      <td>1184123</td>\n",
       "      <td>0.4</td>\n",
       "      <td>0.5</td>\n",
       "      <td>0.196646</td>\n",
       "      <td>0.285714</td>\n",
       "      <td>0.5</td>\n",
       "      <td>0.805416</td>\n",
       "      <td>3-1</td>\n",
       "      <td>1</td>\n",
       "      <td>0.333333</td>\n",
       "      <td>0.0</td>\n",
       "    </tr>\n",
       "    <tr>\n",
       "      <th>2</th>\n",
       "      <td>76072711</td>\n",
       "      <td>0.2</td>\n",
       "      <td>0.5</td>\n",
       "      <td>0.219512</td>\n",
       "      <td>0.714286</td>\n",
       "      <td>0.5</td>\n",
       "      <td>0.929789</td>\n",
       "      <td>3-1</td>\n",
       "      <td>1</td>\n",
       "      <td>1.000000</td>\n",
       "      <td>0.0</td>\n",
       "    </tr>\n",
       "    <tr>\n",
       "      <th>3</th>\n",
       "      <td>63071413</td>\n",
       "      <td>0.8</td>\n",
       "      <td>0.5</td>\n",
       "      <td>0.048780</td>\n",
       "      <td>1.000000</td>\n",
       "      <td>0.5</td>\n",
       "      <td>0.487462</td>\n",
       "      <td>1-3</td>\n",
       "      <td>1-2</td>\n",
       "      <td>1.000000</td>\n",
       "      <td>0.0</td>\n",
       "    </tr>\n",
       "    <tr>\n",
       "      <th>4</th>\n",
       "      <td>81294159</td>\n",
       "      <td>1.0</td>\n",
       "      <td>0.5</td>\n",
       "      <td>0.048780</td>\n",
       "      <td>0.857143</td>\n",
       "      <td>1.0</td>\n",
       "      <td>0.112337</td>\n",
       "      <td>3-1-4-2</td>\n",
       "      <td>1</td>\n",
       "      <td>1.000000</td>\n",
       "      <td>0.0</td>\n",
       "    </tr>\n",
       "  </tbody>\n",
       "</table>\n",
       "</div>"
      ]
     },
     "execution_count": 46,
     "metadata": {},
     "output_type": "execute_result"
    }
   ],
   "source": [
    "user_feature_base['marriageStatus'] = user_feature_base['marriageStatus'] / user_feature_base['marriageStatus'].max()\n",
    "user_feature_base.head()"
   ]
  },
  {
   "cell_type": "code",
   "execution_count": 48,
   "metadata": {},
   "outputs": [
    {
     "data": {
      "text/plain": [
       "Counter({'0': 1409058,\n         '1': 202021,\n         '1-2': 14400,\n         '1-2-3': 106190,\n         '1-2-3-4': 17455,\n         '1-2-4': 1364,\n         '1-2-4-3': 5817,\n         '1-3': 2613262,\n         '1-3-2': 232797,\n         '1-3-2-4': 23054,\n         '1-3-4': 264723,\n         '1-3-4-2': 23649,\n         '1-4': 14933,\n         '1-4-2': 1324,\n         '1-4-2-3': 5985,\n         '1-4-3': 119853,\n         '1-4-3-2': 17508,\n         '2': 5095,\n         '2-1': 4761,\n         '2-1-3': 32585,\n         '2-1-3-4': 3821,\n         '2-1-4': 564,\n         '2-1-4-3': 1765,\n         '2-3': 23305,\n         '2-3-1': 33759,\n         '2-3-1-4': 3995,\n         '2-3-4': 2732,\n         '2-3-4-1': 2056,\n         '2-4': 304,\n         '2-4-1': 251,\n         '2-4-1-3': 1909,\n         '2-4-3': 1153,\n         '2-4-3-1': 1908,\n         '3': 1637616,\n         '3-1': 3237432,\n         '3-1-2': 289263,\n         '3-1-2-4': 29320,\n         '3-1-4': 328721,\n         '3-1-4-2': 29654,\n         '3-2': 89645,\n         '3-2-1': 139831,\n         '3-2-1-4': 22169,\n         '3-2-4': 8614,\n         '3-2-4-1': 8143,\n         '3-4': 81121,\n         '3-4-1': 156837,\n         '3-4-1-2': 22249,\n         '3-4-2': 8524,\n         '3-4-2-1': 8472,\n         '4': 4762,\n         '4-1': 4979,\n         '4-1-2': 592,\n         '4-1-2-3': 1845,\n         '4-1-3': 38047,\n         '4-1-3-2': 3936,\n         '4-2': 305,\n         '4-2-1': 243,\n         '4-2-1-3': 2070,\n         '4-2-3': 1231,\n         '4-2-3-1': 2002,\n         '4-3': 20626,\n         '4-3-1': 39604,\n         '4-3-1-2': 4066,\n         '4-3-2': 2705,\n         '4-3-2-1': 2059})"
      ]
     },
     "execution_count": 48,
     "metadata": {},
     "output_type": "execute_result"
    }
   ],
   "source": [
    "Counter(user_feature_base['ct'])"
   ]
  },
  {
   "cell_type": "code",
   "execution_count": 51,
   "metadata": {},
   "outputs": [],
   "source": [
    "def convert_ct(x):\n",
    "    if x.isdigit():\n",
    "        return 1 << int(x)\n",
    "    else:\n",
    "        res = 0\n",
    "        for e in x.split('-'):\n",
    "            res += (1 << int(e))\n",
    "        return res"
   ]
  },
  {
   "cell_type": "code",
   "execution_count": 52,
   "metadata": {},
   "outputs": [],
   "source": [
    "u3 = user_feature_base['ct'].map(convert_ct)"
   ]
  },
  {
   "cell_type": "code",
   "execution_count": 53,
   "metadata": {},
   "outputs": [
    {
     "data": {
      "text/html": [
       "<div>\n",
       "<style scoped>\n",
       "    .dataframe tbody tr th:only-of-type {\n",
       "        vertical-align: middle;\n",
       "    }\n",
       "\n",
       "    .dataframe tbody tr th {\n",
       "        vertical-align: top;\n",
       "    }\n",
       "\n",
       "    .dataframe thead th {\n",
       "        text-align: right;\n",
       "    }\n",
       "</style>\n",
       "<table border=\"1\" class=\"dataframe\">\n",
       "  <thead>\n",
       "    <tr style=\"text-align: right;\">\n",
       "      <th></th>\n",
       "      <th>uid</th>\n",
       "      <th>age</th>\n",
       "      <th>gender</th>\n",
       "      <th>marriageStatus</th>\n",
       "      <th>education</th>\n",
       "      <th>consumptionAbility</th>\n",
       "      <th>LBS</th>\n",
       "      <th>ct</th>\n",
       "      <th>os</th>\n",
       "      <th>carrier</th>\n",
       "      <th>house</th>\n",
       "    </tr>\n",
       "  </thead>\n",
       "  <tbody>\n",
       "    <tr>\n",
       "      <th>0</th>\n",
       "      <td>26325489</td>\n",
       "      <td>0.8</td>\n",
       "      <td>1.0</td>\n",
       "      <td>0.048780</td>\n",
       "      <td>1.000000</td>\n",
       "      <td>1.0</td>\n",
       "      <td>0.952859</td>\n",
       "      <td>10</td>\n",
       "      <td>2</td>\n",
       "      <td>0.333333</td>\n",
       "      <td>0.0</td>\n",
       "    </tr>\n",
       "    <tr>\n",
       "      <th>1</th>\n",
       "      <td>1184123</td>\n",
       "      <td>0.4</td>\n",
       "      <td>0.5</td>\n",
       "      <td>0.196646</td>\n",
       "      <td>0.285714</td>\n",
       "      <td>0.5</td>\n",
       "      <td>0.805416</td>\n",
       "      <td>10</td>\n",
       "      <td>1</td>\n",
       "      <td>0.333333</td>\n",
       "      <td>0.0</td>\n",
       "    </tr>\n",
       "    <tr>\n",
       "      <th>2</th>\n",
       "      <td>76072711</td>\n",
       "      <td>0.2</td>\n",
       "      <td>0.5</td>\n",
       "      <td>0.219512</td>\n",
       "      <td>0.714286</td>\n",
       "      <td>0.5</td>\n",
       "      <td>0.929789</td>\n",
       "      <td>10</td>\n",
       "      <td>1</td>\n",
       "      <td>1.000000</td>\n",
       "      <td>0.0</td>\n",
       "    </tr>\n",
       "    <tr>\n",
       "      <th>3</th>\n",
       "      <td>63071413</td>\n",
       "      <td>0.8</td>\n",
       "      <td>0.5</td>\n",
       "      <td>0.048780</td>\n",
       "      <td>1.000000</td>\n",
       "      <td>0.5</td>\n",
       "      <td>0.487462</td>\n",
       "      <td>10</td>\n",
       "      <td>1-2</td>\n",
       "      <td>1.000000</td>\n",
       "      <td>0.0</td>\n",
       "    </tr>\n",
       "    <tr>\n",
       "      <th>4</th>\n",
       "      <td>81294159</td>\n",
       "      <td>1.0</td>\n",
       "      <td>0.5</td>\n",
       "      <td>0.048780</td>\n",
       "      <td>0.857143</td>\n",
       "      <td>1.0</td>\n",
       "      <td>0.112337</td>\n",
       "      <td>30</td>\n",
       "      <td>1</td>\n",
       "      <td>1.000000</td>\n",
       "      <td>0.0</td>\n",
       "    </tr>\n",
       "  </tbody>\n",
       "</table>\n",
       "</div>"
      ],
      "text/plain": [
       "<div>\n",
       "<style scoped>\n",
       "    .dataframe tbody tr th:only-of-type {\n",
       "        vertical-align: middle;\n",
       "    }\n",
       "\n",
       "    .dataframe tbody tr th {\n",
       "        vertical-align: top;\n",
       "    }\n",
       "\n",
       "    .dataframe thead th {\n",
       "        text-align: right;\n",
       "    }\n",
       "</style>\n",
       "<table border=\"1\" class=\"dataframe\">\n",
       "  <thead>\n",
       "    <tr style=\"text-align: right;\">\n",
       "      <th></th>\n",
       "      <th>uid</th>\n",
       "      <th>age</th>\n",
       "      <th>gender</th>\n",
       "      <th>marriageStatus</th>\n",
       "      <th>education</th>\n",
       "      <th>consumptionAbility</th>\n",
       "      <th>LBS</th>\n",
       "      <th>ct</th>\n",
       "      <th>os</th>\n",
       "      <th>carrier</th>\n",
       "      <th>house</th>\n",
       "    </tr>\n",
       "  </thead>\n",
       "  <tbody>\n",
       "    <tr>\n",
       "      <th>0</th>\n",
       "      <td>26325489</td>\n",
       "      <td>0.8</td>\n",
       "      <td>1.0</td>\n",
       "      <td>0.048780</td>\n",
       "      <td>1.000000</td>\n",
       "      <td>1.0</td>\n",
       "      <td>0.952859</td>\n",
       "      <td>10</td>\n",
       "      <td>2</td>\n",
       "      <td>0.333333</td>\n",
       "      <td>0.0</td>\n",
       "    </tr>\n",
       "    <tr>\n",
       "      <th>1</th>\n",
       "      <td>1184123</td>\n",
       "      <td>0.4</td>\n",
       "      <td>0.5</td>\n",
       "      <td>0.196646</td>\n",
       "      <td>0.285714</td>\n",
       "      <td>0.5</td>\n",
       "      <td>0.805416</td>\n",
       "      <td>10</td>\n",
       "      <td>1</td>\n",
       "      <td>0.333333</td>\n",
       "      <td>0.0</td>\n",
       "    </tr>\n",
       "    <tr>\n",
       "      <th>2</th>\n",
       "      <td>76072711</td>\n",
       "      <td>0.2</td>\n",
       "      <td>0.5</td>\n",
       "      <td>0.219512</td>\n",
       "      <td>0.714286</td>\n",
       "      <td>0.5</td>\n",
       "      <td>0.929789</td>\n",
       "      <td>10</td>\n",
       "      <td>1</td>\n",
       "      <td>1.000000</td>\n",
       "      <td>0.0</td>\n",
       "    </tr>\n",
       "    <tr>\n",
       "      <th>3</th>\n",
       "      <td>63071413</td>\n",
       "      <td>0.8</td>\n",
       "      <td>0.5</td>\n",
       "      <td>0.048780</td>\n",
       "      <td>1.000000</td>\n",
       "      <td>0.5</td>\n",
       "      <td>0.487462</td>\n",
       "      <td>10</td>\n",
       "      <td>1-2</td>\n",
       "      <td>1.000000</td>\n",
       "      <td>0.0</td>\n",
       "    </tr>\n",
       "    <tr>\n",
       "      <th>4</th>\n",
       "      <td>81294159</td>\n",
       "      <td>1.0</td>\n",
       "      <td>0.5</td>\n",
       "      <td>0.048780</td>\n",
       "      <td>0.857143</td>\n",
       "      <td>1.0</td>\n",
       "      <td>0.112337</td>\n",
       "      <td>30</td>\n",
       "      <td>1</td>\n",
       "      <td>1.000000</td>\n",
       "      <td>0.0</td>\n",
       "    </tr>\n",
       "  </tbody>\n",
       "</table>\n",
       "</div>"
      ]
     },
     "execution_count": 53,
     "metadata": {},
     "output_type": "execute_result"
    }
   ],
   "source": [
    "user_feature_base['ct'] = u3\n",
    "user_feature_base.head()"
   ]
  },
  {
   "cell_type": "code",
   "execution_count": 55,
   "metadata": {},
   "outputs": [
    {
     "data": {
      "text/plain": [
       "Counter({1: 1409058,\n         2: 202021,\n         4: 5095,\n         6: 19161,\n         8: 1637616,\n         10: 5850694,\n         12: 112950,\n         14: 834425,\n         16: 4762,\n         18: 19912,\n         20: 609,\n         22: 4338,\n         24: 101747,\n         26: 947785,\n         28: 24959,\n         30: 244907})"
      ]
     },
     "execution_count": 55,
     "metadata": {},
     "output_type": "execute_result"
    }
   ],
   "source": [
    "Counter(user_feature_base['ct'])"
   ]
  },
  {
   "cell_type": "code",
   "execution_count": 56,
   "metadata": {},
   "outputs": [
    {
     "data": {
      "text/html": [
       "<div>\n",
       "<style scoped>\n",
       "    .dataframe tbody tr th:only-of-type {\n",
       "        vertical-align: middle;\n",
       "    }\n",
       "\n",
       "    .dataframe tbody tr th {\n",
       "        vertical-align: top;\n",
       "    }\n",
       "\n",
       "    .dataframe thead th {\n",
       "        text-align: right;\n",
       "    }\n",
       "</style>\n",
       "<table border=\"1\" class=\"dataframe\">\n",
       "  <thead>\n",
       "    <tr style=\"text-align: right;\">\n",
       "      <th></th>\n",
       "      <th>uid</th>\n",
       "      <th>age</th>\n",
       "      <th>gender</th>\n",
       "      <th>marriageStatus</th>\n",
       "      <th>education</th>\n",
       "      <th>consumptionAbility</th>\n",
       "      <th>LBS</th>\n",
       "      <th>ct</th>\n",
       "      <th>os</th>\n",
       "      <th>carrier</th>\n",
       "      <th>house</th>\n",
       "    </tr>\n",
       "  </thead>\n",
       "  <tbody>\n",
       "    <tr>\n",
       "      <th>0</th>\n",
       "      <td>26325489</td>\n",
       "      <td>0.8</td>\n",
       "      <td>1.0</td>\n",
       "      <td>0.048780</td>\n",
       "      <td>1.000000</td>\n",
       "      <td>1.0</td>\n",
       "      <td>0.952859</td>\n",
       "      <td>0.333333</td>\n",
       "      <td>2</td>\n",
       "      <td>0.333333</td>\n",
       "      <td>0.0</td>\n",
       "    </tr>\n",
       "    <tr>\n",
       "      <th>1</th>\n",
       "      <td>1184123</td>\n",
       "      <td>0.4</td>\n",
       "      <td>0.5</td>\n",
       "      <td>0.196646</td>\n",
       "      <td>0.285714</td>\n",
       "      <td>0.5</td>\n",
       "      <td>0.805416</td>\n",
       "      <td>0.333333</td>\n",
       "      <td>1</td>\n",
       "      <td>0.333333</td>\n",
       "      <td>0.0</td>\n",
       "    </tr>\n",
       "    <tr>\n",
       "      <th>2</th>\n",
       "      <td>76072711</td>\n",
       "      <td>0.2</td>\n",
       "      <td>0.5</td>\n",
       "      <td>0.219512</td>\n",
       "      <td>0.714286</td>\n",
       "      <td>0.5</td>\n",
       "      <td>0.929789</td>\n",
       "      <td>0.333333</td>\n",
       "      <td>1</td>\n",
       "      <td>1.000000</td>\n",
       "      <td>0.0</td>\n",
       "    </tr>\n",
       "    <tr>\n",
       "      <th>3</th>\n",
       "      <td>63071413</td>\n",
       "      <td>0.8</td>\n",
       "      <td>0.5</td>\n",
       "      <td>0.048780</td>\n",
       "      <td>1.000000</td>\n",
       "      <td>0.5</td>\n",
       "      <td>0.487462</td>\n",
       "      <td>0.333333</td>\n",
       "      <td>1-2</td>\n",
       "      <td>1.000000</td>\n",
       "      <td>0.0</td>\n",
       "    </tr>\n",
       "    <tr>\n",
       "      <th>4</th>\n",
       "      <td>81294159</td>\n",
       "      <td>1.0</td>\n",
       "      <td>0.5</td>\n",
       "      <td>0.048780</td>\n",
       "      <td>0.857143</td>\n",
       "      <td>1.0</td>\n",
       "      <td>0.112337</td>\n",
       "      <td>1.000000</td>\n",
       "      <td>1</td>\n",
       "      <td>1.000000</td>\n",
       "      <td>0.0</td>\n",
       "    </tr>\n",
       "  </tbody>\n",
       "</table>\n",
       "</div>"
      ],
      "text/plain": [
       "<div>\n",
       "<style scoped>\n",
       "    .dataframe tbody tr th:only-of-type {\n",
       "        vertical-align: middle;\n",
       "    }\n",
       "\n",
       "    .dataframe tbody tr th {\n",
       "        vertical-align: top;\n",
       "    }\n",
       "\n",
       "    .dataframe thead th {\n",
       "        text-align: right;\n",
       "    }\n",
       "</style>\n",
       "<table border=\"1\" class=\"dataframe\">\n",
       "  <thead>\n",
       "    <tr style=\"text-align: right;\">\n",
       "      <th></th>\n",
       "      <th>uid</th>\n",
       "      <th>age</th>\n",
       "      <th>gender</th>\n",
       "      <th>marriageStatus</th>\n",
       "      <th>education</th>\n",
       "      <th>consumptionAbility</th>\n",
       "      <th>LBS</th>\n",
       "      <th>ct</th>\n",
       "      <th>os</th>\n",
       "      <th>carrier</th>\n",
       "      <th>house</th>\n",
       "    </tr>\n",
       "  </thead>\n",
       "  <tbody>\n",
       "    <tr>\n",
       "      <th>0</th>\n",
       "      <td>26325489</td>\n",
       "      <td>0.8</td>\n",
       "      <td>1.0</td>\n",
       "      <td>0.048780</td>\n",
       "      <td>1.000000</td>\n",
       "      <td>1.0</td>\n",
       "      <td>0.952859</td>\n",
       "      <td>0.333333</td>\n",
       "      <td>2</td>\n",
       "      <td>0.333333</td>\n",
       "      <td>0.0</td>\n",
       "    </tr>\n",
       "    <tr>\n",
       "      <th>1</th>\n",
       "      <td>1184123</td>\n",
       "      <td>0.4</td>\n",
       "      <td>0.5</td>\n",
       "      <td>0.196646</td>\n",
       "      <td>0.285714</td>\n",
       "      <td>0.5</td>\n",
       "      <td>0.805416</td>\n",
       "      <td>0.333333</td>\n",
       "      <td>1</td>\n",
       "      <td>0.333333</td>\n",
       "      <td>0.0</td>\n",
       "    </tr>\n",
       "    <tr>\n",
       "      <th>2</th>\n",
       "      <td>76072711</td>\n",
       "      <td>0.2</td>\n",
       "      <td>0.5</td>\n",
       "      <td>0.219512</td>\n",
       "      <td>0.714286</td>\n",
       "      <td>0.5</td>\n",
       "      <td>0.929789</td>\n",
       "      <td>0.333333</td>\n",
       "      <td>1</td>\n",
       "      <td>1.000000</td>\n",
       "      <td>0.0</td>\n",
       "    </tr>\n",
       "    <tr>\n",
       "      <th>3</th>\n",
       "      <td>63071413</td>\n",
       "      <td>0.8</td>\n",
       "      <td>0.5</td>\n",
       "      <td>0.048780</td>\n",
       "      <td>1.000000</td>\n",
       "      <td>0.5</td>\n",
       "      <td>0.487462</td>\n",
       "      <td>0.333333</td>\n",
       "      <td>1-2</td>\n",
       "      <td>1.000000</td>\n",
       "      <td>0.0</td>\n",
       "    </tr>\n",
       "    <tr>\n",
       "      <th>4</th>\n",
       "      <td>81294159</td>\n",
       "      <td>1.0</td>\n",
       "      <td>0.5</td>\n",
       "      <td>0.048780</td>\n",
       "      <td>0.857143</td>\n",
       "      <td>1.0</td>\n",
       "      <td>0.112337</td>\n",
       "      <td>1.000000</td>\n",
       "      <td>1</td>\n",
       "      <td>1.000000</td>\n",
       "      <td>0.0</td>\n",
       "    </tr>\n",
       "  </tbody>\n",
       "</table>\n",
       "</div>"
      ]
     },
     "execution_count": 56,
     "metadata": {},
     "output_type": "execute_result"
    }
   ],
   "source": [
    "user_feature_base['ct'] = user_feature_base['ct'] / user_feature_base['ct'].max()\n",
    "user_feature_base.head()"
   ]
  },
  {
   "cell_type": "code",
   "execution_count": 58,
   "metadata": {},
   "outputs": [
    {
     "data": {
      "text/plain": [
       "Counter({'0': 1446825,\n         '1': 6713370,\n         '1-2': 626623,\n         '2': 2381336,\n         '2-1': 251885})"
      ]
     },
     "execution_count": 58,
     "metadata": {},
     "output_type": "execute_result"
    }
   ],
   "source": [
    "Counter(user_feature_base['os'])"
   ]
  },
  {
   "cell_type": "code",
   "execution_count": 59,
   "metadata": {},
   "outputs": [],
   "source": [
    "def convert_os(x):\n",
    "    if x.isdigit():\n",
    "        return 1 << int(x)\n",
    "    else:\n",
    "        res = 0\n",
    "        for e in x.split('-'):\n",
    "            res += (1 << int(e))\n",
    "        return res"
   ]
  },
  {
   "cell_type": "code",
   "execution_count": 61,
   "metadata": {},
   "outputs": [],
   "source": [
    "u4 = user_feature_base['os'].map(convert_os)"
   ]
  },
  {
   "cell_type": "code",
   "execution_count": 62,
   "metadata": {},
   "outputs": [
    {
     "data": {
      "text/html": [
       "<div>\n",
       "<style scoped>\n",
       "    .dataframe tbody tr th:only-of-type {\n",
       "        vertical-align: middle;\n",
       "    }\n",
       "\n",
       "    .dataframe tbody tr th {\n",
       "        vertical-align: top;\n",
       "    }\n",
       "\n",
       "    .dataframe thead th {\n",
       "        text-align: right;\n",
       "    }\n",
       "</style>\n",
       "<table border=\"1\" class=\"dataframe\">\n",
       "  <thead>\n",
       "    <tr style=\"text-align: right;\">\n",
       "      <th></th>\n",
       "      <th>uid</th>\n",
       "      <th>age</th>\n",
       "      <th>gender</th>\n",
       "      <th>marriageStatus</th>\n",
       "      <th>education</th>\n",
       "      <th>consumptionAbility</th>\n",
       "      <th>LBS</th>\n",
       "      <th>ct</th>\n",
       "      <th>os</th>\n",
       "      <th>carrier</th>\n",
       "      <th>house</th>\n",
       "    </tr>\n",
       "  </thead>\n",
       "  <tbody>\n",
       "    <tr>\n",
       "      <th>0</th>\n",
       "      <td>26325489</td>\n",
       "      <td>0.8</td>\n",
       "      <td>1.0</td>\n",
       "      <td>0.048780</td>\n",
       "      <td>1.000000</td>\n",
       "      <td>1.0</td>\n",
       "      <td>0.952859</td>\n",
       "      <td>0.333333</td>\n",
       "      <td>4</td>\n",
       "      <td>0.333333</td>\n",
       "      <td>0.0</td>\n",
       "    </tr>\n",
       "    <tr>\n",
       "      <th>1</th>\n",
       "      <td>1184123</td>\n",
       "      <td>0.4</td>\n",
       "      <td>0.5</td>\n",
       "      <td>0.196646</td>\n",
       "      <td>0.285714</td>\n",
       "      <td>0.5</td>\n",
       "      <td>0.805416</td>\n",
       "      <td>0.333333</td>\n",
       "      <td>2</td>\n",
       "      <td>0.333333</td>\n",
       "      <td>0.0</td>\n",
       "    </tr>\n",
       "    <tr>\n",
       "      <th>2</th>\n",
       "      <td>76072711</td>\n",
       "      <td>0.2</td>\n",
       "      <td>0.5</td>\n",
       "      <td>0.219512</td>\n",
       "      <td>0.714286</td>\n",
       "      <td>0.5</td>\n",
       "      <td>0.929789</td>\n",
       "      <td>0.333333</td>\n",
       "      <td>2</td>\n",
       "      <td>1.000000</td>\n",
       "      <td>0.0</td>\n",
       "    </tr>\n",
       "    <tr>\n",
       "      <th>3</th>\n",
       "      <td>63071413</td>\n",
       "      <td>0.8</td>\n",
       "      <td>0.5</td>\n",
       "      <td>0.048780</td>\n",
       "      <td>1.000000</td>\n",
       "      <td>0.5</td>\n",
       "      <td>0.487462</td>\n",
       "      <td>0.333333</td>\n",
       "      <td>6</td>\n",
       "      <td>1.000000</td>\n",
       "      <td>0.0</td>\n",
       "    </tr>\n",
       "    <tr>\n",
       "      <th>4</th>\n",
       "      <td>81294159</td>\n",
       "      <td>1.0</td>\n",
       "      <td>0.5</td>\n",
       "      <td>0.048780</td>\n",
       "      <td>0.857143</td>\n",
       "      <td>1.0</td>\n",
       "      <td>0.112337</td>\n",
       "      <td>1.000000</td>\n",
       "      <td>2</td>\n",
       "      <td>1.000000</td>\n",
       "      <td>0.0</td>\n",
       "    </tr>\n",
       "  </tbody>\n",
       "</table>\n",
       "</div>"
      ],
      "text/plain": [
       "<div>\n",
       "<style scoped>\n",
       "    .dataframe tbody tr th:only-of-type {\n",
       "        vertical-align: middle;\n",
       "    }\n",
       "\n",
       "    .dataframe tbody tr th {\n",
       "        vertical-align: top;\n",
       "    }\n",
       "\n",
       "    .dataframe thead th {\n",
       "        text-align: right;\n",
       "    }\n",
       "</style>\n",
       "<table border=\"1\" class=\"dataframe\">\n",
       "  <thead>\n",
       "    <tr style=\"text-align: right;\">\n",
       "      <th></th>\n",
       "      <th>uid</th>\n",
       "      <th>age</th>\n",
       "      <th>gender</th>\n",
       "      <th>marriageStatus</th>\n",
       "      <th>education</th>\n",
       "      <th>consumptionAbility</th>\n",
       "      <th>LBS</th>\n",
       "      <th>ct</th>\n",
       "      <th>os</th>\n",
       "      <th>carrier</th>\n",
       "      <th>house</th>\n",
       "    </tr>\n",
       "  </thead>\n",
       "  <tbody>\n",
       "    <tr>\n",
       "      <th>0</th>\n",
       "      <td>26325489</td>\n",
       "      <td>0.8</td>\n",
       "      <td>1.0</td>\n",
       "      <td>0.048780</td>\n",
       "      <td>1.000000</td>\n",
       "      <td>1.0</td>\n",
       "      <td>0.952859</td>\n",
       "      <td>0.333333</td>\n",
       "      <td>4</td>\n",
       "      <td>0.333333</td>\n",
       "      <td>0.0</td>\n",
       "    </tr>\n",
       "    <tr>\n",
       "      <th>1</th>\n",
       "      <td>1184123</td>\n",
       "      <td>0.4</td>\n",
       "      <td>0.5</td>\n",
       "      <td>0.196646</td>\n",
       "      <td>0.285714</td>\n",
       "      <td>0.5</td>\n",
       "      <td>0.805416</td>\n",
       "      <td>0.333333</td>\n",
       "      <td>2</td>\n",
       "      <td>0.333333</td>\n",
       "      <td>0.0</td>\n",
       "    </tr>\n",
       "    <tr>\n",
       "      <th>2</th>\n",
       "      <td>76072711</td>\n",
       "      <td>0.2</td>\n",
       "      <td>0.5</td>\n",
       "      <td>0.219512</td>\n",
       "      <td>0.714286</td>\n",
       "      <td>0.5</td>\n",
       "      <td>0.929789</td>\n",
       "      <td>0.333333</td>\n",
       "      <td>2</td>\n",
       "      <td>1.000000</td>\n",
       "      <td>0.0</td>\n",
       "    </tr>\n",
       "    <tr>\n",
       "      <th>3</th>\n",
       "      <td>63071413</td>\n",
       "      <td>0.8</td>\n",
       "      <td>0.5</td>\n",
       "      <td>0.048780</td>\n",
       "      <td>1.000000</td>\n",
       "      <td>0.5</td>\n",
       "      <td>0.487462</td>\n",
       "      <td>0.333333</td>\n",
       "      <td>6</td>\n",
       "      <td>1.000000</td>\n",
       "      <td>0.0</td>\n",
       "    </tr>\n",
       "    <tr>\n",
       "      <th>4</th>\n",
       "      <td>81294159</td>\n",
       "      <td>1.0</td>\n",
       "      <td>0.5</td>\n",
       "      <td>0.048780</td>\n",
       "      <td>0.857143</td>\n",
       "      <td>1.0</td>\n",
       "      <td>0.112337</td>\n",
       "      <td>1.000000</td>\n",
       "      <td>2</td>\n",
       "      <td>1.000000</td>\n",
       "      <td>0.0</td>\n",
       "    </tr>\n",
       "  </tbody>\n",
       "</table>\n",
       "</div>"
      ]
     },
     "execution_count": 62,
     "metadata": {},
     "output_type": "execute_result"
    }
   ],
   "source": [
    "user_feature_base['os'] = u4\n",
    "user_feature_base.head()"
   ]
  },
  {
   "cell_type": "code",
   "execution_count": 64,
   "metadata": {},
   "outputs": [
    {
     "data": {
      "text/plain": [
       "Counter({1: 1446825, 2: 6713370, 4: 2381336, 6: 878508})"
      ]
     },
     "execution_count": 64,
     "metadata": {},
     "output_type": "execute_result"
    }
   ],
   "source": [
    "Counter(user_feature_base['os'])"
   ]
  },
  {
   "cell_type": "code",
   "execution_count": 65,
   "metadata": {},
   "outputs": [
    {
     "data": {
      "text/html": [
       "<div>\n",
       "<style scoped>\n",
       "    .dataframe tbody tr th:only-of-type {\n",
       "        vertical-align: middle;\n",
       "    }\n",
       "\n",
       "    .dataframe tbody tr th {\n",
       "        vertical-align: top;\n",
       "    }\n",
       "\n",
       "    .dataframe thead th {\n",
       "        text-align: right;\n",
       "    }\n",
       "</style>\n",
       "<table border=\"1\" class=\"dataframe\">\n",
       "  <thead>\n",
       "    <tr style=\"text-align: right;\">\n",
       "      <th></th>\n",
       "      <th>uid</th>\n",
       "      <th>age</th>\n",
       "      <th>gender</th>\n",
       "      <th>marriageStatus</th>\n",
       "      <th>education</th>\n",
       "      <th>consumptionAbility</th>\n",
       "      <th>LBS</th>\n",
       "      <th>ct</th>\n",
       "      <th>os</th>\n",
       "      <th>carrier</th>\n",
       "      <th>house</th>\n",
       "    </tr>\n",
       "  </thead>\n",
       "  <tbody>\n",
       "    <tr>\n",
       "      <th>0</th>\n",
       "      <td>26325489</td>\n",
       "      <td>0.8</td>\n",
       "      <td>1.0</td>\n",
       "      <td>0.048780</td>\n",
       "      <td>1.000000</td>\n",
       "      <td>1.0</td>\n",
       "      <td>0.952859</td>\n",
       "      <td>0.333333</td>\n",
       "      <td>0.666667</td>\n",
       "      <td>0.333333</td>\n",
       "      <td>0.0</td>\n",
       "    </tr>\n",
       "    <tr>\n",
       "      <th>1</th>\n",
       "      <td>1184123</td>\n",
       "      <td>0.4</td>\n",
       "      <td>0.5</td>\n",
       "      <td>0.196646</td>\n",
       "      <td>0.285714</td>\n",
       "      <td>0.5</td>\n",
       "      <td>0.805416</td>\n",
       "      <td>0.333333</td>\n",
       "      <td>0.333333</td>\n",
       "      <td>0.333333</td>\n",
       "      <td>0.0</td>\n",
       "    </tr>\n",
       "    <tr>\n",
       "      <th>2</th>\n",
       "      <td>76072711</td>\n",
       "      <td>0.2</td>\n",
       "      <td>0.5</td>\n",
       "      <td>0.219512</td>\n",
       "      <td>0.714286</td>\n",
       "      <td>0.5</td>\n",
       "      <td>0.929789</td>\n",
       "      <td>0.333333</td>\n",
       "      <td>0.333333</td>\n",
       "      <td>1.000000</td>\n",
       "      <td>0.0</td>\n",
       "    </tr>\n",
       "    <tr>\n",
       "      <th>3</th>\n",
       "      <td>63071413</td>\n",
       "      <td>0.8</td>\n",
       "      <td>0.5</td>\n",
       "      <td>0.048780</td>\n",
       "      <td>1.000000</td>\n",
       "      <td>0.5</td>\n",
       "      <td>0.487462</td>\n",
       "      <td>0.333333</td>\n",
       "      <td>1.000000</td>\n",
       "      <td>1.000000</td>\n",
       "      <td>0.0</td>\n",
       "    </tr>\n",
       "    <tr>\n",
       "      <th>4</th>\n",
       "      <td>81294159</td>\n",
       "      <td>1.0</td>\n",
       "      <td>0.5</td>\n",
       "      <td>0.048780</td>\n",
       "      <td>0.857143</td>\n",
       "      <td>1.0</td>\n",
       "      <td>0.112337</td>\n",
       "      <td>1.000000</td>\n",
       "      <td>0.333333</td>\n",
       "      <td>1.000000</td>\n",
       "      <td>0.0</td>\n",
       "    </tr>\n",
       "  </tbody>\n",
       "</table>\n",
       "</div>"
      ],
      "text/plain": [
       "<div>\n",
       "<style scoped>\n",
       "    .dataframe tbody tr th:only-of-type {\n",
       "        vertical-align: middle;\n",
       "    }\n",
       "\n",
       "    .dataframe tbody tr th {\n",
       "        vertical-align: top;\n",
       "    }\n",
       "\n",
       "    .dataframe thead th {\n",
       "        text-align: right;\n",
       "    }\n",
       "</style>\n",
       "<table border=\"1\" class=\"dataframe\">\n",
       "  <thead>\n",
       "    <tr style=\"text-align: right;\">\n",
       "      <th></th>\n",
       "      <th>uid</th>\n",
       "      <th>age</th>\n",
       "      <th>gender</th>\n",
       "      <th>marriageStatus</th>\n",
       "      <th>education</th>\n",
       "      <th>consumptionAbility</th>\n",
       "      <th>LBS</th>\n",
       "      <th>ct</th>\n",
       "      <th>os</th>\n",
       "      <th>carrier</th>\n",
       "      <th>house</th>\n",
       "    </tr>\n",
       "  </thead>\n",
       "  <tbody>\n",
       "    <tr>\n",
       "      <th>0</th>\n",
       "      <td>26325489</td>\n",
       "      <td>0.8</td>\n",
       "      <td>1.0</td>\n",
       "      <td>0.048780</td>\n",
       "      <td>1.000000</td>\n",
       "      <td>1.0</td>\n",
       "      <td>0.952859</td>\n",
       "      <td>0.333333</td>\n",
       "      <td>0.666667</td>\n",
       "      <td>0.333333</td>\n",
       "      <td>0.0</td>\n",
       "    </tr>\n",
       "    <tr>\n",
       "      <th>1</th>\n",
       "      <td>1184123</td>\n",
       "      <td>0.4</td>\n",
       "      <td>0.5</td>\n",
       "      <td>0.196646</td>\n",
       "      <td>0.285714</td>\n",
       "      <td>0.5</td>\n",
       "      <td>0.805416</td>\n",
       "      <td>0.333333</td>\n",
       "      <td>0.333333</td>\n",
       "      <td>0.333333</td>\n",
       "      <td>0.0</td>\n",
       "    </tr>\n",
       "    <tr>\n",
       "      <th>2</th>\n",
       "      <td>76072711</td>\n",
       "      <td>0.2</td>\n",
       "      <td>0.5</td>\n",
       "      <td>0.219512</td>\n",
       "      <td>0.714286</td>\n",
       "      <td>0.5</td>\n",
       "      <td>0.929789</td>\n",
       "      <td>0.333333</td>\n",
       "      <td>0.333333</td>\n",
       "      <td>1.000000</td>\n",
       "      <td>0.0</td>\n",
       "    </tr>\n",
       "    <tr>\n",
       "      <th>3</th>\n",
       "      <td>63071413</td>\n",
       "      <td>0.8</td>\n",
       "      <td>0.5</td>\n",
       "      <td>0.048780</td>\n",
       "      <td>1.000000</td>\n",
       "      <td>0.5</td>\n",
       "      <td>0.487462</td>\n",
       "      <td>0.333333</td>\n",
       "      <td>1.000000</td>\n",
       "      <td>1.000000</td>\n",
       "      <td>0.0</td>\n",
       "    </tr>\n",
       "    <tr>\n",
       "      <th>4</th>\n",
       "      <td>81294159</td>\n",
       "      <td>1.0</td>\n",
       "      <td>0.5</td>\n",
       "      <td>0.048780</td>\n",
       "      <td>0.857143</td>\n",
       "      <td>1.0</td>\n",
       "      <td>0.112337</td>\n",
       "      <td>1.000000</td>\n",
       "      <td>0.333333</td>\n",
       "      <td>1.000000</td>\n",
       "      <td>0.0</td>\n",
       "    </tr>\n",
       "  </tbody>\n",
       "</table>\n",
       "</div>"
      ]
     },
     "execution_count": 65,
     "metadata": {},
     "output_type": "execute_result"
    }
   ],
   "source": [
    "user_feature_base['os'] = user_feature_base['os'] / user_feature_base['os'].max()\n",
    "user_feature_base.head()"
   ]
  },
  {
   "cell_type": "code",
   "execution_count": 2,
   "metadata": {},
   "outputs": [],
   "source": [
    "# 数据处理工具\n",
    "import pandas as pd\n",
    "import numpy as np\n",
    "import random as rnd\n",
    "from collections import Counter\n",
    "import utils\n",
    "\n",
    "# 可视化工具\n",
    "import seaborn as sns\n",
    "import matplotlib.pyplot as plt\n",
    "%matplotlib inline"
   ]
  },
  {
   "cell_type": "heading",
   "metadata": {},
   "level": 3,
   "source": [
    "Checkpoint3: 加载embedding，进一步分析"
   ]
  },
  {
   "cell_type": "code",
   "execution_count": 3,
   "metadata": {},
   "outputs": [],
   "source": [
    "user_feature_embedding = pd.read_csv('data/user_feature_embedding.csv')"
   ]
  },
  {
   "cell_type": "code",
   "execution_count": 3,
   "metadata": {},
   "outputs": [
    {
     "data": {
      "text/plain": [
       "(array([  875672.,  1926471.,  5036442.,  2461430.,  2296470., 10924559.,\n           73484.,  1379015.,  4263270.,   880878.,   774287.,  1489172.,\n          986292.,  4240575.,  5383132.,    46353.,  1226829., 10272302.,\n         2003323.,  1336455.,  3195768.,   676747.,  5439454.,  3740710.,\n         6425364.,   316411.,   871131.,  2987055.,  2062397.,  4753904.,\n          514743.,   399236.,   229243.,  1138442.,  9599843.,  2081550.,\n         1901840., 10267918.,  2111284.,   110070.,   380315.,  1513640.,\n         2598868.,  1506205.,   713735.,   495743.,  4427164.,   891933.,\n         1227563.,  1453627.,   495973.,    65277.,  2519084.,   351881.,\n         3305727.,  1209317.,  2183413.,  3207447.,  2199184.,  1855364.,\n          819997.,        0.,        0.,        0.,        0.,        0.,\n               0.,        0.,        0.,        0.,        0.,        0.,\n               0.,        0.,        0.,        0.,        0.,        0.,\n               0.,        0.,        0.,        0.,        0.,        0.,\n               0.,        0.,        0.,        0.,        0.,        0.,\n               0.,        0.,        0.,        0.,        0.,        0.,\n               0.,        0.,        0.,   969798.]),\n array([  1.  ,   2.99,   4.98,   6.97,   8.96,  10.95,  12.94,  14.93,\n         16.92,  18.91,  20.9 ,  22.89,  24.88,  26.87,  28.86,  30.85,\n         32.84,  34.83,  36.82,  38.81,  40.8 ,  42.79,  44.78,  46.77,\n         48.76,  50.75,  52.74,  54.73,  56.72,  58.71,  60.7 ,  62.69,\n         64.68,  66.67,  68.66,  70.65,  72.64,  74.63,  76.62,  78.61,\n         80.6 ,  82.59,  84.58,  86.57,  88.56,  90.55,  92.54,  94.53,\n         96.52,  98.51, 100.5 , 102.49, 104.48, 106.47, 108.46, 110.45,\n        112.44, 114.43, 116.42, 118.41, 120.4 , 122.39, 124.38, 126.37,\n        128.36, 130.35, 132.34, 134.33, 136.32, 138.31, 140.3 , 142.29,\n        144.28, 146.27, 148.26, 150.25, 152.24, 154.23, 156.22, 158.21,\n        160.2 , 162.19, 164.18, 166.17, 168.16, 170.15, 172.14, 174.13,\n        176.12, 178.11, 180.1 , 182.09, 184.08, 186.07, 188.06, 190.05,\n        192.04, 194.03, 196.02, 198.01, 200.  ]),\n <a list of 100 Patch objects>)"
      ]
     },
     "execution_count": 3,
     "metadata": {},
     "output_type": "execute_result"
    },
    {
     "data": {
      "image/png": "[encoded data removed]",
      "text/plain": [
       "<Figure size 432x288 with 1 Axes>"
      ]
     },
     "metadata": {},
     "output_type": "display_data"
    }
   ],
   "source": [
    "status_int1 = list()\n",
    "for e in user_feature_embedding['interest1'].fillna('200'):\n",
    "    if e.isdigit():\n",
    "        status_int1.append(int(e))\n",
    "    else:\n",
    "        for ee in e.split('-'):\n",
    "            status_int1.append(int(ee))\n",
    "# s = pd.Series(sorted(status))\n",
    "# s.describe()\n",
    "# Counter(status_int1)\n",
    "plt.hist(status_int1, bins=100)"
   ]
  },
  {
   "cell_type": "code",
   "execution_count": 9,
   "metadata": {},
   "outputs": [
    {
     "data": {
      "text/plain": [
       "2"
      ]
     },
     "execution_count": 9,
     "metadata": {},
     "output_type": "execute_result"
    }
   ],
   "source": [
    "c_int1 = Counter(status_int1)"
   ]
  },
  {
   "cell_type": "code",
   "execution_count": 26,
   "metadata": {},
   "outputs": [
    {
     "data": {
      "text/plain": [
       "2"
      ]
     },
     "execution_count": 26,
     "metadata": {},
     "output_type": "execute_result"
    }
   ],
   "source": [
    "dic = dict()\n",
    "for e in c_int1.keys():\n",
    "    if c_int1.get(e) < 500:\n",
    "        dic[e] = c_int1.get(e)\n",
    "len(dic)"
   ]
  },
  {
   "cell_type": "code",
   "execution_count": 10,
   "metadata": {},
   "outputs": [
    {
     "data": {
      "text/plain": [
       "(array([4278529., 3350880., 2270506., 5251494., 5361849., 2309776.,\n        2141332., 4309855., 1844409.,  612996., 1048807., 7965862.,\n        1294136.,   15312.,       0.,       0.,       0.,       0.,\n              0., 3995451.]),\n array([  1. ,   7.2,  13.4,  19.6,  25.8,  32. ,  38.2,  44.4,  50.6,\n         56.8,  63. ,  69.2,  75.4,  81.6,  87.8,  94. , 100.2, 106.4,\n        112.6, 118.8, 125. ]),\n <a list of 20 Patch objects>)"
      ]
     },
     "execution_count": 10,
     "metadata": {},
     "output_type": "execute_result"
    },
    {
     "data": {
      "image/png": "[encoded data removed]",
      "text/plain": [
       "<Figure size 432x288 with 1 Axes>"
      ]
     },
     "metadata": {},
     "output_type": "display_data"
    }
   ],
   "source": [
    "status_int2 = list()\n",
    "for e in user_feature_embedding['interest2'].fillna('125'):\n",
    "    if e.isdigit():\n",
    "        status_int2.append(int(e))\n",
    "    else:\n",
    "        for ee in e.split('-'):\n",
    "            status_int2.append(int(ee))\n",
    "# s = pd.Series(sorted(status))\n",
    "# s.describe()\n",
    "# Counter(status_int2)\n",
    "plt.hist(status_int2, bins=20)"
   ]
  },
  {
   "cell_type": "code",
   "execution_count": 12,
   "metadata": {},
   "outputs": [
    {
     "data": {
      "text/plain": [
       "(array([  623643.,   520870.,   567241.,   489962.,        0.,        0.,\n               0.,        0.,        0.,        0.,        0.,        0.,\n               0.,        0.,        0.,        0.,        0.,        0.,\n               0., 11120494.]),\n array([ 1.  ,  3.45,  5.9 ,  8.35, 10.8 , 13.25, 15.7 , 18.15, 20.6 ,\n        23.05, 25.5 , 27.95, 30.4 , 32.85, 35.3 , 37.75, 40.2 , 42.65,\n        45.1 , 47.55, 50.  ]),\n <a list of 20 Patch objects>)"
      ]
     },
     "execution_count": 12,
     "metadata": {},
     "output_type": "execute_result"
    },
    {
     "data": {
      "image/png": "[encoded data removed]",
      "text/plain": [
       "<Figure size 432x288 with 1 Axes>"
      ]
     },
     "metadata": {},
     "output_type": "display_data"
    }
   ],
   "source": [
    "status_int3 = list()\n",
    "for e in user_feature_embedding['interest3'].fillna('50'):\n",
    "    if e.isdigit():\n",
    "        status_int3.append(int(e))\n",
    "    else:\n",
    "        for ee in e.split('-'):\n",
    "            status_int3.append(int(ee))\n",
    "# s = pd.Series(sorted(status))\n",
    "# s.describe()\n",
    "# Counter(status_int3)\n",
    "plt.hist(status_int3, bins=20)"
   ]
  },
  {
   "cell_type": "code",
   "execution_count": 13,
   "metadata": {},
   "outputs": [
    {
     "data": {
      "text/plain": [
       "(array([  187887.,   269586.,   102946.,   184397.,        0.,        0.,\n               0.,        0.,        0.,        0.,        0.,        0.,\n               0.,        0.,        0.,        0.,        0.,        0.,\n               0., 11250016.]),\n array([ 1.  ,  3.45,  5.9 ,  8.35, 10.8 , 13.25, 15.7 , 18.15, 20.6 ,\n        23.05, 25.5 , 27.95, 30.4 , 32.85, 35.3 , 37.75, 40.2 , 42.65,\n        45.1 , 47.55, 50.  ]),\n <a list of 20 Patch objects>)"
      ]
     },
     "execution_count": 13,
     "metadata": {},
     "output_type": "execute_result"
    },
    {
     "data": {
      "image/png": "[encoded data removed]",
      "text/plain": [
       "<Figure size 432x288 with 1 Axes>"
      ]
     },
     "metadata": {},
     "output_type": "display_data"
    }
   ],
   "source": [
    "status_int4 = list()\n",
    "for e in user_feature_embedding['interest4'].fillna('50'):\n",
    "    if e.isdigit():\n",
    "        status_int4.append(int(e))\n",
    "    else:\n",
    "        for ee in e.split('-'):\n",
    "            status_int4.append(int(ee))\n",
    "# s = pd.Series(sorted(status))\n",
    "# s.describe()\n",
    "# Counter(status_int4)\n",
    "plt.hist(status_int4, bins=20)"
   ]
  },
  {
   "cell_type": "code",
   "execution_count": 15,
   "metadata": {},
   "outputs": [
    {
     "data": {
      "text/plain": [
       "(array([1.7660170e+07, 7.8576980e+06, 7.0185760e+06, 9.0003750e+06,\n        6.7905000e+06, 6.9474080e+06, 1.6503459e+07, 1.0863113e+07,\n        5.6811450e+06, 1.3526504e+07, 1.1100105e+07, 4.6605920e+06,\n        7.4569330e+06, 7.0553250e+06, 5.2774940e+06, 1.0486508e+07,\n        6.2886750e+06, 1.5289965e+07, 1.7243000e+04, 2.9052650e+06]),\n array([  1.  ,   8.45,  15.9 ,  23.35,  30.8 ,  38.25,  45.7 ,  53.15,\n         60.6 ,  68.05,  75.5 ,  82.95,  90.4 ,  97.85, 105.3 , 112.75,\n        120.2 , 127.65, 135.1 , 142.55, 150.  ]),\n <a list of 20 Patch objects>)"
      ]
     },
     "execution_count": 15,
     "metadata": {},
     "output_type": "execute_result"
    },
    {
     "data": {
      "image/png": "[encoded data removed]",
      "text/plain": [
       "<Figure size 432x288 with 1 Axes>"
      ]
     },
     "metadata": {},
     "output_type": "display_data"
    }
   ],
   "source": [
    "status_int5 = list()\n",
    "for e in user_feature_embedding['interest5'].fillna('150'):\n",
    "    if e.isdigit():\n",
    "        status_int5.append(int(e))\n",
    "    else:\n",
    "        for ee in e.split('-'):\n",
    "            status_int5.append(int(ee))\n",
    "# s = pd.Series(sorted(status))\n",
    "# s.describe()\n",
    "# Counter(status_int5)\n",
    "plt.hist(status_int5, bins=20)"
   ]
  },
  {
   "cell_type": "code",
   "execution_count": 5,
   "metadata": {},
   "outputs": [],
   "source": [
    "status_kw1 = list()\n",
    "for e in user_feature_embedding['kw1'].fillna('0'):\n",
    "    if e.isdigit():\n",
    "        status_kw1.append(int(e))\n",
    "    else:\n",
    "        for ee in e.split('-'):\n",
    "            status_kw1.append(int(ee))\n",
    "# s = pd.Series(sorted(set(status_kw1)))\n",
    "# s.describe()\n",
    "# kw1_count = Counter(status_kw1)\n",
    "# kw1_count\n",
    "# plt.hist(status_kw1, bins=30)"
   ]
  },
  {
   "cell_type": "code",
   "execution_count": 6,
   "metadata": {},
   "outputs": [
    {
     "data": {
      "text/plain": [
       "(array([3482512., 1663863., 1951316., 1594329., 1668522., 1108284.,\n        1787048., 1529175., 1572524., 1235373., 2034715., 1433274.,\n        1681487., 1759310., 1457927., 1882630., 1285611., 1618665.,\n        2140537., 1923999., 1719290., 2037229., 1700413., 1331236.,\n        1346666., 1262342., 1866740., 1480267., 1740719., 1248960.]),\n array([     0.        ,  26558.03333333,  53116.06666667,  79674.1       ,\n        106232.13333333, 132790.16666667, 159348.2       , 185906.23333333,\n        212464.26666667, 239022.3       , 265580.33333333, 292138.36666667,\n        318696.4       , 345254.43333333, 371812.46666667, 398370.5       ,\n        424928.53333333, 451486.56666667, 478044.6       , 504602.63333333,\n        531160.66666667, 557718.7       , 584276.73333333, 610834.76666667,\n        637392.8       , 663950.83333333, 690508.86666667, 717066.9       ,\n        743624.93333333, 770182.96666667, 796741.        ]),\n <a list of 30 Patch objects>)"
      ]
     },
     "execution_count": 6,
     "metadata": {},
     "output_type": "execute_result"
    },
    {
     "data": {
      "image/png": "[encoded data removed]",
      "text/plain": [
       "<Figure size 432x288 with 1 Axes>"
      ]
     },
     "metadata": {},
     "output_type": "display_data"
    }
   ],
   "source": [
    "plt.hist(status_kw1, bins=30)"
   ]
  },
  {
   "cell_type": "code",
   "execution_count": 8,
   "metadata": {},
   "outputs": [
    {
     "data": {
      "text/plain": [
       "250978"
      ]
     },
     "execution_count": 8,
     "metadata": {},
     "output_type": "execute_result"
    }
   ],
   "source": [
    "c = Counter(status_kw1)\n",
    "dic = dict()\n",
    "for e in c.keys():\n",
    "    if c.get(e) < 400:\n",
    "        dic[e] = c.get(e)\n",
    "len(dic)"
   ]
  },
  {
   "cell_type": "code",
   "execution_count": 9,
   "metadata": {},
   "outputs": [
    {
     "name": "stdout",
     "output_type": "stream",
     "text": [
      "250978\n12333\n"
     ]
    }
   ],
   "source": [
    "dic_less_than_400 = dict()\n",
    "dic_more_than_400 = dict()\n",
    "for e in c.keys():\n",
    "    if c.get(e) < 400:\n",
    "        dic_less_than_400[e] = c.get(e)\n",
    "    else:\n",
    "        dic_more_than_400[e] = c.get(e)\n",
    "print(len(dic_less_than_400))\n",
    "print(len(dic_more_than_400))"
   ]
  },
  {
   "cell_type": "heading",
   "metadata": {},
   "level": 3,
   "source": [
    "出现次数少于400次的kw1竟然占了所有kw1的95%，直接砍掉即可"
   ]
  },
  {
   "cell_type": "code",
   "execution_count": 35,
   "metadata": {},
   "outputs": [
    {
     "data": {
      "text/plain": [
       "(array([157150.,  32621.,  15546.,   9810.,   6175.,   4559.,   3628.,\n          3053.,   2233.,   1829.,   1712.,   1503.,   1233.,   1081.,\n           962.,    952.,    761.,    710.,    663.,    594.,    555.,\n           542.,    483.,    456.,    424.,    390.,    364.,    320.,\n           334.,    335.]),\n array([  1.        ,  14.26666667,  27.53333333,  40.8       ,\n         54.06666667,  67.33333333,  80.6       ,  93.86666667,\n        107.13333333, 120.4       , 133.66666667, 146.93333333,\n        160.2       , 173.46666667, 186.73333333, 200.        ,\n        213.26666667, 226.53333333, 239.8       , 253.06666667,\n        266.33333333, 279.6       , 292.86666667, 306.13333333,\n        319.4       , 332.66666667, 345.93333333, 359.2       ,\n        372.46666667, 385.73333333, 399.        ]),\n <a list of 30 Patch objects>)"
      ]
     },
     "execution_count": 35,
     "metadata": {},
     "output_type": "execute_result"
    },
    {
     "data": {
      "image/png": "[encoded data removed]",
      "text/plain": [
       "<Figure size 432x288 with 1 Axes>"
      ]
     },
     "metadata": {},
     "output_type": "display_data"
    }
   ],
   "source": [
    "plt.hist(dic_less_than_400.values(), bins=30)"
   ]
  },
  {
   "cell_type": "code",
   "execution_count": 65,
   "metadata": {},
   "outputs": [],
   "source": [
    "cleaned_kw1 = utils.remove_rare_labels(user_feature_embedding['kw1'], dic_less_than_400)\n"
   ]
  },
  {
   "cell_type": "code",
   "execution_count": 66,
   "metadata": {},
   "outputs": [
    {
     "data": {
      "text/plain": [
       "dtype('O')"
      ]
     },
     "execution_count": 66,
     "metadata": {},
     "output_type": "execute_result"
    }
   ],
   "source": [
    "user_feature_embedding['kw1'][:10]\n",
    "user_feature_embedding['kw1'].dtypes"
   ]
  },
  {
   "cell_type": "code",
   "execution_count": 67,
   "metadata": {
    "collapsed": false
   },
   "outputs": [
    {
     "data": {
      "text/plain": [
       "dtype('O')"
      ]
     },
     "execution_count": 67,
     "metadata": {},
     "output_type": "execute_result"
    }
   ],
   "source": [
    "cleaned_kw1[:10].dtype"
   ]
  },
  {
   "cell_type": "code",
   "execution_count": 69,
   "metadata": {},
   "outputs": [],
   "source": [
    "status_kw1_cleaned = list()\n",
    "for i, e in enumerate(cleaned_kw1.fillna('0')):\n",
    "    if e.isdigit():\n",
    "        status_kw1_cleaned.append(int(e))\n",
    "    else:\n",
    "        for ee in e.split('-'):\n",
    "            status_kw1_cleaned.append(int(ee))\n",
    "\n",
    "kw1_cleaned_count = Counter(status_kw1_cleaned)\n"
   ]
  },
  {
   "cell_type": "code",
   "execution_count": 73,
   "metadata": {
    "collapsed": false
   },
   "outputs": [
    {
     "name": "stdout",
     "output_type": "stream",
     "text": [
      "250978\n12333\n0\n12333\n{}\n{}\n{}\n"
     ]
    }
   ],
   "source": [
    "dic_less_than_400_cleaned = dict()\n",
    "dic_more_than_400_cleaned = dict()\n",
    "\n",
    "for e in kw1_cleaned_count.keys():\n",
    "    if kw1_cleaned_count.get(e) < 400:\n",
    "        dic_less_than_400_cleaned[e] = kw1_cleaned_count.get(e)\n",
    "    elif kw1_cleaned_count.get(e) >= 400:\n",
    "        dic_more_than_400_cleaned[e] = kw1_cleaned_count.get(e)\n",
    "\n",
    "print(len(dic_less_than_400))\n",
    "print(len(dic_more_than_400))\n",
    "print(len(dic_less_than_400_cleaned))\n",
    "print(len(dic_more_than_400_cleaned))\n"
   ]
  },
  {
   "cell_type": "code",
   "execution_count": 75,
   "metadata": {},
   "outputs": [],
   "source": [
    "user_feature_embedding['kw1'] = cleaned_kw1\n",
    "user_feature_embedding.to_csv('data/user_feature_embedding_kw1_cleaned.csv', columns=column_embedding, index=False)"
   ]
  },
  {
   "cell_type": "heading",
   "metadata": {},
   "level": 3,
   "source": [
    "Checkpoint4 加载清理kw1后的数据"
   ]
  },
  {
   "cell_type": "code",
   "execution_count": 2,
   "metadata": {},
   "outputs": [],
   "source": [
    "# 数据处理工具\n",
    "import pandas as pd\n",
    "import numpy as np\n",
    "import random as rnd\n",
    "from collections import Counter\n",
    "import utils\n",
    "\n",
    "# 可视化工具\n",
    "import seaborn as sns\n",
    "import matplotlib.pyplot as plt\n",
    "%matplotlib inline\n",
    "\n",
    "\n",
    "column_base = ['uid', 'age', 'gender', 'marriageStatus', 'education', 'consumptionAbility',\n",
    "               'LBS', 'ct', 'os', 'carrier', 'house']\n",
    "column_embedding = ['uid', 'interest1', 'interest2', 'interest3', 'interest4', 'interest5',\n",
    "                    'kw1', 'kw2', 'kw3',\n",
    "                    'topic1', 'topic2', 'topic3',\n",
    "                    'appIdInstall', 'appIdAction']"
   ]
  },
  {
   "cell_type": "code",
   "execution_count": 3,
   "metadata": {},
   "outputs": [],
   "source": [
    "user_feature_embedding_kw1_cleaned = pd.read_csv('data/user_feature_embedding_kw1_cleaned.csv')"
   ]
  },
  {
   "cell_type": "code",
   "execution_count": 4,
   "metadata": {},
   "outputs": [
    {
     "data": {
      "text/plain": [
       "(array([1568505.,  548084.,  202467.,  436636.,  574554.,  409895.,\n         339206., 1507100.,  350129., 1193651.,  647975.,  317851.,\n         504191.,  538693., 1527878.,  290570.,  691893.,  286841.,\n         343882.,  261694.,  218743.,  206236.,  340163.,  681902.,\n         507728.,  368354.,  805495.,  408011.,  675229.,  305782.,\n        1090971.,  801576.,  275027.,  534908.,  454453.,  501152.,\n         903509.,  444504.,  397344.,  356527.,  495211.,  301572.,\n         627575., 1031649.,  267326.,  465472., 1385056.,  252833.,\n         379984.,  348665.,  384365.,  639544.,  187975.,  278325.,\n         985569.,  298741.,  183668.,  417724.,  581330.,  374356.,\n         765350.,  542990.,  939998.,  567672., 1038396.,  671107.,\n         892830.,  499032.,  388733.,  955531.,  307334.,  762810.,\n         688230.,  653961.,  602718.,  210478.,  286629.,  894822.,\n         641738.,  164294.,  300406.,  270689.,  401120.,  263413.,\n         625241.,  668999.,  945343.,  446516.,  308049.,  525649.,\n         349757.,  211451.,  421270.,  356723.,  294236.,  298226.,\n        1335248.,  427472.,  646800.,  286994.]),\n array([     0.  ,   1219.58,   2439.16,   3658.74,   4878.32,   6097.9 ,\n          7317.48,   8537.06,   9756.64,  10976.22,  12195.8 ,  13415.38,\n         14634.96,  15854.54,  17074.12,  18293.7 ,  19513.28,  20732.86,\n         21952.44,  23172.02,  24391.6 ,  25611.18,  26830.76,  28050.34,\n         29269.92,  30489.5 ,  31709.08,  32928.66,  34148.24,  35367.82,\n         36587.4 ,  37806.98,  39026.56,  40246.14,  41465.72,  42685.3 ,\n         43904.88,  45124.46,  46344.04,  47563.62,  48783.2 ,  50002.78,\n         51222.36,  52441.94,  53661.52,  54881.1 ,  56100.68,  57320.26,\n         58539.84,  59759.42,  60979.  ,  62198.58,  63418.16,  64637.74,\n         65857.32,  67076.9 ,  68296.48,  69516.06,  70735.64,  71955.22,\n         73174.8 ,  74394.38,  75613.96,  76833.54,  78053.12,  79272.7 ,\n         80492.28,  81711.86,  82931.44,  84151.02,  85370.6 ,  86590.18,\n         87809.76,  89029.34,  90248.92,  91468.5 ,  92688.08,  93907.66,\n         95127.24,  96346.82,  97566.4 ,  98785.98, 100005.56, 101225.14,\n        102444.72, 103664.3 , 104883.88, 106103.46, 107323.04, 108542.62,\n        109762.2 , 110981.78, 112201.36, 113420.94, 114640.52, 115860.1 ,\n        117079.68, 118299.26, 119518.84, 120738.42, 121958.  ]),\n <a list of 100 Patch objects>)"
      ]
     },
     "execution_count": 4,
     "metadata": {},
     "output_type": "execute_result"
    },
    {
     "data": {
      "image/png": "[encoded data removed]",
      "text/plain": [
       "<Figure size 432x288 with 1 Axes>"
      ]
     },
     "metadata": {},
     "output_type": "display_data"
    }
   ],
   "source": [
    "status_kw2 = utils.count_element(user_feature_embedding_kw1_cleaned['kw2'])\n",
    "plt.hist(status_kw2, bins=100)"
   ]
  },
  {
   "cell_type": "code",
   "execution_count": 7,
   "metadata": {},
   "outputs": [
    {
     "name": "stdout",
     "output_type": "stream",
     "text": [
      "40218\n9561\n"
     ]
    }
   ],
   "source": [
    "count_kw2 = Counter(status_kw2)\n",
    "dic_less_than_200, dic_more_than_200 = utils.count_baseline(count_kw2, 200)\n",
    "print(len(dic_less_than_200))\n",
    "print(len(dic_more_than_200))"
   ]
  },
  {
   "cell_type": "code",
   "execution_count": 8,
   "metadata": {},
   "outputs": [
    {
     "data": {
      "text/plain": [
       "(array([6269., 5055., 3566., 2553., 2087., 1673., 1374., 1198.,  996.,\n         874.,  761.,  726.,  638.,  565.,  536.,  480.,  459.,  416.,\n         397.,  389.,  331.,  331.,  320.,  262.,  272.,  266.,  265.,\n         240.,  260.,  216.,  196.,  171.,  189.,  189.,  179.,  165.,\n         176.,  185.,  167.,  143.,  146.,  130.,  138.,  122.,  125.,\n         103.,  114.,  116.,  116.,   40.,  104.,  105.,  114.,  107.,\n         106.,  109.,  105.,  103.,  106.,  106.,   79.,   81.,   74.,\n          80.,   79.,   70.,   70.,   74.,   69.,   82.,   76.,   63.,\n          65.,   83.,   62.,   66.,   70.,   59.,   61.,   76.,   56.,\n          69.,   53.,   47.,   50.,   52.,   54.,   44.,   51.,   45.,\n          51.,   59.,   58.,   44.,   56.,   53.,   47.,   53.,   48.,\n          39.]),\n array([  1.  ,   2.98,   4.96,   6.94,   8.92,  10.9 ,  12.88,  14.86,\n         16.84,  18.82,  20.8 ,  22.78,  24.76,  26.74,  28.72,  30.7 ,\n         32.68,  34.66,  36.64,  38.62,  40.6 ,  42.58,  44.56,  46.54,\n         48.52,  50.5 ,  52.48,  54.46,  56.44,  58.42,  60.4 ,  62.38,\n         64.36,  66.34,  68.32,  70.3 ,  72.28,  74.26,  76.24,  78.22,\n         80.2 ,  82.18,  84.16,  86.14,  88.12,  90.1 ,  92.08,  94.06,\n         96.04,  98.02, 100.  , 101.98, 103.96, 105.94, 107.92, 109.9 ,\n        111.88, 113.86, 115.84, 117.82, 119.8 , 121.78, 123.76, 125.74,\n        127.72, 129.7 , 131.68, 133.66, 135.64, 137.62, 139.6 , 141.58,\n        143.56, 145.54, 147.52, 149.5 , 151.48, 153.46, 155.44, 157.42,\n        159.4 , 161.38, 163.36, 165.34, 167.32, 169.3 , 171.28, 173.26,\n        175.24, 177.22, 179.2 , 181.18, 183.16, 185.14, 187.12, 189.1 ,\n        191.08, 193.06, 195.04, 197.02, 199.  ]),\n <a list of 100 Patch objects>)"
      ]
     },
     "execution_count": 8,
     "metadata": {},
     "output_type": "execute_result"
    },
    {
     "data": {
      "image/png": "[encoded data removed]",
      "text/plain": [
       "<Figure size 432x288 with 1 Axes>"
      ]
     },
     "metadata": {},
     "output_type": "display_data"
    }
   ],
   "source": [
    "plt.hist(dic_less_than_200.values(), bins=100)"
   ]
  },
  {
   "cell_type": "code",
   "execution_count": 10,
   "metadata": {},
   "outputs": [],
   "source": [
    "cleaned_kw2 = utils.remove_rare_labels(user_feature_embedding_kw1_cleaned['kw2'], dic_less_than_200)"
   ]
  },
  {
   "cell_type": "code",
   "execution_count": 12,
   "metadata": {},
   "outputs": [],
   "source": [
    "kw2_cleaned_list = utils.count_element(cleaned_kw2, '0')"
   ]
  },
  {
   "cell_type": "code",
   "execution_count": 14,
   "metadata": {},
   "outputs": [],
   "source": [
    "kw2_cleaned_count = Counter(kw2_cleaned_list)"
   ]
  },
  {
   "cell_type": "code",
   "execution_count": 15,
   "metadata": {},
   "outputs": [
    {
     "name": "stdout",
     "output_type": "stream",
     "text": [
      "40218\n9561\n0\n9561\n"
     ]
    }
   ],
   "source": [
    "dic_less_than_200_cleaned = dict()\n",
    "dic_more_than_200_cleaned = dict()\n",
    "\n",
    "for e in kw2_cleaned_count.keys():\n",
    "    if kw2_cleaned_count.get(e) < 200:\n",
    "        dic_less_than_200_cleaned[e] = kw2_cleaned_count.get(e)\n",
    "    elif kw2_cleaned_count.get(e) >= 200:\n",
    "        dic_more_than_200_cleaned[e] = kw2_cleaned_count.get(e)\n",
    "\n",
    "print(len(dic_less_than_200))\n",
    "print(len(dic_more_than_200))\n",
    "print(len(dic_less_than_200_cleaned))\n",
    "print(len(dic_more_than_200_cleaned))"
   ]
  },
  {
   "cell_type": "code",
   "execution_count": 17,
   "metadata": {},
   "outputs": [],
   "source": [
    "user_feature_embedding_kw1_cleaned['kw2'] = cleaned_kw2\n",
    "user_feature_embedding_kw1_cleaned.to_csv('data/user_feature_embedding_kw1kw2_cleaned.csv', columns=column_embedding, index=False)"
   ]
  },
  {
   "cell_type": "heading",
   "metadata": {},
   "level": 3,
   "source": [
    "Checkpoint5 加载清理kw2后的数据"
   ]
  },
  {
   "cell_type": "code",
   "execution_count": 1,
   "metadata": {},
   "outputs": [],
   "source": [
    "# 数据处理工具\n",
    "import pandas as pd\n",
    "import numpy as np\n",
    "import random as rnd\n",
    "from collections import Counter\n",
    "import utils\n",
    "\n",
    "# 可视化工具\n",
    "import seaborn as sns\n",
    "import matplotlib.pyplot as plt\n",
    "%matplotlib inline\n",
    "\n",
    "\n",
    "column_base = ['uid', 'age', 'gender', 'marriageStatus', 'education', 'consumptionAbility',\n",
    "               'LBS', 'ct', 'os', 'carrier', 'house']\n",
    "column_embedding = ['uid', 'interest1', 'interest2', 'interest3', 'interest4', 'interest5',\n",
    "                    'kw1', 'kw2', 'kw3',\n",
    "                    'topic1', 'topic2', 'topic3',\n",
    "                    'appIdInstall', 'appIdAction']"
   ]
  },
  {
   "cell_type": "code",
   "execution_count": 2,
   "metadata": {},
   "outputs": [],
   "source": [
    "user_feature_embedding_kw1kw2_cleaned = pd.read_csv('data/user_feature_embedding_kw1kw2_cleaned.csv')"
   ]
  },
  {
   "cell_type": "code",
   "execution_count": 5,
   "metadata": {},
   "outputs": [
    {
     "data": {
      "text/plain": [
       "(array([1.0926679e+07, 1.6546000e+04, 6.7270000e+03, 2.3889000e+04,\n        6.6050000e+03, 2.3986000e+04, 2.6348000e+04, 6.1100000e+03,\n        1.4043000e+04, 1.0612000e+04, 9.6530000e+03, 2.8387000e+04,\n        4.3196000e+04, 2.8840000e+03, 6.0450000e+03, 2.2584800e+05,\n        1.0800300e+05, 9.8550000e+03, 3.2110000e+03, 6.7620000e+03,\n        9.0310000e+03, 2.9328000e+04, 9.4540000e+03, 7.6150000e+03,\n        1.5004000e+04, 1.5741000e+04, 2.9684000e+04, 3.1652000e+04,\n        1.1670000e+04, 1.2698000e+04, 1.5706000e+04, 6.9850000e+03,\n        9.3990000e+03, 7.0500000e+03, 3.3700000e+04, 1.8953000e+04,\n        1.0461000e+04, 1.2406000e+04, 4.5742000e+04, 1.1958000e+04,\n        2.7313000e+04, 2.8752000e+04, 6.8070000e+03, 4.7515000e+04,\n        9.5330000e+03, 3.1209000e+04, 3.1536000e+04, 7.6760000e+03,\n        8.3130000e+03, 2.2934000e+04, 6.2259000e+04, 7.6666000e+04,\n        6.3340000e+03, 4.4170000e+03, 2.5695000e+04, 8.7270000e+03,\n        5.6470000e+03, 4.8160000e+03, 8.7860000e+03, 1.4698000e+04,\n        6.5980000e+03, 1.4730000e+04, 4.6358200e+05, 2.7052000e+04,\n        9.6520000e+03, 7.7370000e+03, 9.1890000e+03, 4.2688000e+04,\n        1.5473000e+04, 5.9100000e+03, 4.6055000e+04, 9.8880000e+03,\n        1.3368000e+04, 1.1376000e+04, 5.4345000e+04, 1.9826000e+04,\n        6.8250000e+03, 4.0953000e+04, 6.5790000e+03, 1.3020000e+04,\n        1.5872000e+04, 7.3220000e+03, 1.3952000e+04, 7.7380000e+03,\n        5.3740000e+03, 6.6320000e+03, 2.4078000e+04, 8.8345000e+04,\n        7.5900000e+03, 9.8810000e+03, 9.4130000e+03, 8.3030000e+03,\n        8.9540000e+03, 1.2507000e+04, 9.6385000e+04, 1.2533000e+04,\n        1.2013000e+04, 9.5200000e+03, 7.2650000e+03, 4.6620000e+03]),\n array([    0.  ,   587.82,  1175.64,  1763.46,  2351.28,  2939.1 ,\n         3526.92,  4114.74,  4702.56,  5290.38,  5878.2 ,  6466.02,\n         7053.84,  7641.66,  8229.48,  8817.3 ,  9405.12,  9992.94,\n        10580.76, 11168.58, 11756.4 , 12344.22, 12932.04, 13519.86,\n        14107.68, 14695.5 , 15283.32, 15871.14, 16458.96, 17046.78,\n        17634.6 , 18222.42, 18810.24, 19398.06, 19985.88, 20573.7 ,\n        21161.52, 21749.34, 22337.16, 22924.98, 23512.8 , 24100.62,\n        24688.44, 25276.26, 25864.08, 26451.9 , 27039.72, 27627.54,\n        28215.36, 28803.18, 29391.  , 29978.82, 30566.64, 31154.46,\n        31742.28, 32330.1 , 32917.92, 33505.74, 34093.56, 34681.38,\n        35269.2 , 35857.02, 36444.84, 37032.66, 37620.48, 38208.3 ,\n        38796.12, 39383.94, 39971.76, 40559.58, 41147.4 , 41735.22,\n        42323.04, 42910.86, 43498.68, 44086.5 , 44674.32, 45262.14,\n        45849.96, 46437.78, 47025.6 , 47613.42, 48201.24, 48789.06,\n        49376.88, 49964.7 , 50552.52, 51140.34, 51728.16, 52315.98,\n        52903.8 , 53491.62, 54079.44, 54667.26, 55255.08, 55842.9 ,\n        56430.72, 57018.54, 57606.36, 58194.18, 58782.  ]),\n <a list of 100 Patch objects>)"
      ]
     },
     "execution_count": 5,
     "metadata": {},
     "output_type": "execute_result"
    },
    {
     "data": {
      "image/png": "[encoded data removed]",
      "text/plain": [
       "<Figure size 432x288 with 1 Axes>"
      ]
     },
     "metadata": {},
     "output_type": "display_data"
    }
   ],
   "source": [
    "status_kw3 = utils.count_element(user_feature_embedding_kw1kw2_cleaned['kw3'])\n",
    "plt.hist(status_kw3, bins=100)"
   ]
  },
  {
   "cell_type": "code",
   "execution_count": 7,
   "metadata": {},
   "outputs": [
    {
     "name": "stdout",
     "output_type": "stream",
     "text": [
      "11340\n765\n"
     ]
    },
    {
     "data": {
      "text/plain": [
       "(array([2.221e+03, 2.076e+03, 1.376e+03, 9.190e+02, 6.240e+02, 4.550e+02,\n        3.490e+02, 3.030e+02, 2.650e+02, 2.370e+02, 1.870e+02, 1.640e+02,\n        1.260e+02, 1.160e+02, 1.180e+02, 9.200e+01, 9.600e+01, 8.400e+01,\n        7.800e+01, 8.400e+01, 6.500e+01, 6.600e+01, 4.600e+01, 4.500e+01,\n        5.100e+01, 4.100e+01, 4.700e+01, 4.300e+01, 2.800e+01, 4.500e+01,\n        2.800e+01, 3.100e+01, 3.300e+01, 2.100e+01, 3.000e+01, 2.800e+01,\n        3.100e+01, 2.600e+01, 2.000e+01, 2.600e+01, 1.700e+01, 1.500e+01,\n        2.200e+01, 2.800e+01, 1.600e+01, 1.300e+01, 1.700e+01, 2.100e+01,\n        2.000e+01, 1.000e+01, 1.600e+01, 1.400e+01, 1.700e+01, 1.500e+01,\n        1.500e+01, 1.700e+01, 1.900e+01, 1.000e+01, 1.100e+01, 6.000e+00,\n        1.000e+01, 1.100e+01, 1.900e+01, 1.700e+01, 1.000e+01, 1.400e+01,\n        5.000e+00, 1.000e+01, 9.000e+00, 1.300e+01, 9.000e+00, 7.000e+00,\n        4.000e+00, 5.000e+00, 8.000e+00, 9.000e+00, 4.000e+00, 1.000e+01,\n        6.000e+00, 6.000e+00, 5.000e+00, 6.000e+00, 4.000e+00, 2.000e+00,\n        8.000e+00, 2.000e+00, 1.200e+01, 8.000e+00, 6.000e+00, 7.000e+00,\n        8.000e+00, 2.000e+00, 5.000e+00, 5.000e+00, 5.000e+00, 4.000e+00,\n        7.000e+00, 8.000e+00, 4.000e+00, 6.000e+00]),\n array([  1.  ,   2.97,   4.94,   6.91,   8.88,  10.85,  12.82,  14.79,\n         16.76,  18.73,  20.7 ,  22.67,  24.64,  26.61,  28.58,  30.55,\n         32.52,  34.49,  36.46,  38.43,  40.4 ,  42.37,  44.34,  46.31,\n         48.28,  50.25,  52.22,  54.19,  56.16,  58.13,  60.1 ,  62.07,\n         64.04,  66.01,  67.98,  69.95,  71.92,  73.89,  75.86,  77.83,\n         79.8 ,  81.77,  83.74,  85.71,  87.68,  89.65,  91.62,  93.59,\n         95.56,  97.53,  99.5 , 101.47, 103.44, 105.41, 107.38, 109.35,\n        111.32, 113.29, 115.26, 117.23, 119.2 , 121.17, 123.14, 125.11,\n        127.08, 129.05, 131.02, 132.99, 134.96, 136.93, 138.9 , 140.87,\n        142.84, 144.81, 146.78, 148.75, 150.72, 152.69, 154.66, 156.63,\n        158.6 , 160.57, 162.54, 164.51, 166.48, 168.45, 170.42, 172.39,\n        174.36, 176.33, 178.3 , 180.27, 182.24, 184.21, 186.18, 188.15,\n        190.12, 192.09, 194.06, 196.03, 198.  ]),\n <a list of 100 Patch objects>)"
      ]
     },
     "execution_count": 7,
     "metadata": {},
     "output_type": "execute_result"
    },
    {
     "data": {
      "image/png": "[encoded data removed]",
      "text/plain": [
       "<Figure size 432x288 with 1 Axes>"
      ]
     },
     "metadata": {},
     "output_type": "display_data"
    }
   ],
   "source": [
    "count_kw3 = Counter(status_kw3)\n",
    "dic_less_than_200, dic_more_than_200 = utils.count_baseline(count_kw3, 200)\n",
    "print(len(dic_less_than_200))\n",
    "print(len(dic_more_than_200))\n",
    "plt.hist(dic_less_than_200.values(), bins=100)"
   ]
  },
  {
   "cell_type": "code",
   "execution_count": 9,
   "metadata": {},
   "outputs": [
    {
     "name": "stdout",
     "output_type": "stream",
     "text": [
      "10900\n1205\n"
     ]
    }
   ],
   "source": [
    "dic_less_than_100, dic_more_than_100 = utils.count_baseline(count_kw3, 100)\n",
    "print(len(dic_less_than_100))\n",
    "print(len(dic_more_than_100))"
   ]
  },
  {
   "cell_type": "code",
   "execution_count": 10,
   "metadata": {},
   "outputs": [],
   "source": [
    "cleaned_kw3 = utils.remove_rare_labels(user_feature_embedding_kw1kw2_cleaned['kw3'], dic_less_than_100)"
   ]
  },
  {
   "cell_type": "code",
   "execution_count": 12,
   "metadata": {},
   "outputs": [],
   "source": [
    "kw3_cleaned_list = utils.count_element(cleaned_kw3, '0')\n",
    "kw3_cleaned_count = Counter(kw3_cleaned_list)"
   ]
  },
  {
   "cell_type": "code",
   "execution_count": 13,
   "metadata": {},
   "outputs": [
    {
     "ename": "AttributeError",
     "evalue": "module 'utils' has no attribute 'asset_clean_result'",
     "traceback": [
      "\u001b[1;31m---------------------------------------------------------------------------\u001b[0m",
      "\u001b[1;31mAttributeError\u001b[0m                            Traceback (most recent call last)",
      "\u001b[1;32m<ipython-input-13-d42bcb16d881>\u001b[0m in \u001b[0;36m<module>\u001b[1;34m()\u001b[0m\n\u001b[1;32m----> 1\u001b[1;33m \u001b[0mutils\u001b[0m\u001b[1;33m.\u001b[0m\u001b[0masset_clean_result\u001b[0m\u001b[1;33m(\u001b[0m\u001b[0mkw3_cleaned_count\u001b[0m\u001b[1;33m,\u001b[0m \u001b[1;36m100\u001b[0m\u001b[1;33m,\u001b[0m \u001b[0mdic_less_than_100\u001b[0m\u001b[1;33m,\u001b[0m \u001b[0mdic_more_than_100\u001b[0m\u001b[1;33m)\u001b[0m\u001b[1;33m\u001b[0m\u001b[0m\n\u001b[0m",
      "\u001b[1;31mAttributeError\u001b[0m: module 'utils' has no attribute 'asset_clean_result'"
     ],
     "output_type": "error"
    }
   ],
   "source": [
    "utils.asset_clean_result(kw3_cleaned_count, 100, dic_less_than_100, dic_more_than_100)"
   ]
  },
  {
   "cell_type": "code",
   "execution_count": 15,
   "metadata": {},
   "outputs": [],
   "source": [
    "user_feature_embedding_kw1kw2_cleaned['kw3'] = cleaned_kw3\n",
    "user_feature_embedding_kw1kw2_cleaned.to_csv('data/user_feature_embedding_kw1kw2kw3_cleaned.csv', columns=column_embedding, index=False)"
   ]
  },
  {
   "cell_type": "heading",
   "metadata": {},
   "level": 3,
   "source": [
    "Checkpoint6 加载清理kw后的数据"
   ]
  },
  {
   "cell_type": "code",
   "execution_count": 1,
   "metadata": {},
   "outputs": [],
   "source": [
    "# 数据处理工具\n",
    "import pandas as pd\n",
    "import numpy as np\n",
    "import random as rnd\n",
    "from collections import Counter\n",
    "import utils\n",
    "\n",
    "# 可视化工具\n",
    "import seaborn as sns\n",
    "import matplotlib.pyplot as plt\n",
    "%matplotlib inline\n",
    "\n",
    "\n",
    "column_base = ['uid', 'age', 'gender', 'marriageStatus', 'education', 'consumptionAbility',\n",
    "               'LBS', 'ct', 'os', 'carrier', 'house']\n",
    "column_embedding = ['uid', 'interest1', 'interest2', 'interest3', 'interest4', 'interest5',\n",
    "                    'kw1', 'kw2', 'kw3',\n",
    "                    'topic1', 'topic2', 'topic3',\n",
    "                    'appIdInstall', 'appIdAction']"
   ]
  },
  {
   "cell_type": "code",
   "execution_count": 2,
   "metadata": {},
   "outputs": [],
   "source": [
    "user_feature_embedding_kwto1to2_cleaned = pd.read_csv('data/user_feature_embedding_kwto1to2_cleaned.csv')"
   ]
  },
  {
   "cell_type": "code",
   "execution_count": 3,
   "metadata": {},
   "outputs": [
    {
     "data": {
      "text/plain": [
       "(array([1.6504300e+05, 1.7661000e+04, 1.8888000e+04, 1.8219000e+04,\n        8.6420000e+04, 1.5328000e+04, 1.5183000e+04, 3.8745000e+04,\n        7.3509000e+04, 2.8121000e+04, 1.1837100e+05, 2.2695000e+04,\n        1.9768000e+04, 5.4867000e+04, 8.4540000e+03, 1.2994000e+04,\n        1.9333000e+04, 1.1192000e+04, 3.9323000e+04, 1.8824000e+04,\n        4.8815000e+04, 1.3173000e+04, 1.5708000e+04, 2.9671000e+04,\n        5.4660000e+04, 1.4355000e+04, 5.0975000e+04, 2.0761000e+04,\n        7.4298000e+04, 8.0070000e+03, 2.3650000e+04, 3.5641000e+04,\n        1.7401000e+04, 2.4050000e+04, 1.9479000e+04, 1.9222000e+04,\n        4.6902000e+04, 2.2836000e+04, 9.6120000e+03, 1.6796000e+04,\n        8.3226000e+04, 6.9679000e+04, 8.4820000e+03, 1.3004000e+04,\n        1.9514000e+04, 3.8452000e+04, 2.4650000e+04, 3.1085000e+04,\n        2.4574000e+04, 4.1168000e+04, 9.8543000e+04, 1.8364000e+04,\n        1.7491000e+04, 8.0780000e+03, 4.2147000e+04, 1.2636000e+04,\n        1.3485000e+04, 2.6532000e+04, 1.9343000e+04, 1.4359000e+04,\n        2.1500000e+04, 4.6190000e+04, 4.5096000e+04, 1.4374000e+04,\n        7.9453000e+04, 1.8513000e+04, 2.5046000e+04, 2.1473000e+04,\n        5.1169000e+04, 1.9032000e+04, 2.7903000e+04, 1.7407000e+04,\n        9.9020000e+03, 2.1497000e+04, 4.4684000e+04, 1.8603000e+04,\n        2.6195000e+04, 6.0719000e+04, 4.4832000e+04, 0.0000000e+00,\n        0.0000000e+00, 0.0000000e+00, 0.0000000e+00, 0.0000000e+00,\n        0.0000000e+00, 0.0000000e+00, 0.0000000e+00, 0.0000000e+00,\n        0.0000000e+00, 0.0000000e+00, 0.0000000e+00, 0.0000000e+00,\n        0.0000000e+00, 0.0000000e+00, 0.0000000e+00, 0.0000000e+00,\n        0.0000000e+00, 0.0000000e+00, 0.0000000e+00, 1.0898167e+07]),\n array([1.000000e+00, 1.209900e+02, 2.409800e+02, 3.609700e+02,\n        4.809600e+02, 6.009500e+02, 7.209400e+02, 8.409300e+02,\n        9.609200e+02, 1.080910e+03, 1.200900e+03, 1.320890e+03,\n        1.440880e+03, 1.560870e+03, 1.680860e+03, 1.800850e+03,\n        1.920840e+03, 2.040830e+03, 2.160820e+03, 2.280810e+03,\n        2.400800e+03, 2.520790e+03, 2.640780e+03, 2.760770e+03,\n        2.880760e+03, 3.000750e+03, 3.120740e+03, 3.240730e+03,\n        3.360720e+03, 3.480710e+03, 3.600700e+03, 3.720690e+03,\n        3.840680e+03, 3.960670e+03, 4.080660e+03, 4.200650e+03,\n        4.320640e+03, 4.440630e+03, 4.560620e+03, 4.680610e+03,\n        4.800600e+03, 4.920590e+03, 5.040580e+03, 5.160570e+03,\n        5.280560e+03, 5.400550e+03, 5.520540e+03, 5.640530e+03,\n        5.760520e+03, 5.880510e+03, 6.000500e+03, 6.120490e+03,\n        6.240480e+03, 6.360470e+03, 6.480460e+03, 6.600450e+03,\n        6.720440e+03, 6.840430e+03, 6.960420e+03, 7.080410e+03,\n        7.200400e+03, 7.320390e+03, 7.440380e+03, 7.560370e+03,\n        7.680360e+03, 7.800350e+03, 7.920340e+03, 8.040330e+03,\n        8.160320e+03, 8.280310e+03, 8.400300e+03, 8.520290e+03,\n        8.640280e+03, 8.760270e+03, 8.880260e+03, 9.000250e+03,\n        9.120240e+03, 9.240230e+03, 9.360220e+03, 9.480210e+03,\n        9.600200e+03, 9.720190e+03, 9.840180e+03, 9.960170e+03,\n        1.008016e+04, 1.020015e+04, 1.032014e+04, 1.044013e+04,\n        1.056012e+04, 1.068011e+04, 1.080010e+04, 1.092009e+04,\n        1.104008e+04, 1.116007e+04, 1.128006e+04, 1.140005e+04,\n        1.152004e+04, 1.164003e+04, 1.176002e+04, 1.188001e+04,\n        1.200000e+04]),\n <a list of 100 Patch objects>)"
      ]
     },
     "execution_count": 3,
     "metadata": {},
     "output_type": "execute_result"
    },
    {
     "data": {
      "image/png": "[encoded data removed]",
      "text/plain": [
       "<Figure size 432x288 with 1 Axes>"
      ]
     },
     "metadata": {},
     "output_type": "display_data"
    }
   ],
   "source": [
    "status_to3 = utils.count_element(user_feature_embedding_kwto1to2_cleaned['topic3'], fill_na='12000')\n",
    "plt.hist(status_to3, bins=100)"
   ]
  },
  {
   "cell_type": "code",
   "execution_count": 4,
   "metadata": {},
   "outputs": [
    {
     "name": "stdout",
     "output_type": "stream",
     "text": [
      "4982\n939\n"
     ]
    },
    {
     "data": {
      "text/plain": [
       "(array([576., 622., 483., 286., 283., 228., 184., 170., 128., 111., 109.,\n         85.,  76.,  72.,  54.,  76.,  55.,  45.,  54.,  44.,  57.,  43.,\n         55.,  37.,  36.,  38.,  29.,  31.,  27.,  24.,  30.,  36.,  28.,\n         21.,  22.,  31.,  24.,  15.,  24.,  23.,  14.,  16.,  20.,  17.,\n         11.,  16.,  15.,  18.,  16.,  12.,   9.,   8.,   9.,  19.,   7.,\n         17.,  10.,  11.,  12.,  13.,  12.,  15.,  11.,  14.,   8.,  13.,\n          9.,   9.,  14.,  14.,   7.,   3.,  12.,  12.,   9.,   4.,   8.,\n          6.,   9.,   8.,   8.,   6.,   8.,  10.,  10.,   8.,   5.,   6.,\n          6.,   8.,   4.,   8.,   9.,   2.,  11.,   9.,   4.,   7.,   6.,\n          8.]),\n array([  1.  ,   2.98,   4.96,   6.94,   8.92,  10.9 ,  12.88,  14.86,\n         16.84,  18.82,  20.8 ,  22.78,  24.76,  26.74,  28.72,  30.7 ,\n         32.68,  34.66,  36.64,  38.62,  40.6 ,  42.58,  44.56,  46.54,\n         48.52,  50.5 ,  52.48,  54.46,  56.44,  58.42,  60.4 ,  62.38,\n         64.36,  66.34,  68.32,  70.3 ,  72.28,  74.26,  76.24,  78.22,\n         80.2 ,  82.18,  84.16,  86.14,  88.12,  90.1 ,  92.08,  94.06,\n         96.04,  98.02, 100.  , 101.98, 103.96, 105.94, 107.92, 109.9 ,\n        111.88, 113.86, 115.84, 117.82, 119.8 , 121.78, 123.76, 125.74,\n        127.72, 129.7 , 131.68, 133.66, 135.64, 137.62, 139.6 , 141.58,\n        143.56, 145.54, 147.52, 149.5 , 151.48, 153.46, 155.44, 157.42,\n        159.4 , 161.38, 163.36, 165.34, 167.32, 169.3 , 171.28, 173.26,\n        175.24, 177.22, 179.2 , 181.18, 183.16, 185.14, 187.12, 189.1 ,\n        191.08, 193.06, 195.04, 197.02, 199.  ]),\n <a list of 100 Patch objects>)"
      ]
     },
     "execution_count": 4,
     "metadata": {},
     "output_type": "execute_result"
    },
    {
     "data": {
      "image/png": "[encoded data removed]",
      "text/plain": [
       "<Figure size 432x288 with 1 Axes>"
      ]
     },
     "metadata": {},
     "output_type": "display_data"
    }
   ],
   "source": [
    "count_to3 = Counter(status_to3)\n",
    "dic_less_than_200, dic_more_than_200 = utils.count_baseline(count_to3, 200)\n",
    "print(len(dic_less_than_200))\n",
    "print(len(dic_more_than_200))\n",
    "plt.hist(dic_less_than_200.values(), bins=100)"
   ]
  },
  {
   "cell_type": "code",
   "execution_count": 5,
   "metadata": {},
   "outputs": [
    {
     "name": "stdout",
     "output_type": "stream",
     "text": [
      "3952\n1969\n"
     ]
    },
    {
     "data": {
      "text/plain": [
       "(array([239.,   0., 337.,   0., 336.,   0., 286.,   0., 257.,   0., 226.,\n          0., 151.,   0., 135.,   0., 139.,   0., 144.,   0., 113.,   0.,\n        115.,   0.,   0.,  98.,   0.,  86.,   0.,  99.,   0.,  71.,   0.,\n         70.,   0.,  58.,   0.,  57.,   0.,  54.,   0.,  58.,   0.,  51.,\n          0.,  43.,   0.,  42.,   0.,   0.,  39.,   0.,  37.,   0.,  32.,\n          0.,  40.,   0.,  27.,   0.,  27.,   0.,  42.,   0.,  34.,   0.,\n         23.,   0.,  32.,   0.,  16.,   0.,  29.,   0.,   0.,  26.,   0.,\n         28.,   0.,  22.,   0.,  22.,   0.,  30.,   0.,  27.,   0.,  23.,\n          0.,  20.,   0.,  22.,   0.,  33.,   0.,  23.,   0.,  14.,   0.,\n         19.]),\n array([ 1.  ,  1.48,  1.96,  2.44,  2.92,  3.4 ,  3.88,  4.36,  4.84,\n         5.32,  5.8 ,  6.28,  6.76,  7.24,  7.72,  8.2 ,  8.68,  9.16,\n         9.64, 10.12, 10.6 , 11.08, 11.56, 12.04, 12.52, 13.  , 13.48,\n        13.96, 14.44, 14.92, 15.4 , 15.88, 16.36, 16.84, 17.32, 17.8 ,\n        18.28, 18.76, 19.24, 19.72, 20.2 , 20.68, 21.16, 21.64, 22.12,\n        22.6 , 23.08, 23.56, 24.04, 24.52, 25.  , 25.48, 25.96, 26.44,\n        26.92, 27.4 , 27.88, 28.36, 28.84, 29.32, 29.8 , 30.28, 30.76,\n        31.24, 31.72, 32.2 , 32.68, 33.16, 33.64, 34.12, 34.6 , 35.08,\n        35.56, 36.04, 36.52, 37.  , 37.48, 37.96, 38.44, 38.92, 39.4 ,\n        39.88, 40.36, 40.84, 41.32, 41.8 , 42.28, 42.76, 43.24, 43.72,\n        44.2 , 44.68, 45.16, 45.64, 46.12, 46.6 , 47.08, 47.56, 48.04,\n        48.52, 49.  ]),\n <a list of 100 Patch objects>)"
      ]
     },
     "execution_count": 5,
     "metadata": {},
     "output_type": "execute_result"
    },
    {
     "data": {
      "image/png": "[encoded data removed]",
      "text/plain": [
       "<Figure size 432x288 with 1 Axes>"
      ]
     },
     "metadata": {},
     "output_type": "display_data"
    }
   ],
   "source": [
    "dic_less_than_50, dic_more_than_50 = utils.count_baseline(count_to3, 50)\n",
    "print(len(dic_less_than_50))\n",
    "print(len(dic_more_than_50))\n",
    "plt.hist(dic_less_than_50.values(), bins=100)"
   ]
  },
  {
   "cell_type": "code",
   "execution_count": 7,
   "metadata": {},
   "outputs": [],
   "source": [
    "\n",
    "cleaned_to3 = utils.remove_rare_labels(user_feature_embedding_kwto1to2_cleaned['topic3'], dic_less_than_50)"
   ]
  },
  {
   "cell_type": "code",
   "execution_count": 8,
   "metadata": {},
   "outputs": [],
   "source": [
    "user_feature_embedding_kwto1to2_cleaned['topic3'] = cleaned_to3\n",
    "user_feature_embedding_kwto1to2_cleaned.to_csv('data/user_feature_embedding_kwto_cleaned.csv', columns=column_embedding, index=False)"
   ]
  },
  {
   "cell_type": "heading",
   "metadata": {},
   "level": 3,
   "source": [
    "Checkpoint7 加载清理topic后的数据"
   ]
  },
  {
   "cell_type": "code",
   "execution_count": 1,
   "metadata": {},
   "outputs": [],
   "source": [
    "# 数据处理工具\n",
    "import pandas as pd\n",
    "import numpy as np\n",
    "import random as rnd\n",
    "from collections import Counter\n",
    "import utils\n",
    "\n",
    "# 可视化工具\n",
    "import seaborn as sns\n",
    "import matplotlib.pyplot as plt\n",
    "%matplotlib inline\n",
    "\n",
    "\n",
    "column_base = ['uid', 'age', 'gender', 'marriageStatus', 'education', 'consumptionAbility',\n",
    "               'LBS', 'ct', 'os', 'carrier', 'house']\n",
    "column_embedding = ['uid', 'interest1', 'interest2', 'interest3', 'interest4', 'interest5',\n",
    "                    'kw1', 'kw2', 'kw3',\n",
    "                    'topic1', 'topic2', 'topic3',\n",
    "                    'appIdInstall', 'appIdAction']"
   ]
  },
  {
   "cell_type": "code",
   "execution_count": 2,
   "metadata": {},
   "outputs": [],
   "source": [
    "user_feature_embedding_kwto_cleaned = pd.read_csv('data/user_feature_embedding_kwto_cleaned.csv')"
   ]
  },
  {
   "cell_type": "code",
   "execution_count": 4,
   "metadata": {},
   "outputs": [
    {
     "data": {
      "text/plain": [
       "(array([  338959.,   223234.,   165019.,   126792.,   192024.,   275076.,\n          272705.,   287016.,   272235.,   410136.,   428562.,   226451.,\n          241013.,   270569.,   275856.,   321886.,   351380.,   431260.,\n          315116.,   359626.,   238064.,   162253.,   291022.,   250924.,\n          299975.,   301401.,   288252.,   161299.,   185476.,   188926.,\n          203062.,   392250.,   385918.,   528484.,   217228.,   395719.,\n          258781.,   260363.,   261111.,   155094.,   243367.,   269044.,\n          291015.,   365187.,   209941.,   461364.,   174342.,   206846.,\n          292810.,   430674.,   271873.,   197140.,   288330.,   265788.,\n          248739.,   228109.,   413409.,   267733.,   139652.,   402688.,\n          262865.,   295059.,   256695.,   257167.,   223335.,   451403.,\n          261239.,   436636.,   264860.,   275611.,   412600.,   311744.,\n          511660.,   199078.,   223024.,   378900.,   178573.,   158213.,\n          176722.,   432023.,   304543.,   192437.,   437246.,   246532.,\n          287978.,   333729.,   255950.,   240963.,   270786.,   335762.,\n          135348.,   249972.,   224333.,        0.,        0.,        0.,\n               0.,        0.,        0., 11189738.]),\n array([1.000000e+00, 7.009900e+02, 1.400980e+03, 2.100970e+03,\n        2.800960e+03, 3.500950e+03, 4.200940e+03, 4.900930e+03,\n        5.600920e+03, 6.300910e+03, 7.000900e+03, 7.700890e+03,\n        8.400880e+03, 9.100870e+03, 9.800860e+03, 1.050085e+04,\n        1.120084e+04, 1.190083e+04, 1.260082e+04, 1.330081e+04,\n        1.400080e+04, 1.470079e+04, 1.540078e+04, 1.610077e+04,\n        1.680076e+04, 1.750075e+04, 1.820074e+04, 1.890073e+04,\n        1.960072e+04, 2.030071e+04, 2.100070e+04, 2.170069e+04,\n        2.240068e+04, 2.310067e+04, 2.380066e+04, 2.450065e+04,\n        2.520064e+04, 2.590063e+04, 2.660062e+04, 2.730061e+04,\n        2.800060e+04, 2.870059e+04, 2.940058e+04, 3.010057e+04,\n        3.080056e+04, 3.150055e+04, 3.220054e+04, 3.290053e+04,\n        3.360052e+04, 3.430051e+04, 3.500050e+04, 3.570049e+04,\n        3.640048e+04, 3.710047e+04, 3.780046e+04, 3.850045e+04,\n        3.920044e+04, 3.990043e+04, 4.060042e+04, 4.130041e+04,\n        4.200040e+04, 4.270039e+04, 4.340038e+04, 4.410037e+04,\n        4.480036e+04, 4.550035e+04, 4.620034e+04, 4.690033e+04,\n        4.760032e+04, 4.830031e+04, 4.900030e+04, 4.970029e+04,\n        5.040028e+04, 5.110027e+04, 5.180026e+04, 5.250025e+04,\n        5.320024e+04, 5.390023e+04, 5.460022e+04, 5.530021e+04,\n        5.600020e+04, 5.670019e+04, 5.740018e+04, 5.810017e+04,\n        5.880016e+04, 5.950015e+04, 6.020014e+04, 6.090013e+04,\n        6.160012e+04, 6.230011e+04, 6.300010e+04, 6.370009e+04,\n        6.440008e+04, 6.510007e+04, 6.580006e+04, 6.650005e+04,\n        6.720004e+04, 6.790003e+04, 6.860002e+04, 6.930001e+04,\n        7.000000e+04]),\n <a list of 100 Patch objects>)"
      ]
     },
     "execution_count": 4,
     "metadata": {},
     "output_type": "execute_result"
    },
    {
     "data": {
      "image/png": "[encoded data removed]",
      "text/plain": [
       "<Figure size 432x288 with 1 Axes>"
      ]
     },
     "metadata": {},
     "output_type": "display_data"
    }
   ],
   "source": [
    "status_appIn = utils.count_element(user_feature_embedding_kwto_cleaned['appIdInstall'], fill_na='70000')\n",
    "plt.hist(status_appIn, bins=100)"
   ]
  },
  {
   "cell_type": "code",
   "execution_count": 5,
   "metadata": {},
   "outputs": [
    {
     "name": "stdout",
     "output_type": "stream",
     "text": [
      "56050\n8809\n"
     ]
    },
    {
     "data": {
      "text/plain": [
       "(array([  53.,  405., 1545., 2946., 4137., 4446., 4012., 3458., 3016.,\n        2382., 2215., 1864., 1611., 1434., 1303., 1201., 1013.,  953.,\n         909.,  798.,  744.,  713.,  659.,  625.,  550.,  515.,  481.,\n         484.,  442.,  421.,  386.,  377.,  336.,  378.,  381.,  341.,\n         312.,  280.,  288.,  264.,  251.,  261.,  223.,  239.,  195.,\n         212.,  237.,  199.,  195.,   92.,  183.,  182.,  180.,  167.,\n         151.,  145.,  155.,  140.,  165.,  127.,  119.,  131.,  137.,\n         129.,  128.,  116.,  143.,  110.,  107.,  106.,  121.,  100.,\n          99.,   86.,  105.,   97.,   98.,   93.,  104.,   84.,  112.,\n          84.,   87.,   97.,   79.,   69.,   75.,   71.,   60.,   75.,\n          71.,   56.,   66.,   83.,   66.,   69.,   74.,   52.,   59.,\n          55.]),\n array([  1.  ,   2.98,   4.96,   6.94,   8.92,  10.9 ,  12.88,  14.86,\n         16.84,  18.82,  20.8 ,  22.78,  24.76,  26.74,  28.72,  30.7 ,\n         32.68,  34.66,  36.64,  38.62,  40.6 ,  42.58,  44.56,  46.54,\n         48.52,  50.5 ,  52.48,  54.46,  56.44,  58.42,  60.4 ,  62.38,\n         64.36,  66.34,  68.32,  70.3 ,  72.28,  74.26,  76.24,  78.22,\n         80.2 ,  82.18,  84.16,  86.14,  88.12,  90.1 ,  92.08,  94.06,\n         96.04,  98.02, 100.  , 101.98, 103.96, 105.94, 107.92, 109.9 ,\n        111.88, 113.86, 115.84, 117.82, 119.8 , 121.78, 123.76, 125.74,\n        127.72, 129.7 , 131.68, 133.66, 135.64, 137.62, 139.6 , 141.58,\n        143.56, 145.54, 147.52, 149.5 , 151.48, 153.46, 155.44, 157.42,\n        159.4 , 161.38, 163.36, 165.34, 167.32, 169.3 , 171.28, 173.26,\n        175.24, 177.22, 179.2 , 181.18, 183.16, 185.14, 187.12, 189.1 ,\n        191.08, 193.06, 195.04, 197.02, 199.  ]),\n <a list of 100 Patch objects>)"
      ]
     },
     "execution_count": 5,
     "metadata": {},
     "output_type": "execute_result"
    },
    {
     "data": {
      "image/png": "[encoded data removed]",
      "text/plain": [
       "<Figure size 432x288 with 1 Axes>"
      ]
     },
     "metadata": {},
     "output_type": "display_data"
    }
   ],
   "source": [
    "count_appIn = Counter(status_appIn)\n",
    "dic_less_than_200, dic_more_than_200 = utils.count_baseline(count_appIn, 200)\n",
    "print(len(dic_less_than_200))\n",
    "print(len(dic_more_than_200))\n",
    "plt.hist(dic_less_than_200.values(), bins=100)"
   ]
  },
  {
   "cell_type": "code",
   "execution_count": 6,
   "metadata": {},
   "outputs": [
    {
     "name": "stdout",
     "output_type": "stream",
     "text": [
      "50782\n14077\n"
     ]
    },
    {
     "data": {
      "text/plain": [
       "(array([  11.,   42.,  107.,  298.,  599.,  946., 1263., 1683., 1966.,\n        2171., 2239., 2207., 2097., 1915., 1836., 1622., 1563., 1453.,\n        1279., 1103., 1134., 1081.,  930.,  934.,  852.,  759.,  719.,\n         715.,  659.,  644.,  589.,  612.,  521.,  492.,  520.,  433.,\n         440.,  469.,  380.,  418.,  397.,  347.,  354.,  359.,  326.,\n         333.,  313.,  312.,  268.,    0.,  282.,  249.,  266.,  258.,\n         223.,  229.,  255.,  228.,  214.,  206.,  215.,  200.,  186.,\n         205.,  172.,  178.,  158.,  190.,  188.,  188.,  193.,  161.,\n         180.,  161.,  151.,  132.,  148.,  115.,  173.,  145.,  119.,\n         136.,  115.,  138.,  123.,  112.,  111.,  119.,  120.,  101.,\n          94.,   90.,  122.,  118.,  119.,  104.,   95.,   97.,   98.,\n          92.]),\n array([ 1.  ,  1.98,  2.96,  3.94,  4.92,  5.9 ,  6.88,  7.86,  8.84,\n         9.82, 10.8 , 11.78, 12.76, 13.74, 14.72, 15.7 , 16.68, 17.66,\n        18.64, 19.62, 20.6 , 21.58, 22.56, 23.54, 24.52, 25.5 , 26.48,\n        27.46, 28.44, 29.42, 30.4 , 31.38, 32.36, 33.34, 34.32, 35.3 ,\n        36.28, 37.26, 38.24, 39.22, 40.2 , 41.18, 42.16, 43.14, 44.12,\n        45.1 , 46.08, 47.06, 48.04, 49.02, 50.  , 50.98, 51.96, 52.94,\n        53.92, 54.9 , 55.88, 56.86, 57.84, 58.82, 59.8 , 60.78, 61.76,\n        62.74, 63.72, 64.7 , 65.68, 66.66, 67.64, 68.62, 69.6 , 70.58,\n        71.56, 72.54, 73.52, 74.5 , 75.48, 76.46, 77.44, 78.42, 79.4 ,\n        80.38, 81.36, 82.34, 83.32, 84.3 , 85.28, 86.26, 87.24, 88.22,\n        89.2 , 90.18, 91.16, 92.14, 93.12, 94.1 , 95.08, 96.06, 97.04,\n        98.02, 99.  ]),\n <a list of 100 Patch objects>)"
      ]
     },
     "execution_count": 6,
     "metadata": {},
     "output_type": "execute_result"
    },
    {
     "data": {
      "image/png": "[encoded data removed]",
      "text/plain": [
       "<Figure size 432x288 with 1 Axes>"
      ]
     },
     "metadata": {},
     "output_type": "display_data"
    }
   ],
   "source": [
    "dic_less_than_100, dic_more_than_100 = utils.count_baseline(count_appIn, 100)\n",
    "print(len(dic_less_than_100))\n",
    "print(len(dic_more_than_100))\n",
    "plt.hist(dic_less_than_100.values(), bins=100)"
   ]
  },
  {
   "cell_type": "code",
   "execution_count": 7,
   "metadata": {},
   "outputs": [],
   "source": [
    "cleaned_app_in = utils.remove_rare_labels(user_feature_embedding_kwto_cleaned['appIdInstall'], dic_less_than_100)"
   ]
  },
  {
   "cell_type": "code",
   "execution_count": 17,
   "metadata": {},
   "outputs": [
    {
     "name": "stdout",
     "output_type": "stream",
     "text": [
      "50782\n14077\n0\n14077\n"
     ]
    }
   ],
   "source": [
    "utils.asset_clean_result(Counter(utils.count_element(cleaned_app_in)), 100, dic_less_than_100, dic_more_than_100)"
   ]
  },
  {
   "cell_type": "code",
   "execution_count": 19,
   "metadata": {},
   "outputs": [],
   "source": [
    "user_feature_embedding_kwto_cleaned['appIdInstall'] = cleaned_app_in\n",
    "user_feature_embedding_kwto_cleaned.to_csv('data/user_feature_embedding_kwto_appin_cleaned.csv', columns=column_embedding, index=False)"
   ]
  },
  {
   "cell_type": "heading",
   "metadata": {},
   "level": 3,
   "source": [
    "Checkpoint8 加载清理appIdInstall后的数据"
   ]
  },
  {
   "cell_type": "code",
   "execution_count": 1,
   "metadata": {},
   "outputs": [],
   "source": [
    "# 数据处理工具\n",
    "import pandas as pd\n",
    "import numpy as np\n",
    "import random as rnd\n",
    "from collections import Counter\n",
    "import utils\n",
    "\n",
    "# 可视化工具\n",
    "import seaborn as sns\n",
    "import matplotlib.pyplot as plt\n",
    "%matplotlib inline\n",
    "\n",
    "\n",
    "column_base = ['uid', 'age', 'gender', 'marriageStatus', 'education', 'consumptionAbility',\n",
    "               'LBS', 'ct', 'os', 'carrier', 'house']\n",
    "column_embedding = ['uid', 'interest1', 'interest2', 'interest3', 'interest4', 'interest5',\n",
    "                    'kw1', 'kw2', 'kw3',\n",
    "                    'topic1', 'topic2', 'topic3',\n",
    "                    'appIdInstall', 'appIdAction']"
   ]
  },
  {
   "cell_type": "code",
   "execution_count": 2,
   "metadata": {},
   "outputs": [],
   "source": [
    "user_feature_embedding_kwto_appin_cleaned = pd.read_csv('data/user_feature_embedding_kwto_appin_cleaned.csv')"
   ]
  },
  {
   "cell_type": "code",
   "execution_count": 3,
   "metadata": {},
   "outputs": [
    {
     "data": {
      "text/plain": [
       "(array([1.8958000e+04, 9.1860000e+03, 6.3960000e+03, 9.6720000e+03,\n        1.3524000e+04, 1.1954000e+04, 1.9335000e+04, 7.4020000e+03,\n        4.2429000e+04, 7.1680000e+03, 2.7694000e+04, 1.5726000e+04,\n        1.0095000e+04, 9.3980000e+03, 1.6351000e+04, 2.3209000e+04,\n        1.5427000e+04, 8.0540000e+03, 1.5832000e+04, 4.2642000e+04,\n        3.8630000e+03, 1.1538000e+04, 1.2702000e+04, 1.4516000e+04,\n        1.8518000e+04, 6.7950000e+03, 9.4270000e+03, 5.3660000e+03,\n        3.6167000e+04, 2.3226000e+04, 4.3999000e+04, 1.7237000e+04,\n        7.9187000e+04, 8.5510000e+03, 3.0944000e+04, 2.7678000e+04,\n        6.1660000e+03, 2.9054000e+04, 1.3358000e+04, 1.4952000e+04,\n        2.4614000e+04, 1.1659000e+04, 4.2895000e+04, 3.7036000e+04,\n        2.5988000e+04, 6.9690000e+03, 3.1169000e+04, 4.3160000e+04,\n        5.3370000e+03, 2.8100000e+04, 7.1850000e+03, 6.5120000e+03,\n        1.3949000e+04, 1.9867000e+04, 7.8490000e+03, 7.5080000e+03,\n        3.6294000e+04, 1.8221000e+04, 1.1583000e+04, 1.4694000e+04,\n        7.8400000e+03, 1.6089000e+04, 1.8116000e+04, 1.3519000e+04,\n        3.5224000e+04, 3.3476000e+04, 1.2983000e+04, 2.4913000e+04,\n        6.4966000e+04, 2.3186000e+04, 9.0850000e+03, 2.3784000e+04,\n        3.2119000e+04, 6.1510000e+03, 9.7850000e+03, 2.1528000e+04,\n        2.9958000e+04, 1.3269000e+04, 1.2217000e+04, 4.2002000e+04,\n        3.0872000e+04, 3.0194000e+04, 1.8970000e+04, 1.1574000e+04,\n        1.4990000e+04, 1.4975000e+04, 3.9620000e+03, 9.2180000e+03,\n        1.0149000e+04, 0.0000000e+00, 0.0000000e+00, 0.0000000e+00,\n        0.0000000e+00, 0.0000000e+00, 0.0000000e+00, 0.0000000e+00,\n        0.0000000e+00, 0.0000000e+00, 0.0000000e+00, 1.1250466e+07]),\n array([1.00000e+00, 7.09900e+01, 1.40980e+02, 2.10970e+02, 2.80960e+02,\n        3.50950e+02, 4.20940e+02, 4.90930e+02, 5.60920e+02, 6.30910e+02,\n        7.00900e+02, 7.70890e+02, 8.40880e+02, 9.10870e+02, 9.80860e+02,\n        1.05085e+03, 1.12084e+03, 1.19083e+03, 1.26082e+03, 1.33081e+03,\n        1.40080e+03, 1.47079e+03, 1.54078e+03, 1.61077e+03, 1.68076e+03,\n        1.75075e+03, 1.82074e+03, 1.89073e+03, 1.96072e+03, 2.03071e+03,\n        2.10070e+03, 2.17069e+03, 2.24068e+03, 2.31067e+03, 2.38066e+03,\n        2.45065e+03, 2.52064e+03, 2.59063e+03, 2.66062e+03, 2.73061e+03,\n        2.80060e+03, 2.87059e+03, 2.94058e+03, 3.01057e+03, 3.08056e+03,\n        3.15055e+03, 3.22054e+03, 3.29053e+03, 3.36052e+03, 3.43051e+03,\n        3.50050e+03, 3.57049e+03, 3.64048e+03, 3.71047e+03, 3.78046e+03,\n        3.85045e+03, 3.92044e+03, 3.99043e+03, 4.06042e+03, 4.13041e+03,\n        4.20040e+03, 4.27039e+03, 4.34038e+03, 4.41037e+03, 4.48036e+03,\n        4.55035e+03, 4.62034e+03, 4.69033e+03, 4.76032e+03, 4.83031e+03,\n        4.90030e+03, 4.97029e+03, 5.04028e+03, 5.11027e+03, 5.18026e+03,\n        5.25025e+03, 5.32024e+03, 5.39023e+03, 5.46022e+03, 5.53021e+03,\n        5.60020e+03, 5.67019e+03, 5.74018e+03, 5.81017e+03, 5.88016e+03,\n        5.95015e+03, 6.02014e+03, 6.09013e+03, 6.16012e+03, 6.23011e+03,\n        6.30010e+03, 6.37009e+03, 6.44008e+03, 6.51007e+03, 6.58006e+03,\n        6.65005e+03, 6.72004e+03, 6.79003e+03, 6.86002e+03, 6.93001e+03,\n        7.00000e+03]),\n <a list of 100 Patch objects>)"
      ]
     },
     "execution_count": 3,
     "metadata": {},
     "output_type": "execute_result"
    },
    {
     "data": {
      "image/png": "[encoded data removed]",
      "text/plain": [
       "<Figure size 432x288 with 1 Axes>"
      ]
     },
     "metadata": {},
     "output_type": "display_data"
    }
   ],
   "source": [
    "status_appAc = utils.count_element(user_feature_embedding_kwto_appin_cleaned['appIdAction'], fill_na='7000')\n",
    "plt.hist(status_appAc, bins=100)"
   ]
  },
  {
   "cell_type": "code",
   "execution_count": 5,
   "metadata": {},
   "outputs": [
    {
     "name": "stdout",
     "output_type": "stream",
     "text": [
      "5392\n824\n"
     ]
    },
    {
     "data": {
      "text/plain": [
       "(array([ 23.,  96., 221., 262., 295., 336., 304., 337., 257., 233., 205.,\n        192., 161., 171., 139., 129., 108.,  92.,  94.,  91.,  79.,  78.,\n         67.,  66.,  56.,  71.,  47.,  50.,  43.,  54.,  40.,  40.,  36.,\n         34.,  37.,  36.,  30.,  33.,  22.,  32.,  32.,  23.,  24.,  30.,\n         23.,  20.,  21.,  21.,  18.,   9.,  25.,  18.,   8.,  16.,  11.,\n         13.,  12.,  10.,  11.,  10.,  16.,  17.,   9.,   8.,  11.,   9.,\n         14.,  13.,  13.,  15.,  13.,   7.,   8.,  10.,  10.,  11.,  10.,\n          4.,  13.,   8.,  10.,   5.,   7.,   6.,   4.,  11.,  11.,   2.,\n          4.,   6.,   1.,  13.,   3.,   9.,   8.,   2.,   6.,   5.,   4.,\n          4.]),\n array([  1.  ,   2.98,   4.96,   6.94,   8.92,  10.9 ,  12.88,  14.86,\n         16.84,  18.82,  20.8 ,  22.78,  24.76,  26.74,  28.72,  30.7 ,\n         32.68,  34.66,  36.64,  38.62,  40.6 ,  42.58,  44.56,  46.54,\n         48.52,  50.5 ,  52.48,  54.46,  56.44,  58.42,  60.4 ,  62.38,\n         64.36,  66.34,  68.32,  70.3 ,  72.28,  74.26,  76.24,  78.22,\n         80.2 ,  82.18,  84.16,  86.14,  88.12,  90.1 ,  92.08,  94.06,\n         96.04,  98.02, 100.  , 101.98, 103.96, 105.94, 107.92, 109.9 ,\n        111.88, 113.86, 115.84, 117.82, 119.8 , 121.78, 123.76, 125.74,\n        127.72, 129.7 , 131.68, 133.66, 135.64, 137.62, 139.6 , 141.58,\n        143.56, 145.54, 147.52, 149.5 , 151.48, 153.46, 155.44, 157.42,\n        159.4 , 161.38, 163.36, 165.34, 167.32, 169.3 , 171.28, 173.26,\n        175.24, 177.22, 179.2 , 181.18, 183.16, 185.14, 187.12, 189.1 ,\n        191.08, 193.06, 195.04, 197.02, 199.  ]),\n <a list of 100 Patch objects>)"
      ]
     },
     "execution_count": 5,
     "metadata": {},
     "output_type": "execute_result"
    },
    {
     "data": {
      "image/png": "[encoded data removed]",
      "text/plain": [
       "<Figure size 432x288 with 1 Axes>"
      ]
     },
     "metadata": {},
     "output_type": "display_data"
    }
   ],
   "source": [
    "count_appAc = Counter(status_appAc)\n",
    "dic_less_than_200, dic_more_than_200 = utils.count_baseline(count_appAc, 200)\n",
    "print(len(dic_less_than_200))\n",
    "print(len(dic_more_than_200))\n",
    "plt.hist(dic_less_than_200.values(), bins=100)"
   ]
  },
  {
   "cell_type": "code",
   "execution_count": 7,
   "metadata": {},
   "outputs": [
    {
     "name": "stdout",
     "output_type": "stream",
     "text": [
      "4058\n2158\n"
     ]
    },
    {
     "data": {
      "text/plain": [
       "(array([  7.,   0.,  16.,   0.,  39.,   0.,  57.,   0.,  89.,   0., 132.,\n          0., 130.,   0., 132.,   0., 140.,   0., 155.,   0., 169.,   0.,\n        167.,   0.,   0., 145.,   0., 159.,   0., 172.,   0., 165.,   0.,\n        139.,   0., 118.,   0., 115.,   0., 118.,   0., 105.,   0., 100.,\n          0., 102.,   0.,  90.,   0.,   0.,  79.,   0.,  82.,   0.,  92.,\n          0.,  79.,   0.,  70.,   0.,  69.,   0.,  64.,   0.,  65.,   0.,\n         60.,   0.,  48.,   0.,  52.,   0.,  40.,   0.,   0.,  49.,   0.,\n         45.,   0.,  41.,   0.,  50.,   0.,  41.,   0.,  38.,   0.,  33.,\n          0.,  45.,   0.,  40.,   0.,  27.,   0.,  40.,   0.,  26.,   0.,\n         22.]),\n array([ 1.  ,  1.48,  1.96,  2.44,  2.92,  3.4 ,  3.88,  4.36,  4.84,\n         5.32,  5.8 ,  6.28,  6.76,  7.24,  7.72,  8.2 ,  8.68,  9.16,\n         9.64, 10.12, 10.6 , 11.08, 11.56, 12.04, 12.52, 13.  , 13.48,\n        13.96, 14.44, 14.92, 15.4 , 15.88, 16.36, 16.84, 17.32, 17.8 ,\n        18.28, 18.76, 19.24, 19.72, 20.2 , 20.68, 21.16, 21.64, 22.12,\n        22.6 , 23.08, 23.56, 24.04, 24.52, 25.  , 25.48, 25.96, 26.44,\n        26.92, 27.4 , 27.88, 28.36, 28.84, 29.32, 29.8 , 30.28, 30.76,\n        31.24, 31.72, 32.2 , 32.68, 33.16, 33.64, 34.12, 34.6 , 35.08,\n        35.56, 36.04, 36.52, 37.  , 37.48, 37.96, 38.44, 38.92, 39.4 ,\n        39.88, 40.36, 40.84, 41.32, 41.8 , 42.28, 42.76, 43.24, 43.72,\n        44.2 , 44.68, 45.16, 45.64, 46.12, 46.6 , 47.08, 47.56, 48.04,\n        48.52, 49.  ]),\n <a list of 100 Patch objects>)"
      ]
     },
     "execution_count": 7,
     "metadata": {},
     "output_type": "execute_result"
    },
    {
     "data": {
      "image/png": "[encoded data removed]",
      "text/plain": [
       "<Figure size 432x288 with 1 Axes>"
      ]
     },
     "metadata": {},
     "output_type": "display_data"
    }
   ],
   "source": [
    "dic_less_than_50, dic_more_than_50 = utils.count_baseline(count_appAc, 50)\n",
    "print(len(dic_less_than_50))\n",
    "print(len(dic_more_than_50))\n",
    "plt.hist(dic_less_than_50.values(), bins=100)"
   ]
  },
  {
   "cell_type": "code",
   "execution_count": 8,
   "metadata": {},
   "outputs": [],
   "source": [
    "cleaned_app_ac = utils.remove_rare_labels(user_feature_embedding_kwto_appin_cleaned['appIdAction'], dic_less_than_50)"
   ]
  },
  {
   "cell_type": "code",
   "execution_count": 12,
   "metadata": {},
   "outputs": [
    {
     "name": "stdout",
     "output_type": "stream",
     "text": [
      "4058\n4058\n0\n2158\n"
     ]
    }
   ],
   "source": [
    "utils.asset_clean_result(Counter(utils.count_element(cleaned_app_ac)), 50, dic_less_than_50, dic_less_than_50)"
   ]
  },
  {
   "cell_type": "code",
   "execution_count": 13,
   "metadata": {},
   "outputs": [],
   "source": [
    "user_feature_embedding_kwto_appin_cleaned['appIdAction'] = cleaned_app_ac\n",
    "user_feature_embedding_kwto_appin_cleaned.to_csv('data/user_feature_embedding_all_cleaned.csv', columns=column_embedding, index=False)"
   ]
  },
  {
   "cell_type": "heading",
   "metadata": {},
   "level": 1,
   "source": [
    "Checkpoint9 加载清洗完的数据，将各种id重新映射一个范围更小的集合"
   ]
  },
  {
   "cell_type": "code",
   "execution_count": null,
   "metadata": {},
   "outputs": [],
   "source": []
  }
 ],
 "metadata": {
  "kernelspec": {
   "display_name": "Python 2",
   "language": "python",
   "name": "python2"
  },
  "language_info": {
   "codemirror_mode": {
    "name": "ipython",
    "version": 2
   },
   "file_extension": ".py",
   "mimetype": "text/x-python",
   "name": "python",
   "nbconvert_exporter": "python",
   "pygments_lexer": "ipython2",
   "version": "2.7.6"
  }
 },
 "nbformat": 4,
 "nbformat_minor": 0
}
