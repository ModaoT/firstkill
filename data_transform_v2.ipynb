{
 "cells": [
  {
   "cell_type": "code",
   "execution_count": 2,
   "metadata": {},
   "outputs": [],
   "source": [
    "from tqdm import tqdm\n",
    "import pandas as pd\n",
    "import numpy as np"
   ]
  },
  {
   "cell_type": "code",
   "execution_count": 2,
   "metadata": {},
   "outputs": [],
   "source": [
    "column = ['uid', 'age', 'gender', 'marriageStatus', 'education', 'consumptionAbility', 'LBS', \n",
    "          'interest1', 'interest2', 'interest3', 'interest4', 'interest5', \n",
    "          'kw1', 'kw2', 'kw3', \n",
    "          'topic1', 'topic2', 'topic3', \n",
    "          'appIdInstall', 'appIdAction',  'ct', 'os', 'carrier', 'house']"
   ]
  },
  {
   "cell_type": "code",
   "execution_count": 2,
   "metadata": {},
   "outputs": [
    {
     "name": "stdout",
     "output_type": "stream",
     "text": [
      "reading file"
     ]
    },
    {
     "name": "stdout",
     "output_type": "stream",
     "text": [
      "\n"
     ]
    },
    {
     "name": "stdout",
     "output_type": "stream",
     "text": [
      "read finish"
     ]
    },
    {
     "name": "stdout",
     "output_type": "stream",
     "text": [
      "\n"
     ]
    },
    {
     "name": "stderr",
     "output_type": "stream",
     "text": [
      "\r  0%|                                                                    | 0/5681827 [00:00<?, ?r/s]"
     ]
    },
    {
     "name": "stderr",
     "output_type": "stream",
     "text": [
      "\r  0%|                                                        | 586/5681827 [00:00<31:02, 3050.85r/s]"
     ]
    },
    {
     "name": "stderr",
     "output_type": "stream",
     "text": [
      "\r  0%|                                                       | 1286/5681827 [00:00<25:44, 3677.64r/s]"
     ]
    },
    {
     "name": "stderr",
     "output_type": "stream",
     "text": [
      "\r  0%|                                                       | 4431/5681827 [00:00<09:37, 9834.49r/s]"
     ]
    },
    {
     "name": "stderr",
     "output_type": "stream",
     "text": [
      "\r  0%|                                                      | 8003/5681827 [00:00<06:30, 14515.08r/s]"
     ]
    },
    {
     "name": "stderr",
     "output_type": "stream",
     "text": [
      "\r  0%|                                                     | 11614/5681827 [00:00<05:18, 17806.30r/s]"
     ]
    },
    {
     "name": "stderr",
     "output_type": "stream",
     "text": [
      "\r  0%|▏                                                    | 15202/5681827 [00:00<04:40, 20194.81r/s]"
     ]
    },
    {
     "name": "stderr",
     "output_type": "stream",
     "text": [
      "\r  0%|▏                                                    | 18699/5681827 [00:00<04:18, 21924.18r/s]"
     ]
    },
    {
     "name": "stderr",
     "output_type": "stream",
     "text": [
      "\r  0%|▏                                                    | 22228/5681827 [00:00<04:02, 23321.70r/s]"
     ]
    },
    {
     "name": "stderr",
     "output_type": "stream",
     "text": [
      "\r  0%|▏                                                    | 25787/5681827 [00:01<03:51, 24466.87r/s]"
     ]
    },
    {
     "name": "stderr",
     "output_type": "stream",
     "text": [
      "\r  1%|▎                                                    | 29376/5681827 [00:01<03:42, 25437.40r/s]"
     ]
    },
    {
     "name": "stderr",
     "output_type": "stream",
     "text": [
      "\r  1%|▎                                                    | 32935/5681827 [00:01<03:35, 26229.52r/s]"
     ]
    },
    {
     "name": "stderr",
     "output_type": "stream",
     "text": [
      "\r  1%|▎                                                    | 36421/5681827 [00:01<03:30, 26848.60r/s]"
     ]
    },
    {
     "name": "stderr",
     "output_type": "stream",
     "text": [
      "\r  1%|▎                                                    | 40036/5681827 [00:01<03:25, 27470.09r/s]"
     ]
    },
    {
     "name": "stderr",
     "output_type": "stream",
     "text": [
      "\r  1%|▍                                                    | 43646/5681827 [00:01<03:21, 28008.49r/s]"
     ]
    },
    {
     "name": "stderr",
     "output_type": "stream",
     "text": [
      "\r  1%|▍                                                    | 47254/5681827 [00:01<03:17, 28480.43r/s]"
     ]
    },
    {
     "name": "stderr",
     "output_type": "stream",
     "text": [
      "\r  1%|▍                                                    | 50900/5681827 [00:01<03:14, 28921.06r/s]"
     ]
    },
    {
     "name": "stderr",
     "output_type": "stream",
     "text": [
      "\r  1%|▌                                                    | 54535/5681827 [00:01<03:12, 29307.17r/s]"
     ]
    },
    {
     "name": "stderr",
     "output_type": "stream",
     "text": [
      "\r  1%|▌                                                    | 58136/5681827 [00:01<03:09, 29635.03r/s]"
     ]
    },
    {
     "name": "stderr",
     "output_type": "stream",
     "text": [
      "\r  1%|▌                                                    | 61704/5681827 [00:02<03:07, 29915.81r/s]"
     ]
    },
    {
     "name": "stderr",
     "output_type": "stream",
     "text": [
      "\r  1%|▌                                                    | 65263/5681827 [00:02<03:06, 30166.23r/s]"
     ]
    },
    {
     "name": "stderr",
     "output_type": "stream",
     "text": [
      "\r  1%|▋                                                    | 68819/5681827 [00:02<03:04, 30393.02r/s]"
     ]
    },
    {
     "name": "stderr",
     "output_type": "stream",
     "text": [
      "\r  1%|▋                                                    | 72362/5681827 [00:02<03:03, 30589.63r/s]"
     ]
    },
    {
     "name": "stderr",
     "output_type": "stream",
     "text": [
      "\r  1%|▋                                                    | 75966/5681827 [00:02<03:02, 30800.61r/s]"
     ]
    },
    {
     "name": "stderr",
     "output_type": "stream",
     "text": [
      "\r  1%|▋                                                    | 79527/5681827 [00:02<03:00, 30976.97r/s]"
     ]
    },
    {
     "name": "stderr",
     "output_type": "stream",
     "text": [
      "\r  1%|▊                                                    | 83131/5681827 [00:02<02:59, 31157.13r/s]"
     ]
    },
    {
     "name": "stderr",
     "output_type": "stream",
     "text": [
      "\r  2%|▊                                                    | 86744/5681827 [00:02<02:58, 31331.85r/s]"
     ]
    },
    {
     "name": "stderr",
     "output_type": "stream",
     "text": [
      "\r  2%|▊                                                    | 90355/5681827 [00:02<02:57, 31494.45r/s]"
     ]
    },
    {
     "name": "stderr",
     "output_type": "stream",
     "text": [
      "\r  2%|▉                                                    | 93930/5681827 [00:02<02:56, 31633.87r/s]"
     ]
    },
    {
     "name": "stderr",
     "output_type": "stream",
     "text": [
      "\r  2%|▉                                                    | 97501/5681827 [00:03<02:55, 31743.25r/s]"
     ]
    },
    {
     "name": "stderr",
     "output_type": "stream",
     "text": [
      "\r  2%|▉                                                   | 101093/5681827 [00:03<02:55, 31866.30r/s]"
     ]
    },
    {
     "name": "stderr",
     "output_type": "stream",
     "text": [
      "\r  2%|▉                                                   | 104722/5681827 [00:03<02:54, 31992.42r/s]"
     ]
    },
    {
     "name": "stderr",
     "output_type": "stream",
     "text": [
      "\r  2%|▉                                                   | 108287/5681827 [00:03<02:53, 32083.74r/s]"
     ]
    },
    {
     "name": "stderr",
     "output_type": "stream",
     "text": [
      "\r  2%|█                                                   | 111833/5681827 [00:03<02:53, 32178.00r/s]"
     ]
    },
    {
     "name": "stderr",
     "output_type": "stream",
     "text": [
      "\r  2%|█                                                   | 115380/5681827 [00:03<02:52, 32262.69r/s]"
     ]
    },
    {
     "name": "stderr",
     "output_type": "stream",
     "text": [
      "\r  2%|█                                                   | 118977/5681827 [00:03<02:51, 32355.58r/s]"
     ]
    },
    {
     "name": "stderr",
     "output_type": "stream",
     "text": [
      "\r  2%|█                                                   | 122567/5681827 [00:03<02:51, 32446.56r/s]"
     ]
    },
    {
     "name": "stderr",
     "output_type": "stream",
     "text": [
      "\r  2%|█▏                                                  | 126163/5681827 [00:03<02:50, 32530.36r/s]"
     ]
    },
    {
     "name": "stderr",
     "output_type": "stream",
     "text": [
      "\r  2%|█▏                                                  | 129722/5681827 [00:03<02:50, 32603.68r/s]"
     ]
    },
    {
     "name": "stderr",
     "output_type": "stream",
     "text": [
      "\r  2%|█▏                                                  | 133288/5681827 [00:04<02:49, 32675.90r/s]"
     ]
    },
    {
     "name": "stderr",
     "output_type": "stream",
     "text": [
      "\r  2%|█▎                                                  | 136873/5681827 [00:04<02:49, 32749.10r/s]"
     ]
    },
    {
     "name": "stderr",
     "output_type": "stream",
     "text": [
      "\r  2%|█▎                                                  | 140488/5681827 [00:04<02:48, 32825.49r/s]"
     ]
    },
    {
     "name": "stderr",
     "output_type": "stream",
     "text": [
      "\r  3%|█▎                                                  | 144060/5681827 [00:04<02:48, 32881.82r/s]"
     ]
    },
    {
     "name": "stderr",
     "output_type": "stream",
     "text": [
      "\r  3%|█▎                                                  | 147639/5681827 [00:04<02:47, 32943.63r/s]"
     ]
    },
    {
     "name": "stderr",
     "output_type": "stream",
     "text": [
      "\r  3%|█▍                                                  | 151283/5681827 [00:04<02:47, 33017.13r/s]"
     ]
    },
    {
     "name": "stderr",
     "output_type": "stream",
     "text": [
      "\r  3%|█▍                                                  | 154864/5681827 [00:04<02:47, 33060.63r/s]"
     ]
    },
    {
     "name": "stderr",
     "output_type": "stream",
     "text": [
      "\r  3%|█▍                                                  | 158480/5681827 [00:04<02:46, 33123.02r/s]"
     ]
    },
    {
     "name": "stderr",
     "output_type": "stream",
     "text": [
      "\r  3%|█▍                                                  | 162083/5681827 [00:04<02:46, 33180.34r/s]"
     ]
    },
    {
     "name": "stderr",
     "output_type": "stream",
     "text": [
      "\r  3%|█▌                                                  | 165661/5681827 [00:04<02:46, 33229.48r/s]"
     ]
    },
    {
     "name": "stderr",
     "output_type": "stream",
     "text": [
      "\r  3%|█▌                                                  | 169234/5681827 [00:05<02:45, 33275.18r/s]"
     ]
    },
    {
     "name": "stderr",
     "output_type": "stream",
     "text": [
      "\r  3%|█▌                                                  | 172801/5681827 [00:05<02:45, 33316.01r/s]"
     ]
    },
    {
     "name": "stderr",
     "output_type": "stream",
     "text": [
      "\r  3%|█▌                                                  | 176360/5681827 [00:05<02:45, 33357.01r/s]"
     ]
    },
    {
     "name": "stderr",
     "output_type": "stream",
     "text": [
      "\r  3%|█▋                                                  | 179916/5681827 [00:05<02:44, 33382.54r/s]"
     ]
    },
    {
     "name": "stderr",
     "output_type": "stream",
     "text": [
      "\r  3%|█▋                                                  | 183510/5681827 [00:05<02:44, 33428.53r/s]"
     ]
    },
    {
     "name": "stderr",
     "output_type": "stream",
     "text": [
      "\r  3%|█▋                                                  | 187114/5681827 [00:05<02:44, 33474.45r/s]"
     ]
    },
    {
     "name": "stderr",
     "output_type": "stream",
     "text": [
      "\r  3%|█▋                                                  | 190683/5681827 [00:05<02:43, 33512.95r/s]"
     ]
    },
    {
     "name": "stderr",
     "output_type": "stream",
     "text": [
      "\r  3%|█▊                                                  | 194255/5681827 [00:05<02:43, 33550.62r/s]"
     ]
    },
    {
     "name": "stderr",
     "output_type": "stream",
     "text": [
      "\r  3%|█▊                                                  | 197839/5681827 [00:05<02:43, 33586.70r/s]"
     ]
    },
    {
     "name": "stderr",
     "output_type": "stream",
     "text": [
      "\r  4%|█▊                                                  | 201430/5681827 [00:05<02:42, 33623.17r/s]"
     ]
    },
    {
     "name": "stderr",
     "output_type": "stream",
     "text": [
      "\r  4%|█▉                                                  | 205000/5681827 [00:06<02:42, 33654.13r/s]"
     ]
    },
    {
     "name": "stderr",
     "output_type": "stream",
     "text": [
      "\r  4%|█▉                                                  | 208604/5681827 [00:06<02:42, 33690.37r/s]"
     ]
    },
    {
     "name": "stderr",
     "output_type": "stream",
     "text": [
      "\r  4%|█▉                                                  | 212175/5681827 [00:06<02:42, 33720.65r/s]"
     ]
    },
    {
     "name": "stderr",
     "output_type": "stream",
     "text": [
      "\r  4%|█▉                                                  | 215743/5681827 [00:06<02:41, 33745.72r/s]"
     ]
    },
    {
     "name": "stderr",
     "output_type": "stream",
     "text": [
      "\r  4%|██                                                  | 219329/5681827 [00:06<02:41, 33778.92r/s]"
     ]
    },
    {
     "name": "stderr",
     "output_type": "stream",
     "text": [
      "\r  4%|██                                                  | 222894/5681827 [00:06<02:41, 33806.70r/s]"
     ]
    },
    {
     "name": "stderr",
     "output_type": "stream",
     "text": [
      "\r  4%|██                                                  | 226483/5681827 [00:06<02:41, 33835.96r/s]"
     ]
    },
    {
     "name": "stderr",
     "output_type": "stream",
     "text": [
      "\r  4%|██                                                  | 230124/5681827 [00:06<02:40, 33869.63r/s]"
     ]
    },
    {
     "name": "stderr",
     "output_type": "stream",
     "text": [
      "\r  4%|██▏                                                 | 233713/5681827 [00:06<02:40, 33894.37r/s]"
     ]
    },
    {
     "name": "stderr",
     "output_type": "stream",
     "text": [
      "\r  4%|██▏                                                 | 237286/5681827 [00:06<02:40, 33916.24r/s]"
     ]
    },
    {
     "name": "stderr",
     "output_type": "stream",
     "text": [
      "\r  4%|██▏                                                 | 240850/5681827 [00:07<02:40, 33936.27r/s]"
     ]
    },
    {
     "name": "stderr",
     "output_type": "stream",
     "text": [
      "\r  4%|██▏                                                 | 244405/5681827 [00:07<02:40, 33954.54r/s]"
     ]
    },
    {
     "name": "stderr",
     "output_type": "stream",
     "text": [
      "\r  4%|██▎                                                 | 247964/5681827 [00:07<02:39, 33975.03r/s]"
     ]
    },
    {
     "name": "stderr",
     "output_type": "stream",
     "text": [
      "\r  4%|██▎                                                 | 251509/5681827 [00:07<02:39, 33982.01r/s]"
     ]
    },
    {
     "name": "stderr",
     "output_type": "stream",
     "text": [
      "\r  4%|██▎                                                 | 255051/5681827 [00:07<02:39, 33997.38r/s]"
     ]
    },
    {
     "name": "stderr",
     "output_type": "stream",
     "text": [
      "\r  5%|██▎                                                 | 258692/5681827 [00:07<02:39, 34025.36r/s]"
     ]
    },
    {
     "name": "stderr",
     "output_type": "stream",
     "text": [
      "\r  5%|██▍                                                 | 262236/5681827 [00:07<02:39, 34035.22r/s]"
     ]
    },
    {
     "name": "stderr",
     "output_type": "stream",
     "text": [
      "\r  5%|██▍                                                 | 265857/5681827 [00:07<02:39, 34059.19r/s]"
     ]
    },
    {
     "name": "stderr",
     "output_type": "stream",
     "text": [
      "\r  5%|██▍                                                 | 269401/5681827 [00:07<02:38, 34071.44r/s]"
     ]
    },
    {
     "name": "stderr",
     "output_type": "stream",
     "text": [
      "\r  5%|██▍                                                 | 272948/5681827 [00:08<02:38, 34087.31r/s]"
     ]
    },
    {
     "name": "stderr",
     "output_type": "stream",
     "text": [
      "\r  5%|██▌                                                 | 276493/5681827 [00:08<02:38, 34100.54r/s]"
     ]
    },
    {
     "name": "stderr",
     "output_type": "stream",
     "text": [
      "\r  5%|██▌                                                 | 280093/5681827 [00:08<02:38, 34120.14r/s]"
     ]
    },
    {
     "name": "stderr",
     "output_type": "stream",
     "text": [
      "\r  5%|██▌                                                 | 283688/5681827 [00:08<02:38, 34138.76r/s]"
     ]
    },
    {
     "name": "stderr",
     "output_type": "stream",
     "text": [
      "\r  5%|██▋                                                 | 287244/5681827 [00:08<02:37, 34154.28r/s]"
     ]
    },
    {
     "name": "stderr",
     "output_type": "stream",
     "text": [
      "\r  5%|██▋                                                 | 290862/5681827 [00:08<02:37, 34174.57r/s]"
     ]
    },
    {
     "name": "stderr",
     "output_type": "stream",
     "text": [
      "\r  5%|██▋                                                 | 294437/5681827 [00:08<02:37, 34189.44r/s]"
     ]
    },
    {
     "name": "stderr",
     "output_type": "stream",
     "text": [
      "\r  5%|██▋                                                 | 297992/5681827 [00:08<02:37, 34197.92r/s]"
     ]
    },
    {
     "name": "stderr",
     "output_type": "stream",
     "text": [
      "\r  5%|██▊                                                 | 301585/5681827 [00:08<02:37, 34213.92r/s]"
     ]
    },
    {
     "name": "stderr",
     "output_type": "stream",
     "text": [
      "\r  5%|██▊                                                 | 305161/5681827 [00:08<02:37, 34228.16r/s]"
     ]
    },
    {
     "name": "stderr",
     "output_type": "stream",
     "text": [
      "\r  5%|██▊                                                 | 308747/5681827 [00:09<02:36, 34242.90r/s]"
     ]
    },
    {
     "name": "stderr",
     "output_type": "stream",
     "text": [
      "\r  5%|██▊                                                 | 312366/5681827 [00:09<02:36, 34261.04r/s]"
     ]
    },
    {
     "name": "stderr",
     "output_type": "stream",
     "text": [
      "\r  6%|██▉                                                 | 315982/5681827 [00:09<02:36, 34278.31r/s]"
     ]
    },
    {
     "name": "stderr",
     "output_type": "stream",
     "text": [
      "\r  6%|██▉                                                 | 319549/5681827 [00:09<02:36, 34288.45r/s]"
     ]
    },
    {
     "name": "stderr",
     "output_type": "stream",
     "text": [
      "\r  6%|██▉                                                 | 323103/5681827 [00:09<02:36, 34295.02r/s]"
     ]
    },
    {
     "name": "stderr",
     "output_type": "stream",
     "text": [
      "\r  6%|██▉                                                 | 326682/5681827 [00:09<02:36, 34307.48r/s]"
     ]
    },
    {
     "name": "stderr",
     "output_type": "stream",
     "text": [
      "\r  6%|███                                                 | 330261/5681827 [00:09<02:35, 34321.41r/s]"
     ]
    },
    {
     "name": "stderr",
     "output_type": "stream",
     "text": [
      "\r  6%|███                                                 | 333872/5681827 [00:09<02:35, 34336.86r/s]"
     ]
    },
    {
     "name": "stderr",
     "output_type": "stream",
     "text": [
      "\r  6%|███                                                 | 337429/5681827 [00:09<02:35, 34346.40r/s]"
     ]
    },
    {
     "name": "stderr",
     "output_type": "stream",
     "text": [
      "\r  6%|███                                                 | 341017/5681827 [00:09<02:35, 34358.97r/s]"
     ]
    },
    {
     "name": "stderr",
     "output_type": "stream",
     "text": [
      "\r  6%|███▏                                                | 344593/5681827 [00:10<02:35, 34369.69r/s]"
     ]
    },
    {
     "name": "stderr",
     "output_type": "stream",
     "text": [
      "\r  6%|███▏                                                | 348224/5681827 [00:10<02:35, 34387.66r/s]"
     ]
    },
    {
     "name": "stderr",
     "output_type": "stream",
     "text": [
      "\r  6%|███▏                                                | 351801/5681827 [00:10<02:34, 34398.39r/s]"
     ]
    },
    {
     "name": "stderr",
     "output_type": "stream",
     "text": [
      "\r  6%|███▎                                                | 355364/5681827 [00:10<02:34, 34408.54r/s]"
     ]
    },
    {
     "name": "stderr",
     "output_type": "stream",
     "text": [
      "\r  6%|███▎                                                | 358939/5681827 [00:10<02:34, 34420.24r/s]"
     ]
    },
    {
     "name": "stderr",
     "output_type": "stream",
     "text": [
      "\r  6%|███▎                                                | 362537/5681827 [00:10<02:34, 34433.93r/s]"
     ]
    },
    {
     "name": "stderr",
     "output_type": "stream",
     "text": [
      "\r  6%|███▎                                                | 366108/5681827 [00:10<02:34, 34444.54r/s]"
     ]
    },
    {
     "name": "stderr",
     "output_type": "stream",
     "text": [
      "\r  7%|███▍                                                | 369672/5681827 [00:10<02:34, 34454.60r/s]"
     ]
    },
    {
     "name": "stderr",
     "output_type": "stream",
     "text": [
      "\r  7%|███▍                                                | 373294/5681827 [00:10<02:34, 34468.36r/s]"
     ]
    },
    {
     "name": "stderr",
     "output_type": "stream",
     "text": [
      "\r  7%|███▍                                                | 376879/5681827 [00:10<02:33, 34478.19r/s]"
     ]
    },
    {
     "name": "stderr",
     "output_type": "stream",
     "text": [
      "\r  7%|███▍                                                | 380445/5681827 [00:11<02:33, 34487.83r/s]"
     ]
    },
    {
     "name": "stderr",
     "output_type": "stream",
     "text": [
      "\r  7%|███▌                                                | 384007/5681827 [00:11<02:33, 34493.47r/s]"
     ]
    },
    {
     "name": "stderr",
     "output_type": "stream",
     "text": [
      "\r  7%|███▌                                                | 387576/5681827 [00:11<02:33, 34502.94r/s]"
     ]
    },
    {
     "name": "stderr",
     "output_type": "stream",
     "text": [
      "\r  7%|███▌                                                | 391144/5681827 [00:11<02:33, 34512.20r/s]"
     ]
    },
    {
     "name": "stderr",
     "output_type": "stream",
     "text": [
      "\r  7%|███▌                                                | 394704/5681827 [00:11<02:33, 34519.14r/s]"
     ]
    },
    {
     "name": "stderr",
     "output_type": "stream",
     "text": [
      "\r  7%|███▋                                                | 398249/5681827 [00:11<02:33, 34524.51r/s]"
     ]
    },
    {
     "name": "stderr",
     "output_type": "stream",
     "text": [
      "\r  7%|███▋                                                | 401822/5681827 [00:11<02:32, 34533.83r/s]"
     ]
    },
    {
     "name": "stderr",
     "output_type": "stream",
     "text": [
      "\r  7%|███▋                                                | 405471/5681827 [00:11<02:32, 34547.77r/s]"
     ]
    },
    {
     "name": "stderr",
     "output_type": "stream",
     "text": [
      "\r  7%|███▋                                                | 409098/5681827 [00:11<02:32, 34559.81r/s]"
     ]
    },
    {
     "name": "stderr",
     "output_type": "stream",
     "text": [
      "\r  7%|███▊                                                | 412728/5681827 [00:11<02:32, 34573.26r/s]"
     ]
    },
    {
     "name": "stderr",
     "output_type": "stream",
     "text": [
      "\r  7%|███▊                                                | 416315/5681827 [00:12<02:32, 34578.82r/s]"
     ]
    },
    {
     "name": "stderr",
     "output_type": "stream",
     "text": [
      "\r  7%|███▊                                                | 419883/5681827 [00:12<02:32, 34586.74r/s]"
     ]
    },
    {
     "name": "stderr",
     "output_type": "stream",
     "text": [
      "\r  7%|███▉                                                | 423447/5681827 [00:12<02:32, 34593.34r/s]"
     ]
    },
    {
     "name": "stderr",
     "output_type": "stream",
     "text": [
      "\r  8%|███▉                                                | 427004/5681827 [00:12<02:31, 34587.57r/s]"
     ]
    },
    {
     "name": "stderr",
     "output_type": "stream",
     "text": [
      "\r  8%|███▉                                                | 430631/5681827 [00:12<02:31, 34598.70r/s]"
     ]
    },
    {
     "name": "stderr",
     "output_type": "stream",
     "text": [
      "\r  8%|███▉                                                | 434165/5681827 [00:12<02:31, 34601.11r/s]"
     ]
    },
    {
     "name": "stderr",
     "output_type": "stream",
     "text": [
      "\r  8%|████                                                | 437771/5681827 [00:12<02:31, 34610.12r/s]"
     ]
    },
    {
     "name": "stderr",
     "output_type": "stream",
     "text": [
      "\r  8%|████                                                | 441382/5681827 [00:12<02:31, 34619.46r/s]"
     ]
    },
    {
     "name": "stderr",
     "output_type": "stream",
     "text": [
      "\r  8%|████                                                | 445034/5681827 [00:12<02:31, 34632.01r/s]"
     ]
    },
    {
     "name": "stderr",
     "output_type": "stream",
     "text": [
      "\r  8%|████                                                | 448605/5681827 [00:13<02:33, 34059.14r/s]"
     ]
    },
    {
     "name": "stderr",
     "output_type": "stream",
     "text": [
      "\r  8%|████▏                                               | 452131/5681827 [00:13<02:33, 34067.20r/s]"
     ]
    },
    {
     "name": "stderr",
     "output_type": "stream",
     "text": [
      "\r  8%|████▏                                               | 455644/5681827 [00:13<02:33, 34074.50r/s]"
     ]
    },
    {
     "name": "stderr",
     "output_type": "stream",
     "text": [
      "\r  8%|████▏                                               | 459224/5681827 [00:13<02:33, 34086.25r/s]"
     ]
    },
    {
     "name": "stderr",
     "output_type": "stream",
     "text": [
      "\r  8%|████▏                                               | 462785/5681827 [00:13<02:33, 34096.57r/s]"
     ]
    },
    {
     "name": "stderr",
     "output_type": "stream",
     "text": [
      "\r  8%|████▎                                               | 466353/5681827 [00:13<02:32, 34106.93r/s]"
     ]
    },
    {
     "name": "stderr",
     "output_type": "stream",
     "text": [
      "\r  8%|████▎                                               | 469938/5681827 [00:13<02:32, 34119.39r/s]"
     ]
    },
    {
     "name": "stderr",
     "output_type": "stream",
     "text": [
      "\r  8%|████▎                                               | 473505/5681827 [00:13<02:32, 34129.78r/s]"
     ]
    },
    {
     "name": "stderr",
     "output_type": "stream",
     "text": [
      "\r  8%|████▎                                               | 477002/5681827 [00:13<02:32, 34132.41r/s]"
     ]
    },
    {
     "name": "stderr",
     "output_type": "stream",
     "text": [
      "\r  8%|████▍                                               | 480560/5681827 [00:14<02:32, 34141.62r/s]"
     ]
    },
    {
     "name": "stderr",
     "output_type": "stream",
     "text": [
      "\r  9%|████▍                                               | 484089/5681827 [00:14<02:32, 34149.22r/s]"
     ]
    },
    {
     "name": "stderr",
     "output_type": "stream",
     "text": [
      "\r  9%|████▍                                               | 487686/5681827 [00:14<02:32, 34161.07r/s]"
     ]
    },
    {
     "name": "stderr",
     "output_type": "stream",
     "text": [
      "\r  9%|████▍                                               | 491216/5681827 [00:14<02:31, 34166.97r/s]"
     ]
    },
    {
     "name": "stderr",
     "output_type": "stream",
     "text": [
      "\r  9%|████▌                                               | 494748/5681827 [00:14<02:31, 34174.22r/s]"
     ]
    },
    {
     "name": "stderr",
     "output_type": "stream",
     "text": [
      "\r  9%|████▌                                               | 498270/5681827 [00:14<02:31, 34180.67r/s]"
     ]
    },
    {
     "name": "stderr",
     "output_type": "stream",
     "text": [
      "\r  9%|████▌                                               | 501846/5681827 [00:14<02:31, 34190.60r/s]"
     ]
    },
    {
     "name": "stderr",
     "output_type": "stream",
     "text": [
      "\r  9%|████▋                                               | 505443/5681827 [00:14<02:31, 34201.98r/s]"
     ]
    },
    {
     "name": "stderr",
     "output_type": "stream",
     "text": [
      "\r  9%|████▋                                               | 509005/5681827 [00:14<02:31, 34210.72r/s]"
     ]
    },
    {
     "name": "stderr",
     "output_type": "stream",
     "text": [
      "\r  9%|████▋                                               | 512554/5681827 [00:14<02:31, 34217.42r/s]"
     ]
    },
    {
     "name": "stderr",
     "output_type": "stream",
     "text": [
      "\r  9%|████▋                                               | 516134/5681827 [00:15<02:30, 34227.56r/s]"
     ]
    },
    {
     "name": "stderr",
     "output_type": "stream",
     "text": [
      "\r  9%|████▊                                               | 519702/5681827 [00:15<02:30, 34236.31r/s]"
     ]
    },
    {
     "name": "stderr",
     "output_type": "stream",
     "text": [
      "\r  9%|████▊                                               | 523295/5681827 [00:15<02:30, 34246.45r/s]"
     ]
    },
    {
     "name": "stderr",
     "output_type": "stream",
     "text": [
      "\r  9%|████▊                                               | 526855/5681827 [00:15<02:30, 34249.94r/s]"
     ]
    },
    {
     "name": "stderr",
     "output_type": "stream",
     "text": [
      "\r  9%|████▊                                               | 530390/5681827 [00:15<02:30, 34256.03r/s]"
     ]
    },
    {
     "name": "stderr",
     "output_type": "stream",
     "text": [
      "\r  9%|████▉                                               | 533933/5681827 [00:15<02:30, 34261.45r/s]"
     ]
    },
    {
     "name": "stderr",
     "output_type": "stream",
     "text": [
      "\r  9%|████▉                                               | 537457/5681827 [00:15<02:30, 34260.46r/s]"
     ]
    },
    {
     "name": "stderr",
     "output_type": "stream",
     "text": [
      "\r 10%|████▉                                               | 540948/5681827 [00:15<02:30, 34262.58r/s]"
     ]
    },
    {
     "name": "stderr",
     "output_type": "stream",
     "text": [
      "\r 10%|████▉                                               | 544609/5681827 [00:15<02:29, 34275.50r/s]"
     ]
    },
    {
     "name": "stderr",
     "output_type": "stream",
     "text": [
      "\r 10%|█████                                               | 548196/5681827 [00:15<02:29, 34283.55r/s]"
     ]
    },
    {
     "name": "stderr",
     "output_type": "stream",
     "text": [
      "\r 10%|█████                                               | 551819/5681827 [00:16<02:29, 34294.12r/s]"
     ]
    },
    {
     "name": "stderr",
     "output_type": "stream",
     "text": [
      "\r 10%|█████                                               | 555373/5681827 [00:16<02:29, 34301.09r/s]"
     ]
    },
    {
     "name": "stderr",
     "output_type": "stream",
     "text": [
      "\r 10%|█████                                               | 558943/5681827 [00:16<02:29, 34307.98r/s]"
     ]
    },
    {
     "name": "stderr",
     "output_type": "stream",
     "text": [
      "\r 10%|█████▏                                              | 562491/5681827 [00:16<02:29, 34306.12r/s]"
     ]
    },
    {
     "name": "stderr",
     "output_type": "stream",
     "text": [
      "\r 10%|█████▏                                              | 565995/5681827 [00:16<02:29, 34309.82r/s]"
     ]
    },
    {
     "name": "stderr",
     "output_type": "stream",
     "text": [
      "\r 10%|█████▏                                              | 569523/5681827 [00:16<02:28, 34314.85r/s]"
     ]
    },
    {
     "name": "stderr",
     "output_type": "stream",
     "text": [
      "\r 10%|█████▏                                              | 573028/5681827 [00:16<02:28, 34316.56r/s]"
     ]
    },
    {
     "name": "stderr",
     "output_type": "stream",
     "text": [
      "\r 10%|█████▎                                              | 576571/5681827 [00:16<02:28, 34321.31r/s]"
     ]
    },
    {
     "name": "stderr",
     "output_type": "stream",
     "text": [
      "\r 10%|█████▎                                              | 580165/5681827 [00:16<02:28, 34329.27r/s]"
     ]
    },
    {
     "name": "stderr",
     "output_type": "stream",
     "text": [
      "\r 10%|█████▎                                              | 583729/5681827 [00:17<02:28, 34336.27r/s]"
     ]
    },
    {
     "name": "stderr",
     "output_type": "stream",
     "text": [
      "\r 10%|█████▎                                              | 587257/5681827 [00:17<02:28, 34340.13r/s]"
     ]
    },
    {
     "name": "stderr",
     "output_type": "stream",
     "text": [
      "\r 10%|█████▍                                              | 590777/5681827 [00:17<02:28, 34344.47r/s]"
     ]
    },
    {
     "name": "stderr",
     "output_type": "stream",
     "text": [
      "\r 10%|█████▍                                              | 594293/5681827 [00:17<02:28, 34347.06r/s]"
     ]
    },
    {
     "name": "stderr",
     "output_type": "stream",
     "text": [
      "\r 11%|█████▍                                              | 597798/5681827 [00:17<02:28, 34346.54r/s]"
     ]
    },
    {
     "name": "stderr",
     "output_type": "stream",
     "text": [
      "\r 11%|█████▌                                              | 601288/5681827 [00:17<02:27, 34348.00r/s]"
     ]
    },
    {
     "name": "stderr",
     "output_type": "stream",
     "text": [
      "\r 11%|█████▌                                              | 604763/5681827 [00:17<02:27, 34347.09r/s]"
     ]
    },
    {
     "name": "stderr",
     "output_type": "stream",
     "text": [
      "\r 11%|█████▌                                              | 608222/5681827 [00:17<02:27, 34344.00r/s]"
     ]
    },
    {
     "name": "stderr",
     "output_type": "stream",
     "text": [
      "\r 11%|█████▌                                              | 611805/5681827 [00:17<02:27, 34350.61r/s]"
     ]
    },
    {
     "name": "stderr",
     "output_type": "stream",
     "text": [
      "\r 11%|█████▋                                              | 615377/5681827 [00:17<02:27, 34356.78r/s]"
     ]
    },
    {
     "name": "stderr",
     "output_type": "stream",
     "text": [
      "\r 11%|█████▋                                              | 618945/5681827 [00:18<02:27, 34362.30r/s]"
     ]
    },
    {
     "name": "stderr",
     "output_type": "stream",
     "text": [
      "\r 11%|█████▋                                              | 622565/5681827 [00:18<02:27, 34371.84r/s]"
     ]
    },
    {
     "name": "stderr",
     "output_type": "stream",
     "text": [
      "\r 11%|█████▋                                              | 626159/5681827 [00:18<02:27, 34378.89r/s]"
     ]
    },
    {
     "name": "stderr",
     "output_type": "stream",
     "text": [
      "\r 11%|█████▊                                              | 629745/5681827 [00:18<02:26, 34385.37r/s]"
     ]
    },
    {
     "name": "stderr",
     "output_type": "stream",
     "text": [
      "\r 11%|█████▊                                              | 633299/5681827 [00:18<02:26, 34389.97r/s]"
     ]
    },
    {
     "name": "stderr",
     "output_type": "stream",
     "text": [
      "\r 11%|█████▊                                              | 636932/5681827 [00:18<02:26, 34398.98r/s]"
     ]
    },
    {
     "name": "stderr",
     "output_type": "stream",
     "text": [
      "\r 11%|█████▊                                              | 640492/5681827 [00:18<02:26, 34405.42r/s]"
     ]
    },
    {
     "name": "stderr",
     "output_type": "stream",
     "text": [
      "\r 11%|█████▉                                              | 644052/5681827 [00:18<02:26, 34405.65r/s]"
     ]
    },
    {
     "name": "stderr",
     "output_type": "stream",
     "text": [
      "\r 11%|█████▉                                              | 647616/5681827 [00:18<02:26, 34411.83r/s]"
     ]
    },
    {
     "name": "stderr",
     "output_type": "stream",
     "text": [
      "\r 11%|█████▉                                              | 651183/5681827 [00:18<02:26, 34417.63r/s]"
     ]
    },
    {
     "name": "stderr",
     "output_type": "stream",
     "text": [
      "\r 12%|█████▉                                              | 654796/5681827 [00:19<02:26, 34425.89r/s]"
     ]
    },
    {
     "name": "stderr",
     "output_type": "stream",
     "text": [
      "\r 12%|██████                                              | 658416/5681827 [00:19<02:25, 34433.61r/s]"
     ]
    },
    {
     "name": "stderr",
     "output_type": "stream",
     "text": [
      "\r 12%|██████                                              | 661998/5681827 [00:19<02:25, 34439.17r/s]"
     ]
    },
    {
     "name": "stderr",
     "output_type": "stream",
     "text": [
      "\r 12%|██████                                              | 665560/5681827 [00:19<02:25, 34443.94r/s]"
     ]
    },
    {
     "name": "stderr",
     "output_type": "stream",
     "text": [
      "\r 12%|██████                                              | 669117/5681827 [00:19<02:25, 34449.04r/s]"
     ]
    },
    {
     "name": "stderr",
     "output_type": "stream",
     "text": [
      "\r 12%|██████▏                                             | 672668/5681827 [00:19<02:25, 34452.96r/s]"
     ]
    },
    {
     "name": "stderr",
     "output_type": "stream",
     "text": [
      "\r 12%|██████▏                                             | 676220/5681827 [00:19<02:25, 34456.85r/s]"
     ]
    },
    {
     "name": "stderr",
     "output_type": "stream",
     "text": [
      "\r 12%|██████▏                                             | 679756/5681827 [00:19<02:25, 34459.15r/s]"
     ]
    },
    {
     "name": "stderr",
     "output_type": "stream",
     "text": [
      "\r 12%|██████▎                                             | 683278/5681827 [00:19<02:25, 34461.55r/s]"
     ]
    },
    {
     "name": "stderr",
     "output_type": "stream",
     "text": [
      "\r 12%|██████▎                                             | 686826/5681827 [00:19<02:24, 34465.20r/s]"
     ]
    },
    {
     "name": "stderr",
     "output_type": "stream",
     "text": [
      "\r 12%|██████▎                                             | 690459/5681827 [00:20<02:24, 34473.00r/s]"
     ]
    },
    {
     "name": "stderr",
     "output_type": "stream",
     "text": [
      "\r 12%|██████▎                                             | 694068/5681827 [00:20<02:24, 34479.60r/s]"
     ]
    },
    {
     "name": "stderr",
     "output_type": "stream",
     "text": [
      "\r 12%|██████▍                                             | 697659/5681827 [00:20<02:24, 34486.12r/s]"
     ]
    },
    {
     "name": "stderr",
     "output_type": "stream",
     "text": [
      "\r 12%|██████▍                                             | 701237/5681827 [00:20<02:24, 34490.91r/s]"
     ]
    },
    {
     "name": "stderr",
     "output_type": "stream",
     "text": [
      "\r 12%|██████▍                                             | 704795/5681827 [00:20<02:24, 34494.83r/s]"
     ]
    },
    {
     "name": "stderr",
     "output_type": "stream",
     "text": [
      "\r 12%|██████▍                                             | 708374/5681827 [00:20<02:24, 34500.84r/s]"
     ]
    },
    {
     "name": "stderr",
     "output_type": "stream",
     "text": [
      "\r 13%|██████▌                                             | 711955/5681827 [00:20<02:24, 34506.55r/s]"
     ]
    },
    {
     "name": "stderr",
     "output_type": "stream",
     "text": [
      "\r 13%|██████▌                                             | 715536/5681827 [00:20<02:23, 34511.35r/s]"
     ]
    },
    {
     "name": "stderr",
     "output_type": "stream",
     "text": [
      "\r 13%|██████▌                                             | 719145/5681827 [00:20<02:23, 34518.39r/s]"
     ]
    },
    {
     "name": "stderr",
     "output_type": "stream",
     "text": [
      "\r 13%|██████▌                                             | 722714/5681827 [00:20<02:23, 34523.32r/s]"
     ]
    },
    {
     "name": "stderr",
     "output_type": "stream",
     "text": [
      "\r 13%|██████▋                                             | 726324/5681827 [00:21<02:23, 34529.40r/s]"
     ]
    },
    {
     "name": "stderr",
     "output_type": "stream",
     "text": [
      "\r 13%|██████▋                                             | 729951/5681827 [00:21<02:23, 34537.09r/s]"
     ]
    },
    {
     "name": "stderr",
     "output_type": "stream",
     "text": [
      "\r 13%|██████▋                                             | 733534/5681827 [00:21<02:23, 34540.19r/s]"
     ]
    },
    {
     "name": "stderr",
     "output_type": "stream",
     "text": [
      "\r 13%|██████▋                                             | 737098/5681827 [00:21<02:23, 34544.00r/s]"
     ]
    },
    {
     "name": "stderr",
     "output_type": "stream",
     "text": [
      "\r 13%|██████▊                                             | 740653/5681827 [00:21<02:23, 34546.46r/s]"
     ]
    },
    {
     "name": "stderr",
     "output_type": "stream",
     "text": [
      "\r 13%|██████▊                                             | 744271/5681827 [00:21<02:22, 34552.67r/s]"
     ]
    },
    {
     "name": "stderr",
     "output_type": "stream",
     "text": [
      "\r 13%|██████▊                                             | 747892/5681827 [00:21<02:22, 34558.90r/s]"
     ]
    },
    {
     "name": "stderr",
     "output_type": "stream",
     "text": [
      "\r 13%|██████▉                                             | 751462/5681827 [00:21<02:22, 34563.47r/s]"
     ]
    },
    {
     "name": "stderr",
     "output_type": "stream",
     "text": [
      "\r 13%|██████▉                                             | 755024/5681827 [00:21<02:22, 34565.32r/s]"
     ]
    },
    {
     "name": "stderr",
     "output_type": "stream",
     "text": [
      "\r 13%|██████▉                                             | 758567/5681827 [00:21<02:22, 34562.51r/s]"
     ]
    },
    {
     "name": "stderr",
     "output_type": "stream",
     "text": [
      "\r 13%|██████▉                                             | 762066/5681827 [00:22<02:22, 34561.42r/s]"
     ]
    },
    {
     "name": "stderr",
     "output_type": "stream",
     "text": [
      "\r 13%|███████                                             | 765545/5681827 [00:22<02:22, 34555.61r/s]"
     ]
    },
    {
     "name": "stderr",
     "output_type": "stream",
     "text": [
      "\r 14%|███████                                             | 769049/5681827 [00:22<02:22, 34556.45r/s]"
     ]
    },
    {
     "name": "stderr",
     "output_type": "stream",
     "text": [
      "\r 14%|███████                                             | 772546/5681827 [00:22<02:22, 34557.85r/s]"
     ]
    },
    {
     "name": "stderr",
     "output_type": "stream",
     "text": [
      "\r 14%|███████                                             | 776005/5681827 [00:22<02:21, 34555.58r/s]"
     ]
    },
    {
     "name": "stderr",
     "output_type": "stream",
     "text": [
      "\r 14%|███████▏                                            | 779448/5681827 [00:22<02:21, 34553.10r/s]"
     ]
    },
    {
     "name": "stderr",
     "output_type": "stream",
     "text": [
      "\r 14%|███████▏                                            | 782879/5681827 [00:22<02:21, 34544.60r/s]"
     ]
    },
    {
     "name": "stderr",
     "output_type": "stream",
     "text": [
      "\r 14%|███████▏                                            | 786262/5681827 [00:22<02:21, 34539.05r/s]"
     ]
    },
    {
     "name": "stderr",
     "output_type": "stream",
     "text": [
      "\r 14%|███████▏                                            | 789629/5681827 [00:22<02:21, 34530.53r/s]"
     ]
    },
    {
     "name": "stderr",
     "output_type": "stream",
     "text": [
      "\r 14%|███████▎                                            | 792972/5681827 [00:22<02:21, 34524.47r/s]"
     ]
    },
    {
     "name": "stderr",
     "output_type": "stream",
     "text": [
      "\r 14%|███████▎                                            | 796344/5681827 [00:23<02:21, 34520.53r/s]"
     ]
    },
    {
     "name": "stderr",
     "output_type": "stream",
     "text": [
      "\r 14%|███████▎                                            | 799721/5681827 [00:23<02:21, 34517.08r/s]"
     ]
    },
    {
     "name": "stderr",
     "output_type": "stream",
     "text": [
      "\r 14%|███████▎                                            | 803082/5681827 [00:23<02:21, 34513.03r/s]"
     ]
    },
    {
     "name": "stderr",
     "output_type": "stream",
     "text": [
      "\r 14%|███████▍                                            | 806434/5681827 [00:23<02:21, 34501.96r/s]"
     ]
    },
    {
     "name": "stderr",
     "output_type": "stream",
     "text": [
      "\r 14%|███████▍                                            | 809810/5681827 [00:23<02:21, 34498.06r/s]"
     ]
    },
    {
     "name": "stderr",
     "output_type": "stream",
     "text": [
      "\r 14%|███████▍                                            | 813152/5681827 [00:23<02:21, 34492.95r/s]"
     ]
    },
    {
     "name": "stderr",
     "output_type": "stream",
     "text": [
      "\r 14%|███████▍                                            | 816478/5681827 [00:23<02:21, 34486.57r/s]"
     ]
    },
    {
     "name": "stderr",
     "output_type": "stream",
     "text": [
      "\r 14%|███████▌                                            | 819796/5681827 [00:23<02:21, 34479.25r/s]"
     ]
    },
    {
     "name": "stderr",
     "output_type": "stream",
     "text": [
      "\r 14%|███████▌                                            | 823116/5681827 [00:23<02:20, 34473.68r/s]"
     ]
    },
    {
     "name": "stderr",
     "output_type": "stream",
     "text": [
      "\r 15%|███████▌                                            | 826440/5681827 [00:23<02:20, 34467.83r/s]"
     ]
    },
    {
     "name": "stderr",
     "output_type": "stream",
     "text": [
      "\r 15%|███████▌                                            | 829776/5681827 [00:24<02:20, 34463.06r/s]"
     ]
    },
    {
     "name": "stderr",
     "output_type": "stream",
     "text": [
      "\r 15%|███████▌                                            | 833133/5681827 [00:24<02:20, 34459.13r/s]"
     ]
    },
    {
     "name": "stderr",
     "output_type": "stream",
     "text": [
      "\r 15%|███████▋                                            | 836518/5681827 [00:24<02:20, 34456.60r/s]"
     ]
    },
    {
     "name": "stderr",
     "output_type": "stream",
     "text": [
      "\r 15%|███████▋                                            | 839862/5681827 [00:24<02:20, 34448.51r/s]"
     ]
    },
    {
     "name": "stderr",
     "output_type": "stream",
     "text": [
      "\r 15%|███████▋                                            | 843188/5681827 [00:24<02:20, 34443.05r/s]"
     ]
    },
    {
     "name": "stderr",
     "output_type": "stream",
     "text": [
      "\r 15%|███████▋                                            | 846523/5681827 [00:24<02:20, 34438.44r/s]"
     ]
    },
    {
     "name": "stderr",
     "output_type": "stream",
     "text": [
      "\r 15%|███████▊                                            | 849971/5681827 [00:24<02:20, 34438.32r/s]"
     ]
    },
    {
     "name": "stderr",
     "output_type": "stream",
     "text": [
      "\r 15%|███████▊                                            | 853442/5681827 [00:24<02:20, 34439.28r/s]"
     ]
    },
    {
     "name": "stderr",
     "output_type": "stream",
     "text": [
      "\r 15%|███████▊                                            | 856890/5681827 [00:24<02:20, 34438.93r/s]"
     ]
    },
    {
     "name": "stderr",
     "output_type": "stream",
     "text": [
      "\r 15%|███████▊                                            | 860294/5681827 [00:24<02:20, 34432.19r/s]"
     ]
    },
    {
     "name": "stderr",
     "output_type": "stream",
     "text": [
      "\r 15%|███████▉                                            | 863766/5681827 [00:25<02:19, 34432.82r/s]"
     ]
    },
    {
     "name": "stderr",
     "output_type": "stream",
     "text": [
      "\r 15%|███████▉                                            | 867163/5681827 [00:25<02:19, 34430.61r/s]"
     ]
    },
    {
     "name": "stderr",
     "output_type": "stream",
     "text": [
      "\r 15%|███████▉                                            | 870625/5681827 [00:25<02:19, 34430.91r/s]"
     ]
    },
    {
     "name": "stderr",
     "output_type": "stream",
     "text": [
      "\r 15%|███████▉                                            | 874045/5681827 [00:25<02:19, 34429.59r/s]"
     ]
    },
    {
     "name": "stderr",
     "output_type": "stream",
     "text": [
      "\r 15%|████████                                            | 877455/5681827 [00:25<02:19, 34427.89r/s]"
     ]
    },
    {
     "name": "stderr",
     "output_type": "stream",
     "text": [
      "\r 16%|████████                                            | 880882/5681827 [00:25<02:19, 34426.22r/s]"
     ]
    },
    {
     "name": "stderr",
     "output_type": "stream",
     "text": [
      "\r 16%|████████                                            | 884287/5681827 [00:25<02:19, 34424.19r/s]"
     ]
    },
    {
     "name": "stderr",
     "output_type": "stream",
     "text": [
      "\r 16%|████████                                            | 887688/5681827 [00:25<02:19, 34421.43r/s]"
     ]
    },
    {
     "name": "stderr",
     "output_type": "stream",
     "text": [
      "\r 16%|████████▏                                           | 891096/5681827 [00:25<02:19, 34419.08r/s]"
     ]
    },
    {
     "name": "stderr",
     "output_type": "stream",
     "text": [
      "\r 16%|████████▏                                           | 894563/5681827 [00:25<02:19, 34418.91r/s]"
     ]
    },
    {
     "name": "stderr",
     "output_type": "stream",
     "text": [
      "\r 16%|████████▏                                           | 897986/5681827 [00:26<02:18, 34417.84r/s]"
     ]
    },
    {
     "name": "stderr",
     "output_type": "stream",
     "text": [
      "\r 16%|████████▏                                           | 901422/5681827 [00:26<02:18, 34417.13r/s]"
     ]
    },
    {
     "name": "stderr",
     "output_type": "stream",
     "text": [
      "\r 16%|████████▎                                           | 904901/5681827 [00:26<02:18, 34417.51r/s]"
     ]
    },
    {
     "name": "stderr",
     "output_type": "stream",
     "text": [
      "\r 16%|████████▎                                           | 908358/5681827 [00:26<02:18, 34417.85r/s]"
     ]
    },
    {
     "name": "stderr",
     "output_type": "stream",
     "text": [
      "\r 16%|████████▎                                           | 911808/5681827 [00:26<02:18, 34417.73r/s]"
     ]
    },
    {
     "name": "stderr",
     "output_type": "stream",
     "text": [
      "\r 16%|████████▍                                           | 915287/5681827 [00:26<02:18, 34418.04r/s]"
     ]
    },
    {
     "name": "stderr",
     "output_type": "stream",
     "text": [
      "\r 16%|████████▍                                           | 918774/5681827 [00:26<02:18, 34418.61r/s]"
     ]
    },
    {
     "name": "stderr",
     "output_type": "stream",
     "text": [
      "\r 16%|████████▍                                           | 922219/5681827 [00:26<02:18, 34417.11r/s]"
     ]
    },
    {
     "name": "stderr",
     "output_type": "stream",
     "text": [
      "\r 16%|████████▍                                           | 925651/5681827 [00:26<02:18, 34411.81r/s]"
     ]
    },
    {
     "name": "stderr",
     "output_type": "stream",
     "text": [
      "\r 16%|████████▌                                           | 929045/5681827 [00:27<02:18, 34402.05r/s]"
     ]
    },
    {
     "name": "stderr",
     "output_type": "stream",
     "text": [
      "\r 16%|████████▌                                           | 932379/5681827 [00:27<02:18, 34386.95r/s]"
     ]
    },
    {
     "name": "stderr",
     "output_type": "stream",
     "text": [
      "\r 16%|████████▌                                           | 935632/5681827 [00:27<02:18, 34367.75r/s]"
     ]
    },
    {
     "name": "stderr",
     "output_type": "stream",
     "text": [
      "\r 17%|████████▌                                           | 938798/5681827 [00:27<02:18, 34339.66r/s]"
     ]
    },
    {
     "name": "stderr",
     "output_type": "stream",
     "text": [
      "\r 17%|████████▌                                           | 941844/5681827 [00:27<02:18, 34316.70r/s]"
     ]
    },
    {
     "name": "stderr",
     "output_type": "stream",
     "text": [
      "\r 17%|████████▋                                           | 944830/5681827 [00:27<02:18, 34282.67r/s]"
     ]
    },
    {
     "name": "stderr",
     "output_type": "stream",
     "text": [
      "\r 17%|████████▋                                           | 947704/5681827 [00:27<02:18, 34254.74r/s]"
     ]
    },
    {
     "name": "stderr",
     "output_type": "stream",
     "text": [
      "\r 17%|████████▋                                           | 950526/5681827 [00:27<02:18, 34230.12r/s]"
     ]
    },
    {
     "name": "stderr",
     "output_type": "stream",
     "text": [
      "\r 17%|████████▋                                           | 953400/5681827 [00:27<02:18, 34210.15r/s]"
     ]
    },
    {
     "name": "stderr",
     "output_type": "stream",
     "text": [
      "\r 17%|████████▊                                           | 956277/5681827 [00:27<02:18, 34190.39r/s]"
     ]
    },
    {
     "name": "stderr",
     "output_type": "stream",
     "text": [
      "\r 17%|████████▊                                           | 959250/5681827 [00:28<02:18, 34174.06r/s]"
     ]
    },
    {
     "name": "stderr",
     "output_type": "stream",
     "text": [
      "\r 17%|████████▊                                           | 962323/5681827 [00:28<02:18, 34160.82r/s]"
     ]
    },
    {
     "name": "stderr",
     "output_type": "stream",
     "text": [
      "\r 17%|████████▊                                           | 965250/5681827 [00:28<02:18, 34129.81r/s]"
     ]
    },
    {
     "name": "stderr",
     "output_type": "stream",
     "text": [
      "\r 17%|████████▊                                           | 968087/5681827 [00:28<02:18, 34093.73r/s]"
     ]
    },
    {
     "name": "stderr",
     "output_type": "stream",
     "text": [
      "\r 17%|████████▉                                           | 970868/5681827 [00:28<02:18, 34071.35r/s]"
     ]
    },
    {
     "name": "stderr",
     "output_type": "stream",
     "text": [
      "\r 17%|████████▉                                           | 973815/5681827 [00:28<02:18, 34054.87r/s]"
     ]
    },
    {
     "name": "stderr",
     "output_type": "stream",
     "text": [
      "\r 17%|████████▉                                           | 976892/5681827 [00:28<02:18, 34042.39r/s]"
     ]
    },
    {
     "name": "stderr",
     "output_type": "stream",
     "text": [
      "\r 17%|████████▉                                           | 979995/5681827 [00:28<02:18, 34030.91r/s]"
     ]
    },
    {
     "name": "stderr",
     "output_type": "stream",
     "text": [
      "\r 17%|████████▉                                           | 983230/5681827 [00:28<02:18, 34024.09r/s]"
     ]
    },
    {
     "name": "stderr",
     "output_type": "stream",
     "text": [
      "\r 17%|█████████                                           | 986467/5681827 [00:28<02:18, 34017.37r/s]"
     ]
    },
    {
     "name": "stderr",
     "output_type": "stream",
     "text": [
      "\r 17%|█████████                                           | 989786/5681827 [00:29<02:17, 34013.50r/s]"
     ]
    },
    {
     "name": "stderr",
     "output_type": "stream",
     "text": [
      "\r 17%|█████████                                           | 993167/5681827 [00:29<02:17, 34011.80r/s]"
     ]
    },
    {
     "name": "stderr",
     "output_type": "stream",
     "text": [
      "\r 18%|█████████                                           | 996503/5681827 [00:29<02:17, 34008.57r/s]"
     ]
    },
    {
     "name": "stderr",
     "output_type": "stream",
     "text": [
      "\r 18%|█████████▏                                          | 999843/5681827 [00:29<02:17, 34005.54r/s]"
     ]
    },
    {
     "name": "stderr",
     "output_type": "stream",
     "text": [
      "\r 18%|█████████                                          | 1003147/5681827 [00:29<02:17, 34001.25r/s]"
     ]
    },
    {
     "name": "stderr",
     "output_type": "stream",
     "text": [
      "\r 18%|█████████                                          | 1006558/5681827 [00:29<02:17, 34000.71r/s]"
     ]
    },
    {
     "name": "stderr",
     "output_type": "stream",
     "text": [
      "\r 18%|█████████                                          | 1010020/5681827 [00:29<02:17, 34001.77r/s]"
     ]
    },
    {
     "name": "stderr",
     "output_type": "stream",
     "text": [
      "\r 18%|█████████                                          | 1013429/5681827 [00:29<02:17, 34001.79r/s]"
     ]
    },
    {
     "name": "stderr",
     "output_type": "stream",
     "text": [
      "\r 18%|█████████▏                                         | 1016867/5681827 [00:29<02:17, 34002.02r/s]"
     ]
    },
    {
     "name": "stderr",
     "output_type": "stream",
     "text": [
      "\r 18%|█████████▏                                         | 1020326/5681827 [00:30<02:17, 34003.03r/s]"
     ]
    },
    {
     "name": "stderr",
     "output_type": "stream",
     "text": [
      "\r 18%|█████████▏                                         | 1023779/5681827 [00:30<02:16, 34003.74r/s]"
     ]
    },
    {
     "name": "stderr",
     "output_type": "stream",
     "text": [
      "\r 18%|█████████▏                                         | 1027179/5681827 [00:30<02:16, 34002.31r/s]"
     ]
    },
    {
     "name": "stderr",
     "output_type": "stream",
     "text": [
      "\r 18%|█████████▎                                         | 1030566/5681827 [00:30<02:16, 33999.32r/s]"
     ]
    },
    {
     "name": "stderr",
     "output_type": "stream",
     "text": [
      "\r 18%|█████████▎                                         | 1033931/5681827 [00:30<02:16, 33995.51r/s]"
     ]
    },
    {
     "name": "stderr",
     "output_type": "stream",
     "text": [
      "\r 18%|█████████▎                                         | 1037273/5681827 [00:30<02:16, 33993.19r/s]"
     ]
    },
    {
     "name": "stderr",
     "output_type": "stream",
     "text": [
      "\r 18%|█████████▎                                         | 1040620/5681827 [00:30<02:16, 33991.12r/s]"
     ]
    },
    {
     "name": "stderr",
     "output_type": "stream",
     "text": [
      "\r 18%|█████████▎                                         | 1043983/5681827 [00:30<02:16, 33989.65r/s]"
     ]
    },
    {
     "name": "stderr",
     "output_type": "stream",
     "text": [
      "\r 18%|█████████▍                                         | 1047406/5681827 [00:30<02:16, 33989.98r/s]"
     ]
    },
    {
     "name": "stderr",
     "output_type": "stream",
     "text": [
      "\r 18%|█████████▍                                         | 1050850/5681827 [00:30<02:16, 33991.03r/s]"
     ]
    },
    {
     "name": "stderr",
     "output_type": "stream",
     "text": [
      "\r 19%|█████████▍                                         | 1054306/5681827 [00:31<02:16, 33992.57r/s]"
     ]
    },
    {
     "name": "stderr",
     "output_type": "stream",
     "text": [
      "\r 19%|█████████▍                                         | 1057727/5681827 [00:31<02:16, 33992.81r/s]"
     ]
    },
    {
     "name": "stderr",
     "output_type": "stream",
     "text": [
      "\r 19%|█████████▌                                         | 1061200/5681827 [00:31<02:15, 33994.84r/s]"
     ]
    },
    {
     "name": "stderr",
     "output_type": "stream",
     "text": [
      "\r 19%|█████████▌                                         | 1064622/5681827 [00:31<02:15, 33993.52r/s]"
     ]
    },
    {
     "name": "stderr",
     "output_type": "stream",
     "text": [
      "\r 19%|█████████▌                                         | 1068025/5681827 [00:31<02:15, 33991.07r/s]"
     ]
    },
    {
     "name": "stderr",
     "output_type": "stream",
     "text": [
      "\r 19%|█████████▌                                         | 1071405/5681827 [00:31<02:15, 33989.58r/s]"
     ]
    },
    {
     "name": "stderr",
     "output_type": "stream",
     "text": [
      "\r 19%|█████████▋                                         | 1074828/5681827 [00:31<02:15, 33990.00r/s]"
     ]
    },
    {
     "name": "stderr",
     "output_type": "stream",
     "text": [
      "\r 19%|█████████▋                                         | 1078269/5681827 [00:31<02:15, 33990.86r/s]"
     ]
    },
    {
     "name": "stderr",
     "output_type": "stream",
     "text": [
      "\r 19%|█████████▋                                         | 1081688/5681827 [00:31<02:15, 33990.99r/s]"
     ]
    },
    {
     "name": "stderr",
     "output_type": "stream",
     "text": [
      "\r 19%|█████████▋                                         | 1085137/5681827 [00:31<02:15, 33992.17r/s]"
     ]
    },
    {
     "name": "stderr",
     "output_type": "stream",
     "text": [
      "\r 19%|█████████▊                                         | 1088547/5681827 [00:32<02:15, 33988.94r/s]"
     ]
    },
    {
     "name": "stderr",
     "output_type": "stream",
     "text": [
      "\r 19%|█████████▊                                         | 1091945/5681827 [00:32<02:15, 33988.49r/s]"
     ]
    },
    {
     "name": "stderr",
     "output_type": "stream",
     "text": [
      "\r 19%|█████████▊                                         | 1095325/5681827 [00:32<02:14, 33985.20r/s]"
     ]
    },
    {
     "name": "stderr",
     "output_type": "stream",
     "text": [
      "\r 19%|█████████▊                                         | 1098679/5681827 [00:32<02:14, 33982.95r/s]"
     ]
    },
    {
     "name": "stderr",
     "output_type": "stream",
     "text": [
      "\r 19%|█████████▉                                         | 1102025/5681827 [00:32<02:14, 33980.46r/s]"
     ]
    },
    {
     "name": "stderr",
     "output_type": "stream",
     "text": [
      "\r 19%|█████████▉                                         | 1105363/5681827 [00:32<02:14, 33978.25r/s]"
     ]
    },
    {
     "name": "stderr",
     "output_type": "stream",
     "text": [
      "\r 20%|█████████▉                                         | 1108744/5681827 [00:32<02:14, 33976.81r/s]"
     ]
    },
    {
     "name": "stderr",
     "output_type": "stream",
     "text": [
      "\r 20%|█████████▉                                         | 1112097/5681827 [00:32<02:14, 33975.09r/s]"
     ]
    },
    {
     "name": "stderr",
     "output_type": "stream",
     "text": [
      "\r 20%|██████████                                         | 1115557/5681827 [00:32<02:14, 33976.08r/s]"
     ]
    },
    {
     "name": "stderr",
     "output_type": "stream",
     "text": [
      "\r 20%|██████████                                         | 1119020/5681827 [00:32<02:14, 33977.16r/s]"
     ]
    },
    {
     "name": "stderr",
     "output_type": "stream",
     "text": [
      "\r 20%|██████████                                         | 1122439/5681827 [00:33<02:14, 33977.33r/s]"
     ]
    },
    {
     "name": "stderr",
     "output_type": "stream",
     "text": [
      "\r 20%|██████████                                         | 1125863/5681827 [00:33<02:14, 33978.04r/s]"
     ]
    },
    {
     "name": "stderr",
     "output_type": "stream",
     "text": [
      "\r 20%|██████████▏                                        | 1129264/5681827 [00:33<02:13, 33976.02r/s]"
     ]
    },
    {
     "name": "stderr",
     "output_type": "stream",
     "text": [
      "\r 20%|██████████▏                                        | 1132644/5681827 [00:33<02:13, 33972.30r/s]"
     ]
    },
    {
     "name": "stderr",
     "output_type": "stream",
     "text": [
      "\r 20%|██████████▏                                        | 1135994/5681827 [00:33<02:13, 33969.84r/s]"
     ]
    },
    {
     "name": "stderr",
     "output_type": "stream",
     "text": [
      "\r 20%|██████████▏                                        | 1139334/5681827 [00:33<02:13, 33966.97r/s]"
     ]
    },
    {
     "name": "stderr",
     "output_type": "stream",
     "text": [
      "\r 20%|██████████▎                                        | 1142686/5681827 [00:33<02:13, 33965.49r/s]"
     ]
    },
    {
     "name": "stderr",
     "output_type": "stream",
     "text": [
      "\r 20%|██████████▎                                        | 1146092/5681827 [00:33<02:13, 33965.55r/s]"
     ]
    },
    {
     "name": "stderr",
     "output_type": "stream",
     "text": [
      "\r 20%|██████████▎                                        | 1149556/5681827 [00:33<02:13, 33966.61r/s]"
     ]
    },
    {
     "name": "stderr",
     "output_type": "stream",
     "text": [
      "\r 20%|██████████▎                                        | 1152980/5681827 [00:33<02:13, 33966.57r/s]"
     ]
    },
    {
     "name": "stderr",
     "output_type": "stream",
     "text": [
      "\r 20%|██████████▍                                        | 1156363/5681827 [00:34<02:13, 33964.34r/s]"
     ]
    },
    {
     "name": "stderr",
     "output_type": "stream",
     "text": [
      "\r 20%|██████████▍                                        | 1159728/5681827 [00:34<02:13, 33958.20r/s]"
     ]
    },
    {
     "name": "stderr",
     "output_type": "stream",
     "text": [
      "\r 20%|██████████▍                                        | 1163043/5681827 [00:34<02:13, 33937.69r/s]"
     ]
    },
    {
     "name": "stderr",
     "output_type": "stream",
     "text": [
      "\r 21%|██████████▍                                        | 1166204/5681827 [00:34<02:13, 33924.14r/s]"
     ]
    },
    {
     "name": "stderr",
     "output_type": "stream",
     "text": [
      "\r 21%|██████████▍                                        | 1169313/5681827 [00:34<02:13, 33909.71r/s]"
     ]
    },
    {
     "name": "stderr",
     "output_type": "stream",
     "text": [
      "\r 21%|██████████▌                                        | 1172358/5681827 [00:34<02:13, 33895.37r/s]"
     ]
    },
    {
     "name": "stderr",
     "output_type": "stream",
     "text": [
      "\r 21%|██████████▌                                        | 1175365/5681827 [00:34<02:13, 33882.04r/s]"
     ]
    },
    {
     "name": "stderr",
     "output_type": "stream",
     "text": [
      "\r 21%|██████████▌                                        | 1178359/5681827 [00:34<02:12, 33870.39r/s]"
     ]
    },
    {
     "name": "stderr",
     "output_type": "stream",
     "text": [
      "\r 21%|██████████▌                                        | 1181480/5681827 [00:34<02:12, 33861.98r/s]"
     ]
    },
    {
     "name": "stderr",
     "output_type": "stream",
     "text": [
      "\r 21%|██████████▋                                        | 1184526/5681827 [00:34<02:12, 33851.95r/s]"
     ]
    },
    {
     "name": "stderr",
     "output_type": "stream",
     "text": [
      "\r 21%|██████████▋                                        | 1187652/5681827 [00:35<02:12, 33843.63r/s]"
     ]
    },
    {
     "name": "stderr",
     "output_type": "stream",
     "text": [
      "\r 21%|██████████▋                                        | 1190739/5681827 [00:35<02:12, 33834.89r/s]"
     ]
    },
    {
     "name": "stderr",
     "output_type": "stream",
     "text": [
      "\r 21%|██████████▋                                        | 1193820/5681827 [00:35<02:12, 33826.01r/s]"
     ]
    },
    {
     "name": "stderr",
     "output_type": "stream",
     "text": [
      "\r 21%|██████████▋                                        | 1196976/5681827 [00:35<02:12, 33818.81r/s]"
     ]
    },
    {
     "name": "stderr",
     "output_type": "stream",
     "text": [
      "\r 21%|██████████▊                                        | 1200250/5681827 [00:35<02:12, 33815.30r/s]"
     ]
    },
    {
     "name": "stderr",
     "output_type": "stream",
     "text": [
      "\r 21%|██████████▊                                        | 1203492/5681827 [00:35<02:12, 33811.03r/s]"
     ]
    },
    {
     "name": "stderr",
     "output_type": "stream",
     "text": [
      "\r 21%|██████████▊                                        | 1206788/5681827 [00:35<02:12, 33807.86r/s]"
     ]
    },
    {
     "name": "stderr",
     "output_type": "stream",
     "text": [
      "\r 21%|██████████▊                                        | 1210035/5681827 [00:35<02:12, 33803.30r/s]"
     ]
    },
    {
     "name": "stderr",
     "output_type": "stream",
     "text": [
      "\r 21%|██████████▉                                        | 1213305/5681827 [00:35<02:12, 33799.40r/s]"
     ]
    },
    {
     "name": "stderr",
     "output_type": "stream",
     "text": [
      "\r 21%|██████████▉                                        | 1216522/5681827 [00:35<02:12, 33794.08r/s]"
     ]
    },
    {
     "name": "stderr",
     "output_type": "stream",
     "text": [
      "\r 21%|██████████▉                                        | 1219851/5681827 [00:36<02:12, 33791.85r/s]"
     ]
    },
    {
     "name": "stderr",
     "output_type": "stream",
     "text": [
      "\r 22%|██████████▉                                        | 1223086/5681827 [00:36<02:11, 33786.19r/s]"
     ]
    },
    {
     "name": "stderr",
     "output_type": "stream",
     "text": [
      "\r 22%|███████████                                        | 1226304/5681827 [00:36<02:11, 33779.61r/s]"
     ]
    },
    {
     "name": "stderr",
     "output_type": "stream",
     "text": [
      "\r 22%|███████████                                        | 1229519/5681827 [00:36<02:11, 33774.81r/s]"
     ]
    },
    {
     "name": "stderr",
     "output_type": "stream",
     "text": [
      "\r 22%|███████████                                        | 1232828/5681827 [00:36<02:11, 33772.17r/s]"
     ]
    },
    {
     "name": "stderr",
     "output_type": "stream",
     "text": [
      "\r 22%|███████████                                        | 1236160/5681827 [00:36<02:11, 33770.09r/s]"
     ]
    },
    {
     "name": "stderr",
     "output_type": "stream",
     "text": [
      "\r 22%|███████████▏                                       | 1239494/5681827 [00:36<02:11, 33768.13r/s]"
     ]
    },
    {
     "name": "stderr",
     "output_type": "stream",
     "text": [
      "\r 22%|███████████▏                                       | 1242785/5681827 [00:36<02:11, 33765.51r/s]"
     ]
    },
    {
     "name": "stderr",
     "output_type": "stream",
     "text": [
      "\r 22%|███████████▏                                       | 1246185/5681827 [00:36<02:11, 33765.35r/s]"
     ]
    },
    {
     "name": "stderr",
     "output_type": "stream",
     "text": [
      "\r 22%|███████████▏                                       | 1249632/5681827 [00:37<02:11, 33766.46r/s]"
     ]
    },
    {
     "name": "stderr",
     "output_type": "stream",
     "text": [
      "\r 22%|███████████▏                                       | 1253109/5681827 [00:37<02:11, 33768.39r/s]"
     ]
    },
    {
     "name": "stderr",
     "output_type": "stream",
     "text": [
      "\r 22%|███████████▎                                       | 1256504/5681827 [00:37<02:11, 33768.10r/s]"
     ]
    },
    {
     "name": "stderr",
     "output_type": "stream",
     "text": [
      "\r 22%|███████████▎                                       | 1259872/5681827 [00:37<02:10, 33767.16r/s]"
     ]
    },
    {
     "name": "stderr",
     "output_type": "stream",
     "text": [
      "\r 22%|███████████▎                                       | 1263233/5681827 [00:37<02:10, 33764.10r/s]"
     ]
    },
    {
     "name": "stderr",
     "output_type": "stream",
     "text": [
      "\r 22%|███████████▎                                       | 1266565/5681827 [00:37<02:10, 33761.71r/s]"
     ]
    },
    {
     "name": "stderr",
     "output_type": "stream",
     "text": [
      "\r 22%|███████████▍                                       | 1269907/5681827 [00:37<02:10, 33760.55r/s]"
     ]
    },
    {
     "name": "stderr",
     "output_type": "stream",
     "text": [
      "\r 22%|███████████▍                                       | 1273242/5681827 [00:37<02:10, 33759.18r/s]"
     ]
    },
    {
     "name": "stderr",
     "output_type": "stream",
     "text": [
      "\r 22%|███████████▍                                       | 1276587/5681827 [00:37<02:10, 33758.01r/s]"
     ]
    },
    {
     "name": "stderr",
     "output_type": "stream",
     "text": [
      "\r 23%|███████████▍                                       | 1279974/5681827 [00:37<02:10, 33758.02r/s]"
     ]
    },
    {
     "name": "stderr",
     "output_type": "stream",
     "text": [
      "\r 23%|███████████▌                                       | 1283317/5681827 [00:38<02:10, 33756.85r/s]"
     ]
    },
    {
     "name": "stderr",
     "output_type": "stream",
     "text": [
      "\r 23%|███████████▌                                       | 1286656/5681827 [00:38<02:10, 33755.57r/s]"
     ]
    },
    {
     "name": "stderr",
     "output_type": "stream",
     "text": [
      "\r 23%|███████████▌                                       | 1289991/5681827 [00:38<02:10, 33754.18r/s]"
     ]
    },
    {
     "name": "stderr",
     "output_type": "stream",
     "text": [
      "\r 23%|███████████▌                                       | 1293323/5681827 [00:38<02:10, 33750.00r/s]"
     ]
    },
    {
     "name": "stderr",
     "output_type": "stream",
     "text": [
      "\r 23%|███████████▋                                       | 1296622/5681827 [00:38<02:09, 33738.91r/s]"
     ]
    },
    {
     "name": "stderr",
     "output_type": "stream",
     "text": [
      "\r 23%|███████████▋                                       | 1299828/5681827 [00:38<02:09, 33730.28r/s]"
     ]
    },
    {
     "name": "stderr",
     "output_type": "stream",
     "text": [
      "\r 23%|███████████▋                                       | 1302989/5681827 [00:38<02:09, 33722.98r/s]"
     ]
    },
    {
     "name": "stderr",
     "output_type": "stream",
     "text": [
      "\r 23%|███████████▋                                       | 1306131/5681827 [00:38<02:09, 33715.23r/s]"
     ]
    },
    {
     "name": "stderr",
     "output_type": "stream",
     "text": [
      "\r 23%|███████████▊                                       | 1309267/5681827 [00:38<02:09, 33708.90r/s]"
     ]
    },
    {
     "name": "stderr",
     "output_type": "stream",
     "text": [
      "\r 23%|███████████▊                                       | 1312391/5681827 [00:38<02:09, 33699.81r/s]"
     ]
    },
    {
     "name": "stderr",
     "output_type": "stream",
     "text": [
      "\r 23%|███████████▊                                       | 1315486/5681827 [00:39<02:09, 33691.66r/s]"
     ]
    },
    {
     "name": "stderr",
     "output_type": "stream",
     "text": [
      "\r 23%|███████████▊                                       | 1318574/5681827 [00:39<02:09, 33684.20r/s]"
     ]
    },
    {
     "name": "stderr",
     "output_type": "stream",
     "text": [
      "\r 23%|███████████▊                                       | 1321656/5681827 [00:39<02:09, 33676.64r/s]"
     ]
    },
    {
     "name": "stderr",
     "output_type": "stream",
     "text": [
      "\r 23%|███████████▉                                       | 1324735/5681827 [00:39<02:09, 33668.76r/s]"
     ]
    },
    {
     "name": "stderr",
     "output_type": "stream",
     "text": [
      "\r 23%|███████████▉                                       | 1327809/5681827 [00:39<02:09, 33659.74r/s]"
     ]
    },
    {
     "name": "stderr",
     "output_type": "stream",
     "text": [
      "\r 23%|███████████▉                                       | 1330866/5681827 [00:39<02:09, 33650.28r/s]"
     ]
    },
    {
     "name": "stderr",
     "output_type": "stream",
     "text": [
      "\r 23%|███████████▉                                       | 1333906/5681827 [00:39<02:09, 33638.48r/s]"
     ]
    },
    {
     "name": "stderr",
     "output_type": "stream",
     "text": [
      "\r 24%|████████████                                       | 1336909/5681827 [00:39<02:09, 33625.88r/s]"
     ]
    },
    {
     "name": "stderr",
     "output_type": "stream",
     "text": [
      "\r 24%|████████████                                       | 1339876/5681827 [00:39<02:09, 33613.17r/s]"
     ]
    },
    {
     "name": "stderr",
     "output_type": "stream",
     "text": [
      "\r 24%|████████████                                       | 1342815/5681827 [00:39<02:09, 33600.69r/s]"
     ]
    },
    {
     "name": "stderr",
     "output_type": "stream",
     "text": [
      "\r 24%|████████████                                       | 1345734/5681827 [00:40<02:09, 33586.10r/s]"
     ]
    },
    {
     "name": "stderr",
     "output_type": "stream",
     "text": [
      "\r 24%|████████████                                       | 1348617/5681827 [00:40<02:09, 33571.87r/s]"
     ]
    },
    {
     "name": "stderr",
     "output_type": "stream",
     "text": [
      "\r 24%|████████████▏                                      | 1351476/5681827 [00:40<02:09, 33557.09r/s]"
     ]
    },
    {
     "name": "stderr",
     "output_type": "stream",
     "text": [
      "\r 24%|████████████▏                                      | 1354311/5681827 [00:40<02:09, 33543.94r/s]"
     ]
    },
    {
     "name": "stderr",
     "output_type": "stream",
     "text": [
      "\r 24%|████████████▏                                      | 1357200/5681827 [00:40<02:08, 33532.26r/s]"
     ]
    },
    {
     "name": "stderr",
     "output_type": "stream",
     "text": [
      "\r 24%|████████████▏                                      | 1360171/5681827 [00:40<02:08, 33522.05r/s]"
     ]
    },
    {
     "name": "stderr",
     "output_type": "stream",
     "text": [
      "\r 24%|████████████▏                                      | 1363142/5681827 [00:40<02:08, 33512.41r/s]"
     ]
    },
    {
     "name": "stderr",
     "output_type": "stream",
     "text": [
      "\r 24%|████████████▎                                      | 1366093/5681827 [00:40<02:08, 33502.32r/s]"
     ]
    },
    {
     "name": "stderr",
     "output_type": "stream",
     "text": [
      "\r 24%|████████████▎                                      | 1369148/5681827 [00:40<02:08, 33494.38r/s]"
     ]
    },
    {
     "name": "stderr",
     "output_type": "stream",
     "text": [
      "\r 24%|████████████▎                                      | 1372338/5681827 [00:40<02:08, 33489.79r/s]"
     ]
    },
    {
     "name": "stderr",
     "output_type": "stream",
     "text": [
      "\r 24%|████████████▎                                      | 1375569/5681827 [00:41<02:08, 33486.20r/s]"
     ]
    },
    {
     "name": "stderr",
     "output_type": "stream",
     "text": [
      "\r 24%|████████████▍                                      | 1378738/5681827 [00:41<02:08, 33481.20r/s]"
     ]
    },
    {
     "name": "stderr",
     "output_type": "stream",
     "text": [
      "\r 24%|████████████▍                                      | 1382081/5681827 [00:41<02:08, 33480.33r/s]"
     ]
    },
    {
     "name": "stderr",
     "output_type": "stream",
     "text": [
      "\r 24%|████████████▍                                      | 1385357/5681827 [00:41<02:08, 33477.92r/s]"
     ]
    },
    {
     "name": "stderr",
     "output_type": "stream",
     "text": [
      "\r 24%|████████████▍                                      | 1388649/5681827 [00:41<02:08, 33476.32r/s]"
     ]
    },
    {
     "name": "stderr",
     "output_type": "stream",
     "text": [
      "\r 24%|████████████▍                                      | 1391979/5681827 [00:41<02:08, 33475.19r/s]"
     ]
    },
    {
     "name": "stderr",
     "output_type": "stream",
     "text": [
      "\r 25%|████████████▌                                      | 1395417/5681827 [00:41<02:08, 33476.65r/s]"
     ]
    },
    {
     "name": "stderr",
     "output_type": "stream",
     "text": [
      "\r 25%|████████████▌                                      | 1398797/5681827 [00:41<02:07, 33477.09r/s]"
     ]
    },
    {
     "name": "stderr",
     "output_type": "stream",
     "text": [
      "\r 25%|████████████▌                                      | 1402111/5681827 [00:41<02:07, 33469.10r/s]"
     ]
    },
    {
     "name": "stderr",
     "output_type": "stream",
     "text": [
      "\r 25%|████████████▌                                      | 1405343/5681827 [00:41<02:07, 33460.56r/s]"
     ]
    },
    {
     "name": "stderr",
     "output_type": "stream",
     "text": [
      "\r 25%|████████████▋                                      | 1408509/5681827 [00:42<02:07, 33452.85r/s]"
     ]
    },
    {
     "name": "stderr",
     "output_type": "stream",
     "text": [
      "\r 25%|████████████▋                                      | 1411636/5681827 [00:42<02:07, 33446.19r/s]"
     ]
    },
    {
     "name": "stderr",
     "output_type": "stream",
     "text": [
      "\r 25%|████████████▋                                      | 1414796/5681827 [00:42<02:07, 33441.20r/s]"
     ]
    },
    {
     "name": "stderr",
     "output_type": "stream",
     "text": [
      "\r 25%|████████████▋                                      | 1417976/5681827 [00:42<02:07, 33436.64r/s]"
     ]
    },
    {
     "name": "stderr",
     "output_type": "stream",
     "text": [
      "\r 25%|████████████▊                                      | 1421224/5681827 [00:42<02:07, 33433.70r/s]"
     ]
    },
    {
     "name": "stderr",
     "output_type": "stream",
     "text": [
      "\r 25%|████████████▊                                      | 1424432/5681827 [00:42<02:07, 33429.85r/s]"
     ]
    },
    {
     "name": "stderr",
     "output_type": "stream",
     "text": [
      "\r 25%|████████████▊                                      | 1427759/5681827 [00:42<02:07, 33428.83r/s]"
     ]
    },
    {
     "name": "stderr",
     "output_type": "stream",
     "text": [
      "\r 25%|████████████▊                                      | 1431091/5681827 [00:42<02:07, 33428.32r/s]"
     ]
    },
    {
     "name": "stderr",
     "output_type": "stream",
     "text": [
      "\r 25%|████████████▉                                      | 1434405/5681827 [00:42<02:07, 33426.99r/s]"
     ]
    },
    {
     "name": "stderr",
     "output_type": "stream",
     "text": [
      "\r 25%|████████████▉                                      | 1437696/5681827 [00:43<02:06, 33425.17r/s]"
     ]
    },
    {
     "name": "stderr",
     "output_type": "stream",
     "text": [
      "\r 25%|████████████▉                                      | 1441023/5681827 [00:43<02:06, 33424.54r/s]"
     ]
    },
    {
     "name": "stderr",
     "output_type": "stream",
     "text": [
      "\r 25%|████████████▉                                      | 1444298/5681827 [00:43<02:06, 33421.98r/s]"
     ]
    },
    {
     "name": "stderr",
     "output_type": "stream",
     "text": [
      "\r 25%|████████████▉                                      | 1447613/5681827 [00:43<02:06, 33421.12r/s]"
     ]
    },
    {
     "name": "stderr",
     "output_type": "stream",
     "text": [
      "\r 26%|█████████████                                      | 1450890/5681827 [00:43<02:06, 33419.38r/s]"
     ]
    },
    {
     "name": "stderr",
     "output_type": "stream",
     "text": [
      "\r 26%|█████████████                                      | 1454232/5681827 [00:43<02:06, 33419.06r/s]"
     ]
    },
    {
     "name": "stderr",
     "output_type": "stream",
     "text": [
      "\r 26%|█████████████                                      | 1457562/5681827 [00:43<02:06, 33418.54r/s]"
     ]
    },
    {
     "name": "stderr",
     "output_type": "stream",
     "text": [
      "\r 26%|█████████████                                      | 1461002/5681827 [00:43<02:06, 33420.54r/s]"
     ]
    },
    {
     "name": "stderr",
     "output_type": "stream",
     "text": [
      "\r 26%|█████████████▏                                     | 1464368/5681827 [00:43<02:06, 33420.81r/s]"
     ]
    },
    {
     "name": "stderr",
     "output_type": "stream",
     "text": [
      "\r 26%|█████████████▏                                     | 1467849/5681827 [00:43<02:06, 33423.69r/s]"
     ]
    },
    {
     "name": "stderr",
     "output_type": "stream",
     "text": [
      "\r 26%|█████████████▏                                     | 1471230/5681827 [00:44<02:05, 33423.94r/s]"
     ]
    },
    {
     "name": "stderr",
     "output_type": "stream",
     "text": [
      "\r 26%|█████████████▏                                     | 1474655/5681827 [00:44<02:05, 33425.60r/s]"
     ]
    },
    {
     "name": "stderr",
     "output_type": "stream",
     "text": [
      "\r 26%|█████████████▎                                     | 1478041/5681827 [00:44<02:05, 33425.94r/s]"
     ]
    },
    {
     "name": "stderr",
     "output_type": "stream",
     "text": [
      "\r 26%|█████████████▎                                     | 1481422/5681827 [00:44<02:05, 33426.69r/s]"
     ]
    },
    {
     "name": "stderr",
     "output_type": "stream",
     "text": [
      "\r 26%|█████████████▎                                     | 1484799/5681827 [00:44<02:05, 33427.20r/s]"
     ]
    },
    {
     "name": "stderr",
     "output_type": "stream",
     "text": [
      "\r 26%|█████████████▎                                     | 1488240/5681827 [00:44<02:05, 33429.09r/s]"
     ]
    },
    {
     "name": "stderr",
     "output_type": "stream",
     "text": [
      "\r 26%|█████████████▍                                     | 1491630/5681827 [00:44<02:05, 33429.50r/s]"
     ]
    },
    {
     "name": "stderr",
     "output_type": "stream",
     "text": [
      "\r 26%|█████████████▍                                     | 1495050/5681827 [00:44<02:05, 33430.94r/s]"
     ]
    },
    {
     "name": "stderr",
     "output_type": "stream",
     "text": [
      "\r 26%|█████████████▍                                     | 1498439/5681827 [00:44<02:05, 33431.31r/s]"
     ]
    },
    {
     "name": "stderr",
     "output_type": "stream",
     "text": [
      "\r 26%|█████████████▍                                     | 1501870/5681827 [00:44<02:05, 33433.04r/s]"
     ]
    },
    {
     "name": "stderr",
     "output_type": "stream",
     "text": [
      "\r 26%|█████████████▌                                     | 1505263/5681827 [00:45<02:04, 33433.57r/s]"
     ]
    },
    {
     "name": "stderr",
     "output_type": "stream",
     "text": [
      "\r 27%|█████████████▌                                     | 1508691/5681827 [00:45<02:04, 33435.15r/s]"
     ]
    },
    {
     "name": "stderr",
     "output_type": "stream",
     "text": [
      "\r 27%|█████████████▌                                     | 1512085/5681827 [00:45<02:04, 33435.54r/s]"
     ]
    },
    {
     "name": "stderr",
     "output_type": "stream",
     "text": [
      "\r 27%|█████████████▌                                     | 1515527/5681827 [00:45<02:04, 33437.62r/s]"
     ]
    },
    {
     "name": "stderr",
     "output_type": "stream",
     "text": [
      "\r 27%|█████████████▋                                     | 1518936/5681827 [00:45<02:04, 33438.70r/s]"
     ]
    },
    {
     "name": "stderr",
     "output_type": "stream",
     "text": [
      "\r 27%|█████████████▋                                     | 1522366/5681827 [00:45<02:04, 33440.34r/s]"
     ]
    },
    {
     "name": "stderr",
     "output_type": "stream",
     "text": [
      "\r 27%|█████████████▋                                     | 1525772/5681827 [00:45<02:04, 33441.44r/s]"
     ]
    },
    {
     "name": "stderr",
     "output_type": "stream",
     "text": [
      "\r 27%|█████████████▋                                     | 1529180/5681827 [00:45<02:04, 33442.81r/s]"
     ]
    },
    {
     "name": "stderr",
     "output_type": "stream",
     "text": [
      "\r 27%|█████████████▊                                     | 1532583/5681827 [00:45<02:04, 33442.42r/s]"
     ]
    },
    {
     "name": "stderr",
     "output_type": "stream",
     "text": [
      "\r 27%|█████████████▊                                     | 1535963/5681827 [00:45<02:03, 33442.55r/s]"
     ]
    },
    {
     "name": "stderr",
     "output_type": "stream",
     "text": [
      "\r 27%|█████████████▊                                     | 1539335/5681827 [00:46<02:03, 33442.54r/s]"
     ]
    },
    {
     "name": "stderr",
     "output_type": "stream",
     "text": [
      "\r 27%|█████████████▊                                     | 1542770/5681827 [00:46<02:03, 33444.34r/s]"
     ]
    },
    {
     "name": "stderr",
     "output_type": "stream",
     "text": [
      "\r 27%|█████████████▉                                     | 1546153/5681827 [00:46<02:03, 33444.25r/s]"
     ]
    },
    {
     "name": "stderr",
     "output_type": "stream",
     "text": [
      "\r 27%|█████████████▉                                     | 1549523/5681827 [00:46<02:03, 33442.09r/s]"
     ]
    },
    {
     "name": "stderr",
     "output_type": "stream",
     "text": [
      "\r 27%|█████████████▉                                     | 1552857/5681827 [00:46<02:03, 33440.86r/s]"
     ]
    },
    {
     "name": "stderr",
     "output_type": "stream",
     "text": [
      "\r 27%|█████████████▉                                     | 1556179/5681827 [00:46<02:03, 33440.17r/s]"
     ]
    },
    {
     "name": "stderr",
     "output_type": "stream",
     "text": [
      "\r 27%|█████████████▉                                     | 1559498/5681827 [00:46<02:03, 33438.98r/s]"
     ]
    },
    {
     "name": "stderr",
     "output_type": "stream",
     "text": [
      "\r 28%|██████████████                                     | 1562837/5681827 [00:46<02:03, 33438.29r/s]"
     ]
    },
    {
     "name": "stderr",
     "output_type": "stream",
     "text": [
      "\r 28%|██████████████                                     | 1566147/5681827 [00:46<02:03, 33436.10r/s]"
     ]
    },
    {
     "name": "stderr",
     "output_type": "stream",
     "text": [
      "\r 28%|██████████████                                     | 1569437/5681827 [00:46<02:03, 33434.02r/s]"
     ]
    },
    {
     "name": "stderr",
     "output_type": "stream",
     "text": [
      "\r 28%|██████████████                                     | 1572715/5681827 [00:47<02:02, 33429.99r/s]"
     ]
    },
    {
     "name": "stderr",
     "output_type": "stream",
     "text": [
      "\r 28%|██████████████▏                                    | 1575958/5681827 [00:47<02:02, 33426.55r/s]"
     ]
    },
    {
     "name": "stderr",
     "output_type": "stream",
     "text": [
      "\r 28%|██████████████▏                                    | 1579255/5681827 [00:47<02:02, 33425.34r/s]"
     ]
    },
    {
     "name": "stderr",
     "output_type": "stream",
     "text": [
      "\r 28%|██████████████▏                                    | 1582518/5681827 [00:47<02:02, 33423.47r/s]"
     ]
    },
    {
     "name": "stderr",
     "output_type": "stream",
     "text": [
      "\r 28%|██████████████▏                                    | 1585870/5681827 [00:47<02:02, 33423.38r/s]"
     ]
    },
    {
     "name": "stderr",
     "output_type": "stream",
     "text": [
      "\r 28%|██████████████▎                                    | 1589144/5681827 [00:47<02:02, 33421.03r/s]"
     ]
    },
    {
     "name": "stderr",
     "output_type": "stream",
     "text": [
      "\r 28%|██████████████▎                                    | 1592465/5681827 [00:47<02:02, 33420.36r/s]"
     ]
    },
    {
     "name": "stderr",
     "output_type": "stream",
     "text": [
      "\r 28%|██████████████▎                                    | 1595815/5681827 [00:47<02:02, 33419.93r/s]"
     ]
    },
    {
     "name": "stderr",
     "output_type": "stream",
     "text": [
      "\r 28%|██████████████▎                                    | 1599167/5681827 [00:47<02:02, 33419.55r/s]"
     ]
    },
    {
     "name": "stderr",
     "output_type": "stream",
     "text": [
      "\r 28%|██████████████▍                                    | 1602468/5681827 [00:47<02:02, 33418.12r/s]"
     ]
    },
    {
     "name": "stderr",
     "output_type": "stream",
     "text": [
      "\r 28%|██████████████▍                                    | 1605808/5681827 [00:48<02:01, 33417.48r/s]"
     ]
    },
    {
     "name": "stderr",
     "output_type": "stream",
     "text": [
      "\r 28%|██████████████▍                                    | 1609106/5681827 [00:48<02:01, 33412.53r/s]"
     ]
    },
    {
     "name": "stderr",
     "output_type": "stream",
     "text": [
      "\r 28%|██████████████▍                                    | 1612350/5681827 [00:48<02:01, 33407.09r/s]"
     ]
    },
    {
     "name": "stderr",
     "output_type": "stream",
     "text": [
      "\r 28%|██████████████▌                                    | 1615548/5681827 [00:48<02:01, 33396.34r/s]"
     ]
    },
    {
     "name": "stderr",
     "output_type": "stream",
     "text": [
      "\r 28%|██████████████▌                                    | 1618649/5681827 [00:48<02:01, 33389.10r/s]"
     ]
    },
    {
     "name": "stderr",
     "output_type": "stream",
     "text": [
      "\r 29%|██████████████▌                                    | 1621720/5681827 [00:48<02:01, 33382.67r/s]"
     ]
    },
    {
     "name": "stderr",
     "output_type": "stream",
     "text": [
      "\r 29%|██████████████▌                                    | 1624779/5681827 [00:48<02:01, 33360.15r/s]"
     ]
    },
    {
     "name": "stderr",
     "output_type": "stream",
     "text": [
      "\r 29%|██████████████▌                                    | 1627658/5681827 [00:48<02:01, 33327.19r/s]"
     ]
    },
    {
     "name": "stderr",
     "output_type": "stream",
     "text": [
      "\r 29%|██████████████▋                                    | 1630315/5681827 [00:48<02:01, 33302.23r/s]"
     ]
    },
    {
     "name": "stderr",
     "output_type": "stream",
     "text": [
      "\r 29%|██████████████▋                                    | 1632860/5681827 [00:49<02:01, 33245.92r/s]"
     ]
    },
    {
     "name": "stderr",
     "output_type": "stream",
     "text": [
      "\r 29%|██████████████▋                                    | 1635415/5681827 [00:49<02:01, 33230.08r/s]"
     ]
    },
    {
     "name": "stderr",
     "output_type": "stream",
     "text": [
      "\r 29%|██████████████▋                                    | 1637762/5681827 [00:49<02:01, 33209.26r/s]"
     ]
    },
    {
     "name": "stderr",
     "output_type": "stream",
     "text": [
      "\r 29%|██████████████▋                                    | 1640098/5681827 [00:49<02:01, 33179.04r/s]"
     ]
    },
    {
     "name": "stderr",
     "output_type": "stream",
     "text": [
      "\r 29%|██████████████▋                                    | 1642341/5681827 [00:49<02:01, 33146.37r/s]"
     ]
    },
    {
     "name": "stderr",
     "output_type": "stream",
     "text": [
      "\r 29%|██████████████▊                                    | 1644490/5681827 [00:49<02:01, 33099.32r/s]"
     ]
    },
    {
     "name": "stderr",
     "output_type": "stream",
     "text": [
      "\r 29%|██████████████▊                                    | 1646846/5681827 [00:49<02:01, 33080.10r/s]"
     ]
    },
    {
     "name": "stderr",
     "output_type": "stream",
     "text": [
      "\r 29%|██████████████▊                                    | 1649107/5681827 [00:49<02:01, 33058.58r/s]"
     ]
    },
    {
     "name": "stderr",
     "output_type": "stream",
     "text": [
      "\r 29%|██████████████▊                                    | 1651592/5681827 [00:49<02:01, 33041.92r/s]"
     ]
    },
    {
     "name": "stderr",
     "output_type": "stream",
     "text": [
      "\r 29%|██████████████▊                                    | 1653968/5681827 [00:50<02:01, 33023.21r/s]"
     ]
    },
    {
     "name": "stderr",
     "output_type": "stream",
     "text": [
      "\r 29%|██████████████▊                                    | 1656606/5681827 [00:50<02:01, 33009.39r/s]"
     ]
    },
    {
     "name": "stderr",
     "output_type": "stream",
     "text": [
      "\r 29%|██████████████▉                                    | 1659455/5681827 [00:50<02:01, 33000.16r/s]"
     ]
    },
    {
     "name": "stderr",
     "output_type": "stream",
     "text": [
      "\r 29%|██████████████▉                                    | 1662061/5681827 [00:50<02:01, 32986.21r/s]"
     ]
    },
    {
     "name": "stderr",
     "output_type": "stream",
     "text": [
      "\r 29%|██████████████▉                                    | 1664936/5681827 [00:50<02:01, 32977.28r/s]"
     ]
    },
    {
     "name": "stderr",
     "output_type": "stream",
     "text": [
      "\r 29%|██████████████▉                                    | 1667846/5681827 [00:50<02:01, 32969.03r/s]"
     ]
    },
    {
     "name": "stderr",
     "output_type": "stream",
     "text": [
      "\r 29%|██████████████▉                                    | 1670919/5681827 [00:50<02:01, 32964.06r/s]"
     ]
    },
    {
     "name": "stderr",
     "output_type": "stream",
     "text": [
      "\r 29%|███████████████                                    | 1674042/5681827 [00:50<02:01, 32960.08r/s]"
     ]
    },
    {
     "name": "stderr",
     "output_type": "stream",
     "text": [
      "\r 30%|███████████████                                    | 1676939/5681827 [00:50<02:01, 32950.42r/s]"
     ]
    },
    {
     "name": "stderr",
     "output_type": "stream",
     "text": [
      "\r 30%|███████████████                                    | 1679848/5681827 [00:50<02:01, 32942.63r/s]"
     ]
    },
    {
     "name": "stderr",
     "output_type": "stream",
     "text": [
      "\r 30%|███████████████                                    | 1683037/5681827 [00:51<02:01, 32940.03r/s]"
     ]
    },
    {
     "name": "stderr",
     "output_type": "stream",
     "text": [
      "\r 30%|███████████████▏                                   | 1686168/5681827 [00:51<02:01, 32936.27r/s]"
     ]
    },
    {
     "name": "stderr",
     "output_type": "stream",
     "text": [
      "\r 30%|███████████████▏                                   | 1689406/5681827 [00:51<02:01, 32935.00r/s]"
     ]
    },
    {
     "name": "stderr",
     "output_type": "stream",
     "text": [
      "\r 30%|███████████████▏                                   | 1692671/5681827 [00:51<02:01, 32934.23r/s]"
     ]
    },
    {
     "name": "stderr",
     "output_type": "stream",
     "text": [
      "\r 30%|███████████████▏                                   | 1695876/5681827 [00:51<02:01, 32931.99r/s]"
     ]
    },
    {
     "name": "stderr",
     "output_type": "stream",
     "text": [
      "\r 30%|███████████████▎                                   | 1699254/5681827 [00:51<02:00, 32933.06r/s]"
     ]
    },
    {
     "name": "stderr",
     "output_type": "stream",
     "text": [
      "\r 30%|███████████████▎                                   | 1702620/5681827 [00:51<02:00, 32933.91r/s]"
     ]
    },
    {
     "name": "stderr",
     "output_type": "stream",
     "text": [
      "\r 30%|███████████████▎                                   | 1705944/5681827 [00:51<02:00, 32933.94r/s]"
     ]
    },
    {
     "name": "stderr",
     "output_type": "stream",
     "text": [
      "\r 30%|███████████████▎                                   | 1709264/5681827 [00:51<02:00, 32933.91r/s]"
     ]
    },
    {
     "name": "stderr",
     "output_type": "stream",
     "text": [
      "\r 30%|███████████████▎                                   | 1712642/5681827 [00:52<02:00, 32934.99r/s]"
     ]
    },
    {
     "name": "stderr",
     "output_type": "stream",
     "text": [
      "\r 30%|███████████████▍                                   | 1716009/5681827 [00:52<02:00, 32935.88r/s]"
     ]
    },
    {
     "name": "stderr",
     "output_type": "stream",
     "text": [
      "\r 30%|███████████████▍                                   | 1719480/5681827 [00:52<02:00, 32938.76r/s]"
     ]
    },
    {
     "name": "stderr",
     "output_type": "stream",
     "text": [
      "\r 30%|███████████████▍                                   | 1722901/5681827 [00:52<02:00, 32940.97r/s]"
     ]
    },
    {
     "name": "stderr",
     "output_type": "stream",
     "text": [
      "\r 30%|███████████████▍                                   | 1726268/5681827 [00:52<02:00, 32940.88r/s]"
     ]
    },
    {
     "name": "stderr",
     "output_type": "stream",
     "text": [
      "\r 30%|███████████████▌                                   | 1729612/5681827 [00:52<01:59, 32939.42r/s]"
     ]
    },
    {
     "name": "stderr",
     "output_type": "stream",
     "text": [
      "\r 30%|███████████████▌                                   | 1732922/5681827 [00:52<01:59, 32939.54r/s]"
     ]
    },
    {
     "name": "stderr",
     "output_type": "stream",
     "text": [
      "\r 31%|███████████████▌                                   | 1736317/5681827 [00:52<01:59, 32941.13r/s]"
     ]
    },
    {
     "name": "stderr",
     "output_type": "stream",
     "text": [
      "\r 31%|███████████████▌                                   | 1739644/5681827 [00:52<01:59, 32940.58r/s]"
     ]
    },
    {
     "name": "stderr",
     "output_type": "stream",
     "text": [
      "\r 31%|███████████████▋                                   | 1742953/5681827 [00:52<01:59, 32935.97r/s]"
     ]
    },
    {
     "name": "stderr",
     "output_type": "stream",
     "text": [
      "\r 31%|███████████████▋                                   | 1746267/5681827 [00:53<01:59, 32936.19r/s]"
     ]
    },
    {
     "name": "stderr",
     "output_type": "stream",
     "text": [
      "\r 31%|███████████████▋                                   | 1749625/5681827 [00:53<01:59, 32937.23r/s]"
     ]
    },
    {
     "name": "stderr",
     "output_type": "stream",
     "text": [
      "\r 31%|███████████████▋                                   | 1752970/5681827 [00:53<01:59, 32938.18r/s]"
     ]
    },
    {
     "name": "stderr",
     "output_type": "stream",
     "text": [
      "\r 31%|███████████████▊                                   | 1756342/5681827 [00:53<01:59, 32939.46r/s]"
     ]
    },
    {
     "name": "stderr",
     "output_type": "stream",
     "text": [
      "\r 31%|███████████████▊                                   | 1759663/5681827 [00:53<01:59, 32937.30r/s]"
     ]
    },
    {
     "name": "stderr",
     "output_type": "stream",
     "text": [
      "\r 31%|███████████████▊                                   | 1762943/5681827 [00:53<01:58, 32936.22r/s]"
     ]
    },
    {
     "name": "stderr",
     "output_type": "stream",
     "text": [
      "\r 31%|███████████████▊                                   | 1766210/5681827 [00:53<01:58, 32935.52r/s]"
     ]
    },
    {
     "name": "stderr",
     "output_type": "stream",
     "text": [
      "\r 31%|███████████████▉                                   | 1769706/5681827 [00:53<01:58, 32939.10r/s]"
     ]
    },
    {
     "name": "stderr",
     "output_type": "stream",
     "text": [
      "\r 31%|███████████████▉                                   | 1773157/5681827 [00:53<01:58, 32942.01r/s]"
     ]
    },
    {
     "name": "stderr",
     "output_type": "stream",
     "text": [
      "\r 31%|███████████████▉                                   | 1776584/5681827 [00:53<01:58, 32944.29r/s]"
     ]
    },
    {
     "name": "stderr",
     "output_type": "stream",
     "text": [
      "\r 31%|███████████████▉                                   | 1779966/5681827 [00:54<01:58, 32945.04r/s]"
     ]
    },
    {
     "name": "stderr",
     "output_type": "stream",
     "text": [
      "\r 31%|████████████████                                   | 1783380/5681827 [00:54<01:58, 32946.73r/s]"
     ]
    },
    {
     "name": "stderr",
     "output_type": "stream",
     "text": [
      "\r 31%|████████████████                                   | 1786753/5681827 [00:54<01:58, 32943.67r/s]"
     ]
    },
    {
     "name": "stderr",
     "output_type": "stream",
     "text": [
      "\r 32%|████████████████                                   | 1790144/5681827 [00:54<01:58, 32945.25r/s]"
     ]
    },
    {
     "name": "stderr",
     "output_type": "stream",
     "text": [
      "\r 32%|████████████████                                   | 1793470/5681827 [00:54<01:58, 32940.78r/s]"
     ]
    },
    {
     "name": "stderr",
     "output_type": "stream",
     "text": [
      "\r 32%|████████████████▏                                  | 1796850/5681827 [00:54<01:57, 32941.84r/s]"
     ]
    },
    {
     "name": "stderr",
     "output_type": "stream",
     "text": [
      "\r 32%|████████████████▏                                  | 1800251/5681827 [00:54<01:57, 32943.32r/s]"
     ]
    },
    {
     "name": "stderr",
     "output_type": "stream",
     "text": [
      "\r 32%|████████████████▏                                  | 1803670/5681827 [00:54<01:57, 32945.39r/s]"
     ]
    },
    {
     "name": "stderr",
     "output_type": "stream",
     "text": [
      "\r 32%|████████████████▏                                  | 1807101/5681827 [00:54<01:57, 32947.35r/s]"
     ]
    },
    {
     "name": "stderr",
     "output_type": "stream",
     "text": [
      "\r 32%|████████████████▎                                  | 1810482/5681827 [00:54<01:57, 32948.39r/s]"
     ]
    },
    {
     "name": "stderr",
     "output_type": "stream",
     "text": [
      "\r 32%|████████████████▎                                  | 1813838/5681827 [00:55<01:57, 32947.81r/s]"
     ]
    },
    {
     "name": "stderr",
     "output_type": "stream",
     "text": [
      "\r 32%|████████████████▎                                  | 1817308/5681827 [00:55<01:57, 32950.44r/s]"
     ]
    },
    {
     "name": "stderr",
     "output_type": "stream",
     "text": [
      "\r 32%|████████████████▎                                  | 1820732/5681827 [00:55<01:57, 32952.62r/s]"
     ]
    },
    {
     "name": "stderr",
     "output_type": "stream",
     "text": [
      "\r 32%|████████████████▎                                  | 1824142/5681827 [00:55<01:57, 32954.49r/s]"
     ]
    },
    {
     "name": "stderr",
     "output_type": "stream",
     "text": [
      "\r 32%|████████████████▍                                  | 1827526/5681827 [00:55<01:56, 32955.22r/s]"
     ]
    },
    {
     "name": "stderr",
     "output_type": "stream",
     "text": [
      "\r 32%|████████████████▍                                  | 1830896/5681827 [00:55<01:56, 32954.86r/s]"
     ]
    },
    {
     "name": "stderr",
     "output_type": "stream",
     "text": [
      "\r 32%|████████████████▍                                  | 1834309/5681827 [00:55<01:56, 32956.74r/s]"
     ]
    },
    {
     "name": "stderr",
     "output_type": "stream",
     "text": [
      "\r 32%|████████████████▍                                  | 1837668/5681827 [00:55<01:56, 32954.67r/s]"
     ]
    },
    {
     "name": "stderr",
     "output_type": "stream",
     "text": [
      "\r 32%|████████████████▌                                  | 1840991/5681827 [00:55<01:56, 32955.05r/s]"
     ]
    },
    {
     "name": "stderr",
     "output_type": "stream",
     "text": [
      "\r 32%|████████████████▌                                  | 1844433/5681827 [00:55<01:56, 32957.45r/s]"
     ]
    },
    {
     "name": "stderr",
     "output_type": "stream",
     "text": [
      "\r 33%|████████████████▌                                  | 1847779/5681827 [00:56<01:56, 32958.17r/s]"
     ]
    },
    {
     "name": "stderr",
     "output_type": "stream",
     "text": [
      "\r 33%|████████████████▌                                  | 1851147/5681827 [00:56<01:56, 32958.96r/s]"
     ]
    },
    {
     "name": "stderr",
     "output_type": "stream",
     "text": [
      "\r 33%|████████████████▋                                  | 1854489/5681827 [00:56<01:56, 32957.76r/s]"
     ]
    },
    {
     "name": "stderr",
     "output_type": "stream",
     "text": [
      "\r 33%|████████████████▋                                  | 1857798/5681827 [00:56<01:56, 32957.21r/s]"
     ]
    },
    {
     "name": "stderr",
     "output_type": "stream",
     "text": [
      "\r 33%|████████████████▋                                  | 1861094/5681827 [00:56<01:55, 32955.54r/s]"
     ]
    },
    {
     "name": "stderr",
     "output_type": "stream",
     "text": [
      "\r 33%|████████████████▋                                  | 1864545/5681827 [00:56<01:55, 32957.81r/s]"
     ]
    },
    {
     "name": "stderr",
     "output_type": "stream",
     "text": [
      "\r 33%|████████████████▊                                  | 1867990/5681827 [00:56<01:55, 32959.90r/s]"
     ]
    },
    {
     "name": "stderr",
     "output_type": "stream",
     "text": [
      "\r 33%|████████████████▊                                  | 1871471/5681827 [00:56<01:55, 32962.67r/s]"
     ]
    },
    {
     "name": "stderr",
     "output_type": "stream",
     "text": [
      "\r 33%|████████████████▊                                  | 1874949/5681827 [00:56<01:55, 32965.36r/s]"
     ]
    },
    {
     "name": "stderr",
     "output_type": "stream",
     "text": [
      "\r 33%|████████████████▊                                  | 1878359/5681827 [00:56<01:55, 32966.89r/s]"
     ]
    },
    {
     "name": "stderr",
     "output_type": "stream",
     "text": [
      "\r 33%|████████████████▉                                  | 1881814/5681827 [00:57<01:55, 32969.13r/s]"
     ]
    },
    {
     "name": "stderr",
     "output_type": "stream",
     "text": [
      "\r 33%|████████████████▉                                  | 1885217/5681827 [00:57<01:55, 32967.62r/s]"
     ]
    },
    {
     "name": "stderr",
     "output_type": "stream",
     "text": [
      "\r 33%|████████████████▉                                  | 1888647/5681827 [00:57<01:55, 32969.72r/s]"
     ]
    },
    {
     "name": "stderr",
     "output_type": "stream",
     "text": [
      "\r 33%|████████████████▉                                  | 1892015/5681827 [00:57<01:54, 32970.24r/s]"
     ]
    },
    {
     "name": "stderr",
     "output_type": "stream",
     "text": [
      "\r 33%|█████████████████                                  | 1895371/5681827 [00:57<01:54, 32970.16r/s]"
     ]
    },
    {
     "name": "stderr",
     "output_type": "stream",
     "text": [
      "\r 33%|█████████████████                                  | 1898708/5681827 [00:57<01:54, 32969.22r/s]"
     ]
    },
    {
     "name": "stderr",
     "output_type": "stream",
     "text": [
      "\r 33%|█████████████████                                  | 1902017/5681827 [00:57<01:54, 32968.94r/s]"
     ]
    },
    {
     "name": "stderr",
     "output_type": "stream",
     "text": [
      "\r 34%|█████████████████                                  | 1905318/5681827 [00:57<01:54, 32968.53r/s]"
     ]
    },
    {
     "name": "stderr",
     "output_type": "stream",
     "text": [
      "\r 34%|█████████████████▏                                 | 1908611/5681827 [00:57<01:54, 32966.26r/s]"
     ]
    },
    {
     "name": "stderr",
     "output_type": "stream",
     "text": [
      "\r 34%|█████████████████▏                                 | 1911950/5681827 [00:57<01:54, 32966.52r/s]"
     ]
    },
    {
     "name": "stderr",
     "output_type": "stream",
     "text": [
      "\r 34%|█████████████████▏                                 | 1915223/5681827 [00:58<01:54, 32965.04r/s]"
     ]
    },
    {
     "name": "stderr",
     "output_type": "stream",
     "text": [
      "\r 34%|█████████████████▏                                 | 1918729/5681827 [00:58<01:54, 32968.18r/s]"
     ]
    },
    {
     "name": "stderr",
     "output_type": "stream",
     "text": [
      "\r 34%|█████████████████▎                                 | 1922051/5681827 [00:58<01:54, 32968.30r/s]"
     ]
    },
    {
     "name": "stderr",
     "output_type": "stream",
     "text": [
      "\r 34%|█████████████████▎                                 | 1925368/5681827 [00:58<01:53, 32965.61r/s]"
     ]
    },
    {
     "name": "stderr",
     "output_type": "stream",
     "text": [
      "\r 34%|█████████████████▎                                 | 1928653/5681827 [00:58<01:53, 32964.95r/s]"
     ]
    },
    {
     "name": "stderr",
     "output_type": "stream",
     "text": [
      "\r 34%|█████████████████▎                                 | 1931997/5681827 [00:58<01:53, 32965.62r/s]"
     ]
    },
    {
     "name": "stderr",
     "output_type": "stream",
     "text": [
      "\r 34%|█████████████████▎                                 | 1935400/5681827 [00:58<01:53, 32966.94r/s]"
     ]
    },
    {
     "name": "stderr",
     "output_type": "stream",
     "text": [
      "\r 34%|█████████████████▍                                 | 1938861/5681827 [00:58<01:53, 32969.28r/s]"
     ]
    },
    {
     "name": "stderr",
     "output_type": "stream",
     "text": [
      "\r 34%|█████████████████▍                                 | 1942273/5681827 [00:58<01:53, 32971.06r/s]"
     ]
    },
    {
     "name": "stderr",
     "output_type": "stream",
     "text": [
      "\r 34%|█████████████████▍                                 | 1945638/5681827 [00:59<01:53, 32970.35r/s]"
     ]
    },
    {
     "name": "stderr",
     "output_type": "stream",
     "text": [
      "\r 34%|█████████████████▍                                 | 1949099/5681827 [00:59<01:53, 32972.91r/s]"
     ]
    },
    {
     "name": "stderr",
     "output_type": "stream",
     "text": [
      "\r 34%|█████████████████▌                                 | 1952501/5681827 [00:59<01:53, 32974.51r/s]"
     ]
    },
    {
     "name": "stderr",
     "output_type": "stream",
     "text": [
      "\r 34%|█████████████████▌                                 | 1955880/5681827 [00:59<01:52, 32975.72r/s]"
     ]
    },
    {
     "name": "stderr",
     "output_type": "stream",
     "text": [
      "\r 34%|█████████████████▌                                 | 1959253/5681827 [00:59<01:52, 32969.56r/s]"
     ]
    },
    {
     "name": "stderr",
     "output_type": "stream",
     "text": [
      "\r 35%|█████████████████▌                                 | 1962507/5681827 [00:59<01:52, 32968.67r/s]"
     ]
    },
    {
     "name": "stderr",
     "output_type": "stream",
     "text": [
      "\r 35%|█████████████████▋                                 | 1965919/5681827 [00:59<01:52, 32970.45r/s]"
     ]
    },
    {
     "name": "stderr",
     "output_type": "stream",
     "text": [
      "\r 35%|█████████████████▋                                 | 1969317/5681827 [00:59<01:52, 32971.93r/s]"
     ]
    },
    {
     "name": "stderr",
     "output_type": "stream",
     "text": [
      "\r 35%|█████████████████▋                                 | 1972755/5681827 [00:59<01:52, 32973.84r/s]"
     ]
    },
    {
     "name": "stderr",
     "output_type": "stream",
     "text": [
      "\r 35%|█████████████████▋                                 | 1976129/5681827 [00:59<01:52, 32974.99r/s]"
     ]
    },
    {
     "name": "stderr",
     "output_type": "stream",
     "text": [
      "\r 35%|█████████████████▊                                 | 1979490/5681827 [01:00<01:52, 32975.85r/s]"
     ]
    },
    {
     "name": "stderr",
     "output_type": "stream",
     "text": [
      "\r 35%|█████████████████▊                                 | 1982843/5681827 [01:00<01:52, 32971.91r/s]"
     ]
    },
    {
     "name": "stderr",
     "output_type": "stream",
     "text": [
      "\r 35%|█████████████████▊                                 | 1986205/5681827 [01:00<01:52, 32972.54r/s]"
     ]
    },
    {
     "name": "stderr",
     "output_type": "stream",
     "text": [
      "\r 35%|█████████████████▊                                 | 1989520/5681827 [01:00<01:51, 32972.42r/s]"
     ]
    },
    {
     "name": "stderr",
     "output_type": "stream",
     "text": [
      "\r 35%|█████████████████▉                                 | 1992859/5681827 [01:00<01:51, 32972.60r/s]"
     ]
    },
    {
     "name": "stderr",
     "output_type": "stream",
     "text": [
      "\r 35%|█████████████████▉                                 | 1996230/5681827 [01:00<01:51, 32973.39r/s]"
     ]
    },
    {
     "name": "stderr",
     "output_type": "stream",
     "text": [
      "\r 35%|█████████████████▉                                 | 1999658/5681827 [01:00<01:51, 32975.04r/s]"
     ]
    },
    {
     "name": "stderr",
     "output_type": "stream",
     "text": [
      "\r 35%|█████████████████▉                                 | 2003074/5681827 [01:00<01:51, 32976.52r/s]"
     ]
    },
    {
     "name": "stderr",
     "output_type": "stream",
     "text": [
      "\r 35%|██████████████████                                 | 2006539/5681827 [01:00<01:51, 32978.80r/s]"
     ]
    },
    {
     "name": "stderr",
     "output_type": "stream",
     "text": [
      "\r 35%|██████████████████                                 | 2009963/5681827 [01:00<01:51, 32980.41r/s]"
     ]
    },
    {
     "name": "stderr",
     "output_type": "stream",
     "text": [
      "\r 35%|██████████████████                                 | 2013378/5681827 [01:01<01:51, 32982.09r/s]"
     ]
    },
    {
     "name": "stderr",
     "output_type": "stream",
     "text": [
      "\r 35%|██████████████████                                 | 2016792/5681827 [01:01<01:51, 32983.76r/s]"
     ]
    },
    {
     "name": "stderr",
     "output_type": "stream",
     "text": [
      "\r 36%|██████████████████▏                                | 2020217/5681827 [01:01<01:51, 32985.67r/s]"
     ]
    },
    {
     "name": "stderr",
     "output_type": "stream",
     "text": [
      "\r 36%|██████████████████▏                                | 2023616/5681827 [01:01<01:50, 32986.07r/s]"
     ]
    },
    {
     "name": "stderr",
     "output_type": "stream",
     "text": [
      "\r 36%|██████████████████▏                                | 2026992/5681827 [01:01<01:50, 32986.34r/s]"
     ]
    },
    {
     "name": "stderr",
     "output_type": "stream",
     "text": [
      "\r 36%|██████████████████▏                                | 2030365/5681827 [01:01<01:50, 32987.08r/s]"
     ]
    },
    {
     "name": "stderr",
     "output_type": "stream",
     "text": [
      "\r 36%|██████████████████▎                                | 2033826/5681827 [01:01<01:50, 32989.55r/s]"
     ]
    },
    {
     "name": "stderr",
     "output_type": "stream",
     "text": [
      "\r 36%|██████████████████▎                                | 2037209/5681827 [01:01<01:50, 32990.84r/s]"
     ]
    },
    {
     "name": "stderr",
     "output_type": "stream",
     "text": [
      "\r 36%|██████████████████▎                                | 2040591/5681827 [01:01<01:50, 32992.00r/s]"
     ]
    },
    {
     "name": "stderr",
     "output_type": "stream",
     "text": [
      "\r 36%|██████████████████▎                                | 2043970/5681827 [01:01<01:50, 32991.09r/s]"
     ]
    },
    {
     "name": "stderr",
     "output_type": "stream",
     "text": [
      "\r 36%|██████████████████▍                                | 2047309/5681827 [01:02<01:50, 32991.01r/s]"
     ]
    },
    {
     "name": "stderr",
     "output_type": "stream",
     "text": [
      "\r 36%|██████████████████▍                                | 2050634/5681827 [01:02<01:50, 32990.47r/s]"
     ]
    },
    {
     "name": "stderr",
     "output_type": "stream",
     "text": [
      "\r 36%|██████████████████▍                                | 2053942/5681827 [01:02<01:49, 32989.09r/s]"
     ]
    },
    {
     "name": "stderr",
     "output_type": "stream",
     "text": [
      "\r 36%|██████████████████▍                                | 2057222/5681827 [01:02<01:49, 32985.98r/s]"
     ]
    },
    {
     "name": "stderr",
     "output_type": "stream",
     "text": [
      "\r 36%|██████████████████▍                                | 2060453/5681827 [01:02<01:49, 32980.51r/s]"
     ]
    },
    {
     "name": "stderr",
     "output_type": "stream",
     "text": [
      "\r 36%|██████████████████▌                                | 2063610/5681827 [01:02<01:49, 32972.53r/s]"
     ]
    },
    {
     "name": "stderr",
     "output_type": "stream",
     "text": [
      "\r 36%|██████████████████▌                                | 2066674/5681827 [01:02<01:49, 32965.47r/s]"
     ]
    },
    {
     "name": "stderr",
     "output_type": "stream",
     "text": [
      "\r 36%|██████████████████▌                                | 2069792/5681827 [01:02<01:49, 32962.18r/s]"
     ]
    },
    {
     "name": "stderr",
     "output_type": "stream",
     "text": [
      "\r 36%|██████████████████▌                                | 2072954/5681827 [01:02<01:49, 32959.56r/s]"
     ]
    },
    {
     "name": "stderr",
     "output_type": "stream",
     "text": [
      "\r 37%|██████████████████▋                                | 2076079/5681827 [01:02<01:49, 32956.65r/s]"
     ]
    },
    {
     "name": "stderr",
     "output_type": "stream",
     "text": [
      "\r 37%|██████████████████▋                                | 2079193/5681827 [01:03<01:49, 32953.31r/s]"
     ]
    },
    {
     "name": "stderr",
     "output_type": "stream",
     "text": [
      "\r 37%|██████████████████▋                                | 2082414/5681827 [01:03<01:49, 32951.74r/s]"
     ]
    },
    {
     "name": "stderr",
     "output_type": "stream",
     "text": [
      "\r 37%|██████████████████▋                                | 2085530/5681827 [01:03<01:49, 32948.37r/s]"
     ]
    },
    {
     "name": "stderr",
     "output_type": "stream",
     "text": [
      "\r 37%|██████████████████▋                                | 2088637/5681827 [01:03<01:49, 32943.15r/s]"
     ]
    },
    {
     "name": "stderr",
     "output_type": "stream",
     "text": [
      "\r 37%|██████████████████▊                                | 2091764/5681827 [01:03<01:48, 32940.10r/s]"
     ]
    },
    {
     "name": "stderr",
     "output_type": "stream",
     "text": [
      "\r 37%|██████████████████▊                                | 2094842/5681827 [01:03<01:48, 32911.11r/s]"
     ]
    },
    {
     "name": "stderr",
     "output_type": "stream",
     "text": [
      "\r 37%|██████████████████▊                                | 2097615/5681827 [01:03<01:49, 32873.89r/s]"
     ]
    },
    {
     "name": "stderr",
     "output_type": "stream",
     "text": [
      "\r 37%|██████████████████▊                                | 2100088/5681827 [01:03<01:49, 32844.00r/s]"
     ]
    },
    {
     "name": "stderr",
     "output_type": "stream",
     "text": [
      "\r 37%|██████████████████▊                                | 2102427/5681827 [01:04<01:49, 32829.10r/s]"
     ]
    },
    {
     "name": "stderr",
     "output_type": "stream",
     "text": [
      "\r 37%|██████████████████▉                                | 2104728/5681827 [01:04<01:49, 32813.40r/s]"
     ]
    },
    {
     "name": "stderr",
     "output_type": "stream",
     "text": [
      "\r 37%|██████████████████▉                                | 2107024/5681827 [01:04<01:49, 32793.07r/s]"
     ]
    },
    {
     "name": "stderr",
     "output_type": "stream",
     "text": [
      "\r 37%|██████████████████▉                                | 2109265/5681827 [01:04<01:48, 32776.80r/s]"
     ]
    },
    {
     "name": "stderr",
     "output_type": "stream",
     "text": [
      "\r 37%|██████████████████▉                                | 2111500/5681827 [01:04<01:48, 32756.92r/s]"
     ]
    },
    {
     "name": "stderr",
     "output_type": "stream",
     "text": [
      "\r 37%|██████████████████▉                                | 2113871/5681827 [01:04<01:48, 32742.77r/s]"
     ]
    },
    {
     "name": "stderr",
     "output_type": "stream",
     "text": [
      "\r 37%|██████████████████▉                                | 2116323/5681827 [01:04<01:48, 32729.88r/s]"
     ]
    },
    {
     "name": "stderr",
     "output_type": "stream",
     "text": [
      "\r 37%|███████████████████                                | 2118911/5681827 [01:04<01:48, 32719.11r/s]"
     ]
    },
    {
     "name": "stderr",
     "output_type": "stream",
     "text": [
      "\r 37%|███████████████████                                | 2121434/5681827 [01:04<01:48, 32707.43r/s]"
     ]
    },
    {
     "name": "stderr",
     "output_type": "stream",
     "text": [
      "\r 37%|███████████████████                                | 2123904/5681827 [01:04<01:48, 32694.93r/s]"
     ]
    },
    {
     "name": "stderr",
     "output_type": "stream",
     "text": [
      "\r 37%|███████████████████                                | 2126712/5681827 [01:05<01:48, 32687.61r/s]"
     ]
    },
    {
     "name": "stderr",
     "output_type": "stream",
     "text": [
      "\r 37%|███████████████████                                | 2129607/5681827 [01:05<01:48, 32681.71r/s]"
     ]
    },
    {
     "name": "stderr",
     "output_type": "stream",
     "text": [
      "\r 38%|███████████████████▏                               | 2132254/5681827 [01:05<01:48, 32666.54r/s]"
     ]
    },
    {
     "name": "stderr",
     "output_type": "stream",
     "text": [
      "\r 38%|███████████████████▏                               | 2134967/5681827 [01:05<01:48, 32657.88r/s]"
     ]
    },
    {
     "name": "stderr",
     "output_type": "stream",
     "text": [
      "\r 38%|███████████████████▏                               | 2137902/5681827 [01:05<01:48, 32652.40r/s]"
     ]
    },
    {
     "name": "stderr",
     "output_type": "stream",
     "text": [
      "\r 38%|███████████████████▏                               | 2140685/5681827 [01:05<01:48, 32644.89r/s]"
     ]
    },
    {
     "name": "stderr",
     "output_type": "stream",
     "text": [
      "\r 38%|███████████████████▏                               | 2143581/5681827 [01:05<01:48, 32638.87r/s]"
     ]
    },
    {
     "name": "stderr",
     "output_type": "stream",
     "text": [
      "\r 38%|███████████████████▎                               | 2146510/5681827 [01:05<01:48, 32633.36r/s]"
     ]
    },
    {
     "name": "stderr",
     "output_type": "stream",
     "text": [
      "\r 38%|███████████████████▎                               | 2149400/5681827 [01:05<01:48, 32627.34r/s]"
     ]
    },
    {
     "name": "stderr",
     "output_type": "stream",
     "text": [
      "\r 38%|███████████████████▎                               | 2152338/5681827 [01:05<01:48, 32622.26r/s]"
     ]
    },
    {
     "name": "stderr",
     "output_type": "stream",
     "text": [
      "\r 38%|███████████████████▎                               | 2155325/5681827 [01:06<01:48, 32617.90r/s]"
     ]
    },
    {
     "name": "stderr",
     "output_type": "stream",
     "text": [
      "\r 38%|███████████████████▎                               | 2158417/5681827 [01:06<01:48, 32615.17r/s]"
     ]
    },
    {
     "name": "stderr",
     "output_type": "stream",
     "text": [
      "\r 38%|███████████████████▍                               | 2161523/5681827 [01:06<01:47, 32612.66r/s]"
     ]
    },
    {
     "name": "stderr",
     "output_type": "stream",
     "text": [
      "\r 38%|███████████████████▍                               | 2164620/5681827 [01:06<01:47, 32609.77r/s]"
     ]
    },
    {
     "name": "stderr",
     "output_type": "stream",
     "text": [
      "\r 38%|███████████████████▍                               | 2167637/5681827 [01:06<01:47, 32604.96r/s]"
     ]
    },
    {
     "name": "stderr",
     "output_type": "stream",
     "text": [
      "\r 38%|███████████████████▍                               | 2170634/5681827 [01:06<01:47, 32590.09r/s]"
     ]
    },
    {
     "name": "stderr",
     "output_type": "stream",
     "text": [
      "\r 38%|███████████████████▌                               | 2173467/5681827 [01:06<01:47, 32578.18r/s]"
     ]
    },
    {
     "name": "stderr",
     "output_type": "stream",
     "text": [
      "\r 38%|███████████████████▌                               | 2176443/5681827 [01:06<01:47, 32573.52r/s]"
     ]
    },
    {
     "name": "stderr",
     "output_type": "stream",
     "text": [
      "\r 38%|███████████████████▌                               | 2179251/5681827 [01:06<01:47, 32562.27r/s]"
     ]
    },
    {
     "name": "stderr",
     "output_type": "stream",
     "text": [
      "\r 38%|███████████████████▌                               | 2181987/5681827 [01:07<01:47, 32553.09r/s]"
     ]
    },
    {
     "name": "stderr",
     "output_type": "stream",
     "text": [
      "\r 38%|███████████████████▌                               | 2184753/5681827 [01:07<01:47, 32545.67r/s]"
     ]
    },
    {
     "name": "stderr",
     "output_type": "stream",
     "text": [
      "\r 39%|███████████████████▋                               | 2187664/5681827 [01:07<01:47, 32540.13r/s]"
     ]
    },
    {
     "name": "stderr",
     "output_type": "stream",
     "text": [
      "\r 39%|███████████████████▋                               | 2190439/5681827 [01:07<01:47, 32528.06r/s]"
     ]
    },
    {
     "name": "stderr",
     "output_type": "stream",
     "text": [
      "\r 39%|███████████████████▋                               | 2193136/5681827 [01:07<01:47, 32518.70r/s]"
     ]
    },
    {
     "name": "stderr",
     "output_type": "stream",
     "text": [
      "\r 39%|███████████████████▋                               | 2195815/5681827 [01:07<01:47, 32507.20r/s]"
     ]
    },
    {
     "name": "stderr",
     "output_type": "stream",
     "text": [
      "\r 39%|███████████████████▋                               | 2198658/5681827 [01:07<01:47, 32501.01r/s]"
     ]
    },
    {
     "name": "stderr",
     "output_type": "stream",
     "text": [
      "\r 39%|███████████████████▊                               | 2201641/5681827 [01:07<01:47, 32496.68r/s]"
     ]
    },
    {
     "name": "stderr",
     "output_type": "stream",
     "text": [
      "\r 39%|███████████████████▊                               | 2204507/5681827 [01:07<01:47, 32490.60r/s]"
     ]
    },
    {
     "name": "stderr",
     "output_type": "stream",
     "text": [
      "\r 39%|███████████████████▊                               | 2207599/5681827 [01:07<01:46, 32488.15r/s]"
     ]
    },
    {
     "name": "stderr",
     "output_type": "stream",
     "text": [
      "\r 39%|███████████████████▊                               | 2210761/5681827 [01:08<01:46, 32486.72r/s]"
     ]
    },
    {
     "name": "stderr",
     "output_type": "stream",
     "text": [
      "\r 39%|███████████████████▊                               | 2214002/5681827 [01:08<01:46, 32486.19r/s]"
     ]
    },
    {
     "name": "stderr",
     "output_type": "stream",
     "text": [
      "\r 39%|███████████████████▉                               | 2217384/5681827 [01:08<01:46, 32487.76r/s]"
     ]
    },
    {
     "name": "stderr",
     "output_type": "stream",
     "text": [
      "\r 39%|███████████████████▉                               | 2220647/5681827 [01:08<01:46, 32487.82r/s]"
     ]
    },
    {
     "name": "stderr",
     "output_type": "stream",
     "text": [
      "\r 39%|███████████████████▉                               | 2223970/5681827 [01:08<01:46, 32488.67r/s]"
     ]
    },
    {
     "name": "stderr",
     "output_type": "stream",
     "text": [
      "\r 39%|███████████████████▉                               | 2227285/5681827 [01:08<01:46, 32489.26r/s]"
     ]
    },
    {
     "name": "stderr",
     "output_type": "stream",
     "text": [
      "\r 39%|████████████████████                               | 2230600/5681827 [01:08<01:46, 32489.81r/s]"
     ]
    },
    {
     "name": "stderr",
     "output_type": "stream",
     "text": [
      "\r 39%|████████████████████                               | 2233870/5681827 [01:08<01:46, 32489.76r/s]"
     ]
    },
    {
     "name": "stderr",
     "output_type": "stream",
     "text": [
      "\r 39%|████████████████████                               | 2237302/5681827 [01:08<01:46, 32492.22r/s]"
     ]
    },
    {
     "name": "stderr",
     "output_type": "stream",
     "text": [
      "\r 39%|████████████████████                               | 2240751/5681827 [01:08<01:45, 32494.98r/s]"
     ]
    },
    {
     "name": "stderr",
     "output_type": "stream",
     "text": [
      "\r 39%|████████████████████▏                              | 2244193/5681827 [01:09<01:45, 32497.60r/s]"
     ]
    },
    {
     "name": "stderr",
     "output_type": "stream",
     "text": [
      "\r 40%|████████████████████▏                              | 2247633/5681827 [01:09<01:45, 32500.16r/s]"
     ]
    },
    {
     "name": "stderr",
     "output_type": "stream",
     "text": [
      "\r 40%|████████████████████▏                              | 2251062/5681827 [01:09<01:45, 32502.61r/s]"
     ]
    },
    {
     "name": "stderr",
     "output_type": "stream",
     "text": [
      "\r 40%|████████████████████▏                              | 2254458/5681827 [01:09<01:45, 32504.69r/s]"
     ]
    },
    {
     "name": "stderr",
     "output_type": "stream",
     "text": [
      "\r 40%|████████████████████▎                              | 2257854/5681827 [01:09<01:45, 32505.00r/s]"
     ]
    },
    {
     "name": "stderr",
     "output_type": "stream",
     "text": [
      "\r 40%|████████████████████▎                              | 2261267/5681827 [01:09<01:45, 32507.16r/s]"
     ]
    },
    {
     "name": "stderr",
     "output_type": "stream",
     "text": [
      "\r 40%|████████████████████▎                              | 2264716/5681827 [01:09<01:45, 32509.84r/s]"
     ]
    },
    {
     "name": "stderr",
     "output_type": "stream",
     "text": [
      "\r 40%|████████████████████▎                              | 2268137/5681827 [01:09<01:44, 32512.13r/s]"
     ]
    },
    {
     "name": "stderr",
     "output_type": "stream",
     "text": [
      "\r 40%|████████████████████▍                              | 2271534/5681827 [01:09<01:44, 32513.84r/s]"
     ]
    },
    {
     "name": "stderr",
     "output_type": "stream",
     "text": [
      "\r 40%|████████████████████▍                              | 2274923/5681827 [01:09<01:44, 32513.51r/s]"
     ]
    },
    {
     "name": "stderr",
     "output_type": "stream",
     "text": [
      "\r 40%|████████████████████▍                              | 2278343/5681827 [01:10<01:44, 32515.85r/s]"
     ]
    },
    {
     "name": "stderr",
     "output_type": "stream",
     "text": [
      "\r 40%|████████████████████▍                              | 2281712/5681827 [01:10<01:44, 32517.32r/s]"
     ]
    },
    {
     "name": "stderr",
     "output_type": "stream",
     "text": [
      "\r 40%|████████████████████▌                              | 2285121/5681827 [01:10<01:44, 32519.36r/s]"
     ]
    },
    {
     "name": "stderr",
     "output_type": "stream",
     "text": [
      "\r 40%|████████████████████▌                              | 2288492/5681827 [01:10<01:44, 32519.50r/s]"
     ]
    },
    {
     "name": "stderr",
     "output_type": "stream",
     "text": [
      "\r 40%|████████████████████▌                              | 2291830/5681827 [01:10<01:44, 32517.98r/s]"
     ]
    },
    {
     "name": "stderr",
     "output_type": "stream",
     "text": [
      "\r 40%|████████████████████▌                              | 2295281/5681827 [01:10<01:44, 32520.41r/s]"
     ]
    },
    {
     "name": "stderr",
     "output_type": "stream",
     "text": [
      "\r 40%|████████████████████▋                              | 2298747/5681827 [01:10<01:44, 32523.05r/s]"
     ]
    },
    {
     "name": "stderr",
     "output_type": "stream",
     "text": [
      "\r 41%|████████████████████▋                              | 2302183/5681827 [01:10<01:43, 32525.24r/s]"
     ]
    },
    {
     "name": "stderr",
     "output_type": "stream",
     "text": [
      "\r 41%|████████████████████▋                              | 2305556/5681827 [01:10<01:43, 32526.10r/s]"
     ]
    },
    {
     "name": "stderr",
     "output_type": "stream",
     "text": [
      "\r 41%|████████████████████▋                              | 2308911/5681827 [01:10<01:43, 32526.96r/s]"
     ]
    },
    {
     "name": "stderr",
     "output_type": "stream",
     "text": [
      "\r 41%|████████████████████▊                              | 2312288/5681827 [01:11<01:43, 32528.57r/s]"
     ]
    },
    {
     "name": "stderr",
     "output_type": "stream",
     "text": [
      "\r 41%|████████████████████▊                              | 2315648/5681827 [01:11<01:43, 32529.99r/s]"
     ]
    },
    {
     "name": "stderr",
     "output_type": "stream",
     "text": [
      "\r 41%|████████████████████▊                              | 2319131/5681827 [01:11<01:43, 32533.07r/s]"
     ]
    },
    {
     "name": "stderr",
     "output_type": "stream",
     "text": [
      "\r 41%|████████████████████▊                              | 2322518/5681827 [01:11<01:43, 32532.99r/s]"
     ]
    },
    {
     "name": "stderr",
     "output_type": "stream",
     "text": [
      "\r 41%|████████████████████▉                              | 2325942/5681827 [01:11<01:43, 32534.95r/s]"
     ]
    },
    {
     "name": "stderr",
     "output_type": "stream",
     "text": [
      "\r 41%|████████████████████▉                              | 2329405/5681827 [01:11<01:43, 32537.48r/s]"
     ]
    },
    {
     "name": "stderr",
     "output_type": "stream",
     "text": [
      "\r 41%|████████████████████▉                              | 2332790/5681827 [01:11<01:42, 32539.00r/s]"
     ]
    },
    {
     "name": "stderr",
     "output_type": "stream",
     "text": [
      "\r 41%|████████████████████▉                              | 2336166/5681827 [01:11<01:42, 32540.52r/s]"
     ]
    },
    {
     "name": "stderr",
     "output_type": "stream",
     "text": [
      "\r 41%|████████████████████▉                              | 2339574/5681827 [01:11<01:42, 32542.29r/s]"
     ]
    },
    {
     "name": "stderr",
     "output_type": "stream",
     "text": [
      "\r 41%|█████████████████████                              | 2342968/5681827 [01:11<01:42, 32543.89r/s]"
     ]
    },
    {
     "name": "stderr",
     "output_type": "stream",
     "text": [
      "\r 41%|█████████████████████                              | 2346398/5681827 [01:12<01:42, 32546.14r/s]"
     ]
    },
    {
     "name": "stderr",
     "output_type": "stream",
     "text": [
      "\r 41%|█████████████████████                              | 2349899/5681827 [01:12<01:42, 32549.15r/s]"
     ]
    },
    {
     "name": "stderr",
     "output_type": "stream",
     "text": [
      "\r 41%|█████████████████████                              | 2353365/5681827 [01:12<01:42, 32551.73r/s]"
     ]
    },
    {
     "name": "stderr",
     "output_type": "stream",
     "text": [
      "\r 41%|█████████████████████▏                             | 2356785/5681827 [01:12<01:42, 32552.69r/s]"
     ]
    },
    {
     "name": "stderr",
     "output_type": "stream",
     "text": [
      "\r 42%|█████████████████████▏                             | 2360176/5681827 [01:12<01:42, 32552.18r/s]"
     ]
    },
    {
     "name": "stderr",
     "output_type": "stream",
     "text": [
      "\r 42%|█████████████████████▏                             | 2363516/5681827 [01:12<01:41, 32552.58r/s]"
     ]
    },
    {
     "name": "stderr",
     "output_type": "stream",
     "text": [
      "\r 42%|█████████████████████▏                             | 2366839/5681827 [01:12<01:41, 32551.99r/s]"
     ]
    },
    {
     "name": "stderr",
     "output_type": "stream",
     "text": [
      "\r 42%|█████████████████████▎                             | 2370130/5681827 [01:12<01:41, 32550.27r/s]"
     ]
    },
    {
     "name": "stderr",
     "output_type": "stream",
     "text": [
      "\r 42%|█████████████████████▎                             | 2373568/5681827 [01:12<01:41, 32552.61r/s]"
     ]
    },
    {
     "name": "stderr",
     "output_type": "stream",
     "text": [
      "\r 42%|█████████████████████▎                             | 2376947/5681827 [01:13<01:41, 32553.93r/s]"
     ]
    },
    {
     "name": "stderr",
     "output_type": "stream",
     "text": [
      "\r 42%|█████████████████████▎                             | 2380390/5681827 [01:13<01:41, 32556.13r/s]"
     ]
    },
    {
     "name": "stderr",
     "output_type": "stream",
     "text": [
      "\r 42%|█████████████████████▍                             | 2383749/5681827 [01:13<01:41, 32557.12r/s]"
     ]
    },
    {
     "name": "stderr",
     "output_type": "stream",
     "text": [
      "\r 42%|█████████████████████▍                             | 2387149/5681827 [01:13<01:41, 32558.73r/s]"
     ]
    },
    {
     "name": "stderr",
     "output_type": "stream",
     "text": [
      "\r 42%|█████████████████████▍                             | 2390551/5681827 [01:13<01:41, 32560.35r/s]"
     ]
    },
    {
     "name": "stderr",
     "output_type": "stream",
     "text": [
      "\r 42%|█████████████████████▍                             | 2393997/5681827 [01:13<01:40, 32562.80r/s]"
     ]
    },
    {
     "name": "stderr",
     "output_type": "stream",
     "text": [
      "\r 42%|█████████████████████▌                             | 2397378/5681827 [01:13<01:40, 32561.50r/s]"
     ]
    },
    {
     "name": "stderr",
     "output_type": "stream",
     "text": [
      "\r 42%|█████████████████████▌                             | 2400810/5681827 [01:13<01:40, 32563.71r/s]"
     ]
    },
    {
     "name": "stderr",
     "output_type": "stream",
     "text": [
      "\r 42%|█████████████████████▌                             | 2404157/5681827 [01:13<01:40, 32564.14r/s]"
     ]
    },
    {
     "name": "stderr",
     "output_type": "stream",
     "text": [
      "\r 42%|█████████████████████▌                             | 2407511/5681827 [01:13<01:40, 32565.07r/s]"
     ]
    },
    {
     "name": "stderr",
     "output_type": "stream",
     "text": [
      "\r 42%|█████████████████████▋                             | 2410971/5681827 [01:14<01:40, 32567.44r/s]"
     ]
    },
    {
     "name": "stderr",
     "output_type": "stream",
     "text": [
      "\r 42%|█████████████████████▋                             | 2414330/5681827 [01:14<01:40, 32568.48r/s]"
     ]
    },
    {
     "name": "stderr",
     "output_type": "stream",
     "text": [
      "\r 43%|█████████████████████▋                             | 2417681/5681827 [01:14<01:40, 32568.92r/s]"
     ]
    },
    {
     "name": "stderr",
     "output_type": "stream",
     "text": [
      "\r 43%|█████████████████████▋                             | 2421024/5681827 [01:14<01:40, 32569.71r/s]"
     ]
    },
    {
     "name": "stderr",
     "output_type": "stream",
     "text": [
      "\r 43%|█████████████████████▊                             | 2424352/5681827 [01:14<01:40, 32569.93r/s]"
     ]
    },
    {
     "name": "stderr",
     "output_type": "stream",
     "text": [
      "\r 43%|█████████████████████▊                             | 2427718/5681827 [01:14<01:39, 32571.25r/s]"
     ]
    },
    {
     "name": "stderr",
     "output_type": "stream",
     "text": [
      "\r 43%|█████████████████████▊                             | 2431060/5681827 [01:14<01:39, 32572.01r/s]"
     ]
    },
    {
     "name": "stderr",
     "output_type": "stream",
     "text": [
      "\r 43%|█████████████████████▊                             | 2434521/5681827 [01:14<01:39, 32574.60r/s]"
     ]
    },
    {
     "name": "stderr",
     "output_type": "stream",
     "text": [
      "\r 43%|█████████████████████▉                             | 2437949/5681827 [01:14<01:39, 32576.50r/s]"
     ]
    },
    {
     "name": "stderr",
     "output_type": "stream",
     "text": [
      "\r 43%|█████████████████████▉                             | 2441368/5681827 [01:14<01:39, 32578.50r/s]"
     ]
    },
    {
     "name": "stderr",
     "output_type": "stream",
     "text": [
      "\r 43%|█████████████████████▉                             | 2444817/5681827 [01:15<01:39, 32580.69r/s]"
     ]
    },
    {
     "name": "stderr",
     "output_type": "stream",
     "text": [
      "\r 43%|█████████████████████▉                             | 2448211/5681827 [01:15<01:39, 32582.14r/s]"
     ]
    },
    {
     "name": "stderr",
     "output_type": "stream",
     "text": [
      "\r 43%|██████████████████████                             | 2451597/5681827 [01:15<01:39, 32581.44r/s]"
     ]
    },
    {
     "name": "stderr",
     "output_type": "stream",
     "text": [
      "\r 43%|██████████████████████                             | 2454969/5681827 [01:15<01:39, 32582.81r/s]"
     ]
    },
    {
     "name": "stderr",
     "output_type": "stream",
     "text": [
      "\r 43%|██████████████████████                             | 2458387/5681827 [01:15<01:38, 32584.57r/s]"
     ]
    },
    {
     "name": "stderr",
     "output_type": "stream",
     "text": [
      "\r 43%|██████████████████████                             | 2461850/5681827 [01:15<01:38, 32586.88r/s]"
     ]
    },
    {
     "name": "stderr",
     "output_type": "stream",
     "text": [
      "\r 43%|██████████████████████▏                            | 2465251/5681827 [01:15<01:38, 32588.41r/s]"
     ]
    },
    {
     "name": "stderr",
     "output_type": "stream",
     "text": [
      "\r 43%|██████████████████████▏                            | 2468628/5681827 [01:15<01:38, 32585.91r/s]"
     ]
    },
    {
     "name": "stderr",
     "output_type": "stream",
     "text": [
      "\r 44%|██████████████████████▏                            | 2471929/5681827 [01:15<01:38, 32586.32r/s]"
     ]
    },
    {
     "name": "stderr",
     "output_type": "stream",
     "text": [
      "\r 44%|██████████████████████▏                            | 2475256/5681827 [01:15<01:38, 32587.09r/s]"
     ]
    },
    {
     "name": "stderr",
     "output_type": "stream",
     "text": [
      "\r 44%|██████████████████████▏                            | 2478591/5681827 [01:16<01:38, 32587.89r/s]"
     ]
    },
    {
     "name": "stderr",
     "output_type": "stream",
     "text": [
      "\r 44%|██████████████████████▎                            | 2481896/5681827 [01:16<01:38, 32585.97r/s]"
     ]
    },
    {
     "name": "stderr",
     "output_type": "stream",
     "text": [
      "\r 44%|██████████████████████▎                            | 2485289/5681827 [01:16<01:38, 32587.58r/s]"
     ]
    },
    {
     "name": "stderr",
     "output_type": "stream",
     "text": [
      "\r 44%|██████████████████████▎                            | 2488650/5681827 [01:16<01:37, 32588.75r/s]"
     ]
    },
    {
     "name": "stderr",
     "output_type": "stream",
     "text": [
      "\r 44%|██████████████████████▎                            | 2492058/5681827 [01:16<01:37, 32590.53r/s]"
     ]
    },
    {
     "name": "stderr",
     "output_type": "stream",
     "text": [
      "\r 44%|██████████████████████▍                            | 2495391/5681827 [01:16<01:37, 32590.03r/s]"
     ]
    },
    {
     "name": "stderr",
     "output_type": "stream",
     "text": [
      "\r 44%|██████████████████████▍                            | 2498691/5681827 [01:16<01:37, 32590.45r/s]"
     ]
    },
    {
     "name": "stderr",
     "output_type": "stream",
     "text": [
      "\r 44%|██████████████████████▍                            | 2501988/5681827 [01:16<01:37, 32590.83r/s]"
     ]
    },
    {
     "name": "stderr",
     "output_type": "stream",
     "text": [
      "\r 44%|██████████████████████▍                            | 2505357/5681827 [01:16<01:37, 32592.13r/s]"
     ]
    },
    {
     "name": "stderr",
     "output_type": "stream",
     "text": [
      "\r 44%|██████████████████████▌                            | 2508738/5681827 [01:16<01:37, 32593.67r/s]"
     ]
    },
    {
     "name": "stderr",
     "output_type": "stream",
     "text": [
      "\r 44%|██████████████████████▌                            | 2512071/5681827 [01:17<01:37, 32594.48r/s]"
     ]
    },
    {
     "name": "stderr",
     "output_type": "stream",
     "text": [
      "\r 44%|██████████████████████▌                            | 2515401/5681827 [01:17<01:37, 32594.59r/s]"
     ]
    },
    {
     "name": "stderr",
     "output_type": "stream",
     "text": [
      "\r 44%|██████████████████████▌                            | 2518741/5681827 [01:17<01:37, 32595.26r/s]"
     ]
    },
    {
     "name": "stderr",
     "output_type": "stream",
     "text": [
      "\r 44%|██████████████████████▋                            | 2522149/5681827 [01:17<01:36, 32597.08r/s]"
     ]
    },
    {
     "name": "stderr",
     "output_type": "stream",
     "text": [
      "\r 44%|██████████████████████▋                            | 2525515/5681827 [01:17<01:36, 32598.34r/s]"
     ]
    },
    {
     "name": "stderr",
     "output_type": "stream",
     "text": [
      "\r 45%|██████████████████████▋                            | 2528893/5681827 [01:17<01:36, 32599.49r/s]"
     ]
    },
    {
     "name": "stderr",
     "output_type": "stream",
     "text": [
      "\r 45%|██████████████████████▋                            | 2532239/5681827 [01:17<01:36, 32596.48r/s]"
     ]
    },
    {
     "name": "stderr",
     "output_type": "stream",
     "text": [
      "\r 45%|██████████████████████▊                            | 2535495/5681827 [01:17<01:36, 32595.87r/s]"
     ]
    },
    {
     "name": "stderr",
     "output_type": "stream",
     "text": [
      "\r 45%|██████████████████████▊                            | 2538758/5681827 [01:17<01:36, 32595.80r/s]"
     ]
    },
    {
     "name": "stderr",
     "output_type": "stream",
     "text": [
      "\r 45%|██████████████████████▊                            | 2542106/5681827 [01:17<01:36, 32596.84r/s]"
     ]
    },
    {
     "name": "stderr",
     "output_type": "stream",
     "text": [
      "\r 45%|██████████████████████▊                            | 2545430/5681827 [01:18<01:36, 32597.55r/s]"
     ]
    },
    {
     "name": "stderr",
     "output_type": "stream",
     "text": [
      "\r 45%|██████████████████████▉                            | 2548766/5681827 [01:18<01:36, 32598.36r/s]"
     ]
    },
    {
     "name": "stderr",
     "output_type": "stream",
     "text": [
      "\r 45%|██████████████████████▉                            | 2552102/5681827 [01:18<01:36, 32599.00r/s]"
     ]
    },
    {
     "name": "stderr",
     "output_type": "stream",
     "text": [
      "\r 45%|██████████████████████▉                            | 2555404/5681827 [01:18<01:35, 32598.99r/s]"
     ]
    },
    {
     "name": "stderr",
     "output_type": "stream",
     "text": [
      "\r 45%|██████████████████████▉                            | 2558768/5681827 [01:18<01:35, 32600.14r/s]"
     ]
    },
    {
     "name": "stderr",
     "output_type": "stream",
     "text": [
      "\r 45%|██████████████████████▉                            | 2562075/5681827 [01:18<01:35, 32600.54r/s]"
     ]
    },
    {
     "name": "stderr",
     "output_type": "stream",
     "text": [
      "\r 45%|███████████████████████                            | 2565378/5681827 [01:18<01:35, 32600.31r/s]"
     ]
    },
    {
     "name": "stderr",
     "output_type": "stream",
     "text": [
      "\r 45%|███████████████████████                            | 2568694/5681827 [01:18<01:35, 32600.92r/s]"
     ]
    },
    {
     "name": "stderr",
     "output_type": "stream",
     "text": [
      "\r 45%|███████████████████████                            | 2571986/5681827 [01:18<01:35, 32599.94r/s]"
     ]
    },
    {
     "name": "stderr",
     "output_type": "stream",
     "text": [
      "\r 45%|███████████████████████                            | 2575320/5681827 [01:18<01:35, 32600.70r/s]"
     ]
    },
    {
     "name": "stderr",
     "output_type": "stream",
     "text": [
      "\r 45%|███████████████████████▏                           | 2578616/5681827 [01:19<01:35, 32601.00r/s]"
     ]
    },
    {
     "name": "stderr",
     "output_type": "stream",
     "text": [
      "\r 45%|███████████████████████▏                           | 2581896/5681827 [01:19<01:35, 32600.72r/s]"
     ]
    },
    {
     "name": "stderr",
     "output_type": "stream",
     "text": [
      "\r 45%|███████████████████████▏                           | 2585164/5681827 [01:19<01:34, 32598.64r/s]"
     ]
    },
    {
     "name": "stderr",
     "output_type": "stream",
     "text": [
      "\r 46%|███████████████████████▏                           | 2588422/5681827 [01:19<01:34, 32598.24r/s]"
     ]
    },
    {
     "name": "stderr",
     "output_type": "stream",
     "text": [
      "\r 46%|███████████████████████▎                           | 2591748/5681827 [01:19<01:34, 32598.72r/s]"
     ]
    },
    {
     "name": "stderr",
     "output_type": "stream",
     "text": [
      "\r 46%|███████████████████████▎                           | 2595090/5681827 [01:19<01:34, 32599.41r/s]"
     ]
    },
    {
     "name": "stderr",
     "output_type": "stream",
     "text": [
      "\r 46%|███████████████████████▎                           | 2598485/5681827 [01:19<01:34, 32600.75r/s]"
     ]
    },
    {
     "name": "stderr",
     "output_type": "stream",
     "text": [
      "\r 46%|███████████████████████▎                           | 2601828/5681827 [01:19<01:34, 32601.43r/s]"
     ]
    },
    {
     "name": "stderr",
     "output_type": "stream",
     "text": [
      "\r 46%|███████████████████████▍                           | 2605235/5681827 [01:19<01:34, 32602.91r/s]"
     ]
    },
    {
     "name": "stderr",
     "output_type": "stream",
     "text": [
      "\r 46%|███████████████████████▍                           | 2608658/5681827 [01:20<01:34, 32604.78r/s]"
     ]
    },
    {
     "name": "stderr",
     "output_type": "stream",
     "text": [
      "\r 46%|███████████████████████▍                           | 2612099/5681827 [01:20<01:34, 32606.70r/s]"
     ]
    },
    {
     "name": "stderr",
     "output_type": "stream",
     "text": [
      "\r 46%|███████████████████████▍                           | 2615552/5681827 [01:20<01:34, 32608.74r/s]"
     ]
    },
    {
     "name": "stderr",
     "output_type": "stream",
     "text": [
      "\r 46%|███████████████████████▌                           | 2618937/5681827 [01:20<01:33, 32609.95r/s]"
     ]
    },
    {
     "name": "stderr",
     "output_type": "stream",
     "text": [
      "\r 46%|███████████████████████▌                           | 2622314/5681827 [01:20<01:33, 32611.02r/s]"
     ]
    },
    {
     "name": "stderr",
     "output_type": "stream",
     "text": [
      "\r 46%|███████████████████████▌                           | 2625798/5681827 [01:20<01:33, 32613.45r/s]"
     ]
    },
    {
     "name": "stderr",
     "output_type": "stream",
     "text": [
      "\r 46%|███████████████████████▌                           | 2629192/5681827 [01:20<01:33, 32614.75r/s]"
     ]
    },
    {
     "name": "stderr",
     "output_type": "stream",
     "text": [
      "\r 46%|███████████████████████▋                           | 2632634/5681827 [01:20<01:33, 32616.64r/s]"
     ]
    },
    {
     "name": "stderr",
     "output_type": "stream",
     "text": [
      "\r 46%|███████████████████████▋                           | 2636028/5681827 [01:20<01:33, 32618.11r/s]"
     ]
    },
    {
     "name": "stderr",
     "output_type": "stream",
     "text": [
      "\r 46%|███████████████████████▋                           | 2639418/5681827 [01:20<01:33, 32618.76r/s]"
     ]
    },
    {
     "name": "stderr",
     "output_type": "stream",
     "text": [
      "\r 47%|███████████████████████▋                           | 2642785/5681827 [01:21<01:33, 32619.28r/s]"
     ]
    },
    {
     "name": "stderr",
     "output_type": "stream",
     "text": [
      "\r 47%|███████████████████████▊                           | 2646208/5681827 [01:21<01:33, 32620.92r/s]"
     ]
    },
    {
     "name": "stderr",
     "output_type": "stream",
     "text": [
      "\r 47%|███████████████████████▊                           | 2649678/5681827 [01:21<01:32, 32623.13r/s]"
     ]
    },
    {
     "name": "stderr",
     "output_type": "stream",
     "text": [
      "\r 47%|███████████████████████▊                           | 2653064/5681827 [01:21<01:32, 32623.91r/s]"
     ]
    },
    {
     "name": "stderr",
     "output_type": "stream",
     "text": [
      "\r 47%|███████████████████████▊                           | 2656437/5681827 [01:21<01:32, 32624.92r/s]"
     ]
    },
    {
     "name": "stderr",
     "output_type": "stream",
     "text": [
      "\r 47%|███████████████████████▉                           | 2659941/5681827 [01:21<01:32, 32627.52r/s]"
     ]
    },
    {
     "name": "stderr",
     "output_type": "stream",
     "text": [
      "\r 47%|███████████████████████▉                           | 2663335/5681827 [01:21<01:32, 32628.77r/s]"
     ]
    },
    {
     "name": "stderr",
     "output_type": "stream",
     "text": [
      "\r 47%|███████████████████████▉                           | 2666798/5681827 [01:21<01:32, 32630.90r/s]"
     ]
    },
    {
     "name": "stderr",
     "output_type": "stream",
     "text": [
      "\r 47%|███████████████████████▉                           | 2670228/5681827 [01:21<01:32, 32632.61r/s]"
     ]
    },
    {
     "name": "stderr",
     "output_type": "stream",
     "text": [
      "\r 47%|███████████████████████▉                           | 2673655/5681827 [01:21<01:32, 32634.41r/s]"
     ]
    },
    {
     "name": "stderr",
     "output_type": "stream",
     "text": [
      "\r 47%|████████████████████████                           | 2677079/5681827 [01:22<01:32, 32636.24r/s]"
     ]
    },
    {
     "name": "stderr",
     "output_type": "stream",
     "text": [
      "\r 47%|████████████████████████                           | 2680486/5681827 [01:22<01:31, 32636.09r/s]"
     ]
    },
    {
     "name": "stderr",
     "output_type": "stream",
     "text": [
      "\r 47%|████████████████████████                           | 2683908/5681827 [01:22<01:31, 32637.87r/s]"
     ]
    },
    {
     "name": "stderr",
     "output_type": "stream",
     "text": [
      "\r 47%|████████████████████████                           | 2687283/5681827 [01:22<01:31, 32638.89r/s]"
     ]
    },
    {
     "name": "stderr",
     "output_type": "stream",
     "text": [
      "\r 47%|████████████████████████▏                          | 2690650/5681827 [01:22<01:31, 32638.37r/s]"
     ]
    },
    {
     "name": "stderr",
     "output_type": "stream",
     "text": [
      "\r 47%|████████████████████████▏                          | 2693974/5681827 [01:22<01:31, 32636.98r/s]"
     ]
    },
    {
     "name": "stderr",
     "output_type": "stream",
     "text": [
      "\r 47%|████████████████████████▏                          | 2697354/5681827 [01:22<01:31, 32638.05r/s]"
     ]
    },
    {
     "name": "stderr",
     "output_type": "stream",
     "text": [
      "\r 48%|████████████████████████▏                          | 2700736/5681827 [01:22<01:31, 32639.36r/s]"
     ]
    },
    {
     "name": "stderr",
     "output_type": "stream",
     "text": [
      "\r 48%|████████████████████████▎                          | 2704097/5681827 [01:22<01:31, 32640.18r/s]"
     ]
    },
    {
     "name": "stderr",
     "output_type": "stream",
     "text": [
      "\r 48%|████████████████████████▎                          | 2707420/5681827 [01:22<01:31, 32640.58r/s]"
     ]
    },
    {
     "name": "stderr",
     "output_type": "stream",
     "text": [
      "\r 48%|████████████████████████▎                          | 2710754/5681827 [01:23<01:31, 32641.29r/s]"
     ]
    },
    {
     "name": "stderr",
     "output_type": "stream",
     "text": [
      "\r 48%|████████████████████████▎                          | 2714244/5681827 [01:23<01:30, 32643.68r/s]"
     ]
    },
    {
     "name": "stderr",
     "output_type": "stream",
     "text": [
      "\r 48%|████████████████████████▍                          | 2717605/5681827 [01:23<01:30, 32644.49r/s]"
     ]
    },
    {
     "name": "stderr",
     "output_type": "stream",
     "text": [
      "\r 48%|████████████████████████▍                          | 2720957/5681827 [01:23<01:30, 32645.22r/s]"
     ]
    },
    {
     "name": "stderr",
     "output_type": "stream",
     "text": [
      "\r 48%|████████████████████████▍                          | 2724301/5681827 [01:23<01:30, 32645.25r/s]"
     ]
    },
    {
     "name": "stderr",
     "output_type": "stream",
     "text": [
      "\r 48%|████████████████████████▍                          | 2727681/5681827 [01:23<01:30, 32646.50r/s]"
     ]
    },
    {
     "name": "stderr",
     "output_type": "stream",
     "text": [
      "\r 48%|████████████████████████▌                          | 2731017/5681827 [01:23<01:30, 32646.24r/s]"
     ]
    },
    {
     "name": "stderr",
     "output_type": "stream",
     "text": [
      "\r 48%|████████████████████████▌                          | 2734325/5681827 [01:23<01:30, 32642.35r/s]"
     ]
    },
    {
     "name": "stderr",
     "output_type": "stream",
     "text": [
      "\r 48%|████████████████████████▌                          | 2737532/5681827 [01:23<01:30, 32639.58r/s]"
     ]
    },
    {
     "name": "stderr",
     "output_type": "stream",
     "text": [
      "\r 48%|████████████████████████▌                          | 2740690/5681827 [01:23<01:30, 32636.94r/s]"
     ]
    },
    {
     "name": "stderr",
     "output_type": "stream",
     "text": [
      "\r 48%|████████████████████████▋                          | 2743859/5681827 [01:24<01:30, 32635.80r/s]"
     ]
    },
    {
     "name": "stderr",
     "output_type": "stream",
     "text": [
      "\r 48%|████████████████████████▋                          | 2747076/5681827 [01:24<01:29, 32635.10r/s]"
     ]
    },
    {
     "name": "stderr",
     "output_type": "stream",
     "text": [
      "\r 48%|████████████████████████▋                          | 2750258/5681827 [01:24<01:29, 32633.80r/s]"
     ]
    },
    {
     "name": "stderr",
     "output_type": "stream",
     "text": [
      "\r 48%|████████████████████████▋                          | 2753416/5681827 [01:24<01:29, 32631.47r/s]"
     ]
    },
    {
     "name": "stderr",
     "output_type": "stream",
     "text": [
      "\r 49%|████████████████████████▋                          | 2756606/5681827 [01:24<01:29, 32630.42r/s]"
     ]
    },
    {
     "name": "stderr",
     "output_type": "stream",
     "text": [
      "\r 49%|████████████████████████▊                          | 2759940/5681827 [01:24<01:29, 32631.11r/s]"
     ]
    },
    {
     "name": "stderr",
     "output_type": "stream",
     "text": [
      "\r 49%|████████████████████████▊                          | 2763279/5681827 [01:24<01:29, 32631.68r/s]"
     ]
    },
    {
     "name": "stderr",
     "output_type": "stream",
     "text": [
      "\r 49%|████████████████████████▊                          | 2766555/5681827 [01:24<01:29, 32631.49r/s]"
     ]
    },
    {
     "name": "stderr",
     "output_type": "stream",
     "text": [
      "\r 49%|████████████████████████▊                          | 2769970/5681827 [01:24<01:29, 32633.19r/s]"
     ]
    },
    {
     "name": "stderr",
     "output_type": "stream",
     "text": [
      "\r 49%|████████████████████████▉                          | 2773352/5681827 [01:24<01:29, 32634.25r/s]"
     ]
    },
    {
     "name": "stderr",
     "output_type": "stream",
     "text": [
      "\r 49%|████████████████████████▉                          | 2776781/5681827 [01:25<01:29, 32636.11r/s]"
     ]
    },
    {
     "name": "stderr",
     "output_type": "stream",
     "text": [
      "\r 49%|████████████████████████▉                          | 2780223/5681827 [01:25<01:28, 32638.06r/s]"
     ]
    },
    {
     "name": "stderr",
     "output_type": "stream",
     "text": [
      "\r 49%|████████████████████████▉                          | 2783676/5681827 [01:25<01:28, 32639.95r/s]"
     ]
    },
    {
     "name": "stderr",
     "output_type": "stream",
     "text": [
      "\r 49%|█████████████████████████                          | 2787061/5681827 [01:25<01:28, 32640.68r/s]"
     ]
    },
    {
     "name": "stderr",
     "output_type": "stream",
     "text": [
      "\r 49%|█████████████████████████                          | 2790428/5681827 [01:25<01:28, 32636.96r/s]"
     ]
    },
    {
     "name": "stderr",
     "output_type": "stream",
     "text": [
      "\r 49%|█████████████████████████                          | 2793792/5681827 [01:25<01:28, 32637.78r/s]"
     ]
    },
    {
     "name": "stderr",
     "output_type": "stream",
     "text": [
      "\r 49%|█████████████████████████                          | 2797234/5681827 [01:25<01:28, 32639.75r/s]"
     ]
    },
    {
     "name": "stderr",
     "output_type": "stream",
     "text": [
      "\r 49%|█████████████████████████▏                         | 2800591/5681827 [01:25<01:28, 32640.50r/s]"
     ]
    },
    {
     "name": "stderr",
     "output_type": "stream",
     "text": [
      "\r 49%|█████████████████████████▏                         | 2804054/5681827 [01:25<01:28, 32642.50r/s]"
     ]
    },
    {
     "name": "stderr",
     "output_type": "stream",
     "text": [
      "\r 49%|█████████████████████████▏                         | 2807521/5681827 [01:26<01:28, 32644.53r/s]"
     ]
    },
    {
     "name": "stderr",
     "output_type": "stream",
     "text": [
      "\r 49%|█████████████████████████▏                         | 2810920/5681827 [01:26<01:27, 32645.96r/s]"
     ]
    },
    {
     "name": "stderr",
     "output_type": "stream",
     "text": [
      "\r 50%|█████████████████████████▎                         | 2814341/5681827 [01:26<01:27, 32647.67r/s]"
     ]
    },
    {
     "name": "stderr",
     "output_type": "stream",
     "text": [
      "\r 50%|█████████████████████████▎                         | 2817832/5681827 [01:26<01:27, 32650.00r/s]"
     ]
    },
    {
     "name": "stderr",
     "output_type": "stream",
     "text": [
      "\r 50%|█████████████████████████▎                         | 2821246/5681827 [01:26<01:27, 32648.92r/s]"
     ]
    },
    {
     "name": "stderr",
     "output_type": "stream",
     "text": [
      "\r 50%|█████████████████████████▎                         | 2824605/5681827 [01:26<01:27, 32649.86r/s]"
     ]
    },
    {
     "name": "stderr",
     "output_type": "stream",
     "text": [
      "\r 50%|█████████████████████████▍                         | 2828009/5681827 [01:26<01:27, 32651.16r/s]"
     ]
    },
    {
     "name": "stderr",
     "output_type": "stream",
     "text": [
      "\r 50%|█████████████████████████▍                         | 2831424/5681827 [01:26<01:27, 32652.54r/s]"
     ]
    },
    {
     "name": "stderr",
     "output_type": "stream",
     "text": [
      "\r 50%|█████████████████████████▍                         | 2834826/5681827 [01:26<01:27, 32653.80r/s]"
     ]
    },
    {
     "name": "stderr",
     "output_type": "stream",
     "text": [
      "\r 50%|█████████████████████████▍                         | 2838193/5681827 [01:26<01:27, 32654.04r/s]"
     ]
    },
    {
     "name": "stderr",
     "output_type": "stream",
     "text": [
      "\r 50%|█████████████████████████▌                         | 2841574/5681827 [01:27<01:26, 32655.22r/s]"
     ]
    },
    {
     "name": "stderr",
     "output_type": "stream",
     "text": [
      "\r 50%|█████████████████████████▌                         | 2845031/5681827 [01:27<01:26, 32657.09r/s]"
     ]
    },
    {
     "name": "stderr",
     "output_type": "stream",
     "text": [
      "\r 50%|█████████████████████████▌                         | 2848478/5681827 [01:27<01:26, 32658.84r/s]"
     ]
    },
    {
     "name": "stderr",
     "output_type": "stream",
     "text": [
      "\r 50%|█████████████████████████▌                         | 2851911/5681827 [01:27<01:26, 32660.48r/s]"
     ]
    },
    {
     "name": "stderr",
     "output_type": "stream",
     "text": [
      "\r 50%|█████████████████████████▋                         | 2855319/5681827 [01:27<01:26, 32661.96r/s]"
     ]
    },
    {
     "name": "stderr",
     "output_type": "stream",
     "text": [
      "\r 50%|█████████████████████████▋                         | 2858713/5681827 [01:27<01:26, 32662.20r/s]"
     ]
    },
    {
     "name": "stderr",
     "output_type": "stream",
     "text": [
      "\r 50%|█████████████████████████▋                         | 2862075/5681827 [01:27<01:26, 32662.95r/s]"
     ]
    },
    {
     "name": "stderr",
     "output_type": "stream",
     "text": [
      "\r 50%|█████████████████████████▋                         | 2865428/5681827 [01:27<01:26, 32659.91r/s]"
     ]
    },
    {
     "name": "stderr",
     "output_type": "stream",
     "text": [
      "\r 50%|█████████████████████████▋                         | 2868684/5681827 [01:27<01:26, 32659.48r/s]"
     ]
    },
    {
     "name": "stderr",
     "output_type": "stream",
     "text": [
      "\r 51%|█████████████████████████▊                         | 2872162/5681827 [01:27<01:26, 32661.57r/s]"
     ]
    },
    {
     "name": "stderr",
     "output_type": "stream",
     "text": [
      "\r 51%|█████████████████████████▊                         | 2875540/5681827 [01:28<01:25, 32662.71r/s]"
     ]
    },
    {
     "name": "stderr",
     "output_type": "stream",
     "text": [
      "\r 51%|█████████████████████████▊                         | 2878865/5681827 [01:28<01:25, 32663.07r/s]"
     ]
    },
    {
     "name": "stderr",
     "output_type": "stream",
     "text": [
      "\r 51%|█████████████████████████▊                         | 2882238/5681827 [01:28<01:25, 32664.15r/s]"
     ]
    },
    {
     "name": "stderr",
     "output_type": "stream",
     "text": [
      "\r 51%|█████████████████████████▉                         | 2885580/5681827 [01:28<01:25, 32664.91r/s]"
     ]
    },
    {
     "name": "stderr",
     "output_type": "stream",
     "text": [
      "\r 51%|█████████████████████████▉                         | 2888918/5681827 [01:28<01:25, 32665.40r/s]"
     ]
    },
    {
     "name": "stderr",
     "output_type": "stream",
     "text": [
      "\r 51%|█████████████████████████▉                         | 2892243/5681827 [01:28<01:25, 32663.73r/s]"
     ]
    },
    {
     "name": "stderr",
     "output_type": "stream",
     "text": [
      "\r 51%|█████████████████████████▉                         | 2895590/5681827 [01:28<01:25, 32664.30r/s]"
     ]
    },
    {
     "name": "stderr",
     "output_type": "stream",
     "text": [
      "\r 51%|██████████████████████████                         | 2898999/5681827 [01:28<01:25, 32665.80r/s]"
     ]
    },
    {
     "name": "stderr",
     "output_type": "stream",
     "text": [
      "\r 51%|██████████████████████████                         | 2902451/5681827 [01:28<01:25, 32667.56r/s]"
     ]
    },
    {
     "name": "stderr",
     "output_type": "stream",
     "text": [
      "\r 51%|██████████████████████████                         | 2905898/5681827 [01:28<01:24, 32669.48r/s]"
     ]
    },
    {
     "name": "stderr",
     "output_type": "stream",
     "text": [
      "\r 51%|██████████████████████████                         | 2909317/5681827 [01:29<01:24, 32671.07r/s]"
     ]
    },
    {
     "name": "stderr",
     "output_type": "stream",
     "text": [
      "\r 51%|██████████████████████████▏                        | 2912735/5681827 [01:29<01:24, 32672.67r/s]"
     ]
    },
    {
     "name": "stderr",
     "output_type": "stream",
     "text": [
      "\r 51%|██████████████████████████▏                        | 2916128/5681827 [01:29<01:24, 32671.57r/s]"
     ]
    },
    {
     "name": "stderr",
     "output_type": "stream",
     "text": [
      "\r 51%|██████████████████████████▏                        | 2919516/5681827 [01:29<01:24, 32672.80r/s]"
     ]
    },
    {
     "name": "stderr",
     "output_type": "stream",
     "text": [
      "\r 51%|██████████████████████████▏                        | 2922858/5681827 [01:29<01:24, 32673.35r/s]"
     ]
    },
    {
     "name": "stderr",
     "output_type": "stream",
     "text": [
      "\r 52%|██████████████████████████▎                        | 2926193/5681827 [01:29<01:24, 32673.96r/s]"
     ]
    },
    {
     "name": "stderr",
     "output_type": "stream",
     "text": [
      "\r 52%|██████████████████████████▎                        | 2929524/5681827 [01:29<01:24, 32674.18r/s]"
     ]
    },
    {
     "name": "stderr",
     "output_type": "stream",
     "text": [
      "\r 52%|██████████████████████████▎                        | 2932842/5681827 [01:29<01:24, 32673.70r/s]"
     ]
    },
    {
     "name": "stderr",
     "output_type": "stream",
     "text": [
      "\r 52%|██████████████████████████▎                        | 2936235/5681827 [01:29<01:24, 32674.96r/s]"
     ]
    },
    {
     "name": "stderr",
     "output_type": "stream",
     "text": [
      "\r 52%|██████████████████████████▍                        | 2939701/5681827 [01:29<01:23, 32677.03r/s]"
     ]
    },
    {
     "name": "stderr",
     "output_type": "stream",
     "text": [
      "\r 52%|██████████████████████████▍                        | 2943108/5681827 [01:30<01:23, 32678.44r/s]"
     ]
    },
    {
     "name": "stderr",
     "output_type": "stream",
     "text": [
      "\r 52%|██████████████████████████▍                        | 2946511/5681827 [01:30<01:23, 32679.84r/s]"
     ]
    },
    {
     "name": "stderr",
     "output_type": "stream",
     "text": [
      "\r 52%|██████████████████████████▍                        | 2949907/5681827 [01:30<01:23, 32681.20r/s]"
     ]
    },
    {
     "name": "stderr",
     "output_type": "stream",
     "text": [
      "\r 52%|██████████████████████████▌                        | 2953316/5681827 [01:30<01:23, 32682.74r/s]"
     ]
    },
    {
     "name": "stderr",
     "output_type": "stream",
     "text": [
      "\r 52%|██████████████████████████▌                        | 2956705/5681827 [01:30<01:23, 32683.49r/s]"
     ]
    },
    {
     "name": "stderr",
     "output_type": "stream",
     "text": [
      "\r 52%|██████████████████████████▌                        | 2960134/5681827 [01:30<01:23, 32685.10r/s]"
     ]
    },
    {
     "name": "stderr",
     "output_type": "stream",
     "text": [
      "\r 52%|██████████████████████████▌                        | 2963519/5681827 [01:30<01:23, 32686.22r/s]"
     ]
    },
    {
     "name": "stderr",
     "output_type": "stream",
     "text": [
      "\r 52%|██████████████████████████▋                        | 2966994/5681827 [01:30<01:23, 32688.33r/s]"
     ]
    },
    {
     "name": "stderr",
     "output_type": "stream",
     "text": [
      "\r 52%|██████████████████████████▋                        | 2970399/5681827 [01:30<01:22, 32688.91r/s]"
     ]
    },
    {
     "name": "stderr",
     "output_type": "stream",
     "text": [
      "\r 52%|██████████████████████████▋                        | 2973842/5681827 [01:30<01:22, 32690.49r/s]"
     ]
    },
    {
     "name": "stderr",
     "output_type": "stream",
     "text": [
      "\r 52%|██████████████████████████▋                        | 2977305/5681827 [01:31<01:22, 32692.44r/s]"
     ]
    },
    {
     "name": "stderr",
     "output_type": "stream",
     "text": [
      "\r 52%|██████████████████████████▊                        | 2980711/5681827 [01:31<01:22, 32693.81r/s]"
     ]
    },
    {
     "name": "stderr",
     "output_type": "stream",
     "text": [
      "\r 53%|██████████████████████████▊                        | 2984138/5681827 [01:31<01:22, 32695.45r/s]"
     ]
    },
    {
     "name": "stderr",
     "output_type": "stream",
     "text": [
      "\r 53%|██████████████████████████▊                        | 2987546/5681827 [01:31<01:22, 32695.41r/s]"
     ]
    },
    {
     "name": "stderr",
     "output_type": "stream",
     "text": [
      "\r 53%|██████████████████████████▊                        | 2990929/5681827 [01:31<01:22, 32696.33r/s]"
     ]
    },
    {
     "name": "stderr",
     "output_type": "stream",
     "text": [
      "\r 53%|██████████████████████████▉                        | 2994291/5681827 [01:31<01:22, 32696.88r/s]"
     ]
    },
    {
     "name": "stderr",
     "output_type": "stream",
     "text": [
      "\r 53%|██████████████████████████▉                        | 2997677/5681827 [01:31<01:22, 32697.83r/s]"
     ]
    },
    {
     "name": "stderr",
     "output_type": "stream",
     "text": [
      "\r 53%|██████████████████████████▉                        | 3001153/5681827 [01:31<01:21, 32699.79r/s]"
     ]
    },
    {
     "name": "stderr",
     "output_type": "stream",
     "text": [
      "\r 53%|██████████████████████████▉                        | 3004620/5681827 [01:31<01:21, 32701.64r/s]"
     ]
    },
    {
     "name": "stderr",
     "output_type": "stream",
     "text": [
      "\r 53%|██████████████████████████▉                        | 3008018/5681827 [01:31<01:21, 32702.18r/s]"
     ]
    },
    {
     "name": "stderr",
     "output_type": "stream",
     "text": [
      "\r 53%|███████████████████████████                        | 3011397/5681827 [01:32<01:21, 32703.05r/s]"
     ]
    },
    {
     "name": "stderr",
     "output_type": "stream",
     "text": [
      "\r 53%|███████████████████████████                        | 3014830/5681827 [01:32<01:21, 32704.54r/s]"
     ]
    },
    {
     "name": "stderr",
     "output_type": "stream",
     "text": [
      "\r 53%|███████████████████████████                        | 3018212/5681827 [01:32<01:21, 32705.44r/s]"
     ]
    },
    {
     "name": "stderr",
     "output_type": "stream",
     "text": [
      "\r 53%|███████████████████████████                        | 3021625/5681827 [01:32<01:21, 32706.68r/s]"
     ]
    },
    {
     "name": "stderr",
     "output_type": "stream",
     "text": [
      "\r 53%|███████████████████████████▏                       | 3025056/5681827 [01:32<01:21, 32708.09r/s]"
     ]
    },
    {
     "name": "stderr",
     "output_type": "stream",
     "text": [
      "\r 53%|███████████████████████████▏                       | 3028439/5681827 [01:32<01:21, 32708.64r/s]"
     ]
    },
    {
     "name": "stderr",
     "output_type": "stream",
     "text": [
      "\r 53%|███████████████████████████▏                       | 3031803/5681827 [01:32<01:21, 32707.57r/s]"
     ]
    },
    {
     "name": "stderr",
     "output_type": "stream",
     "text": [
      "\r 53%|███████████████████████████▏                       | 3035167/5681827 [01:32<01:20, 32708.27r/s]"
     ]
    },
    {
     "name": "stderr",
     "output_type": "stream",
     "text": [
      "\r 53%|███████████████████████████▎                       | 3038657/5681827 [01:32<01:20, 32710.32r/s]"
     ]
    },
    {
     "name": "stderr",
     "output_type": "stream",
     "text": [
      "\r 54%|███████████████████████████▎                       | 3042036/5681827 [01:32<01:20, 32711.33r/s]"
     ]
    },
    {
     "name": "stderr",
     "output_type": "stream",
     "text": [
      "\r 54%|███████████████████████████▎                       | 3045453/5681827 [01:33<01:20, 32712.82r/s]"
     ]
    },
    {
     "name": "stderr",
     "output_type": "stream",
     "text": [
      "\r 54%|███████████████████████████▎                       | 3048829/5681827 [01:33<01:20, 32713.85r/s]"
     ]
    },
    {
     "name": "stderr",
     "output_type": "stream",
     "text": [
      "\r 54%|███████████████████████████▍                       | 3052202/5681827 [01:33<01:20, 32714.63r/s]"
     ]
    },
    {
     "name": "stderr",
     "output_type": "stream",
     "text": [
      "\r 54%|███████████████████████████▍                       | 3055567/5681827 [01:33<01:20, 32713.92r/s]"
     ]
    },
    {
     "name": "stderr",
     "output_type": "stream",
     "text": [
      "\r 54%|███████████████████████████▍                       | 3058940/5681827 [01:33<01:20, 32714.72r/s]"
     ]
    },
    {
     "name": "stderr",
     "output_type": "stream",
     "text": [
      "\r 54%|███████████████████████████▍                       | 3062277/5681827 [01:33<01:20, 32715.10r/s]"
     ]
    },
    {
     "name": "stderr",
     "output_type": "stream",
     "text": [
      "\r 54%|███████████████████████████▌                       | 3065674/5681827 [01:33<01:19, 32716.28r/s]"
     ]
    },
    {
     "name": "stderr",
     "output_type": "stream",
     "text": [
      "\r 54%|███████████████████████████▌                       | 3069113/5681827 [01:33<01:19, 32717.93r/s]"
     ]
    },
    {
     "name": "stderr",
     "output_type": "stream",
     "text": [
      "\r 54%|███████████████████████████▌                       | 3072511/5681827 [01:33<01:19, 32718.97r/s]"
     ]
    },
    {
     "name": "stderr",
     "output_type": "stream",
     "text": [
      "\r 54%|███████████████████████████▌                       | 3075888/5681827 [01:34<01:19, 32719.93r/s]"
     ]
    },
    {
     "name": "stderr",
     "output_type": "stream",
     "text": [
      "\r 54%|███████████████████████████▋                       | 3079293/5681827 [01:34<01:19, 32721.21r/s]"
     ]
    },
    {
     "name": "stderr",
     "output_type": "stream",
     "text": [
      "\r 54%|███████████████████████████▋                       | 3082666/5681827 [01:34<01:19, 32721.30r/s]"
     ]
    },
    {
     "name": "stderr",
     "output_type": "stream",
     "text": [
      "\r 54%|███████████████████████████▋                       | 3086039/5681827 [01:34<01:19, 32722.10r/s]"
     ]
    },
    {
     "name": "stderr",
     "output_type": "stream",
     "text": [
      "\r 54%|███████████████████████████▋                       | 3089429/5681827 [01:34<01:19, 32723.05r/s]"
     ]
    },
    {
     "name": "stderr",
     "output_type": "stream",
     "text": [
      "\r 54%|███████████████████████████▊                       | 3092911/5681827 [01:34<01:19, 32724.96r/s]"
     ]
    },
    {
     "name": "stderr",
     "output_type": "stream",
     "text": [
      "\r 54%|███████████████████████████▊                       | 3096417/5681827 [01:34<01:18, 32727.14r/s]"
     ]
    },
    {
     "name": "stderr",
     "output_type": "stream",
     "text": [
      "\r 55%|███████████████████████████▊                       | 3099855/5681827 [01:34<01:18, 32728.79r/s]"
     ]
    },
    {
     "name": "stderr",
     "output_type": "stream",
     "text": [
      "\r 55%|███████████████████████████▊                       | 3103352/5681827 [01:34<01:18, 32730.85r/s]"
     ]
    },
    {
     "name": "stderr",
     "output_type": "stream",
     "text": [
      "\r 55%|███████████████████████████▉                       | 3106830/5681827 [01:34<01:18, 32732.97r/s]"
     ]
    },
    {
     "name": "stderr",
     "output_type": "stream",
     "text": [
      "\r 55%|███████████████████████████▉                       | 3110274/5681827 [01:35<01:18, 32733.96r/s]"
     ]
    },
    {
     "name": "stderr",
     "output_type": "stream",
     "text": [
      "\r 55%|███████████████████████████▉                       | 3113695/5681827 [01:35<01:18, 32734.54r/s]"
     ]
    },
    {
     "name": "stderr",
     "output_type": "stream",
     "text": [
      "\r 55%|███████████████████████████▉                       | 3117088/5681827 [01:35<01:18, 32735.66r/s]"
     ]
    },
    {
     "name": "stderr",
     "output_type": "stream",
     "text": [
      "\r 55%|████████████████████████████                       | 3120493/5681827 [01:35<01:18, 32736.90r/s]"
     ]
    },
    {
     "name": "stderr",
     "output_type": "stream",
     "text": [
      "\r 55%|████████████████████████████                       | 3123883/5681827 [01:35<01:18, 32737.82r/s]"
     ]
    },
    {
     "name": "stderr",
     "output_type": "stream",
     "text": [
      "\r 55%|████████████████████████████                       | 3127315/5681827 [01:35<01:18, 32739.20r/s]"
     ]
    },
    {
     "name": "stderr",
     "output_type": "stream",
     "text": [
      "\r 55%|████████████████████████████                       | 3130761/5681827 [01:35<01:17, 32740.70r/s]"
     ]
    },
    {
     "name": "stderr",
     "output_type": "stream",
     "text": [
      "\r 55%|████████████████████████████▏                      | 3134158/5681827 [01:35<01:17, 32739.62r/s]"
     ]
    },
    {
     "name": "stderr",
     "output_type": "stream",
     "text": [
      "\r 55%|████████████████████████████▏                      | 3137565/5681827 [01:35<01:17, 32740.73r/s]"
     ]
    },
    {
     "name": "stderr",
     "output_type": "stream",
     "text": [
      "\r 55%|████████████████████████████▏                      | 3140911/5681827 [01:35<01:17, 32738.60r/s]"
     ]
    },
    {
     "name": "stderr",
     "output_type": "stream",
     "text": [
      "\r 55%|████████████████████████████▏                      | 3144393/5681827 [01:36<01:17, 32740.48r/s]"
     ]
    },
    {
     "name": "stderr",
     "output_type": "stream",
     "text": [
      "\r 55%|████████████████████████████▎                      | 3147749/5681827 [01:36<01:17, 32741.21r/s]"
     ]
    },
    {
     "name": "stderr",
     "output_type": "stream",
     "text": [
      "\r 55%|████████████████████████████▎                      | 3151160/5681827 [01:36<01:17, 32742.35r/s]"
     ]
    },
    {
     "name": "stderr",
     "output_type": "stream",
     "text": [
      "\r 56%|████████████████████████████▎                      | 3154506/5681827 [01:36<01:17, 32741.10r/s]"
     ]
    },
    {
     "name": "stderr",
     "output_type": "stream",
     "text": [
      "\r 56%|████████████████████████████▎                      | 3157865/5681827 [01:36<01:17, 32741.67r/s]"
     ]
    },
    {
     "name": "stderr",
     "output_type": "stream",
     "text": [
      "\r 56%|████████████████████████████▎                      | 3161167/5681827 [01:36<01:16, 32741.81r/s]"
     ]
    },
    {
     "name": "stderr",
     "output_type": "stream",
     "text": [
      "\r 56%|████████████████████████████▍                      | 3164525/5681827 [01:36<01:16, 32742.56r/s]"
     ]
    },
    {
     "name": "stderr",
     "output_type": "stream",
     "text": [
      "\r 56%|████████████████████████████▍                      | 3167904/5681827 [01:36<01:16, 32743.50r/s]"
     ]
    },
    {
     "name": "stderr",
     "output_type": "stream",
     "text": [
      "\r 56%|████████████████████████████▍                      | 3171369/5681827 [01:36<01:16, 32745.45r/s]"
     ]
    },
    {
     "name": "stderr",
     "output_type": "stream",
     "text": [
      "\r 56%|████████████████████████████▍                      | 3174738/5681827 [01:36<01:16, 32746.07r/s]"
     ]
    },
    {
     "name": "stderr",
     "output_type": "stream",
     "text": [
      "\r 56%|████████████████████████████▌                      | 3178097/5681827 [01:37<01:16, 32745.79r/s]"
     ]
    },
    {
     "name": "stderr",
     "output_type": "stream",
     "text": [
      "\r 56%|████████████████████████████▌                      | 3181532/5681827 [01:37<01:16, 32747.42r/s]"
     ]
    },
    {
     "name": "stderr",
     "output_type": "stream",
     "text": [
      "\r 56%|████████████████████████████▌                      | 3184906/5681827 [01:37<01:16, 32748.43r/s]"
     ]
    },
    {
     "name": "stderr",
     "output_type": "stream",
     "text": [
      "\r 56%|████████████████████████████▌                      | 3188319/5681827 [01:37<01:16, 32749.71r/s]"
     ]
    },
    {
     "name": "stderr",
     "output_type": "stream",
     "text": [
      "\r 56%|████████████████████████████▋                      | 3191693/5681827 [01:37<01:16, 32748.57r/s]"
     ]
    },
    {
     "name": "stderr",
     "output_type": "stream",
     "text": [
      "\r 56%|████████████████████████████▋                      | 3195006/5681827 [01:37<01:15, 32748.34r/s]"
     ]
    },
    {
     "name": "stderr",
     "output_type": "stream",
     "text": [
      "\r 56%|████████████████████████████▋                      | 3198325/5681827 [01:37<01:15, 32748.77r/s]"
     ]
    },
    {
     "name": "stderr",
     "output_type": "stream",
     "text": [
      "\r 56%|████████████████████████████▋                      | 3201627/5681827 [01:37<01:15, 32748.79r/s]"
     ]
    },
    {
     "name": "stderr",
     "output_type": "stream",
     "text": [
      "\r 56%|████████████████████████████▊                      | 3204921/5681827 [01:37<01:15, 32747.68r/s]"
     ]
    },
    {
     "name": "stderr",
     "output_type": "stream",
     "text": [
      "\r 56%|████████████████████████████▊                      | 3208341/5681827 [01:37<01:15, 32748.89r/s]"
     ]
    },
    {
     "name": "stderr",
     "output_type": "stream",
     "text": [
      "\r 57%|████████████████████████████▊                      | 3211725/5681827 [01:38<01:15, 32749.69r/s]"
     ]
    },
    {
     "name": "stderr",
     "output_type": "stream",
     "text": [
      "\r 57%|████████████████████████████▊                      | 3215040/5681827 [01:38<01:15, 32749.85r/s]"
     ]
    },
    {
     "name": "stderr",
     "output_type": "stream",
     "text": [
      "\r 57%|████████████████████████████▉                      | 3218480/5681827 [01:38<01:15, 32751.21r/s]"
     ]
    },
    {
     "name": "stderr",
     "output_type": "stream",
     "text": [
      "\r 57%|████████████████████████████▉                      | 3221818/5681827 [01:38<01:15, 32751.77r/s]"
     ]
    },
    {
     "name": "stderr",
     "output_type": "stream",
     "text": [
      "\r 57%|████████████████████████████▉                      | 3225153/5681827 [01:38<01:15, 32751.60r/s]"
     ]
    },
    {
     "name": "stderr",
     "output_type": "stream",
     "text": [
      "\r 57%|████████████████████████████▉                      | 3228475/5681827 [01:38<01:14, 32751.78r/s]"
     ]
    },
    {
     "name": "stderr",
     "output_type": "stream",
     "text": [
      "\r 57%|█████████████████████████████                      | 3231822/5681827 [01:38<01:14, 32752.23r/s]"
     ]
    },
    {
     "name": "stderr",
     "output_type": "stream",
     "text": [
      "\r 57%|█████████████████████████████                      | 3235213/5681827 [01:38<01:14, 32753.11r/s]"
     ]
    },
    {
     "name": "stderr",
     "output_type": "stream",
     "text": [
      "\r 57%|█████████████████████████████                      | 3238632/5681827 [01:38<01:14, 32754.29r/s]"
     ]
    },
    {
     "name": "stderr",
     "output_type": "stream",
     "text": [
      "\r 57%|█████████████████████████████                      | 3242106/5681827 [01:38<01:14, 32756.01r/s]"
     ]
    },
    {
     "name": "stderr",
     "output_type": "stream",
     "text": [
      "\r 57%|█████████████████████████████▏                     | 3245481/5681827 [01:39<01:14, 32754.93r/s]"
     ]
    },
    {
     "name": "stderr",
     "output_type": "stream",
     "text": [
      "\r 57%|█████████████████████████████▏                     | 3248997/5681827 [01:39<01:14, 32757.25r/s]"
     ]
    },
    {
     "name": "stderr",
     "output_type": "stream",
     "text": [
      "\r 57%|█████████████████████████████▏                     | 3252400/5681827 [01:39<01:14, 32758.43r/s]"
     ]
    },
    {
     "name": "stderr",
     "output_type": "stream",
     "text": [
      "\r 57%|█████████████████████████████▏                     | 3255778/5681827 [01:39<01:14, 32759.17r/s]"
     ]
    },
    {
     "name": "stderr",
     "output_type": "stream",
     "text": [
      "\r 57%|█████████████████████████████▎                     | 3259148/5681827 [01:39<01:13, 32759.67r/s]"
     ]
    },
    {
     "name": "stderr",
     "output_type": "stream",
     "text": [
      "\r 57%|█████████████████████████████▎                     | 3262514/5681827 [01:39<01:13, 32760.45r/s]"
     ]
    },
    {
     "name": "stderr",
     "output_type": "stream",
     "text": [
      "\r 57%|█████████████████████████████▎                     | 3265867/5681827 [01:39<01:13, 32760.41r/s]"
     ]
    },
    {
     "name": "stderr",
     "output_type": "stream",
     "text": [
      "\r 58%|█████████████████████████████▎                     | 3269196/5681827 [01:39<01:13, 32760.84r/s]"
     ]
    },
    {
     "name": "stderr",
     "output_type": "stream",
     "text": [
      "\r 58%|█████████████████████████████▎                     | 3272599/5681827 [01:39<01:13, 32762.02r/s]"
     ]
    },
    {
     "name": "stderr",
     "output_type": "stream",
     "text": [
      "\r 58%|█████████████████████████████▍                     | 3276052/5681827 [01:39<01:13, 32763.50r/s]"
     ]
    },
    {
     "name": "stderr",
     "output_type": "stream",
     "text": [
      "\r 58%|█████████████████████████████▍                     | 3279514/5681827 [01:40<01:13, 32765.09r/s]"
     ]
    },
    {
     "name": "stderr",
     "output_type": "stream",
     "text": [
      "\r 58%|█████████████████████████████▍                     | 3282979/5681827 [01:40<01:13, 32766.82r/s]"
     ]
    },
    {
     "name": "stderr",
     "output_type": "stream",
     "text": [
      "\r 58%|█████████████████████████████▍                     | 3286386/5681827 [01:40<01:13, 32766.37r/s]"
     ]
    },
    {
     "name": "stderr",
     "output_type": "stream",
     "text": [
      "\r 58%|█████████████████████████████▌                     | 3289741/5681827 [01:40<01:13, 32766.38r/s]"
     ]
    },
    {
     "name": "stderr",
     "output_type": "stream",
     "text": [
      "\r 58%|█████████████████████████████▌                     | 3293073/5681827 [01:40<01:12, 32764.55r/s]"
     ]
    },
    {
     "name": "stderr",
     "output_type": "stream",
     "text": [
      "\r 58%|█████████████████████████████▌                     | 3296427/5681827 [01:40<01:12, 32765.20r/s]"
     ]
    },
    {
     "name": "stderr",
     "output_type": "stream",
     "text": [
      "\r 58%|█████████████████████████████▌                     | 3299849/5681827 [01:40<01:12, 32766.51r/s]"
     ]
    },
    {
     "name": "stderr",
     "output_type": "stream",
     "text": [
      "\r 58%|█████████████████████████████▋                     | 3303256/5681827 [01:40<01:12, 32767.67r/s]"
     ]
    },
    {
     "name": "stderr",
     "output_type": "stream",
     "text": [
      "\r 58%|█████████████████████████████▋                     | 3306601/5681827 [01:40<01:12, 32767.75r/s]"
     ]
    },
    {
     "name": "stderr",
     "output_type": "stream",
     "text": [
      "\r 58%|█████████████████████████████▋                     | 3310011/5681827 [01:41<01:12, 32768.80r/s]"
     ]
    },
    {
     "name": "stderr",
     "output_type": "stream",
     "text": [
      "\r 58%|█████████████████████████████▋                     | 3313454/5681827 [01:41<01:12, 32770.16r/s]"
     ]
    },
    {
     "name": "stderr",
     "output_type": "stream",
     "text": [
      "\r 58%|█████████████████████████████▊                     | 3316906/5681827 [01:41<01:12, 32771.82r/s]"
     ]
    },
    {
     "name": "stderr",
     "output_type": "stream",
     "text": [
      "\r 58%|█████████████████████████████▊                     | 3320295/5681827 [01:41<01:12, 32772.82r/s]"
     ]
    },
    {
     "name": "stderr",
     "output_type": "stream",
     "text": [
      "\r 58%|█████████████████████████████▊                     | 3323689/5681827 [01:41<01:11, 32773.69r/s]"
     ]
    },
    {
     "name": "stderr",
     "output_type": "stream",
     "text": [
      "\r 59%|█████████████████████████████▊                     | 3327078/5681827 [01:41<01:11, 32774.65r/s]"
     ]
    },
    {
     "name": "stderr",
     "output_type": "stream",
     "text": [
      "\r 59%|█████████████████████████████▉                     | 3330456/5681827 [01:41<01:11, 32773.60r/s]"
     ]
    },
    {
     "name": "stderr",
     "output_type": "stream",
     "text": [
      "\r 59%|█████████████████████████████▉                     | 3333902/5681827 [01:41<01:11, 32775.15r/s]"
     ]
    },
    {
     "name": "stderr",
     "output_type": "stream",
     "text": [
      "\r 59%|█████████████████████████████▉                     | 3337361/5681827 [01:41<01:11, 32776.65r/s]"
     ]
    },
    {
     "name": "stderr",
     "output_type": "stream",
     "text": [
      "\r 59%|█████████████████████████████▉                     | 3340737/5681827 [01:41<01:11, 32776.37r/s]"
     ]
    },
    {
     "name": "stderr",
     "output_type": "stream",
     "text": [
      "\r 59%|██████████████████████████████                     | 3344075/5681827 [01:42<01:11, 32776.18r/s]"
     ]
    },
    {
     "name": "stderr",
     "output_type": "stream",
     "text": [
      "\r 59%|██████████████████████████████                     | 3347390/5681827 [01:42<01:11, 32776.52r/s]"
     ]
    },
    {
     "name": "stderr",
     "output_type": "stream",
     "text": [
      "\r 59%|██████████████████████████████                     | 3350832/5681827 [01:42<01:11, 32778.09r/s]"
     ]
    },
    {
     "name": "stderr",
     "output_type": "stream",
     "text": [
      "\r 59%|██████████████████████████████                     | 3354183/5681827 [01:42<01:11, 32777.82r/s]"
     ]
    },
    {
     "name": "stderr",
     "output_type": "stream",
     "text": [
      "\r 59%|██████████████████████████████▏                    | 3357504/5681827 [01:42<01:10, 32777.57r/s]"
     ]
    },
    {
     "name": "stderr",
     "output_type": "stream",
     "text": [
      "\r 59%|██████████████████████████████▏                    | 3360810/5681827 [01:42<01:10, 32777.81r/s]"
     ]
    },
    {
     "name": "stderr",
     "output_type": "stream",
     "text": [
      "\r 59%|██████████████████████████████▏                    | 3364145/5681827 [01:42<01:10, 32778.05r/s]"
     ]
    },
    {
     "name": "stderr",
     "output_type": "stream",
     "text": [
      "\r 59%|██████████████████████████████▏                    | 3367477/5681827 [01:42<01:10, 32778.50r/s]"
     ]
    },
    {
     "name": "stderr",
     "output_type": "stream",
     "text": [
      "\r 59%|██████████████████████████████▎                    | 3370847/5681827 [01:42<01:10, 32779.37r/s]"
     ]
    },
    {
     "name": "stderr",
     "output_type": "stream",
     "text": [
      "\r 59%|██████████████████████████████▎                    | 3374195/5681827 [01:42<01:10, 32779.76r/s]"
     ]
    },
    {
     "name": "stderr",
     "output_type": "stream",
     "text": [
      "\r 59%|██████████████████████████████▎                    | 3377599/5681827 [01:43<01:10, 32780.88r/s]"
     ]
    },
    {
     "name": "stderr",
     "output_type": "stream",
     "text": [
      "\r 60%|██████████████████████████████▎                    | 3380944/5681827 [01:43<01:10, 32780.29r/s]"
     ]
    },
    {
     "name": "stderr",
     "output_type": "stream",
     "text": [
      "\r 60%|██████████████████████████████▍                    | 3384365/5681827 [01:43<01:10, 32781.54r/s]"
     ]
    },
    {
     "name": "stderr",
     "output_type": "stream",
     "text": [
      "\r 60%|██████████████████████████████▍                    | 3387702/5681827 [01:43<01:09, 32781.06r/s]"
     ]
    },
    {
     "name": "stderr",
     "output_type": "stream",
     "text": [
      "\r 60%|██████████████████████████████▍                    | 3391171/5681827 [01:43<01:09, 32782.66r/s]"
     ]
    },
    {
     "name": "stderr",
     "output_type": "stream",
     "text": [
      "\r 60%|██████████████████████████████▍                    | 3394593/5681827 [01:43<01:09, 32783.92r/s]"
     ]
    },
    {
     "name": "stderr",
     "output_type": "stream",
     "text": [
      "\r 60%|██████████████████████████████▌                    | 3397958/5681827 [01:43<01:09, 32783.86r/s]"
     ]
    },
    {
     "name": "stderr",
     "output_type": "stream",
     "text": [
      "\r 60%|██████████████████████████████▌                    | 3401402/5681827 [01:43<01:09, 32785.19r/s]"
     ]
    },
    {
     "name": "stderr",
     "output_type": "stream",
     "text": [
      "\r 60%|██████████████████████████████▌                    | 3404837/5681827 [01:43<01:09, 32786.57r/s]"
     ]
    },
    {
     "name": "stderr",
     "output_type": "stream",
     "text": [
      "\r 60%|██████████████████████████████▌                    | 3408216/5681827 [01:43<01:09, 32786.80r/s]"
     ]
    },
    {
     "name": "stderr",
     "output_type": "stream",
     "text": [
      "\r 60%|██████████████████████████████▌                    | 3411572/5681827 [01:44<01:09, 32787.43r/s]"
     ]
    },
    {
     "name": "stderr",
     "output_type": "stream",
     "text": [
      "\r 60%|██████████████████████████████▋                    | 3414934/5681827 [01:44<01:09, 32788.14r/s]"
     ]
    },
    {
     "name": "stderr",
     "output_type": "stream",
     "text": [
      "\r 60%|██████████████████████████████▋                    | 3418287/5681827 [01:44<01:09, 32788.28r/s]"
     ]
    },
    {
     "name": "stderr",
     "output_type": "stream",
     "text": [
      "\r 60%|██████████████████████████████▋                    | 3421622/5681827 [01:44<01:08, 32788.54r/s]"
     ]
    },
    {
     "name": "stderr",
     "output_type": "stream",
     "text": [
      "\r 60%|██████████████████████████████▋                    | 3424949/5681827 [01:44<01:08, 32786.69r/s]"
     ]
    },
    {
     "name": "stderr",
     "output_type": "stream",
     "text": [
      "\r 60%|██████████████████████████████▊                    | 3428336/5681827 [01:44<01:08, 32787.64r/s]"
     ]
    },
    {
     "name": "stderr",
     "output_type": "stream",
     "text": [
      "\r 60%|██████████████████████████████▊                    | 3431790/5681827 [01:44<01:08, 32789.28r/s]"
     ]
    },
    {
     "name": "stderr",
     "output_type": "stream",
     "text": [
      "\r 60%|██████████████████████████████▊                    | 3435141/5681827 [01:44<01:08, 32789.92r/s]"
     ]
    },
    {
     "name": "stderr",
     "output_type": "stream",
     "text": [
      "\r 61%|██████████████████████████████▊                    | 3438484/5681827 [01:44<01:08, 32790.51r/s]"
     ]
    },
    {
     "name": "stderr",
     "output_type": "stream",
     "text": [
      "\r 61%|██████████████████████████████▉                    | 3441826/5681827 [01:44<01:08, 32789.92r/s]"
     ]
    },
    {
     "name": "stderr",
     "output_type": "stream",
     "text": [
      "\r 61%|██████████████████████████████▉                    | 3445131/5681827 [01:45<01:08, 32789.89r/s]"
     ]
    },
    {
     "name": "stderr",
     "output_type": "stream",
     "text": [
      "\r 61%|██████████████████████████████▉                    | 3448457/5681827 [01:45<01:08, 32790.08r/s]"
     ]
    },
    {
     "name": "stderr",
     "output_type": "stream",
     "text": [
      "\r 61%|██████████████████████████████▉                    | 3451824/5681827 [01:45<01:08, 32790.63r/s]"
     ]
    },
    {
     "name": "stderr",
     "output_type": "stream",
     "text": [
      "\r 61%|███████████████████████████████                    | 3455192/5681827 [01:45<01:07, 32791.21r/s]"
     ]
    },
    {
     "name": "stderr",
     "output_type": "stream",
     "text": [
      "\r 61%|███████████████████████████████                    | 3458552/5681827 [01:45<01:07, 32791.71r/s]"
     ]
    },
    {
     "name": "stderr",
     "output_type": "stream",
     "text": [
      "\r 61%|███████████████████████████████                    | 3461874/5681827 [01:45<01:07, 32792.04r/s]"
     ]
    },
    {
     "name": "stderr",
     "output_type": "stream",
     "text": [
      "\r 61%|███████████████████████████████                    | 3465280/5681827 [01:45<01:07, 32793.13r/s]"
     ]
    },
    {
     "name": "stderr",
     "output_type": "stream",
     "text": [
      "\r 61%|███████████████████████████████▏                   | 3468681/5681827 [01:45<01:07, 32794.20r/s]"
     ]
    },
    {
     "name": "stderr",
     "output_type": "stream",
     "text": [
      "\r 61%|███████████████████████████████▏                   | 3472128/5681827 [01:45<01:07, 32795.67r/s]"
     ]
    },
    {
     "name": "stderr",
     "output_type": "stream",
     "text": [
      "\r 61%|███████████████████████████████▏                   | 3475509/5681827 [01:45<01:07, 32796.50r/s]"
     ]
    },
    {
     "name": "stderr",
     "output_type": "stream",
     "text": [
      "\r 61%|███████████████████████████████▏                   | 3478886/5681827 [01:46<01:07, 32796.37r/s]"
     ]
    },
    {
     "name": "stderr",
     "output_type": "stream",
     "text": [
      "\r 61%|███████████████████████████████▎                   | 3482230/5681827 [01:46<01:07, 32796.60r/s]"
     ]
    },
    {
     "name": "stderr",
     "output_type": "stream",
     "text": [
      "\r 61%|███████████████████████████████▎                   | 3485653/5681827 [01:46<01:06, 32797.68r/s]"
     ]
    },
    {
     "name": "stderr",
     "output_type": "stream",
     "text": [
      "\r 61%|███████████████████████████████▎                   | 3489003/5681827 [01:46<01:06, 32797.45r/s]"
     ]
    },
    {
     "name": "stderr",
     "output_type": "stream",
     "text": [
      "\r 61%|███████████████████████████████▎                   | 3492341/5681827 [01:46<01:06, 32797.71r/s]"
     ]
    },
    {
     "name": "stderr",
     "output_type": "stream",
     "text": [
      "\r 62%|███████████████████████████████▍                   | 3495709/5681827 [01:46<01:06, 32798.29r/s]"
     ]
    },
    {
     "name": "stderr",
     "output_type": "stream",
     "text": [
      "\r 62%|███████████████████████████████▍                   | 3499131/5681827 [01:46<01:06, 32799.53r/s]"
     ]
    },
    {
     "name": "stderr",
     "output_type": "stream",
     "text": [
      "\r 62%|███████████████████████████████▍                   | 3502550/5681827 [01:46<01:06, 32800.73r/s]"
     ]
    },
    {
     "name": "stderr",
     "output_type": "stream",
     "text": [
      "\r 62%|███████████████████████████████▍                   | 3505918/5681827 [01:46<01:06, 32799.47r/s]"
     ]
    },
    {
     "name": "stderr",
     "output_type": "stream",
     "text": [
      "\r 62%|███████████████████████████████▍                   | 3509298/5681827 [01:46<01:06, 32800.16r/s]"
     ]
    },
    {
     "name": "stderr",
     "output_type": "stream",
     "text": [
      "\r 62%|███████████████████████████████▌                   | 3512711/5681827 [01:47<01:06, 32801.12r/s]"
     ]
    },
    {
     "name": "stderr",
     "output_type": "stream",
     "text": [
      "\r 62%|███████████████████████████████▌                   | 3516049/5681827 [01:47<01:06, 32801.55r/s]"
     ]
    },
    {
     "name": "stderr",
     "output_type": "stream",
     "text": [
      "\r 62%|███████████████████████████████▌                   | 3519396/5681827 [01:47<01:05, 32802.06r/s]"
     ]
    },
    {
     "name": "stderr",
     "output_type": "stream",
     "text": [
      "\r 62%|███████████████████████████████▌                   | 3522731/5681827 [01:47<01:05, 32802.18r/s]"
     ]
    },
    {
     "name": "stderr",
     "output_type": "stream",
     "text": [
      "\r 62%|███████████████████████████████▋                   | 3526063/5681827 [01:47<01:05, 32802.29r/s]"
     ]
    },
    {
     "name": "stderr",
     "output_type": "stream",
     "text": [
      "\r 62%|███████████████████████████████▋                   | 3529373/5681827 [01:47<01:05, 32802.16r/s]"
     ]
    },
    {
     "name": "stderr",
     "output_type": "stream",
     "text": [
      "\r 62%|███████████████████████████████▋                   | 3532671/5681827 [01:47<01:05, 32798.09r/s]"
     ]
    },
    {
     "name": "stderr",
     "output_type": "stream",
     "text": [
      "\r 62%|███████████████████████████████▋                   | 3536070/5681827 [01:47<01:05, 32798.93r/s]"
     ]
    },
    {
     "name": "stderr",
     "output_type": "stream",
     "text": [
      "\r 62%|███████████████████████████████▊                   | 3539499/5681827 [01:47<01:05, 32800.05r/s]"
     ]
    },
    {
     "name": "stderr",
     "output_type": "stream",
     "text": [
      "\r 62%|███████████████████████████████▊                   | 3542798/5681827 [01:48<01:05, 32799.98r/s]"
     ]
    },
    {
     "name": "stderr",
     "output_type": "stream",
     "text": [
      "\r 62%|███████████████████████████████▊                   | 3546231/5681827 [01:48<01:05, 32801.11r/s]"
     ]
    },
    {
     "name": "stderr",
     "output_type": "stream",
     "text": [
      "\r 62%|███████████████████████████████▊                   | 3549632/5681827 [01:48<01:05, 32801.97r/s]"
     ]
    },
    {
     "name": "stderr",
     "output_type": "stream",
     "text": [
      "\r 63%|███████████████████████████████▉                   | 3553004/5681827 [01:48<01:04, 32802.58r/s]"
     ]
    },
    {
     "name": "stderr",
     "output_type": "stream",
     "text": [
      "\r 63%|███████████████████████████████▉                   | 3556428/5681827 [01:48<01:04, 32803.63r/s]"
     ]
    },
    {
     "name": "stderr",
     "output_type": "stream",
     "text": [
      "\r 63%|███████████████████████████████▉                   | 3559859/5681827 [01:48<01:04, 32804.87r/s]"
     ]
    },
    {
     "name": "stderr",
     "output_type": "stream",
     "text": [
      "\r 63%|███████████████████████████████▉                   | 3563344/5681827 [01:48<01:04, 32806.67r/s]"
     ]
    },
    {
     "name": "stderr",
     "output_type": "stream",
     "text": [
      "\r 63%|████████████████████████████████                   | 3566756/5681827 [01:48<01:04, 32807.62r/s]"
     ]
    },
    {
     "name": "stderr",
     "output_type": "stream",
     "text": [
      "\r 63%|████████████████████████████████                   | 3570153/5681827 [01:48<01:04, 32808.43r/s]"
     ]
    },
    {
     "name": "stderr",
     "output_type": "stream",
     "text": [
      "\r 63%|████████████████████████████████                   | 3573542/5681827 [01:48<01:04, 32809.16r/s]"
     ]
    },
    {
     "name": "stderr",
     "output_type": "stream",
     "text": [
      "\r 63%|████████████████████████████████                   | 3576938/5681827 [01:49<01:04, 32809.98r/s]"
     ]
    },
    {
     "name": "stderr",
     "output_type": "stream",
     "text": [
      "\r 63%|████████████████████████████████▏                  | 3580315/5681827 [01:49<01:04, 32810.60r/s]"
     ]
    },
    {
     "name": "stderr",
     "output_type": "stream",
     "text": [
      "\r 63%|████████████████████████████████▏                  | 3583785/5681827 [01:49<01:03, 32812.22r/s]"
     ]
    },
    {
     "name": "stderr",
     "output_type": "stream",
     "text": [
      "\r 63%|████████████████████████████████▏                  | 3587180/5681827 [01:49<01:03, 32813.01r/s]"
     ]
    },
    {
     "name": "stderr",
     "output_type": "stream",
     "text": [
      "\r 63%|████████████████████████████████▏                  | 3590567/5681827 [01:49<01:03, 32812.81r/s]"
     ]
    },
    {
     "name": "stderr",
     "output_type": "stream",
     "text": [
      "\r 63%|████████████████████████████████▎                  | 3593926/5681827 [01:49<01:03, 32813.26r/s]"
     ]
    },
    {
     "name": "stderr",
     "output_type": "stream",
     "text": [
      "\r 63%|████████████████████████████████▎                  | 3597352/5681827 [01:49<01:03, 32814.32r/s]"
     ]
    },
    {
     "name": "stderr",
     "output_type": "stream",
     "text": [
      "\r 63%|████████████████████████████████▎                  | 3600813/5681827 [01:49<01:03, 32815.70r/s]"
     ]
    },
    {
     "name": "stderr",
     "output_type": "stream",
     "text": [
      "\r 63%|████████████████████████████████▎                  | 3604194/5681827 [01:49<01:03, 32815.14r/s]"
     ]
    },
    {
     "name": "stderr",
     "output_type": "stream",
     "text": [
      "\r 63%|████████████████████████████████▍                  | 3607611/5681827 [01:49<01:03, 32816.12r/s]"
     ]
    },
    {
     "name": "stderr",
     "output_type": "stream",
     "text": [
      "\r 64%|████████████████████████████████▍                  | 3611044/5681827 [01:50<01:03, 32817.42r/s]"
     ]
    },
    {
     "name": "stderr",
     "output_type": "stream",
     "text": [
      "\r 64%|████████████████████████████████▍                  | 3614417/5681827 [01:50<01:02, 32816.49r/s]"
     ]
    },
    {
     "name": "stderr",
     "output_type": "stream",
     "text": [
      "\r 64%|████████████████████████████████▍                  | 3617836/5681827 [01:50<01:02, 32817.65r/s]"
     ]
    },
    {
     "name": "stderr",
     "output_type": "stream",
     "text": [
      "\r 64%|████████████████████████████████▌                  | 3621230/5681827 [01:50<01:02, 32818.41r/s]"
     ]
    },
    {
     "name": "stderr",
     "output_type": "stream",
     "text": [
      "\r 64%|████████████████████████████████▌                  | 3624621/5681827 [01:50<01:02, 32819.14r/s]"
     ]
    },
    {
     "name": "stderr",
     "output_type": "stream",
     "text": [
      "\r 64%|████████████████████████████████▌                  | 3628071/5681827 [01:50<01:02, 32820.39r/s]"
     ]
    },
    {
     "name": "stderr",
     "output_type": "stream",
     "text": [
      "\r 64%|████████████████████████████████▌                  | 3631454/5681827 [01:50<01:02, 32821.04r/s]"
     ]
    },
    {
     "name": "stderr",
     "output_type": "stream",
     "text": [
      "\r 64%|████████████████████████████████▋                  | 3634885/5681827 [01:50<01:02, 32822.14r/s]"
     ]
    },
    {
     "name": "stderr",
     "output_type": "stream",
     "text": [
      "\r 64%|████████████████████████████████▋                  | 3638329/5681827 [01:50<01:02, 32823.34r/s]"
     ]
    },
    {
     "name": "stderr",
     "output_type": "stream",
     "text": [
      "\r 64%|████████████████████████████████▋                  | 3641776/5681827 [01:50<01:02, 32824.57r/s]"
     ]
    },
    {
     "name": "stderr",
     "output_type": "stream",
     "text": [
      "\r 64%|████████████████████████████████▋                  | 3645174/5681827 [01:51<01:02, 32824.33r/s]"
     ]
    },
    {
     "name": "stderr",
     "output_type": "stream",
     "text": [
      "\r 64%|████████████████████████████████▋                  | 3648530/5681827 [01:51<01:01, 32824.58r/s]"
     ]
    },
    {
     "name": "stderr",
     "output_type": "stream",
     "text": [
      "\r 64%|████████████████████████████████▊                  | 3651934/5681827 [01:51<01:01, 32825.54r/s]"
     ]
    },
    {
     "name": "stderr",
     "output_type": "stream",
     "text": [
      "\r 64%|████████████████████████████████▊                  | 3655320/5681827 [01:51<01:01, 32826.40r/s]"
     ]
    },
    {
     "name": "stderr",
     "output_type": "stream",
     "text": [
      "\r 64%|████████████████████████████████▊                  | 3658752/5681827 [01:51<01:01, 32827.62r/s]"
     ]
    },
    {
     "name": "stderr",
     "output_type": "stream",
     "text": [
      "\r 64%|████████████████████████████████▊                  | 3662132/5681827 [01:51<01:01, 32827.49r/s]"
     ]
    },
    {
     "name": "stderr",
     "output_type": "stream",
     "text": [
      "\r 65%|████████████████████████████████▉                  | 3665533/5681827 [01:51<01:01, 32828.44r/s]"
     ]
    },
    {
     "name": "stderr",
     "output_type": "stream",
     "text": [
      "\r 65%|████████████████████████████████▉                  | 3668921/5681827 [01:51<01:01, 32829.34r/s]"
     ]
    },
    {
     "name": "stderr",
     "output_type": "stream",
     "text": [
      "\r 65%|████████████████████████████████▉                  | 3672345/5681827 [01:51<01:01, 32830.48r/s]"
     ]
    },
    {
     "name": "stderr",
     "output_type": "stream",
     "text": [
      "\r 65%|████████████████████████████████▉                  | 3675797/5681827 [01:51<01:01, 32831.88r/s]"
     ]
    },
    {
     "name": "stderr",
     "output_type": "stream",
     "text": [
      "\r 65%|█████████████████████████████████                  | 3679232/5681827 [01:52<01:00, 32833.13r/s]"
     ]
    },
    {
     "name": "stderr",
     "output_type": "stream",
     "text": [
      "\r 65%|█████████████████████████████████                  | 3682662/5681827 [01:52<01:00, 32834.35r/s]"
     ]
    },
    {
     "name": "stderr",
     "output_type": "stream",
     "text": [
      "\r 65%|█████████████████████████████████                  | 3686072/5681827 [01:52<01:00, 32835.22r/s]"
     ]
    },
    {
     "name": "stderr",
     "output_type": "stream",
     "text": [
      "\r 65%|█████████████████████████████████                  | 3689473/5681827 [01:52<01:00, 32835.85r/s]"
     ]
    },
    {
     "name": "stderr",
     "output_type": "stream",
     "text": [
      "\r 65%|█████████████████████████████████▏                 | 3692860/5681827 [01:52<01:00, 32835.92r/s]"
     ]
    },
    {
     "name": "stderr",
     "output_type": "stream",
     "text": [
      "\r 65%|█████████████████████████████████▏                 | 3696218/5681827 [01:52<01:00, 32835.75r/s]"
     ]
    },
    {
     "name": "stderr",
     "output_type": "stream",
     "text": [
      "\r 65%|█████████████████████████████████▏                 | 3699548/5681827 [01:52<01:00, 32835.90r/s]"
     ]
    },
    {
     "name": "stderr",
     "output_type": "stream",
     "text": [
      "\r 65%|█████████████████████████████████▏                 | 3702870/5681827 [01:52<01:00, 32836.18r/s]"
     ]
    },
    {
     "name": "stderr",
     "output_type": "stream",
     "text": [
      "\r 65%|█████████████████████████████████▎                 | 3706225/5681827 [01:52<01:00, 32836.56r/s]"
     ]
    },
    {
     "name": "stderr",
     "output_type": "stream",
     "text": [
      "\r 65%|█████████████████████████████████▎                 | 3709592/5681827 [01:52<01:00, 32837.20r/s]"
     ]
    },
    {
     "name": "stderr",
     "output_type": "stream",
     "text": [
      "\r 65%|█████████████████████████████████▎                 | 3713066/5681827 [01:53<00:59, 32838.66r/s]"
     ]
    },
    {
     "name": "stderr",
     "output_type": "stream",
     "text": [
      "\r 65%|█████████████████████████████████▎                 | 3716516/5681827 [01:53<00:59, 32839.87r/s]"
     ]
    },
    {
     "name": "stderr",
     "output_type": "stream",
     "text": [
      "\r 65%|█████████████████████████████████▍                 | 3719995/5681827 [01:53<00:59, 32841.35r/s]"
     ]
    },
    {
     "name": "stderr",
     "output_type": "stream",
     "text": [
      "\r 66%|█████████████████████████████████▍                 | 3723398/5681827 [01:53<00:59, 32839.43r/s]"
     ]
    },
    {
     "name": "stderr",
     "output_type": "stream",
     "text": [
      "\r 66%|█████████████████████████████████▍                 | 3726769/5681827 [01:53<00:59, 32839.94r/s]"
     ]
    },
    {
     "name": "stderr",
     "output_type": "stream",
     "text": [
      "\r 66%|█████████████████████████████████▍                 | 3730173/5681827 [01:53<00:59, 32840.74r/s]"
     ]
    },
    {
     "name": "stderr",
     "output_type": "stream",
     "text": [
      "\r 66%|█████████████████████████████████▌                 | 3733603/5681827 [01:53<00:59, 32841.77r/s]"
     ]
    },
    {
     "name": "stderr",
     "output_type": "stream",
     "text": [
      "\r 66%|█████████████████████████████████▌                 | 3736958/5681827 [01:53<00:59, 32842.34r/s]"
     ]
    },
    {
     "name": "stderr",
     "output_type": "stream",
     "text": [
      "\r 66%|█████████████████████████████████▌                 | 3740311/5681827 [01:53<00:59, 32842.88r/s]"
     ]
    },
    {
     "name": "stderr",
     "output_type": "stream",
     "text": [
      "\r 66%|█████████████████████████████████▌                 | 3743795/5681827 [01:53<00:59, 32844.55r/s]"
     ]
    },
    {
     "name": "stderr",
     "output_type": "stream",
     "text": [
      "\r 66%|█████████████████████████████████▋                 | 3747230/5681827 [01:54<00:58, 32845.79r/s]"
     ]
    },
    {
     "name": "stderr",
     "output_type": "stream",
     "text": [
      "\r 66%|█████████████████████████████████▋                 | 3750709/5681827 [01:54<00:58, 32847.36r/s]"
     ]
    },
    {
     "name": "stderr",
     "output_type": "stream",
     "text": [
      "\r 66%|█████████████████████████████████▋                 | 3754128/5681827 [01:54<00:58, 32847.87r/s]"
     ]
    },
    {
     "name": "stderr",
     "output_type": "stream",
     "text": [
      "\r 66%|█████████████████████████████████▋                 | 3757524/5681827 [01:54<00:58, 32848.30r/s]"
     ]
    },
    {
     "name": "stderr",
     "output_type": "stream",
     "text": [
      "\r 66%|█████████████████████████████████▊                 | 3760901/5681827 [01:54<00:58, 32848.30r/s]"
     ]
    },
    {
     "name": "stderr",
     "output_type": "stream",
     "text": [
      "\r 66%|█████████████████████████████████▊                 | 3764332/5681827 [01:54<00:58, 32849.35r/s]"
     ]
    },
    {
     "name": "stderr",
     "output_type": "stream",
     "text": [
      "\r 66%|█████████████████████████████████▊                 | 3767698/5681827 [01:54<00:58, 32849.67r/s]"
     ]
    },
    {
     "name": "stderr",
     "output_type": "stream",
     "text": [
      "\r 66%|█████████████████████████████████▊                 | 3771140/5681827 [01:54<00:58, 32850.79r/s]"
     ]
    },
    {
     "name": "stderr",
     "output_type": "stream",
     "text": [
      "\r 66%|█████████████████████████████████▉                 | 3774533/5681827 [01:54<00:58, 32851.48r/s]"
     ]
    },
    {
     "name": "stderr",
     "output_type": "stream",
     "text": [
      "\r 66%|█████████████████████████████████▉                 | 3777902/5681827 [01:54<00:57, 32852.00r/s]"
     ]
    },
    {
     "name": "stderr",
     "output_type": "stream",
     "text": [
      "\r 67%|█████████████████████████████████▉                 | 3781264/5681827 [01:55<00:57, 32852.56r/s]"
     ]
    },
    {
     "name": "stderr",
     "output_type": "stream",
     "text": [
      "\r 67%|█████████████████████████████████▉                 | 3784622/5681827 [01:55<00:57, 32852.94r/s]"
     ]
    },
    {
     "name": "stderr",
     "output_type": "stream",
     "text": [
      "\r 67%|██████████████████████████████████                 | 3788004/5681827 [01:55<00:57, 32853.72r/s]"
     ]
    },
    {
     "name": "stderr",
     "output_type": "stream",
     "text": [
      "\r 67%|██████████████████████████████████                 | 3791361/5681827 [01:55<00:57, 32852.37r/s]"
     ]
    },
    {
     "name": "stderr",
     "output_type": "stream",
     "text": [
      "\r 67%|██████████████████████████████████                 | 3794817/5681827 [01:55<00:57, 32853.74r/s]"
     ]
    },
    {
     "name": "stderr",
     "output_type": "stream",
     "text": [
      "\r 67%|██████████████████████████████████                 | 3798177/5681827 [01:55<00:57, 32854.27r/s]"
     ]
    },
    {
     "name": "stderr",
     "output_type": "stream",
     "text": [
      "\r 67%|██████████████████████████████████                 | 3801537/5681827 [01:55<00:57, 32854.66r/s]"
     ]
    },
    {
     "name": "stderr",
     "output_type": "stream",
     "text": [
      "\r 67%|██████████████████████████████████▏                | 3804875/5681827 [01:55<00:57, 32854.21r/s]"
     ]
    },
    {
     "name": "stderr",
     "output_type": "stream",
     "text": [
      "\r 67%|██████████████████████████████████▏                | 3808234/5681827 [01:55<00:57, 32854.73r/s]"
     ]
    },
    {
     "name": "stderr",
     "output_type": "stream",
     "text": [
      "\r 67%|██████████████████████████████████▏                | 3811605/5681827 [01:56<00:56, 32855.22r/s]"
     ]
    },
    {
     "name": "stderr",
     "output_type": "stream",
     "text": [
      "\r 67%|██████████████████████████████████▏                | 3815082/5681827 [01:56<00:56, 32856.65r/s]"
     ]
    },
    {
     "name": "stderr",
     "output_type": "stream",
     "text": [
      "\r 67%|██████████████████████████████████▎                | 3818445/5681827 [01:56<00:56, 32856.77r/s]"
     ]
    },
    {
     "name": "stderr",
     "output_type": "stream",
     "text": [
      "\r 67%|██████████████████████████████████▎                | 3821838/5681827 [01:56<00:56, 32857.47r/s]"
     ]
    },
    {
     "name": "stderr",
     "output_type": "stream",
     "text": [
      "\r 67%|██████████████████████████████████▎                | 3825278/5681827 [01:56<00:56, 32858.56r/s]"
     ]
    },
    {
     "name": "stderr",
     "output_type": "stream",
     "text": [
      "\r 67%|██████████████████████████████████▎                | 3828647/5681827 [01:56<00:56, 32858.90r/s]"
     ]
    },
    {
     "name": "stderr",
     "output_type": "stream",
     "text": [
      "\r 67%|██████████████████████████████████▍                | 3832003/5681827 [01:56<00:56, 32858.71r/s]"
     ]
    },
    {
     "name": "stderr",
     "output_type": "stream",
     "text": [
      "\r 68%|██████████████████████████████████▍                | 3835359/5681827 [01:56<00:56, 32859.17r/s]"
     ]
    },
    {
     "name": "stderr",
     "output_type": "stream",
     "text": [
      "\r 68%|██████████████████████████████████▍                | 3838805/5681827 [01:56<00:56, 32860.44r/s]"
     ]
    },
    {
     "name": "stderr",
     "output_type": "stream",
     "text": [
      "\r 68%|██████████████████████████████████▍                | 3842262/5681827 [01:56<00:55, 32861.66r/s]"
     ]
    },
    {
     "name": "stderr",
     "output_type": "stream",
     "text": [
      "\r 68%|██████████████████████████████████▌                | 3845721/5681827 [01:57<00:55, 32862.98r/s]"
     ]
    },
    {
     "name": "stderr",
     "output_type": "stream",
     "text": [
      "\r 68%|██████████████████████████████████▌                | 3849121/5681827 [01:57<00:55, 32862.23r/s]"
     ]
    },
    {
     "name": "stderr",
     "output_type": "stream",
     "text": [
      "\r 68%|██████████████████████████████████▌                | 3852536/5681827 [01:57<00:55, 32863.30r/s]"
     ]
    },
    {
     "name": "stderr",
     "output_type": "stream",
     "text": [
      "\r 68%|██████████████████████████████████▌                | 3855941/5681827 [01:57<00:55, 32864.29r/s]"
     ]
    },
    {
     "name": "stderr",
     "output_type": "stream",
     "text": [
      "\r 68%|██████████████████████████████████▋                | 3859370/5681827 [01:57<00:55, 32865.28r/s]"
     ]
    },
    {
     "name": "stderr",
     "output_type": "stream",
     "text": [
      "\r 68%|██████████████████████████████████▋                | 3862753/5681827 [01:57<00:55, 32865.99r/s]"
     ]
    },
    {
     "name": "stderr",
     "output_type": "stream",
     "text": [
      "\r 68%|██████████████████████████████████▋                | 3866132/5681827 [01:57<00:55, 32866.54r/s]"
     ]
    },
    {
     "name": "stderr",
     "output_type": "stream",
     "text": [
      "\r 68%|██████████████████████████████████▋                | 3869503/5681827 [01:57<00:55, 32867.02r/s]"
     ]
    },
    {
     "name": "stderr",
     "output_type": "stream",
     "text": [
      "\r 68%|██████████████████████████████████▊                | 3872869/5681827 [01:57<00:55, 32867.46r/s]"
     ]
    },
    {
     "name": "stderr",
     "output_type": "stream",
     "text": [
      "\r 68%|██████████████████████████████████▊                | 3876251/5681827 [01:57<00:54, 32868.18r/s]"
     ]
    },
    {
     "name": "stderr",
     "output_type": "stream",
     "text": [
      "\r 68%|██████████████████████████████████▊                | 3879611/5681827 [01:58<00:54, 32868.79r/s]"
     ]
    },
    {
     "name": "stderr",
     "output_type": "stream",
     "text": [
      "\r 68%|██████████████████████████████████▊                | 3883019/5681827 [01:58<00:54, 32869.73r/s]"
     ]
    },
    {
     "name": "stderr",
     "output_type": "stream",
     "text": [
      "\r 68%|██████████████████████████████████▉                | 3886480/5681827 [01:58<00:54, 32870.93r/s]"
     ]
    },
    {
     "name": "stderr",
     "output_type": "stream",
     "text": [
      "\r 68%|██████████████████████████████████▉                | 3889908/5681827 [01:58<00:54, 32871.87r/s]"
     ]
    },
    {
     "name": "stderr",
     "output_type": "stream",
     "text": [
      "\r 69%|██████████████████████████████████▉                | 3893311/5681827 [01:58<00:54, 32872.77r/s]"
     ]
    },
    {
     "name": "stderr",
     "output_type": "stream",
     "text": [
      "\r 69%|██████████████████████████████████▉                | 3896738/5681827 [01:58<00:54, 32873.70r/s]"
     ]
    },
    {
     "name": "stderr",
     "output_type": "stream",
     "text": [
      "\r 69%|███████████████████████████████████                | 3900151/5681827 [01:58<00:54, 32874.54r/s]"
     ]
    },
    {
     "name": "stderr",
     "output_type": "stream",
     "text": [
      "\r 69%|███████████████████████████████████                | 3903553/5681827 [01:58<00:54, 32875.28r/s]"
     ]
    },
    {
     "name": "stderr",
     "output_type": "stream",
     "text": [
      "\r 69%|███████████████████████████████████                | 3906940/5681827 [01:58<00:53, 32876.03r/s]"
     ]
    },
    {
     "name": "stderr",
     "output_type": "stream",
     "text": [
      "\r 69%|███████████████████████████████████                | 3910376/5681827 [01:58<00:53, 32877.03r/s]"
     ]
    },
    {
     "name": "stderr",
     "output_type": "stream",
     "text": [
      "\r 69%|███████████████████████████████████▏               | 3913867/5681827 [01:59<00:53, 32878.64r/s]"
     ]
    },
    {
     "name": "stderr",
     "output_type": "stream",
     "text": [
      "\r 69%|███████████████████████████████████▏               | 3917284/5681827 [01:59<00:53, 32879.50r/s]"
     ]
    },
    {
     "name": "stderr",
     "output_type": "stream",
     "text": [
      "\r 69%|███████████████████████████████████▏               | 3920695/5681827 [01:59<00:53, 32880.29r/s]"
     ]
    },
    {
     "name": "stderr",
     "output_type": "stream",
     "text": [
      "\r 69%|███████████████████████████████████▏               | 3924096/5681827 [01:59<00:53, 32880.18r/s]"
     ]
    },
    {
     "name": "stderr",
     "output_type": "stream",
     "text": [
      "\r 69%|███████████████████████████████████▎               | 3927459/5681827 [01:59<00:53, 32879.87r/s]"
     ]
    },
    {
     "name": "stderr",
     "output_type": "stream",
     "text": [
      "\r 69%|███████████████████████████████████▎               | 3930789/5681827 [01:59<00:53, 32880.02r/s]"
     ]
    },
    {
     "name": "stderr",
     "output_type": "stream",
     "text": [
      "\r 69%|███████████████████████████████████▎               | 3934112/5681827 [01:59<00:53, 32878.28r/s]"
     ]
    },
    {
     "name": "stderr",
     "output_type": "stream",
     "text": [
      "\r 69%|███████████████████████████████████▎               | 3937478/5681827 [01:59<00:53, 32878.84r/s]"
     ]
    },
    {
     "name": "stderr",
     "output_type": "stream",
     "text": [
      "\r 69%|███████████████████████████████████▎               | 3940861/5681827 [01:59<00:52, 32879.55r/s]"
     ]
    },
    {
     "name": "stderr",
     "output_type": "stream",
     "text": [
      "\r 69%|███████████████████████████████████▍               | 3944235/5681827 [01:59<00:52, 32880.18r/s]"
     ]
    },
    {
     "name": "stderr",
     "output_type": "stream",
     "text": [
      "\r 69%|███████████████████████████████████▍               | 3947683/5681827 [02:00<00:52, 32881.42r/s]"
     ]
    },
    {
     "name": "stderr",
     "output_type": "stream",
     "text": [
      "\r 70%|███████████████████████████████████▍               | 3951096/5681827 [02:00<00:52, 32882.37r/s]"
     ]
    },
    {
     "name": "stderr",
     "output_type": "stream",
     "text": [
      "\r 70%|███████████████████████████████████▍               | 3954469/5681827 [02:00<00:52, 32882.99r/s]"
     ]
    },
    {
     "name": "stderr",
     "output_type": "stream",
     "text": [
      "\r 70%|███████████████████████████████████▌               | 3957839/5681827 [02:00<00:52, 32883.31r/s]"
     ]
    },
    {
     "name": "stderr",
     "output_type": "stream",
     "text": [
      "\r 70%|███████████████████████████████████▌               | 3961196/5681827 [02:00<00:52, 32883.76r/s]"
     ]
    },
    {
     "name": "stderr",
     "output_type": "stream",
     "text": [
      "\r 70%|███████████████████████████████████▌               | 3964599/5681827 [02:00<00:52, 32884.62r/s]"
     ]
    },
    {
     "name": "stderr",
     "output_type": "stream",
     "text": [
      "\r 70%|███████████████████████████████████▌               | 3968114/5681827 [02:00<00:52, 32886.24r/s]"
     ]
    },
    {
     "name": "stderr",
     "output_type": "stream",
     "text": [
      "\r 70%|███████████████████████████████████▋               | 3971514/5681827 [02:00<00:52, 32887.08r/s]"
     ]
    },
    {
     "name": "stderr",
     "output_type": "stream",
     "text": [
      "\r 70%|███████████████████████████████████▋               | 3974911/5681827 [02:00<00:51, 32884.19r/s]"
     ]
    },
    {
     "name": "stderr",
     "output_type": "stream",
     "text": [
      "\r 70%|███████████████████████████████████▋               | 3978262/5681827 [02:00<00:51, 32884.65r/s]"
     ]
    },
    {
     "name": "stderr",
     "output_type": "stream",
     "text": [
      "\r 70%|███████████████████████████████████▋               | 3981668/5681827 [02:01<00:51, 32885.53r/s]"
     ]
    },
    {
     "name": "stderr",
     "output_type": "stream",
     "text": [
      "\r 70%|███████████████████████████████████▊               | 3984993/5681827 [02:01<00:51, 32884.52r/s]"
     ]
    },
    {
     "name": "stderr",
     "output_type": "stream",
     "text": [
      "\r 70%|███████████████████████████████████▊               | 3988410/5681827 [02:01<00:51, 32885.36r/s]"
     ]
    },
    {
     "name": "stderr",
     "output_type": "stream",
     "text": [
      "\r 70%|███████████████████████████████████▊               | 3991722/5681827 [02:01<00:51, 32885.20r/s]"
     ]
    },
    {
     "name": "stderr",
     "output_type": "stream",
     "text": [
      "\r 70%|███████████████████████████████████▊               | 3995089/5681827 [02:01<00:51, 32885.61r/s]"
     ]
    },
    {
     "name": "stderr",
     "output_type": "stream",
     "text": [
      "\r 70%|███████████████████████████████████▉               | 3998400/5681827 [02:01<00:51, 32885.20r/s]"
     ]
    },
    {
     "name": "stderr",
     "output_type": "stream",
     "text": [
      "\r 70%|███████████████████████████████████▉               | 4001726/5681827 [02:01<00:51, 32885.39r/s]"
     ]
    },
    {
     "name": "stderr",
     "output_type": "stream",
     "text": [
      "\r 70%|███████████████████████████████████▉               | 4005023/5681827 [02:01<00:50, 32884.97r/s]"
     ]
    },
    {
     "name": "stderr",
     "output_type": "stream",
     "text": [
      "\r 71%|███████████████████████████████████▉               | 4008403/5681827 [02:01<00:50, 32885.49r/s]"
     ]
    },
    {
     "name": "stderr",
     "output_type": "stream",
     "text": [
      "\r 71%|████████████████████████████████████               | 4011786/5681827 [02:01<00:50, 32886.18r/s]"
     ]
    },
    {
     "name": "stderr",
     "output_type": "stream",
     "text": [
      "\r 71%|████████████████████████████████████               | 4015267/5681827 [02:02<00:50, 32887.64r/s]"
     ]
    },
    {
     "name": "stderr",
     "output_type": "stream",
     "text": [
      "\r 71%|████████████████████████████████████               | 4018746/5681827 [02:02<00:50, 32888.96r/s]"
     ]
    },
    {
     "name": "stderr",
     "output_type": "stream",
     "text": [
      "\r 71%|████████████████████████████████████               | 4022137/5681827 [02:02<00:50, 32889.58r/s]"
     ]
    },
    {
     "name": "stderr",
     "output_type": "stream",
     "text": [
      "\r 71%|████████████████████████████████████▏              | 4025531/5681827 [02:02<00:50, 32890.34r/s]"
     ]
    },
    {
     "name": "stderr",
     "output_type": "stream",
     "text": [
      "\r 71%|████████████████████████████████████▏              | 4028914/5681827 [02:02<00:50, 32889.01r/s]"
     ]
    },
    {
     "name": "stderr",
     "output_type": "stream",
     "text": [
      "\r 71%|████████████████████████████████████▏              | 4032223/5681827 [02:02<00:50, 32888.78r/s]"
     ]
    },
    {
     "name": "stderr",
     "output_type": "stream",
     "text": [
      "\r 71%|████████████████████████████████████▏              | 4035525/5681827 [02:02<00:50, 32888.79r/s]"
     ]
    },
    {
     "name": "stderr",
     "output_type": "stream",
     "text": [
      "\r 71%|████████████████████████████████████▎              | 4038819/5681827 [02:02<00:49, 32887.54r/s]"
     ]
    },
    {
     "name": "stderr",
     "output_type": "stream",
     "text": [
      "\r 71%|████████████████████████████████████▎              | 4042149/5681827 [02:02<00:49, 32887.76r/s]"
     ]
    },
    {
     "name": "stderr",
     "output_type": "stream",
     "text": [
      "\r 71%|████████████████████████████████████▎              | 4045502/5681827 [02:03<00:49, 32888.17r/s]"
     ]
    },
    {
     "name": "stderr",
     "output_type": "stream",
     "text": [
      "\r 71%|████████████████████████████████████▎              | 4048914/5681827 [02:03<00:49, 32888.93r/s]"
     ]
    },
    {
     "name": "stderr",
     "output_type": "stream",
     "text": [
      "\r 71%|████████████████████████████████████▎              | 4052275/5681827 [02:03<00:49, 32889.29r/s]"
     ]
    },
    {
     "name": "stderr",
     "output_type": "stream",
     "text": [
      "\r 71%|████████████████████████████████████▍              | 4055661/5681827 [02:03<00:49, 32889.87r/s]"
     ]
    },
    {
     "name": "stderr",
     "output_type": "stream",
     "text": [
      "\r 71%|████████████████████████████████████▍              | 4059034/5681827 [02:03<00:49, 32890.33r/s]"
     ]
    },
    {
     "name": "stderr",
     "output_type": "stream",
     "text": [
      "\r 71%|████████████████████████████████████▍              | 4062442/5681827 [02:03<00:49, 32891.21r/s]"
     ]
    },
    {
     "name": "stderr",
     "output_type": "stream",
     "text": [
      "\r 72%|████████████████████████████████████▍              | 4065798/5681827 [02:03<00:49, 32891.67r/s]"
     ]
    },
    {
     "name": "stderr",
     "output_type": "stream",
     "text": [
      "\r 72%|████████████████████████████████████▌              | 4069182/5681827 [02:03<00:49, 32892.21r/s]"
     ]
    },
    {
     "name": "stderr",
     "output_type": "stream",
     "text": [
      "\r 72%|████████████████████████████████████▌              | 4072553/5681827 [02:03<00:48, 32892.79r/s]"
     ]
    },
    {
     "name": "stderr",
     "output_type": "stream",
     "text": [
      "\r 72%|████████████████████████████████████▌              | 4076014/5681827 [02:03<00:48, 32894.00r/s]"
     ]
    },
    {
     "name": "stderr",
     "output_type": "stream",
     "text": [
      "\r 72%|████████████████████████████████████▌              | 4079405/5681827 [02:04<00:48, 32894.79r/s]"
     ]
    },
    {
     "name": "stderr",
     "output_type": "stream",
     "text": [
      "\r 72%|████████████████████████████████████▋              | 4082788/5681827 [02:04<00:48, 32895.44r/s]"
     ]
    },
    {
     "name": "stderr",
     "output_type": "stream",
     "text": [
      "\r 72%|████████████████████████████████████▋              | 4086186/5681827 [02:04<00:48, 32896.09r/s]"
     ]
    },
    {
     "name": "stderr",
     "output_type": "stream",
     "text": [
      "\r 72%|████████████████████████████████████▋              | 4089638/5681827 [02:04<00:48, 32897.18r/s]"
     ]
    },
    {
     "name": "stderr",
     "output_type": "stream",
     "text": [
      "\r 72%|████████████████████████████████████▋              | 4093029/5681827 [02:04<00:48, 32896.71r/s]"
     ]
    },
    {
     "name": "stderr",
     "output_type": "stream",
     "text": [
      "\r 72%|████████████████████████████████████▊              | 4096373/5681827 [02:04<00:48, 32896.81r/s]"
     ]
    },
    {
     "name": "stderr",
     "output_type": "stream",
     "text": [
      "\r 72%|████████████████████████████████████▊              | 4099810/5681827 [02:04<00:48, 32897.90r/s]"
     ]
    },
    {
     "name": "stderr",
     "output_type": "stream",
     "text": [
      "\r 72%|████████████████████████████████████▊              | 4103305/5681827 [02:04<00:47, 32899.32r/s]"
     ]
    },
    {
     "name": "stderr",
     "output_type": "stream",
     "text": [
      "\r 72%|████████████████████████████████████▊              | 4106700/5681827 [02:04<00:47, 32899.94r/s]"
     ]
    },
    {
     "name": "stderr",
     "output_type": "stream",
     "text": [
      "\r 72%|████████████████████████████████████▉              | 4110162/5681827 [02:04<00:47, 32901.13r/s]"
     ]
    },
    {
     "name": "stderr",
     "output_type": "stream",
     "text": [
      "\r 72%|████████████████████████████████████▉              | 4113562/5681827 [02:05<00:47, 32901.78r/s]"
     ]
    },
    {
     "name": "stderr",
     "output_type": "stream",
     "text": [
      "\r 72%|████████████████████████████████████▉              | 4116954/5681827 [02:05<00:47, 32902.59r/s]"
     ]
    },
    {
     "name": "stderr",
     "output_type": "stream",
     "text": [
      "\r 73%|████████████████████████████████████▉              | 4120346/5681827 [02:05<00:47, 32901.27r/s]"
     ]
    },
    {
     "name": "stderr",
     "output_type": "stream",
     "text": [
      "\r 73%|█████████████████████████████████████              | 4123696/5681827 [02:05<00:47, 32901.66r/s]"
     ]
    },
    {
     "name": "stderr",
     "output_type": "stream",
     "text": [
      "\r 73%|█████████████████████████████████████              | 4127112/5681827 [02:05<00:47, 32902.46r/s]"
     ]
    },
    {
     "name": "stderr",
     "output_type": "stream",
     "text": [
      "\r 73%|█████████████████████████████████████              | 4130547/5681827 [02:05<00:47, 32903.50r/s]"
     ]
    },
    {
     "name": "stderr",
     "output_type": "stream",
     "text": [
      "\r 73%|█████████████████████████████████████              | 4133961/5681827 [02:05<00:47, 32904.27r/s]"
     ]
    },
    {
     "name": "stderr",
     "output_type": "stream",
     "text": [
      "\r 73%|█████████████████████████████████████▏             | 4137333/5681827 [02:05<00:46, 32904.31r/s]"
     ]
    },
    {
     "name": "stderr",
     "output_type": "stream",
     "text": [
      "\r 73%|█████████████████████████████████████▏             | 4140702/5681827 [02:05<00:46, 32904.82r/s]"
     ]
    },
    {
     "name": "stderr",
     "output_type": "stream",
     "text": [
      "\r 73%|█████████████████████████████████████▏             | 4144124/5681827 [02:05<00:46, 32905.77r/s]"
     ]
    },
    {
     "name": "stderr",
     "output_type": "stream",
     "text": [
      "\r 73%|█████████████████████████████████████▏             | 4147498/5681827 [02:06<00:46, 32906.22r/s]"
     ]
    },
    {
     "name": "stderr",
     "output_type": "stream",
     "text": [
      "\r 73%|█████████████████████████████████████▎             | 4150956/5681827 [02:06<00:46, 32907.33r/s]"
     ]
    },
    {
     "name": "stderr",
     "output_type": "stream",
     "text": [
      "\r 73%|█████████████████████████████████████▎             | 4154338/5681827 [02:06<00:46, 32907.57r/s]"
     ]
    },
    {
     "name": "stderr",
     "output_type": "stream",
     "text": [
      "\r 73%|█████████████████████████████████████▎             | 4157711/5681827 [02:06<00:46, 32908.13r/s]"
     ]
    },
    {
     "name": "stderr",
     "output_type": "stream",
     "text": [
      "\r 73%|█████████████████████████████████████▎             | 4161074/5681827 [02:06<00:46, 32908.57r/s]"
     ]
    },
    {
     "name": "stderr",
     "output_type": "stream",
     "text": [
      "\r 73%|█████████████████████████████████████▍             | 4164432/5681827 [02:06<00:46, 32908.36r/s]"
     ]
    },
    {
     "name": "stderr",
     "output_type": "stream",
     "text": [
      "\r 73%|█████████████████████████████████████▍             | 4167769/5681827 [02:06<00:46, 32908.63r/s]"
     ]
    },
    {
     "name": "stderr",
     "output_type": "stream",
     "text": [
      "\r 73%|█████████████████████████████████████▍             | 4171177/5681827 [02:06<00:45, 32909.47r/s]"
     ]
    },
    {
     "name": "stderr",
     "output_type": "stream",
     "text": [
      "\r 73%|█████████████████████████████████████▍             | 4174567/5681827 [02:06<00:45, 32910.16r/s]"
     ]
    },
    {
     "name": "stderr",
     "output_type": "stream",
     "text": [
      "\r 74%|█████████████████████████████████████▌             | 4177979/5681827 [02:06<00:45, 32911.07r/s]"
     ]
    },
    {
     "name": "stderr",
     "output_type": "stream",
     "text": [
      "\r 74%|█████████████████████████████████████▌             | 4181352/5681827 [02:07<00:45, 32911.65r/s]"
     ]
    },
    {
     "name": "stderr",
     "output_type": "stream",
     "text": [
      "\r 74%|█████████████████████████████████████▌             | 4184779/5681827 [02:07<00:45, 32912.63r/s]"
     ]
    },
    {
     "name": "stderr",
     "output_type": "stream",
     "text": [
      "\r 74%|█████████████████████████████████████▌             | 4188167/5681827 [02:07<00:45, 32913.30r/s]"
     ]
    },
    {
     "name": "stderr",
     "output_type": "stream",
     "text": [
      "\r 74%|█████████████████████████████████████▌             | 4191549/5681827 [02:07<00:45, 32913.41r/s]"
     ]
    },
    {
     "name": "stderr",
     "output_type": "stream",
     "text": [
      "\r 74%|█████████████████████████████████████▋             | 4194914/5681827 [02:07<00:45, 32913.92r/s]"
     ]
    },
    {
     "name": "stderr",
     "output_type": "stream",
     "text": [
      "\r 74%|█████████████████████████████████████▋             | 4198272/5681827 [02:07<00:45, 32913.87r/s]"
     ]
    },
    {
     "name": "stderr",
     "output_type": "stream",
     "text": [
      "\r 74%|█████████████████████████████████████▋             | 4201608/5681827 [02:07<00:44, 32914.14r/s]"
     ]
    },
    {
     "name": "stderr",
     "output_type": "stream",
     "text": [
      "\r 74%|█████████████████████████████████████▋             | 4204951/5681827 [02:07<00:44, 32914.44r/s]"
     ]
    },
    {
     "name": "stderr",
     "output_type": "stream",
     "text": [
      "\r 74%|█████████████████████████████████████▊             | 4208294/5681827 [02:07<00:44, 32914.78r/s]"
     ]
    },
    {
     "name": "stderr",
     "output_type": "stream",
     "text": [
      "\r 74%|█████████████████████████████████████▊             | 4211646/5681827 [02:07<00:44, 32915.16r/s]"
     ]
    },
    {
     "name": "stderr",
     "output_type": "stream",
     "text": [
      "\r 74%|█████████████████████████████████████▊             | 4214981/5681827 [02:08<00:44, 32914.62r/s]"
     ]
    },
    {
     "name": "stderr",
     "output_type": "stream",
     "text": [
      "\r 74%|█████████████████████████████████████▊             | 4218355/5681827 [02:08<00:44, 32915.18r/s]"
     ]
    },
    {
     "name": "stderr",
     "output_type": "stream",
     "text": [
      "\r 74%|█████████████████████████████████████▉             | 4221755/5681827 [02:08<00:44, 32915.94r/s]"
     ]
    },
    {
     "name": "stderr",
     "output_type": "stream",
     "text": [
      "\r 74%|█████████████████████████████████████▉             | 4225171/5681827 [02:08<00:44, 32916.83r/s]"
     ]
    },
    {
     "name": "stderr",
     "output_type": "stream",
     "text": [
      "\r 74%|█████████████████████████████████████▉             | 4228532/5681827 [02:08<00:44, 32917.16r/s]"
     ]
    },
    {
     "name": "stderr",
     "output_type": "stream",
     "text": [
      "\r 74%|█████████████████████████████████████▉             | 4231947/5681827 [02:08<00:44, 32918.09r/s]"
     ]
    },
    {
     "name": "stderr",
     "output_type": "stream",
     "text": [
      "\r 75%|██████████████████████████████████████             | 4235357/5681827 [02:08<00:43, 32918.91r/s]"
     ]
    },
    {
     "name": "stderr",
     "output_type": "stream",
     "text": [
      "\r 75%|██████████████████████████████████████             | 4238788/5681827 [02:08<00:43, 32919.95r/s]"
     ]
    },
    {
     "name": "stderr",
     "output_type": "stream",
     "text": [
      "\r 75%|██████████████████████████████████████             | 4242181/5681827 [02:08<00:43, 32918.91r/s]"
     ]
    },
    {
     "name": "stderr",
     "output_type": "stream",
     "text": [
      "\r 75%|██████████████████████████████████████             | 4245506/5681827 [02:08<00:43, 32919.08r/s]"
     ]
    },
    {
     "name": "stderr",
     "output_type": "stream",
     "text": [
      "\r 75%|██████████████████████████████████████▏            | 4248828/5681827 [02:09<00:43, 32919.25r/s]"
     ]
    },
    {
     "name": "stderr",
     "output_type": "stream",
     "text": [
      "\r 75%|██████████████████████████████████████▏            | 4252159/5681827 [02:09<00:43, 32919.33r/s]"
     ]
    },
    {
     "name": "stderr",
     "output_type": "stream",
     "text": [
      "\r 75%|██████████████████████████████████████▏            | 4255473/5681827 [02:09<00:43, 32918.25r/s]"
     ]
    },
    {
     "name": "stderr",
     "output_type": "stream",
     "text": [
      "\r 75%|██████████████████████████████████████▏            | 4258859/5681827 [02:09<00:43, 32918.92r/s]"
     ]
    },
    {
     "name": "stderr",
     "output_type": "stream",
     "text": [
      "\r 75%|██████████████████████████████████████▎            | 4262252/5681827 [02:09<00:43, 32919.63r/s]"
     ]
    },
    {
     "name": "stderr",
     "output_type": "stream",
     "text": [
      "\r 75%|██████████████████████████████████████▎            | 4265580/5681827 [02:09<00:43, 32919.68r/s]"
     ]
    },
    {
     "name": "stderr",
     "output_type": "stream",
     "text": [
      "\r 75%|██████████████████████████████████████▎            | 4268898/5681827 [02:09<00:42, 32918.64r/s]"
     ]
    },
    {
     "name": "stderr",
     "output_type": "stream",
     "text": [
      "\r 75%|██████████████████████████████████████▎            | 4272359/5681827 [02:09<00:42, 32919.72r/s]"
     ]
    },
    {
     "name": "stderr",
     "output_type": "stream",
     "text": [
      "\r 75%|██████████████████████████████████████▍            | 4275792/5681827 [02:09<00:42, 32920.59r/s]"
     ]
    },
    {
     "name": "stderr",
     "output_type": "stream",
     "text": [
      "\r 75%|██████████████████████████████████████▍            | 4279252/5681827 [02:09<00:42, 32921.66r/s]"
     ]
    },
    {
     "name": "stderr",
     "output_type": "stream",
     "text": [
      "\r 75%|██████████████████████████████████████▍            | 4282693/5681827 [02:10<00:42, 32922.58r/s]"
     ]
    },
    {
     "name": "stderr",
     "output_type": "stream",
     "text": [
      "\r 75%|██████████████████████████████████████▍            | 4286143/5681827 [02:10<00:42, 32923.57r/s]"
     ]
    },
    {
     "name": "stderr",
     "output_type": "stream",
     "text": [
      "\r 75%|██████████████████████████████████████▌            | 4289605/5681827 [02:10<00:42, 32924.65r/s]"
     ]
    },
    {
     "name": "stderr",
     "output_type": "stream",
     "text": [
      "\r 76%|██████████████████████████████████████▌            | 4293011/5681827 [02:10<00:42, 32925.06r/s]"
     ]
    },
    {
     "name": "stderr",
     "output_type": "stream",
     "text": [
      "\r 76%|██████████████████████████████████████▌            | 4296399/5681827 [02:10<00:42, 32924.82r/s]"
     ]
    },
    {
     "name": "stderr",
     "output_type": "stream",
     "text": [
      "\r 76%|██████████████████████████████████████▌            | 4299766/5681827 [02:10<00:41, 32925.18r/s]"
     ]
    },
    {
     "name": "stderr",
     "output_type": "stream",
     "text": [
      "\r 76%|██████████████████████████████████████▋            | 4303210/5681827 [02:10<00:41, 32926.11r/s]"
     ]
    },
    {
     "name": "stderr",
     "output_type": "stream",
     "text": [
      "\r 76%|██████████████████████████████████████▋            | 4306682/5681827 [02:10<00:41, 32927.27r/s]"
     ]
    },
    {
     "name": "stderr",
     "output_type": "stream",
     "text": [
      "\r 76%|██████████████████████████████████████▋            | 4310142/5681827 [02:10<00:41, 32928.49r/s]"
     ]
    },
    {
     "name": "stderr",
     "output_type": "stream",
     "text": [
      "\r 76%|██████████████████████████████████████▋            | 4313551/5681827 [02:10<00:41, 32929.32r/s]"
     ]
    },
    {
     "name": "stderr",
     "output_type": "stream",
     "text": [
      "\r 76%|██████████████████████████████████████▋            | 4316958/5681827 [02:11<00:41, 32927.83r/s]"
     ]
    },
    {
     "name": "stderr",
     "output_type": "stream",
     "text": [
      "\r 76%|██████████████████████████████████████▊            | 4320277/5681827 [02:11<00:41, 32927.80r/s]"
     ]
    },
    {
     "name": "stderr",
     "output_type": "stream",
     "text": [
      "\r 76%|██████████████████████████████████████▊            | 4323742/5681827 [02:11<00:41, 32928.91r/s]"
     ]
    },
    {
     "name": "stderr",
     "output_type": "stream",
     "text": [
      "\r 76%|██████████████████████████████████████▊            | 4327125/5681827 [02:11<00:41, 32929.38r/s]"
     ]
    },
    {
     "name": "stderr",
     "output_type": "stream",
     "text": [
      "\r 76%|██████████████████████████████████████▊            | 4330476/5681827 [02:11<00:41, 32929.60r/s]"
     ]
    },
    {
     "name": "stderr",
     "output_type": "stream",
     "text": [
      "\r 76%|██████████████████████████████████████▉            | 4333883/5681827 [02:11<00:40, 32930.26r/s]"
     ]
    },
    {
     "name": "stderr",
     "output_type": "stream",
     "text": [
      "\r 76%|██████████████████████████████████████▉            | 4337236/5681827 [02:11<00:40, 32930.26r/s]"
     ]
    },
    {
     "name": "stderr",
     "output_type": "stream",
     "text": [
      "\r 76%|██████████████████████████████████████▉            | 4340580/5681827 [02:11<00:40, 32930.42r/s]"
     ]
    },
    {
     "name": "stderr",
     "output_type": "stream",
     "text": [
      "\r 76%|██████████████████████████████████████▉            | 4344004/5681827 [02:11<00:40, 32931.31r/s]"
     ]
    },
    {
     "name": "stderr",
     "output_type": "stream",
     "text": [
      "\r 77%|███████████████████████████████████████            | 4347357/5681827 [02:12<00:40, 32931.72r/s]"
     ]
    },
    {
     "name": "stderr",
     "output_type": "stream",
     "text": [
      "\r 77%|███████████████████████████████████████            | 4350709/5681827 [02:12<00:40, 32931.92r/s]"
     ]
    },
    {
     "name": "stderr",
     "output_type": "stream",
     "text": [
      "\r 77%|███████████████████████████████████████            | 4354080/5681827 [02:12<00:40, 32932.48r/s]"
     ]
    },
    {
     "name": "stderr",
     "output_type": "stream",
     "text": [
      "\r 77%|███████████████████████████████████████            | 4357496/5681827 [02:12<00:40, 32933.37r/s]"
     ]
    },
    {
     "name": "stderr",
     "output_type": "stream",
     "text": [
      "\r 77%|███████████████████████████████████████▏           | 4360864/5681827 [02:12<00:40, 32933.61r/s]"
     ]
    },
    {
     "name": "stderr",
     "output_type": "stream",
     "text": [
      "\r 77%|███████████████████████████████████████▏           | 4364219/5681827 [02:12<00:40, 32932.37r/s]"
     ]
    },
    {
     "name": "stderr",
     "output_type": "stream",
     "text": [
      "\r 77%|███████████████████████████████████████▏           | 4367510/5681827 [02:12<00:39, 32931.87r/s]"
     ]
    },
    {
     "name": "stderr",
     "output_type": "stream",
     "text": [
      "\r 77%|███████████████████████████████████████▏           | 4370839/5681827 [02:12<00:39, 32931.92r/s]"
     ]
    },
    {
     "name": "stderr",
     "output_type": "stream",
     "text": [
      "\r 77%|███████████████████████████████████████▎           | 4374276/5681827 [02:12<00:39, 32932.92r/s]"
     ]
    },
    {
     "name": "stderr",
     "output_type": "stream",
     "text": [
      "\r 77%|███████████████████████████████████████▎           | 4377695/5681827 [02:12<00:39, 32933.65r/s]"
     ]
    },
    {
     "name": "stderr",
     "output_type": "stream",
     "text": [
      "\r 77%|███████████████████████████████████████▎           | 4381097/5681827 [02:13<00:39, 32934.39r/s]"
     ]
    },
    {
     "name": "stderr",
     "output_type": "stream",
     "text": [
      "\r 77%|███████████████████████████████████████▎           | 4384537/5681827 [02:13<00:39, 32935.38r/s]"
     ]
    },
    {
     "name": "stderr",
     "output_type": "stream",
     "text": [
      "\r 77%|███████████████████████████████████████▍           | 4387978/5681827 [02:13<00:39, 32936.39r/s]"
     ]
    },
    {
     "name": "stderr",
     "output_type": "stream",
     "text": [
      "\r 77%|███████████████████████████████████████▍           | 4391371/5681827 [02:13<00:39, 32935.68r/s]"
     ]
    },
    {
     "name": "stderr",
     "output_type": "stream",
     "text": [
      "\r 77%|███████████████████████████████████████▍           | 4394708/5681827 [02:13<00:39, 32935.93r/s]"
     ]
    },
    {
     "name": "stderr",
     "output_type": "stream",
     "text": [
      "\r 77%|███████████████████████████████████████▍           | 4398171/5681827 [02:13<00:38, 32936.98r/s]"
     ]
    },
    {
     "name": "stderr",
     "output_type": "stream",
     "text": [
      "\r 77%|███████████████████████████████████████▌           | 4401668/5681827 [02:13<00:38, 32938.30r/s]"
     ]
    },
    {
     "name": "stderr",
     "output_type": "stream",
     "text": [
      "\r 78%|███████████████████████████████████████▌           | 4405180/5681827 [02:13<00:38, 32939.72r/s]"
     ]
    },
    {
     "name": "stderr",
     "output_type": "stream",
     "text": [
      "\r 78%|███████████████████████████████████████▌           | 4408601/5681827 [02:13<00:38, 32940.34r/s]"
     ]
    },
    {
     "name": "stderr",
     "output_type": "stream",
     "text": [
      "\r 78%|███████████████████████████████████████▌           | 4412009/5681827 [02:13<00:38, 32940.24r/s]"
     ]
    },
    {
     "name": "stderr",
     "output_type": "stream",
     "text": [
      "\r 78%|███████████████████████████████████████▋           | 4415379/5681827 [02:14<00:38, 32940.25r/s]"
     ]
    },
    {
     "name": "stderr",
     "output_type": "stream",
     "text": [
      "\r 78%|███████████████████████████████████████▋           | 4418749/5681827 [02:14<00:38, 32940.61r/s]"
     ]
    },
    {
     "name": "stderr",
     "output_type": "stream",
     "text": [
      "\r 78%|███████████████████████████████████████▋           | 4422095/5681827 [02:14<00:38, 32940.79r/s]"
     ]
    },
    {
     "name": "stderr",
     "output_type": "stream",
     "text": [
      "\r 78%|███████████████████████████████████████▋           | 4425433/5681827 [02:14<00:38, 32940.68r/s]"
     ]
    },
    {
     "name": "stderr",
     "output_type": "stream",
     "text": [
      "\r 78%|███████████████████████████████████████▊           | 4428754/5681827 [02:14<00:38, 32940.81r/s]"
     ]
    },
    {
     "name": "stderr",
     "output_type": "stream",
     "text": [
      "\r 78%|███████████████████████████████████████▊           | 4432098/5681827 [02:14<00:37, 32941.10r/s]"
     ]
    },
    {
     "name": "stderr",
     "output_type": "stream",
     "text": [
      "\r 78%|███████████████████████████████████████▊           | 4435469/5681827 [02:14<00:37, 32941.58r/s]"
     ]
    },
    {
     "name": "stderr",
     "output_type": "stream",
     "text": [
      "\r 78%|███████████████████████████████████████▊           | 4438803/5681827 [02:14<00:37, 32940.69r/s]"
     ]
    },
    {
     "name": "stderr",
     "output_type": "stream",
     "text": [
      "\r 78%|███████████████████████████████████████▊           | 4442187/5681827 [02:14<00:37, 32941.30r/s]"
     ]
    },
    {
     "name": "stderr",
     "output_type": "stream",
     "text": [
      "\r 78%|███████████████████████████████████████▉           | 4445587/5681827 [02:14<00:37, 32941.98r/s]"
     ]
    },
    {
     "name": "stderr",
     "output_type": "stream",
     "text": [
      "\r 78%|███████████████████████████████████████▉           | 4448923/5681827 [02:15<00:37, 32941.60r/s]"
     ]
    },
    {
     "name": "stderr",
     "output_type": "stream",
     "text": [
      "\r 78%|███████████████████████████████████████▉           | 4452303/5681827 [02:15<00:37, 32942.16r/s]"
     ]
    },
    {
     "name": "stderr",
     "output_type": "stream",
     "text": [
      "\r 78%|███████████████████████████████████████▉           | 4455712/5681827 [02:15<00:37, 32942.90r/s]"
     ]
    },
    {
     "name": "stderr",
     "output_type": "stream",
     "text": [
      "\r 78%|████████████████████████████████████████           | 4459102/5681827 [02:15<00:37, 32943.52r/s]"
     ]
    },
    {
     "name": "stderr",
     "output_type": "stream",
     "text": [
      "\r 79%|████████████████████████████████████████           | 4462459/5681827 [02:15<00:37, 32943.78r/s]"
     ]
    },
    {
     "name": "stderr",
     "output_type": "stream",
     "text": [
      "\r 79%|████████████████████████████████████████           | 4465808/5681827 [02:15<00:36, 32944.09r/s]"
     ]
    },
    {
     "name": "stderr",
     "output_type": "stream",
     "text": [
      "\r 79%|████████████████████████████████████████           | 4469153/5681827 [02:15<00:36, 32939.35r/s]"
     ]
    },
    {
     "name": "stderr",
     "output_type": "stream",
     "text": [
      "\r 79%|████████████████████████████████████████▏          | 4472478/5681827 [02:15<00:36, 32939.38r/s]"
     ]
    },
    {
     "name": "stderr",
     "output_type": "stream",
     "text": [
      "\r 79%|████████████████████████████████████████▏          | 4475715/5681827 [02:15<00:36, 32938.73r/s]"
     ]
    },
    {
     "name": "stderr",
     "output_type": "stream",
     "text": [
      "\r 79%|████████████████████████████████████████▏          | 4479078/5681827 [02:15<00:36, 32939.04r/s]"
     ]
    },
    {
     "name": "stderr",
     "output_type": "stream",
     "text": [
      "\r 79%|████████████████████████████████████████▏          | 4482444/5681827 [02:16<00:36, 32939.36r/s]"
     ]
    },
    {
     "name": "stderr",
     "output_type": "stream",
     "text": [
      "\r 79%|████████████████████████████████████████▎          | 4485938/5681827 [02:16<00:36, 32940.63r/s]"
     ]
    },
    {
     "name": "stderr",
     "output_type": "stream",
     "text": [
      "\r 79%|████████████████████████████████████████▎          | 4489322/5681827 [02:16<00:36, 32941.17r/s]"
     ]
    },
    {
     "name": "stderr",
     "output_type": "stream",
     "text": [
      "\r 79%|████████████████████████████████████████▎          | 4492719/5681827 [02:16<00:36, 32941.84r/s]"
     ]
    },
    {
     "name": "stderr",
     "output_type": "stream",
     "text": [
      "\r 79%|████████████████████████████████████████▎          | 4496074/5681827 [02:16<00:35, 32941.72r/s]"
     ]
    },
    {
     "name": "stderr",
     "output_type": "stream",
     "text": [
      "\r 79%|████████████████████████████████████████▍          | 4499415/5681827 [02:16<00:35, 32941.87r/s]"
     ]
    },
    {
     "name": "stderr",
     "output_type": "stream",
     "text": [
      "\r 79%|████████████████████████████████████████▍          | 4502742/5681827 [02:16<00:35, 32940.83r/s]"
     ]
    },
    {
     "name": "stderr",
     "output_type": "stream",
     "text": [
      "\r 79%|████████████████████████████████████████▍          | 4506061/5681827 [02:16<00:35, 32940.81r/s]"
     ]
    },
    {
     "name": "stderr",
     "output_type": "stream",
     "text": [
      "\r 79%|████████████████████████████████████████▍          | 4509360/5681827 [02:16<00:35, 32940.79r/s]"
     ]
    },
    {
     "name": "stderr",
     "output_type": "stream",
     "text": [
      "\r 79%|████████████████████████████████████████▌          | 4512686/5681827 [02:16<00:35, 32940.94r/s]"
     ]
    },
    {
     "name": "stderr",
     "output_type": "stream",
     "text": [
      "\r 79%|████████████████████████████████████████▌          | 4515980/5681827 [02:17<00:35, 32940.73r/s]"
     ]
    },
    {
     "name": "stderr",
     "output_type": "stream",
     "text": [
      "\r 80%|████████████████████████████████████████▌          | 4519371/5681827 [02:17<00:35, 32941.22r/s]"
     ]
    },
    {
     "name": "stderr",
     "output_type": "stream",
     "text": [
      "\r 80%|████████████████████████████████████████▌          | 4522782/5681827 [02:17<00:35, 32941.87r/s]"
     ]
    },
    {
     "name": "stderr",
     "output_type": "stream",
     "text": [
      "\r 80%|████████████████████████████████████████▋          | 4526113/5681827 [02:17<00:35, 32941.70r/s]"
     ]
    },
    {
     "name": "stderr",
     "output_type": "stream",
     "text": [
      "\r 80%|████████████████████████████████████████▋          | 4529426/5681827 [02:17<00:34, 32940.91r/s]"
     ]
    },
    {
     "name": "stderr",
     "output_type": "stream",
     "text": [
      "\r 80%|████████████████████████████████████████▋          | 4532788/5681827 [02:17<00:34, 32941.20r/s]"
     ]
    },
    {
     "name": "stderr",
     "output_type": "stream",
     "text": [
      "\r 80%|████████████████████████████████████████▋          | 4536081/5681827 [02:17<00:34, 32940.29r/s]"
     ]
    },
    {
     "name": "stderr",
     "output_type": "stream",
     "text": [
      "\r 80%|████████████████████████████████████████▋          | 4539376/5681827 [02:17<00:34, 32940.11r/s]"
     ]
    },
    {
     "name": "stderr",
     "output_type": "stream",
     "text": [
      "\r 80%|████████████████████████████████████████▊          | 4542637/5681827 [02:17<00:34, 32939.66r/s]"
     ]
    },
    {
     "name": "stderr",
     "output_type": "stream",
     "text": [
      "\r 80%|████████████████████████████████████████▊          | 4545958/5681827 [02:18<00:34, 32939.78r/s]"
     ]
    },
    {
     "name": "stderr",
     "output_type": "stream",
     "text": [
      "\r 80%|████████████████████████████████████████▊          | 4549228/5681827 [02:18<00:34, 32939.39r/s]"
     ]
    },
    {
     "name": "stderr",
     "output_type": "stream",
     "text": [
      "\r 80%|████████████████████████████████████████▊          | 4552602/5681827 [02:18<00:34, 32939.76r/s]"
     ]
    },
    {
     "name": "stderr",
     "output_type": "stream",
     "text": [
      "\r 80%|████████████████████████████████████████▉          | 4555923/5681827 [02:18<00:34, 32939.77r/s]"
     ]
    },
    {
     "name": "stderr",
     "output_type": "stream",
     "text": [
      "\r 80%|████████████████████████████████████████▉          | 4559297/5681827 [02:18<00:34, 32940.13r/s]"
     ]
    },
    {
     "name": "stderr",
     "output_type": "stream",
     "text": [
      "\r 80%|████████████████████████████████████████▉          | 4562603/5681827 [02:18<00:33, 32940.03r/s]"
     ]
    },
    {
     "name": "stderr",
     "output_type": "stream",
     "text": [
      "\r 80%|████████████████████████████████████████▉          | 4565978/5681827 [02:18<00:33, 32940.53r/s]"
     ]
    },
    {
     "name": "stderr",
     "output_type": "stream",
     "text": [
      "\r 80%|█████████████████████████████████████████          | 4569296/5681827 [02:18<00:33, 32939.68r/s]"
     ]
    },
    {
     "name": "stderr",
     "output_type": "stream",
     "text": [
      "\r 80%|█████████████████████████████████████████          | 4572593/5681827 [02:18<00:33, 32939.63r/s]"
     ]
    },
    {
     "name": "stderr",
     "output_type": "stream",
     "text": [
      "\r 81%|█████████████████████████████████████████          | 4575873/5681827 [02:18<00:33, 32939.33r/s]"
     ]
    },
    {
     "name": "stderr",
     "output_type": "stream",
     "text": [
      "\r 81%|█████████████████████████████████████████          | 4579210/5681827 [02:19<00:33, 32939.43r/s]"
     ]
    },
    {
     "name": "stderr",
     "output_type": "stream",
     "text": [
      "\r 81%|█████████████████████████████████████████▏         | 4582517/5681827 [02:19<00:33, 32939.34r/s]"
     ]
    },
    {
     "name": "stderr",
     "output_type": "stream",
     "text": [
      "\r 81%|█████████████████████████████████████████▏         | 4585872/5681827 [02:19<00:33, 32939.57r/s]"
     ]
    },
    {
     "name": "stderr",
     "output_type": "stream",
     "text": [
      "\r 81%|█████████████████████████████████████████▏         | 4589271/5681827 [02:19<00:33, 32940.12r/s]"
     ]
    },
    {
     "name": "stderr",
     "output_type": "stream",
     "text": [
      "\r 81%|█████████████████████████████████████████▏         | 4592660/5681827 [02:19<00:33, 32940.61r/s]"
     ]
    },
    {
     "name": "stderr",
     "output_type": "stream",
     "text": [
      "\r 81%|█████████████████████████████████████████▎         | 4596095/5681827 [02:19<00:32, 32941.42r/s]"
     ]
    },
    {
     "name": "stderr",
     "output_type": "stream",
     "text": [
      "\r 81%|█████████████████████████████████████████▎         | 4599476/5681827 [02:19<00:32, 32941.91r/s]"
     ]
    },
    {
     "name": "stderr",
     "output_type": "stream",
     "text": [
      "\r 81%|█████████████████████████████████████████▎         | 4602930/5681827 [02:19<00:32, 32942.98r/s]"
     ]
    },
    {
     "name": "stderr",
     "output_type": "stream",
     "text": [
      "\r 81%|█████████████████████████████████████████▎         | 4606313/5681827 [02:19<00:32, 32943.41r/s]"
     ]
    },
    {
     "name": "stderr",
     "output_type": "stream",
     "text": [
      "\r 81%|█████████████████████████████████████████▍         | 4609734/5681827 [02:19<00:32, 32944.10r/s]"
     ]
    },
    {
     "name": "stderr",
     "output_type": "stream",
     "text": [
      "\r 81%|█████████████████████████████████████████▍         | 4613113/5681827 [02:20<00:32, 32944.65r/s]"
     ]
    },
    {
     "name": "stderr",
     "output_type": "stream",
     "text": [
      "\r 81%|█████████████████████████████████████████▍         | 4616490/5681827 [02:20<00:32, 32944.92r/s]"
     ]
    },
    {
     "name": "stderr",
     "output_type": "stream",
     "text": [
      "\r 81%|█████████████████████████████████████████▍         | 4619853/5681827 [02:20<00:32, 32944.95r/s]"
     ]
    },
    {
     "name": "stderr",
     "output_type": "stream",
     "text": [
      "\r 81%|█████████████████████████████████████████▍         | 4623237/5681827 [02:20<00:32, 32945.39r/s]"
     ]
    },
    {
     "name": "stderr",
     "output_type": "stream",
     "text": [
      "\r 81%|█████████████████████████████████████████▌         | 4626585/5681827 [02:20<00:32, 32945.10r/s]"
     ]
    },
    {
     "name": "stderr",
     "output_type": "stream",
     "text": [
      "\r 81%|█████████████████████████████████████████▌         | 4629905/5681827 [02:20<00:31, 32945.21r/s]"
     ]
    },
    {
     "name": "stderr",
     "output_type": "stream",
     "text": [
      "\r 82%|█████████████████████████████████████████▌         | 4633222/5681827 [02:20<00:31, 32945.28r/s]"
     ]
    },
    {
     "name": "stderr",
     "output_type": "stream",
     "text": [
      "\r 82%|█████████████████████████████████████████▌         | 4636661/5681827 [02:20<00:31, 32946.09r/s]"
     ]
    },
    {
     "name": "stderr",
     "output_type": "stream",
     "text": [
      "\r 82%|█████████████████████████████████████████▋         | 4640065/5681827 [02:20<00:31, 32946.76r/s]"
     ]
    },
    {
     "name": "stderr",
     "output_type": "stream",
     "text": [
      "\r 82%|█████████████████████████████████████████▋         | 4643467/5681827 [02:20<00:31, 32947.43r/s]"
     ]
    },
    {
     "name": "stderr",
     "output_type": "stream",
     "text": [
      "\r 82%|█████████████████████████████████████████▋         | 4646895/5681827 [02:21<00:31, 32948.17r/s]"
     ]
    },
    {
     "name": "stderr",
     "output_type": "stream",
     "text": [
      "\r 82%|█████████████████████████████████████████▋         | 4650285/5681827 [02:21<00:31, 32948.77r/s]"
     ]
    },
    {
     "name": "stderr",
     "output_type": "stream",
     "text": [
      "\r 82%|█████████████████████████████████████████▊         | 4653693/5681827 [02:21<00:31, 32949.48r/s]"
     ]
    },
    {
     "name": "stderr",
     "output_type": "stream",
     "text": [
      "\r 82%|█████████████████████████████████████████▊         | 4657075/5681827 [02:21<00:31, 32948.97r/s]"
     ]
    },
    {
     "name": "stderr",
     "output_type": "stream",
     "text": [
      "\r 82%|█████████████████████████████████████████▊         | 4660411/5681827 [02:21<00:30, 32948.98r/s]"
     ]
    },
    {
     "name": "stderr",
     "output_type": "stream",
     "text": [
      "\r 82%|█████████████████████████████████████████▊         | 4663735/5681827 [02:21<00:30, 32948.85r/s]"
     ]
    },
    {
     "name": "stderr",
     "output_type": "stream",
     "text": [
      "\r 82%|█████████████████████████████████████████▉         | 4667159/5681827 [02:21<00:30, 32949.68r/s]"
     ]
    },
    {
     "name": "stderr",
     "output_type": "stream",
     "text": [
      "\r 82%|█████████████████████████████████████████▉         | 4670500/5681827 [02:21<00:30, 32949.94r/s]"
     ]
    },
    {
     "name": "stderr",
     "output_type": "stream",
     "text": [
      "\r 82%|█████████████████████████████████████████▉         | 4673939/5681827 [02:21<00:30, 32950.94r/s]"
     ]
    },
    {
     "name": "stderr",
     "output_type": "stream",
     "text": [
      "\r 82%|█████████████████████████████████████████▉         | 4677331/5681827 [02:21<00:30, 32951.54r/s]"
     ]
    },
    {
     "name": "stderr",
     "output_type": "stream",
     "text": [
      "\r 82%|██████████████████████████████████████████         | 4680738/5681827 [02:22<00:30, 32952.27r/s]"
     ]
    },
    {
     "name": "stderr",
     "output_type": "stream",
     "text": [
      "\r 82%|██████████████████████████████████████████         | 4684118/5681827 [02:22<00:30, 32952.68r/s]"
     ]
    },
    {
     "name": "stderr",
     "output_type": "stream",
     "text": [
      "\r 82%|██████████████████████████████████████████         | 4687490/5681827 [02:22<00:30, 32953.14r/s]"
     ]
    },
    {
     "name": "stderr",
     "output_type": "stream",
     "text": [
      "\r 83%|██████████████████████████████████████████         | 4690859/5681827 [02:22<00:30, 32953.39r/s]"
     ]
    },
    {
     "name": "stderr",
     "output_type": "stream",
     "text": [
      "\r 83%|██████████████████████████████████████████▏        | 4694217/5681827 [02:22<00:29, 32952.96r/s]"
     ]
    },
    {
     "name": "stderr",
     "output_type": "stream",
     "text": [
      "\r 83%|██████████████████████████████████████████▏        | 4697538/5681827 [02:22<00:29, 32953.07r/s]"
     ]
    },
    {
     "name": "stderr",
     "output_type": "stream",
     "text": [
      "\r 83%|██████████████████████████████████████████▏        | 4700856/5681827 [02:22<00:29, 32952.32r/s]"
     ]
    },
    {
     "name": "stderr",
     "output_type": "stream",
     "text": [
      "\r 83%|██████████████████████████████████████████▏        | 4704193/5681827 [02:22<00:29, 32952.55r/s]"
     ]
    },
    {
     "name": "stderr",
     "output_type": "stream",
     "text": [
      "\r 83%|██████████████████████████████████████████▎        | 4707488/5681827 [02:22<00:29, 32952.12r/s]"
     ]
    },
    {
     "name": "stderr",
     "output_type": "stream",
     "text": [
      "\r 83%|██████████████████████████████████████████▎        | 4710923/5681827 [02:22<00:29, 32952.89r/s]"
     ]
    },
    {
     "name": "stderr",
     "output_type": "stream",
     "text": [
      "\r 83%|██████████████████████████████████████████▎        | 4714321/5681827 [02:23<00:29, 32953.55r/s]"
     ]
    },
    {
     "name": "stderr",
     "output_type": "stream",
     "text": [
      "\r 83%|██████████████████████████████████████████▎        | 4717707/5681827 [02:23<00:29, 32953.97r/s]"
     ]
    },
    {
     "name": "stderr",
     "output_type": "stream",
     "text": [
      "\r 83%|██████████████████████████████████████████▍        | 4721050/5681827 [02:23<00:29, 32954.21r/s]"
     ]
    },
    {
     "name": "stderr",
     "output_type": "stream",
     "text": [
      "\r 83%|██████████████████████████████████████████▍        | 4724480/5681827 [02:23<00:29, 32954.94r/s]"
     ]
    },
    {
     "name": "stderr",
     "output_type": "stream",
     "text": [
      "\r 83%|██████████████████████████████████████████▍        | 4727837/5681827 [02:23<00:28, 32954.85r/s]"
     ]
    },
    {
     "name": "stderr",
     "output_type": "stream",
     "text": [
      "\r 83%|██████████████████████████████████████████▍        | 4731194/5681827 [02:23<00:28, 32955.07r/s]"
     ]
    },
    {
     "name": "stderr",
     "output_type": "stream",
     "text": [
      "\r 83%|██████████████████████████████████████████▍        | 4734527/5681827 [02:23<00:28, 32954.82r/s]"
     ]
    },
    {
     "name": "stderr",
     "output_type": "stream",
     "text": [
      "\r 83%|██████████████████████████████████████████▌        | 4737896/5681827 [02:23<00:28, 32955.12r/s]"
     ]
    },
    {
     "name": "stderr",
     "output_type": "stream",
     "text": [
      "\r 83%|██████████████████████████████████████████▌        | 4741255/5681827 [02:23<00:28, 32955.41r/s]"
     ]
    },
    {
     "name": "stderr",
     "output_type": "stream",
     "text": [
      "\r 84%|██████████████████████████████████████████▌        | 4744683/5681827 [02:23<00:28, 32956.24r/s]"
     ]
    },
    {
     "name": "stderr",
     "output_type": "stream",
     "text": [
      "\r 84%|██████████████████████████████████████████▌        | 4748035/5681827 [02:24<00:28, 32956.43r/s]"
     ]
    },
    {
     "name": "stderr",
     "output_type": "stream",
     "text": [
      "\r 84%|██████████████████████████████████████████▋        | 4751435/5681827 [02:24<00:28, 32957.06r/s]"
     ]
    },
    {
     "name": "stderr",
     "output_type": "stream",
     "text": [
      "\r 84%|██████████████████████████████████████████▋        | 4754829/5681827 [02:24<00:28, 32957.66r/s]"
     ]
    },
    {
     "name": "stderr",
     "output_type": "stream",
     "text": [
      "\r 84%|██████████████████████████████████████████▋        | 4758193/5681827 [02:24<00:28, 32957.82r/s]"
     ]
    },
    {
     "name": "stderr",
     "output_type": "stream",
     "text": [
      "\r 84%|██████████████████████████████████████████▋        | 4761544/5681827 [02:24<00:27, 32957.78r/s]"
     ]
    },
    {
     "name": "stderr",
     "output_type": "stream",
     "text": [
      "\r 84%|██████████████████████████████████████████▊        | 4764962/5681827 [02:24<00:27, 32958.43r/s]"
     ]
    },
    {
     "name": "stderr",
     "output_type": "stream",
     "text": [
      "\r 84%|██████████████████████████████████████████▊        | 4768343/5681827 [02:24<00:27, 32958.83r/s]"
     ]
    },
    {
     "name": "stderr",
     "output_type": "stream",
     "text": [
      "\r 84%|██████████████████████████████████████████▊        | 4771788/5681827 [02:24<00:27, 32959.76r/s]"
     ]
    },
    {
     "name": "stderr",
     "output_type": "stream",
     "text": [
      "\r 84%|██████████████████████████████████████████▊        | 4775233/5681827 [02:24<00:27, 32960.70r/s]"
     ]
    },
    {
     "name": "stderr",
     "output_type": "stream",
     "text": [
      "\r 84%|██████████████████████████████████████████▉        | 4778625/5681827 [02:24<00:27, 32961.05r/s]"
     ]
    },
    {
     "name": "stderr",
     "output_type": "stream",
     "text": [
      "\r 84%|██████████████████████████████████████████▉        | 4782003/5681827 [02:25<00:27, 32961.38r/s]"
     ]
    },
    {
     "name": "stderr",
     "output_type": "stream",
     "text": [
      "\r 84%|██████████████████████████████████████████▉        | 4785379/5681827 [02:25<00:27, 32961.93r/s]"
     ]
    },
    {
     "name": "stderr",
     "output_type": "stream",
     "text": [
      "\r 84%|██████████████████████████████████████████▉        | 4788764/5681827 [02:25<00:27, 32962.32r/s]"
     ]
    },
    {
     "name": "stderr",
     "output_type": "stream",
     "text": [
      "\r 84%|███████████████████████████████████████████        | 4792175/5681827 [02:25<00:26, 32963.11r/s]"
     ]
    },
    {
     "name": "stderr",
     "output_type": "stream",
     "text": [
      "\r 84%|███████████████████████████████████████████        | 4795554/5681827 [02:25<00:26, 32963.46r/s]"
     ]
    },
    {
     "name": "stderr",
     "output_type": "stream",
     "text": [
      "\r 84%|███████████████████████████████████████████        | 4799043/5681827 [02:25<00:26, 32964.57r/s]"
     ]
    },
    {
     "name": "stderr",
     "output_type": "stream",
     "text": [
      "\r 85%|███████████████████████████████████████████        | 4802439/5681827 [02:25<00:26, 32965.24r/s]"
     ]
    },
    {
     "name": "stderr",
     "output_type": "stream",
     "text": [
      "\r 85%|███████████████████████████████████████████▏       | 4805885/5681827 [02:25<00:26, 32966.04r/s]"
     ]
    },
    {
     "name": "stderr",
     "output_type": "stream",
     "text": [
      "\r 85%|███████████████████████████████████████████▏       | 4809299/5681827 [02:25<00:26, 32966.63r/s]"
     ]
    },
    {
     "name": "stderr",
     "output_type": "stream",
     "text": [
      "\r 85%|███████████████████████████████████████████▏       | 4812694/5681827 [02:25<00:26, 32967.30r/s]"
     ]
    },
    {
     "name": "stderr",
     "output_type": "stream",
     "text": [
      "\r 85%|███████████████████████████████████████████▏       | 4816089/5681827 [02:26<00:26, 32967.78r/s]"
     ]
    },
    {
     "name": "stderr",
     "output_type": "stream",
     "text": [
      "\r 85%|███████████████████████████████████████████▎       | 4819527/5681827 [02:26<00:26, 32968.72r/s]"
     ]
    },
    {
     "name": "stderr",
     "output_type": "stream",
     "text": [
      "\r 85%|███████████████████████████████████████████▎       | 4822928/5681827 [02:26<00:26, 32969.00r/s]"
     ]
    },
    {
     "name": "stderr",
     "output_type": "stream",
     "text": [
      "\r 85%|███████████████████████████████████████████▎       | 4826310/5681827 [02:26<00:25, 32968.21r/s]"
     ]
    },
    {
     "name": "stderr",
     "output_type": "stream",
     "text": [
      "\r 85%|███████████████████████████████████████████▎       | 4829634/5681827 [02:26<00:25, 32967.50r/s]"
     ]
    },
    {
     "name": "stderr",
     "output_type": "stream",
     "text": [
      "\r 85%|███████████████████████████████████████████▍       | 4832941/5681827 [02:26<00:25, 32967.57r/s]"
     ]
    },
    {
     "name": "stderr",
     "output_type": "stream",
     "text": [
      "\r 85%|███████████████████████████████████████████▍       | 4836274/5681827 [02:26<00:25, 32967.59r/s]"
     ]
    },
    {
     "name": "stderr",
     "output_type": "stream",
     "text": [
      "\r 85%|███████████████████████████████████████████▍       | 4839730/5681827 [02:26<00:25, 32968.45r/s]"
     ]
    },
    {
     "name": "stderr",
     "output_type": "stream",
     "text": [
      "\r 85%|███████████████████████████████████████████▍       | 4843063/5681827 [02:26<00:25, 32968.65r/s]"
     ]
    },
    {
     "name": "stderr",
     "output_type": "stream",
     "text": [
      "\r 85%|███████████████████████████████████████████▌       | 4846524/5681827 [02:26<00:25, 32969.60r/s]"
     ]
    },
    {
     "name": "stderr",
     "output_type": "stream",
     "text": [
      "\r 85%|███████████████████████████████████████████▌       | 4849886/5681827 [02:27<00:25, 32969.82r/s]"
     ]
    },
    {
     "name": "stderr",
     "output_type": "stream",
     "text": [
      "\r 85%|███████████████████████████████████████████▌       | 4853342/5681827 [02:27<00:25, 32970.69r/s]"
     ]
    },
    {
     "name": "stderr",
     "output_type": "stream",
     "text": [
      "\r 85%|███████████████████████████████████████████▌       | 4856716/5681827 [02:27<00:25, 32970.76r/s]"
     ]
    },
    {
     "name": "stderr",
     "output_type": "stream",
     "text": [
      "\r 86%|███████████████████████████████████████████▌       | 4860070/5681827 [02:27<00:24, 32970.70r/s]"
     ]
    },
    {
     "name": "stderr",
     "output_type": "stream",
     "text": [
      "\r 86%|███████████████████████████████████████████▋       | 4863405/5681827 [02:27<00:24, 32970.06r/s]"
     ]
    },
    {
     "name": "stderr",
     "output_type": "stream",
     "text": [
      "\r 86%|███████████████████████████████████████████▋       | 4866767/5681827 [02:27<00:24, 32970.50r/s]"
     ]
    },
    {
     "name": "stderr",
     "output_type": "stream",
     "text": [
      "\r 86%|███████████████████████████████████████████▋       | 4870083/5681827 [02:27<00:24, 32970.41r/s]"
     ]
    },
    {
     "name": "stderr",
     "output_type": "stream",
     "text": [
      "\r 86%|███████████████████████████████████████████▋       | 4873420/5681827 [02:27<00:24, 32970.68r/s]"
     ]
    },
    {
     "name": "stderr",
     "output_type": "stream",
     "text": [
      "\r 86%|███████████████████████████████████████████▊       | 4876736/5681827 [02:27<00:24, 32970.59r/s]"
     ]
    },
    {
     "name": "stderr",
     "output_type": "stream",
     "text": [
      "\r 86%|███████████████████████████████████████████▊       | 4880059/5681827 [02:28<00:24, 32970.77r/s]"
     ]
    },
    {
     "name": "stderr",
     "output_type": "stream",
     "text": [
      "\r 86%|███████████████████████████████████████████▊       | 4883371/5681827 [02:28<00:24, 32970.68r/s]"
     ]
    },
    {
     "name": "stderr",
     "output_type": "stream",
     "text": [
      "\r 86%|███████████████████████████████████████████▊       | 4886675/5681827 [02:28<00:24, 32969.37r/s]"
     ]
    },
    {
     "name": "stderr",
     "output_type": "stream",
     "text": [
      "\r 86%|███████████████████████████████████████████▉       | 4889991/5681827 [02:28<00:24, 32969.30r/s]"
     ]
    },
    {
     "name": "stderr",
     "output_type": "stream",
     "text": [
      "\r 86%|███████████████████████████████████████████▉       | 4893250/5681827 [02:28<00:23, 32969.02r/s]"
     ]
    },
    {
     "name": "stderr",
     "output_type": "stream",
     "text": [
      "\r 86%|███████████████████████████████████████████▉       | 4896508/5681827 [02:28<00:23, 32967.87r/s]"
     ]
    },
    {
     "name": "stderr",
     "output_type": "stream",
     "text": [
      "\r 86%|███████████████████████████████████████████▉       | 4899923/5681827 [02:28<00:23, 32968.44r/s]"
     ]
    },
    {
     "name": "stderr",
     "output_type": "stream",
     "text": [
      "\r 86%|████████████████████████████████████████████       | 4903328/5681827 [02:28<00:23, 32968.95r/s]"
     ]
    },
    {
     "name": "stderr",
     "output_type": "stream",
     "text": [
      "\r 86%|████████████████████████████████████████████       | 4906801/5681827 [02:28<00:23, 32969.91r/s]"
     ]
    },
    {
     "name": "stderr",
     "output_type": "stream",
     "text": [
      "\r 86%|████████████████████████████████████████████       | 4910232/5681827 [02:28<00:23, 32970.60r/s]"
     ]
    },
    {
     "name": "stderr",
     "output_type": "stream",
     "text": [
      "\r 86%|████████████████████████████████████████████       | 4913638/5681827 [02:29<00:23, 32971.33r/s]"
     ]
    },
    {
     "name": "stderr",
     "output_type": "stream",
     "text": [
      "\r 87%|████████████████████████████████████████████▏      | 4917103/5681827 [02:29<00:23, 32972.23r/s]"
     ]
    },
    {
     "name": "stderr",
     "output_type": "stream",
     "text": [
      "\r 87%|████████████████████████████████████████████▏      | 4920588/5681827 [02:29<00:23, 32973.27r/s]"
     ]
    },
    {
     "name": "stderr",
     "output_type": "stream",
     "text": [
      "\r 87%|████████████████████████████████████████████▏      | 4923997/5681827 [02:29<00:22, 32973.96r/s]"
     ]
    },
    {
     "name": "stderr",
     "output_type": "stream",
     "text": [
      "\r 87%|████████████████████████████████████████████▏      | 4927449/5681827 [02:29<00:22, 32974.85r/s]"
     ]
    },
    {
     "name": "stderr",
     "output_type": "stream",
     "text": [
      "\r 87%|████████████████████████████████████████████▎      | 4930862/5681827 [02:29<00:22, 32975.62r/s]"
     ]
    },
    {
     "name": "stderr",
     "output_type": "stream",
     "text": [
      "\r 87%|████████████████████████████████████████████▎      | 4934275/5681827 [02:29<00:22, 32976.39r/s]"
     ]
    },
    {
     "name": "stderr",
     "output_type": "stream",
     "text": [
      "\r 87%|████████████████████████████████████████████▎      | 4937688/5681827 [02:29<00:22, 32976.94r/s]"
     ]
    },
    {
     "name": "stderr",
     "output_type": "stream",
     "text": [
      "\r 87%|████████████████████████████████████████████▎      | 4941091/5681827 [02:29<00:22, 32977.43r/s]"
     ]
    },
    {
     "name": "stderr",
     "output_type": "stream",
     "text": [
      "\r 87%|████████████████████████████████████████████▍      | 4944507/5681827 [02:29<00:22, 32978.01r/s]"
     ]
    },
    {
     "name": "stderr",
     "output_type": "stream",
     "text": [
      "\r 87%|████████████████████████████████████████████▍      | 4947898/5681827 [02:30<00:22, 32978.63r/s]"
     ]
    },
    {
     "name": "stderr",
     "output_type": "stream",
     "text": [
      "\r 87%|████████████████████████████████████████████▍      | 4951342/5681827 [02:30<00:22, 32979.39r/s]"
     ]
    },
    {
     "name": "stderr",
     "output_type": "stream",
     "text": [
      "\r 87%|████████████████████████████████████████████▍      | 4954788/5681827 [02:30<00:22, 32980.37r/s]"
     ]
    },
    {
     "name": "stderr",
     "output_type": "stream",
     "text": [
      "\r 87%|████████████████████████████████████████████▌      | 4958270/5681827 [02:30<00:21, 32981.37r/s]"
     ]
    },
    {
     "name": "stderr",
     "output_type": "stream",
     "text": [
      "\r 87%|████████████████████████████████████████████▌      | 4961693/5681827 [02:30<00:21, 32981.11r/s]"
     ]
    },
    {
     "name": "stderr",
     "output_type": "stream",
     "text": [
      "\r 87%|████████████████████████████████████████████▌      | 4965098/5681827 [02:30<00:21, 32981.82r/s]"
     ]
    },
    {
     "name": "stderr",
     "output_type": "stream",
     "text": [
      "\r 87%|████████████████████████████████████████████▌      | 4968478/5681827 [02:30<00:21, 32981.85r/s]"
     ]
    },
    {
     "name": "stderr",
     "output_type": "stream",
     "text": [
      "\r 88%|████████████████████████████████████████████▋      | 4971854/5681827 [02:30<00:21, 32982.34r/s]"
     ]
    },
    {
     "name": "stderr",
     "output_type": "stream",
     "text": [
      "\r 88%|████████████████████████████████████████████▋      | 4975251/5681827 [02:30<00:21, 32982.98r/s]"
     ]
    },
    {
     "name": "stderr",
     "output_type": "stream",
     "text": [
      "\r 88%|████████████████████████████████████████████▋      | 4978729/5681827 [02:30<00:21, 32984.07r/s]"
     ]
    },
    {
     "name": "stderr",
     "output_type": "stream",
     "text": [
      "\r 88%|████████████████████████████████████████████▋      | 4982197/5681827 [02:31<00:21, 32985.09r/s]"
     ]
    },
    {
     "name": "stderr",
     "output_type": "stream",
     "text": [
      "\r 88%|████████████████████████████████████████████▊      | 4985629/5681827 [02:31<00:21, 32985.88r/s]"
     ]
    },
    {
     "name": "stderr",
     "output_type": "stream",
     "text": [
      "\r 88%|████████████████████████████████████████████▊      | 4989045/5681827 [02:31<00:21, 32986.34r/s]"
     ]
    },
    {
     "name": "stderr",
     "output_type": "stream",
     "text": [
      "\r 88%|████████████████████████████████████████████▊      | 4992446/5681827 [02:31<00:20, 32986.95r/s]"
     ]
    },
    {
     "name": "stderr",
     "output_type": "stream",
     "text": [
      "\r 88%|████████████████████████████████████████████▊      | 4995845/5681827 [02:31<00:20, 32987.20r/s]"
     ]
    },
    {
     "name": "stderr",
     "output_type": "stream",
     "text": [
      "\r 88%|████████████████████████████████████████████▊      | 4999232/5681827 [02:31<00:20, 32987.67r/s]"
     ]
    },
    {
     "name": "stderr",
     "output_type": "stream",
     "text": [
      "\r 88%|████████████████████████████████████████████▉      | 5002640/5681827 [02:31<00:20, 32988.29r/s]"
     ]
    },
    {
     "name": "stderr",
     "output_type": "stream",
     "text": [
      "\r 88%|████████████████████████████████████████████▉      | 5006022/5681827 [02:31<00:20, 32987.67r/s]"
     ]
    },
    {
     "name": "stderr",
     "output_type": "stream",
     "text": [
      "\r 88%|████████████████████████████████████████████▉      | 5009458/5681827 [02:31<00:20, 32988.57r/s]"
     ]
    },
    {
     "name": "stderr",
     "output_type": "stream",
     "text": [
      "\r 88%|████████████████████████████████████████████▉      | 5012920/5681827 [02:31<00:20, 32989.55r/s]"
     ]
    },
    {
     "name": "stderr",
     "output_type": "stream",
     "text": [
      "\r 88%|█████████████████████████████████████████████      | 5016307/5681827 [02:32<00:20, 32990.01r/s]"
     ]
    },
    {
     "name": "stderr",
     "output_type": "stream",
     "text": [
      "\r 88%|█████████████████████████████████████████████      | 5019708/5681827 [02:32<00:20, 32990.59r/s]"
     ]
    },
    {
     "name": "stderr",
     "output_type": "stream",
     "text": [
      "\r 88%|█████████████████████████████████████████████      | 5023168/5681827 [02:32<00:19, 32991.38r/s]"
     ]
    },
    {
     "name": "stderr",
     "output_type": "stream",
     "text": [
      "\r 88%|█████████████████████████████████████████████      | 5026562/5681827 [02:32<00:19, 32991.79r/s]"
     ]
    },
    {
     "name": "stderr",
     "output_type": "stream",
     "text": [
      "\r 89%|█████████████████████████████████████████████▏     | 5029946/5681827 [02:32<00:19, 32987.96r/s]"
     ]
    },
    {
     "name": "stderr",
     "output_type": "stream",
     "text": [
      "\r 89%|█████████████████████████████████████████████▏     | 5033326/5681827 [02:32<00:19, 32988.33r/s]"
     ]
    },
    {
     "name": "stderr",
     "output_type": "stream",
     "text": [
      "\r 89%|█████████████████████████████████████████████▏     | 5036707/5681827 [02:32<00:19, 32988.65r/s]"
     ]
    },
    {
     "name": "stderr",
     "output_type": "stream",
     "text": [
      "\r 89%|█████████████████████████████████████████████▏     | 5040077/5681827 [02:32<00:19, 32988.91r/s]"
     ]
    },
    {
     "name": "stderr",
     "output_type": "stream",
     "text": [
      "\r 89%|█████████████████████████████████████████████▎     | 5043489/5681827 [02:32<00:19, 32989.59r/s]"
     ]
    },
    {
     "name": "stderr",
     "output_type": "stream",
     "text": [
      "\r 89%|█████████████████████████████████████████████▎     | 5046820/5681827 [02:32<00:19, 32988.78r/s]"
     ]
    },
    {
     "name": "stderr",
     "output_type": "stream",
     "text": [
      "\r 89%|█████████████████████████████████████████████▎     | 5050243/5681827 [02:33<00:19, 32989.38r/s]"
     ]
    },
    {
     "name": "stderr",
     "output_type": "stream",
     "text": [
      "\r 89%|█████████████████████████████████████████████▎     | 5053588/5681827 [02:33<00:19, 32989.67r/s]"
     ]
    },
    {
     "name": "stderr",
     "output_type": "stream",
     "text": [
      "\r 89%|█████████████████████████████████████████████▍     | 5057025/5681827 [02:33<00:18, 32990.36r/s]"
     ]
    },
    {
     "name": "stderr",
     "output_type": "stream",
     "text": [
      "\r 89%|█████████████████████████████████████████████▍     | 5060413/5681827 [02:33<00:18, 32990.74r/s]"
     ]
    },
    {
     "name": "stderr",
     "output_type": "stream",
     "text": [
      "\r 89%|█████████████████████████████████████████████▍     | 5063764/5681827 [02:33<00:18, 32990.86r/s]"
     ]
    },
    {
     "name": "stderr",
     "output_type": "stream",
     "text": [
      "\r 89%|█████████████████████████████████████████████▍     | 5067119/5681827 [02:33<00:18, 32991.02r/s]"
     ]
    },
    {
     "name": "stderr",
     "output_type": "stream",
     "text": [
      "\r 89%|█████████████████████████████████████████████▌     | 5070530/5681827 [02:33<00:18, 32991.74r/s]"
     ]
    },
    {
     "name": "stderr",
     "output_type": "stream",
     "text": [
      "\r 89%|█████████████████████████████████████████████▌     | 5074022/5681827 [02:33<00:18, 32992.78r/s]"
     ]
    },
    {
     "name": "stderr",
     "output_type": "stream",
     "text": [
      "\r 89%|█████████████████████████████████████████████▌     | 5077453/5681827 [02:33<00:18, 32993.43r/s]"
     ]
    },
    {
     "name": "stderr",
     "output_type": "stream",
     "text": [
      "\r 89%|█████████████████████████████████████████████▌     | 5080893/5681827 [02:33<00:18, 32994.34r/s]"
     ]
    },
    {
     "name": "stderr",
     "output_type": "stream",
     "text": [
      "\r 89%|█████████████████████████████████████████████▋     | 5084309/5681827 [02:34<00:18, 32994.89r/s]"
     ]
    },
    {
     "name": "stderr",
     "output_type": "stream",
     "text": [
      "\r 90%|█████████████████████████████████████████████▋     | 5087714/5681827 [02:34<00:18, 32995.37r/s]"
     ]
    },
    {
     "name": "stderr",
     "output_type": "stream",
     "text": [
      "\r 90%|█████████████████████████████████████████████▋     | 5091175/5681827 [02:34<00:17, 32996.41r/s]"
     ]
    },
    {
     "name": "stderr",
     "output_type": "stream",
     "text": [
      "\r 90%|█████████████████████████████████████████████▋     | 5094587/5681827 [02:34<00:17, 32995.86r/s]"
     ]
    },
    {
     "name": "stderr",
     "output_type": "stream",
     "text": [
      "\r 90%|█████████████████████████████████████████████▊     | 5098056/5681827 [02:34<00:17, 32996.95r/s]"
     ]
    },
    {
     "name": "stderr",
     "output_type": "stream",
     "text": [
      "\r 90%|█████████████████████████████████████████████▊     | 5101499/5681827 [02:34<00:17, 32997.67r/s]"
     ]
    },
    {
     "name": "stderr",
     "output_type": "stream",
     "text": [
      "\r 90%|█████████████████████████████████████████████▊     | 5104983/5681827 [02:34<00:17, 32998.86r/s]"
     ]
    },
    {
     "name": "stderr",
     "output_type": "stream",
     "text": [
      "\r 90%|█████████████████████████████████████████████▊     | 5108423/5681827 [02:34<00:17, 32999.76r/s]"
     ]
    },
    {
     "name": "stderr",
     "output_type": "stream",
     "text": [
      "\r 90%|█████████████████████████████████████████████▉     | 5111850/5681827 [02:34<00:17, 33000.38r/s]"
     ]
    },
    {
     "name": "stderr",
     "output_type": "stream",
     "text": [
      "\r 90%|█████████████████████████████████████████████▉     | 5115268/5681827 [02:35<00:17, 33000.71r/s]"
     ]
    },
    {
     "name": "stderr",
     "output_type": "stream",
     "text": [
      "\r 90%|█████████████████████████████████████████████▉     | 5118680/5681827 [02:35<00:17, 33001.23r/s]"
     ]
    },
    {
     "name": "stderr",
     "output_type": "stream",
     "text": [
      "\r 90%|█████████████████████████████████████████████▉     | 5122073/5681827 [02:35<00:16, 33001.61r/s]"
     ]
    },
    {
     "name": "stderr",
     "output_type": "stream",
     "text": [
      "\r 90%|██████████████████████████████████████████████     | 5125538/5681827 [02:35<00:16, 33002.47r/s]"
     ]
    },
    {
     "name": "stderr",
     "output_type": "stream",
     "text": [
      "\r 90%|██████████████████████████████████████████████     | 5128936/5681827 [02:35<00:16, 33003.09r/s]"
     ]
    },
    {
     "name": "stderr",
     "output_type": "stream",
     "text": [
      "\r 90%|██████████████████████████████████████████████     | 5132339/5681827 [02:35<00:16, 33003.55r/s]"
     ]
    },
    {
     "name": "stderr",
     "output_type": "stream",
     "text": [
      "\r 90%|██████████████████████████████████████████████     | 5135757/5681827 [02:35<00:16, 33004.10r/s]"
     ]
    },
    {
     "name": "stderr",
     "output_type": "stream",
     "text": [
      "\r 90%|██████████████████████████████████████████████▏    | 5139179/5681827 [02:35<00:16, 33004.88r/s]"
     ]
    },
    {
     "name": "stderr",
     "output_type": "stream",
     "text": [
      "\r 91%|██████████████████████████████████████████████▏    | 5142578/5681827 [02:35<00:16, 33005.09r/s]"
     ]
    },
    {
     "name": "stderr",
     "output_type": "stream",
     "text": [
      "\r 91%|██████████████████████████████████████████████▏    | 5145957/5681827 [02:35<00:16, 33004.95r/s]"
     ]
    },
    {
     "name": "stderr",
     "output_type": "stream",
     "text": [
      "\r 91%|██████████████████████████████████████████████▏    | 5149358/5681827 [02:36<00:16, 33005.38r/s]"
     ]
    },
    {
     "name": "stderr",
     "output_type": "stream",
     "text": [
      "\r 91%|██████████████████████████████████████████████▎    | 5152845/5681827 [02:36<00:16, 33006.37r/s]"
     ]
    },
    {
     "name": "stderr",
     "output_type": "stream",
     "text": [
      "\r 91%|██████████████████████████████████████████████▎    | 5156261/5681827 [02:36<00:15, 33007.11r/s]"
     ]
    },
    {
     "name": "stderr",
     "output_type": "stream",
     "text": [
      "\r 91%|██████████████████████████████████████████████▎    | 5159724/5681827 [02:36<00:15, 33007.94r/s]"
     ]
    },
    {
     "name": "stderr",
     "output_type": "stream",
     "text": [
      "\r 91%|██████████████████████████████████████████████▎    | 5163218/5681827 [02:36<00:15, 33009.09r/s]"
     ]
    },
    {
     "name": "stderr",
     "output_type": "stream",
     "text": [
      "\r 91%|██████████████████████████████████████████████▍    | 5166657/5681827 [02:36<00:15, 33009.86r/s]"
     ]
    },
    {
     "name": "stderr",
     "output_type": "stream",
     "text": [
      "\r 91%|██████████████████████████████████████████████▍    | 5170126/5681827 [02:36<00:15, 33010.74r/s]"
     ]
    },
    {
     "name": "stderr",
     "output_type": "stream",
     "text": [
      "\r 91%|██████████████████████████████████████████████▍    | 5173573/5681827 [02:36<00:15, 33011.66r/s]"
     ]
    },
    {
     "name": "stderr",
     "output_type": "stream",
     "text": [
      "\r 91%|██████████████████████████████████████████████▍    | 5177007/5681827 [02:36<00:15, 33011.04r/s]"
     ]
    },
    {
     "name": "stderr",
     "output_type": "stream",
     "text": [
      "\r 91%|██████████████████████████████████████████████▍    | 5180396/5681827 [02:36<00:15, 33011.39r/s]"
     ]
    },
    {
     "name": "stderr",
     "output_type": "stream",
     "text": [
      "\r 91%|██████████████████████████████████████████████▌    | 5183807/5681827 [02:37<00:15, 33012.08r/s]"
     ]
    },
    {
     "name": "stderr",
     "output_type": "stream",
     "text": [
      "\r 91%|██████████████████████████████████████████████▌    | 5187294/5681827 [02:37<00:14, 33013.06r/s]"
     ]
    },
    {
     "name": "stderr",
     "output_type": "stream",
     "text": [
      "\r 91%|██████████████████████████████████████████████▌    | 5190726/5681827 [02:37<00:14, 33013.71r/s]"
     ]
    },
    {
     "name": "stderr",
     "output_type": "stream",
     "text": [
      "\r 91%|██████████████████████████████████████████████▌    | 5194128/5681827 [02:37<00:14, 33014.12r/s]"
     ]
    },
    {
     "name": "stderr",
     "output_type": "stream",
     "text": [
      "\r 91%|██████████████████████████████████████████████▋    | 5197519/5681827 [02:37<00:14, 33014.26r/s]"
     ]
    },
    {
     "name": "stderr",
     "output_type": "stream",
     "text": [
      "\r 92%|██████████████████████████████████████████████▋    | 5200890/5681827 [02:37<00:14, 33013.42r/s]"
     ]
    },
    {
     "name": "stderr",
     "output_type": "stream",
     "text": [
      "\r 92%|██████████████████████████████████████████████▋    | 5204223/5681827 [02:37<00:14, 33013.42r/s]"
     ]
    },
    {
     "name": "stderr",
     "output_type": "stream",
     "text": [
      "\r 92%|██████████████████████████████████████████████▋    | 5207585/5681827 [02:37<00:14, 33013.73r/s]"
     ]
    },
    {
     "name": "stderr",
     "output_type": "stream",
     "text": [
      "\r 92%|██████████████████████████████████████████████▊    | 5210907/5681827 [02:37<00:14, 33013.85r/s]"
     ]
    },
    {
     "name": "stderr",
     "output_type": "stream",
     "text": [
      "\r 92%|██████████████████████████████████████████████▊    | 5214228/5681827 [02:37<00:14, 33013.87r/s]"
     ]
    },
    {
     "name": "stderr",
     "output_type": "stream",
     "text": [
      "\r 92%|██████████████████████████████████████████████▊    | 5217641/5681827 [02:38<00:14, 33014.58r/s]"
     ]
    },
    {
     "name": "stderr",
     "output_type": "stream",
     "text": [
      "\r 92%|██████████████████████████████████████████████▊    | 5220987/5681827 [02:38<00:13, 33014.55r/s]"
     ]
    },
    {
     "name": "stderr",
     "output_type": "stream",
     "text": [
      "\r 92%|██████████████████████████████████████████████▉    | 5224428/5681827 [02:38<00:13, 33015.33r/s]"
     ]
    },
    {
     "name": "stderr",
     "output_type": "stream",
     "text": [
      "\r 92%|██████████████████████████████████████████████▉    | 5227861/5681827 [02:38<00:13, 33016.07r/s]"
     ]
    },
    {
     "name": "stderr",
     "output_type": "stream",
     "text": [
      "\r 92%|██████████████████████████████████████████████▉    | 5231258/5681827 [02:38<00:13, 33016.67r/s]"
     ]
    },
    {
     "name": "stderr",
     "output_type": "stream",
     "text": [
      "\r 92%|██████████████████████████████████████████████▉    | 5234641/5681827 [02:38<00:13, 33017.10r/s]"
     ]
    },
    {
     "name": "stderr",
     "output_type": "stream",
     "text": [
      "\r 92%|███████████████████████████████████████████████    | 5238020/5681827 [02:38<00:13, 33017.28r/s]"
     ]
    },
    {
     "name": "stderr",
     "output_type": "stream",
     "text": [
      "\r 92%|███████████████████████████████████████████████    | 5241384/5681827 [02:38<00:13, 33017.55r/s]"
     ]
    },
    {
     "name": "stderr",
     "output_type": "stream",
     "text": [
      "\r 92%|███████████████████████████████████████████████    | 5244798/5681827 [02:38<00:13, 33018.25r/s]"
     ]
    },
    {
     "name": "stderr",
     "output_type": "stream",
     "text": [
      "\r 92%|███████████████████████████████████████████████    | 5248259/5681827 [02:38<00:13, 33019.16r/s]"
     ]
    },
    {
     "name": "stderr",
     "output_type": "stream",
     "text": [
      "\r 92%|███████████████████████████████████████████████▏   | 5251673/5681827 [02:39<00:13, 33019.78r/s]"
     ]
    },
    {
     "name": "stderr",
     "output_type": "stream",
     "text": [
      "\r 92%|███████████████████████████████████████████████▏   | 5255092/5681827 [02:39<00:12, 33020.41r/s]"
     ]
    },
    {
     "name": "stderr",
     "output_type": "stream",
     "text": [
      "\r 93%|███████████████████████████████████████████████▏   | 5258491/5681827 [02:39<00:12, 33020.29r/s]"
     ]
    },
    {
     "name": "stderr",
     "output_type": "stream",
     "text": [
      "\r 93%|███████████████████████████████████████████████▏   | 5261856/5681827 [02:39<00:12, 33019.01r/s]"
     ]
    },
    {
     "name": "stderr",
     "output_type": "stream",
     "text": [
      "\r 93%|███████████████████████████████████████████████▎   | 5265283/5681827 [02:39<00:12, 33019.72r/s]"
     ]
    },
    {
     "name": "stderr",
     "output_type": "stream",
     "text": [
      "\r 93%|███████████████████████████████████████████████▎   | 5268648/5681827 [02:39<00:12, 33019.98r/s]"
     ]
    },
    {
     "name": "stderr",
     "output_type": "stream",
     "text": [
      "\r 93%|███████████████████████████████████████████████▎   | 5271989/5681827 [02:39<00:12, 33020.16r/s]"
     ]
    },
    {
     "name": "stderr",
     "output_type": "stream",
     "text": [
      "\r 93%|███████████████████████████████████████████████▎   | 5275429/5681827 [02:39<00:12, 33020.92r/s]"
     ]
    },
    {
     "name": "stderr",
     "output_type": "stream",
     "text": [
      "\r 93%|███████████████████████████████████████████████▍   | 5278793/5681827 [02:39<00:12, 33021.23r/s]"
     ]
    },
    {
     "name": "stderr",
     "output_type": "stream",
     "text": [
      "\r 93%|███████████████████████████████████████████████▍   | 5282164/5681827 [02:39<00:12, 33021.57r/s]"
     ]
    },
    {
     "name": "stderr",
     "output_type": "stream",
     "text": [
      "\r 93%|███████████████████████████████████████████████▍   | 5285606/5681827 [02:40<00:11, 33022.24r/s]"
     ]
    },
    {
     "name": "stderr",
     "output_type": "stream",
     "text": [
      "\r 93%|███████████████████████████████████████████████▍   | 5289039/5681827 [02:40<00:11, 33022.88r/s]"
     ]
    },
    {
     "name": "stderr",
     "output_type": "stream",
     "text": [
      "\r 93%|███████████████████████████████████████████████▌   | 5292445/5681827 [02:40<00:11, 33023.50r/s]"
     ]
    },
    {
     "name": "stderr",
     "output_type": "stream",
     "text": [
      "\r 93%|███████████████████████████████████████████████▌   | 5295833/5681827 [02:40<00:11, 33023.84r/s]"
     ]
    },
    {
     "name": "stderr",
     "output_type": "stream",
     "text": [
      "\r 93%|███████████████████████████████████████████████▌   | 5299211/5681827 [02:40<00:11, 33023.90r/s]"
     ]
    },
    {
     "name": "stderr",
     "output_type": "stream",
     "text": [
      "\r 93%|███████████████████████████████████████████████▌   | 5302611/5681827 [02:40<00:11, 33024.30r/s]"
     ]
    },
    {
     "name": "stderr",
     "output_type": "stream",
     "text": [
      "\r 93%|███████████████████████████████████████████████▋   | 5306000/5681827 [02:40<00:11, 33024.66r/s]"
     ]
    },
    {
     "name": "stderr",
     "output_type": "stream",
     "text": [
      "\r 93%|███████████████████████████████████████████████▋   | 5309385/5681827 [02:40<00:11, 33025.15r/s]"
     ]
    },
    {
     "name": "stderr",
     "output_type": "stream",
     "text": [
      "\r 94%|███████████████████████████████████████████████▋   | 5312855/5681827 [02:40<00:11, 33026.14r/s]"
     ]
    },
    {
     "name": "stderr",
     "output_type": "stream",
     "text": [
      "\r 94%|███████████████████████████████████████████████▋   | 5316299/5681827 [02:40<00:11, 33026.87r/s]"
     ]
    },
    {
     "name": "stderr",
     "output_type": "stream",
     "text": [
      "\r 94%|███████████████████████████████████████████████▋   | 5319742/5681827 [02:41<00:10, 33027.54r/s]"
     ]
    },
    {
     "name": "stderr",
     "output_type": "stream",
     "text": [
      "\r 94%|███████████████████████████████████████████████▊   | 5323147/5681827 [02:41<00:10, 33028.18r/s]"
     ]
    },
    {
     "name": "stderr",
     "output_type": "stream",
     "text": [
      "\r 94%|███████████████████████████████████████████████▊   | 5326583/5681827 [02:41<00:10, 33028.80r/s]"
     ]
    },
    {
     "name": "stderr",
     "output_type": "stream",
     "text": [
      "\r 94%|███████████████████████████████████████████████▊   | 5330019/5681827 [02:41<00:10, 33029.43r/s]"
     ]
    },
    {
     "name": "stderr",
     "output_type": "stream",
     "text": [
      "\r 94%|███████████████████████████████████████████████▊   | 5333423/5681827 [02:41<00:10, 33029.64r/s]"
     ]
    },
    {
     "name": "stderr",
     "output_type": "stream",
     "text": [
      "\r 94%|███████████████████████████████████████████████▉   | 5336823/5681827 [02:41<00:10, 33030.04r/s]"
     ]
    },
    {
     "name": "stderr",
     "output_type": "stream",
     "text": [
      "\r 94%|███████████████████████████████████████████████▉   | 5340202/5681827 [02:42<00:10, 32938.33r/s]"
     ]
    },
    {
     "name": "stderr",
     "output_type": "stream",
     "text": [
      "\r 94%|███████████████████████████████████████████████▉   | 5343691/5681827 [02:42<00:10, 32939.34r/s]"
     ]
    },
    {
     "name": "stderr",
     "output_type": "stream",
     "text": [
      "\r 94%|███████████████████████████████████████████████▉   | 5347205/5681827 [02:42<00:10, 32940.64r/s]"
     ]
    },
    {
     "name": "stderr",
     "output_type": "stream",
     "text": [
      "\r 94%|████████████████████████████████████████████████   | 5350714/5681827 [02:42<00:10, 32941.90r/s]"
     ]
    },
    {
     "name": "stderr",
     "output_type": "stream",
     "text": [
      "\r 94%|████████████████████████████████████████████████   | 5353882/5681827 [02:42<00:09, 32940.86r/s]"
     ]
    },
    {
     "name": "stderr",
     "output_type": "stream",
     "text": [
      "\r 94%|████████████████████████████████████████████████   | 5357251/5681827 [02:42<00:09, 32941.28r/s]"
     ]
    },
    {
     "name": "stderr",
     "output_type": "stream",
     "text": [
      "\r 94%|████████████████████████████████████████████████   | 5360778/5681827 [02:42<00:09, 32942.52r/s]"
     ]
    },
    {
     "name": "stderr",
     "output_type": "stream",
     "text": [
      "\r 94%|████████████████████████████████████████████████▏  | 5364273/5681827 [02:42<00:09, 32943.68r/s]"
     ]
    },
    {
     "name": "stderr",
     "output_type": "stream",
     "text": [
      "\r 94%|████████████████████████████████████████████████▏  | 5367710/5681827 [02:42<00:09, 32944.49r/s]"
     ]
    },
    {
     "name": "stderr",
     "output_type": "stream",
     "text": [
      "\r 95%|████████████████████████████████████████████████▏  | 5371136/5681827 [02:43<00:09, 32945.23r/s]"
     ]
    },
    {
     "name": "stderr",
     "output_type": "stream",
     "text": [
      "\r 95%|████████████████████████████████████████████████▏  | 5374561/5681827 [02:43<00:09, 32945.95r/s]"
     ]
    },
    {
     "name": "stderr",
     "output_type": "stream",
     "text": [
      "\r 95%|████████████████████████████████████████████████▎  | 5377957/5681827 [02:43<00:09, 32946.39r/s]"
     ]
    },
    {
     "name": "stderr",
     "output_type": "stream",
     "text": [
      "\r 95%|████████████████████████████████████████████████▎  | 5381344/5681827 [02:43<00:09, 32946.49r/s]"
     ]
    },
    {
     "name": "stderr",
     "output_type": "stream",
     "text": [
      "\r 95%|████████████████████████████████████████████████▎  | 5384759/5681827 [02:43<00:09, 32947.14r/s]"
     ]
    },
    {
     "name": "stderr",
     "output_type": "stream",
     "text": [
      "\r 95%|████████████████████████████████████████████████▎  | 5388191/5681827 [02:43<00:08, 32947.90r/s]"
     ]
    },
    {
     "name": "stderr",
     "output_type": "stream",
     "text": [
      "\r 95%|████████████████████████████████████████████████▍  | 5391603/5681827 [02:43<00:08, 32948.54r/s]"
     ]
    },
    {
     "name": "stderr",
     "output_type": "stream",
     "text": [
      "\r 95%|████████████████████████████████████████████████▍  | 5395057/5681827 [02:43<00:08, 32949.42r/s]"
     ]
    },
    {
     "name": "stderr",
     "output_type": "stream",
     "text": [
      "\r 95%|████████████████████████████████████████████████▍  | 5398491/5681827 [02:43<00:08, 32950.20r/s]"
     ]
    },
    {
     "name": "stderr",
     "output_type": "stream",
     "text": [
      "\r 95%|████████████████████████████████████████████████▍  | 5401902/5681827 [02:43<00:08, 32950.82r/s]"
     ]
    },
    {
     "name": "stderr",
     "output_type": "stream",
     "text": [
      "\r 95%|████████████████████████████████████████████████▌  | 5405312/5681827 [02:44<00:08, 32951.43r/s]"
     ]
    },
    {
     "name": "stderr",
     "output_type": "stream",
     "text": [
      "\r 95%|████████████████████████████████████████████████▌  | 5408715/5681827 [02:44<00:08, 32952.02r/s]"
     ]
    },
    {
     "name": "stderr",
     "output_type": "stream",
     "text": [
      "\r 95%|████████████████████████████████████████████████▌  | 5412117/5681827 [02:44<00:08, 32952.59r/s]"
     ]
    },
    {
     "name": "stderr",
     "output_type": "stream",
     "text": [
      "\r 95%|████████████████████████████████████████████████▌  | 5415514/5681827 [02:44<00:08, 32952.75r/s]"
     ]
    },
    {
     "name": "stderr",
     "output_type": "stream",
     "text": [
      "\r 95%|████████████████████████████████████████████████▋  | 5418888/5681827 [02:44<00:07, 32953.15r/s]"
     ]
    },
    {
     "name": "stderr",
     "output_type": "stream",
     "text": [
      "\r 95%|████████████████████████████████████████████████▋  | 5422258/5681827 [02:44<00:07, 32953.20r/s]"
     ]
    },
    {
     "name": "stderr",
     "output_type": "stream",
     "text": [
      "\r 95%|████████████████████████████████████████████████▋  | 5425630/5681827 [02:44<00:07, 32953.65r/s]"
     ]
    },
    {
     "name": "stderr",
     "output_type": "stream",
     "text": [
      "\r 96%|████████████████████████████████████████████████▋  | 5429086/5681827 [02:44<00:07, 32954.59r/s]"
     ]
    },
    {
     "name": "stderr",
     "output_type": "stream",
     "text": [
      "\r 96%|████████████████████████████████████████████████▊  | 5432483/5681827 [02:44<00:07, 32955.17r/s]"
     ]
    },
    {
     "name": "stderr",
     "output_type": "stream",
     "text": [
      "\r 96%|████████████████████████████████████████████████▊  | 5435881/5681827 [02:44<00:07, 32955.74r/s]"
     ]
    },
    {
     "name": "stderr",
     "output_type": "stream",
     "text": [
      "\r 96%|████████████████████████████████████████████████▊  | 5439275/5681827 [02:45<00:07, 32956.27r/s]"
     ]
    },
    {
     "name": "stderr",
     "output_type": "stream",
     "text": [
      "\r 96%|████████████████████████████████████████████████▊  | 5442686/5681827 [02:45<00:07, 32956.88r/s]"
     ]
    },
    {
     "name": "stderr",
     "output_type": "stream",
     "text": [
      "\r 96%|████████████████████████████████████████████████▉  | 5446075/5681827 [02:45<00:07, 32956.95r/s]"
     ]
    },
    {
     "name": "stderr",
     "output_type": "stream",
     "text": [
      "\r 96%|████████████████████████████████████████████████▉  | 5449439/5681827 [02:45<00:07, 32956.49r/s]"
     ]
    },
    {
     "name": "stderr",
     "output_type": "stream",
     "text": [
      "\r 96%|████████████████████████████████████████████████▉  | 5452761/5681827 [02:45<00:06, 32956.48r/s]"
     ]
    },
    {
     "name": "stderr",
     "output_type": "stream",
     "text": [
      "\r 96%|████████████████████████████████████████████████▉  | 5456128/5681827 [02:45<00:06, 32956.75r/s]"
     ]
    },
    {
     "name": "stderr",
     "output_type": "stream",
     "text": [
      "\r 96%|█████████████████████████████████████████████████  | 5459566/5681827 [02:45<00:06, 32957.43r/s]"
     ]
    },
    {
     "name": "stderr",
     "output_type": "stream",
     "text": [
      "\r 96%|█████████████████████████████████████████████████  | 5462970/5681827 [02:45<00:06, 32957.92r/s]"
     ]
    },
    {
     "name": "stderr",
     "output_type": "stream",
     "text": [
      "\r 96%|█████████████████████████████████████████████████  | 5466326/5681827 [02:45<00:06, 32958.12r/s]"
     ]
    },
    {
     "name": "stderr",
     "output_type": "stream",
     "text": [
      "\r 96%|█████████████████████████████████████████████████  | 5469675/5681827 [02:45<00:06, 32958.16r/s]"
     ]
    },
    {
     "name": "stderr",
     "output_type": "stream",
     "text": [
      "\r 96%|█████████████████████████████████████████████████▏ | 5473063/5681827 [02:46<00:06, 32958.64r/s]"
     ]
    },
    {
     "name": "stderr",
     "output_type": "stream",
     "text": [
      "\r 96%|█████████████████████████████████████████████████▏ | 5476532/5681827 [02:46<00:06, 32959.61r/s]"
     ]
    },
    {
     "name": "stderr",
     "output_type": "stream",
     "text": [
      "\r 96%|█████████████████████████████████████████████████▏ | 5479970/5681827 [02:46<00:06, 32960.40r/s]"
     ]
    },
    {
     "name": "stderr",
     "output_type": "stream",
     "text": [
      "\r 97%|█████████████████████████████████████████████████▏ | 5483364/5681827 [02:46<00:06, 32960.74r/s]"
     ]
    },
    {
     "name": "stderr",
     "output_type": "stream",
     "text": [
      "\r 97%|█████████████████████████████████████████████████▏ | 5486745/5681827 [02:46<00:05, 32960.89r/s]"
     ]
    },
    {
     "name": "stderr",
     "output_type": "stream",
     "text": [
      "\r 97%|█████████████████████████████████████████████████▎ | 5490109/5681827 [02:46<00:05, 32961.03r/s]"
     ]
    },
    {
     "name": "stderr",
     "output_type": "stream",
     "text": [
      "\r 97%|█████████████████████████████████████████████████▎ | 5493459/5681827 [02:46<00:05, 32961.19r/s]"
     ]
    },
    {
     "name": "stderr",
     "output_type": "stream",
     "text": [
      "\r 97%|█████████████████████████████████████████████████▎ | 5496859/5681827 [02:46<00:05, 32961.64r/s]"
     ]
    },
    {
     "name": "stderr",
     "output_type": "stream",
     "text": [
      "\r 97%|█████████████████████████████████████████████████▎ | 5500272/5681827 [02:46<00:05, 32962.22r/s]"
     ]
    },
    {
     "name": "stderr",
     "output_type": "stream",
     "text": [
      "\r 97%|█████████████████████████████████████████████████▍ | 5503659/5681827 [02:46<00:05, 32962.75r/s]"
     ]
    },
    {
     "name": "stderr",
     "output_type": "stream",
     "text": [
      "\r 97%|█████████████████████████████████████████████████▍ | 5507044/5681827 [02:47<00:05, 32963.26r/s]"
     ]
    },
    {
     "name": "stderr",
     "output_type": "stream",
     "text": [
      "\r 97%|█████████████████████████████████████████████████▍ | 5510420/5681827 [02:47<00:05, 32963.72r/s]"
     ]
    },
    {
     "name": "stderr",
     "output_type": "stream",
     "text": [
      "\r 97%|█████████████████████████████████████████████████▍ | 5513867/5681827 [02:47<00:05, 32964.59r/s]"
     ]
    },
    {
     "name": "stderr",
     "output_type": "stream",
     "text": [
      "\r 97%|█████████████████████████████████████████████████▌ | 5517261/5681827 [02:47<00:04, 32963.22r/s]"
     ]
    },
    {
     "name": "stderr",
     "output_type": "stream",
     "text": [
      "\r 97%|█████████████████████████████████████████████████▌ | 5520564/5681827 [02:47<00:04, 32958.87r/s]"
     ]
    },
    {
     "name": "stderr",
     "output_type": "stream",
     "text": [
      "\r 97%|█████████████████████████████████████████████████▌ | 5523686/5681827 [02:47<00:04, 32953.74r/s]"
     ]
    },
    {
     "name": "stderr",
     "output_type": "stream",
     "text": [
      "\r 97%|█████████████████████████████████████████████████▌ | 5526647/5681827 [02:47<00:04, 32947.75r/s]"
     ]
    },
    {
     "name": "stderr",
     "output_type": "stream",
     "text": [
      "\r 97%|█████████████████████████████████████████████████▋ | 5529458/5681827 [02:47<00:04, 32941.47r/s]"
     ]
    },
    {
     "name": "stderr",
     "output_type": "stream",
     "text": [
      "\r 97%|█████████████████████████████████████████████████▋ | 5532145/5681827 [02:47<00:04, 32936.82r/s]"
     ]
    },
    {
     "name": "stderr",
     "output_type": "stream",
     "text": [
      "\r 97%|█████████████████████████████████████████████████▋ | 5535086/5681827 [02:48<00:04, 32934.56r/s]"
     ]
    },
    {
     "name": "stderr",
     "output_type": "stream",
     "text": [
      "\r 97%|█████████████████████████████████████████████████▋ | 5538107/5681827 [02:48<00:04, 32932.88r/s]"
     ]
    },
    {
     "name": "stderr",
     "output_type": "stream",
     "text": [
      "\r 98%|█████████████████████████████████████████████████▋ | 5541242/5681827 [02:48<00:04, 32931.78r/s]"
     ]
    },
    {
     "name": "stderr",
     "output_type": "stream",
     "text": [
      "\r 98%|█████████████████████████████████████████████████▊ | 5544356/5681827 [02:48<00:04, 32930.69r/s]"
     ]
    },
    {
     "name": "stderr",
     "output_type": "stream",
     "text": [
      "\r 98%|█████████████████████████████████████████████████▊ | 5547579/5681827 [02:48<00:04, 32930.08r/s]"
     ]
    },
    {
     "name": "stderr",
     "output_type": "stream",
     "text": [
      "\r 98%|█████████████████████████████████████████████████▊ | 5550839/5681827 [02:48<00:03, 32929.88r/s]"
     ]
    },
    {
     "name": "stderr",
     "output_type": "stream",
     "text": [
      "\r 98%|█████████████████████████████████████████████████▊ | 5554148/5681827 [02:48<00:03, 32929.79r/s]"
     ]
    },
    {
     "name": "stderr",
     "output_type": "stream",
     "text": [
      "\r 98%|█████████████████████████████████████████████████▉ | 5557484/5681827 [02:48<00:03, 32929.85r/s]"
     ]
    },
    {
     "name": "stderr",
     "output_type": "stream",
     "text": [
      "\r 98%|█████████████████████████████████████████████████▉ | 5560812/5681827 [02:48<00:03, 32929.89r/s]"
     ]
    },
    {
     "name": "stderr",
     "output_type": "stream",
     "text": [
      "\r 98%|█████████████████████████████████████████████████▉ | 5564108/5681827 [02:48<00:03, 32929.88r/s]"
     ]
    },
    {
     "name": "stderr",
     "output_type": "stream",
     "text": [
      "\r 98%|█████████████████████████████████████████████████▉ | 5567471/5681827 [02:49<00:03, 32930.10r/s]"
     ]
    },
    {
     "name": "stderr",
     "output_type": "stream",
     "text": [
      "\r 98%|██████████████████████████████████████████████████ | 5570809/5681827 [02:49<00:03, 32930.17r/s]"
     ]
    },
    {
     "name": "stderr",
     "output_type": "stream",
     "text": [
      "\r 98%|██████████████████████████████████████████████████ | 5574198/5681827 [02:49<00:03, 32930.74r/s]"
     ]
    },
    {
     "name": "stderr",
     "output_type": "stream",
     "text": [
      "\r 98%|██████████████████████████████████████████████████ | 5577561/5681827 [02:49<00:03, 32930.97r/s]"
     ]
    },
    {
     "name": "stderr",
     "output_type": "stream",
     "text": [
      "\r 98%|██████████████████████████████████████████████████ | 5580881/5681827 [02:49<00:03, 32930.82r/s]"
     ]
    },
    {
     "name": "stderr",
     "output_type": "stream",
     "text": [
      "\r 98%|██████████████████████████████████████████████████ | 5584243/5681827 [02:49<00:02, 32931.13r/s]"
     ]
    },
    {
     "name": "stderr",
     "output_type": "stream",
     "text": [
      "\r 98%|██████████████████████████████████████████████████▏| 5587665/5681827 [02:49<00:02, 32931.80r/s]"
     ]
    },
    {
     "name": "stderr",
     "output_type": "stream",
     "text": [
      "\r 98%|██████████████████████████████████████████████████▏| 5591063/5681827 [02:49<00:02, 32932.33r/s]"
     ]
    },
    {
     "name": "stderr",
     "output_type": "stream",
     "text": [
      "\r 98%|██████████████████████████████████████████████████▏| 5594452/5681827 [02:49<00:02, 32932.81r/s]"
     ]
    },
    {
     "name": "stderr",
     "output_type": "stream",
     "text": [
      "\r 99%|██████████████████████████████████████████████████▏| 5597813/5681827 [02:49<00:02, 32932.81r/s]"
     ]
    },
    {
     "name": "stderr",
     "output_type": "stream",
     "text": [
      "\r 99%|██████████████████████████████████████████████████▎| 5601154/5681827 [02:50<00:02, 32932.70r/s]"
     ]
    },
    {
     "name": "stderr",
     "output_type": "stream",
     "text": [
      "\r 99%|██████████████████████████████████████████████████▎| 5604531/5681827 [02:50<00:02, 32933.12r/s]"
     ]
    },
    {
     "name": "stderr",
     "output_type": "stream",
     "text": [
      "\r 99%|██████████████████████████████████████████████████▎| 5607907/5681827 [02:50<00:02, 32933.58r/s]"
     ]
    },
    {
     "name": "stderr",
     "output_type": "stream",
     "text": [
      "\r 99%|██████████████████████████████████████████████████▎| 5611256/5681827 [02:50<00:02, 32933.84r/s]"
     ]
    },
    {
     "name": "stderr",
     "output_type": "stream",
     "text": [
      "\r 99%|██████████████████████████████████████████████████▍| 5614599/5681827 [02:50<00:02, 32933.93r/s]"
     ]
    },
    {
     "name": "stderr",
     "output_type": "stream",
     "text": [
      "\r 99%|██████████████████████████████████████████████████▍| 5617958/5681827 [02:50<00:01, 32934.30r/s]"
     ]
    },
    {
     "name": "stderr",
     "output_type": "stream",
     "text": [
      "\r 99%|██████████████████████████████████████████████████▍| 5621377/5681827 [02:50<00:01, 32935.04r/s]"
     ]
    },
    {
     "name": "stderr",
     "output_type": "stream",
     "text": [
      "\r 99%|██████████████████████████████████████████████████▍| 5624806/5681827 [02:50<00:01, 32935.77r/s]"
     ]
    },
    {
     "name": "stderr",
     "output_type": "stream",
     "text": [
      "\r 99%|██████████████████████████████████████████████████▌| 5628206/5681827 [02:50<00:01, 32936.38r/s]"
     ]
    },
    {
     "name": "stderr",
     "output_type": "stream",
     "text": [
      "\r 99%|██████████████████████████████████████████████████▌| 5631592/5681827 [02:50<00:01, 32936.74r/s]"
     ]
    },
    {
     "name": "stderr",
     "output_type": "stream",
     "text": [
      "\r 99%|██████████████████████████████████████████████████▌| 5634969/5681827 [02:51<00:01, 32936.94r/s]"
     ]
    },
    {
     "name": "stderr",
     "output_type": "stream",
     "text": [
      "\r 99%|██████████████████████████████████████████████████▌| 5638331/5681827 [02:51<00:01, 32937.15r/s]"
     ]
    },
    {
     "name": "stderr",
     "output_type": "stream",
     "text": [
      "\r 99%|██████████████████████████████████████████████████▋| 5641730/5681827 [02:51<00:01, 32937.76r/s]"
     ]
    },
    {
     "name": "stderr",
     "output_type": "stream",
     "text": [
      "\r 99%|██████████████████████████████████████████████████▋| 5645096/5681827 [02:51<00:01, 32937.87r/s]"
     ]
    },
    {
     "name": "stderr",
     "output_type": "stream",
     "text": [
      "\r 99%|██████████████████████████████████████████████████▋| 5648446/5681827 [02:51<00:01, 32937.69r/s]"
     ]
    },
    {
     "name": "stderr",
     "output_type": "stream",
     "text": [
      "\r 99%|██████████████████████████████████████████████████▋| 5651787/5681827 [02:51<00:00, 32937.79r/s]"
     ]
    },
    {
     "name": "stderr",
     "output_type": "stream",
     "text": [
      "\r100%|██████████████████████████████████████████████████▊| 5655199/5681827 [02:51<00:00, 32938.47r/s]"
     ]
    },
    {
     "name": "stderr",
     "output_type": "stream",
     "text": [
      "\r100%|██████████████████████████████████████████████████▊| 5658546/5681827 [02:51<00:00, 32935.32r/s]"
     ]
    },
    {
     "name": "stderr",
     "output_type": "stream",
     "text": [
      "\r100%|██████████████████████████████████████████████████▊| 5661958/5681827 [02:51<00:00, 32936.01r/s]"
     ]
    },
    {
     "name": "stderr",
     "output_type": "stream",
     "text": [
      "\r100%|██████████████████████████████████████████████████▊| 5665410/5681827 [02:52<00:00, 32936.74r/s]"
     ]
    },
    {
     "name": "stderr",
     "output_type": "stream",
     "text": [
      "\r100%|██████████████████████████████████████████████████▉| 5668862/5681827 [02:52<00:00, 32937.47r/s]"
     ]
    },
    {
     "name": "stderr",
     "output_type": "stream",
     "text": [
      "\r100%|██████████████████████████████████████████████████▉| 5672334/5681827 [02:52<00:00, 32938.32r/s]"
     ]
    },
    {
     "name": "stderr",
     "output_type": "stream",
     "text": [
      "\r100%|██████████████████████████████████████████████████▉| 5675704/5681827 [02:52<00:00, 32938.58r/s]"
     ]
    },
    {
     "name": "stderr",
     "output_type": "stream",
     "text": [
      "\r100%|██████████████████████████████████████████████████▉| 5679065/5681827 [02:52<00:00, 32938.77r/s]"
     ]
    },
    {
     "name": "stderr",
     "output_type": "stream",
     "text": [
      "\r                                                                                                    "
     ]
    },
    {
     "name": "stderr",
     "output_type": "stream",
     "text": [
      "\r"
     ]
    },
    {
     "name": "stdout",
     "output_type": "stream",
     "text": [
      "\n"
     ]
    },
    {
     "name": "stdout",
     "output_type": "stream",
     "text": [
      "trans completed!"
     ]
    }
   ],
   "source": [
    "column = ['uid', 'age', 'gender', 'marriageStatus', 'education', 'consumptionAbility', 'LBS', \n",
    "          'interest1', 'interest2', 'interest3', 'interest4', 'interest5', \n",
    "          'kw1', 'kw2', 'kw3', \n",
    "          'topic1', 'topic2', 'topic3', \n",
    "          'appIdInstall', 'appIdAction',  'ct', 'os', 'carrier', 'house']\n",
    "df = pd.DataFrame(columns=column)\n",
    "\n",
    "print('reading file')\n",
    "with open('data/userFeature.data.002') as f:\n",
    "    lines = f.readlines()\n",
    "print('read finish')\n",
    "length = len(lines)\n",
    "bar = tqdm(range(length), total=length, ncols=100, leave=False,\n",
    "           unit='r')\n",
    "\n",
    "dics = []\n",
    "for i in bar:\n",
    "    line = lines[i]\n",
    "    items = line.strip('\\n').split('|')\n",
    "    dic = {}\n",
    "    for item in items:\n",
    "        e = item.split(' ')\n",
    "        k = e[0]\n",
    "        if len(e) == 2:\n",
    "            v = int(e[1])\n",
    "        else:\n",
    "            v = 0\n",
    "            for ee in e[1:]:\n",
    "                v += int(ee)\n",
    "        dic[k] = v\n",
    "    dics.append(dic)\n",
    "    dic = {}\n",
    "print()\n",
    "print('trans completed!')\n",
    "bar.close()"
   ]
  },
  {
   "cell_type": "code",
   "execution_count": 3,
   "metadata": {},
   "outputs": [
    {
     "name": "stdout",
     "output_type": "stream",
     "text": [
      "do append!"
     ]
    },
    {
     "name": "stdout",
     "output_type": "stream",
     "text": [
      "\n"
     ]
    },
    {
     "name": "stdout",
     "output_type": "stream",
     "text": [
      "done"
     ]
    },
    {
     "name": "stdout",
     "output_type": "stream",
     "text": [
      "\n"
     ]
    }
   ],
   "source": [
    "row = pd.DataFrame(dics)\n",
    "print('do append!')\n",
    "df = df.append(row)\n",
    "df.to_csv('data/user_feature002.csv', columns=column, index=False)\n",
    "print('done')"
   ]
  },
  {
   "cell_type": "code",
   "execution_count": 3,
   "metadata": {},
   "outputs": [],
   "source": [
    "feature1 = pd.read_csv('data/user_feature001.csv')\n",
    "feature2 = pd.read_csv('data/user_feature002.csv')"
   ]
  },
  {
   "cell_type": "code",
   "execution_count": 7,
   "metadata": {},
   "outputs": [
    {
     "name": "stdout",
     "output_type": "stream",
     "text": [
      "5738212"
     ]
    },
    {
     "name": "stdout",
     "output_type": "stream",
     "text": [
      "\n"
     ]
    },
    {
     "name": "stdout",
     "output_type": "stream",
     "text": [
      "5681827"
     ]
    },
    {
     "name": "stdout",
     "output_type": "stream",
     "text": [
      "\n"
     ]
    },
    {
     "name": "stdout",
     "output_type": "stream",
     "text": [
      "11420039"
     ]
    }
   ],
   "source": [
    "l1 = len(feature1.index)\n",
    "l2 = len(feature2.index)\n",
    "print(l1)\n",
    "print(l2)\n",
    "print(l1+l2)"
   ]
  },
  {
   "cell_type": "code",
   "execution_count": 8,
   "metadata": {},
   "outputs": [],
   "source": [
    "feature = feature1.append(feature2)"
   ]
  },
  {
   "cell_type": "code",
   "execution_count": 9,
   "metadata": {},
   "outputs": [
    {
     "name": "stdout",
     "output_type": "stream",
     "text": [
      "11420039"
     ]
    },
    {
     "name": "stdout",
     "output_type": "stream",
     "text": [
      "\n"
     ]
    }
   ],
   "source": [
    "print(len(feature.index))"
   ]
  },
  {
   "cell_type": "code",
   "execution_count": 11,
   "metadata": {},
   "outputs": [],
   "source": [
    "feature.to_csv('data/user_feature_v2.csv', columns=column, index=False)"
   ]
  },
  {
   "cell_type": "code",
   "execution_count": 3,
   "metadata": {},
   "outputs": [],
   "source": [
    "user_feature_v2 = pd.read_csv('data/user_feature_v2.csv')"
   ]
  },
  {
   "cell_type": "code",
   "execution_count": 4,
   "metadata": {},
   "outputs": [
    {
     "name": "stdout",
     "output_type": "stream",
     "text": [
      "<class 'pandas.core.frame.DataFrame'>\nRangeIndex: 11420039 entries, 0 to 11420038\nData columns (total 24 columns):\nuid                   int64\nage                   int64\ngender                int64\nmarriageStatus        float64\neducation             int64\nconsumptionAbility    int64\nLBS                   float64\ninterest1             float64\ninterest2             float64\ninterest3             float64\ninterest4             float64\ninterest5             float64\nkw1                   float64\nkw2                   float64\nkw3                   float64\ntopic1                float64\ntopic2                float64\ntopic3                float64\nappIdInstall          float64\nappIdAction           float64\nct                    int64\nos                    int64\ncarrier               int64\nhouse                 float64\ndtypes: float64(16), int64(8)\nmemory usage: 2.0 GB\n"
     ]
    }
   ],
   "source": [
    "user_feature_v2.info()"
   ]
  },
  {
   "cell_type": "code",
   "execution_count": 4,
   "metadata": {},
   "outputs": [
    {
     "data": {
      "text/html": [
       "<div>\n",
       "<style scoped>\n",
       "    .dataframe tbody tr th:only-of-type {\n",
       "        vertical-align: middle;\n",
       "    }\n",
       "\n",
       "    .dataframe tbody tr th {\n",
       "        vertical-align: top;\n",
       "    }\n",
       "\n",
       "    .dataframe thead th {\n",
       "        text-align: right;\n",
       "    }\n",
       "</style>\n",
       "<table border=\"1\" class=\"dataframe\">\n",
       "  <thead>\n",
       "    <tr style=\"text-align: right;\">\n",
       "      <th></th>\n",
       "      <th>uid</th>\n",
       "      <th>age</th>\n",
       "      <th>gender</th>\n",
       "      <th>marriageStatus</th>\n",
       "      <th>education</th>\n",
       "      <th>consumptionAbility</th>\n",
       "      <th>LBS</th>\n",
       "      <th>interest1</th>\n",
       "      <th>interest2</th>\n",
       "      <th>interest3</th>\n",
       "      <th>...</th>\n",
       "      <th>kw3</th>\n",
       "      <th>topic1</th>\n",
       "      <th>topic2</th>\n",
       "      <th>topic3</th>\n",
       "      <th>appIdInstall</th>\n",
       "      <th>appIdAction</th>\n",
       "      <th>ct</th>\n",
       "      <th>os</th>\n",
       "      <th>carrier</th>\n",
       "      <th>house</th>\n",
       "    </tr>\n",
       "  </thead>\n",
       "  <tbody>\n",
       "    <tr>\n",
       "      <th>0</th>\n",
       "      <td>26325489</td>\n",
       "      <td>4</td>\n",
       "      <td>2</td>\n",
       "      <td>11.0</td>\n",
       "      <td>7</td>\n",
       "      <td>2</td>\n",
       "      <td>950.0</td>\n",
       "      <td>1861.0</td>\n",
       "      <td>107.0</td>\n",
       "      <td>NaN</td>\n",
       "      <td>...</td>\n",
       "      <td>NaN</td>\n",
       "      <td>31225.0</td>\n",
       "      <td>36633.0</td>\n",
       "      <td>NaN</td>\n",
       "      <td>NaN</td>\n",
       "      <td>NaN</td>\n",
       "      <td>4.0</td>\n",
       "      <td>2.0</td>\n",
       "      <td>1.0</td>\n",
       "      <td>NaN</td>\n",
       "    </tr>\n",
       "    <tr>\n",
       "      <th>1</th>\n",
       "      <td>1184123</td>\n",
       "      <td>2</td>\n",
       "      <td>1</td>\n",
       "      <td>18.0</td>\n",
       "      <td>2</td>\n",
       "      <td>1</td>\n",
       "      <td>803.0</td>\n",
       "      <td>104.0</td>\n",
       "      <td>33.0</td>\n",
       "      <td>NaN</td>\n",
       "      <td>...</td>\n",
       "      <td>NaN</td>\n",
       "      <td>24936.0</td>\n",
       "      <td>34548.0</td>\n",
       "      <td>NaN</td>\n",
       "      <td>NaN</td>\n",
       "      <td>NaN</td>\n",
       "      <td>4.0</td>\n",
       "      <td>1.0</td>\n",
       "      <td>1.0</td>\n",
       "      <td>NaN</td>\n",
       "    </tr>\n",
       "    <tr>\n",
       "      <th>2</th>\n",
       "      <td>76072711</td>\n",
       "      <td>1</td>\n",
       "      <td>1</td>\n",
       "      <td>23.0</td>\n",
       "      <td>5</td>\n",
       "      <td>1</td>\n",
       "      <td>927.0</td>\n",
       "      <td>822.0</td>\n",
       "      <td>410.0</td>\n",
       "      <td>NaN</td>\n",
       "      <td>...</td>\n",
       "      <td>NaN</td>\n",
       "      <td>27091.0</td>\n",
       "      <td>26736.0</td>\n",
       "      <td>NaN</td>\n",
       "      <td>NaN</td>\n",
       "      <td>NaN</td>\n",
       "      <td>4.0</td>\n",
       "      <td>1.0</td>\n",
       "      <td>3.0</td>\n",
       "      <td>NaN</td>\n",
       "    </tr>\n",
       "    <tr>\n",
       "      <th>3</th>\n",
       "      <td>63071413</td>\n",
       "      <td>4</td>\n",
       "      <td>1</td>\n",
       "      <td>11.0</td>\n",
       "      <td>7</td>\n",
       "      <td>1</td>\n",
       "      <td>486.0</td>\n",
       "      <td>1256.0</td>\n",
       "      <td>166.0</td>\n",
       "      <td>NaN</td>\n",
       "      <td>...</td>\n",
       "      <td>NaN</td>\n",
       "      <td>29763.0</td>\n",
       "      <td>20013.0</td>\n",
       "      <td>NaN</td>\n",
       "      <td>NaN</td>\n",
       "      <td>NaN</td>\n",
       "      <td>4.0</td>\n",
       "      <td>3.0</td>\n",
       "      <td>3.0</td>\n",
       "      <td>NaN</td>\n",
       "    </tr>\n",
       "    <tr>\n",
       "      <th>4</th>\n",
       "      <td>81294159</td>\n",
       "      <td>5</td>\n",
       "      <td>1</td>\n",
       "      <td>11.0</td>\n",
       "      <td>6</td>\n",
       "      <td>2</td>\n",
       "      <td>112.0</td>\n",
       "      <td>322.0</td>\n",
       "      <td>NaN</td>\n",
       "      <td>NaN</td>\n",
       "      <td>...</td>\n",
       "      <td>NaN</td>\n",
       "      <td>19502.0</td>\n",
       "      <td>22368.0</td>\n",
       "      <td>NaN</td>\n",
       "      <td>NaN</td>\n",
       "      <td>NaN</td>\n",
       "      <td>10.0</td>\n",
       "      <td>1.0</td>\n",
       "      <td>3.0</td>\n",
       "      <td>NaN</td>\n",
       "    </tr>\n",
       "  </tbody>\n",
       "</table>\n",
       "<p>5 rows × 24 columns</p>\n",
       "</div>"
      ],
      "text/plain": [
       "<div>\n",
       "<style scoped>\n",
       "    .dataframe tbody tr th:only-of-type {\n",
       "        vertical-align: middle;\n",
       "    }\n",
       "\n",
       "    .dataframe tbody tr th {\n",
       "        vertical-align: top;\n",
       "    }\n",
       "\n",
       "    .dataframe thead th {\n",
       "        text-align: right;\n",
       "    }\n",
       "</style>\n",
       "<table border=\"1\" class=\"dataframe\">\n",
       "  <thead>\n",
       "    <tr style=\"text-align: right;\">\n",
       "      <th></th>\n",
       "      <th>uid</th>\n",
       "      <th>age</th>\n",
       "      <th>gender</th>\n",
       "      <th>marriageStatus</th>\n",
       "      <th>education</th>\n",
       "      <th>consumptionAbility</th>\n",
       "      <th>LBS</th>\n",
       "      <th>interest1</th>\n",
       "      <th>interest2</th>\n",
       "      <th>interest3</th>\n",
       "      <th>...</th>\n",
       "      <th>kw3</th>\n",
       "      <th>topic1</th>\n",
       "      <th>topic2</th>\n",
       "      <th>topic3</th>\n",
       "      <th>appIdInstall</th>\n",
       "      <th>appIdAction</th>\n",
       "      <th>ct</th>\n",
       "      <th>os</th>\n",
       "      <th>carrier</th>\n",
       "      <th>house</th>\n",
       "    </tr>\n",
       "  </thead>\n",
       "  <tbody>\n",
       "    <tr>\n",
       "      <th>0</th>\n",
       "      <td>26325489</td>\n",
       "      <td>4</td>\n",
       "      <td>2</td>\n",
       "      <td>11.0</td>\n",
       "      <td>7</td>\n",
       "      <td>2</td>\n",
       "      <td>950.0</td>\n",
       "      <td>1861.0</td>\n",
       "      <td>107.0</td>\n",
       "      <td>NaN</td>\n",
       "      <td>...</td>\n",
       "      <td>NaN</td>\n",
       "      <td>31225.0</td>\n",
       "      <td>36633.0</td>\n",
       "      <td>NaN</td>\n",
       "      <td>NaN</td>\n",
       "      <td>NaN</td>\n",
       "      <td>4.0</td>\n",
       "      <td>2.0</td>\n",
       "      <td>1.0</td>\n",
       "      <td>NaN</td>\n",
       "    </tr>\n",
       "    <tr>\n",
       "      <th>1</th>\n",
       "      <td>1184123</td>\n",
       "      <td>2</td>\n",
       "      <td>1</td>\n",
       "      <td>18.0</td>\n",
       "      <td>2</td>\n",
       "      <td>1</td>\n",
       "      <td>803.0</td>\n",
       "      <td>104.0</td>\n",
       "      <td>33.0</td>\n",
       "      <td>NaN</td>\n",
       "      <td>...</td>\n",
       "      <td>NaN</td>\n",
       "      <td>24936.0</td>\n",
       "      <td>34548.0</td>\n",
       "      <td>NaN</td>\n",
       "      <td>NaN</td>\n",
       "      <td>NaN</td>\n",
       "      <td>4.0</td>\n",
       "      <td>1.0</td>\n",
       "      <td>1.0</td>\n",
       "      <td>NaN</td>\n",
       "    </tr>\n",
       "    <tr>\n",
       "      <th>2</th>\n",
       "      <td>76072711</td>\n",
       "      <td>1</td>\n",
       "      <td>1</td>\n",
       "      <td>23.0</td>\n",
       "      <td>5</td>\n",
       "      <td>1</td>\n",
       "      <td>927.0</td>\n",
       "      <td>822.0</td>\n",
       "      <td>410.0</td>\n",
       "      <td>NaN</td>\n",
       "      <td>...</td>\n",
       "      <td>NaN</td>\n",
       "      <td>27091.0</td>\n",
       "      <td>26736.0</td>\n",
       "      <td>NaN</td>\n",
       "      <td>NaN</td>\n",
       "      <td>NaN</td>\n",
       "      <td>4.0</td>\n",
       "      <td>1.0</td>\n",
       "      <td>3.0</td>\n",
       "      <td>NaN</td>\n",
       "    </tr>\n",
       "    <tr>\n",
       "      <th>3</th>\n",
       "      <td>63071413</td>\n",
       "      <td>4</td>\n",
       "      <td>1</td>\n",
       "      <td>11.0</td>\n",
       "      <td>7</td>\n",
       "      <td>1</td>\n",
       "      <td>486.0</td>\n",
       "      <td>1256.0</td>\n",
       "      <td>166.0</td>\n",
       "      <td>NaN</td>\n",
       "      <td>...</td>\n",
       "      <td>NaN</td>\n",
       "      <td>29763.0</td>\n",
       "      <td>20013.0</td>\n",
       "      <td>NaN</td>\n",
       "      <td>NaN</td>\n",
       "      <td>NaN</td>\n",
       "      <td>4.0</td>\n",
       "      <td>3.0</td>\n",
       "      <td>3.0</td>\n",
       "      <td>NaN</td>\n",
       "    </tr>\n",
       "    <tr>\n",
       "      <th>4</th>\n",
       "      <td>81294159</td>\n",
       "      <td>5</td>\n",
       "      <td>1</td>\n",
       "      <td>11.0</td>\n",
       "      <td>6</td>\n",
       "      <td>2</td>\n",
       "      <td>112.0</td>\n",
       "      <td>322.0</td>\n",
       "      <td>NaN</td>\n",
       "      <td>NaN</td>\n",
       "      <td>...</td>\n",
       "      <td>NaN</td>\n",
       "      <td>19502.0</td>\n",
       "      <td>22368.0</td>\n",
       "      <td>NaN</td>\n",
       "      <td>NaN</td>\n",
       "      <td>NaN</td>\n",
       "      <td>10.0</td>\n",
       "      <td>1.0</td>\n",
       "      <td>3.0</td>\n",
       "      <td>NaN</td>\n",
       "    </tr>\n",
       "  </tbody>\n",
       "</table>\n",
       "<p>5 rows × 24 columns</p>\n",
       "</div>"
      ]
     },
     "execution_count": 4,
     "metadata": {},
     "output_type": "execute_result"
    }
   ],
   "source": [
    "user_feature_v2.head()"
   ]
  },
  {
   "cell_type": "code",
   "execution_count": 5,
   "metadata": {},
   "outputs": [
    {
     "data": {
      "text/html": [
       "<div>\n",
       "<style scoped>\n",
       "    .dataframe tbody tr th:only-of-type {\n",
       "        vertical-align: middle;\n",
       "    }\n",
       "\n",
       "    .dataframe tbody tr th {\n",
       "        vertical-align: top;\n",
       "    }\n",
       "\n",
       "    .dataframe thead th {\n",
       "        text-align: right;\n",
       "    }\n",
       "</style>\n",
       "<table border=\"1\" class=\"dataframe\">\n",
       "  <thead>\n",
       "    <tr style=\"text-align: right;\">\n",
       "      <th></th>\n",
       "      <th>uid</th>\n",
       "      <th>age</th>\n",
       "      <th>gender</th>\n",
       "      <th>marriageStatus</th>\n",
       "      <th>education</th>\n",
       "      <th>consumptionAbility</th>\n",
       "      <th>LBS</th>\n",
       "      <th>interest1</th>\n",
       "      <th>interest2</th>\n",
       "      <th>interest3</th>\n",
       "      <th>...</th>\n",
       "      <th>kw3</th>\n",
       "      <th>topic1</th>\n",
       "      <th>topic2</th>\n",
       "      <th>topic3</th>\n",
       "      <th>appIdInstall</th>\n",
       "      <th>appIdAction</th>\n",
       "      <th>ct</th>\n",
       "      <th>os</th>\n",
       "      <th>carrier</th>\n",
       "      <th>house</th>\n",
       "    </tr>\n",
       "  </thead>\n",
       "  <tbody>\n",
       "    <tr>\n",
       "      <th>0</th>\n",
       "      <td>26325489</td>\n",
       "      <td>4</td>\n",
       "      <td>2</td>\n",
       "      <td>11.0</td>\n",
       "      <td>7</td>\n",
       "      <td>2</td>\n",
       "      <td>950.0</td>\n",
       "      <td>1861.0</td>\n",
       "      <td>107.0</td>\n",
       "      <td>0.0</td>\n",
       "      <td>...</td>\n",
       "      <td>0.0</td>\n",
       "      <td>31225.0</td>\n",
       "      <td>36633.0</td>\n",
       "      <td>0.0</td>\n",
       "      <td>0.0</td>\n",
       "      <td>0.0</td>\n",
       "      <td>4</td>\n",
       "      <td>2</td>\n",
       "      <td>1</td>\n",
       "      <td>0.0</td>\n",
       "    </tr>\n",
       "    <tr>\n",
       "      <th>1</th>\n",
       "      <td>1184123</td>\n",
       "      <td>2</td>\n",
       "      <td>1</td>\n",
       "      <td>18.0</td>\n",
       "      <td>2</td>\n",
       "      <td>1</td>\n",
       "      <td>803.0</td>\n",
       "      <td>104.0</td>\n",
       "      <td>33.0</td>\n",
       "      <td>0.0</td>\n",
       "      <td>...</td>\n",
       "      <td>0.0</td>\n",
       "      <td>24936.0</td>\n",
       "      <td>34548.0</td>\n",
       "      <td>0.0</td>\n",
       "      <td>0.0</td>\n",
       "      <td>0.0</td>\n",
       "      <td>4</td>\n",
       "      <td>1</td>\n",
       "      <td>1</td>\n",
       "      <td>0.0</td>\n",
       "    </tr>\n",
       "    <tr>\n",
       "      <th>2</th>\n",
       "      <td>76072711</td>\n",
       "      <td>1</td>\n",
       "      <td>1</td>\n",
       "      <td>23.0</td>\n",
       "      <td>5</td>\n",
       "      <td>1</td>\n",
       "      <td>927.0</td>\n",
       "      <td>822.0</td>\n",
       "      <td>410.0</td>\n",
       "      <td>0.0</td>\n",
       "      <td>...</td>\n",
       "      <td>0.0</td>\n",
       "      <td>27091.0</td>\n",
       "      <td>26736.0</td>\n",
       "      <td>0.0</td>\n",
       "      <td>0.0</td>\n",
       "      <td>0.0</td>\n",
       "      <td>4</td>\n",
       "      <td>1</td>\n",
       "      <td>3</td>\n",
       "      <td>0.0</td>\n",
       "    </tr>\n",
       "    <tr>\n",
       "      <th>3</th>\n",
       "      <td>63071413</td>\n",
       "      <td>4</td>\n",
       "      <td>1</td>\n",
       "      <td>11.0</td>\n",
       "      <td>7</td>\n",
       "      <td>1</td>\n",
       "      <td>486.0</td>\n",
       "      <td>1256.0</td>\n",
       "      <td>166.0</td>\n",
       "      <td>0.0</td>\n",
       "      <td>...</td>\n",
       "      <td>0.0</td>\n",
       "      <td>29763.0</td>\n",
       "      <td>20013.0</td>\n",
       "      <td>0.0</td>\n",
       "      <td>0.0</td>\n",
       "      <td>0.0</td>\n",
       "      <td>4</td>\n",
       "      <td>3</td>\n",
       "      <td>3</td>\n",
       "      <td>0.0</td>\n",
       "    </tr>\n",
       "    <tr>\n",
       "      <th>4</th>\n",
       "      <td>81294159</td>\n",
       "      <td>5</td>\n",
       "      <td>1</td>\n",
       "      <td>11.0</td>\n",
       "      <td>6</td>\n",
       "      <td>2</td>\n",
       "      <td>112.0</td>\n",
       "      <td>322.0</td>\n",
       "      <td>0.0</td>\n",
       "      <td>0.0</td>\n",
       "      <td>...</td>\n",
       "      <td>0.0</td>\n",
       "      <td>19502.0</td>\n",
       "      <td>22368.0</td>\n",
       "      <td>0.0</td>\n",
       "      <td>0.0</td>\n",
       "      <td>0.0</td>\n",
       "      <td>10</td>\n",
       "      <td>1</td>\n",
       "      <td>3</td>\n",
       "      <td>0.0</td>\n",
       "    </tr>\n",
       "  </tbody>\n",
       "</table>\n",
       "<p>5 rows × 24 columns</p>\n",
       "</div>"
      ],
      "text/plain": [
       "<div>\n",
       "<style scoped>\n",
       "    .dataframe tbody tr th:only-of-type {\n",
       "        vertical-align: middle;\n",
       "    }\n",
       "\n",
       "    .dataframe tbody tr th {\n",
       "        vertical-align: top;\n",
       "    }\n",
       "\n",
       "    .dataframe thead th {\n",
       "        text-align: right;\n",
       "    }\n",
       "</style>\n",
       "<table border=\"1\" class=\"dataframe\">\n",
       "  <thead>\n",
       "    <tr style=\"text-align: right;\">\n",
       "      <th></th>\n",
       "      <th>uid</th>\n",
       "      <th>age</th>\n",
       "      <th>gender</th>\n",
       "      <th>marriageStatus</th>\n",
       "      <th>education</th>\n",
       "      <th>consumptionAbility</th>\n",
       "      <th>LBS</th>\n",
       "      <th>interest1</th>\n",
       "      <th>interest2</th>\n",
       "      <th>interest3</th>\n",
       "      <th>...</th>\n",
       "      <th>kw3</th>\n",
       "      <th>topic1</th>\n",
       "      <th>topic2</th>\n",
       "      <th>topic3</th>\n",
       "      <th>appIdInstall</th>\n",
       "      <th>appIdAction</th>\n",
       "      <th>ct</th>\n",
       "      <th>os</th>\n",
       "      <th>carrier</th>\n",
       "      <th>house</th>\n",
       "    </tr>\n",
       "  </thead>\n",
       "  <tbody>\n",
       "    <tr>\n",
       "      <th>0</th>\n",
       "      <td>26325489</td>\n",
       "      <td>4</td>\n",
       "      <td>2</td>\n",
       "      <td>11.0</td>\n",
       "      <td>7</td>\n",
       "      <td>2</td>\n",
       "      <td>950.0</td>\n",
       "      <td>1861.0</td>\n",
       "      <td>107.0</td>\n",
       "      <td>0.0</td>\n",
       "      <td>...</td>\n",
       "      <td>0.0</td>\n",
       "      <td>31225.0</td>\n",
       "      <td>36633.0</td>\n",
       "      <td>0.0</td>\n",
       "      <td>0.0</td>\n",
       "      <td>0.0</td>\n",
       "      <td>4</td>\n",
       "      <td>2</td>\n",
       "      <td>1</td>\n",
       "      <td>0.0</td>\n",
       "    </tr>\n",
       "    <tr>\n",
       "      <th>1</th>\n",
       "      <td>1184123</td>\n",
       "      <td>2</td>\n",
       "      <td>1</td>\n",
       "      <td>18.0</td>\n",
       "      <td>2</td>\n",
       "      <td>1</td>\n",
       "      <td>803.0</td>\n",
       "      <td>104.0</td>\n",
       "      <td>33.0</td>\n",
       "      <td>0.0</td>\n",
       "      <td>...</td>\n",
       "      <td>0.0</td>\n",
       "      <td>24936.0</td>\n",
       "      <td>34548.0</td>\n",
       "      <td>0.0</td>\n",
       "      <td>0.0</td>\n",
       "      <td>0.0</td>\n",
       "      <td>4</td>\n",
       "      <td>1</td>\n",
       "      <td>1</td>\n",
       "      <td>0.0</td>\n",
       "    </tr>\n",
       "    <tr>\n",
       "      <th>2</th>\n",
       "      <td>76072711</td>\n",
       "      <td>1</td>\n",
       "      <td>1</td>\n",
       "      <td>23.0</td>\n",
       "      <td>5</td>\n",
       "      <td>1</td>\n",
       "      <td>927.0</td>\n",
       "      <td>822.0</td>\n",
       "      <td>410.0</td>\n",
       "      <td>0.0</td>\n",
       "      <td>...</td>\n",
       "      <td>0.0</td>\n",
       "      <td>27091.0</td>\n",
       "      <td>26736.0</td>\n",
       "      <td>0.0</td>\n",
       "      <td>0.0</td>\n",
       "      <td>0.0</td>\n",
       "      <td>4</td>\n",
       "      <td>1</td>\n",
       "      <td>3</td>\n",
       "      <td>0.0</td>\n",
       "    </tr>\n",
       "    <tr>\n",
       "      <th>3</th>\n",
       "      <td>63071413</td>\n",
       "      <td>4</td>\n",
       "      <td>1</td>\n",
       "      <td>11.0</td>\n",
       "      <td>7</td>\n",
       "      <td>1</td>\n",
       "      <td>486.0</td>\n",
       "      <td>1256.0</td>\n",
       "      <td>166.0</td>\n",
       "      <td>0.0</td>\n",
       "      <td>...</td>\n",
       "      <td>0.0</td>\n",
       "      <td>29763.0</td>\n",
       "      <td>20013.0</td>\n",
       "      <td>0.0</td>\n",
       "      <td>0.0</td>\n",
       "      <td>0.0</td>\n",
       "      <td>4</td>\n",
       "      <td>3</td>\n",
       "      <td>3</td>\n",
       "      <td>0.0</td>\n",
       "    </tr>\n",
       "    <tr>\n",
       "      <th>4</th>\n",
       "      <td>81294159</td>\n",
       "      <td>5</td>\n",
       "      <td>1</td>\n",
       "      <td>11.0</td>\n",
       "      <td>6</td>\n",
       "      <td>2</td>\n",
       "      <td>112.0</td>\n",
       "      <td>322.0</td>\n",
       "      <td>0.0</td>\n",
       "      <td>0.0</td>\n",
       "      <td>...</td>\n",
       "      <td>0.0</td>\n",
       "      <td>19502.0</td>\n",
       "      <td>22368.0</td>\n",
       "      <td>0.0</td>\n",
       "      <td>0.0</td>\n",
       "      <td>0.0</td>\n",
       "      <td>10</td>\n",
       "      <td>1</td>\n",
       "      <td>3</td>\n",
       "      <td>0.0</td>\n",
       "    </tr>\n",
       "  </tbody>\n",
       "</table>\n",
       "<p>5 rows × 24 columns</p>\n",
       "</div>"
      ]
     },
     "execution_count": 5,
     "metadata": {},
     "output_type": "execute_result"
    }
   ],
   "source": [
    "user_feature_v2 = user_feature_v2.fillna(0)\n",
    "user_feature_v2.head()"
   ]
  },
  {
   "cell_type": "code",
   "execution_count": 6,
   "metadata": {},
   "outputs": [],
   "source": [
    "user_feature_v2['age'] = user_feature_v2['age'] / user_feature_v2['age'].max()"
   ]
  },
  {
   "cell_type": "code",
   "execution_count": 7,
   "metadata": {},
   "outputs": [],
   "source": [
    "user_feature_v2['gender'] = user_feature_v2['gender'] / user_feature_v2['gender'].max()"
   ]
  },
  {
   "cell_type": "code",
   "execution_count": 8,
   "metadata": {},
   "outputs": [],
   "source": [
    "user_feature_v2['marriageStatus'] = user_feature_v2['marriageStatus'] / user_feature_v2['marriageStatus'].max()"
   ]
  },
  {
   "cell_type": "code",
   "execution_count": 9,
   "metadata": {},
   "outputs": [],
   "source": [
    "user_feature_v2['education'] = user_feature_v2['education'] / user_feature_v2['education'].max()"
   ]
  },
  {
   "cell_type": "code",
   "execution_count": 10,
   "metadata": {},
   "outputs": [],
   "source": [
    "user_feature_v2['consumptionAbility'] = user_feature_v2['consumptionAbility'] / user_feature_v2['consumptionAbility'].max()"
   ]
  },
  {
   "cell_type": "code",
   "execution_count": 11,
   "metadata": {},
   "outputs": [
    {
     "data": {
      "text/html": [
       "<div>\n",
       "<style scoped>\n",
       "    .dataframe tbody tr th:only-of-type {\n",
       "        vertical-align: middle;\n",
       "    }\n",
       "\n",
       "    .dataframe tbody tr th {\n",
       "        vertical-align: top;\n",
       "    }\n",
       "\n",
       "    .dataframe thead th {\n",
       "        text-align: right;\n",
       "    }\n",
       "</style>\n",
       "<table border=\"1\" class=\"dataframe\">\n",
       "  <thead>\n",
       "    <tr style=\"text-align: right;\">\n",
       "      <th></th>\n",
       "      <th>uid</th>\n",
       "      <th>age</th>\n",
       "      <th>gender</th>\n",
       "      <th>marriageStatus</th>\n",
       "      <th>education</th>\n",
       "      <th>consumptionAbility</th>\n",
       "      <th>LBS</th>\n",
       "    </tr>\n",
       "  </thead>\n",
       "  <tbody>\n",
       "    <tr>\n",
       "      <th>count</th>\n",
       "      <td>1.142004e+07</td>\n",
       "      <td>1.142004e+07</td>\n",
       "      <td>1.142004e+07</td>\n",
       "      <td>1.142004e+07</td>\n",
       "      <td>1.142004e+07</td>\n",
       "      <td>1.142004e+07</td>\n",
       "      <td>1.142004e+07</td>\n",
       "    </tr>\n",
       "    <tr>\n",
       "      <th>mean</th>\n",
       "      <td>4.127270e+07</td>\n",
       "      <td>6.034649e-01</td>\n",
       "      <td>6.567765e-01</td>\n",
       "      <td>3.210333e-01</td>\n",
       "      <td>6.475497e-01</td>\n",
       "      <td>4.793631e-01</td>\n",
       "      <td>4.445918e+02</td>\n",
       "    </tr>\n",
       "    <tr>\n",
       "      <th>std</th>\n",
       "      <td>2.382579e+07</td>\n",
       "      <td>3.038489e-01</td>\n",
       "      <td>2.353036e-01</td>\n",
       "      <td>1.532548e-01</td>\n",
       "      <td>3.487413e-01</td>\n",
       "      <td>3.173262e-01</td>\n",
       "      <td>2.848382e+02</td>\n",
       "    </tr>\n",
       "    <tr>\n",
       "      <th>min</th>\n",
       "      <td>2.000000e+00</td>\n",
       "      <td>0.000000e+00</td>\n",
       "      <td>0.000000e+00</td>\n",
       "      <td>0.000000e+00</td>\n",
       "      <td>0.000000e+00</td>\n",
       "      <td>0.000000e+00</td>\n",
       "      <td>0.000000e+00</td>\n",
       "    </tr>\n",
       "    <tr>\n",
       "      <th>25%</th>\n",
       "      <td>2.064061e+07</td>\n",
       "      <td>4.000000e-01</td>\n",
       "      <td>5.000000e-01</td>\n",
       "      <td>2.631579e-01</td>\n",
       "      <td>2.857143e-01</td>\n",
       "      <td>5.000000e-01</td>\n",
       "      <td>1.920000e+02</td>\n",
       "    </tr>\n",
       "    <tr>\n",
       "      <th>50%</th>\n",
       "      <td>4.128318e+07</td>\n",
       "      <td>6.000000e-01</td>\n",
       "      <td>5.000000e-01</td>\n",
       "      <td>2.894737e-01</td>\n",
       "      <td>8.571429e-01</td>\n",
       "      <td>5.000000e-01</td>\n",
       "      <td>4.250000e+02</td>\n",
       "    </tr>\n",
       "    <tr>\n",
       "      <th>75%</th>\n",
       "      <td>6.190418e+07</td>\n",
       "      <td>8.000000e-01</td>\n",
       "      <td>1.000000e+00</td>\n",
       "      <td>2.894737e-01</td>\n",
       "      <td>1.000000e+00</td>\n",
       "      <td>5.000000e-01</td>\n",
       "      <td>6.870000e+02</td>\n",
       "    </tr>\n",
       "    <tr>\n",
       "      <th>max</th>\n",
       "      <td>8.254290e+07</td>\n",
       "      <td>1.000000e+00</td>\n",
       "      <td>1.000000e+00</td>\n",
       "      <td>1.000000e+00</td>\n",
       "      <td>1.000000e+00</td>\n",
       "      <td>1.000000e+00</td>\n",
       "      <td>9.970000e+02</td>\n",
       "    </tr>\n",
       "  </tbody>\n",
       "</table>\n",
       "</div>"
      ],
      "text/plain": [
       "<div>\n",
       "<style scoped>\n",
       "    .dataframe tbody tr th:only-of-type {\n",
       "        vertical-align: middle;\n",
       "    }\n",
       "\n",
       "    .dataframe tbody tr th {\n",
       "        vertical-align: top;\n",
       "    }\n",
       "\n",
       "    .dataframe thead th {\n",
       "        text-align: right;\n",
       "    }\n",
       "</style>\n",
       "<table border=\"1\" class=\"dataframe\">\n",
       "  <thead>\n",
       "    <tr style=\"text-align: right;\">\n",
       "      <th></th>\n",
       "      <th>uid</th>\n",
       "      <th>age</th>\n",
       "      <th>gender</th>\n",
       "      <th>marriageStatus</th>\n",
       "      <th>education</th>\n",
       "      <th>consumptionAbility</th>\n",
       "      <th>LBS</th>\n",
       "    </tr>\n",
       "  </thead>\n",
       "  <tbody>\n",
       "    <tr>\n",
       "      <th>count</th>\n",
       "      <td>1.142004e+07</td>\n",
       "      <td>1.142004e+07</td>\n",
       "      <td>1.142004e+07</td>\n",
       "      <td>1.142004e+07</td>\n",
       "      <td>1.142004e+07</td>\n",
       "      <td>1.142004e+07</td>\n",
       "      <td>1.142004e+07</td>\n",
       "    </tr>\n",
       "    <tr>\n",
       "      <th>mean</th>\n",
       "      <td>4.127270e+07</td>\n",
       "      <td>6.034649e-01</td>\n",
       "      <td>6.567765e-01</td>\n",
       "      <td>3.210333e-01</td>\n",
       "      <td>6.475497e-01</td>\n",
       "      <td>4.793631e-01</td>\n",
       "      <td>4.445918e+02</td>\n",
       "    </tr>\n",
       "    <tr>\n",
       "      <th>std</th>\n",
       "      <td>2.382579e+07</td>\n",
       "      <td>3.038489e-01</td>\n",
       "      <td>2.353036e-01</td>\n",
       "      <td>1.532548e-01</td>\n",
       "      <td>3.487413e-01</td>\n",
       "      <td>3.173262e-01</td>\n",
       "      <td>2.848382e+02</td>\n",
       "    </tr>\n",
       "    <tr>\n",
       "      <th>min</th>\n",
       "      <td>2.000000e+00</td>\n",
       "      <td>0.000000e+00</td>\n",
       "      <td>0.000000e+00</td>\n",
       "      <td>0.000000e+00</td>\n",
       "      <td>0.000000e+00</td>\n",
       "      <td>0.000000e+00</td>\n",
       "      <td>0.000000e+00</td>\n",
       "    </tr>\n",
       "    <tr>\n",
       "      <th>25%</th>\n",
       "      <td>2.064061e+07</td>\n",
       "      <td>4.000000e-01</td>\n",
       "      <td>5.000000e-01</td>\n",
       "      <td>2.631579e-01</td>\n",
       "      <td>2.857143e-01</td>\n",
       "      <td>5.000000e-01</td>\n",
       "      <td>1.920000e+02</td>\n",
       "    </tr>\n",
       "    <tr>\n",
       "      <th>50%</th>\n",
       "      <td>4.128318e+07</td>\n",
       "      <td>6.000000e-01</td>\n",
       "      <td>5.000000e-01</td>\n",
       "      <td>2.894737e-01</td>\n",
       "      <td>8.571429e-01</td>\n",
       "      <td>5.000000e-01</td>\n",
       "      <td>4.250000e+02</td>\n",
       "    </tr>\n",
       "    <tr>\n",
       "      <th>75%</th>\n",
       "      <td>6.190418e+07</td>\n",
       "      <td>8.000000e-01</td>\n",
       "      <td>1.000000e+00</td>\n",
       "      <td>2.894737e-01</td>\n",
       "      <td>1.000000e+00</td>\n",
       "      <td>5.000000e-01</td>\n",
       "      <td>6.870000e+02</td>\n",
       "    </tr>\n",
       "    <tr>\n",
       "      <th>max</th>\n",
       "      <td>8.254290e+07</td>\n",
       "      <td>1.000000e+00</td>\n",
       "      <td>1.000000e+00</td>\n",
       "      <td>1.000000e+00</td>\n",
       "      <td>1.000000e+00</td>\n",
       "      <td>1.000000e+00</td>\n",
       "      <td>9.970000e+02</td>\n",
       "    </tr>\n",
       "  </tbody>\n",
       "</table>\n",
       "</div>"
      ]
     },
     "execution_count": 11,
     "metadata": {},
     "output_type": "execute_result"
    }
   ],
   "source": [
    "user_feature_v2[['uid', 'age', 'gender', 'marriageStatus', 'education', 'consumptionAbility', 'LBS']].describe()"
   ]
  },
  {
   "cell_type": "code",
   "execution_count": 12,
   "metadata": {},
   "outputs": [
    {
     "data": {
      "text/plain": [
       "count    1.142004e+07\nmean     5.742826e+00\nstd      1.079724e+00\nmin      0.000000e+00\n25%      5.262690e+00\n50%      6.054439e+00\n75%      6.533789e+00\nmax      6.905753e+00\nName: LBS, dtype: float64"
      ]
     },
     "execution_count": 12,
     "metadata": {},
     "output_type": "execute_result"
    }
   ],
   "source": [
    "lbs = user_feature_v2['LBS']\n",
    "lbs = np.log(lbs + 1)\n",
    "lbs.describe()"
   ]
  },
  {
   "cell_type": "code",
   "execution_count": 13,
   "metadata": {},
   "outputs": [
    {
     "data": {
      "text/plain": [
       "count    1.142004e+07\nmean     8.316002e-01\nstd      1.563513e-01\nmin      0.000000e+00\n25%      7.620733e-01\n50%      8.767240e-01\n75%      9.461370e-01\nmax      1.000000e+00\nName: LBS, dtype: float64"
      ]
     },
     "execution_count": 13,
     "metadata": {},
     "output_type": "execute_result"
    }
   ],
   "source": [
    "lbs = lbs / lbs.max()\n",
    "lbs.describe()"
   ]
  },
  {
   "cell_type": "code",
   "execution_count": 14,
   "metadata": {},
   "outputs": [],
   "source": [
    "user_feature_v2['LBS'] = lbs"
   ]
  },
  {
   "cell_type": "code",
   "execution_count": 16,
   "metadata": {},
   "outputs": [
    {
     "data": {
      "text/html": [
       "<div>\n",
       "<style scoped>\n",
       "    .dataframe tbody tr th:only-of-type {\n",
       "        vertical-align: middle;\n",
       "    }\n",
       "\n",
       "    .dataframe tbody tr th {\n",
       "        vertical-align: top;\n",
       "    }\n",
       "\n",
       "    .dataframe thead th {\n",
       "        text-align: right;\n",
       "    }\n",
       "</style>\n",
       "<table border=\"1\" class=\"dataframe\">\n",
       "  <thead>\n",
       "    <tr style=\"text-align: right;\">\n",
       "      <th></th>\n",
       "      <th>interest1</th>\n",
       "      <th>interest2</th>\n",
       "      <th>interest3</th>\n",
       "      <th>interest4</th>\n",
       "      <th>interest5</th>\n",
       "    </tr>\n",
       "  </thead>\n",
       "  <tbody>\n",
       "    <tr>\n",
       "      <th>count</th>\n",
       "      <td>1.142004e+07</td>\n",
       "      <td>1.142004e+07</td>\n",
       "      <td>1.142004e+07</td>\n",
       "      <td>1.142004e+07</td>\n",
       "      <td>1.142004e+07</td>\n",
       "    </tr>\n",
       "    <tr>\n",
       "      <th>mean</th>\n",
       "      <td>7.207752e+02</td>\n",
       "      <td>1.415216e+02</td>\n",
       "      <td>1.059906e+00</td>\n",
       "      <td>3.455346e-01</td>\n",
       "      <td>9.752530e+02</td>\n",
       "    </tr>\n",
       "    <tr>\n",
       "      <th>std</th>\n",
       "      <td>5.296341e+02</td>\n",
       "      <td>1.708315e+02</td>\n",
       "      <td>7.018470e+00</td>\n",
       "      <td>3.167366e+00</td>\n",
       "      <td>8.164076e+02</td>\n",
       "    </tr>\n",
       "    <tr>\n",
       "      <th>min</th>\n",
       "      <td>0.000000e+00</td>\n",
       "      <td>0.000000e+00</td>\n",
       "      <td>0.000000e+00</td>\n",
       "      <td>0.000000e+00</td>\n",
       "      <td>0.000000e+00</td>\n",
       "    </tr>\n",
       "    <tr>\n",
       "      <th>25%</th>\n",
       "      <td>2.860000e+02</td>\n",
       "      <td>0.000000e+00</td>\n",
       "      <td>0.000000e+00</td>\n",
       "      <td>0.000000e+00</td>\n",
       "      <td>0.000000e+00</td>\n",
       "    </tr>\n",
       "    <tr>\n",
       "      <th>50%</th>\n",
       "      <td>6.420000e+02</td>\n",
       "      <td>7.900000e+01</td>\n",
       "      <td>0.000000e+00</td>\n",
       "      <td>0.000000e+00</td>\n",
       "      <td>9.640000e+02</td>\n",
       "    </tr>\n",
       "    <tr>\n",
       "      <th>75%</th>\n",
       "      <td>1.082000e+03</td>\n",
       "      <td>2.220000e+02</td>\n",
       "      <td>0.000000e+00</td>\n",
       "      <td>0.000000e+00</td>\n",
       "      <td>1.503000e+03</td>\n",
       "    </tr>\n",
       "    <tr>\n",
       "      <th>max</th>\n",
       "      <td>2.761000e+03</td>\n",
       "      <td>1.336000e+03</td>\n",
       "      <td>5.500000e+01</td>\n",
       "      <td>5.500000e+01</td>\n",
       "      <td>5.581000e+03</td>\n",
       "    </tr>\n",
       "  </tbody>\n",
       "</table>\n",
       "</div>"
      ],
      "text/plain": [
       "<div>\n",
       "<style scoped>\n",
       "    .dataframe tbody tr th:only-of-type {\n",
       "        vertical-align: middle;\n",
       "    }\n",
       "\n",
       "    .dataframe tbody tr th {\n",
       "        vertical-align: top;\n",
       "    }\n",
       "\n",
       "    .dataframe thead th {\n",
       "        text-align: right;\n",
       "    }\n",
       "</style>\n",
       "<table border=\"1\" class=\"dataframe\">\n",
       "  <thead>\n",
       "    <tr style=\"text-align: right;\">\n",
       "      <th></th>\n",
       "      <th>interest1</th>\n",
       "      <th>interest2</th>\n",
       "      <th>interest3</th>\n",
       "      <th>interest4</th>\n",
       "      <th>interest5</th>\n",
       "    </tr>\n",
       "  </thead>\n",
       "  <tbody>\n",
       "    <tr>\n",
       "      <th>count</th>\n",
       "      <td>1.142004e+07</td>\n",
       "      <td>1.142004e+07</td>\n",
       "      <td>1.142004e+07</td>\n",
       "      <td>1.142004e+07</td>\n",
       "      <td>1.142004e+07</td>\n",
       "    </tr>\n",
       "    <tr>\n",
       "      <th>mean</th>\n",
       "      <td>7.207752e+02</td>\n",
       "      <td>1.415216e+02</td>\n",
       "      <td>1.059906e+00</td>\n",
       "      <td>3.455346e-01</td>\n",
       "      <td>9.752530e+02</td>\n",
       "    </tr>\n",
       "    <tr>\n",
       "      <th>std</th>\n",
       "      <td>5.296341e+02</td>\n",
       "      <td>1.708315e+02</td>\n",
       "      <td>7.018470e+00</td>\n",
       "      <td>3.167366e+00</td>\n",
       "      <td>8.164076e+02</td>\n",
       "    </tr>\n",
       "    <tr>\n",
       "      <th>min</th>\n",
       "      <td>0.000000e+00</td>\n",
       "      <td>0.000000e+00</td>\n",
       "      <td>0.000000e+00</td>\n",
       "      <td>0.000000e+00</td>\n",
       "      <td>0.000000e+00</td>\n",
       "    </tr>\n",
       "    <tr>\n",
       "      <th>25%</th>\n",
       "      <td>2.860000e+02</td>\n",
       "      <td>0.000000e+00</td>\n",
       "      <td>0.000000e+00</td>\n",
       "      <td>0.000000e+00</td>\n",
       "      <td>0.000000e+00</td>\n",
       "    </tr>\n",
       "    <tr>\n",
       "      <th>50%</th>\n",
       "      <td>6.420000e+02</td>\n",
       "      <td>7.900000e+01</td>\n",
       "      <td>0.000000e+00</td>\n",
       "      <td>0.000000e+00</td>\n",
       "      <td>9.640000e+02</td>\n",
       "    </tr>\n",
       "    <tr>\n",
       "      <th>75%</th>\n",
       "      <td>1.082000e+03</td>\n",
       "      <td>2.220000e+02</td>\n",
       "      <td>0.000000e+00</td>\n",
       "      <td>0.000000e+00</td>\n",
       "      <td>1.503000e+03</td>\n",
       "    </tr>\n",
       "    <tr>\n",
       "      <th>max</th>\n",
       "      <td>2.761000e+03</td>\n",
       "      <td>1.336000e+03</td>\n",
       "      <td>5.500000e+01</td>\n",
       "      <td>5.500000e+01</td>\n",
       "      <td>5.581000e+03</td>\n",
       "    </tr>\n",
       "  </tbody>\n",
       "</table>\n",
       "</div>"
      ]
     },
     "execution_count": 16,
     "metadata": {},
     "output_type": "execute_result"
    }
   ],
   "source": [
    "user_feature_v2[['interest1', 'interest2', 'interest3', 'interest4', 'interest5']].describe()"
   ]
  },
  {
   "cell_type": "code",
   "execution_count": 18,
   "metadata": {},
   "outputs": [
    {
     "data": {
      "text/html": [
       "<div>\n",
       "<style scoped>\n",
       "    .dataframe tbody tr th:only-of-type {\n",
       "        vertical-align: middle;\n",
       "    }\n",
       "\n",
       "    .dataframe tbody tr th {\n",
       "        vertical-align: top;\n",
       "    }\n",
       "\n",
       "    .dataframe thead th {\n",
       "        text-align: right;\n",
       "    }\n",
       "</style>\n",
       "<table border=\"1\" class=\"dataframe\">\n",
       "  <thead>\n",
       "    <tr style=\"text-align: right;\">\n",
       "      <th></th>\n",
       "      <th>interest1</th>\n",
       "      <th>interest2</th>\n",
       "      <th>interest3</th>\n",
       "      <th>interest4</th>\n",
       "      <th>interest5</th>\n",
       "    </tr>\n",
       "  </thead>\n",
       "  <tbody>\n",
       "    <tr>\n",
       "      <th>count</th>\n",
       "      <td>1.142004e+07</td>\n",
       "      <td>1.142004e+07</td>\n",
       "      <td>1.142004e+07</td>\n",
       "      <td>1.142004e+07</td>\n",
       "      <td>1.142004e+07</td>\n",
       "    </tr>\n",
       "    <tr>\n",
       "      <th>mean</th>\n",
       "      <td>5.845441e+00</td>\n",
       "      <td>3.296602e+00</td>\n",
       "      <td>9.399527e-02</td>\n",
       "      <td>4.520167e-02</td>\n",
       "      <td>5.231483e+00</td>\n",
       "    </tr>\n",
       "    <tr>\n",
       "      <th>std</th>\n",
       "      <td>1.961601e+00</td>\n",
       "      <td>2.516693e+00</td>\n",
       "      <td>5.812126e-01</td>\n",
       "      <td>3.746922e-01</td>\n",
       "      <td>3.103274e+00</td>\n",
       "    </tr>\n",
       "    <tr>\n",
       "      <th>min</th>\n",
       "      <td>0.000000e+00</td>\n",
       "      <td>0.000000e+00</td>\n",
       "      <td>0.000000e+00</td>\n",
       "      <td>0.000000e+00</td>\n",
       "      <td>0.000000e+00</td>\n",
       "    </tr>\n",
       "    <tr>\n",
       "      <th>25%</th>\n",
       "      <td>5.659482e+00</td>\n",
       "      <td>0.000000e+00</td>\n",
       "      <td>0.000000e+00</td>\n",
       "      <td>0.000000e+00</td>\n",
       "      <td>0.000000e+00</td>\n",
       "    </tr>\n",
       "    <tr>\n",
       "      <th>50%</th>\n",
       "      <td>6.466145e+00</td>\n",
       "      <td>4.382027e+00</td>\n",
       "      <td>0.000000e+00</td>\n",
       "      <td>0.000000e+00</td>\n",
       "      <td>6.872128e+00</td>\n",
       "    </tr>\n",
       "    <tr>\n",
       "      <th>75%</th>\n",
       "      <td>6.987490e+00</td>\n",
       "      <td>5.407172e+00</td>\n",
       "      <td>0.000000e+00</td>\n",
       "      <td>0.000000e+00</td>\n",
       "      <td>7.315884e+00</td>\n",
       "    </tr>\n",
       "    <tr>\n",
       "      <th>max</th>\n",
       "      <td>7.923710e+00</td>\n",
       "      <td>7.198184e+00</td>\n",
       "      <td>4.025352e+00</td>\n",
       "      <td>4.025352e+00</td>\n",
       "      <td>8.627302e+00</td>\n",
       "    </tr>\n",
       "  </tbody>\n",
       "</table>\n",
       "</div>"
      ],
      "text/plain": [
       "<div>\n",
       "<style scoped>\n",
       "    .dataframe tbody tr th:only-of-type {\n",
       "        vertical-align: middle;\n",
       "    }\n",
       "\n",
       "    .dataframe tbody tr th {\n",
       "        vertical-align: top;\n",
       "    }\n",
       "\n",
       "    .dataframe thead th {\n",
       "        text-align: right;\n",
       "    }\n",
       "</style>\n",
       "<table border=\"1\" class=\"dataframe\">\n",
       "  <thead>\n",
       "    <tr style=\"text-align: right;\">\n",
       "      <th></th>\n",
       "      <th>interest1</th>\n",
       "      <th>interest2</th>\n",
       "      <th>interest3</th>\n",
       "      <th>interest4</th>\n",
       "      <th>interest5</th>\n",
       "    </tr>\n",
       "  </thead>\n",
       "  <tbody>\n",
       "    <tr>\n",
       "      <th>count</th>\n",
       "      <td>1.142004e+07</td>\n",
       "      <td>1.142004e+07</td>\n",
       "      <td>1.142004e+07</td>\n",
       "      <td>1.142004e+07</td>\n",
       "      <td>1.142004e+07</td>\n",
       "    </tr>\n",
       "    <tr>\n",
       "      <th>mean</th>\n",
       "      <td>5.845441e+00</td>\n",
       "      <td>3.296602e+00</td>\n",
       "      <td>9.399527e-02</td>\n",
       "      <td>4.520167e-02</td>\n",
       "      <td>5.231483e+00</td>\n",
       "    </tr>\n",
       "    <tr>\n",
       "      <th>std</th>\n",
       "      <td>1.961601e+00</td>\n",
       "      <td>2.516693e+00</td>\n",
       "      <td>5.812126e-01</td>\n",
       "      <td>3.746922e-01</td>\n",
       "      <td>3.103274e+00</td>\n",
       "    </tr>\n",
       "    <tr>\n",
       "      <th>min</th>\n",
       "      <td>0.000000e+00</td>\n",
       "      <td>0.000000e+00</td>\n",
       "      <td>0.000000e+00</td>\n",
       "      <td>0.000000e+00</td>\n",
       "      <td>0.000000e+00</td>\n",
       "    </tr>\n",
       "    <tr>\n",
       "      <th>25%</th>\n",
       "      <td>5.659482e+00</td>\n",
       "      <td>0.000000e+00</td>\n",
       "      <td>0.000000e+00</td>\n",
       "      <td>0.000000e+00</td>\n",
       "      <td>0.000000e+00</td>\n",
       "    </tr>\n",
       "    <tr>\n",
       "      <th>50%</th>\n",
       "      <td>6.466145e+00</td>\n",
       "      <td>4.382027e+00</td>\n",
       "      <td>0.000000e+00</td>\n",
       "      <td>0.000000e+00</td>\n",
       "      <td>6.872128e+00</td>\n",
       "    </tr>\n",
       "    <tr>\n",
       "      <th>75%</th>\n",
       "      <td>6.987490e+00</td>\n",
       "      <td>5.407172e+00</td>\n",
       "      <td>0.000000e+00</td>\n",
       "      <td>0.000000e+00</td>\n",
       "      <td>7.315884e+00</td>\n",
       "    </tr>\n",
       "    <tr>\n",
       "      <th>max</th>\n",
       "      <td>7.923710e+00</td>\n",
       "      <td>7.198184e+00</td>\n",
       "      <td>4.025352e+00</td>\n",
       "      <td>4.025352e+00</td>\n",
       "      <td>8.627302e+00</td>\n",
       "    </tr>\n",
       "  </tbody>\n",
       "</table>\n",
       "</div>"
      ]
     },
     "execution_count": 18,
     "metadata": {},
     "output_type": "execute_result"
    }
   ],
   "source": [
    "interest = user_feature_v2[['interest1', 'interest2', 'interest3', 'interest4', 'interest5']]\n",
    "interest = np.log(interest + 1)\n",
    "interest.describe()"
   ]
  },
  {
   "cell_type": "code",
   "execution_count": 19,
   "metadata": {},
   "outputs": [
    {
     "data": {
      "text/html": [
       "<div>\n",
       "<style scoped>\n",
       "    .dataframe tbody tr th:only-of-type {\n",
       "        vertical-align: middle;\n",
       "    }\n",
       "\n",
       "    .dataframe tbody tr th {\n",
       "        vertical-align: top;\n",
       "    }\n",
       "\n",
       "    .dataframe thead th {\n",
       "        text-align: right;\n",
       "    }\n",
       "</style>\n",
       "<table border=\"1\" class=\"dataframe\">\n",
       "  <thead>\n",
       "    <tr style=\"text-align: right;\">\n",
       "      <th></th>\n",
       "      <th>interest1</th>\n",
       "      <th>interest2</th>\n",
       "      <th>interest3</th>\n",
       "      <th>interest4</th>\n",
       "      <th>interest5</th>\n",
       "    </tr>\n",
       "  </thead>\n",
       "  <tbody>\n",
       "    <tr>\n",
       "      <th>count</th>\n",
       "      <td>1.142004e+07</td>\n",
       "      <td>1.142004e+07</td>\n",
       "      <td>1.142004e+07</td>\n",
       "      <td>1.142004e+07</td>\n",
       "      <td>1.142004e+07</td>\n",
       "    </tr>\n",
       "    <tr>\n",
       "      <th>mean</th>\n",
       "      <td>7.377151e-01</td>\n",
       "      <td>4.579770e-01</td>\n",
       "      <td>2.335082e-02</td>\n",
       "      <td>1.122925e-02</td>\n",
       "      <td>6.063869e-01</td>\n",
       "    </tr>\n",
       "    <tr>\n",
       "      <th>std</th>\n",
       "      <td>2.475609e-01</td>\n",
       "      <td>3.496290e-01</td>\n",
       "      <td>1.443880e-01</td>\n",
       "      <td>9.308311e-02</td>\n",
       "      <td>3.597039e-01</td>\n",
       "    </tr>\n",
       "    <tr>\n",
       "      <th>min</th>\n",
       "      <td>0.000000e+00</td>\n",
       "      <td>0.000000e+00</td>\n",
       "      <td>0.000000e+00</td>\n",
       "      <td>0.000000e+00</td>\n",
       "      <td>0.000000e+00</td>\n",
       "    </tr>\n",
       "    <tr>\n",
       "      <th>25%</th>\n",
       "      <td>7.142465e-01</td>\n",
       "      <td>0.000000e+00</td>\n",
       "      <td>0.000000e+00</td>\n",
       "      <td>0.000000e+00</td>\n",
       "      <td>0.000000e+00</td>\n",
       "    </tr>\n",
       "    <tr>\n",
       "      <th>50%</th>\n",
       "      <td>8.160501e-01</td>\n",
       "      <td>6.087684e-01</td>\n",
       "      <td>0.000000e+00</td>\n",
       "      <td>0.000000e+00</td>\n",
       "      <td>7.965558e-01</td>\n",
       "    </tr>\n",
       "    <tr>\n",
       "      <th>75%</th>\n",
       "      <td>8.818457e-01</td>\n",
       "      <td>7.511856e-01</td>\n",
       "      <td>0.000000e+00</td>\n",
       "      <td>0.000000e+00</td>\n",
       "      <td>8.479920e-01</td>\n",
       "    </tr>\n",
       "    <tr>\n",
       "      <th>max</th>\n",
       "      <td>1.000000e+00</td>\n",
       "      <td>1.000000e+00</td>\n",
       "      <td>1.000000e+00</td>\n",
       "      <td>1.000000e+00</td>\n",
       "      <td>1.000000e+00</td>\n",
       "    </tr>\n",
       "  </tbody>\n",
       "</table>\n",
       "</div>"
      ],
      "text/plain": [
       "<div>\n",
       "<style scoped>\n",
       "    .dataframe tbody tr th:only-of-type {\n",
       "        vertical-align: middle;\n",
       "    }\n",
       "\n",
       "    .dataframe tbody tr th {\n",
       "        vertical-align: top;\n",
       "    }\n",
       "\n",
       "    .dataframe thead th {\n",
       "        text-align: right;\n",
       "    }\n",
       "</style>\n",
       "<table border=\"1\" class=\"dataframe\">\n",
       "  <thead>\n",
       "    <tr style=\"text-align: right;\">\n",
       "      <th></th>\n",
       "      <th>interest1</th>\n",
       "      <th>interest2</th>\n",
       "      <th>interest3</th>\n",
       "      <th>interest4</th>\n",
       "      <th>interest5</th>\n",
       "    </tr>\n",
       "  </thead>\n",
       "  <tbody>\n",
       "    <tr>\n",
       "      <th>count</th>\n",
       "      <td>1.142004e+07</td>\n",
       "      <td>1.142004e+07</td>\n",
       "      <td>1.142004e+07</td>\n",
       "      <td>1.142004e+07</td>\n",
       "      <td>1.142004e+07</td>\n",
       "    </tr>\n",
       "    <tr>\n",
       "      <th>mean</th>\n",
       "      <td>7.377151e-01</td>\n",
       "      <td>4.579770e-01</td>\n",
       "      <td>2.335082e-02</td>\n",
       "      <td>1.122925e-02</td>\n",
       "      <td>6.063869e-01</td>\n",
       "    </tr>\n",
       "    <tr>\n",
       "      <th>std</th>\n",
       "      <td>2.475609e-01</td>\n",
       "      <td>3.496290e-01</td>\n",
       "      <td>1.443880e-01</td>\n",
       "      <td>9.308311e-02</td>\n",
       "      <td>3.597039e-01</td>\n",
       "    </tr>\n",
       "    <tr>\n",
       "      <th>min</th>\n",
       "      <td>0.000000e+00</td>\n",
       "      <td>0.000000e+00</td>\n",
       "      <td>0.000000e+00</td>\n",
       "      <td>0.000000e+00</td>\n",
       "      <td>0.000000e+00</td>\n",
       "    </tr>\n",
       "    <tr>\n",
       "      <th>25%</th>\n",
       "      <td>7.142465e-01</td>\n",
       "      <td>0.000000e+00</td>\n",
       "      <td>0.000000e+00</td>\n",
       "      <td>0.000000e+00</td>\n",
       "      <td>0.000000e+00</td>\n",
       "    </tr>\n",
       "    <tr>\n",
       "      <th>50%</th>\n",
       "      <td>8.160501e-01</td>\n",
       "      <td>6.087684e-01</td>\n",
       "      <td>0.000000e+00</td>\n",
       "      <td>0.000000e+00</td>\n",
       "      <td>7.965558e-01</td>\n",
       "    </tr>\n",
       "    <tr>\n",
       "      <th>75%</th>\n",
       "      <td>8.818457e-01</td>\n",
       "      <td>7.511856e-01</td>\n",
       "      <td>0.000000e+00</td>\n",
       "      <td>0.000000e+00</td>\n",
       "      <td>8.479920e-01</td>\n",
       "    </tr>\n",
       "    <tr>\n",
       "      <th>max</th>\n",
       "      <td>1.000000e+00</td>\n",
       "      <td>1.000000e+00</td>\n",
       "      <td>1.000000e+00</td>\n",
       "      <td>1.000000e+00</td>\n",
       "      <td>1.000000e+00</td>\n",
       "    </tr>\n",
       "  </tbody>\n",
       "</table>\n",
       "</div>"
      ]
     },
     "execution_count": 19,
     "metadata": {},
     "output_type": "execute_result"
    }
   ],
   "source": [
    "interest['interest1'] = interest['interest1'] / interest['interest1'].max()\n",
    "interest['interest2'] = interest['interest2'] / interest['interest2'].max()\n",
    "interest['interest3'] = interest['interest3'] / interest['interest3'].max()\n",
    "interest['interest4'] = interest['interest4'] / interest['interest4'].max()\n",
    "interest['interest5'] = interest['interest5'] / interest['interest5'].max()\n",
    "interest.describe()"
   ]
  },
  {
   "cell_type": "code",
   "execution_count": 20,
   "metadata": {},
   "outputs": [],
   "source": [
    "user_feature_v2[['interest1', 'interest2', 'interest3', 'interest4', 'interest5']] = interest"
   ]
  },
  {
   "cell_type": "code",
   "execution_count": 22,
   "metadata": {},
   "outputs": [
    {
     "data": {
      "text/html": [
       "<div>\n",
       "<style scoped>\n",
       "    .dataframe tbody tr th:only-of-type {\n",
       "        vertical-align: middle;\n",
       "    }\n",
       "\n",
       "    .dataframe tbody tr th {\n",
       "        vertical-align: top;\n",
       "    }\n",
       "\n",
       "    .dataframe thead th {\n",
       "        text-align: right;\n",
       "    }\n",
       "</style>\n",
       "<table border=\"1\" class=\"dataframe\">\n",
       "  <thead>\n",
       "    <tr style=\"text-align: right;\">\n",
       "      <th></th>\n",
       "      <th>kw1</th>\n",
       "      <th>kw2</th>\n",
       "      <th>kw3</th>\n",
       "    </tr>\n",
       "  </thead>\n",
       "  <tbody>\n",
       "    <tr>\n",
       "      <th>count</th>\n",
       "      <td>1.142004e+07</td>\n",
       "      <td>1.142004e+07</td>\n",
       "      <td>1.142004e+07</td>\n",
       "    </tr>\n",
       "    <tr>\n",
       "      <th>mean</th>\n",
       "      <td>1.687725e+06</td>\n",
       "      <td>2.804024e+05</td>\n",
       "      <td>6.555218e+03</td>\n",
       "    </tr>\n",
       "    <tr>\n",
       "      <th>std</th>\n",
       "      <td>7.780009e+05</td>\n",
       "      <td>9.757291e+04</td>\n",
       "      <td>3.084833e+04</td>\n",
       "    </tr>\n",
       "    <tr>\n",
       "      <th>min</th>\n",
       "      <td>0.000000e+00</td>\n",
       "      <td>0.000000e+00</td>\n",
       "      <td>0.000000e+00</td>\n",
       "    </tr>\n",
       "    <tr>\n",
       "      <th>25%</th>\n",
       "      <td>1.333634e+06</td>\n",
       "      <td>2.293260e+05</td>\n",
       "      <td>0.000000e+00</td>\n",
       "    </tr>\n",
       "    <tr>\n",
       "      <th>50%</th>\n",
       "      <td>1.816527e+06</td>\n",
       "      <td>2.890210e+05</td>\n",
       "      <td>0.000000e+00</td>\n",
       "    </tr>\n",
       "    <tr>\n",
       "      <th>75%</th>\n",
       "      <td>2.221677e+06</td>\n",
       "      <td>3.453920e+05</td>\n",
       "      <td>0.000000e+00</td>\n",
       "    </tr>\n",
       "    <tr>\n",
       "      <th>max</th>\n",
       "      <td>3.856195e+06</td>\n",
       "      <td>5.977220e+05</td>\n",
       "      <td>2.789240e+05</td>\n",
       "    </tr>\n",
       "  </tbody>\n",
       "</table>\n",
       "</div>"
      ],
      "text/plain": [
       "<div>\n",
       "<style scoped>\n",
       "    .dataframe tbody tr th:only-of-type {\n",
       "        vertical-align: middle;\n",
       "    }\n",
       "\n",
       "    .dataframe tbody tr th {\n",
       "        vertical-align: top;\n",
       "    }\n",
       "\n",
       "    .dataframe thead th {\n",
       "        text-align: right;\n",
       "    }\n",
       "</style>\n",
       "<table border=\"1\" class=\"dataframe\">\n",
       "  <thead>\n",
       "    <tr style=\"text-align: right;\">\n",
       "      <th></th>\n",
       "      <th>kw1</th>\n",
       "      <th>kw2</th>\n",
       "      <th>kw3</th>\n",
       "    </tr>\n",
       "  </thead>\n",
       "  <tbody>\n",
       "    <tr>\n",
       "      <th>count</th>\n",
       "      <td>1.142004e+07</td>\n",
       "      <td>1.142004e+07</td>\n",
       "      <td>1.142004e+07</td>\n",
       "    </tr>\n",
       "    <tr>\n",
       "      <th>mean</th>\n",
       "      <td>1.687725e+06</td>\n",
       "      <td>2.804024e+05</td>\n",
       "      <td>6.555218e+03</td>\n",
       "    </tr>\n",
       "    <tr>\n",
       "      <th>std</th>\n",
       "      <td>7.780009e+05</td>\n",
       "      <td>9.757291e+04</td>\n",
       "      <td>3.084833e+04</td>\n",
       "    </tr>\n",
       "    <tr>\n",
       "      <th>min</th>\n",
       "      <td>0.000000e+00</td>\n",
       "      <td>0.000000e+00</td>\n",
       "      <td>0.000000e+00</td>\n",
       "    </tr>\n",
       "    <tr>\n",
       "      <th>25%</th>\n",
       "      <td>1.333634e+06</td>\n",
       "      <td>2.293260e+05</td>\n",
       "      <td>0.000000e+00</td>\n",
       "    </tr>\n",
       "    <tr>\n",
       "      <th>50%</th>\n",
       "      <td>1.816527e+06</td>\n",
       "      <td>2.890210e+05</td>\n",
       "      <td>0.000000e+00</td>\n",
       "    </tr>\n",
       "    <tr>\n",
       "      <th>75%</th>\n",
       "      <td>2.221677e+06</td>\n",
       "      <td>3.453920e+05</td>\n",
       "      <td>0.000000e+00</td>\n",
       "    </tr>\n",
       "    <tr>\n",
       "      <th>max</th>\n",
       "      <td>3.856195e+06</td>\n",
       "      <td>5.977220e+05</td>\n",
       "      <td>2.789240e+05</td>\n",
       "    </tr>\n",
       "  </tbody>\n",
       "</table>\n",
       "</div>"
      ]
     },
     "execution_count": 22,
     "metadata": {},
     "output_type": "execute_result"
    }
   ],
   "source": [
    "kw = user_feature_v2[['kw1', 'kw2', 'kw3']]\n",
    "kw.describe()"
   ]
  },
  {
   "cell_type": "code",
   "execution_count": 23,
   "metadata": {},
   "outputs": [
    {
     "data": {
      "text/html": [
       "<div>\n",
       "<style scoped>\n",
       "    .dataframe tbody tr th:only-of-type {\n",
       "        vertical-align: middle;\n",
       "    }\n",
       "\n",
       "    .dataframe tbody tr th {\n",
       "        vertical-align: top;\n",
       "    }\n",
       "\n",
       "    .dataframe thead th {\n",
       "        text-align: right;\n",
       "    }\n",
       "</style>\n",
       "<table border=\"1\" class=\"dataframe\">\n",
       "  <thead>\n",
       "    <tr style=\"text-align: right;\">\n",
       "      <th></th>\n",
       "      <th>kw1</th>\n",
       "      <th>kw2</th>\n",
       "      <th>kw3</th>\n",
       "    </tr>\n",
       "  </thead>\n",
       "  <tbody>\n",
       "    <tr>\n",
       "      <th>count</th>\n",
       "      <td>1.142004e+07</td>\n",
       "      <td>1.142004e+07</td>\n",
       "      <td>1.142004e+07</td>\n",
       "    </tr>\n",
       "    <tr>\n",
       "      <th>mean</th>\n",
       "      <td>1.301020e+01</td>\n",
       "      <td>1.207047e+01</td>\n",
       "      <td>5.399777e-01</td>\n",
       "    </tr>\n",
       "    <tr>\n",
       "      <th>std</th>\n",
       "      <td>4.217958e+00</td>\n",
       "      <td>2.380456e+00</td>\n",
       "      <td>2.471327e+00</td>\n",
       "    </tr>\n",
       "    <tr>\n",
       "      <th>min</th>\n",
       "      <td>0.000000e+00</td>\n",
       "      <td>0.000000e+00</td>\n",
       "      <td>0.000000e+00</td>\n",
       "    </tr>\n",
       "    <tr>\n",
       "      <th>25%</th>\n",
       "      <td>1.410342e+01</td>\n",
       "      <td>1.234290e+01</td>\n",
       "      <td>0.000000e+00</td>\n",
       "    </tr>\n",
       "    <tr>\n",
       "      <th>50%</th>\n",
       "      <td>1.441244e+01</td>\n",
       "      <td>1.257426e+01</td>\n",
       "      <td>0.000000e+00</td>\n",
       "    </tr>\n",
       "    <tr>\n",
       "      <th>75%</th>\n",
       "      <td>1.461377e+01</td>\n",
       "      <td>1.275244e+01</td>\n",
       "      <td>0.000000e+00</td>\n",
       "    </tr>\n",
       "    <tr>\n",
       "      <th>max</th>\n",
       "      <td>1.516519e+01</td>\n",
       "      <td>1.330088e+01</td>\n",
       "      <td>1.253870e+01</td>\n",
       "    </tr>\n",
       "  </tbody>\n",
       "</table>\n",
       "</div>"
      ],
      "text/plain": [
       "<div>\n",
       "<style scoped>\n",
       "    .dataframe tbody tr th:only-of-type {\n",
       "        vertical-align: middle;\n",
       "    }\n",
       "\n",
       "    .dataframe tbody tr th {\n",
       "        vertical-align: top;\n",
       "    }\n",
       "\n",
       "    .dataframe thead th {\n",
       "        text-align: right;\n",
       "    }\n",
       "</style>\n",
       "<table border=\"1\" class=\"dataframe\">\n",
       "  <thead>\n",
       "    <tr style=\"text-align: right;\">\n",
       "      <th></th>\n",
       "      <th>kw1</th>\n",
       "      <th>kw2</th>\n",
       "      <th>kw3</th>\n",
       "    </tr>\n",
       "  </thead>\n",
       "  <tbody>\n",
       "    <tr>\n",
       "      <th>count</th>\n",
       "      <td>1.142004e+07</td>\n",
       "      <td>1.142004e+07</td>\n",
       "      <td>1.142004e+07</td>\n",
       "    </tr>\n",
       "    <tr>\n",
       "      <th>mean</th>\n",
       "      <td>1.301020e+01</td>\n",
       "      <td>1.207047e+01</td>\n",
       "      <td>5.399777e-01</td>\n",
       "    </tr>\n",
       "    <tr>\n",
       "      <th>std</th>\n",
       "      <td>4.217958e+00</td>\n",
       "      <td>2.380456e+00</td>\n",
       "      <td>2.471327e+00</td>\n",
       "    </tr>\n",
       "    <tr>\n",
       "      <th>min</th>\n",
       "      <td>0.000000e+00</td>\n",
       "      <td>0.000000e+00</td>\n",
       "      <td>0.000000e+00</td>\n",
       "    </tr>\n",
       "    <tr>\n",
       "      <th>25%</th>\n",
       "      <td>1.410342e+01</td>\n",
       "      <td>1.234290e+01</td>\n",
       "      <td>0.000000e+00</td>\n",
       "    </tr>\n",
       "    <tr>\n",
       "      <th>50%</th>\n",
       "      <td>1.441244e+01</td>\n",
       "      <td>1.257426e+01</td>\n",
       "      <td>0.000000e+00</td>\n",
       "    </tr>\n",
       "    <tr>\n",
       "      <th>75%</th>\n",
       "      <td>1.461377e+01</td>\n",
       "      <td>1.275244e+01</td>\n",
       "      <td>0.000000e+00</td>\n",
       "    </tr>\n",
       "    <tr>\n",
       "      <th>max</th>\n",
       "      <td>1.516519e+01</td>\n",
       "      <td>1.330088e+01</td>\n",
       "      <td>1.253870e+01</td>\n",
       "    </tr>\n",
       "  </tbody>\n",
       "</table>\n",
       "</div>"
      ]
     },
     "execution_count": 23,
     "metadata": {},
     "output_type": "execute_result"
    }
   ],
   "source": [
    "kw = np.log(kw + 1)\n",
    "kw.describe()"
   ]
  },
  {
   "cell_type": "code",
   "execution_count": 24,
   "metadata": {},
   "outputs": [
    {
     "data": {
      "text/html": [
       "<div>\n",
       "<style scoped>\n",
       "    .dataframe tbody tr th:only-of-type {\n",
       "        vertical-align: middle;\n",
       "    }\n",
       "\n",
       "    .dataframe tbody tr th {\n",
       "        vertical-align: top;\n",
       "    }\n",
       "\n",
       "    .dataframe thead th {\n",
       "        text-align: right;\n",
       "    }\n",
       "</style>\n",
       "<table border=\"1\" class=\"dataframe\">\n",
       "  <thead>\n",
       "    <tr style=\"text-align: right;\">\n",
       "      <th></th>\n",
       "      <th>kw1</th>\n",
       "      <th>kw2</th>\n",
       "      <th>kw3</th>\n",
       "    </tr>\n",
       "  </thead>\n",
       "  <tbody>\n",
       "    <tr>\n",
       "      <th>count</th>\n",
       "      <td>1.142004e+07</td>\n",
       "      <td>1.142004e+07</td>\n",
       "      <td>1.142004e+07</td>\n",
       "    </tr>\n",
       "    <tr>\n",
       "      <th>mean</th>\n",
       "      <td>8.578989e-01</td>\n",
       "      <td>9.074936e-01</td>\n",
       "      <td>4.306489e-02</td>\n",
       "    </tr>\n",
       "    <tr>\n",
       "      <th>std</th>\n",
       "      <td>2.781342e-01</td>\n",
       "      <td>1.789698e-01</td>\n",
       "      <td>1.970960e-01</td>\n",
       "    </tr>\n",
       "    <tr>\n",
       "      <th>min</th>\n",
       "      <td>0.000000e+00</td>\n",
       "      <td>0.000000e+00</td>\n",
       "      <td>0.000000e+00</td>\n",
       "    </tr>\n",
       "    <tr>\n",
       "      <th>25%</th>\n",
       "      <td>9.299862e-01</td>\n",
       "      <td>9.279763e-01</td>\n",
       "      <td>0.000000e+00</td>\n",
       "    </tr>\n",
       "    <tr>\n",
       "      <th>50%</th>\n",
       "      <td>9.503630e-01</td>\n",
       "      <td>9.453702e-01</td>\n",
       "      <td>0.000000e+00</td>\n",
       "    </tr>\n",
       "    <tr>\n",
       "      <th>75%</th>\n",
       "      <td>9.636392e-01</td>\n",
       "      <td>9.587663e-01</td>\n",
       "      <td>0.000000e+00</td>\n",
       "    </tr>\n",
       "    <tr>\n",
       "      <th>max</th>\n",
       "      <td>1.000000e+00</td>\n",
       "      <td>1.000000e+00</td>\n",
       "      <td>1.000000e+00</td>\n",
       "    </tr>\n",
       "  </tbody>\n",
       "</table>\n",
       "</div>"
      ],
      "text/plain": [
       "<div>\n",
       "<style scoped>\n",
       "    .dataframe tbody tr th:only-of-type {\n",
       "        vertical-align: middle;\n",
       "    }\n",
       "\n",
       "    .dataframe tbody tr th {\n",
       "        vertical-align: top;\n",
       "    }\n",
       "\n",
       "    .dataframe thead th {\n",
       "        text-align: right;\n",
       "    }\n",
       "</style>\n",
       "<table border=\"1\" class=\"dataframe\">\n",
       "  <thead>\n",
       "    <tr style=\"text-align: right;\">\n",
       "      <th></th>\n",
       "      <th>kw1</th>\n",
       "      <th>kw2</th>\n",
       "      <th>kw3</th>\n",
       "    </tr>\n",
       "  </thead>\n",
       "  <tbody>\n",
       "    <tr>\n",
       "      <th>count</th>\n",
       "      <td>1.142004e+07</td>\n",
       "      <td>1.142004e+07</td>\n",
       "      <td>1.142004e+07</td>\n",
       "    </tr>\n",
       "    <tr>\n",
       "      <th>mean</th>\n",
       "      <td>8.578989e-01</td>\n",
       "      <td>9.074936e-01</td>\n",
       "      <td>4.306489e-02</td>\n",
       "    </tr>\n",
       "    <tr>\n",
       "      <th>std</th>\n",
       "      <td>2.781342e-01</td>\n",
       "      <td>1.789698e-01</td>\n",
       "      <td>1.970960e-01</td>\n",
       "    </tr>\n",
       "    <tr>\n",
       "      <th>min</th>\n",
       "      <td>0.000000e+00</td>\n",
       "      <td>0.000000e+00</td>\n",
       "      <td>0.000000e+00</td>\n",
       "    </tr>\n",
       "    <tr>\n",
       "      <th>25%</th>\n",
       "      <td>9.299862e-01</td>\n",
       "      <td>9.279763e-01</td>\n",
       "      <td>0.000000e+00</td>\n",
       "    </tr>\n",
       "    <tr>\n",
       "      <th>50%</th>\n",
       "      <td>9.503630e-01</td>\n",
       "      <td>9.453702e-01</td>\n",
       "      <td>0.000000e+00</td>\n",
       "    </tr>\n",
       "    <tr>\n",
       "      <th>75%</th>\n",
       "      <td>9.636392e-01</td>\n",
       "      <td>9.587663e-01</td>\n",
       "      <td>0.000000e+00</td>\n",
       "    </tr>\n",
       "    <tr>\n",
       "      <th>max</th>\n",
       "      <td>1.000000e+00</td>\n",
       "      <td>1.000000e+00</td>\n",
       "      <td>1.000000e+00</td>\n",
       "    </tr>\n",
       "  </tbody>\n",
       "</table>\n",
       "</div>"
      ]
     },
     "execution_count": 24,
     "metadata": {},
     "output_type": "execute_result"
    }
   ],
   "source": [
    "kw['kw1'] = kw['kw1'] / kw['kw1'].max()\n",
    "kw['kw2'] = kw['kw2'] / kw['kw2'].max()\n",
    "kw['kw3'] = kw['kw3'] / kw['kw3'].max()\n",
    "kw.describe()"
   ]
  },
  {
   "cell_type": "code",
   "execution_count": 25,
   "metadata": {},
   "outputs": [],
   "source": [
    "user_feature_v2[['kw1', 'kw2', 'kw3']] = kw"
   ]
  },
  {
   "cell_type": "code",
   "execution_count": 27,
   "metadata": {},
   "outputs": [
    {
     "data": {
      "text/html": [
       "<div>\n",
       "<style scoped>\n",
       "    .dataframe tbody tr th:only-of-type {\n",
       "        vertical-align: middle;\n",
       "    }\n",
       "\n",
       "    .dataframe tbody tr th {\n",
       "        vertical-align: top;\n",
       "    }\n",
       "\n",
       "    .dataframe thead th {\n",
       "        text-align: right;\n",
       "    }\n",
       "</style>\n",
       "<table border=\"1\" class=\"dataframe\">\n",
       "  <thead>\n",
       "    <tr style=\"text-align: right;\">\n",
       "      <th></th>\n",
       "      <th>topic1</th>\n",
       "      <th>topic2</th>\n",
       "      <th>topic3</th>\n",
       "    </tr>\n",
       "  </thead>\n",
       "  <tbody>\n",
       "    <tr>\n",
       "      <th>count</th>\n",
       "      <td>1.142004e+07</td>\n",
       "      <td>1.142004e+07</td>\n",
       "      <td>1.142004e+07</td>\n",
       "    </tr>\n",
       "    <tr>\n",
       "      <th>mean</th>\n",
       "      <td>2.445152e+04</td>\n",
       "      <td>2.387991e+04</td>\n",
       "      <td>1.005147e+03</td>\n",
       "    </tr>\n",
       "    <tr>\n",
       "      <th>std</th>\n",
       "      <td>9.608532e+03</td>\n",
       "      <td>8.056260e+03</td>\n",
       "      <td>4.796936e+03</td>\n",
       "    </tr>\n",
       "    <tr>\n",
       "      <th>min</th>\n",
       "      <td>0.000000e+00</td>\n",
       "      <td>0.000000e+00</td>\n",
       "      <td>0.000000e+00</td>\n",
       "    </tr>\n",
       "    <tr>\n",
       "      <th>25%</th>\n",
       "      <td>2.050800e+04</td>\n",
       "      <td>1.960800e+04</td>\n",
       "      <td>0.000000e+00</td>\n",
       "    </tr>\n",
       "    <tr>\n",
       "      <th>50%</th>\n",
       "      <td>2.594000e+04</td>\n",
       "      <td>2.438800e+04</td>\n",
       "      <td>0.000000e+00</td>\n",
       "    </tr>\n",
       "    <tr>\n",
       "      <th>75%</th>\n",
       "      <td>3.076400e+04</td>\n",
       "      <td>2.921100e+04</td>\n",
       "      <td>0.000000e+00</td>\n",
       "    </tr>\n",
       "    <tr>\n",
       "      <th>max</th>\n",
       "      <td>4.930200e+04</td>\n",
       "      <td>4.890600e+04</td>\n",
       "      <td>4.602900e+04</td>\n",
       "    </tr>\n",
       "  </tbody>\n",
       "</table>\n",
       "</div>"
      ],
      "text/plain": [
       "<div>\n",
       "<style scoped>\n",
       "    .dataframe tbody tr th:only-of-type {\n",
       "        vertical-align: middle;\n",
       "    }\n",
       "\n",
       "    .dataframe tbody tr th {\n",
       "        vertical-align: top;\n",
       "    }\n",
       "\n",
       "    .dataframe thead th {\n",
       "        text-align: right;\n",
       "    }\n",
       "</style>\n",
       "<table border=\"1\" class=\"dataframe\">\n",
       "  <thead>\n",
       "    <tr style=\"text-align: right;\">\n",
       "      <th></th>\n",
       "      <th>topic1</th>\n",
       "      <th>topic2</th>\n",
       "      <th>topic3</th>\n",
       "    </tr>\n",
       "  </thead>\n",
       "  <tbody>\n",
       "    <tr>\n",
       "      <th>count</th>\n",
       "      <td>1.142004e+07</td>\n",
       "      <td>1.142004e+07</td>\n",
       "      <td>1.142004e+07</td>\n",
       "    </tr>\n",
       "    <tr>\n",
       "      <th>mean</th>\n",
       "      <td>2.445152e+04</td>\n",
       "      <td>2.387991e+04</td>\n",
       "      <td>1.005147e+03</td>\n",
       "    </tr>\n",
       "    <tr>\n",
       "      <th>std</th>\n",
       "      <td>9.608532e+03</td>\n",
       "      <td>8.056260e+03</td>\n",
       "      <td>4.796936e+03</td>\n",
       "    </tr>\n",
       "    <tr>\n",
       "      <th>min</th>\n",
       "      <td>0.000000e+00</td>\n",
       "      <td>0.000000e+00</td>\n",
       "      <td>0.000000e+00</td>\n",
       "    </tr>\n",
       "    <tr>\n",
       "      <th>25%</th>\n",
       "      <td>2.050800e+04</td>\n",
       "      <td>1.960800e+04</td>\n",
       "      <td>0.000000e+00</td>\n",
       "    </tr>\n",
       "    <tr>\n",
       "      <th>50%</th>\n",
       "      <td>2.594000e+04</td>\n",
       "      <td>2.438800e+04</td>\n",
       "      <td>0.000000e+00</td>\n",
       "    </tr>\n",
       "    <tr>\n",
       "      <th>75%</th>\n",
       "      <td>3.076400e+04</td>\n",
       "      <td>2.921100e+04</td>\n",
       "      <td>0.000000e+00</td>\n",
       "    </tr>\n",
       "    <tr>\n",
       "      <th>max</th>\n",
       "      <td>4.930200e+04</td>\n",
       "      <td>4.890600e+04</td>\n",
       "      <td>4.602900e+04</td>\n",
       "    </tr>\n",
       "  </tbody>\n",
       "</table>\n",
       "</div>"
      ]
     },
     "execution_count": 27,
     "metadata": {},
     "output_type": "execute_result"
    }
   ],
   "source": [
    "topic = user_feature_v2[['topic1', 'topic2', 'topic3']]\n",
    "topic.describe()"
   ]
  },
  {
   "cell_type": "code",
   "execution_count": 28,
   "metadata": {},
   "outputs": [
    {
     "data": {
      "text/html": [
       "<div>\n",
       "<style scoped>\n",
       "    .dataframe tbody tr th:only-of-type {\n",
       "        vertical-align: middle;\n",
       "    }\n",
       "\n",
       "    .dataframe tbody tr th {\n",
       "        vertical-align: top;\n",
       "    }\n",
       "\n",
       "    .dataframe thead th {\n",
       "        text-align: right;\n",
       "    }\n",
       "</style>\n",
       "<table border=\"1\" class=\"dataframe\">\n",
       "  <thead>\n",
       "    <tr style=\"text-align: right;\">\n",
       "      <th></th>\n",
       "      <th>topic1</th>\n",
       "      <th>topic2</th>\n",
       "      <th>topic3</th>\n",
       "    </tr>\n",
       "  </thead>\n",
       "  <tbody>\n",
       "    <tr>\n",
       "      <th>count</th>\n",
       "      <td>1.142004e+07</td>\n",
       "      <td>1.142004e+07</td>\n",
       "      <td>1.142004e+07</td>\n",
       "    </tr>\n",
       "    <tr>\n",
       "      <th>mean</th>\n",
       "      <td>9.343075e+00</td>\n",
       "      <td>9.691057e+00</td>\n",
       "      <td>4.547107e-01</td>\n",
       "    </tr>\n",
       "    <tr>\n",
       "      <th>std</th>\n",
       "      <td>2.762468e+00</td>\n",
       "      <td>1.964612e+00</td>\n",
       "      <td>2.079076e+00</td>\n",
       "    </tr>\n",
       "    <tr>\n",
       "      <th>min</th>\n",
       "      <td>0.000000e+00</td>\n",
       "      <td>0.000000e+00</td>\n",
       "      <td>0.000000e+00</td>\n",
       "    </tr>\n",
       "    <tr>\n",
       "      <th>25%</th>\n",
       "      <td>9.928619e+00</td>\n",
       "      <td>9.883744e+00</td>\n",
       "      <td>0.000000e+00</td>\n",
       "    </tr>\n",
       "    <tr>\n",
       "      <th>50%</th>\n",
       "      <td>1.016358e+01</td>\n",
       "      <td>1.010189e+01</td>\n",
       "      <td>0.000000e+00</td>\n",
       "    </tr>\n",
       "    <tr>\n",
       "      <th>75%</th>\n",
       "      <td>1.033413e+01</td>\n",
       "      <td>1.028233e+01</td>\n",
       "      <td>0.000000e+00</td>\n",
       "    </tr>\n",
       "    <tr>\n",
       "      <th>max</th>\n",
       "      <td>1.080574e+01</td>\n",
       "      <td>1.079768e+01</td>\n",
       "      <td>1.073705e+01</td>\n",
       "    </tr>\n",
       "  </tbody>\n",
       "</table>\n",
       "</div>"
      ],
      "text/plain": [
       "<div>\n",
       "<style scoped>\n",
       "    .dataframe tbody tr th:only-of-type {\n",
       "        vertical-align: middle;\n",
       "    }\n",
       "\n",
       "    .dataframe tbody tr th {\n",
       "        vertical-align: top;\n",
       "    }\n",
       "\n",
       "    .dataframe thead th {\n",
       "        text-align: right;\n",
       "    }\n",
       "</style>\n",
       "<table border=\"1\" class=\"dataframe\">\n",
       "  <thead>\n",
       "    <tr style=\"text-align: right;\">\n",
       "      <th></th>\n",
       "      <th>topic1</th>\n",
       "      <th>topic2</th>\n",
       "      <th>topic3</th>\n",
       "    </tr>\n",
       "  </thead>\n",
       "  <tbody>\n",
       "    <tr>\n",
       "      <th>count</th>\n",
       "      <td>1.142004e+07</td>\n",
       "      <td>1.142004e+07</td>\n",
       "      <td>1.142004e+07</td>\n",
       "    </tr>\n",
       "    <tr>\n",
       "      <th>mean</th>\n",
       "      <td>9.343075e+00</td>\n",
       "      <td>9.691057e+00</td>\n",
       "      <td>4.547107e-01</td>\n",
       "    </tr>\n",
       "    <tr>\n",
       "      <th>std</th>\n",
       "      <td>2.762468e+00</td>\n",
       "      <td>1.964612e+00</td>\n",
       "      <td>2.079076e+00</td>\n",
       "    </tr>\n",
       "    <tr>\n",
       "      <th>min</th>\n",
       "      <td>0.000000e+00</td>\n",
       "      <td>0.000000e+00</td>\n",
       "      <td>0.000000e+00</td>\n",
       "    </tr>\n",
       "    <tr>\n",
       "      <th>25%</th>\n",
       "      <td>9.928619e+00</td>\n",
       "      <td>9.883744e+00</td>\n",
       "      <td>0.000000e+00</td>\n",
       "    </tr>\n",
       "    <tr>\n",
       "      <th>50%</th>\n",
       "      <td>1.016358e+01</td>\n",
       "      <td>1.010189e+01</td>\n",
       "      <td>0.000000e+00</td>\n",
       "    </tr>\n",
       "    <tr>\n",
       "      <th>75%</th>\n",
       "      <td>1.033413e+01</td>\n",
       "      <td>1.028233e+01</td>\n",
       "      <td>0.000000e+00</td>\n",
       "    </tr>\n",
       "    <tr>\n",
       "      <th>max</th>\n",
       "      <td>1.080574e+01</td>\n",
       "      <td>1.079768e+01</td>\n",
       "      <td>1.073705e+01</td>\n",
       "    </tr>\n",
       "  </tbody>\n",
       "</table>\n",
       "</div>"
      ]
     },
     "execution_count": 28,
     "metadata": {},
     "output_type": "execute_result"
    }
   ],
   "source": [
    "topic = np.log(topic + 1)\n",
    "topic.describe()"
   ]
  },
  {
   "cell_type": "code",
   "execution_count": 29,
   "metadata": {},
   "outputs": [
    {
     "data": {
      "text/html": [
       "<div>\n",
       "<style scoped>\n",
       "    .dataframe tbody tr th:only-of-type {\n",
       "        vertical-align: middle;\n",
       "    }\n",
       "\n",
       "    .dataframe tbody tr th {\n",
       "        vertical-align: top;\n",
       "    }\n",
       "\n",
       "    .dataframe thead th {\n",
       "        text-align: right;\n",
       "    }\n",
       "</style>\n",
       "<table border=\"1\" class=\"dataframe\">\n",
       "  <thead>\n",
       "    <tr style=\"text-align: right;\">\n",
       "      <th></th>\n",
       "      <th>topic1</th>\n",
       "      <th>topic2</th>\n",
       "      <th>topic3</th>\n",
       "    </tr>\n",
       "  </thead>\n",
       "  <tbody>\n",
       "    <tr>\n",
       "      <th>count</th>\n",
       "      <td>1.142004e+07</td>\n",
       "      <td>1.142004e+07</td>\n",
       "      <td>1.142004e+07</td>\n",
       "    </tr>\n",
       "    <tr>\n",
       "      <th>mean</th>\n",
       "      <td>8.646400e-01</td>\n",
       "      <td>8.975133e-01</td>\n",
       "      <td>4.234969e-02</td>\n",
       "    </tr>\n",
       "    <tr>\n",
       "      <th>std</th>\n",
       "      <td>2.556482e-01</td>\n",
       "      <td>1.819476e-01</td>\n",
       "      <td>1.936357e-01</td>\n",
       "    </tr>\n",
       "    <tr>\n",
       "      <th>min</th>\n",
       "      <td>0.000000e+00</td>\n",
       "      <td>0.000000e+00</td>\n",
       "      <td>0.000000e+00</td>\n",
       "    </tr>\n",
       "    <tr>\n",
       "      <th>25%</th>\n",
       "      <td>9.188282e-01</td>\n",
       "      <td>9.153585e-01</td>\n",
       "      <td>0.000000e+00</td>\n",
       "    </tr>\n",
       "    <tr>\n",
       "      <th>50%</th>\n",
       "      <td>9.405723e-01</td>\n",
       "      <td>9.355613e-01</td>\n",
       "      <td>0.000000e+00</td>\n",
       "    </tr>\n",
       "    <tr>\n",
       "      <th>75%</th>\n",
       "      <td>9.563559e-01</td>\n",
       "      <td>9.522730e-01</td>\n",
       "      <td>0.000000e+00</td>\n",
       "    </tr>\n",
       "    <tr>\n",
       "      <th>max</th>\n",
       "      <td>1.000000e+00</td>\n",
       "      <td>1.000000e+00</td>\n",
       "      <td>1.000000e+00</td>\n",
       "    </tr>\n",
       "  </tbody>\n",
       "</table>\n",
       "</div>"
      ],
      "text/plain": [
       "<div>\n",
       "<style scoped>\n",
       "    .dataframe tbody tr th:only-of-type {\n",
       "        vertical-align: middle;\n",
       "    }\n",
       "\n",
       "    .dataframe tbody tr th {\n",
       "        vertical-align: top;\n",
       "    }\n",
       "\n",
       "    .dataframe thead th {\n",
       "        text-align: right;\n",
       "    }\n",
       "</style>\n",
       "<table border=\"1\" class=\"dataframe\">\n",
       "  <thead>\n",
       "    <tr style=\"text-align: right;\">\n",
       "      <th></th>\n",
       "      <th>topic1</th>\n",
       "      <th>topic2</th>\n",
       "      <th>topic3</th>\n",
       "    </tr>\n",
       "  </thead>\n",
       "  <tbody>\n",
       "    <tr>\n",
       "      <th>count</th>\n",
       "      <td>1.142004e+07</td>\n",
       "      <td>1.142004e+07</td>\n",
       "      <td>1.142004e+07</td>\n",
       "    </tr>\n",
       "    <tr>\n",
       "      <th>mean</th>\n",
       "      <td>8.646400e-01</td>\n",
       "      <td>8.975133e-01</td>\n",
       "      <td>4.234969e-02</td>\n",
       "    </tr>\n",
       "    <tr>\n",
       "      <th>std</th>\n",
       "      <td>2.556482e-01</td>\n",
       "      <td>1.819476e-01</td>\n",
       "      <td>1.936357e-01</td>\n",
       "    </tr>\n",
       "    <tr>\n",
       "      <th>min</th>\n",
       "      <td>0.000000e+00</td>\n",
       "      <td>0.000000e+00</td>\n",
       "      <td>0.000000e+00</td>\n",
       "    </tr>\n",
       "    <tr>\n",
       "      <th>25%</th>\n",
       "      <td>9.188282e-01</td>\n",
       "      <td>9.153585e-01</td>\n",
       "      <td>0.000000e+00</td>\n",
       "    </tr>\n",
       "    <tr>\n",
       "      <th>50%</th>\n",
       "      <td>9.405723e-01</td>\n",
       "      <td>9.355613e-01</td>\n",
       "      <td>0.000000e+00</td>\n",
       "    </tr>\n",
       "    <tr>\n",
       "      <th>75%</th>\n",
       "      <td>9.563559e-01</td>\n",
       "      <td>9.522730e-01</td>\n",
       "      <td>0.000000e+00</td>\n",
       "    </tr>\n",
       "    <tr>\n",
       "      <th>max</th>\n",
       "      <td>1.000000e+00</td>\n",
       "      <td>1.000000e+00</td>\n",
       "      <td>1.000000e+00</td>\n",
       "    </tr>\n",
       "  </tbody>\n",
       "</table>\n",
       "</div>"
      ]
     },
     "execution_count": 29,
     "metadata": {},
     "output_type": "execute_result"
    }
   ],
   "source": [
    "topic['topic1'] = topic['topic1'] / topic['topic1'].max()\n",
    "topic['topic2'] = topic['topic2'] / topic['topic2'].max()\n",
    "topic['topic3'] = topic['topic3'] / topic['topic3'].max()\n",
    "topic.describe()"
   ]
  },
  {
   "cell_type": "code",
   "execution_count": 30,
   "metadata": {},
   "outputs": [],
   "source": [
    "user_feature_v2[['topic1', 'topic2', 'topic3']] = topic"
   ]
  },
  {
   "cell_type": "code",
   "execution_count": 32,
   "metadata": {},
   "outputs": [
    {
     "data": {
      "text/html": [
       "<div>\n",
       "<style scoped>\n",
       "    .dataframe tbody tr th:only-of-type {\n",
       "        vertical-align: middle;\n",
       "    }\n",
       "\n",
       "    .dataframe tbody tr th {\n",
       "        vertical-align: top;\n",
       "    }\n",
       "\n",
       "    .dataframe thead th {\n",
       "        text-align: right;\n",
       "    }\n",
       "</style>\n",
       "<table border=\"1\" class=\"dataframe\">\n",
       "  <thead>\n",
       "    <tr style=\"text-align: right;\">\n",
       "      <th></th>\n",
       "      <th>appIdInstall</th>\n",
       "      <th>appIdAction</th>\n",
       "    </tr>\n",
       "  </thead>\n",
       "  <tbody>\n",
       "    <tr>\n",
       "      <th>count</th>\n",
       "      <td>1.142004e+07</td>\n",
       "      <td>1.142004e+07</td>\n",
       "    </tr>\n",
       "    <tr>\n",
       "      <th>mean</th>\n",
       "      <td>7.541508e+04</td>\n",
       "      <td>4.886943e+02</td>\n",
       "    </tr>\n",
       "    <tr>\n",
       "      <th>std</th>\n",
       "      <td>9.369403e+05</td>\n",
       "      <td>5.778266e+03</td>\n",
       "    </tr>\n",
       "    <tr>\n",
       "      <th>min</th>\n",
       "      <td>0.000000e+00</td>\n",
       "      <td>0.000000e+00</td>\n",
       "    </tr>\n",
       "    <tr>\n",
       "      <th>25%</th>\n",
       "      <td>0.000000e+00</td>\n",
       "      <td>0.000000e+00</td>\n",
       "    </tr>\n",
       "    <tr>\n",
       "      <th>50%</th>\n",
       "      <td>0.000000e+00</td>\n",
       "      <td>0.000000e+00</td>\n",
       "    </tr>\n",
       "    <tr>\n",
       "      <th>75%</th>\n",
       "      <td>0.000000e+00</td>\n",
       "      <td>0.000000e+00</td>\n",
       "    </tr>\n",
       "    <tr>\n",
       "      <th>max</th>\n",
       "      <td>3.041106e+07</td>\n",
       "      <td>1.679134e+06</td>\n",
       "    </tr>\n",
       "  </tbody>\n",
       "</table>\n",
       "</div>"
      ],
      "text/plain": [
       "<div>\n",
       "<style scoped>\n",
       "    .dataframe tbody tr th:only-of-type {\n",
       "        vertical-align: middle;\n",
       "    }\n",
       "\n",
       "    .dataframe tbody tr th {\n",
       "        vertical-align: top;\n",
       "    }\n",
       "\n",
       "    .dataframe thead th {\n",
       "        text-align: right;\n",
       "    }\n",
       "</style>\n",
       "<table border=\"1\" class=\"dataframe\">\n",
       "  <thead>\n",
       "    <tr style=\"text-align: right;\">\n",
       "      <th></th>\n",
       "      <th>appIdInstall</th>\n",
       "      <th>appIdAction</th>\n",
       "    </tr>\n",
       "  </thead>\n",
       "  <tbody>\n",
       "    <tr>\n",
       "      <th>count</th>\n",
       "      <td>1.142004e+07</td>\n",
       "      <td>1.142004e+07</td>\n",
       "    </tr>\n",
       "    <tr>\n",
       "      <th>mean</th>\n",
       "      <td>7.541508e+04</td>\n",
       "      <td>4.886943e+02</td>\n",
       "    </tr>\n",
       "    <tr>\n",
       "      <th>std</th>\n",
       "      <td>9.369403e+05</td>\n",
       "      <td>5.778266e+03</td>\n",
       "    </tr>\n",
       "    <tr>\n",
       "      <th>min</th>\n",
       "      <td>0.000000e+00</td>\n",
       "      <td>0.000000e+00</td>\n",
       "    </tr>\n",
       "    <tr>\n",
       "      <th>25%</th>\n",
       "      <td>0.000000e+00</td>\n",
       "      <td>0.000000e+00</td>\n",
       "    </tr>\n",
       "    <tr>\n",
       "      <th>50%</th>\n",
       "      <td>0.000000e+00</td>\n",
       "      <td>0.000000e+00</td>\n",
       "    </tr>\n",
       "    <tr>\n",
       "      <th>75%</th>\n",
       "      <td>0.000000e+00</td>\n",
       "      <td>0.000000e+00</td>\n",
       "    </tr>\n",
       "    <tr>\n",
       "      <th>max</th>\n",
       "      <td>3.041106e+07</td>\n",
       "      <td>1.679134e+06</td>\n",
       "    </tr>\n",
       "  </tbody>\n",
       "</table>\n",
       "</div>"
      ]
     },
     "execution_count": 32,
     "metadata": {},
     "output_type": "execute_result"
    }
   ],
   "source": [
    "appId = user_feature_v2[['appIdInstall', 'appIdAction']]\n",
    "appId.describe()"
   ]
  },
  {
   "cell_type": "code",
   "execution_count": 33,
   "metadata": {},
   "outputs": [
    {
     "data": {
      "text/html": [
       "<div>\n",
       "<style scoped>\n",
       "    .dataframe tbody tr th:only-of-type {\n",
       "        vertical-align: middle;\n",
       "    }\n",
       "\n",
       "    .dataframe tbody tr th {\n",
       "        vertical-align: top;\n",
       "    }\n",
       "\n",
       "    .dataframe thead th {\n",
       "        text-align: right;\n",
       "    }\n",
       "</style>\n",
       "<table border=\"1\" class=\"dataframe\">\n",
       "  <thead>\n",
       "    <tr style=\"text-align: right;\">\n",
       "      <th></th>\n",
       "      <th>appIdInstall</th>\n",
       "      <th>appIdAction</th>\n",
       "    </tr>\n",
       "  </thead>\n",
       "  <tbody>\n",
       "    <tr>\n",
       "      <th>count</th>\n",
       "      <td>1.142004e+07</td>\n",
       "      <td>1.142004e+07</td>\n",
       "    </tr>\n",
       "    <tr>\n",
       "      <th>mean</th>\n",
       "      <td>2.813648e-01</td>\n",
       "      <td>1.459783e-01</td>\n",
       "    </tr>\n",
       "    <tr>\n",
       "      <th>std</th>\n",
       "      <td>1.976620e+00</td>\n",
       "      <td>1.198610e+00</td>\n",
       "    </tr>\n",
       "    <tr>\n",
       "      <th>min</th>\n",
       "      <td>0.000000e+00</td>\n",
       "      <td>0.000000e+00</td>\n",
       "    </tr>\n",
       "    <tr>\n",
       "      <th>25%</th>\n",
       "      <td>0.000000e+00</td>\n",
       "      <td>0.000000e+00</td>\n",
       "    </tr>\n",
       "    <tr>\n",
       "      <th>50%</th>\n",
       "      <td>0.000000e+00</td>\n",
       "      <td>0.000000e+00</td>\n",
       "    </tr>\n",
       "    <tr>\n",
       "      <th>75%</th>\n",
       "      <td>0.000000e+00</td>\n",
       "      <td>0.000000e+00</td>\n",
       "    </tr>\n",
       "    <tr>\n",
       "      <th>max</th>\n",
       "      <td>1.723032e+01</td>\n",
       "      <td>1.433379e+01</td>\n",
       "    </tr>\n",
       "  </tbody>\n",
       "</table>\n",
       "</div>"
      ],
      "text/plain": [
       "<div>\n",
       "<style scoped>\n",
       "    .dataframe tbody tr th:only-of-type {\n",
       "        vertical-align: middle;\n",
       "    }\n",
       "\n",
       "    .dataframe tbody tr th {\n",
       "        vertical-align: top;\n",
       "    }\n",
       "\n",
       "    .dataframe thead th {\n",
       "        text-align: right;\n",
       "    }\n",
       "</style>\n",
       "<table border=\"1\" class=\"dataframe\">\n",
       "  <thead>\n",
       "    <tr style=\"text-align: right;\">\n",
       "      <th></th>\n",
       "      <th>appIdInstall</th>\n",
       "      <th>appIdAction</th>\n",
       "    </tr>\n",
       "  </thead>\n",
       "  <tbody>\n",
       "    <tr>\n",
       "      <th>count</th>\n",
       "      <td>1.142004e+07</td>\n",
       "      <td>1.142004e+07</td>\n",
       "    </tr>\n",
       "    <tr>\n",
       "      <th>mean</th>\n",
       "      <td>2.813648e-01</td>\n",
       "      <td>1.459783e-01</td>\n",
       "    </tr>\n",
       "    <tr>\n",
       "      <th>std</th>\n",
       "      <td>1.976620e+00</td>\n",
       "      <td>1.198610e+00</td>\n",
       "    </tr>\n",
       "    <tr>\n",
       "      <th>min</th>\n",
       "      <td>0.000000e+00</td>\n",
       "      <td>0.000000e+00</td>\n",
       "    </tr>\n",
       "    <tr>\n",
       "      <th>25%</th>\n",
       "      <td>0.000000e+00</td>\n",
       "      <td>0.000000e+00</td>\n",
       "    </tr>\n",
       "    <tr>\n",
       "      <th>50%</th>\n",
       "      <td>0.000000e+00</td>\n",
       "      <td>0.000000e+00</td>\n",
       "    </tr>\n",
       "    <tr>\n",
       "      <th>75%</th>\n",
       "      <td>0.000000e+00</td>\n",
       "      <td>0.000000e+00</td>\n",
       "    </tr>\n",
       "    <tr>\n",
       "      <th>max</th>\n",
       "      <td>1.723032e+01</td>\n",
       "      <td>1.433379e+01</td>\n",
       "    </tr>\n",
       "  </tbody>\n",
       "</table>\n",
       "</div>"
      ]
     },
     "execution_count": 33,
     "metadata": {},
     "output_type": "execute_result"
    }
   ],
   "source": [
    "appId = np.log(appId + 1)\n",
    "appId.describe()"
   ]
  },
  {
   "cell_type": "code",
   "execution_count": 34,
   "metadata": {},
   "outputs": [
    {
     "data": {
      "text/html": [
       "<div>\n",
       "<style scoped>\n",
       "    .dataframe tbody tr th:only-of-type {\n",
       "        vertical-align: middle;\n",
       "    }\n",
       "\n",
       "    .dataframe tbody tr th {\n",
       "        vertical-align: top;\n",
       "    }\n",
       "\n",
       "    .dataframe thead th {\n",
       "        text-align: right;\n",
       "    }\n",
       "</style>\n",
       "<table border=\"1\" class=\"dataframe\">\n",
       "  <thead>\n",
       "    <tr style=\"text-align: right;\">\n",
       "      <th></th>\n",
       "      <th>appIdInstall</th>\n",
       "      <th>appIdAction</th>\n",
       "    </tr>\n",
       "  </thead>\n",
       "  <tbody>\n",
       "    <tr>\n",
       "      <th>count</th>\n",
       "      <td>1.142004e+07</td>\n",
       "      <td>1.142004e+07</td>\n",
       "    </tr>\n",
       "    <tr>\n",
       "      <th>mean</th>\n",
       "      <td>1.632964e-02</td>\n",
       "      <td>1.018421e-02</td>\n",
       "    </tr>\n",
       "    <tr>\n",
       "      <th>std</th>\n",
       "      <td>1.147176e-01</td>\n",
       "      <td>8.362129e-02</td>\n",
       "    </tr>\n",
       "    <tr>\n",
       "      <th>min</th>\n",
       "      <td>0.000000e+00</td>\n",
       "      <td>0.000000e+00</td>\n",
       "    </tr>\n",
       "    <tr>\n",
       "      <th>25%</th>\n",
       "      <td>0.000000e+00</td>\n",
       "      <td>0.000000e+00</td>\n",
       "    </tr>\n",
       "    <tr>\n",
       "      <th>50%</th>\n",
       "      <td>0.000000e+00</td>\n",
       "      <td>0.000000e+00</td>\n",
       "    </tr>\n",
       "    <tr>\n",
       "      <th>75%</th>\n",
       "      <td>0.000000e+00</td>\n",
       "      <td>0.000000e+00</td>\n",
       "    </tr>\n",
       "    <tr>\n",
       "      <th>max</th>\n",
       "      <td>1.000000e+00</td>\n",
       "      <td>1.000000e+00</td>\n",
       "    </tr>\n",
       "  </tbody>\n",
       "</table>\n",
       "</div>"
      ],
      "text/plain": [
       "<div>\n",
       "<style scoped>\n",
       "    .dataframe tbody tr th:only-of-type {\n",
       "        vertical-align: middle;\n",
       "    }\n",
       "\n",
       "    .dataframe tbody tr th {\n",
       "        vertical-align: top;\n",
       "    }\n",
       "\n",
       "    .dataframe thead th {\n",
       "        text-align: right;\n",
       "    }\n",
       "</style>\n",
       "<table border=\"1\" class=\"dataframe\">\n",
       "  <thead>\n",
       "    <tr style=\"text-align: right;\">\n",
       "      <th></th>\n",
       "      <th>appIdInstall</th>\n",
       "      <th>appIdAction</th>\n",
       "    </tr>\n",
       "  </thead>\n",
       "  <tbody>\n",
       "    <tr>\n",
       "      <th>count</th>\n",
       "      <td>1.142004e+07</td>\n",
       "      <td>1.142004e+07</td>\n",
       "    </tr>\n",
       "    <tr>\n",
       "      <th>mean</th>\n",
       "      <td>1.632964e-02</td>\n",
       "      <td>1.018421e-02</td>\n",
       "    </tr>\n",
       "    <tr>\n",
       "      <th>std</th>\n",
       "      <td>1.147176e-01</td>\n",
       "      <td>8.362129e-02</td>\n",
       "    </tr>\n",
       "    <tr>\n",
       "      <th>min</th>\n",
       "      <td>0.000000e+00</td>\n",
       "      <td>0.000000e+00</td>\n",
       "    </tr>\n",
       "    <tr>\n",
       "      <th>25%</th>\n",
       "      <td>0.000000e+00</td>\n",
       "      <td>0.000000e+00</td>\n",
       "    </tr>\n",
       "    <tr>\n",
       "      <th>50%</th>\n",
       "      <td>0.000000e+00</td>\n",
       "      <td>0.000000e+00</td>\n",
       "    </tr>\n",
       "    <tr>\n",
       "      <th>75%</th>\n",
       "      <td>0.000000e+00</td>\n",
       "      <td>0.000000e+00</td>\n",
       "    </tr>\n",
       "    <tr>\n",
       "      <th>max</th>\n",
       "      <td>1.000000e+00</td>\n",
       "      <td>1.000000e+00</td>\n",
       "    </tr>\n",
       "  </tbody>\n",
       "</table>\n",
       "</div>"
      ]
     },
     "execution_count": 34,
     "metadata": {},
     "output_type": "execute_result"
    }
   ],
   "source": [
    "appId['appIdInstall'] = appId['appIdInstall'] / appId['appIdInstall'].max()\n",
    "appId['appIdAction'] = appId['appIdAction'] / appId['appIdAction'].max()\n",
    "appId.describe()"
   ]
  },
  {
   "cell_type": "code",
   "execution_count": 35,
   "metadata": {},
   "outputs": [],
   "source": [
    "user_feature_v2[['appIdInstall', 'appIdAction']] = appId"
   ]
  },
  {
   "cell_type": "code",
   "execution_count": 37,
   "metadata": {},
   "outputs": [
    {
     "data": {
      "text/html": [
       "<div>\n",
       "<style scoped>\n",
       "    .dataframe tbody tr th:only-of-type {\n",
       "        vertical-align: middle;\n",
       "    }\n",
       "\n",
       "    .dataframe tbody tr th {\n",
       "        vertical-align: top;\n",
       "    }\n",
       "\n",
       "    .dataframe thead th {\n",
       "        text-align: right;\n",
       "    }\n",
       "</style>\n",
       "<table border=\"1\" class=\"dataframe\">\n",
       "  <thead>\n",
       "    <tr style=\"text-align: right;\">\n",
       "      <th></th>\n",
       "      <th>ct</th>\n",
       "      <th>os</th>\n",
       "      <th>carrier</th>\n",
       "      <th>house</th>\n",
       "    </tr>\n",
       "  </thead>\n",
       "  <tbody>\n",
       "    <tr>\n",
       "      <th>count</th>\n",
       "      <td>1.142004e+07</td>\n",
       "      <td>1.142004e+07</td>\n",
       "      <td>1.142004e+07</td>\n",
       "      <td>1.142004e+07</td>\n",
       "    </tr>\n",
       "    <tr>\n",
       "      <th>mean</th>\n",
       "      <td>3.964737e+00</td>\n",
       "      <td>1.235685e+00</td>\n",
       "      <td>1.097262e+00</td>\n",
       "      <td>1.830054e-01</td>\n",
       "    </tr>\n",
       "    <tr>\n",
       "      <th>std</th>\n",
       "      <td>2.195738e+00</td>\n",
       "      <td>7.664038e-01</td>\n",
       "      <td>9.620019e-01</td>\n",
       "      <td>3.866710e-01</td>\n",
       "    </tr>\n",
       "    <tr>\n",
       "      <th>min</th>\n",
       "      <td>0.000000e+00</td>\n",
       "      <td>0.000000e+00</td>\n",
       "      <td>0.000000e+00</td>\n",
       "      <td>0.000000e+00</td>\n",
       "    </tr>\n",
       "    <tr>\n",
       "      <th>25%</th>\n",
       "      <td>3.000000e+00</td>\n",
       "      <td>1.000000e+00</td>\n",
       "      <td>0.000000e+00</td>\n",
       "      <td>0.000000e+00</td>\n",
       "    </tr>\n",
       "    <tr>\n",
       "      <th>50%</th>\n",
       "      <td>4.000000e+00</td>\n",
       "      <td>1.000000e+00</td>\n",
       "      <td>1.000000e+00</td>\n",
       "      <td>0.000000e+00</td>\n",
       "    </tr>\n",
       "    <tr>\n",
       "      <th>75%</th>\n",
       "      <td>4.000000e+00</td>\n",
       "      <td>2.000000e+00</td>\n",
       "      <td>1.000000e+00</td>\n",
       "      <td>0.000000e+00</td>\n",
       "    </tr>\n",
       "    <tr>\n",
       "      <th>max</th>\n",
       "      <td>1.000000e+01</td>\n",
       "      <td>3.000000e+00</td>\n",
       "      <td>3.000000e+00</td>\n",
       "      <td>1.000000e+00</td>\n",
       "    </tr>\n",
       "  </tbody>\n",
       "</table>\n",
       "</div>"
      ],
      "text/plain": [
       "<div>\n",
       "<style scoped>\n",
       "    .dataframe tbody tr th:only-of-type {\n",
       "        vertical-align: middle;\n",
       "    }\n",
       "\n",
       "    .dataframe tbody tr th {\n",
       "        vertical-align: top;\n",
       "    }\n",
       "\n",
       "    .dataframe thead th {\n",
       "        text-align: right;\n",
       "    }\n",
       "</style>\n",
       "<table border=\"1\" class=\"dataframe\">\n",
       "  <thead>\n",
       "    <tr style=\"text-align: right;\">\n",
       "      <th></th>\n",
       "      <th>ct</th>\n",
       "      <th>os</th>\n",
       "      <th>carrier</th>\n",
       "      <th>house</th>\n",
       "    </tr>\n",
       "  </thead>\n",
       "  <tbody>\n",
       "    <tr>\n",
       "      <th>count</th>\n",
       "      <td>1.142004e+07</td>\n",
       "      <td>1.142004e+07</td>\n",
       "      <td>1.142004e+07</td>\n",
       "      <td>1.142004e+07</td>\n",
       "    </tr>\n",
       "    <tr>\n",
       "      <th>mean</th>\n",
       "      <td>3.964737e+00</td>\n",
       "      <td>1.235685e+00</td>\n",
       "      <td>1.097262e+00</td>\n",
       "      <td>1.830054e-01</td>\n",
       "    </tr>\n",
       "    <tr>\n",
       "      <th>std</th>\n",
       "      <td>2.195738e+00</td>\n",
       "      <td>7.664038e-01</td>\n",
       "      <td>9.620019e-01</td>\n",
       "      <td>3.866710e-01</td>\n",
       "    </tr>\n",
       "    <tr>\n",
       "      <th>min</th>\n",
       "      <td>0.000000e+00</td>\n",
       "      <td>0.000000e+00</td>\n",
       "      <td>0.000000e+00</td>\n",
       "      <td>0.000000e+00</td>\n",
       "    </tr>\n",
       "    <tr>\n",
       "      <th>25%</th>\n",
       "      <td>3.000000e+00</td>\n",
       "      <td>1.000000e+00</td>\n",
       "      <td>0.000000e+00</td>\n",
       "      <td>0.000000e+00</td>\n",
       "    </tr>\n",
       "    <tr>\n",
       "      <th>50%</th>\n",
       "      <td>4.000000e+00</td>\n",
       "      <td>1.000000e+00</td>\n",
       "      <td>1.000000e+00</td>\n",
       "      <td>0.000000e+00</td>\n",
       "    </tr>\n",
       "    <tr>\n",
       "      <th>75%</th>\n",
       "      <td>4.000000e+00</td>\n",
       "      <td>2.000000e+00</td>\n",
       "      <td>1.000000e+00</td>\n",
       "      <td>0.000000e+00</td>\n",
       "    </tr>\n",
       "    <tr>\n",
       "      <th>max</th>\n",
       "      <td>1.000000e+01</td>\n",
       "      <td>3.000000e+00</td>\n",
       "      <td>3.000000e+00</td>\n",
       "      <td>1.000000e+00</td>\n",
       "    </tr>\n",
       "  </tbody>\n",
       "</table>\n",
       "</div>"
      ]
     },
     "execution_count": 37,
     "metadata": {},
     "output_type": "execute_result"
    }
   ],
   "source": [
    "user_feature_v2[['ct', 'os', 'carrier', 'house']].describe()\n"
   ]
  },
  {
   "cell_type": "code",
   "execution_count": 38,
   "metadata": {},
   "outputs": [],
   "source": [
    "user_feature_v2['ct'] = user_feature_v2['ct'] / user_feature_v2['ct'].max()\n",
    "user_feature_v2['os'] = user_feature_v2['os'] / user_feature_v2['os'].max()\n",
    "user_feature_v2['carrier'] = user_feature_v2['carrier'] / user_feature_v2['carrier'].max()"
   ]
  },
  {
   "cell_type": "code",
   "execution_count": 39,
   "metadata": {},
   "outputs": [
    {
     "data": {
      "text/html": [
       "<div>\n",
       "<style scoped>\n",
       "    .dataframe tbody tr th:only-of-type {\n",
       "        vertical-align: middle;\n",
       "    }\n",
       "\n",
       "    .dataframe tbody tr th {\n",
       "        vertical-align: top;\n",
       "    }\n",
       "\n",
       "    .dataframe thead th {\n",
       "        text-align: right;\n",
       "    }\n",
       "</style>\n",
       "<table border=\"1\" class=\"dataframe\">\n",
       "  <thead>\n",
       "    <tr style=\"text-align: right;\">\n",
       "      <th></th>\n",
       "      <th>uid</th>\n",
       "      <th>age</th>\n",
       "      <th>gender</th>\n",
       "      <th>marriageStatus</th>\n",
       "      <th>education</th>\n",
       "      <th>consumptionAbility</th>\n",
       "      <th>LBS</th>\n",
       "      <th>interest1</th>\n",
       "      <th>interest2</th>\n",
       "      <th>interest3</th>\n",
       "      <th>...</th>\n",
       "      <th>kw3</th>\n",
       "      <th>topic1</th>\n",
       "      <th>topic2</th>\n",
       "      <th>topic3</th>\n",
       "      <th>appIdInstall</th>\n",
       "      <th>appIdAction</th>\n",
       "      <th>ct</th>\n",
       "      <th>os</th>\n",
       "      <th>carrier</th>\n",
       "      <th>house</th>\n",
       "    </tr>\n",
       "  </thead>\n",
       "  <tbody>\n",
       "    <tr>\n",
       "      <th>count</th>\n",
       "      <td>1.142004e+07</td>\n",
       "      <td>1.142004e+07</td>\n",
       "      <td>1.142004e+07</td>\n",
       "      <td>1.142004e+07</td>\n",
       "      <td>1.142004e+07</td>\n",
       "      <td>1.142004e+07</td>\n",
       "      <td>1.142004e+07</td>\n",
       "      <td>1.142004e+07</td>\n",
       "      <td>1.142004e+07</td>\n",
       "      <td>1.142004e+07</td>\n",
       "      <td>...</td>\n",
       "      <td>1.142004e+07</td>\n",
       "      <td>1.142004e+07</td>\n",
       "      <td>1.142004e+07</td>\n",
       "      <td>1.142004e+07</td>\n",
       "      <td>1.142004e+07</td>\n",
       "      <td>1.142004e+07</td>\n",
       "      <td>1.142004e+07</td>\n",
       "      <td>1.142004e+07</td>\n",
       "      <td>1.142004e+07</td>\n",
       "      <td>1.142004e+07</td>\n",
       "    </tr>\n",
       "    <tr>\n",
       "      <th>mean</th>\n",
       "      <td>4.127270e+07</td>\n",
       "      <td>6.034649e-01</td>\n",
       "      <td>6.567765e-01</td>\n",
       "      <td>3.210333e-01</td>\n",
       "      <td>6.475497e-01</td>\n",
       "      <td>4.793631e-01</td>\n",
       "      <td>8.316002e-01</td>\n",
       "      <td>7.377151e-01</td>\n",
       "      <td>4.579770e-01</td>\n",
       "      <td>2.335082e-02</td>\n",
       "      <td>...</td>\n",
       "      <td>4.306489e-02</td>\n",
       "      <td>8.646400e-01</td>\n",
       "      <td>8.975133e-01</td>\n",
       "      <td>4.234969e-02</td>\n",
       "      <td>1.632964e-02</td>\n",
       "      <td>1.018421e-02</td>\n",
       "      <td>3.964737e-01</td>\n",
       "      <td>4.118949e-01</td>\n",
       "      <td>3.657541e-01</td>\n",
       "      <td>1.830054e-01</td>\n",
       "    </tr>\n",
       "    <tr>\n",
       "      <th>std</th>\n",
       "      <td>2.382579e+07</td>\n",
       "      <td>3.038489e-01</td>\n",
       "      <td>2.353036e-01</td>\n",
       "      <td>1.532548e-01</td>\n",
       "      <td>3.487413e-01</td>\n",
       "      <td>3.173262e-01</td>\n",
       "      <td>1.563513e-01</td>\n",
       "      <td>2.475609e-01</td>\n",
       "      <td>3.496290e-01</td>\n",
       "      <td>1.443880e-01</td>\n",
       "      <td>...</td>\n",
       "      <td>1.970960e-01</td>\n",
       "      <td>2.556482e-01</td>\n",
       "      <td>1.819476e-01</td>\n",
       "      <td>1.936357e-01</td>\n",
       "      <td>1.147176e-01</td>\n",
       "      <td>8.362129e-02</td>\n",
       "      <td>2.195738e-01</td>\n",
       "      <td>2.554679e-01</td>\n",
       "      <td>3.206673e-01</td>\n",
       "      <td>3.866710e-01</td>\n",
       "    </tr>\n",
       "    <tr>\n",
       "      <th>min</th>\n",
       "      <td>2.000000e+00</td>\n",
       "      <td>0.000000e+00</td>\n",
       "      <td>0.000000e+00</td>\n",
       "      <td>0.000000e+00</td>\n",
       "      <td>0.000000e+00</td>\n",
       "      <td>0.000000e+00</td>\n",
       "      <td>0.000000e+00</td>\n",
       "      <td>0.000000e+00</td>\n",
       "      <td>0.000000e+00</td>\n",
       "      <td>0.000000e+00</td>\n",
       "      <td>...</td>\n",
       "      <td>0.000000e+00</td>\n",
       "      <td>0.000000e+00</td>\n",
       "      <td>0.000000e+00</td>\n",
       "      <td>0.000000e+00</td>\n",
       "      <td>0.000000e+00</td>\n",
       "      <td>0.000000e+00</td>\n",
       "      <td>0.000000e+00</td>\n",
       "      <td>0.000000e+00</td>\n",
       "      <td>0.000000e+00</td>\n",
       "      <td>0.000000e+00</td>\n",
       "    </tr>\n",
       "    <tr>\n",
       "      <th>25%</th>\n",
       "      <td>2.064061e+07</td>\n",
       "      <td>4.000000e-01</td>\n",
       "      <td>5.000000e-01</td>\n",
       "      <td>2.631579e-01</td>\n",
       "      <td>2.857143e-01</td>\n",
       "      <td>5.000000e-01</td>\n",
       "      <td>7.620733e-01</td>\n",
       "      <td>7.142465e-01</td>\n",
       "      <td>0.000000e+00</td>\n",
       "      <td>0.000000e+00</td>\n",
       "      <td>...</td>\n",
       "      <td>0.000000e+00</td>\n",
       "      <td>9.188282e-01</td>\n",
       "      <td>9.153585e-01</td>\n",
       "      <td>0.000000e+00</td>\n",
       "      <td>0.000000e+00</td>\n",
       "      <td>0.000000e+00</td>\n",
       "      <td>3.000000e-01</td>\n",
       "      <td>3.333333e-01</td>\n",
       "      <td>0.000000e+00</td>\n",
       "      <td>0.000000e+00</td>\n",
       "    </tr>\n",
       "    <tr>\n",
       "      <th>50%</th>\n",
       "      <td>4.128318e+07</td>\n",
       "      <td>6.000000e-01</td>\n",
       "      <td>5.000000e-01</td>\n",
       "      <td>2.894737e-01</td>\n",
       "      <td>8.571429e-01</td>\n",
       "      <td>5.000000e-01</td>\n",
       "      <td>8.767240e-01</td>\n",
       "      <td>8.160501e-01</td>\n",
       "      <td>6.087684e-01</td>\n",
       "      <td>0.000000e+00</td>\n",
       "      <td>...</td>\n",
       "      <td>0.000000e+00</td>\n",
       "      <td>9.405723e-01</td>\n",
       "      <td>9.355613e-01</td>\n",
       "      <td>0.000000e+00</td>\n",
       "      <td>0.000000e+00</td>\n",
       "      <td>0.000000e+00</td>\n",
       "      <td>4.000000e-01</td>\n",
       "      <td>3.333333e-01</td>\n",
       "      <td>3.333333e-01</td>\n",
       "      <td>0.000000e+00</td>\n",
       "    </tr>\n",
       "    <tr>\n",
       "      <th>75%</th>\n",
       "      <td>6.190418e+07</td>\n",
       "      <td>8.000000e-01</td>\n",
       "      <td>1.000000e+00</td>\n",
       "      <td>2.894737e-01</td>\n",
       "      <td>1.000000e+00</td>\n",
       "      <td>5.000000e-01</td>\n",
       "      <td>9.461370e-01</td>\n",
       "      <td>8.818457e-01</td>\n",
       "      <td>7.511856e-01</td>\n",
       "      <td>0.000000e+00</td>\n",
       "      <td>...</td>\n",
       "      <td>0.000000e+00</td>\n",
       "      <td>9.563559e-01</td>\n",
       "      <td>9.522730e-01</td>\n",
       "      <td>0.000000e+00</td>\n",
       "      <td>0.000000e+00</td>\n",
       "      <td>0.000000e+00</td>\n",
       "      <td>4.000000e-01</td>\n",
       "      <td>6.666667e-01</td>\n",
       "      <td>3.333333e-01</td>\n",
       "      <td>0.000000e+00</td>\n",
       "    </tr>\n",
       "    <tr>\n",
       "      <th>max</th>\n",
       "      <td>8.254290e+07</td>\n",
       "      <td>1.000000e+00</td>\n",
       "      <td>1.000000e+00</td>\n",
       "      <td>1.000000e+00</td>\n",
       "      <td>1.000000e+00</td>\n",
       "      <td>1.000000e+00</td>\n",
       "      <td>1.000000e+00</td>\n",
       "      <td>1.000000e+00</td>\n",
       "      <td>1.000000e+00</td>\n",
       "      <td>1.000000e+00</td>\n",
       "      <td>...</td>\n",
       "      <td>1.000000e+00</td>\n",
       "      <td>1.000000e+00</td>\n",
       "      <td>1.000000e+00</td>\n",
       "      <td>1.000000e+00</td>\n",
       "      <td>1.000000e+00</td>\n",
       "      <td>1.000000e+00</td>\n",
       "      <td>1.000000e+00</td>\n",
       "      <td>1.000000e+00</td>\n",
       "      <td>1.000000e+00</td>\n",
       "      <td>1.000000e+00</td>\n",
       "    </tr>\n",
       "  </tbody>\n",
       "</table>\n",
       "<p>8 rows × 24 columns</p>\n",
       "</div>"
      ],
      "text/plain": [
       "<div>\n",
       "<style scoped>\n",
       "    .dataframe tbody tr th:only-of-type {\n",
       "        vertical-align: middle;\n",
       "    }\n",
       "\n",
       "    .dataframe tbody tr th {\n",
       "        vertical-align: top;\n",
       "    }\n",
       "\n",
       "    .dataframe thead th {\n",
       "        text-align: right;\n",
       "    }\n",
       "</style>\n",
       "<table border=\"1\" class=\"dataframe\">\n",
       "  <thead>\n",
       "    <tr style=\"text-align: right;\">\n",
       "      <th></th>\n",
       "      <th>uid</th>\n",
       "      <th>age</th>\n",
       "      <th>gender</th>\n",
       "      <th>marriageStatus</th>\n",
       "      <th>education</th>\n",
       "      <th>consumptionAbility</th>\n",
       "      <th>LBS</th>\n",
       "      <th>interest1</th>\n",
       "      <th>interest2</th>\n",
       "      <th>interest3</th>\n",
       "      <th>...</th>\n",
       "      <th>kw3</th>\n",
       "      <th>topic1</th>\n",
       "      <th>topic2</th>\n",
       "      <th>topic3</th>\n",
       "      <th>appIdInstall</th>\n",
       "      <th>appIdAction</th>\n",
       "      <th>ct</th>\n",
       "      <th>os</th>\n",
       "      <th>carrier</th>\n",
       "      <th>house</th>\n",
       "    </tr>\n",
       "  </thead>\n",
       "  <tbody>\n",
       "    <tr>\n",
       "      <th>count</th>\n",
       "      <td>1.142004e+07</td>\n",
       "      <td>1.142004e+07</td>\n",
       "      <td>1.142004e+07</td>\n",
       "      <td>1.142004e+07</td>\n",
       "      <td>1.142004e+07</td>\n",
       "      <td>1.142004e+07</td>\n",
       "      <td>1.142004e+07</td>\n",
       "      <td>1.142004e+07</td>\n",
       "      <td>1.142004e+07</td>\n",
       "      <td>1.142004e+07</td>\n",
       "      <td>...</td>\n",
       "      <td>1.142004e+07</td>\n",
       "      <td>1.142004e+07</td>\n",
       "      <td>1.142004e+07</td>\n",
       "      <td>1.142004e+07</td>\n",
       "      <td>1.142004e+07</td>\n",
       "      <td>1.142004e+07</td>\n",
       "      <td>1.142004e+07</td>\n",
       "      <td>1.142004e+07</td>\n",
       "      <td>1.142004e+07</td>\n",
       "      <td>1.142004e+07</td>\n",
       "    </tr>\n",
       "    <tr>\n",
       "      <th>mean</th>\n",
       "      <td>4.127270e+07</td>\n",
       "      <td>6.034649e-01</td>\n",
       "      <td>6.567765e-01</td>\n",
       "      <td>3.210333e-01</td>\n",
       "      <td>6.475497e-01</td>\n",
       "      <td>4.793631e-01</td>\n",
       "      <td>8.316002e-01</td>\n",
       "      <td>7.377151e-01</td>\n",
       "      <td>4.579770e-01</td>\n",
       "      <td>2.335082e-02</td>\n",
       "      <td>...</td>\n",
       "      <td>4.306489e-02</td>\n",
       "      <td>8.646400e-01</td>\n",
       "      <td>8.975133e-01</td>\n",
       "      <td>4.234969e-02</td>\n",
       "      <td>1.632964e-02</td>\n",
       "      <td>1.018421e-02</td>\n",
       "      <td>3.964737e-01</td>\n",
       "      <td>4.118949e-01</td>\n",
       "      <td>3.657541e-01</td>\n",
       "      <td>1.830054e-01</td>\n",
       "    </tr>\n",
       "    <tr>\n",
       "      <th>std</th>\n",
       "      <td>2.382579e+07</td>\n",
       "      <td>3.038489e-01</td>\n",
       "      <td>2.353036e-01</td>\n",
       "      <td>1.532548e-01</td>\n",
       "      <td>3.487413e-01</td>\n",
       "      <td>3.173262e-01</td>\n",
       "      <td>1.563513e-01</td>\n",
       "      <td>2.475609e-01</td>\n",
       "      <td>3.496290e-01</td>\n",
       "      <td>1.443880e-01</td>\n",
       "      <td>...</td>\n",
       "      <td>1.970960e-01</td>\n",
       "      <td>2.556482e-01</td>\n",
       "      <td>1.819476e-01</td>\n",
       "      <td>1.936357e-01</td>\n",
       "      <td>1.147176e-01</td>\n",
       "      <td>8.362129e-02</td>\n",
       "      <td>2.195738e-01</td>\n",
       "      <td>2.554679e-01</td>\n",
       "      <td>3.206673e-01</td>\n",
       "      <td>3.866710e-01</td>\n",
       "    </tr>\n",
       "    <tr>\n",
       "      <th>min</th>\n",
       "      <td>2.000000e+00</td>\n",
       "      <td>0.000000e+00</td>\n",
       "      <td>0.000000e+00</td>\n",
       "      <td>0.000000e+00</td>\n",
       "      <td>0.000000e+00</td>\n",
       "      <td>0.000000e+00</td>\n",
       "      <td>0.000000e+00</td>\n",
       "      <td>0.000000e+00</td>\n",
       "      <td>0.000000e+00</td>\n",
       "      <td>0.000000e+00</td>\n",
       "      <td>...</td>\n",
       "      <td>0.000000e+00</td>\n",
       "      <td>0.000000e+00</td>\n",
       "      <td>0.000000e+00</td>\n",
       "      <td>0.000000e+00</td>\n",
       "      <td>0.000000e+00</td>\n",
       "      <td>0.000000e+00</td>\n",
       "      <td>0.000000e+00</td>\n",
       "      <td>0.000000e+00</td>\n",
       "      <td>0.000000e+00</td>\n",
       "      <td>0.000000e+00</td>\n",
       "    </tr>\n",
       "    <tr>\n",
       "      <th>25%</th>\n",
       "      <td>2.064061e+07</td>\n",
       "      <td>4.000000e-01</td>\n",
       "      <td>5.000000e-01</td>\n",
       "      <td>2.631579e-01</td>\n",
       "      <td>2.857143e-01</td>\n",
       "      <td>5.000000e-01</td>\n",
       "      <td>7.620733e-01</td>\n",
       "      <td>7.142465e-01</td>\n",
       "      <td>0.000000e+00</td>\n",
       "      <td>0.000000e+00</td>\n",
       "      <td>...</td>\n",
       "      <td>0.000000e+00</td>\n",
       "      <td>9.188282e-01</td>\n",
       "      <td>9.153585e-01</td>\n",
       "      <td>0.000000e+00</td>\n",
       "      <td>0.000000e+00</td>\n",
       "      <td>0.000000e+00</td>\n",
       "      <td>3.000000e-01</td>\n",
       "      <td>3.333333e-01</td>\n",
       "      <td>0.000000e+00</td>\n",
       "      <td>0.000000e+00</td>\n",
       "    </tr>\n",
       "    <tr>\n",
       "      <th>50%</th>\n",
       "      <td>4.128318e+07</td>\n",
       "      <td>6.000000e-01</td>\n",
       "      <td>5.000000e-01</td>\n",
       "      <td>2.894737e-01</td>\n",
       "      <td>8.571429e-01</td>\n",
       "      <td>5.000000e-01</td>\n",
       "      <td>8.767240e-01</td>\n",
       "      <td>8.160501e-01</td>\n",
       "      <td>6.087684e-01</td>\n",
       "      <td>0.000000e+00</td>\n",
       "      <td>...</td>\n",
       "      <td>0.000000e+00</td>\n",
       "      <td>9.405723e-01</td>\n",
       "      <td>9.355613e-01</td>\n",
       "      <td>0.000000e+00</td>\n",
       "      <td>0.000000e+00</td>\n",
       "      <td>0.000000e+00</td>\n",
       "      <td>4.000000e-01</td>\n",
       "      <td>3.333333e-01</td>\n",
       "      <td>3.333333e-01</td>\n",
       "      <td>0.000000e+00</td>\n",
       "    </tr>\n",
       "    <tr>\n",
       "      <th>75%</th>\n",
       "      <td>6.190418e+07</td>\n",
       "      <td>8.000000e-01</td>\n",
       "      <td>1.000000e+00</td>\n",
       "      <td>2.894737e-01</td>\n",
       "      <td>1.000000e+00</td>\n",
       "      <td>5.000000e-01</td>\n",
       "      <td>9.461370e-01</td>\n",
       "      <td>8.818457e-01</td>\n",
       "      <td>7.511856e-01</td>\n",
       "      <td>0.000000e+00</td>\n",
       "      <td>...</td>\n",
       "      <td>0.000000e+00</td>\n",
       "      <td>9.563559e-01</td>\n",
       "      <td>9.522730e-01</td>\n",
       "      <td>0.000000e+00</td>\n",
       "      <td>0.000000e+00</td>\n",
       "      <td>0.000000e+00</td>\n",
       "      <td>4.000000e-01</td>\n",
       "      <td>6.666667e-01</td>\n",
       "      <td>3.333333e-01</td>\n",
       "      <td>0.000000e+00</td>\n",
       "    </tr>\n",
       "    <tr>\n",
       "      <th>max</th>\n",
       "      <td>8.254290e+07</td>\n",
       "      <td>1.000000e+00</td>\n",
       "      <td>1.000000e+00</td>\n",
       "      <td>1.000000e+00</td>\n",
       "      <td>1.000000e+00</td>\n",
       "      <td>1.000000e+00</td>\n",
       "      <td>1.000000e+00</td>\n",
       "      <td>1.000000e+00</td>\n",
       "      <td>1.000000e+00</td>\n",
       "      <td>1.000000e+00</td>\n",
       "      <td>...</td>\n",
       "      <td>1.000000e+00</td>\n",
       "      <td>1.000000e+00</td>\n",
       "      <td>1.000000e+00</td>\n",
       "      <td>1.000000e+00</td>\n",
       "      <td>1.000000e+00</td>\n",
       "      <td>1.000000e+00</td>\n",
       "      <td>1.000000e+00</td>\n",
       "      <td>1.000000e+00</td>\n",
       "      <td>1.000000e+00</td>\n",
       "      <td>1.000000e+00</td>\n",
       "    </tr>\n",
       "  </tbody>\n",
       "</table>\n",
       "<p>8 rows × 24 columns</p>\n",
       "</div>"
      ]
     },
     "execution_count": 39,
     "metadata": {},
     "output_type": "execute_result"
    }
   ],
   "source": [
    "user_feature_v2.describe()"
   ]
  },
  {
   "cell_type": "code",
   "execution_count": 40,
   "metadata": {},
   "outputs": [
    {
     "data": {
      "text/plain": [
       "Index(['uid', 'age', 'gender', 'marriageStatus', 'education',\n       'consumptionAbility', 'LBS', 'interest1', 'interest2', 'interest3',\n       'interest4', 'interest5', 'kw1', 'kw2', 'kw3', 'topic1', 'topic2',\n       'topic3', 'appIdInstall', 'appIdAction', 'ct', 'os', 'carrier',\n       'house'],\n      dtype='object')"
      ]
     },
     "execution_count": 40,
     "metadata": {},
     "output_type": "execute_result"
    }
   ],
   "source": [
    "user_feature_v2.columns"
   ]
  },
  {
   "cell_type": "code",
   "execution_count": 41,
   "metadata": {},
   "outputs": [],
   "source": [
    "user_feature_v2.to_csv('data/user_feature_v2_norm.csv', columns=user_feature_v2.columns, index=False)"
   ]
  }
 ],
 "metadata": {
  "kernelspec": {
   "display_name": "Python 3",
   "language": "python",
   "name": "python3"
  },
  "language_info": {
   "codemirror_mode": {
    "name": "ipython",
    "version": 3
   },
   "file_extension": ".py",
   "mimetype": "text/x-python",
   "name": "python",
   "nbconvert_exporter": "python",
   "pygments_lexer": "ipython3",
   "version": "3.5.4"
  }
 },
 "nbformat": 4,
 "nbformat_minor": 2
}
