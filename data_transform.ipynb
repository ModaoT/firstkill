{
 "cells": [
  {
   "cell_type": "code",
   "execution_count": 12,
   "metadata": {},
   "outputs": [],
   "source": [
    "from tqdm import tqdm\n",
    "import pandas as pd\n",
    "import time"
   ]
  },
  {
   "cell_type": "code",
   "execution_count": 16,
   "metadata": {},
   "outputs": [
    {
     "name": "stdout",
     "output_type": "stream",
     "text": [
      "read file"
     ]
    },
    {
     "name": "stdout",
     "output_type": "stream",
     "text": [
      "\n"
     ]
    },
    {
     "name": "stdout",
     "output_type": "stream",
     "text": [
      "read finish"
     ]
    },
    {
     "name": "stdout",
     "output_type": "stream",
     "text": [
      "\n"
     ]
    },
    {
     "name": "stderr",
     "output_type": "stream",
     "text": [
      "\r  0%|                                                                    | 0/1332946 [00:00<?, ?r/s]"
     ]
    },
    {
     "name": "stderr",
     "output_type": "stream",
     "text": [
      "\r  0%|                                                        | 1/1332946 [00:02<931:38:02,  2.52s/r]"
     ]
    },
    {
     "name": "stderr",
     "output_type": "stream",
     "text": [
      "\r  0%|                                                        | 1819/1332946 [00:02<31:54, 695.28r/s]"
     ]
    },
    {
     "name": "stderr",
     "output_type": "stream",
     "text": [
      "\r  0%|▏                                                      | 4974/1332946 [00:02<12:14, 1807.87r/s]"
     ]
    },
    {
     "name": "stderr",
     "output_type": "stream",
     "text": [
      "\r  1%|▎                                                      | 8285/1332946 [00:02<07:35, 2905.61r/s]"
     ]
    },
    {
     "name": "stderr",
     "output_type": "stream",
     "text": [
      "\r  1%|▍                                                     | 11643/1332946 [00:02<05:34, 3944.83r/s]"
     ]
    },
    {
     "name": "stderr",
     "output_type": "stream",
     "text": [
      "\r  1%|▌                                                     | 15095/1332946 [00:03<04:26, 4946.69r/s]"
     ]
    },
    {
     "name": "stderr",
     "output_type": "stream",
     "text": [
      "\r  1%|▋                                                     | 18433/1332946 [00:03<03:44, 5848.79r/s]"
     ]
    },
    {
     "name": "stderr",
     "output_type": "stream",
     "text": [
      "\r  2%|▉                                                     | 21886/1332946 [00:03<03:14, 6730.71r/s]"
     ]
    },
    {
     "name": "stderr",
     "output_type": "stream",
     "text": [
      "\r  2%|█                                                     | 25369/1332946 [00:03<02:52, 7568.90r/s]"
     ]
    },
    {
     "name": "stderr",
     "output_type": "stream",
     "text": [
      "\r  2%|█▏                                                    | 28795/1332946 [00:03<02:36, 8342.02r/s]"
     ]
    },
    {
     "name": "stderr",
     "output_type": "stream",
     "text": [
      "\r  2%|█▎                                                    | 32204/1332946 [00:03<02:23, 9066.62r/s]"
     ]
    },
    {
     "name": "stderr",
     "output_type": "stream",
     "text": [
      "\r  3%|█▍                                                    | 35611/1332946 [00:03<02:13, 9751.13r/s]"
     ]
    },
    {
     "name": "stderr",
     "output_type": "stream",
     "text": [
      "\r  3%|█▌                                                   | 39089/1332946 [00:03<02:04, 10418.02r/s]"
     ]
    },
    {
     "name": "stderr",
     "output_type": "stream",
     "text": [
      "\r  3%|█▋                                                   | 42518/1332946 [00:03<01:56, 11037.54r/s]"
     ]
    },
    {
     "name": "stderr",
     "output_type": "stream",
     "text": [
      "\r  3%|█▊                                                   | 45935/1332946 [00:03<01:50, 11622.65r/s]"
     ]
    },
    {
     "name": "stderr",
     "output_type": "stream",
     "text": [
      "\r  4%|█▉                                                   | 49455/1332946 [00:04<01:45, 12204.23r/s]"
     ]
    },
    {
     "name": "stderr",
     "output_type": "stream",
     "text": [
      "\r  4%|██                                                   | 52927/1332946 [00:04<01:40, 12746.27r/s]"
     ]
    },
    {
     "name": "stderr",
     "output_type": "stream",
     "text": [
      "\r  4%|██▏                                                  | 56419/1332946 [00:04<01:36, 13267.53r/s]"
     ]
    },
    {
     "name": "stderr",
     "output_type": "stream",
     "text": [
      "\r  4%|██▍                                                  | 59908/1332946 [00:04<01:32, 13764.10r/s]"
     ]
    },
    {
     "name": "stderr",
     "output_type": "stream",
     "text": [
      "\r  5%|██▌                                                  | 63384/1332946 [00:04<01:29, 14235.32r/s]"
     ]
    },
    {
     "name": "stderr",
     "output_type": "stream",
     "text": [
      "\r  5%|██▋                                                  | 66852/1332946 [00:04<01:26, 14684.17r/s]"
     ]
    },
    {
     "name": "stderr",
     "output_type": "stream",
     "text": [
      "\r  5%|██▊                                                  | 70332/1332946 [00:04<01:23, 15116.29r/s]"
     ]
    },
    {
     "name": "stderr",
     "output_type": "stream",
     "text": [
      "\r  6%|██▉                                                  | 73803/1332946 [00:04<01:21, 15408.33r/s]"
     ]
    },
    {
     "name": "stderr",
     "output_type": "stream",
     "text": [
      "\r  6%|███                                                  | 77335/1332946 [00:04<01:19, 15815.36r/s]"
     ]
    },
    {
     "name": "stderr",
     "output_type": "stream",
     "text": [
      "\r  6%|███▏                                                 | 80759/1332946 [00:04<01:17, 16184.33r/s]"
     ]
    },
    {
     "name": "stderr",
     "output_type": "stream",
     "text": [
      "\r  6%|███▎                                                 | 84276/1332946 [00:05<01:15, 16557.09r/s]"
     ]
    },
    {
     "name": "stderr",
     "output_type": "stream",
     "text": [
      "\r  7%|███▍                                                 | 87825/1332946 [00:05<01:13, 16921.71r/s]"
     ]
    },
    {
     "name": "stderr",
     "output_type": "stream",
     "text": [
      "\r  7%|███▋                                                 | 91359/1332946 [00:05<01:11, 17269.65r/s]"
     ]
    },
    {
     "name": "stderr",
     "output_type": "stream",
     "text": [
      "\r  7%|███▊                                                 | 94823/1332946 [00:05<01:10, 17591.67r/s]"
     ]
    },
    {
     "name": "stderr",
     "output_type": "stream",
     "text": [
      "\r  7%|███▉                                                 | 98286/1332946 [00:05<01:08, 17901.79r/s]"
     ]
    },
    {
     "name": "stderr",
     "output_type": "stream",
     "text": [
      "\r  8%|███▉                                                | 101757/1332946 [00:05<01:07, 18202.23r/s]"
     ]
    },
    {
     "name": "stderr",
     "output_type": "stream",
     "text": [
      "\r  8%|████                                                | 105270/1332946 [00:05<01:06, 18499.48r/s]"
     ]
    },
    {
     "name": "stderr",
     "output_type": "stream",
     "text": [
      "\r  8%|████▏                                               | 108764/1332946 [00:05<01:05, 18783.17r/s]"
     ]
    },
    {
     "name": "stderr",
     "output_type": "stream",
     "text": [
      "\r  8%|████▍                                               | 112257/1332946 [00:05<01:04, 19056.91r/s]"
     ]
    },
    {
     "name": "stderr",
     "output_type": "stream",
     "text": [
      "\r  9%|████▌                                               | 115771/1332946 [00:05<01:02, 19325.11r/s]"
     ]
    },
    {
     "name": "stderr",
     "output_type": "stream",
     "text": [
      "\r  9%|████▋                                               | 119264/1332946 [00:06<01:01, 19579.53r/s]"
     ]
    },
    {
     "name": "stderr",
     "output_type": "stream",
     "text": [
      "\r  9%|████▊                                               | 122774/1332946 [00:06<01:01, 19829.98r/s]"
     ]
    },
    {
     "name": "stderr",
     "output_type": "stream",
     "text": [
      "\r  9%|████▉                                               | 126298/1332946 [00:06<01:00, 20074.70r/s]"
     ]
    },
    {
     "name": "stderr",
     "output_type": "stream",
     "text": [
      "\r 10%|█████                                               | 129806/1332946 [00:06<00:59, 20309.24r/s]"
     ]
    },
    {
     "name": "stderr",
     "output_type": "stream",
     "text": [
      "\r 10%|█████▏                                              | 133355/1332946 [00:06<00:58, 20542.73r/s]"
     ]
    },
    {
     "name": "stderr",
     "output_type": "stream",
     "text": [
      "\r 10%|█████▎                                              | 136871/1332946 [00:06<00:57, 20759.55r/s]"
     ]
    },
    {
     "name": "stderr",
     "output_type": "stream",
     "text": [
      "\r 11%|█████▍                                              | 140371/1332946 [00:06<00:56, 20972.02r/s]"
     ]
    },
    {
     "name": "stderr",
     "output_type": "stream",
     "text": [
      "\r 11%|█████▌                                              | 143913/1332946 [00:06<00:56, 21184.52r/s]"
     ]
    },
    {
     "name": "stderr",
     "output_type": "stream",
     "text": [
      "\r 11%|█████▊                                              | 147458/1332946 [00:06<00:55, 21391.05r/s]"
     ]
    },
    {
     "name": "stderr",
     "output_type": "stream",
     "text": [
      "\r 11%|█████▉                                              | 150996/1332946 [00:06<00:54, 21590.87r/s]"
     ]
    },
    {
     "name": "stderr",
     "output_type": "stream",
     "text": [
      "\r 12%|██████                                              | 154526/1332946 [00:07<00:54, 21783.95r/s]"
     ]
    },
    {
     "name": "stderr",
     "output_type": "stream",
     "text": [
      "\r 12%|██████▏                                             | 158074/1332946 [00:07<00:53, 21974.09r/s]"
     ]
    },
    {
     "name": "stderr",
     "output_type": "stream",
     "text": [
      "\r 12%|██████▎                                             | 161653/1332946 [00:07<00:52, 22163.34r/s]"
     ]
    },
    {
     "name": "stderr",
     "output_type": "stream",
     "text": [
      "\r 12%|██████▍                                             | 165199/1332946 [00:07<00:52, 22336.87r/s]"
     ]
    },
    {
     "name": "stderr",
     "output_type": "stream",
     "text": [
      "\r 13%|██████▌                                             | 168771/1332946 [00:07<00:51, 22515.21r/s]"
     ]
    },
    {
     "name": "stderr",
     "output_type": "stream",
     "text": [
      "\r 13%|██████▋                                             | 172309/1332946 [00:07<00:51, 22679.89r/s]"
     ]
    },
    {
     "name": "stderr",
     "output_type": "stream",
     "text": [
      "\r 13%|██████▊                                             | 175842/1332946 [00:07<00:50, 22844.01r/s]"
     ]
    },
    {
     "name": "stderr",
     "output_type": "stream",
     "text": [
      "\r 13%|██████▉                                             | 179376/1332946 [00:07<00:50, 23004.04r/s]"
     ]
    },
    {
     "name": "stderr",
     "output_type": "stream",
     "text": [
      "\r 14%|███████▏                                            | 182903/1332946 [00:07<00:49, 23159.16r/s]"
     ]
    },
    {
     "name": "stderr",
     "output_type": "stream",
     "text": [
      "\r 14%|███████▎                                            | 186449/1332946 [00:07<00:49, 23312.80r/s]"
     ]
    },
    {
     "name": "stderr",
     "output_type": "stream",
     "text": [
      "\r 14%|███████▍                                            | 189981/1332946 [00:08<00:48, 23456.49r/s]"
     ]
    },
    {
     "name": "stderr",
     "output_type": "stream",
     "text": [
      "\r 15%|███████▌                                            | 193496/1332946 [00:08<00:48, 23594.57r/s]"
     ]
    },
    {
     "name": "stderr",
     "output_type": "stream",
     "text": [
      "\r 15%|███████▋                                            | 197000/1332946 [00:08<00:47, 23732.27r/s]"
     ]
    },
    {
     "name": "stderr",
     "output_type": "stream",
     "text": [
      "\r 15%|███████▊                                            | 200498/1332946 [00:08<00:47, 23864.47r/s]"
     ]
    },
    {
     "name": "stderr",
     "output_type": "stream",
     "text": [
      "\r 15%|███████▉                                            | 203995/1332946 [00:08<00:47, 23996.31r/s]"
     ]
    },
    {
     "name": "stderr",
     "output_type": "stream",
     "text": [
      "\r 16%|████████                                            | 207492/1332946 [00:08<00:46, 24113.77r/s]"
     ]
    },
    {
     "name": "stderr",
     "output_type": "stream",
     "text": [
      "\r 16%|████████▏                                           | 210955/1332946 [00:08<00:46, 24234.42r/s]"
     ]
    },
    {
     "name": "stderr",
     "output_type": "stream",
     "text": [
      "\r 16%|████████▎                                           | 214490/1332946 [00:08<00:45, 24359.81r/s]"
     ]
    },
    {
     "name": "stderr",
     "output_type": "stream",
     "text": [
      "\r 16%|████████▌                                           | 217976/1332946 [00:08<00:45, 24477.50r/s]"
     ]
    },
    {
     "name": "stderr",
     "output_type": "stream",
     "text": [
      "\r 17%|████████▋                                           | 221491/1332946 [00:09<00:45, 24595.82r/s]"
     ]
    },
    {
     "name": "stderr",
     "output_type": "stream",
     "text": [
      "\r 17%|████████▊                                           | 224982/1332946 [00:09<00:44, 24702.08r/s]"
     ]
    },
    {
     "name": "stderr",
     "output_type": "stream",
     "text": [
      "\r 17%|████████▉                                           | 228472/1332946 [00:09<00:44, 24812.61r/s]"
     ]
    },
    {
     "name": "stderr",
     "output_type": "stream",
     "text": [
      "\r 17%|█████████                                           | 232016/1332946 [00:09<00:44, 24926.52r/s]"
     ]
    },
    {
     "name": "stderr",
     "output_type": "stream",
     "text": [
      "\r 18%|█████████▏                                          | 235510/1332946 [00:09<00:43, 25032.72r/s]"
     ]
    },
    {
     "name": "stderr",
     "output_type": "stream",
     "text": [
      "\r 18%|█████████▎                                          | 239030/1332946 [00:09<00:43, 25139.52r/s]"
     ]
    },
    {
     "name": "stderr",
     "output_type": "stream",
     "text": [
      "\r 18%|█████████▍                                          | 242530/1332946 [00:09<00:43, 25240.10r/s]"
     ]
    },
    {
     "name": "stderr",
     "output_type": "stream",
     "text": [
      "\r 18%|█████████▌                                          | 246022/1332946 [00:09<00:42, 25334.39r/s]"
     ]
    },
    {
     "name": "stderr",
     "output_type": "stream",
     "text": [
      "\r 19%|█████████▋                                          | 249507/1332946 [00:09<00:42, 25431.17r/s]"
     ]
    },
    {
     "name": "stderr",
     "output_type": "stream",
     "text": [
      "\r 19%|█████████▊                                          | 253010/1332946 [00:09<00:42, 25527.86r/s]"
     ]
    },
    {
     "name": "stderr",
     "output_type": "stream",
     "text": [
      "\r 19%|██████████                                          | 256493/1332946 [00:10<00:42, 25619.32r/s]"
     ]
    },
    {
     "name": "stderr",
     "output_type": "stream",
     "text": [
      "\r 20%|██████████▏                                         | 259970/1332946 [00:10<00:41, 25707.03r/s]"
     ]
    },
    {
     "name": "stderr",
     "output_type": "stream",
     "text": [
      "\r 20%|██████████▎                                         | 263504/1332946 [00:10<00:41, 25800.88r/s]"
     ]
    },
    {
     "name": "stderr",
     "output_type": "stream",
     "text": [
      "\r 20%|██████████▍                                         | 266988/1332946 [00:10<00:41, 25884.61r/s]"
     ]
    },
    {
     "name": "stderr",
     "output_type": "stream",
     "text": [
      "\r 20%|██████████▌                                         | 270495/1332946 [00:10<00:40, 25972.59r/s]"
     ]
    },
    {
     "name": "stderr",
     "output_type": "stream",
     "text": [
      "\r 21%|██████████▋                                         | 274003/1332946 [00:10<00:40, 26059.00r/s]"
     ]
    },
    {
     "name": "stderr",
     "output_type": "stream",
     "text": [
      "\r 21%|██████████▊                                         | 277490/1332946 [00:10<00:40, 26139.40r/s]"
     ]
    },
    {
     "name": "stderr",
     "output_type": "stream",
     "text": [
      "\r 21%|██████████▉                                         | 280966/1332946 [00:10<00:40, 26211.11r/s]"
     ]
    },
    {
     "name": "stderr",
     "output_type": "stream",
     "text": [
      "\r 21%|███████████                                         | 284409/1332946 [00:10<00:39, 26286.80r/s]"
     ]
    },
    {
     "name": "stderr",
     "output_type": "stream",
     "text": [
      "\r 22%|███████████▏                                        | 287849/1332946 [00:10<00:39, 26360.88r/s]"
     ]
    },
    {
     "name": "stderr",
     "output_type": "stream",
     "text": [
      "\r 22%|███████████▎                                        | 291288/1332946 [00:11<00:39, 26431.02r/s]"
     ]
    },
    {
     "name": "stderr",
     "output_type": "stream",
     "text": [
      "\r 22%|███████████▍                                        | 294773/1332946 [00:11<00:39, 26506.01r/s]"
     ]
    },
    {
     "name": "stderr",
     "output_type": "stream",
     "text": [
      "\r 22%|███████████▋                                        | 298227/1332946 [00:11<00:38, 26577.40r/s]"
     ]
    },
    {
     "name": "stderr",
     "output_type": "stream",
     "text": [
      "\r 23%|███████████▊                                        | 301693/1332946 [00:11<00:38, 26648.66r/s]"
     ]
    },
    {
     "name": "stderr",
     "output_type": "stream",
     "text": [
      "\r 23%|███████████▉                                        | 305163/1332946 [00:11<00:38, 26718.93r/s]"
     ]
    },
    {
     "name": "stderr",
     "output_type": "stream",
     "text": [
      "\r 23%|████████████                                        | 308647/1332946 [00:11<00:38, 26789.23r/s]"
     ]
    },
    {
     "name": "stderr",
     "output_type": "stream",
     "text": [
      "\r 23%|████████████▏                                       | 312110/1332946 [00:11<00:38, 26851.94r/s]"
     ]
    },
    {
     "name": "stderr",
     "output_type": "stream",
     "text": [
      "\r 24%|████████████▎                                       | 315553/1332946 [00:11<00:37, 26909.45r/s]"
     ]
    },
    {
     "name": "stderr",
     "output_type": "stream",
     "text": [
      "\r 24%|████████████▍                                       | 319058/1332946 [00:11<00:37, 26978.13r/s]"
     ]
    },
    {
     "name": "stderr",
     "output_type": "stream",
     "text": [
      "\r 24%|████████████▌                                       | 322497/1332946 [00:11<00:37, 27038.82r/s]"
     ]
    },
    {
     "name": "stderr",
     "output_type": "stream",
     "text": [
      "\r 24%|████████████▋                                       | 325933/1332946 [00:12<00:37, 27099.54r/s]"
     ]
    },
    {
     "name": "stderr",
     "output_type": "stream",
     "text": [
      "\r 25%|████████████▊                                       | 329366/1332946 [00:12<00:36, 27154.54r/s]"
     ]
    },
    {
     "name": "stderr",
     "output_type": "stream",
     "text": [
      "\r 25%|████████████▉                                       | 332824/1332946 [00:12<00:36, 27215.09r/s]"
     ]
    },
    {
     "name": "stderr",
     "output_type": "stream",
     "text": [
      "\r 25%|█████████████                                       | 336317/1332946 [00:12<00:36, 27277.49r/s]"
     ]
    },
    {
     "name": "stderr",
     "output_type": "stream",
     "text": [
      "\r 25%|█████████████▎                                      | 339762/1332946 [00:12<00:36, 27333.97r/s]"
     ]
    },
    {
     "name": "stderr",
     "output_type": "stream",
     "text": [
      "\r 26%|█████████████▍                                      | 343214/1332946 [00:12<00:36, 27391.17r/s]"
     ]
    },
    {
     "name": "stderr",
     "output_type": "stream",
     "text": [
      "\r 26%|█████████████▌                                      | 346657/1332946 [00:12<00:35, 27444.54r/s]"
     ]
    },
    {
     "name": "stderr",
     "output_type": "stream",
     "text": [
      "\r 26%|█████████████▋                                      | 350089/1332946 [00:12<00:35, 27496.26r/s]"
     ]
    },
    {
     "name": "stderr",
     "output_type": "stream",
     "text": [
      "\r 27%|█████████████▊                                      | 353573/1332946 [00:12<00:35, 27553.26r/s]"
     ]
    },
    {
     "name": "stderr",
     "output_type": "stream",
     "text": [
      "\r 27%|█████████████▉                                      | 357053/1332946 [00:12<00:35, 27609.15r/s]"
     ]
    },
    {
     "name": "stderr",
     "output_type": "stream",
     "text": [
      "\r 27%|██████████████                                      | 360520/1332946 [00:13<00:35, 27663.20r/s]"
     ]
    },
    {
     "name": "stderr",
     "output_type": "stream",
     "text": [
      "\r 27%|██████████████▏                                     | 363983/1332946 [00:13<00:34, 27716.08r/s]"
     ]
    },
    {
     "name": "stderr",
     "output_type": "stream",
     "text": [
      "\r 28%|██████████████▎                                     | 367440/1332946 [00:13<00:34, 27767.62r/s]"
     ]
    },
    {
     "name": "stderr",
     "output_type": "stream",
     "text": [
      "\r 28%|██████████████▍                                     | 370946/1332946 [00:13<00:34, 27822.17r/s]"
     ]
    },
    {
     "name": "stderr",
     "output_type": "stream",
     "text": [
      "\r 28%|██████████████▌                                     | 374459/1332946 [00:13<00:34, 27876.43r/s]"
     ]
    },
    {
     "name": "stderr",
     "output_type": "stream",
     "text": [
      "\r 28%|██████████████▋                                     | 377942/1332946 [00:13<00:34, 27923.56r/s]"
     ]
    },
    {
     "name": "stderr",
     "output_type": "stream",
     "text": [
      "\r 29%|██████████████▉                                     | 381404/1332946 [00:13<00:34, 27969.42r/s]"
     ]
    },
    {
     "name": "stderr",
     "output_type": "stream",
     "text": [
      "\r 29%|███████████████                                     | 384850/1332946 [00:13<00:33, 28013.49r/s]"
     ]
    },
    {
     "name": "stderr",
     "output_type": "stream",
     "text": [
      "\r 29%|███████████████▏                                    | 388313/1332946 [00:13<00:33, 28061.16r/s]"
     ]
    },
    {
     "name": "stderr",
     "output_type": "stream",
     "text": [
      "\r 29%|███████████████▎                                    | 391752/1332946 [00:13<00:33, 28106.42r/s]"
     ]
    },
    {
     "name": "stderr",
     "output_type": "stream",
     "text": [
      "\r 30%|███████████████▍                                    | 395212/1332946 [00:14<00:33, 28152.51r/s]"
     ]
    },
    {
     "name": "stderr",
     "output_type": "stream",
     "text": [
      "\r 30%|███████████████▌                                    | 398656/1332946 [00:14<00:33, 28195.78r/s]"
     ]
    },
    {
     "name": "stderr",
     "output_type": "stream",
     "text": [
      "\r 30%|███████████████▋                                    | 402099/1332946 [00:14<00:32, 28239.11r/s]"
     ]
    },
    {
     "name": "stderr",
     "output_type": "stream",
     "text": [
      "\r 30%|███████████████▊                                    | 405600/1332946 [00:14<00:32, 28286.17r/s]"
     ]
    },
    {
     "name": "stderr",
     "output_type": "stream",
     "text": [
      "\r 31%|███████████████▉                                    | 409055/1332946 [00:14<00:32, 28326.47r/s]"
     ]
    },
    {
     "name": "stderr",
     "output_type": "stream",
     "text": [
      "\r 31%|████████████████                                    | 412494/1332946 [00:14<00:32, 28364.14r/s]"
     ]
    },
    {
     "name": "stderr",
     "output_type": "stream",
     "text": [
      "\r 31%|████████████████▏                                   | 415912/1332946 [00:14<00:32, 28401.79r/s]"
     ]
    },
    {
     "name": "stderr",
     "output_type": "stream",
     "text": [
      "\r 31%|████████████████▎                                   | 419319/1332946 [00:14<00:32, 28433.30r/s]"
     ]
    },
    {
     "name": "stderr",
     "output_type": "stream",
     "text": [
      "\r 32%|████████████████▍                                   | 422691/1332946 [00:14<00:31, 28467.85r/s]"
     ]
    },
    {
     "name": "stderr",
     "output_type": "stream",
     "text": [
      "\r 32%|████████████████▌                                   | 426058/1332946 [00:14<00:31, 28497.75r/s]"
     ]
    },
    {
     "name": "stderr",
     "output_type": "stream",
     "text": [
      "\r 32%|████████████████▊                                   | 429400/1332946 [00:15<00:31, 28530.32r/s]"
     ]
    },
    {
     "name": "stderr",
     "output_type": "stream",
     "text": [
      "\r 32%|████████████████▉                                   | 432760/1332946 [00:15<00:31, 28563.65r/s]"
     ]
    },
    {
     "name": "stderr",
     "output_type": "stream",
     "text": [
      "\r 33%|█████████████████                                   | 436153/1332946 [00:15<00:31, 28598.69r/s]"
     ]
    },
    {
     "name": "stderr",
     "output_type": "stream",
     "text": [
      "\r 33%|█████████████████▏                                  | 439522/1332946 [00:15<00:31, 28631.74r/s]"
     ]
    },
    {
     "name": "stderr",
     "output_type": "stream",
     "text": [
      "\r 33%|█████████████████▎                                  | 442897/1332946 [00:15<00:31, 28664.70r/s]"
     ]
    },
    {
     "name": "stderr",
     "output_type": "stream",
     "text": [
      "\r 33%|█████████████████▍                                  | 446285/1332946 [00:15<00:30, 28698.08r/s]"
     ]
    },
    {
     "name": "stderr",
     "output_type": "stream",
     "text": [
      "\r 34%|█████████████████▌                                  | 449656/1332946 [00:15<00:30, 28728.16r/s]"
     ]
    },
    {
     "name": "stderr",
     "output_type": "stream",
     "text": [
      "\r 34%|█████████████████▋                                  | 453071/1332946 [00:15<00:30, 28762.44r/s]"
     ]
    },
    {
     "name": "stderr",
     "output_type": "stream",
     "text": [
      "\r 34%|█████████████████▊                                  | 456454/1332946 [00:15<00:30, 28794.28r/s]"
     ]
    },
    {
     "name": "stderr",
     "output_type": "stream",
     "text": [
      "\r 34%|█████████████████▉                                  | 459832/1332946 [00:15<00:30, 28824.50r/s]"
     ]
    },
    {
     "name": "stderr",
     "output_type": "stream",
     "text": [
      "\r 35%|██████████████████                                  | 463204/1332946 [00:16<00:30, 28853.97r/s]"
     ]
    },
    {
     "name": "stderr",
     "output_type": "stream",
     "text": [
      "\r 35%|██████████████████▏                                 | 466571/1332946 [00:16<00:29, 28883.66r/s]"
     ]
    },
    {
     "name": "stderr",
     "output_type": "stream",
     "text": [
      "\r 35%|██████████████████▎                                 | 469937/1332946 [00:16<00:29, 28912.01r/s]"
     ]
    },
    {
     "name": "stderr",
     "output_type": "stream",
     "text": [
      "\r 36%|██████████████████▍                                 | 473297/1332946 [00:16<00:29, 28925.51r/s]"
     ]
    },
    {
     "name": "stderr",
     "output_type": "stream",
     "text": [
      "\r 36%|██████████████████▌                                 | 476578/1332946 [00:16<00:29, 28948.03r/s]"
     ]
    },
    {
     "name": "stderr",
     "output_type": "stream",
     "text": [
      "\r 36%|██████████████████▋                                 | 479853/1332946 [00:16<00:29, 28969.91r/s]"
     ]
    },
    {
     "name": "stderr",
     "output_type": "stream",
     "text": [
      "\r 36%|██████████████████▊                                 | 483144/1332946 [00:16<00:29, 28993.42r/s]"
     ]
    },
    {
     "name": "stderr",
     "output_type": "stream",
     "text": [
      "\r 36%|██████████████████▉                                 | 486484/1332946 [00:16<00:29, 29019.61r/s]"
     ]
    },
    {
     "name": "stderr",
     "output_type": "stream",
     "text": [
      "\r 37%|███████████████████                                 | 489797/1332946 [00:16<00:29, 29043.86r/s]"
     ]
    },
    {
     "name": "stderr",
     "output_type": "stream",
     "text": [
      "\r 37%|███████████████████▏                                | 493096/1332946 [00:16<00:28, 29065.29r/s]"
     ]
    },
    {
     "name": "stderr",
     "output_type": "stream",
     "text": [
      "\r 37%|███████████████████▎                                | 496388/1332946 [00:17<00:28, 29087.76r/s]"
     ]
    },
    {
     "name": "stderr",
     "output_type": "stream",
     "text": [
      "\r 37%|███████████████████▍                                | 499782/1332946 [00:17<00:28, 29115.88r/s]"
     ]
    },
    {
     "name": "stderr",
     "output_type": "stream",
     "text": [
      "\r 38%|███████████████████▋                                | 503102/1332946 [00:17<00:28, 29135.22r/s]"
     ]
    },
    {
     "name": "stderr",
     "output_type": "stream",
     "text": [
      "\r 38%|███████████████████▊                                | 506429/1332946 [00:17<00:28, 29158.91r/s]"
     ]
    },
    {
     "name": "stderr",
     "output_type": "stream",
     "text": [
      "\r 38%|███████████████████▉                                | 509733/1332946 [00:17<00:28, 29172.65r/s]"
     ]
    },
    {
     "name": "stderr",
     "output_type": "stream",
     "text": [
      "\r 38%|████████████████████                                | 512989/1332946 [00:17<00:28, 29189.32r/s]"
     ]
    },
    {
     "name": "stderr",
     "output_type": "stream",
     "text": [
      "\r 39%|████████████████████▏                               | 516416/1332946 [00:17<00:27, 29217.95r/s]"
     ]
    },
    {
     "name": "stderr",
     "output_type": "stream",
     "text": [
      "\r 39%|████████████████████▎                               | 519712/1332946 [00:17<00:27, 29238.06r/s]"
     ]
    },
    {
     "name": "stderr",
     "output_type": "stream",
     "text": [
      "\r 39%|████████████████████▍                               | 523003/1332946 [00:17<00:27, 29258.48r/s]"
     ]
    },
    {
     "name": "stderr",
     "output_type": "stream",
     "text": [
      "\r 39%|████████████████████▌                               | 526374/1332946 [00:17<00:27, 29283.13r/s]"
     ]
    },
    {
     "name": "stderr",
     "output_type": "stream",
     "text": [
      "\r 40%|████████████████████▋                               | 529688/1332946 [00:18<00:27, 29298.65r/s]"
     ]
    },
    {
     "name": "stderr",
     "output_type": "stream",
     "text": [
      "\r 40%|████████████████████▊                               | 532968/1332946 [00:18<00:27, 29317.02r/s]"
     ]
    },
    {
     "name": "stderr",
     "output_type": "stream",
     "text": [
      "\r 40%|████████████████████▉                               | 536245/1332946 [00:18<00:27, 29332.58r/s]"
     ]
    },
    {
     "name": "stderr",
     "output_type": "stream",
     "text": [
      "\r 40%|█████████████████████                               | 539500/1332946 [00:18<00:27, 29345.85r/s]"
     ]
    },
    {
     "name": "stderr",
     "output_type": "stream",
     "text": [
      "\r 41%|█████████████████████▏                              | 542730/1332946 [00:18<00:26, 29356.16r/s]"
     ]
    },
    {
     "name": "stderr",
     "output_type": "stream",
     "text": [
      "\r 41%|█████████████████████▎                              | 546016/1332946 [00:18<00:26, 29374.90r/s]"
     ]
    },
    {
     "name": "stderr",
     "output_type": "stream",
     "text": [
      "\r 41%|█████████████████████▍                              | 549239/1332946 [00:18<00:26, 29390.06r/s]"
     ]
    },
    {
     "name": "stderr",
     "output_type": "stream",
     "text": [
      "\r 41%|█████████████████████▌                              | 552596/1332946 [00:18<00:26, 29412.20r/s]"
     ]
    },
    {
     "name": "stderr",
     "output_type": "stream",
     "text": [
      "\r 42%|█████████████████████▋                              | 555858/1332946 [00:18<00:26, 29429.05r/s]"
     ]
    },
    {
     "name": "stderr",
     "output_type": "stream",
     "text": [
      "\r 42%|█████████████████████▊                              | 559203/1332946 [00:18<00:26, 29450.12r/s]"
     ]
    },
    {
     "name": "stderr",
     "output_type": "stream",
     "text": [
      "\r 42%|█████████████████████▉                              | 562608/1332946 [00:19<00:26, 29474.11r/s]"
     ]
    },
    {
     "name": "stderr",
     "output_type": "stream",
     "text": [
      "\r 42%|██████████████████████                              | 565972/1332946 [00:19<00:26, 29495.73r/s]"
     ]
    },
    {
     "name": "stderr",
     "output_type": "stream",
     "text": [
      "\r 43%|██████████████████████▏                             | 569406/1332946 [00:19<00:25, 29520.72r/s]"
     ]
    },
    {
     "name": "stderr",
     "output_type": "stream",
     "text": [
      "\r 43%|██████████████████████▎                             | 572853/1332946 [00:19<00:25, 29546.16r/s]"
     ]
    },
    {
     "name": "stderr",
     "output_type": "stream",
     "text": [
      "\r 43%|██████████████████████▍                             | 576241/1332946 [00:19<00:25, 29565.95r/s]"
     ]
    },
    {
     "name": "stderr",
     "output_type": "stream",
     "text": [
      "\r 43%|██████████████████████▌                             | 579629/1332946 [00:19<00:25, 29587.87r/s]"
     ]
    },
    {
     "name": "stderr",
     "output_type": "stream",
     "text": [
      "\r 44%|██████████████████████▋                             | 583005/1332946 [00:19<00:25, 29608.97r/s]"
     ]
    },
    {
     "name": "stderr",
     "output_type": "stream",
     "text": [
      "\r 44%|██████████████████████▉                             | 586381/1332946 [00:19<00:25, 29629.84r/s]"
     ]
    },
    {
     "name": "stderr",
     "output_type": "stream",
     "text": [
      "\r 44%|███████████████████████                             | 589756/1332946 [00:19<00:25, 29648.94r/s]"
     ]
    },
    {
     "name": "stderr",
     "output_type": "stream",
     "text": [
      "\r 44%|███████████████████████▏                            | 593123/1332946 [00:19<00:24, 29668.95r/s]"
     ]
    },
    {
     "name": "stderr",
     "output_type": "stream",
     "text": [
      "\r 45%|███████████████████████▎                            | 596488/1332946 [00:20<00:24, 29686.96r/s]"
     ]
    },
    {
     "name": "stderr",
     "output_type": "stream",
     "text": [
      "\r 45%|███████████████████████▍                            | 599841/1332946 [00:20<00:24, 29704.41r/s]"
     ]
    },
    {
     "name": "stderr",
     "output_type": "stream",
     "text": [
      "\r 45%|███████████████████████▌                            | 603183/1332946 [00:21<00:25, 28496.16r/s]"
     ]
    },
    {
     "name": "stderr",
     "output_type": "stream",
     "text": [
      "\r 45%|███████████████████████▋                            | 606387/1332946 [00:21<00:25, 28512.71r/s]"
     ]
    },
    {
     "name": "stderr",
     "output_type": "stream",
     "text": [
      "\r 46%|███████████████████████▊                            | 609806/1332946 [00:21<00:25, 28539.19r/s]"
     ]
    },
    {
     "name": "stderr",
     "output_type": "stream",
     "text": [
      "\r 46%|███████████████████████▉                            | 613167/1332946 [00:21<00:25, 28562.73r/s]"
     ]
    },
    {
     "name": "stderr",
     "output_type": "stream",
     "text": [
      "\r 46%|████████████████████████                            | 616486/1332946 [00:21<00:25, 28584.08r/s]"
     ]
    },
    {
     "name": "stderr",
     "output_type": "stream",
     "text": [
      "\r 46%|████████████████████████▏                           | 619777/1332946 [00:21<00:24, 28603.95r/s]"
     ]
    },
    {
     "name": "stderr",
     "output_type": "stream",
     "text": [
      "\r 47%|████████████████████████▎                           | 623107/1332946 [00:21<00:24, 28625.43r/s]"
     ]
    },
    {
     "name": "stderr",
     "output_type": "stream",
     "text": [
      "\r 47%|████████████████████████▍                           | 626482/1332946 [00:21<00:24, 28648.77r/s]"
     ]
    },
    {
     "name": "stderr",
     "output_type": "stream",
     "text": [
      "\r 47%|████████████████████████▌                           | 629807/1332946 [00:21<00:24, 28669.64r/s]"
     ]
    },
    {
     "name": "stderr",
     "output_type": "stream",
     "text": [
      "\r 48%|████████████████████████▋                           | 633192/1332946 [00:22<00:24, 28693.01r/s]"
     ]
    },
    {
     "name": "stderr",
     "output_type": "stream",
     "text": [
      "\r 48%|████████████████████████▊                           | 636504/1332946 [00:22<00:24, 28712.23r/s]"
     ]
    },
    {
     "name": "stderr",
     "output_type": "stream",
     "text": [
      "\r 48%|████████████████████████▉                           | 639811/1332946 [00:22<00:24, 28731.72r/s]"
     ]
    },
    {
     "name": "stderr",
     "output_type": "stream",
     "text": [
      "\r 48%|█████████████████████████                           | 643136/1332946 [00:22<00:23, 28751.82r/s]"
     ]
    },
    {
     "name": "stderr",
     "output_type": "stream",
     "text": [
      "\r 49%|█████████████████████████▏                          | 646525/1332946 [00:22<00:23, 28774.62r/s]"
     ]
    },
    {
     "name": "stderr",
     "output_type": "stream",
     "text": [
      "\r 49%|█████████████████████████▎                          | 649910/1332946 [00:22<00:23, 28797.02r/s]"
     ]
    },
    {
     "name": "stderr",
     "output_type": "stream",
     "text": [
      "\r 49%|█████████████████████████▍                          | 653262/1332946 [00:22<00:23, 28817.76r/s]"
     ]
    },
    {
     "name": "stderr",
     "output_type": "stream",
     "text": [
      "\r 49%|█████████████████████████▌                          | 656611/1332946 [00:22<00:23, 28838.14r/s]"
     ]
    },
    {
     "name": "stderr",
     "output_type": "stream",
     "text": [
      "\r 50%|█████████████████████████▋                          | 659959/1332946 [00:22<00:23, 28845.09r/s]"
     ]
    },
    {
     "name": "stderr",
     "output_type": "stream",
     "text": [
      "\r 50%|█████████████████████████▊                          | 663235/1332946 [00:22<00:23, 28861.86r/s]"
     ]
    },
    {
     "name": "stderr",
     "output_type": "stream",
     "text": [
      "\r 50%|██████████████████████████                          | 666547/1332946 [00:23<00:23, 28880.23r/s]"
     ]
    },
    {
     "name": "stderr",
     "output_type": "stream",
     "text": [
      "\r 50%|██████████████████████████▏                         | 669870/1332946 [00:23<00:22, 28898.91r/s]"
     ]
    },
    {
     "name": "stderr",
     "output_type": "stream",
     "text": [
      "\r 51%|██████████████████████████▎                         | 673209/1332946 [00:23<00:22, 28918.12r/s]"
     ]
    },
    {
     "name": "stderr",
     "output_type": "stream",
     "text": [
      "\r 51%|██████████████████████████▍                         | 676581/1332946 [00:23<00:22, 28938.23r/s]"
     ]
    },
    {
     "name": "stderr",
     "output_type": "stream",
     "text": [
      "\r 51%|██████████████████████████▌                         | 679901/1332946 [00:23<00:22, 28949.49r/s]"
     ]
    },
    {
     "name": "stderr",
     "output_type": "stream",
     "text": [
      "\r 51%|██████████████████████████▋                         | 683168/1332946 [00:23<00:22, 28960.28r/s]"
     ]
    },
    {
     "name": "stderr",
     "output_type": "stream",
     "text": [
      "\r 52%|██████████████████████████▊                         | 686469/1332946 [00:23<00:22, 28977.29r/s]"
     ]
    },
    {
     "name": "stderr",
     "output_type": "stream",
     "text": [
      "\r 52%|██████████████████████████▉                         | 689719/1332946 [00:23<00:22, 28991.99r/s]"
     ]
    },
    {
     "name": "stderr",
     "output_type": "stream",
     "text": [
      "\r 52%|███████████████████████████                         | 692968/1332946 [00:23<00:22, 29005.33r/s]"
     ]
    },
    {
     "name": "stderr",
     "output_type": "stream",
     "text": [
      "\r 52%|███████████████████████████▏                        | 696207/1332946 [00:23<00:21, 29016.95r/s]"
     ]
    },
    {
     "name": "stderr",
     "output_type": "stream",
     "text": [
      "\r 52%|███████████████████████████▎                        | 699567/1332946 [00:24<00:21, 29036.44r/s]"
     ]
    },
    {
     "name": "stderr",
     "output_type": "stream",
     "text": [
      "\r 53%|███████████████████████████▍                        | 702861/1332946 [00:24<00:21, 29052.49r/s]"
     ]
    },
    {
     "name": "stderr",
     "output_type": "stream",
     "text": [
      "\r 53%|███████████████████████████▌                        | 706134/1332946 [00:24<00:21, 29065.75r/s]"
     ]
    },
    {
     "name": "stderr",
     "output_type": "stream",
     "text": [
      "\r 53%|███████████████████████████▋                        | 709454/1332946 [00:24<00:21, 29082.63r/s]"
     ]
    },
    {
     "name": "stderr",
     "output_type": "stream",
     "text": [
      "\r 53%|███████████████████████████▊                        | 712932/1332946 [00:24<00:21, 29105.81r/s]"
     ]
    },
    {
     "name": "stderr",
     "output_type": "stream",
     "text": [
      "\r 54%|███████████████████████████▉                        | 716371/1332946 [00:24<00:21, 29127.17r/s]"
     ]
    },
    {
     "name": "stderr",
     "output_type": "stream",
     "text": [
      "\r 54%|████████████████████████████                        | 719765/1332946 [00:24<00:21, 29146.55r/s]"
     ]
    },
    {
     "name": "stderr",
     "output_type": "stream",
     "text": [
      "\r 54%|████████████████████████████▏                       | 723195/1332946 [00:24<00:20, 29167.25r/s]"
     ]
    },
    {
     "name": "stderr",
     "output_type": "stream",
     "text": [
      "\r 55%|████████████████████████████▎                       | 726585/1332946 [00:24<00:20, 29184.41r/s]"
     ]
    },
    {
     "name": "stderr",
     "output_type": "stream",
     "text": [
      "\r 55%|████████████████████████████▍                       | 729959/1332946 [00:24<00:20, 29201.93r/s]"
     ]
    },
    {
     "name": "stderr",
     "output_type": "stream",
     "text": [
      "\r 55%|████████████████████████████▌                       | 733327/1332946 [00:25<00:20, 29217.37r/s]"
     ]
    },
    {
     "name": "stderr",
     "output_type": "stream",
     "text": [
      "\r 55%|████████████████████████████▋                       | 736675/1332946 [00:25<00:20, 29233.05r/s]"
     ]
    },
    {
     "name": "stderr",
     "output_type": "stream",
     "text": [
      "\r 56%|████████████████████████████▊                       | 740082/1332946 [00:25<00:20, 29252.09r/s]"
     ]
    },
    {
     "name": "stderr",
     "output_type": "stream",
     "text": [
      "\r 56%|█████████████████████████████                       | 743476/1332946 [00:25<00:20, 29270.46r/s]"
     ]
    },
    {
     "name": "stderr",
     "output_type": "stream",
     "text": [
      "\r 56%|█████████████████████████████▏                      | 746918/1332946 [00:25<00:20, 29290.57r/s]"
     ]
    },
    {
     "name": "stderr",
     "output_type": "stream",
     "text": [
      "\r 56%|█████████████████████████████▎                      | 750320/1332946 [00:25<00:19, 29308.91r/s]"
     ]
    },
    {
     "name": "stderr",
     "output_type": "stream",
     "text": [
      "\r 57%|█████████████████████████████▍                      | 753712/1332946 [00:25<00:19, 29324.50r/s]"
     ]
    },
    {
     "name": "stderr",
     "output_type": "stream",
     "text": [
      "\r 57%|█████████████████████████████▌                      | 757156/1332946 [00:25<00:19, 29344.23r/s]"
     ]
    },
    {
     "name": "stderr",
     "output_type": "stream",
     "text": [
      "\r 57%|█████████████████████████████▋                      | 760558/1332946 [00:25<00:19, 29362.16r/s]"
     ]
    },
    {
     "name": "stderr",
     "output_type": "stream",
     "text": [
      "\r 57%|█████████████████████████████▊                      | 763953/1332946 [00:26<00:19, 29378.03r/s]"
     ]
    },
    {
     "name": "stderr",
     "output_type": "stream",
     "text": [
      "\r 58%|█████████████████████████████▉                      | 767332/1332946 [00:26<00:19, 29393.18r/s]"
     ]
    },
    {
     "name": "stderr",
     "output_type": "stream",
     "text": [
      "\r 58%|██████████████████████████████                      | 770737/1332946 [00:26<00:19, 29410.87r/s]"
     ]
    },
    {
     "name": "stderr",
     "output_type": "stream",
     "text": [
      "\r 58%|██████████████████████████████▏                     | 774202/1332946 [00:26<00:18, 29430.71r/s]"
     ]
    },
    {
     "name": "stderr",
     "output_type": "stream",
     "text": [
      "\r 58%|██████████████████████████████▎                     | 777635/1332946 [00:26<00:18, 29449.09r/s]"
     ]
    },
    {
     "name": "stderr",
     "output_type": "stream",
     "text": [
      "\r 59%|██████████████████████████████▍                     | 781065/1332946 [00:26<00:18, 29467.30r/s]"
     ]
    },
    {
     "name": "stderr",
     "output_type": "stream",
     "text": [
      "\r 59%|██████████████████████████████▌                     | 784480/1332946 [00:26<00:18, 29483.72r/s]"
     ]
    },
    {
     "name": "stderr",
     "output_type": "stream",
     "text": [
      "\r 59%|██████████████████████████████▋                     | 787884/1332946 [00:26<00:18, 29500.70r/s]"
     ]
    },
    {
     "name": "stderr",
     "output_type": "stream",
     "text": [
      "\r 59%|██████████████████████████████▊                     | 791310/1332946 [00:26<00:18, 29518.38r/s]"
     ]
    },
    {
     "name": "stderr",
     "output_type": "stream",
     "text": [
      "\r 60%|███████████████████████████████                     | 794772/1332946 [00:26<00:18, 29537.25r/s]"
     ]
    },
    {
     "name": "stderr",
     "output_type": "stream",
     "text": [
      "\r 60%|███████████████████████████████▏                    | 798215/1332946 [00:27<00:18, 29555.29r/s]"
     ]
    },
    {
     "name": "stderr",
     "output_type": "stream",
     "text": [
      "\r 60%|███████████████████████████████▎                    | 801645/1332946 [00:27<00:17, 29571.62r/s]"
     ]
    },
    {
     "name": "stderr",
     "output_type": "stream",
     "text": [
      "\r 60%|███████████████████████████████▍                    | 805064/1332946 [00:27<00:17, 29588.48r/s]"
     ]
    },
    {
     "name": "stderr",
     "output_type": "stream",
     "text": [
      "\r 61%|███████████████████████████████▌                    | 808503/1332946 [00:27<00:17, 29605.99r/s]"
     ]
    },
    {
     "name": "stderr",
     "output_type": "stream",
     "text": [
      "\r 61%|███████████████████████████████▋                    | 811954/1332946 [00:27<00:17, 29623.82r/s]"
     ]
    },
    {
     "name": "stderr",
     "output_type": "stream",
     "text": [
      "\r 61%|███████████████████████████████▊                    | 815405/1332946 [00:27<00:17, 29641.18r/s]"
     ]
    },
    {
     "name": "stderr",
     "output_type": "stream",
     "text": [
      "\r 61%|███████████████████████████████▉                    | 818877/1332946 [00:27<00:17, 29659.43r/s]"
     ]
    },
    {
     "name": "stderr",
     "output_type": "stream",
     "text": [
      "\r 62%|████████████████████████████████                    | 822321/1332946 [00:27<00:17, 29675.00r/s]"
     ]
    },
    {
     "name": "stderr",
     "output_type": "stream",
     "text": [
      "\r 62%|████████████████████████████████▏                   | 825754/1332946 [00:27<00:17, 29691.10r/s]"
     ]
    },
    {
     "name": "stderr",
     "output_type": "stream",
     "text": [
      "\r 62%|████████████████████████████████▎                   | 829176/1332946 [00:27<00:16, 29705.65r/s]"
     ]
    },
    {
     "name": "stderr",
     "output_type": "stream",
     "text": [
      "\r 62%|████████████████████████████████▍                   | 832582/1332946 [00:28<00:16, 29720.06r/s]"
     ]
    },
    {
     "name": "stderr",
     "output_type": "stream",
     "text": [
      "\r 63%|████████████████████████████████▌                   | 835978/1332946 [00:28<00:16, 29730.82r/s]"
     ]
    },
    {
     "name": "stderr",
     "output_type": "stream",
     "text": [
      "\r 63%|████████████████████████████████▋                   | 839404/1332946 [00:28<00:16, 29746.81r/s]"
     ]
    },
    {
     "name": "stderr",
     "output_type": "stream",
     "text": [
      "\r 63%|████████████████████████████████▉                   | 842780/1332946 [00:28<00:16, 29760.89r/s]"
     ]
    },
    {
     "name": "stderr",
     "output_type": "stream",
     "text": [
      "\r 63%|█████████████████████████████████                   | 846159/1332946 [00:28<00:16, 29775.00r/s]"
     ]
    },
    {
     "name": "stderr",
     "output_type": "stream",
     "text": [
      "\r 64%|█████████████████████████████████▏                  | 849535/1332946 [00:28<00:16, 29788.91r/s]"
     ]
    },
    {
     "name": "stderr",
     "output_type": "stream",
     "text": [
      "\r 64%|█████████████████████████████████▎                  | 852943/1332946 [00:28<00:16, 29803.83r/s]"
     ]
    },
    {
     "name": "stderr",
     "output_type": "stream",
     "text": [
      "\r 64%|█████████████████████████████████▍                  | 856351/1332946 [00:28<00:15, 29818.65r/s]"
     ]
    },
    {
     "name": "stderr",
     "output_type": "stream",
     "text": [
      "\r 64%|█████████████████████████████████▌                  | 859742/1332946 [00:28<00:15, 29830.64r/s]"
     ]
    },
    {
     "name": "stderr",
     "output_type": "stream",
     "text": [
      "\r 65%|█████████████████████████████████▋                  | 863112/1332946 [00:28<00:15, 29843.91r/s]"
     ]
    },
    {
     "name": "stderr",
     "output_type": "stream",
     "text": [
      "\r 65%|█████████████████████████████████▊                  | 866481/1332946 [00:29<00:15, 29856.56r/s]"
     ]
    },
    {
     "name": "stderr",
     "output_type": "stream",
     "text": [
      "\r 65%|█████████████████████████████████▉                  | 869844/1332946 [00:29<00:15, 29869.45r/s]"
     ]
    },
    {
     "name": "stderr",
     "output_type": "stream",
     "text": [
      "\r 66%|██████████████████████████████████                  | 873258/1332946 [00:29<00:15, 29884.00r/s]"
     ]
    },
    {
     "name": "stderr",
     "output_type": "stream",
     "text": [
      "\r 66%|██████████████████████████████████▏                 | 876639/1332946 [00:29<00:15, 29897.32r/s]"
     ]
    },
    {
     "name": "stderr",
     "output_type": "stream",
     "text": [
      "\r 66%|██████████████████████████████████▎                 | 880028/1332946 [00:29<00:15, 29910.68r/s]"
     ]
    },
    {
     "name": "stderr",
     "output_type": "stream",
     "text": [
      "\r 66%|██████████████████████████████████▍                 | 883407/1332946 [00:29<00:15, 29923.23r/s]"
     ]
    },
    {
     "name": "stderr",
     "output_type": "stream",
     "text": [
      "\r 67%|██████████████████████████████████▌                 | 886830/1332946 [00:29<00:14, 29937.70r/s]"
     ]
    },
    {
     "name": "stderr",
     "output_type": "stream",
     "text": [
      "\r 67%|██████████████████████████████████▋                 | 890218/1332946 [00:29<00:14, 29950.84r/s]"
     ]
    },
    {
     "name": "stderr",
     "output_type": "stream",
     "text": [
      "\r 67%|██████████████████████████████████▊                 | 893605/1332946 [00:29<00:14, 29962.40r/s]"
     ]
    },
    {
     "name": "stderr",
     "output_type": "stream",
     "text": [
      "\r 67%|██████████████████████████████████▉                 | 896991/1332946 [00:29<00:14, 29975.32r/s]"
     ]
    },
    {
     "name": "stderr",
     "output_type": "stream",
     "text": [
      "\r 68%|███████████████████████████████████                 | 900366/1332946 [00:30<00:14, 29986.34r/s]"
     ]
    },
    {
     "name": "stderr",
     "output_type": "stream",
     "text": [
      "\r 68%|███████████████████████████████████▎                | 903736/1332946 [00:30<00:14, 29998.55r/s]"
     ]
    },
    {
     "name": "stderr",
     "output_type": "stream",
     "text": [
      "\r 68%|███████████████████████████████████▍                | 907107/1332946 [00:30<00:14, 30010.74r/s]"
     ]
    },
    {
     "name": "stderr",
     "output_type": "stream",
     "text": [
      "\r 68%|███████████████████████████████████▌                | 910471/1332946 [00:30<00:14, 30021.66r/s]"
     ]
    },
    {
     "name": "stderr",
     "output_type": "stream",
     "text": [
      "\r 69%|███████████████████████████████████▋                | 913865/1332946 [00:30<00:13, 30034.46r/s]"
     ]
    },
    {
     "name": "stderr",
     "output_type": "stream",
     "text": [
      "\r 69%|███████████████████████████████████▊                | 917230/1332946 [00:30<00:13, 30046.21r/s]"
     ]
    },
    {
     "name": "stderr",
     "output_type": "stream",
     "text": [
      "\r 69%|███████████████████████████████████▉                | 920607/1332946 [00:30<00:13, 30058.31r/s]"
     ]
    },
    {
     "name": "stderr",
     "output_type": "stream",
     "text": [
      "\r 69%|████████████████████████████████████                | 923985/1332946 [00:30<00:13, 30070.11r/s]"
     ]
    },
    {
     "name": "stderr",
     "output_type": "stream",
     "text": [
      "\r 70%|████████████████████████████████████▏               | 927353/1332946 [00:30<00:13, 30081.27r/s]"
     ]
    },
    {
     "name": "stderr",
     "output_type": "stream",
     "text": [
      "\r 70%|████████████████████████████████████▎               | 930715/1332946 [00:30<00:13, 30092.65r/s]"
     ]
    },
    {
     "name": "stderr",
     "output_type": "stream",
     "text": [
      "\r 70%|████████████████████████████████████▍               | 934077/1332946 [00:31<00:13, 30103.94r/s]"
     ]
    },
    {
     "name": "stderr",
     "output_type": "stream",
     "text": [
      "\r 70%|████████████████████████████████████▌               | 937451/1332946 [00:31<00:13, 30115.54r/s]"
     ]
    },
    {
     "name": "stderr",
     "output_type": "stream",
     "text": [
      "\r 71%|████████████████████████████████████▋               | 940815/1332946 [00:31<00:13, 30124.35r/s]"
     ]
    },
    {
     "name": "stderr",
     "output_type": "stream",
     "text": [
      "\r 71%|████████████████████████████████████▊               | 944182/1332946 [00:31<00:12, 30135.56r/s]"
     ]
    },
    {
     "name": "stderr",
     "output_type": "stream",
     "text": [
      "\r 71%|████████████████████████████████████▉               | 947553/1332946 [00:31<00:12, 30146.88r/s]"
     ]
    },
    {
     "name": "stderr",
     "output_type": "stream",
     "text": [
      "\r 71%|█████████████████████████████████████               | 950973/1332946 [00:31<00:12, 30159.39r/s]"
     ]
    },
    {
     "name": "stderr",
     "output_type": "stream",
     "text": [
      "\r 72%|█████████████████████████████████████▏              | 954346/1332946 [00:31<00:12, 30170.60r/s]"
     ]
    },
    {
     "name": "stderr",
     "output_type": "stream",
     "text": [
      "\r 72%|█████████████████████████████████████▎              | 957716/1332946 [00:31<00:12, 30180.23r/s]"
     ]
    },
    {
     "name": "stderr",
     "output_type": "stream",
     "text": [
      "\r 72%|█████████████████████████████████████▍              | 961112/1332946 [00:31<00:12, 30192.00r/s]"
     ]
    },
    {
     "name": "stderr",
     "output_type": "stream",
     "text": [
      "\r 72%|█████████████████████████████████████▋              | 964536/1332946 [00:31<00:12, 30204.61r/s]"
     ]
    },
    {
     "name": "stderr",
     "output_type": "stream",
     "text": [
      "\r 73%|█████████████████████████████████████▊              | 967919/1332946 [00:32<00:12, 30213.49r/s]"
     ]
    },
    {
     "name": "stderr",
     "output_type": "stream",
     "text": [
      "\r 73%|█████████████████████████████████████▉              | 971276/1332946 [00:32<00:11, 30223.37r/s]"
     ]
    },
    {
     "name": "stderr",
     "output_type": "stream",
     "text": [
      "\r 73%|██████████████████████████████████████              | 974632/1332946 [00:32<00:11, 30233.18r/s]"
     ]
    },
    {
     "name": "stderr",
     "output_type": "stream",
     "text": [
      "\r 73%|██████████████████████████████████████▏             | 978026/1332946 [00:32<00:11, 30244.56r/s]"
     ]
    },
    {
     "name": "stderr",
     "output_type": "stream",
     "text": [
      "\r 74%|██████████████████████████████████████▎             | 981410/1332946 [00:32<00:11, 30255.58r/s]"
     ]
    },
    {
     "name": "stderr",
     "output_type": "stream",
     "text": [
      "\r 74%|██████████████████████████████████████▍             | 984776/1332946 [00:32<00:11, 30265.53r/s]"
     ]
    },
    {
     "name": "stderr",
     "output_type": "stream",
     "text": [
      "\r 74%|██████████████████████████████████████▌             | 988137/1332946 [00:32<00:11, 30274.32r/s]"
     ]
    },
    {
     "name": "stderr",
     "output_type": "stream",
     "text": [
      "\r 74%|██████████████████████████████████████▋             | 991482/1332946 [00:32<00:11, 30281.64r/s]"
     ]
    },
    {
     "name": "stderr",
     "output_type": "stream",
     "text": [
      "\r 75%|██████████████████████████████████████▊             | 994802/1332946 [00:32<00:11, 30287.18r/s]"
     ]
    },
    {
     "name": "stderr",
     "output_type": "stream",
     "text": [
      "\r 75%|██████████████████████████████████████▉             | 998130/1332946 [00:32<00:11, 30296.20r/s]"
     ]
    },
    {
     "name": "stderr",
     "output_type": "stream",
     "text": [
      "\r 75%|██████████████████████████████████████▎            | 1001483/1332946 [00:33<00:10, 30305.90r/s]"
     ]
    },
    {
     "name": "stderr",
     "output_type": "stream",
     "text": [
      "\r 75%|██████████████████████████████████████▍            | 1004797/1332946 [00:33<00:10, 30313.02r/s]"
     ]
    },
    {
     "name": "stderr",
     "output_type": "stream",
     "text": [
      "\r 76%|██████████████████████████████████████▌            | 1008095/1332946 [00:33<00:10, 30317.79r/s]"
     ]
    },
    {
     "name": "stderr",
     "output_type": "stream",
     "text": [
      "\r 76%|██████████████████████████████████████▋            | 1011406/1332946 [00:33<00:10, 30325.85r/s]"
     ]
    },
    {
     "name": "stderr",
     "output_type": "stream",
     "text": [
      "\r 76%|██████████████████████████████████████▊            | 1014681/1332946 [00:33<00:10, 30332.99r/s]"
     ]
    },
    {
     "name": "stderr",
     "output_type": "stream",
     "text": [
      "\r 76%|██████████████████████████████████████▉            | 1017955/1332946 [00:33<00:10, 30339.65r/s]"
     ]
    },
    {
     "name": "stderr",
     "output_type": "stream",
     "text": [
      "\r 77%|███████████████████████████████████████            | 1021297/1332946 [00:33<00:10, 30348.75r/s]"
     ]
    },
    {
     "name": "stderr",
     "output_type": "stream",
     "text": [
      "\r 77%|███████████████████████████████████████▏           | 1024648/1332946 [00:33<00:10, 30358.04r/s]"
     ]
    },
    {
     "name": "stderr",
     "output_type": "stream",
     "text": [
      "\r 77%|███████████████████████████████████████▎           | 1027956/1332946 [00:33<00:10, 30366.02r/s]"
     ]
    },
    {
     "name": "stderr",
     "output_type": "stream",
     "text": [
      "\r 77%|███████████████████████████████████████▍           | 1031321/1332946 [00:33<00:09, 30375.64r/s]"
     ]
    },
    {
     "name": "stderr",
     "output_type": "stream",
     "text": [
      "\r 78%|███████████████████████████████████████▌           | 1034662/1332946 [00:34<00:09, 30384.48r/s]"
     ]
    },
    {
     "name": "stderr",
     "output_type": "stream",
     "text": [
      "\r 78%|███████████████████████████████████████▋           | 1037991/1332946 [00:34<00:09, 30392.47r/s]"
     ]
    },
    {
     "name": "stderr",
     "output_type": "stream",
     "text": [
      "\r 78%|███████████████████████████████████████▊           | 1041314/1332946 [00:34<00:09, 30397.59r/s]"
     ]
    },
    {
     "name": "stderr",
     "output_type": "stream",
     "text": [
      "\r 78%|███████████████████████████████████████▉           | 1044603/1332946 [00:34<00:09, 30404.33r/s]"
     ]
    },
    {
     "name": "stderr",
     "output_type": "stream",
     "text": [
      "\r 79%|████████████████████████████████████████           | 1047894/1332946 [00:34<00:09, 30411.54r/s]"
     ]
    },
    {
     "name": "stderr",
     "output_type": "stream",
     "text": [
      "\r 79%|████████████████████████████████████████▏          | 1051179/1332946 [00:34<00:09, 30418.54r/s]"
     ]
    },
    {
     "name": "stderr",
     "output_type": "stream",
     "text": [
      "\r 79%|████████████████████████████████████████▎          | 1054464/1332946 [00:34<00:09, 30424.62r/s]"
     ]
    },
    {
     "name": "stderr",
     "output_type": "stream",
     "text": [
      "\r 79%|████████████████████████████████████████▍          | 1057738/1332946 [00:34<00:09, 30431.22r/s]"
     ]
    },
    {
     "name": "stderr",
     "output_type": "stream",
     "text": [
      "\r 80%|████████████████████████████████████████▌          | 1061012/1332946 [00:34<00:08, 30434.29r/s]"
     ]
    },
    {
     "name": "stderr",
     "output_type": "stream",
     "text": [
      "\r 80%|████████████████████████████████████████▋          | 1064248/1332946 [00:34<00:08, 30439.20r/s]"
     ]
    },
    {
     "name": "stderr",
     "output_type": "stream",
     "text": [
      "\r 80%|████████████████████████████████████████▊          | 1067477/1332946 [00:35<00:08, 30441.38r/s]"
     ]
    },
    {
     "name": "stderr",
     "output_type": "stream",
     "text": [
      "\r 80%|████████████████████████████████████████▉          | 1070715/1332946 [00:35<00:08, 30446.83r/s]"
     ]
    },
    {
     "name": "stderr",
     "output_type": "stream",
     "text": [
      "\r 81%|█████████████████████████████████████████          | 1073923/1332946 [00:35<00:08, 30449.66r/s]"
     ]
    },
    {
     "name": "stderr",
     "output_type": "stream",
     "text": [
      "\r 81%|█████████████████████████████████████████▏         | 1077112/1332946 [00:35<00:08, 30448.07r/s]"
     ]
    },
    {
     "name": "stderr",
     "output_type": "stream",
     "text": [
      "\r 81%|█████████████████████████████████████████▎         | 1080246/1332946 [00:35<00:08, 30446.24r/s]"
     ]
    },
    {
     "name": "stderr",
     "output_type": "stream",
     "text": [
      "\r 81%|█████████████████████████████████████████▍         | 1083381/1332946 [00:35<00:08, 30448.72r/s]"
     ]
    },
    {
     "name": "stderr",
     "output_type": "stream",
     "text": [
      "\r 82%|█████████████████████████████████████████▌         | 1086596/1332946 [00:35<00:08, 30453.43r/s]"
     ]
    },
    {
     "name": "stderr",
     "output_type": "stream",
     "text": [
      "\r 82%|█████████████████████████████████████████▋         | 1089729/1332946 [00:35<00:07, 30454.12r/s]"
     ]
    },
    {
     "name": "stderr",
     "output_type": "stream",
     "text": [
      "\r 82%|█████████████████████████████████████████▊         | 1092959/1332946 [00:35<00:07, 30459.19r/s]"
     ]
    },
    {
     "name": "stderr",
     "output_type": "stream",
     "text": [
      "\r 82%|█████████████████████████████████████████▉         | 1096107/1332946 [00:35<00:07, 30461.55r/s]"
     ]
    },
    {
     "name": "stderr",
     "output_type": "stream",
     "text": [
      "\r 82%|██████████████████████████████████████████         | 1099274/1332946 [00:36<00:07, 30464.84r/s]"
     ]
    },
    {
     "name": "stderr",
     "output_type": "stream",
     "text": [
      "\r 83%|██████████████████████████████████████████▏        | 1102424/1332946 [00:36<00:07, 30467.63r/s]"
     ]
    },
    {
     "name": "stderr",
     "output_type": "stream",
     "text": [
      "\r 83%|██████████████████████████████████████████▎        | 1105573/1332946 [00:36<00:07, 30469.11r/s]"
     ]
    },
    {
     "name": "stderr",
     "output_type": "stream",
     "text": [
      "\r 83%|██████████████████████████████████████████▍        | 1108797/1332946 [00:36<00:07, 30473.89r/s]"
     ]
    },
    {
     "name": "stderr",
     "output_type": "stream",
     "text": [
      "\r 83%|██████████████████████████████████████████▌        | 1111957/1332946 [00:36<00:07, 30474.84r/s]"
     ]
    },
    {
     "name": "stderr",
     "output_type": "stream",
     "text": [
      "\r 84%|██████████████████████████████████████████▋        | 1115155/1332946 [00:36<00:07, 30478.88r/s]"
     ]
    },
    {
     "name": "stderr",
     "output_type": "stream",
     "text": [
      "\r 84%|██████████████████████████████████████████▊        | 1118309/1332946 [00:36<00:07, 30481.29r/s]"
     ]
    },
    {
     "name": "stderr",
     "output_type": "stream",
     "text": [
      "\r 84%|██████████████████████████████████████████▉        | 1121579/1332946 [00:36<00:06, 30487.24r/s]"
     ]
    },
    {
     "name": "stderr",
     "output_type": "stream",
     "text": [
      "\r 84%|███████████████████████████████████████████        | 1124763/1332946 [00:36<00:06, 30490.84r/s]"
     ]
    },
    {
     "name": "stderr",
     "output_type": "stream",
     "text": [
      "\r 85%|███████████████████████████████████████████▏       | 1128068/1332946 [00:36<00:06, 30497.41r/s]"
     ]
    },
    {
     "name": "stderr",
     "output_type": "stream",
     "text": [
      "\r 85%|███████████████████████████████████████████▎       | 1131397/1332946 [00:37<00:06, 30504.86r/s]"
     ]
    },
    {
     "name": "stderr",
     "output_type": "stream",
     "text": [
      "\r 85%|███████████████████████████████████████████▍       | 1134646/1332946 [00:37<00:06, 30510.13r/s]"
     ]
    },
    {
     "name": "stderr",
     "output_type": "stream",
     "text": [
      "\r 85%|███████████████████████████████████████████▌       | 1137894/1332946 [00:37<00:06, 30513.32r/s]"
     ]
    },
    {
     "name": "stderr",
     "output_type": "stream",
     "text": [
      "\r 86%|███████████████████████████████████████████▋       | 1141118/1332946 [00:37<00:06, 30510.12r/s]"
     ]
    },
    {
     "name": "stderr",
     "output_type": "stream",
     "text": [
      "\r 86%|███████████████████████████████████████████▊       | 1144258/1332946 [00:37<00:06, 30508.78r/s]"
     ]
    },
    {
     "name": "stderr",
     "output_type": "stream",
     "text": [
      "\r 86%|███████████████████████████████████████████▉       | 1147357/1332946 [00:37<00:06, 30504.72r/s]"
     ]
    },
    {
     "name": "stderr",
     "output_type": "stream",
     "text": [
      "\r 86%|████████████████████████████████████████████       | 1150529/1332946 [00:37<00:05, 30507.88r/s]"
     ]
    },
    {
     "name": "stderr",
     "output_type": "stream",
     "text": [
      "\r 87%|████████████████████████████████████████████▏      | 1153743/1332946 [00:37<00:05, 30512.14r/s]"
     ]
    },
    {
     "name": "stderr",
     "output_type": "stream",
     "text": [
      "\r 87%|████████████████████████████████████████████▎      | 1156940/1332946 [00:37<00:05, 30515.93r/s]"
     ]
    },
    {
     "name": "stderr",
     "output_type": "stream",
     "text": [
      "\r 87%|████████████████████████████████████████████▍      | 1160151/1332946 [00:38<00:05, 30520.07r/s]"
     ]
    },
    {
     "name": "stderr",
     "output_type": "stream",
     "text": [
      "\r 87%|████████████████████████████████████████████▌      | 1163328/1332946 [00:38<00:05, 30523.29r/s]"
     ]
    },
    {
     "name": "stderr",
     "output_type": "stream",
     "text": [
      "\r 88%|████████████████████████████████████████████▋      | 1166545/1332946 [00:38<00:05, 30527.55r/s]"
     ]
    },
    {
     "name": "stderr",
     "output_type": "stream",
     "text": [
      "\r 88%|████████████████████████████████████████████▊      | 1169790/1332946 [00:38<00:05, 30532.51r/s]"
     ]
    },
    {
     "name": "stderr",
     "output_type": "stream",
     "text": [
      "\r 88%|████████████████████████████████████████████▉      | 1172990/1332946 [00:38<00:05, 30529.91r/s]"
     ]
    },
    {
     "name": "stderr",
     "output_type": "stream",
     "text": [
      "\r 88%|████████████████████████████████████████████▉      | 1176118/1332946 [00:38<00:05, 30531.40r/s]"
     ]
    },
    {
     "name": "stderr",
     "output_type": "stream",
     "text": [
      "\r 88%|█████████████████████████████████████████████      | 1179281/1332946 [00:38<00:05, 30534.19r/s]"
     ]
    },
    {
     "name": "stderr",
     "output_type": "stream",
     "text": [
      "\r 89%|█████████████████████████████████████████████▏     | 1182455/1332946 [00:38<00:04, 30537.25r/s]"
     ]
    },
    {
     "name": "stderr",
     "output_type": "stream",
     "text": [
      "\r 89%|█████████████████████████████████████████████▎     | 1185653/1332946 [00:38<00:04, 30540.90r/s]"
     ]
    },
    {
     "name": "stderr",
     "output_type": "stream",
     "text": [
      "\r 89%|█████████████████████████████████████████████▍     | 1188814/1332946 [00:38<00:04, 30538.89r/s]"
     ]
    },
    {
     "name": "stderr",
     "output_type": "stream",
     "text": [
      "\r 89%|█████████████████████████████████████████████▌     | 1191921/1332946 [00:39<00:04, 30539.40r/s]"
     ]
    },
    {
     "name": "stderr",
     "output_type": "stream",
     "text": [
      "\r 90%|█████████████████████████████████████████████▋     | 1195108/1332946 [00:39<00:04, 30542.75r/s]"
     ]
    },
    {
     "name": "stderr",
     "output_type": "stream",
     "text": [
      "\r 90%|█████████████████████████████████████████████▊     | 1198247/1332946 [00:39<00:04, 30544.86r/s]"
     ]
    },
    {
     "name": "stderr",
     "output_type": "stream",
     "text": [
      "\r 90%|█████████████████████████████████████████████▉     | 1201375/1332946 [00:39<00:04, 30544.35r/s]"
     ]
    },
    {
     "name": "stderr",
     "output_type": "stream",
     "text": [
      "\r 90%|██████████████████████████████████████████████     | 1204566/1332946 [00:39<00:04, 30547.76r/s]"
     ]
    },
    {
     "name": "stderr",
     "output_type": "stream",
     "text": [
      "\r 91%|██████████████████████████████████████████████▏    | 1207848/1332946 [00:39<00:04, 30553.45r/s]"
     ]
    },
    {
     "name": "stderr",
     "output_type": "stream",
     "text": [
      "\r 91%|██████████████████████████████████████████████▎    | 1211040/1332946 [00:39<00:03, 30556.84r/s]"
     ]
    },
    {
     "name": "stderr",
     "output_type": "stream",
     "text": [
      "\r 91%|██████████████████████████████████████████████▍    | 1214218/1332946 [00:39<00:03, 30557.40r/s]"
     ]
    },
    {
     "name": "stderr",
     "output_type": "stream",
     "text": [
      "\r 91%|██████████████████████████████████████████████▌    | 1217366/1332946 [00:39<00:03, 30558.89r/s]"
     ]
    },
    {
     "name": "stderr",
     "output_type": "stream",
     "text": [
      "\r 92%|██████████████████████████████████████████████▋    | 1220664/1332946 [00:39<00:03, 30564.90r/s]"
     ]
    },
    {
     "name": "stderr",
     "output_type": "stream",
     "text": [
      "\r 92%|██████████████████████████████████████████████▊    | 1223849/1332946 [00:40<00:03, 30559.27r/s]"
     ]
    },
    {
     "name": "stderr",
     "output_type": "stream",
     "text": [
      "\r 92%|██████████████████████████████████████████████▉    | 1227092/1332946 [00:40<00:03, 30563.82r/s]"
     ]
    },
    {
     "name": "stderr",
     "output_type": "stream",
     "text": [
      "\r 92%|███████████████████████████████████████████████    | 1230292/1332946 [00:40<00:03, 30567.24r/s]"
     ]
    },
    {
     "name": "stderr",
     "output_type": "stream",
     "text": [
      "\r 93%|███████████████████████████████████████████████▏   | 1233540/1332946 [00:40<00:03, 30571.91r/s]"
     ]
    },
    {
     "name": "stderr",
     "output_type": "stream",
     "text": [
      "\r 93%|███████████████████████████████████████████████▎   | 1236759/1332946 [00:40<00:03, 30575.84r/s]"
     ]
    },
    {
     "name": "stderr",
     "output_type": "stream",
     "text": [
      "\r 93%|███████████████████████████████████████████████▍   | 1240012/1332946 [00:40<00:03, 30580.62r/s]"
     ]
    },
    {
     "name": "stderr",
     "output_type": "stream",
     "text": [
      "\r 93%|███████████████████████████████████████████████▌   | 1243310/1332946 [00:40<00:02, 30586.44r/s]"
     ]
    },
    {
     "name": "stderr",
     "output_type": "stream",
     "text": [
      "\r 94%|███████████████████████████████████████████████▋   | 1246629/1332946 [00:40<00:02, 30592.76r/s]"
     ]
    },
    {
     "name": "stderr",
     "output_type": "stream",
     "text": [
      "\r 94%|███████████████████████████████████████████████▊   | 1249888/1332946 [00:40<00:02, 30593.86r/s]"
     ]
    },
    {
     "name": "stderr",
     "output_type": "stream",
     "text": [
      "\r 94%|███████████████████████████████████████████████▉   | 1253168/1332946 [00:40<00:02, 30599.18r/s]"
     ]
    },
    {
     "name": "stderr",
     "output_type": "stream",
     "text": [
      "\r 94%|████████████████████████████████████████████████   | 1256506/1332946 [00:41<00:02, 30605.89r/s]"
     ]
    },
    {
     "name": "stderr",
     "output_type": "stream",
     "text": [
      "\r 95%|████████████████████████████████████████████████▏  | 1259769/1332946 [00:41<00:02, 30609.65r/s]"
     ]
    },
    {
     "name": "stderr",
     "output_type": "stream",
     "text": [
      "\r 95%|████████████████████████████████████████████████▎  | 1263067/1332946 [00:41<00:02, 30615.34r/s]"
     ]
    },
    {
     "name": "stderr",
     "output_type": "stream",
     "text": [
      "\r 95%|████████████████████████████████████████████████▍  | 1266330/1332946 [00:41<00:02, 30618.31r/s]"
     ]
    },
    {
     "name": "stderr",
     "output_type": "stream",
     "text": [
      "\r 95%|████████████████████████████████████████████████▌  | 1269638/1332946 [00:41<00:02, 30624.19r/s]"
     ]
    },
    {
     "name": "stderr",
     "output_type": "stream",
     "text": [
      "\r 96%|████████████████████████████████████████████████▋  | 1273030/1332946 [00:41<00:01, 30632.06r/s]"
     ]
    },
    {
     "name": "stderr",
     "output_type": "stream",
     "text": [
      "\r 96%|████████████████████████████████████████████████▊  | 1276423/1332946 [00:41<00:01, 30639.93r/s]"
     ]
    },
    {
     "name": "stderr",
     "output_type": "stream",
     "text": [
      "\r 96%|████████████████████████████████████████████████▉  | 1279824/1332946 [00:41<00:01, 30647.93r/s]"
     ]
    },
    {
     "name": "stderr",
     "output_type": "stream",
     "text": [
      "\r 96%|█████████████████████████████████████████████████  | 1283172/1332946 [00:41<00:01, 30654.28r/s]"
     ]
    },
    {
     "name": "stderr",
     "output_type": "stream",
     "text": [
      "\r 97%|█████████████████████████████████████████████████▏ | 1286596/1332946 [00:41<00:01, 30662.76r/s]"
     ]
    },
    {
     "name": "stderr",
     "output_type": "stream",
     "text": [
      "\r 97%|█████████████████████████████████████████████████▎ | 1290019/1332946 [00:42<00:01, 30671.19r/s]"
     ]
    },
    {
     "name": "stderr",
     "output_type": "stream",
     "text": [
      "\r 97%|█████████████████████████████████████████████████▍ | 1293401/1332946 [00:42<00:01, 30678.61r/s]"
     ]
    },
    {
     "name": "stderr",
     "output_type": "stream",
     "text": [
      "\r 97%|█████████████████████████████████████████████████▌ | 1296817/1332946 [00:42<00:01, 30686.76r/s]"
     ]
    },
    {
     "name": "stderr",
     "output_type": "stream",
     "text": [
      "\r 98%|█████████████████████████████████████████████████▋ | 1300208/1332946 [00:42<00:01, 30693.21r/s]"
     ]
    },
    {
     "name": "stderr",
     "output_type": "stream",
     "text": [
      "\r 98%|█████████████████████████████████████████████████▉ | 1303583/1332946 [00:42<00:00, 30700.00r/s]"
     ]
    },
    {
     "name": "stderr",
     "output_type": "stream",
     "text": [
      "\r 98%|██████████████████████████████████████████████████ | 1307035/1332946 [00:42<00:00, 30708.87r/s]"
     ]
    },
    {
     "name": "stderr",
     "output_type": "stream",
     "text": [
      "\r 98%|██████████████████████████████████████████████████▏| 1310428/1332946 [00:42<00:00, 30714.93r/s]"
     ]
    },
    {
     "name": "stderr",
     "output_type": "stream",
     "text": [
      "\r 99%|██████████████████████████████████████████████████▎| 1313809/1332946 [00:42<00:00, 30722.11r/s]"
     ]
    },
    {
     "name": "stderr",
     "output_type": "stream",
     "text": [
      "\r 99%|██████████████████████████████████████████████████▍| 1317252/1332946 [00:42<00:00, 30730.71r/s]"
     ]
    },
    {
     "name": "stderr",
     "output_type": "stream",
     "text": [
      "\r 99%|██████████████████████████████████████████████████▌| 1320696/1332946 [00:42<00:00, 30739.04r/s]"
     ]
    },
    {
     "name": "stderr",
     "output_type": "stream",
     "text": [
      "\r 99%|██████████████████████████████████████████████████▋| 1324127/1332946 [00:43<00:00, 30747.27r/s]"
     ]
    },
    {
     "name": "stderr",
     "output_type": "stream",
     "text": [
      "\r100%|██████████████████████████████████████████████████▊| 1327539/1332946 [00:43<00:00, 30754.66r/s]"
     ]
    },
    {
     "name": "stderr",
     "output_type": "stream",
     "text": [
      "\r100%|██████████████████████████████████████████████████▉| 1330945/1332946 [00:43<00:00, 30761.54r/s]"
     ]
    },
    {
     "name": "stderr",
     "output_type": "stream",
     "text": [
      "\r                                                                                                    "
     ]
    },
    {
     "name": "stderr",
     "output_type": "stream",
     "text": [
      "\r"
     ]
    },
    {
     "name": "stdout",
     "output_type": "stream",
     "text": [
      "\n"
     ]
    },
    {
     "name": "stdout",
     "output_type": "stream",
     "text": [
      "trans completed!"
     ]
    },
    {
     "name": "stdout",
     "output_type": "stream",
     "text": [
      "\n"
     ]
    }
   ],
   "source": [
    "column = ['uid', 'age', 'gender', 'marriageStatus', 'education', 'consumptionAbility', 'LBS', \n",
    "                           'interest1', 'interest2', 'interest3', 'interest4', 'interest5', \n",
    "                           'kw1', 'kw2', 'kw3', \n",
    "                           'topic1', 'topic2', 'topic3', \n",
    "                           'appIdInstall', 'appIdAction',  'ct', 'os', 'carrier', 'house']\n",
    "df = pd.DataFrame(columns=column)\n",
    "\n",
    "print('read file')\n",
    "with open('data/userFeature.data.005') as f:\n",
    "    lines = f.readlines()\n",
    "print('read finish')\n",
    "length = len(lines)\n",
    "bar = tqdm(range(length), total=length, ncols=100, leave=False,\n",
    "                       unit='r')\n",
    "\n",
    "dics = []\n",
    "for i in bar:\n",
    "    line = lines[i]\n",
    "    items = line.strip('\\n').split('|')\n",
    "    dic = {}\n",
    "    for item in items:\n",
    "        e = item.split(' ')\n",
    "        k = e[0]\n",
    "        if len(e) == 2:\n",
    "            v = e[1]\n",
    "        else:\n",
    "            v = str(e[1:])\n",
    "        dic[k] = v\n",
    "    dics.append(dic)\n",
    "    dic = {}\n",
    "print()\n",
    "print('trans completed!')\n",
    "bar.close()"
   ]
  },
  {
   "cell_type": "code",
   "execution_count": 17,
   "metadata": {},
   "outputs": [
    {
     "name": "stdout",
     "output_type": "stream",
     "text": [
      "do append!"
     ]
    },
    {
     "name": "stdout",
     "output_type": "stream",
     "text": [
      "\n"
     ]
    },
    {
     "name": "stdout",
     "output_type": "stream",
     "text": [
      "done"
     ]
    },
    {
     "name": "stdout",
     "output_type": "stream",
     "text": [
      "\n"
     ]
    }
   ],
   "source": [
    "row = pd.DataFrame(dics)\n",
    "print('do append!')\n",
    "df = df.append(row)\n",
    "df.to_csv('data/userFeature5.csv', columns=column)\n",
    "print('done')"
   ]
  }
 ],
 "metadata": {
  "kernelspec": {
   "display_name": "Python 3",
   "language": "python",
   "name": "python3"
  },
  "language_info": {
   "codemirror_mode": {
    "name": "ipython",
    "version": 3
   },
   "file_extension": ".py",
   "mimetype": "text/x-python",
   "name": "python",
   "nbconvert_exporter": "python",
   "pygments_lexer": "ipython3",
   "version": "3.5.4"
  }
 },
 "nbformat": 4,
 "nbformat_minor": 2
}
