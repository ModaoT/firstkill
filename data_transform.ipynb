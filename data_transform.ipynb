{
 "cells": [
  {
   "cell_type": "code",
   "execution_count": 2,
   "metadata": {},
   "outputs": [],
   "source": [
    "from tqdm import tqdm\n",
    "import pandas as pd"
   ]
  },
  {
   "cell_type": "code",
   "execution_count": 14,
   "metadata": {},
   "outputs": [
    {
     "name": "stdout",
     "output_type": "stream",
     "text": [
      "read file"
     ]
    },
    {
     "name": "stdout",
     "output_type": "stream",
     "text": [
      "\n"
     ]
    },
    {
     "name": "stdout",
     "output_type": "stream",
     "text": [
      "read finish"
     ]
    },
    {
     "name": "stdout",
     "output_type": "stream",
     "text": [
      "\n"
     ]
    },
    {
     "name": "stderr",
     "output_type": "stream",
     "text": [
      "\r  0%|                                                                    | 0/1332946 [00:00<?, ?r/s]"
     ]
    },
    {
     "name": "stderr",
     "output_type": "stream",
     "text": [
      "\r  0%|                                                       | 1/1332946 [00:16<6010:56:15, 16.23s/r]"
     ]
    },
    {
     "name": "stderr",
     "output_type": "stream",
     "text": [
      "\r  0%|                                                        | 770/1332946 [00:16<7:51:37, 47.08r/s]"
     ]
    },
    {
     "name": "stderr",
     "output_type": "stream",
     "text": [
      "\r  0%|                                                      | 2864/1332946 [00:18<2:23:27, 154.52r/s]"
     ]
    },
    {
     "name": "stderr",
     "output_type": "stream",
     "text": [
      "\r  0%|▏                                                     | 5873/1332946 [00:18<1:10:10, 315.16r/s]"
     ]
    },
    {
     "name": "stderr",
     "output_type": "stream",
     "text": [
      "\r  1%|▎                                                       | 8918/1332946 [00:18<46:21, 476.01r/s]"
     ]
    },
    {
     "name": "stderr",
     "output_type": "stream",
     "text": [
      "\r  1%|▍                                                      | 11970/1332946 [00:18<34:38, 635.51r/s]"
     ]
    },
    {
     "name": "stderr",
     "output_type": "stream",
     "text": [
      "\r  1%|▌                                                      | 15035/1332946 [00:18<27:39, 794.02r/s]"
     ]
    },
    {
     "name": "stderr",
     "output_type": "stream",
     "text": [
      "\r  1%|▋                                                      | 17975/1332946 [00:19<23:12, 944.30r/s]"
     ]
    },
    {
     "name": "stderr",
     "output_type": "stream",
     "text": [
      "\r  2%|▊                                                     | 20663/1332946 [00:19<20:15, 1079.84r/s]"
     ]
    },
    {
     "name": "stderr",
     "output_type": "stream",
     "text": [
      "\r  2%|▉                                                     | 23695/1332946 [00:19<17:42, 1231.84r/s]"
     ]
    },
    {
     "name": "stderr",
     "output_type": "stream",
     "text": [
      "\r  2%|█                                                     | 26546/1332946 [00:19<15:51, 1372.92r/s]"
     ]
    },
    {
     "name": "stderr",
     "output_type": "stream",
     "text": [
      "\r  2%|█▏                                                    | 29507/1332946 [00:19<14:18, 1518.20r/s]"
     ]
    },
    {
     "name": "stderr",
     "output_type": "stream",
     "text": [
      "\r  2%|█▎                                                    | 32513/1332946 [00:19<13:01, 1664.24r/s]"
     ]
    },
    {
     "name": "stderr",
     "output_type": "stream",
     "text": [
      "\r  3%|█▍                                                    | 35555/1332946 [00:19<11:56, 1810.63r/s]"
     ]
    },
    {
     "name": "stderr",
     "output_type": "stream",
     "text": [
      "\r  3%|█▌                                                    | 38548/1332946 [00:19<11:02, 1953.09r/s]"
     ]
    },
    {
     "name": "stderr",
     "output_type": "stream",
     "text": [
      "\r  3%|█▋                                                    | 41527/1332946 [00:19<10:16, 2093.39r/s]"
     ]
    },
    {
     "name": "stderr",
     "output_type": "stream",
     "text": [
      "\r  3%|█▊                                                    | 44518/1332946 [00:19<09:37, 2232.91r/s]"
     ]
    },
    {
     "name": "stderr",
     "output_type": "stream",
     "text": [
      "\r  4%|█▉                                                    | 47507/1332946 [00:20<09:02, 2370.93r/s]"
     ]
    },
    {
     "name": "stderr",
     "output_type": "stream",
     "text": [
      "\r  4%|██                                                    | 50475/1332946 [00:20<08:31, 2505.78r/s]"
     ]
    },
    {
     "name": "stderr",
     "output_type": "stream",
     "text": [
      "\r  4%|██▏                                                   | 53510/1332946 [00:20<08:04, 2643.32r/s]"
     ]
    },
    {
     "name": "stderr",
     "output_type": "stream",
     "text": [
      "\r  4%|██▎                                                   | 56462/1332946 [00:20<07:39, 2775.29r/s]"
     ]
    },
    {
     "name": "stderr",
     "output_type": "stream",
     "text": [
      "\r  4%|██▍                                                   | 59536/1332946 [00:20<07:17, 2912.06r/s]"
     ]
    },
    {
     "name": "stderr",
     "output_type": "stream",
     "text": [
      "\r  5%|██▌                                                   | 62539/1332946 [00:20<06:57, 3043.96r/s]"
     ]
    },
    {
     "name": "stderr",
     "output_type": "stream",
     "text": [
      "\r  5%|██▋                                                   | 65552/1332946 [00:20<06:39, 3175.13r/s]"
     ]
    },
    {
     "name": "stderr",
     "output_type": "stream",
     "text": [
      "\r  5%|██▊                                                   | 68624/1332946 [00:20<06:22, 3307.81r/s]"
     ]
    },
    {
     "name": "stderr",
     "output_type": "stream",
     "text": [
      "\r  5%|██▉                                                   | 71633/1332946 [00:20<06:07, 3435.78r/s]"
     ]
    },
    {
     "name": "stderr",
     "output_type": "stream",
     "text": [
      "\r  6%|███                                                   | 74616/1332946 [00:20<05:53, 3561.59r/s]"
     ]
    },
    {
     "name": "stderr",
     "output_type": "stream",
     "text": [
      "\r  6%|███▏                                                  | 77589/1332946 [00:21<05:40, 3685.37r/s]"
     ]
    },
    {
     "name": "stderr",
     "output_type": "stream",
     "text": [
      "\r  6%|███▎                                                  | 80536/1332946 [00:21<05:28, 3806.74r/s]"
     ]
    },
    {
     "name": "stderr",
     "output_type": "stream",
     "text": [
      "\r  6%|███▍                                                  | 83535/1332946 [00:21<05:17, 3929.90r/s]"
     ]
    },
    {
     "name": "stderr",
     "output_type": "stream",
     "text": [
      "\r  6%|███▌                                                  | 86559/1332946 [00:21<05:07, 4053.08r/s]"
     ]
    },
    {
     "name": "stderr",
     "output_type": "stream",
     "text": [
      "\r  7%|███▋                                                  | 89544/1332946 [00:21<04:57, 4173.30r/s]"
     ]
    },
    {
     "name": "stderr",
     "output_type": "stream",
     "text": [
      "\r  7%|███▋                                                  | 92516/1332946 [00:21<04:49, 4291.19r/s]"
     ]
    },
    {
     "name": "stderr",
     "output_type": "stream",
     "text": [
      "\r  7%|███▊                                                  | 95493/1332946 [00:21<04:40, 4408.80r/s]"
     ]
    },
    {
     "name": "stderr",
     "output_type": "stream",
     "text": [
      "\r  7%|███▉                                                  | 98447/1332946 [00:21<04:32, 4523.77r/s]"
     ]
    },
    {
     "name": "stderr",
     "output_type": "stream",
     "text": [
      "\r  8%|████                                                 | 101457/1332946 [00:21<04:25, 4640.83r/s]"
     ]
    },
    {
     "name": "stderr",
     "output_type": "stream",
     "text": [
      "\r  8%|████▏                                                | 104460/1332946 [00:21<04:18, 4756.40r/s]"
     ]
    },
    {
     "name": "stderr",
     "output_type": "stream",
     "text": [
      "\r  8%|████▎                                                | 107430/1332946 [00:22<04:11, 4867.33r/s]"
     ]
    },
    {
     "name": "stderr",
     "output_type": "stream",
     "text": [
      "\r  8%|████▍                                                | 110325/1332946 [00:22<04:05, 4976.04r/s]"
     ]
    },
    {
     "name": "stderr",
     "output_type": "stream",
     "text": [
      "\r  9%|████▌                                                | 113318/1332946 [00:22<03:59, 5088.02r/s]"
     ]
    },
    {
     "name": "stderr",
     "output_type": "stream",
     "text": [
      "\r  9%|████▌                                                | 116262/1332946 [00:22<03:54, 5196.81r/s]"
     ]
    },
    {
     "name": "stderr",
     "output_type": "stream",
     "text": [
      "\r  9%|████▋                                                | 119239/1332946 [00:22<03:48, 5306.14r/s]"
     ]
    },
    {
     "name": "stderr",
     "output_type": "stream",
     "text": [
      "\r  9%|████▊                                                | 122355/1332946 [00:22<03:43, 5420.66r/s]"
     ]
    },
    {
     "name": "stderr",
     "output_type": "stream",
     "text": [
      "\r  9%|████▉                                                | 125394/1332946 [00:22<03:38, 5530.77r/s]"
     ]
    },
    {
     "name": "stderr",
     "output_type": "stream",
     "text": [
      "\r 10%|█████                                                | 128400/1332946 [00:22<03:33, 5638.36r/s]"
     ]
    },
    {
     "name": "stderr",
     "output_type": "stream",
     "text": [
      "\r 10%|█████▏                                               | 131452/1332946 [00:22<03:29, 5747.07r/s]"
     ]
    },
    {
     "name": "stderr",
     "output_type": "stream",
     "text": [
      "\r 10%|█████▎                                               | 134531/1332946 [00:22<03:24, 5856.05r/s]"
     ]
    },
    {
     "name": "stderr",
     "output_type": "stream",
     "text": [
      "\r 10%|█████▍                                               | 137564/1332946 [00:23<03:20, 5960.17r/s]"
     ]
    },
    {
     "name": "stderr",
     "output_type": "stream",
     "text": [
      "\r 11%|█████▌                                               | 140671/1332946 [00:23<03:16, 6068.46r/s]"
     ]
    },
    {
     "name": "stderr",
     "output_type": "stream",
     "text": [
      "\r 11%|█████▋                                               | 143787/1332946 [00:23<03:12, 6176.02r/s]"
     ]
    },
    {
     "name": "stderr",
     "output_type": "stream",
     "text": [
      "\r 11%|█████▊                                               | 146920/1332946 [00:23<03:08, 6283.45r/s]"
     ]
    },
    {
     "name": "stderr",
     "output_type": "stream",
     "text": [
      "\r 11%|█████▉                                               | 149978/1332946 [00:23<03:05, 6386.62r/s]"
     ]
    },
    {
     "name": "stderr",
     "output_type": "stream",
     "text": [
      "\r 11%|██████                                               | 153057/1332946 [00:23<03:01, 6490.07r/s]"
     ]
    },
    {
     "name": "stderr",
     "output_type": "stream",
     "text": [
      "\r 12%|██████▏                                              | 156114/1332946 [00:23<02:58, 6591.56r/s]"
     ]
    },
    {
     "name": "stderr",
     "output_type": "stream",
     "text": [
      "\r 12%|██████▎                                              | 159221/1332946 [00:23<02:55, 6694.45r/s]"
     ]
    },
    {
     "name": "stderr",
     "output_type": "stream",
     "text": [
      "\r 12%|██████▍                                              | 162344/1332946 [00:23<02:52, 6797.01r/s]"
     ]
    },
    {
     "name": "stderr",
     "output_type": "stream",
     "text": [
      "\r 12%|██████▌                                              | 165423/1332946 [00:23<02:49, 6897.03r/s]"
     ]
    },
    {
     "name": "stderr",
     "output_type": "stream",
     "text": [
      "\r 13%|██████▋                                              | 168501/1332946 [00:24<02:46, 6993.96r/s]"
     ]
    },
    {
     "name": "stderr",
     "output_type": "stream",
     "text": [
      "\r 13%|██████▊                                              | 171597/1332946 [00:24<02:43, 7092.85r/s]"
     ]
    },
    {
     "name": "stderr",
     "output_type": "stream",
     "text": [
      "\r 13%|██████▉                                              | 174721/1332946 [00:24<02:41, 7192.23r/s]"
     ]
    },
    {
     "name": "stderr",
     "output_type": "stream",
     "text": [
      "\r 13%|███████                                              | 177785/1332946 [00:24<02:38, 7288.17r/s]"
     ]
    },
    {
     "name": "stderr",
     "output_type": "stream",
     "text": [
      "\r 14%|███████▏                                             | 180840/1332946 [00:24<02:36, 7382.45r/s]"
     ]
    },
    {
     "name": "stderr",
     "output_type": "stream",
     "text": [
      "\r 14%|███████▎                                             | 183945/1332946 [00:24<02:33, 7478.50r/s]"
     ]
    },
    {
     "name": "stderr",
     "output_type": "stream",
     "text": [
      "\r 14%|███████▍                                             | 187002/1332946 [00:24<02:31, 7571.98r/s]"
     ]
    },
    {
     "name": "stderr",
     "output_type": "stream",
     "text": [
      "\r 14%|███████▌                                             | 190143/1332946 [00:24<02:29, 7668.07r/s]"
     ]
    },
    {
     "name": "stderr",
     "output_type": "stream",
     "text": [
      "\r 15%|███████▋                                             | 193281/1332946 [00:24<02:26, 7763.29r/s]"
     ]
    },
    {
     "name": "stderr",
     "output_type": "stream",
     "text": [
      "\r 15%|███████▊                                             | 196376/1332946 [00:24<02:24, 7855.40r/s]"
     ]
    },
    {
     "name": "stderr",
     "output_type": "stream",
     "text": [
      "\r 15%|███████▉                                             | 199452/1332946 [00:25<02:22, 7944.54r/s]"
     ]
    },
    {
     "name": "stderr",
     "output_type": "stream",
     "text": [
      "\r 15%|████████                                             | 202547/1332946 [00:25<02:20, 8035.63r/s]"
     ]
    },
    {
     "name": "stderr",
     "output_type": "stream",
     "text": [
      "\r 15%|████████▏                                            | 205612/1332946 [00:25<02:18, 8124.97r/s]"
     ]
    },
    {
     "name": "stderr",
     "output_type": "stream",
     "text": [
      "\r 16%|████████▎                                            | 208680/1332946 [00:25<02:16, 8213.72r/s]"
     ]
    },
    {
     "name": "stderr",
     "output_type": "stream",
     "text": [
      "\r 16%|████████▍                                            | 211731/1332946 [00:25<02:15, 8300.56r/s]"
     ]
    },
    {
     "name": "stderr",
     "output_type": "stream",
     "text": [
      "\r 16%|████████▌                                            | 214783/1332946 [00:25<02:13, 8387.14r/s]"
     ]
    },
    {
     "name": "stderr",
     "output_type": "stream",
     "text": [
      "\r 16%|████████▋                                            | 217830/1332946 [00:25<02:11, 8472.99r/s]"
     ]
    },
    {
     "name": "stderr",
     "output_type": "stream",
     "text": [
      "\r 17%|████████▊                                            | 220919/1332946 [00:25<02:09, 8559.82r/s]"
     ]
    },
    {
     "name": "stderr",
     "output_type": "stream",
     "text": [
      "\r 17%|████████▉                                            | 223971/1332946 [00:25<02:08, 8644.55r/s]"
     ]
    },
    {
     "name": "stderr",
     "output_type": "stream",
     "text": [
      "\r 17%|█████████                                            | 227040/1332946 [00:26<02:06, 8729.10r/s]"
     ]
    },
    {
     "name": "stderr",
     "output_type": "stream",
     "text": [
      "\r 17%|█████████▏                                           | 230091/1332946 [00:26<02:05, 8810.31r/s]"
     ]
    },
    {
     "name": "stderr",
     "output_type": "stream",
     "text": [
      "\r 17%|█████████▎                                           | 233114/1332946 [00:26<02:03, 8891.98r/s]"
     ]
    },
    {
     "name": "stderr",
     "output_type": "stream",
     "text": [
      "\r 18%|█████████▍                                           | 236178/1332946 [00:26<02:02, 8974.33r/s]"
     ]
    },
    {
     "name": "stderr",
     "output_type": "stream",
     "text": [
      "\r 18%|█████████▌                                           | 239253/1332946 [00:26<02:00, 9056.72r/s]"
     ]
    },
    {
     "name": "stderr",
     "output_type": "stream",
     "text": [
      "\r 18%|█████████▋                                           | 242343/1332946 [00:26<01:59, 9138.86r/s]"
     ]
    },
    {
     "name": "stderr",
     "output_type": "stream",
     "text": [
      "\r 18%|█████████▊                                           | 245386/1332946 [00:26<01:57, 9218.78r/s]"
     ]
    },
    {
     "name": "stderr",
     "output_type": "stream",
     "text": [
      "\r 19%|█████████▉                                           | 248494/1332946 [00:26<01:56, 9300.45r/s]"
     ]
    },
    {
     "name": "stderr",
     "output_type": "stream",
     "text": [
      "\r 19%|██████████                                           | 251551/1332946 [00:26<01:55, 9379.39r/s]"
     ]
    },
    {
     "name": "stderr",
     "output_type": "stream",
     "text": [
      "\r 19%|██████████                                           | 254608/1332946 [00:26<01:54, 9458.08r/s]"
     ]
    },
    {
     "name": "stderr",
     "output_type": "stream",
     "text": [
      "\r 19%|██████████▏                                          | 257707/1332946 [00:27<01:52, 9537.56r/s]"
     ]
    },
    {
     "name": "stderr",
     "output_type": "stream",
     "text": [
      "\r 20%|██████████▎                                          | 260764/1332946 [00:27<01:51, 9612.94r/s]"
     ]
    },
    {
     "name": "stderr",
     "output_type": "stream",
     "text": [
      "\r 20%|██████████▍                                          | 263854/1332946 [00:27<01:50, 9690.93r/s]"
     ]
    },
    {
     "name": "stderr",
     "output_type": "stream",
     "text": [
      "\r 20%|██████████▌                                          | 266879/1332946 [00:27<01:49, 9765.77r/s]"
     ]
    },
    {
     "name": "stderr",
     "output_type": "stream",
     "text": [
      "\r 20%|██████████▋                                          | 269977/1332946 [00:27<01:47, 9843.09r/s]"
     ]
    },
    {
     "name": "stderr",
     "output_type": "stream",
     "text": [
      "\r 20%|██████████▊                                          | 273096/1332946 [00:27<01:46, 9920.41r/s]"
     ]
    },
    {
     "name": "stderr",
     "output_type": "stream",
     "text": [
      "\r 21%|██████████▉                                          | 276154/1332946 [00:27<01:45, 9994.26r/s]"
     ]
    },
    {
     "name": "stderr",
     "output_type": "stream",
     "text": [
      "\r 21%|██████████▉                                         | 279189/1332946 [00:27<01:44, 10067.62r/s]"
     ]
    },
    {
     "name": "stderr",
     "output_type": "stream",
     "text": [
      "\r 21%|███████████                                         | 282259/1332946 [00:27<01:43, 10141.73r/s]"
     ]
    },
    {
     "name": "stderr",
     "output_type": "stream",
     "text": [
      "\r 21%|███████████▏                                        | 285321/1332946 [00:27<01:42, 10215.02r/s]"
     ]
    },
    {
     "name": "stderr",
     "output_type": "stream",
     "text": [
      "\r 22%|███████████▏                                        | 288370/1332946 [00:28<01:41, 10287.12r/s]"
     ]
    },
    {
     "name": "stderr",
     "output_type": "stream",
     "text": [
      "\r 22%|███████████▎                                        | 291414/1332946 [00:28<01:40, 10357.54r/s]"
     ]
    },
    {
     "name": "stderr",
     "output_type": "stream",
     "text": [
      "\r 22%|███████████▍                                        | 294484/1332946 [00:28<01:39, 10429.38r/s]"
     ]
    },
    {
     "name": "stderr",
     "output_type": "stream",
     "text": [
      "\r 22%|███████████▌                                        | 297536/1332946 [00:28<01:38, 10500.25r/s]"
     ]
    },
    {
     "name": "stderr",
     "output_type": "stream",
     "text": [
      "\r 23%|███████████▋                                        | 300585/1332946 [00:28<01:37, 10570.51r/s]"
     ]
    },
    {
     "name": "stderr",
     "output_type": "stream",
     "text": [
      "\r 23%|███████████▊                                        | 303622/1332946 [00:28<01:36, 10639.63r/s]"
     ]
    },
    {
     "name": "stderr",
     "output_type": "stream",
     "text": [
      "\r 23%|███████████▉                                        | 306653/1332946 [00:28<01:35, 10707.86r/s]"
     ]
    },
    {
     "name": "stderr",
     "output_type": "stream",
     "text": [
      "\r 23%|████████████                                        | 309702/1332946 [00:28<01:34, 10776.44r/s]"
     ]
    },
    {
     "name": "stderr",
     "output_type": "stream",
     "text": [
      "\r 23%|████████████▏                                       | 312768/1332946 [00:28<01:34, 10845.37r/s]"
     ]
    },
    {
     "name": "stderr",
     "output_type": "stream",
     "text": [
      "\r 24%|████████████▎                                       | 315809/1332946 [00:28<01:33, 10912.66r/s]"
     ]
    },
    {
     "name": "stderr",
     "output_type": "stream",
     "text": [
      "\r 24%|████████████▍                                       | 318839/1332946 [00:29<01:32, 10979.39r/s]"
     ]
    },
    {
     "name": "stderr",
     "output_type": "stream",
     "text": [
      "\r 24%|████████████▌                                       | 321868/1332946 [00:29<01:31, 11044.87r/s]"
     ]
    },
    {
     "name": "stderr",
     "output_type": "stream",
     "text": [
      "\r 24%|████████████▋                                       | 324963/1332946 [00:29<01:30, 11112.70r/s]"
     ]
    },
    {
     "name": "stderr",
     "output_type": "stream",
     "text": [
      "\r 25%|████████████▊                                       | 328005/1332946 [00:29<01:29, 11178.28r/s]"
     ]
    },
    {
     "name": "stderr",
     "output_type": "stream",
     "text": [
      "\r 25%|████████████▉                                       | 331034/1332946 [00:29<01:29, 11242.54r/s]"
     ]
    },
    {
     "name": "stderr",
     "output_type": "stream",
     "text": [
      "\r 25%|█████████████                                       | 334048/1332946 [00:29<01:28, 11306.06r/s]"
     ]
    },
    {
     "name": "stderr",
     "output_type": "stream",
     "text": [
      "\r 25%|█████████████▏                                      | 337052/1332946 [00:29<01:27, 11368.60r/s]"
     ]
    },
    {
     "name": "stderr",
     "output_type": "stream",
     "text": [
      "\r 26%|█████████████▎                                      | 340118/1332946 [00:29<01:26, 11433.40r/s]"
     ]
    },
    {
     "name": "stderr",
     "output_type": "stream",
     "text": [
      "\r 26%|█████████████▍                                      | 343153/1332946 [00:29<01:26, 11496.40r/s]"
     ]
    },
    {
     "name": "stderr",
     "output_type": "stream",
     "text": [
      "\r 26%|█████████████▌                                      | 346182/1332946 [00:29<01:25, 11559.12r/s]"
     ]
    },
    {
     "name": "stderr",
     "output_type": "stream",
     "text": [
      "\r 26%|█████████████▌                                      | 349197/1332946 [00:30<01:24, 11619.80r/s]"
     ]
    },
    {
     "name": "stderr",
     "output_type": "stream",
     "text": [
      "\r 26%|█████████████▋                                      | 352193/1332946 [00:30<01:23, 11680.60r/s]"
     ]
    },
    {
     "name": "stderr",
     "output_type": "stream",
     "text": [
      "\r 27%|█████████████▊                                      | 355219/1332946 [00:30<01:23, 11741.98r/s]"
     ]
    },
    {
     "name": "stderr",
     "output_type": "stream",
     "text": [
      "\r 27%|█████████████▉                                      | 358246/1332946 [00:30<01:22, 11802.99r/s]"
     ]
    },
    {
     "name": "stderr",
     "output_type": "stream",
     "text": [
      "\r 27%|██████████████                                      | 361295/1332946 [00:30<01:21, 11864.26r/s]"
     ]
    },
    {
     "name": "stderr",
     "output_type": "stream",
     "text": [
      "\r 27%|██████████████▏                                     | 364339/1332946 [00:30<01:21, 11925.03r/s]"
     ]
    },
    {
     "name": "stderr",
     "output_type": "stream",
     "text": [
      "\r 28%|██████████████▎                                     | 367364/1332946 [00:30<01:20, 11984.78r/s]"
     ]
    },
    {
     "name": "stderr",
     "output_type": "stream",
     "text": [
      "\r 28%|██████████████▍                                     | 370424/1332946 [00:30<01:19, 12045.07r/s]"
     ]
    },
    {
     "name": "stderr",
     "output_type": "stream",
     "text": [
      "\r 28%|██████████████▌                                     | 373550/1332946 [00:30<01:19, 12107.11r/s]"
     ]
    },
    {
     "name": "stderr",
     "output_type": "stream",
     "text": [
      "\r 28%|██████████████▋                                     | 376606/1332946 [00:30<01:18, 12166.69r/s]"
     ]
    },
    {
     "name": "stderr",
     "output_type": "stream",
     "text": [
      "\r 28%|██████████████▊                                     | 379659/1332946 [00:31<01:18, 12219.87r/s]"
     ]
    },
    {
     "name": "stderr",
     "output_type": "stream",
     "text": [
      "\r 29%|██████████████▉                                     | 382647/1332946 [00:31<01:17, 12276.50r/s]"
     ]
    },
    {
     "name": "stderr",
     "output_type": "stream",
     "text": [
      "\r 29%|███████████████                                     | 385703/1332946 [00:31<01:16, 12334.94r/s]"
     ]
    },
    {
     "name": "stderr",
     "output_type": "stream",
     "text": [
      "\r 29%|███████████████▏                                    | 388774/1332946 [00:31<01:16, 12393.48r/s]"
     ]
    },
    {
     "name": "stderr",
     "output_type": "stream",
     "text": [
      "\r 29%|███████████████▎                                    | 391844/1332946 [00:31<01:15, 12451.62r/s]"
     ]
    },
    {
     "name": "stderr",
     "output_type": "stream",
     "text": [
      "\r 30%|███████████████▍                                    | 394912/1332946 [00:31<01:14, 12509.32r/s]"
     ]
    },
    {
     "name": "stderr",
     "output_type": "stream",
     "text": [
      "\r 30%|███████████████▌                                    | 397949/1332946 [00:31<01:14, 12565.49r/s]"
     ]
    },
    {
     "name": "stderr",
     "output_type": "stream",
     "text": [
      "\r 30%|███████████████▋                                    | 400981/1332946 [00:31<01:13, 12621.03r/s]"
     ]
    },
    {
     "name": "stderr",
     "output_type": "stream",
     "text": [
      "\r 30%|███████████████▊                                    | 404005/1332946 [00:31<01:13, 12676.08r/s]"
     ]
    },
    {
     "name": "stderr",
     "output_type": "stream",
     "text": [
      "\r 31%|███████████████▉                                    | 407101/1332946 [00:31<01:12, 12733.23r/s]"
     ]
    },
    {
     "name": "stderr",
     "output_type": "stream",
     "text": [
      "\r 31%|████████████████                                    | 410142/1332946 [00:32<01:12, 12785.92r/s]"
     ]
    },
    {
     "name": "stderr",
     "output_type": "stream",
     "text": [
      "\r 31%|████████████████                                    | 413174/1332946 [00:32<01:11, 12840.37r/s]"
     ]
    },
    {
     "name": "stderr",
     "output_type": "stream",
     "text": [
      "\r 31%|████████████████▏                                   | 416220/1332946 [00:32<01:11, 12894.93r/s]"
     ]
    },
    {
     "name": "stderr",
     "output_type": "stream",
     "text": [
      "\r 31%|████████████████▎                                   | 419234/1332946 [00:32<01:10, 12947.56r/s]"
     ]
    },
    {
     "name": "stderr",
     "output_type": "stream",
     "text": [
      "\r 32%|████████████████▍                                   | 422234/1332946 [00:32<01:10, 12998.21r/s]"
     ]
    },
    {
     "name": "stderr",
     "output_type": "stream",
     "text": [
      "\r 32%|████████████████▌                                   | 425195/1332946 [00:32<01:09, 13048.43r/s]"
     ]
    },
    {
     "name": "stderr",
     "output_type": "stream",
     "text": [
      "\r 32%|████████████████▋                                   | 428139/1332946 [00:32<01:09, 13098.54r/s]"
     ]
    },
    {
     "name": "stderr",
     "output_type": "stream",
     "text": [
      "\r 32%|████████████████▊                                   | 431083/1332946 [00:32<01:08, 13148.34r/s]"
     ]
    },
    {
     "name": "stderr",
     "output_type": "stream",
     "text": [
      "\r 33%|████████████████▉                                   | 434032/1332946 [00:32<01:08, 13197.74r/s]"
     ]
    },
    {
     "name": "stderr",
     "output_type": "stream",
     "text": [
      "\r 33%|█████████████████                                   | 436973/1332946 [00:32<01:07, 13246.65r/s]"
     ]
    },
    {
     "name": "stderr",
     "output_type": "stream",
     "text": [
      "\r 33%|█████████████████▏                                  | 439907/1332946 [00:33<01:07, 13293.78r/s]"
     ]
    },
    {
     "name": "stderr",
     "output_type": "stream",
     "text": [
      "\r 33%|█████████████████▎                                  | 442824/1332946 [00:33<01:06, 13341.97r/s]"
     ]
    },
    {
     "name": "stderr",
     "output_type": "stream",
     "text": [
      "\r 33%|█████████████████▍                                  | 445777/1332946 [00:33<01:06, 13390.39r/s]"
     ]
    },
    {
     "name": "stderr",
     "output_type": "stream",
     "text": [
      "\r 34%|█████████████████▌                                  | 448703/1332946 [00:33<01:05, 13437.88r/s]"
     ]
    },
    {
     "name": "stderr",
     "output_type": "stream",
     "text": [
      "\r 34%|█████████████████▌                                  | 451678/1332946 [00:33<01:05, 13486.55r/s]"
     ]
    },
    {
     "name": "stderr",
     "output_type": "stream",
     "text": [
      "\r 34%|█████████████████▋                                  | 454669/1332946 [00:33<01:04, 13535.16r/s]"
     ]
    },
    {
     "name": "stderr",
     "output_type": "stream",
     "text": [
      "\r 34%|█████████████████▊                                  | 457616/1332946 [00:33<01:04, 13581.97r/s]"
     ]
    },
    {
     "name": "stderr",
     "output_type": "stream",
     "text": [
      "\r 35%|█████████████████▉                                  | 460574/1332946 [00:33<01:04, 13629.07r/s]"
     ]
    },
    {
     "name": "stderr",
     "output_type": "stream",
     "text": [
      "\r 35%|██████████████████                                  | 463512/1332946 [00:33<01:03, 13675.49r/s]"
     ]
    },
    {
     "name": "stderr",
     "output_type": "stream",
     "text": [
      "\r 35%|██████████████████▏                                 | 466500/1332946 [00:33<01:03, 13722.91r/s]"
     ]
    },
    {
     "name": "stderr",
     "output_type": "stream",
     "text": [
      "\r 35%|██████████████████▎                                 | 469447/1332946 [00:34<01:02, 13762.80r/s]"
     ]
    },
    {
     "name": "stderr",
     "output_type": "stream",
     "text": [
      "\r 35%|██████████████████▍                                 | 472482/1332946 [00:34<01:02, 13811.25r/s]"
     ]
    },
    {
     "name": "stderr",
     "output_type": "stream",
     "text": [
      "\r 36%|██████████████████▌                                 | 475371/1332946 [00:34<01:01, 13854.34r/s]"
     ]
    },
    {
     "name": "stderr",
     "output_type": "stream",
     "text": [
      "\r 36%|██████████████████▋                                 | 478247/1332946 [00:34<01:01, 13897.63r/s]"
     ]
    },
    {
     "name": "stderr",
     "output_type": "stream",
     "text": [
      "\r 36%|██████████████████▊                                 | 481260/1332946 [00:34<01:01, 13944.63r/s]"
     ]
    },
    {
     "name": "stderr",
     "output_type": "stream",
     "text": [
      "\r 36%|██████████████████▉                                 | 484237/1332946 [00:34<01:00, 13990.11r/s]"
     ]
    },
    {
     "name": "stderr",
     "output_type": "stream",
     "text": [
      "\r 37%|███████████████████                                 | 487248/1332946 [00:34<01:00, 14036.44r/s]"
     ]
    },
    {
     "name": "stderr",
     "output_type": "stream",
     "text": [
      "\r 37%|███████████████████                                 | 490207/1332946 [00:34<00:59, 14080.97r/s]"
     ]
    },
    {
     "name": "stderr",
     "output_type": "stream",
     "text": [
      "\r 37%|███████████████████▏                                | 493175/1332946 [00:34<00:59, 14125.62r/s]"
     ]
    },
    {
     "name": "stderr",
     "output_type": "stream",
     "text": [
      "\r 37%|███████████████████▎                                | 496170/1332946 [00:35<00:59, 14170.78r/s]"
     ]
    },
    {
     "name": "stderr",
     "output_type": "stream",
     "text": [
      "\r 37%|███████████████████▍                                | 499219/1332946 [00:35<00:58, 14217.23r/s]"
     ]
    },
    {
     "name": "stderr",
     "output_type": "stream",
     "text": [
      "\r 38%|███████████████████▌                                | 502246/1332946 [00:35<00:58, 14262.78r/s]"
     ]
    },
    {
     "name": "stderr",
     "output_type": "stream",
     "text": [
      "\r 38%|███████████████████▋                                | 505292/1332946 [00:35<00:57, 14308.37r/s]"
     ]
    },
    {
     "name": "stderr",
     "output_type": "stream",
     "text": [
      "\r 38%|███████████████████▊                                | 508300/1332946 [00:35<00:57, 14352.66r/s]"
     ]
    },
    {
     "name": "stderr",
     "output_type": "stream",
     "text": [
      "\r 38%|███████████████████▉                                | 511303/1332946 [00:35<00:57, 14395.71r/s]"
     ]
    },
    {
     "name": "stderr",
     "output_type": "stream",
     "text": [
      "\r 39%|████████████████████                                | 514297/1332946 [00:35<00:56, 14439.12r/s]"
     ]
    },
    {
     "name": "stderr",
     "output_type": "stream",
     "text": [
      "\r 39%|████████████████████▏                               | 517285/1332946 [00:35<00:56, 14482.04r/s]"
     ]
    },
    {
     "name": "stderr",
     "output_type": "stream",
     "text": [
      "\r 39%|████████████████████▎                               | 520260/1332946 [00:35<00:55, 14523.21r/s]"
     ]
    },
    {
     "name": "stderr",
     "output_type": "stream",
     "text": [
      "\r 39%|████████████████████▍                               | 523218/1332946 [00:35<00:55, 14564.86r/s]"
     ]
    },
    {
     "name": "stderr",
     "output_type": "stream",
     "text": [
      "\r 39%|████████████████████▌                               | 526220/1332946 [00:36<00:55, 14607.53r/s]"
     ]
    },
    {
     "name": "stderr",
     "output_type": "stream",
     "text": [
      "\r 40%|████████████████████▋                               | 529176/1332946 [00:36<00:54, 14648.67r/s]"
     ]
    },
    {
     "name": "stderr",
     "output_type": "stream",
     "text": [
      "\r 40%|████████████████████▊                               | 532137/1332946 [00:36<00:54, 14689.92r/s]"
     ]
    },
    {
     "name": "stderr",
     "output_type": "stream",
     "text": [
      "\r 40%|████████████████████▊                               | 535099/1332946 [00:36<00:54, 14730.79r/s]"
     ]
    },
    {
     "name": "stderr",
     "output_type": "stream",
     "text": [
      "\r 40%|████████████████████▉                               | 538049/1332946 [00:36<00:53, 14770.49r/s]"
     ]
    },
    {
     "name": "stderr",
     "output_type": "stream",
     "text": [
      "\r 41%|█████████████████████                               | 541040/1332946 [00:36<00:53, 14811.61r/s]"
     ]
    },
    {
     "name": "stderr",
     "output_type": "stream",
     "text": [
      "\r 41%|█████████████████████▏                              | 544039/1332946 [00:36<00:53, 14852.82r/s]"
     ]
    },
    {
     "name": "stderr",
     "output_type": "stream",
     "text": [
      "\r 41%|█████████████████████▎                              | 546994/1332946 [00:36<00:52, 14891.99r/s]"
     ]
    },
    {
     "name": "stderr",
     "output_type": "stream",
     "text": [
      "\r 41%|█████████████████████▍                              | 549999/1332946 [00:36<00:52, 14933.12r/s]"
     ]
    },
    {
     "name": "stderr",
     "output_type": "stream",
     "text": [
      "\r 41%|█████████████████████▌                              | 552956/1332946 [00:36<00:52, 14972.31r/s]"
     ]
    },
    {
     "name": "stderr",
     "output_type": "stream",
     "text": [
      "\r 42%|█████████████████████▋                              | 555904/1332946 [00:37<00:51, 15011.06r/s]"
     ]
    },
    {
     "name": "stderr",
     "output_type": "stream",
     "text": [
      "\r 42%|█████████████████████▊                              | 558846/1332946 [00:37<00:51, 15049.83r/s]"
     ]
    },
    {
     "name": "stderr",
     "output_type": "stream",
     "text": [
      "\r 42%|█████████████████████▉                              | 561785/1332946 [00:37<00:51, 15088.31r/s]"
     ]
    },
    {
     "name": "stderr",
     "output_type": "stream",
     "text": [
      "\r 42%|██████████████████████                              | 564851/1332946 [00:37<00:50, 15129.99r/s]"
     ]
    },
    {
     "name": "stderr",
     "output_type": "stream",
     "text": [
      "\r 43%|██████████████████████▏                             | 567831/1332946 [00:37<00:50, 15168.93r/s]"
     ]
    },
    {
     "name": "stderr",
     "output_type": "stream",
     "text": [
      "\r 43%|██████████████████████▎                             | 570876/1332946 [00:37<00:50, 15209.41r/s]"
     ]
    },
    {
     "name": "stderr",
     "output_type": "stream",
     "text": [
      "\r 43%|██████████████████████▍                             | 573873/1332946 [00:37<00:49, 15248.39r/s]"
     ]
    },
    {
     "name": "stderr",
     "output_type": "stream",
     "text": [
      "\r 43%|██████████████████████▌                             | 576859/1332946 [00:37<00:49, 15286.66r/s]"
     ]
    },
    {
     "name": "stderr",
     "output_type": "stream",
     "text": [
      "\r 44%|██████████████████████▌                             | 579835/1332946 [00:37<00:49, 15324.04r/s]"
     ]
    },
    {
     "name": "stderr",
     "output_type": "stream",
     "text": [
      "\r 44%|██████████████████████▋                             | 582793/1332946 [00:37<00:48, 15361.37r/s]"
     ]
    },
    {
     "name": "stderr",
     "output_type": "stream",
     "text": [
      "\r 44%|██████████████████████▊                             | 585745/1332946 [00:38<00:48, 15398.43r/s]"
     ]
    },
    {
     "name": "stderr",
     "output_type": "stream",
     "text": [
      "\r 44%|██████████████████████▉                             | 588694/1332946 [00:38<00:48, 15435.15r/s]"
     ]
    },
    {
     "name": "stderr",
     "output_type": "stream",
     "text": [
      "\r 44%|███████████████████████                             | 591638/1332946 [00:38<00:47, 15471.66r/s]"
     ]
    },
    {
     "name": "stderr",
     "output_type": "stream",
     "text": [
      "\r 45%|███████████████████████▏                            | 594622/1332946 [00:38<00:47, 15509.11r/s]"
     ]
    },
    {
     "name": "stderr",
     "output_type": "stream",
     "text": [
      "\r 45%|███████████████████████▎                            | 597590/1332946 [00:38<00:47, 15545.93r/s]"
     ]
    },
    {
     "name": "stderr",
     "output_type": "stream",
     "text": [
      "\r 45%|███████████████████████▍                            | 600599/1332946 [00:38<00:46, 15583.64r/s]"
     ]
    },
    {
     "name": "stderr",
     "output_type": "stream",
     "text": [
      "\r 45%|███████████████████████▌                            | 603571/1332946 [00:38<00:46, 15618.98r/s]"
     ]
    },
    {
     "name": "stderr",
     "output_type": "stream",
     "text": [
      "\r 46%|███████████████████████▋                            | 606529/1332946 [00:38<00:46, 15654.98r/s]"
     ]
    },
    {
     "name": "stderr",
     "output_type": "stream",
     "text": [
      "\r 46%|███████████████████████▊                            | 609565/1332946 [00:38<00:46, 15692.46r/s]"
     ]
    },
    {
     "name": "stderr",
     "output_type": "stream",
     "text": [
      "\r 46%|███████████████████████▉                            | 612622/1332946 [00:38<00:45, 15730.26r/s]"
     ]
    },
    {
     "name": "stderr",
     "output_type": "stream",
     "text": [
      "\r 46%|████████████████████████                            | 615607/1332946 [00:39<00:45, 15766.39r/s]"
     ]
    },
    {
     "name": "stderr",
     "output_type": "stream",
     "text": [
      "\r 46%|████████████████████████▏                           | 618591/1332946 [00:39<00:45, 15801.89r/s]"
     ]
    },
    {
     "name": "stderr",
     "output_type": "stream",
     "text": [
      "\r 47%|████████████████████████▏                           | 621566/1332946 [00:39<00:44, 15832.55r/s]"
     ]
    },
    {
     "name": "stderr",
     "output_type": "stream",
     "text": [
      "\r 47%|████████████████████████▎                           | 624542/1332946 [00:39<00:44, 15867.68r/s]"
     ]
    },
    {
     "name": "stderr",
     "output_type": "stream",
     "text": [
      "\r 47%|████████████████████████▍                           | 627444/1332946 [00:39<00:44, 15897.73r/s]"
     ]
    },
    {
     "name": "stderr",
     "output_type": "stream",
     "text": [
      "\r 47%|████████████████████████▌                           | 630431/1332946 [00:39<00:44, 15932.80r/s]"
     ]
    },
    {
     "name": "stderr",
     "output_type": "stream",
     "text": [
      "\r 48%|████████████████████████▋                           | 633524/1332946 [00:39<00:43, 15970.57r/s]"
     ]
    },
    {
     "name": "stderr",
     "output_type": "stream",
     "text": [
      "\r 48%|████████████████████████▊                           | 636650/1332946 [00:39<00:43, 16008.98r/s]"
     ]
    },
    {
     "name": "stderr",
     "output_type": "stream",
     "text": [
      "\r 48%|████████████████████████▉                           | 639750/1332946 [00:39<00:43, 16046.32r/s]"
     ]
    },
    {
     "name": "stderr",
     "output_type": "stream",
     "text": [
      "\r 48%|█████████████████████████                           | 642771/1332946 [00:39<00:42, 16080.32r/s]"
     ]
    },
    {
     "name": "stderr",
     "output_type": "stream",
     "text": [
      "\r 48%|█████████████████████████▏                          | 645776/1332946 [00:40<00:42, 16115.15r/s]"
     ]
    },
    {
     "name": "stderr",
     "output_type": "stream",
     "text": [
      "\r 49%|█████████████████████████▎                          | 648844/1332946 [00:40<00:42, 16151.38r/s]"
     ]
    },
    {
     "name": "stderr",
     "output_type": "stream",
     "text": [
      "\r 49%|█████████████████████████▍                          | 652039/1332946 [00:40<00:42, 16190.58r/s]"
     ]
    },
    {
     "name": "stderr",
     "output_type": "stream",
     "text": [
      "\r 49%|█████████████████████████▌                          | 655225/1332946 [00:40<00:41, 16229.36r/s]"
     ]
    },
    {
     "name": "stderr",
     "output_type": "stream",
     "text": [
      "\r 49%|█████████████████████████▋                          | 658412/1332946 [00:40<00:41, 16267.76r/s]"
     ]
    },
    {
     "name": "stderr",
     "output_type": "stream",
     "text": [
      "\r 50%|█████████████████████████▊                          | 661588/1332946 [00:40<00:41, 16305.71r/s]"
     ]
    },
    {
     "name": "stderr",
     "output_type": "stream",
     "text": [
      "\r 50%|█████████████████████████▉                          | 664721/1332946 [00:40<00:40, 16342.62r/s]"
     ]
    },
    {
     "name": "stderr",
     "output_type": "stream",
     "text": [
      "\r 50%|██████████████████████████                          | 667854/1332946 [00:40<00:40, 16379.35r/s]"
     ]
    },
    {
     "name": "stderr",
     "output_type": "stream",
     "text": [
      "\r 50%|██████████████████████████▏                         | 670987/1332946 [00:40<00:40, 16411.88r/s]"
     ]
    },
    {
     "name": "stderr",
     "output_type": "stream",
     "text": [
      "\r 51%|██████████████████████████▎                         | 674036/1332946 [00:40<00:40, 16446.20r/s]"
     ]
    },
    {
     "name": "stderr",
     "output_type": "stream",
     "text": [
      "\r 51%|██████████████████████████▍                         | 677083/1332946 [00:41<00:39, 16478.30r/s]"
     ]
    },
    {
     "name": "stderr",
     "output_type": "stream",
     "text": [
      "\r 51%|██████████████████████████▌                         | 680123/1332946 [00:41<00:39, 16511.97r/s]"
     ]
    },
    {
     "name": "stderr",
     "output_type": "stream",
     "text": [
      "\r 51%|██████████████████████████▋                         | 683274/1332946 [00:41<00:39, 16548.26r/s]"
     ]
    },
    {
     "name": "stderr",
     "output_type": "stream",
     "text": [
      "\r 51%|██████████████████████████▊                         | 686327/1332946 [00:41<00:39, 16577.34r/s]"
     ]
    },
    {
     "name": "stderr",
     "output_type": "stream",
     "text": [
      "\r 52%|██████████████████████████▉                         | 689406/1332946 [00:41<00:38, 16611.38r/s]"
     ]
    },
    {
     "name": "stderr",
     "output_type": "stream",
     "text": [
      "\r 52%|███████████████████████████                         | 692607/1332946 [00:41<00:38, 16648.36r/s]"
     ]
    },
    {
     "name": "stderr",
     "output_type": "stream",
     "text": [
      "\r 52%|███████████████████████████▏                        | 695745/1332946 [00:41<00:38, 16683.66r/s]"
     ]
    },
    {
     "name": "stderr",
     "output_type": "stream",
     "text": [
      "\r 52%|███████████████████████████▎                        | 698903/1332946 [00:41<00:37, 16719.25r/s]"
     ]
    },
    {
     "name": "stderr",
     "output_type": "stream",
     "text": [
      "\r 53%|███████████████████████████▍                        | 702004/1332946 [00:41<00:37, 16753.33r/s]"
     ]
    },
    {
     "name": "stderr",
     "output_type": "stream",
     "text": [
      "\r 53%|███████████████████████████▌                        | 705104/1332946 [00:42<00:37, 16784.57r/s]"
     ]
    },
    {
     "name": "stderr",
     "output_type": "stream",
     "text": [
      "\r 53%|███████████████████████████▋                        | 708232/1332946 [00:42<00:37, 16818.76r/s]"
     ]
    },
    {
     "name": "stderr",
     "output_type": "stream",
     "text": [
      "\r 53%|███████████████████████████▋                        | 711294/1332946 [00:42<00:36, 16848.63r/s]"
     ]
    },
    {
     "name": "stderr",
     "output_type": "stream",
     "text": [
      "\r 54%|███████████████████████████▊                        | 714296/1332946 [00:42<00:36, 16878.93r/s]"
     ]
    },
    {
     "name": "stderr",
     "output_type": "stream",
     "text": [
      "\r 54%|███████████████████████████▉                        | 717285/1332946 [00:42<00:36, 16909.57r/s]"
     ]
    },
    {
     "name": "stderr",
     "output_type": "stream",
     "text": [
      "\r 54%|████████████████████████████                        | 720469/1332946 [00:42<00:36, 16944.66r/s]"
     ]
    },
    {
     "name": "stderr",
     "output_type": "stream",
     "text": [
      "\r 54%|████████████████████████████▏                       | 723793/1332946 [00:42<00:35, 16982.57r/s]"
     ]
    },
    {
     "name": "stderr",
     "output_type": "stream",
     "text": [
      "\r 55%|████████████████████████████▎                       | 726977/1332946 [00:42<00:35, 17017.32r/s]"
     ]
    },
    {
     "name": "stderr",
     "output_type": "stream",
     "text": [
      "\r 55%|████████████████████████████▍                       | 730219/1332946 [00:42<00:35, 17053.25r/s]"
     ]
    },
    {
     "name": "stderr",
     "output_type": "stream",
     "text": [
      "\r 55%|████████████████████████████▌                       | 733430/1332946 [00:42<00:35, 17087.96r/s]"
     ]
    },
    {
     "name": "stderr",
     "output_type": "stream",
     "text": [
      "\r 55%|████████████████████████████▋                       | 736656/1332946 [00:43<00:34, 17123.18r/s]"
     ]
    },
    {
     "name": "stderr",
     "output_type": "stream",
     "text": [
      "\r 56%|████████████████████████████▊                       | 739862/1332946 [00:43<00:34, 17157.78r/s]"
     ]
    },
    {
     "name": "stderr",
     "output_type": "stream",
     "text": [
      "\r 56%|████████████████████████████▉                       | 743156/1332946 [00:43<00:34, 17193.93r/s]"
     ]
    },
    {
     "name": "stderr",
     "output_type": "stream",
     "text": [
      "\r 56%|█████████████████████████████                       | 746468/1332946 [00:43<00:34, 17230.67r/s]"
     ]
    },
    {
     "name": "stderr",
     "output_type": "stream",
     "text": [
      "\r 56%|█████████████████████████████▏                      | 749711/1332946 [00:43<00:33, 17265.64r/s]"
     ]
    },
    {
     "name": "stderr",
     "output_type": "stream",
     "text": [
      "\r 56%|█████████████████████████████▎                      | 752953/1332946 [00:43<00:33, 17300.15r/s]"
     ]
    },
    {
     "name": "stderr",
     "output_type": "stream",
     "text": [
      "\r 57%|█████████████████████████████▍                      | 756188/1332946 [00:43<00:33, 17334.41r/s]"
     ]
    },
    {
     "name": "stderr",
     "output_type": "stream",
     "text": [
      "\r 57%|█████████████████████████████▋                      | 759417/1332946 [00:43<00:33, 17368.59r/s]"
     ]
    },
    {
     "name": "stderr",
     "output_type": "stream",
     "text": [
      "\r 57%|█████████████████████████████▊                      | 762646/1332946 [00:43<00:32, 17402.21r/s]"
     ]
    },
    {
     "name": "stderr",
     "output_type": "stream",
     "text": [
      "\r 57%|█████████████████████████████▉                      | 765865/1332946 [00:43<00:32, 17435.05r/s]"
     ]
    },
    {
     "name": "stderr",
     "output_type": "stream",
     "text": [
      "\r 58%|██████████████████████████████                      | 769113/1332946 [00:44<00:32, 17468.84r/s]"
     ]
    },
    {
     "name": "stderr",
     "output_type": "stream",
     "text": [
      "\r 58%|██████████████████████████████▏                     | 772318/1332946 [00:44<00:32, 17499.47r/s]"
     ]
    },
    {
     "name": "stderr",
     "output_type": "stream",
     "text": [
      "\r 58%|██████████████████████████████▎                     | 775548/1332946 [00:44<00:31, 17532.90r/s]"
     ]
    },
    {
     "name": "stderr",
     "output_type": "stream",
     "text": [
      "\r 58%|██████████████████████████████▍                     | 778790/1332946 [00:44<00:31, 17566.45r/s]"
     ]
    },
    {
     "name": "stderr",
     "output_type": "stream",
     "text": [
      "\r 59%|██████████████████████████████▌                     | 781983/1332946 [00:44<00:31, 17593.99r/s]"
     ]
    },
    {
     "name": "stderr",
     "output_type": "stream",
     "text": [
      "\r 59%|██████████████████████████████▋                     | 785152/1332946 [00:44<00:31, 17625.35r/s]"
     ]
    },
    {
     "name": "stderr",
     "output_type": "stream",
     "text": [
      "\r 59%|██████████████████████████████▊                     | 788420/1332946 [00:44<00:30, 17658.84r/s]"
     ]
    },
    {
     "name": "stderr",
     "output_type": "stream",
     "text": [
      "\r 59%|██████████████████████████████▉                     | 791657/1332946 [00:44<00:30, 17691.68r/s]"
     ]
    },
    {
     "name": "stderr",
     "output_type": "stream",
     "text": [
      "\r 60%|███████████████████████████████                     | 794973/1332946 [00:44<00:30, 17726.15r/s]"
     ]
    },
    {
     "name": "stderr",
     "output_type": "stream",
     "text": [
      "\r 60%|███████████████████████████████▏                    | 798262/1332946 [00:44<00:30, 17759.61r/s]"
     ]
    },
    {
     "name": "stderr",
     "output_type": "stream",
     "text": [
      "\r 60%|███████████████████████████████▎                    | 801519/1332946 [00:45<00:29, 17792.42r/s]"
     ]
    },
    {
     "name": "stderr",
     "output_type": "stream",
     "text": [
      "\r 60%|███████████████████████████████▍                    | 804757/1332946 [00:45<00:29, 17824.51r/s]"
     ]
    },
    {
     "name": "stderr",
     "output_type": "stream",
     "text": [
      "\r 61%|███████████████████████████████▌                    | 808005/1332946 [00:45<00:29, 17856.87r/s]"
     ]
    },
    {
     "name": "stderr",
     "output_type": "stream",
     "text": [
      "\r 61%|███████████████████████████████▋                    | 811286/1332946 [00:45<00:29, 17889.81r/s]"
     ]
    },
    {
     "name": "stderr",
     "output_type": "stream",
     "text": [
      "\r 61%|███████████████████████████████▊                    | 814535/1332946 [00:45<00:28, 17921.91r/s]"
     ]
    },
    {
     "name": "stderr",
     "output_type": "stream",
     "text": [
      "\r 61%|███████████████████████████████▉                    | 817784/1332946 [00:45<00:28, 17953.12r/s]"
     ]
    },
    {
     "name": "stderr",
     "output_type": "stream",
     "text": [
      "\r 62%|████████████████████████████████                    | 821054/1332946 [00:45<00:28, 17985.38r/s]"
     ]
    },
    {
     "name": "stderr",
     "output_type": "stream",
     "text": [
      "\r 62%|████████████████████████████████▏                   | 824295/1332946 [00:45<00:28, 18016.87r/s]"
     ]
    },
    {
     "name": "stderr",
     "output_type": "stream",
     "text": [
      "\r 62%|████████████████████████████████▎                   | 827572/1332946 [00:45<00:28, 18048.81r/s]"
     ]
    },
    {
     "name": "stderr",
     "output_type": "stream",
     "text": [
      "\r 62%|████████████████████████████████▍                   | 830818/1332946 [00:45<00:27, 18079.16r/s]"
     ]
    },
    {
     "name": "stderr",
     "output_type": "stream",
     "text": [
      "\r 63%|████████████████████████████████▌                   | 834044/1332946 [00:46<00:27, 18109.92r/s]"
     ]
    },
    {
     "name": "stderr",
     "output_type": "stream",
     "text": [
      "\r 63%|████████████████████████████████▋                   | 837267/1332946 [00:46<00:27, 18140.49r/s]"
     ]
    },
    {
     "name": "stderr",
     "output_type": "stream",
     "text": [
      "\r 63%|████████████████████████████████▊                   | 840489/1332946 [00:46<00:27, 18170.50r/s]"
     ]
    },
    {
     "name": "stderr",
     "output_type": "stream",
     "text": [
      "\r 63%|████████████████████████████████▉                   | 843723/1332946 [00:46<00:26, 18201.04r/s]"
     ]
    },
    {
     "name": "stderr",
     "output_type": "stream",
     "text": [
      "\r 64%|█████████████████████████████████                   | 846958/1332946 [00:46<00:26, 18231.46r/s]"
     ]
    },
    {
     "name": "stderr",
     "output_type": "stream",
     "text": [
      "\r 64%|█████████████████████████████████▏                  | 850180/1332946 [00:46<00:26, 18256.38r/s]"
     ]
    },
    {
     "name": "stderr",
     "output_type": "stream",
     "text": [
      "\r 64%|█████████████████████████████████▎                  | 853409/1332946 [00:46<00:26, 18286.13r/s]"
     ]
    },
    {
     "name": "stderr",
     "output_type": "stream",
     "text": [
      "\r 64%|█████████████████████████████████▍                  | 856733/1332946 [00:46<00:25, 18317.76r/s]"
     ]
    },
    {
     "name": "stderr",
     "output_type": "stream",
     "text": [
      "\r 65%|█████████████████████████████████▌                  | 859919/1332946 [00:46<00:25, 18345.84r/s]"
     ]
    },
    {
     "name": "stderr",
     "output_type": "stream",
     "text": [
      "\r 65%|█████████████████████████████████▋                  | 863093/1332946 [00:46<00:25, 18374.00r/s]"
     ]
    },
    {
     "name": "stderr",
     "output_type": "stream",
     "text": [
      "\r 65%|█████████████████████████████████▊                  | 866314/1332946 [00:47<00:25, 18403.07r/s]"
     ]
    },
    {
     "name": "stderr",
     "output_type": "stream",
     "text": [
      "\r 65%|█████████████████████████████████▉                  | 869485/1332946 [00:47<00:25, 18431.25r/s]"
     ]
    },
    {
     "name": "stderr",
     "output_type": "stream",
     "text": [
      "\r 65%|██████████████████████████████████                  | 872746/1332946 [00:47<00:24, 18461.22r/s]"
     ]
    },
    {
     "name": "stderr",
     "output_type": "stream",
     "text": [
      "\r 66%|██████████████████████████████████▏                 | 875988/1332946 [00:47<00:24, 18490.40r/s]"
     ]
    },
    {
     "name": "stderr",
     "output_type": "stream",
     "text": [
      "\r 66%|██████████████████████████████████▎                 | 879265/1332946 [00:47<00:24, 18520.26r/s]"
     ]
    },
    {
     "name": "stderr",
     "output_type": "stream",
     "text": [
      "\r 66%|██████████████████████████████████▍                 | 882485/1332946 [00:47<00:24, 18548.70r/s]"
     ]
    },
    {
     "name": "stderr",
     "output_type": "stream",
     "text": [
      "\r 66%|██████████████████████████████████▌                 | 885758/1332946 [00:47<00:24, 18578.34r/s]"
     ]
    },
    {
     "name": "stderr",
     "output_type": "stream",
     "text": [
      "\r 67%|██████████████████████████████████▋                 | 889047/1332946 [00:47<00:23, 18608.19r/s]"
     ]
    },
    {
     "name": "stderr",
     "output_type": "stream",
     "text": [
      "\r 67%|██████████████████████████████████▊                 | 892291/1332946 [00:47<00:23, 18636.46r/s]"
     ]
    },
    {
     "name": "stderr",
     "output_type": "stream",
     "text": [
      "\r 67%|██████████████████████████████████▉                 | 895536/1332946 [00:47<00:23, 18664.89r/s]"
     ]
    },
    {
     "name": "stderr",
     "output_type": "stream",
     "text": [
      "\r 67%|███████████████████████████████████                 | 898761/1332946 [00:48<00:23, 18692.83r/s]"
     ]
    },
    {
     "name": "stderr",
     "output_type": "stream",
     "text": [
      "\r 68%|███████████████████████████████████▏                | 901978/1332946 [00:48<00:23, 18720.77r/s]"
     ]
    },
    {
     "name": "stderr",
     "output_type": "stream",
     "text": [
      "\r 68%|███████████████████████████████████▎                | 905221/1332946 [00:48<00:22, 18749.13r/s]"
     ]
    },
    {
     "name": "stderr",
     "output_type": "stream",
     "text": [
      "\r 68%|███████████████████████████████████▍                | 908514/1332946 [00:48<00:22, 18778.41r/s]"
     ]
    },
    {
     "name": "stderr",
     "output_type": "stream",
     "text": [
      "\r 68%|███████████████████████████████████▌                | 911758/1332946 [00:48<00:22, 18806.17r/s]"
     ]
    },
    {
     "name": "stderr",
     "output_type": "stream",
     "text": [
      "\r 69%|███████████████████████████████████▋                | 914992/1332946 [00:48<00:22, 18828.18r/s]"
     ]
    },
    {
     "name": "stderr",
     "output_type": "stream",
     "text": [
      "\r 69%|███████████████████████████████████▊                | 918099/1332946 [00:48<00:22, 18851.92r/s]"
     ]
    },
    {
     "name": "stderr",
     "output_type": "stream",
     "text": [
      "\r 69%|███████████████████████████████████▉                | 921302/1332946 [00:48<00:21, 18878.78r/s]"
     ]
    },
    {
     "name": "stderr",
     "output_type": "stream",
     "text": [
      "\r 69%|████████████████████████████████████                | 924558/1332946 [00:48<00:21, 18906.47r/s]"
     ]
    },
    {
     "name": "stderr",
     "output_type": "stream",
     "text": [
      "\r 70%|████████████████████████████████████▏               | 927760/1332946 [00:49<00:21, 18933.15r/s]"
     ]
    },
    {
     "name": "stderr",
     "output_type": "stream",
     "text": [
      "\r 70%|████████████████████████████████████▎               | 931010/1332946 [00:49<00:21, 18960.55r/s]"
     ]
    },
    {
     "name": "stderr",
     "output_type": "stream",
     "text": [
      "\r 70%|████████████████████████████████████▍               | 934234/1332946 [00:49<00:20, 18987.27r/s]"
     ]
    },
    {
     "name": "stderr",
     "output_type": "stream",
     "text": [
      "\r 70%|████████████████████████████████████▌               | 937422/1332946 [00:49<00:20, 19012.93r/s]"
     ]
    },
    {
     "name": "stderr",
     "output_type": "stream",
     "text": [
      "\r 71%|████████████████████████████████████▋               | 940598/1332946 [00:49<00:20, 19038.51r/s]"
     ]
    },
    {
     "name": "stderr",
     "output_type": "stream",
     "text": [
      "\r 71%|████████████████████████████████████▊               | 943841/1332946 [00:49<00:20, 19065.25r/s]"
     ]
    },
    {
     "name": "stderr",
     "output_type": "stream",
     "text": [
      "\r 71%|████████████████████████████████████▉               | 947026/1332946 [00:49<00:20, 19090.78r/s]"
     ]
    },
    {
     "name": "stderr",
     "output_type": "stream",
     "text": [
      "\r 71%|█████████████████████████████████████               | 950242/1332946 [00:49<00:20, 19116.85r/s]"
     ]
    },
    {
     "name": "stderr",
     "output_type": "stream",
     "text": [
      "\r 72%|█████████████████████████████████████▏              | 953503/1332946 [00:49<00:19, 19143.68r/s]"
     ]
    },
    {
     "name": "stderr",
     "output_type": "stream",
     "text": [
      "\r 72%|█████████████████████████████████████▎              | 956753/1332946 [00:49<00:19, 19170.28r/s]"
     ]
    },
    {
     "name": "stderr",
     "output_type": "stream",
     "text": [
      "\r 72%|█████████████████████████████████████▍              | 960010/1332946 [00:50<00:19, 19196.80r/s]"
     ]
    },
    {
     "name": "stderr",
     "output_type": "stream",
     "text": [
      "\r 72%|█████████████████████████████████████▌              | 963229/1332946 [00:50<00:19, 19221.93r/s]"
     ]
    },
    {
     "name": "stderr",
     "output_type": "stream",
     "text": [
      "\r 73%|█████████████████████████████████████▋              | 966428/1332946 [00:50<00:19, 19247.14r/s]"
     ]
    },
    {
     "name": "stderr",
     "output_type": "stream",
     "text": [
      "\r 73%|█████████████████████████████████████▊              | 969622/1332946 [00:50<00:18, 19272.34r/s]"
     ]
    },
    {
     "name": "stderr",
     "output_type": "stream",
     "text": [
      "\r 73%|█████████████████████████████████████▉              | 972886/1332946 [00:50<00:18, 19298.53r/s]"
     ]
    },
    {
     "name": "stderr",
     "output_type": "stream",
     "text": [
      "\r 73%|██████████████████████████████████████              | 976092/1332946 [00:50<00:18, 19323.57r/s]"
     ]
    },
    {
     "name": "stderr",
     "output_type": "stream",
     "text": [
      "\r 73%|██████████████████████████████████████▏             | 979326/1332946 [00:50<00:18, 19349.22r/s]"
     ]
    },
    {
     "name": "stderr",
     "output_type": "stream",
     "text": [
      "\r 74%|██████████████████████████████████████▎             | 982555/1332946 [00:50<00:18, 19374.69r/s]"
     ]
    },
    {
     "name": "stderr",
     "output_type": "stream",
     "text": [
      "\r 74%|██████████████████████████████████████▍             | 985820/1332946 [00:50<00:17, 19400.76r/s]"
     ]
    },
    {
     "name": "stderr",
     "output_type": "stream",
     "text": [
      "\r 74%|██████████████████████████████████████▌             | 989102/1332946 [00:50<00:17, 19426.90r/s]"
     ]
    },
    {
     "name": "stderr",
     "output_type": "stream",
     "text": [
      "\r 74%|██████████████████████████████████████▋             | 992341/1332946 [00:51<00:17, 19452.27r/s]"
     ]
    },
    {
     "name": "stderr",
     "output_type": "stream",
     "text": [
      "\r 75%|██████████████████████████████████████▊             | 995579/1332946 [00:51<00:17, 19477.15r/s]"
     ]
    },
    {
     "name": "stderr",
     "output_type": "stream",
     "text": [
      "\r 75%|██████████████████████████████████████▉             | 998870/1332946 [00:51<00:17, 19503.13r/s]"
     ]
    },
    {
     "name": "stderr",
     "output_type": "stream",
     "text": [
      "\r 75%|██████████████████████████████████████▎            | 1002110/1332946 [00:51<00:16, 19528.03r/s]"
     ]
    },
    {
     "name": "stderr",
     "output_type": "stream",
     "text": [
      "\r 75%|██████████████████████████████████████▍            | 1005397/1332946 [00:51<00:16, 19553.74r/s]"
     ]
    },
    {
     "name": "stderr",
     "output_type": "stream",
     "text": [
      "\r 76%|██████████████████████████████████████▌            | 1008703/1332946 [00:51<00:16, 19579.73r/s]"
     ]
    },
    {
     "name": "stderr",
     "output_type": "stream",
     "text": [
      "\r 76%|██████████████████████████████████████▋            | 1011960/1332946 [00:51<00:16, 19604.64r/s]"
     ]
    },
    {
     "name": "stderr",
     "output_type": "stream",
     "text": [
      "\r 76%|██████████████████████████████████████▊            | 1015211/1332946 [00:51<00:16, 19629.54r/s]"
     ]
    },
    {
     "name": "stderr",
     "output_type": "stream",
     "text": [
      "\r 76%|██████████████████████████████████████▉            | 1018494/1332946 [00:51<00:15, 19654.79r/s]"
     ]
    },
    {
     "name": "stderr",
     "output_type": "stream",
     "text": [
      "\r 77%|███████████████████████████████████████            | 1021801/1332946 [00:51<00:15, 19680.38r/s]"
     ]
    },
    {
     "name": "stderr",
     "output_type": "stream",
     "text": [
      "\r 77%|███████████████████████████████████████▏           | 1025102/1332946 [00:52<00:15, 19705.77r/s]"
     ]
    },
    {
     "name": "stderr",
     "output_type": "stream",
     "text": [
      "\r 77%|███████████████████████████████████████▎           | 1028371/1332946 [00:52<00:15, 19730.44r/s]"
     ]
    },
    {
     "name": "stderr",
     "output_type": "stream",
     "text": [
      "\r 77%|███████████████████████████████████████▍           | 1031683/1332946 [00:52<00:15, 19755.85r/s]"
     ]
    },
    {
     "name": "stderr",
     "output_type": "stream",
     "text": [
      "\r 78%|███████████████████████████████████████▌           | 1034955/1332946 [00:52<00:15, 19779.85r/s]"
     ]
    },
    {
     "name": "stderr",
     "output_type": "stream",
     "text": [
      "\r 78%|███████████████████████████████████████▋           | 1038207/1332946 [00:52<00:14, 19803.04r/s]"
     ]
    },
    {
     "name": "stderr",
     "output_type": "stream",
     "text": [
      "\r 78%|███████████████████████████████████████▊           | 1041431/1332946 [00:52<00:14, 19826.67r/s]"
     ]
    },
    {
     "name": "stderr",
     "output_type": "stream",
     "text": [
      "\r 78%|███████████████████████████████████████▉           | 1044700/1332946 [00:52<00:14, 19850.86r/s]"
     ]
    },
    {
     "name": "stderr",
     "output_type": "stream",
     "text": [
      "\r 79%|████████████████████████████████████████           | 1047982/1332946 [00:52<00:14, 19875.25r/s]"
     ]
    },
    {
     "name": "stderr",
     "output_type": "stream",
     "text": [
      "\r 79%|████████████████████████████████████████▏          | 1051223/1332946 [00:52<00:14, 19898.94r/s]"
     ]
    },
    {
     "name": "stderr",
     "output_type": "stream",
     "text": [
      "\r 79%|████████████████████████████████████████▎          | 1054463/1332946 [00:52<00:13, 19921.40r/s]"
     ]
    },
    {
     "name": "stderr",
     "output_type": "stream",
     "text": [
      "\r 79%|████████████████████████████████████████▍          | 1057674/1332946 [00:53<00:13, 19943.76r/s]"
     ]
    },
    {
     "name": "stderr",
     "output_type": "stream",
     "text": [
      "\r 80%|████████████████████████████████████████▌          | 1060869/1332946 [00:53<00:13, 19966.13r/s]"
     ]
    },
    {
     "name": "stderr",
     "output_type": "stream",
     "text": [
      "\r 80%|████████████████████████████████████████▋          | 1064059/1332946 [00:53<00:13, 19987.77r/s]"
     ]
    },
    {
     "name": "stderr",
     "output_type": "stream",
     "text": [
      "\r 80%|████████████████████████████████████████▊          | 1067229/1332946 [00:53<00:13, 20008.95r/s]"
     ]
    },
    {
     "name": "stderr",
     "output_type": "stream",
     "text": [
      "\r 80%|████████████████████████████████████████▉          | 1070380/1332946 [00:53<00:13, 20029.48r/s]"
     ]
    },
    {
     "name": "stderr",
     "output_type": "stream",
     "text": [
      "\r 81%|█████████████████████████████████████████          | 1073601/1332946 [00:53<00:12, 20052.01r/s]"
     ]
    },
    {
     "name": "stderr",
     "output_type": "stream",
     "text": [
      "\r 81%|█████████████████████████████████████████▏         | 1076751/1332946 [00:53<00:12, 20073.31r/s]"
     ]
    },
    {
     "name": "stderr",
     "output_type": "stream",
     "text": [
      "\r 81%|█████████████████████████████████████████▎         | 1079989/1332946 [00:53<00:12, 20096.18r/s]"
     ]
    },
    {
     "name": "stderr",
     "output_type": "stream",
     "text": [
      "\r 81%|█████████████████████████████████████████▍         | 1083258/1332946 [00:53<00:12, 20119.54r/s]"
     ]
    },
    {
     "name": "stderr",
     "output_type": "stream",
     "text": [
      "\r 82%|█████████████████████████████████████████▌         | 1086545/1332946 [00:53<00:12, 20143.14r/s]"
     ]
    },
    {
     "name": "stderr",
     "output_type": "stream",
     "text": [
      "\r 82%|█████████████████████████████████████████▋         | 1089772/1332946 [00:54<00:12, 20164.81r/s]"
     ]
    },
    {
     "name": "stderr",
     "output_type": "stream",
     "text": [
      "\r 82%|█████████████████████████████████████████▊         | 1093061/1332946 [00:54<00:11, 20188.08r/s]"
     ]
    },
    {
     "name": "stderr",
     "output_type": "stream",
     "text": [
      "\r 82%|█████████████████████████████████████████▉         | 1096287/1332946 [00:54<00:11, 20210.12r/s]"
     ]
    },
    {
     "name": "stderr",
     "output_type": "stream",
     "text": [
      "\r 82%|██████████████████████████████████████████         | 1099529/1332946 [00:54<00:11, 20232.55r/s]"
     ]
    },
    {
     "name": "stderr",
     "output_type": "stream",
     "text": [
      "\r 83%|██████████████████████████████████████████▏        | 1102755/1332946 [00:54<00:11, 20252.76r/s]"
     ]
    },
    {
     "name": "stderr",
     "output_type": "stream",
     "text": [
      "\r 83%|██████████████████████████████████████████▎        | 1106005/1332946 [00:54<00:11, 20275.18r/s]"
     ]
    },
    {
     "name": "stderr",
     "output_type": "stream",
     "text": [
      "\r 83%|██████████████████████████████████████████▍        | 1109234/1332946 [00:54<00:11, 20296.92r/s]"
     ]
    },
    {
     "name": "stderr",
     "output_type": "stream",
     "text": [
      "\r 83%|██████████████████████████████████████████▌        | 1112508/1332946 [00:54<00:10, 20319.55r/s]"
     ]
    },
    {
     "name": "stderr",
     "output_type": "stream",
     "text": [
      "\r 84%|██████████████████████████████████████████▋        | 1115804/1332946 [00:54<00:10, 20342.38r/s]"
     ]
    },
    {
     "name": "stderr",
     "output_type": "stream",
     "text": [
      "\r 84%|██████████████████████████████████████████▊        | 1119060/1332946 [00:54<00:10, 20364.58r/s]"
     ]
    },
    {
     "name": "stderr",
     "output_type": "stream",
     "text": [
      "\r 84%|██████████████████████████████████████████▉        | 1122320/1332946 [00:55<00:10, 20386.77r/s]"
     ]
    },
    {
     "name": "stderr",
     "output_type": "stream",
     "text": [
      "\r 84%|███████████████████████████████████████████        | 1125571/1332946 [00:55<00:10, 20408.72r/s]"
     ]
    },
    {
     "name": "stderr",
     "output_type": "stream",
     "text": [
      "\r 85%|███████████████████████████████████████████▏       | 1128819/1332946 [00:55<00:09, 20430.53r/s]"
     ]
    },
    {
     "name": "stderr",
     "output_type": "stream",
     "text": [
      "\r 85%|███████████████████████████████████████████▎       | 1132181/1332946 [00:55<00:09, 20454.33r/s]"
     ]
    },
    {
     "name": "stderr",
     "output_type": "stream",
     "text": [
      "\r 85%|███████████████████████████████████████████▍       | 1135462/1332946 [00:55<00:09, 20475.47r/s]"
     ]
    },
    {
     "name": "stderr",
     "output_type": "stream",
     "text": [
      "\r 85%|███████████████████████████████████████████▌       | 1138762/1332946 [00:55<00:09, 20497.98r/s]"
     ]
    },
    {
     "name": "stderr",
     "output_type": "stream",
     "text": [
      "\r 86%|███████████████████████████████████████████▋       | 1142028/1332946 [00:55<00:09, 20519.80r/s]"
     ]
    },
    {
     "name": "stderr",
     "output_type": "stream",
     "text": [
      "\r 86%|███████████████████████████████████████████▊       | 1145293/1332946 [00:55<00:09, 20541.52r/s]"
     ]
    },
    {
     "name": "stderr",
     "output_type": "stream",
     "text": [
      "\r 86%|███████████████████████████████████████████▉       | 1148557/1332946 [00:55<00:08, 20563.14r/s]"
     ]
    },
    {
     "name": "stderr",
     "output_type": "stream",
     "text": [
      "\r 86%|████████████████████████████████████████████       | 1151823/1332946 [00:55<00:08, 20584.73r/s]"
     ]
    },
    {
     "name": "stderr",
     "output_type": "stream",
     "text": [
      "\r 87%|████████████████████████████████████████████▏      | 1155086/1332946 [00:56<00:08, 20605.97r/s]"
     ]
    },
    {
     "name": "stderr",
     "output_type": "stream",
     "text": [
      "\r 87%|████████████████████████████████████████████▎      | 1158388/1332946 [00:56<00:08, 20627.87r/s]"
     ]
    },
    {
     "name": "stderr",
     "output_type": "stream",
     "text": [
      "\r 87%|████████████████████████████████████████████▍      | 1161653/1332946 [00:56<00:08, 20648.83r/s]"
     ]
    },
    {
     "name": "stderr",
     "output_type": "stream",
     "text": [
      "\r 87%|████████████████████████████████████████████▌      | 1164969/1332946 [00:56<00:08, 20671.00r/s]"
     ]
    },
    {
     "name": "stderr",
     "output_type": "stream",
     "text": [
      "\r 88%|████████████████████████████████████████████▋      | 1168241/1332946 [00:56<00:07, 20692.30r/s]"
     ]
    },
    {
     "name": "stderr",
     "output_type": "stream",
     "text": [
      "\r 88%|████████████████████████████████████████████▊      | 1171523/1332946 [00:56<00:07, 20713.51r/s]"
     ]
    },
    {
     "name": "stderr",
     "output_type": "stream",
     "text": [
      "\r 88%|████████████████████████████████████████████▉      | 1174819/1332946 [00:56<00:07, 20734.90r/s]"
     ]
    },
    {
     "name": "stderr",
     "output_type": "stream",
     "text": [
      "\r 88%|█████████████████████████████████████████████      | 1178090/1332946 [00:56<00:07, 20755.77r/s]"
     ]
    },
    {
     "name": "stderr",
     "output_type": "stream",
     "text": [
      "\r 89%|█████████████████████████████████████████████▏     | 1181355/1332946 [00:56<00:07, 20776.47r/s]"
     ]
    },
    {
     "name": "stderr",
     "output_type": "stream",
     "text": [
      "\r 89%|█████████████████████████████████████████████▎     | 1184614/1332946 [00:56<00:07, 20797.17r/s]"
     ]
    },
    {
     "name": "stderr",
     "output_type": "stream",
     "text": [
      "\r 89%|█████████████████████████████████████████████▍     | 1187872/1332946 [00:57<00:06, 20817.43r/s]"
     ]
    },
    {
     "name": "stderr",
     "output_type": "stream",
     "text": [
      "\r 89%|█████████████████████████████████████████████▌     | 1191153/1332946 [00:57<00:06, 20838.38r/s]"
     ]
    },
    {
     "name": "stderr",
     "output_type": "stream",
     "text": [
      "\r 90%|█████████████████████████████████████████████▋     | 1194451/1332946 [00:57<00:06, 20859.55r/s]"
     ]
    },
    {
     "name": "stderr",
     "output_type": "stream",
     "text": [
      "\r 90%|█████████████████████████████████████████████▊     | 1197735/1332946 [00:57<00:06, 20880.41r/s]"
     ]
    },
    {
     "name": "stderr",
     "output_type": "stream",
     "text": [
      "\r 90%|█████████████████████████████████████████████▉     | 1201008/1332946 [00:57<00:06, 20901.01r/s]"
     ]
    },
    {
     "name": "stderr",
     "output_type": "stream",
     "text": [
      "\r 90%|██████████████████████████████████████████████     | 1204280/1332946 [00:57<00:06, 20921.14r/s]"
     ]
    },
    {
     "name": "stderr",
     "output_type": "stream",
     "text": [
      "\r 91%|██████████████████████████████████████████████▏    | 1207545/1332946 [00:57<00:05, 20941.44r/s]"
     ]
    },
    {
     "name": "stderr",
     "output_type": "stream",
     "text": [
      "\r 91%|██████████████████████████████████████████████▎    | 1210807/1332946 [00:57<00:05, 20960.91r/s]"
     ]
    },
    {
     "name": "stderr",
     "output_type": "stream",
     "text": [
      "\r 91%|██████████████████████████████████████████████▍    | 1214074/1332946 [00:57<00:05, 20981.11r/s]"
     ]
    },
    {
     "name": "stderr",
     "output_type": "stream",
     "text": [
      "\r 91%|██████████████████████████████████████████████▌    | 1217425/1332946 [00:57<00:05, 21002.69r/s]"
     ]
    },
    {
     "name": "stderr",
     "output_type": "stream",
     "text": [
      "\r 92%|██████████████████████████████████████████████▋    | 1220704/1332946 [00:58<00:05, 21022.60r/s]"
     ]
    },
    {
     "name": "stderr",
     "output_type": "stream",
     "text": [
      "\r 92%|██████████████████████████████████████████████▊    | 1223972/1332946 [00:58<00:05, 21040.81r/s]"
     ]
    },
    {
     "name": "stderr",
     "output_type": "stream",
     "text": [
      "\r 92%|██████████████████████████████████████████████▉    | 1227236/1332946 [00:58<00:05, 21060.67r/s]"
     ]
    },
    {
     "name": "stderr",
     "output_type": "stream",
     "text": [
      "\r 92%|███████████████████████████████████████████████    | 1230512/1332946 [00:58<00:04, 21080.68r/s]"
     ]
    },
    {
     "name": "stderr",
     "output_type": "stream",
     "text": [
      "\r 93%|███████████████████████████████████████████████▏   | 1233757/1332946 [00:58<00:04, 21100.09r/s]"
     ]
    },
    {
     "name": "stderr",
     "output_type": "stream",
     "text": [
      "\r 93%|███████████████████████████████████████████████▎   | 1237001/1332946 [00:58<00:04, 21119.08r/s]"
     ]
    },
    {
     "name": "stderr",
     "output_type": "stream",
     "text": [
      "\r 93%|███████████████████████████████████████████████▍   | 1240236/1332946 [00:58<00:04, 21137.48r/s]"
     ]
    },
    {
     "name": "stderr",
     "output_type": "stream",
     "text": [
      "\r 93%|███████████████████████████████████████████████▌   | 1243501/1332946 [00:58<00:04, 21157.03r/s]"
     ]
    },
    {
     "name": "stderr",
     "output_type": "stream",
     "text": [
      "\r 94%|███████████████████████████████████████████████▋   | 1246730/1332946 [00:58<00:04, 21175.90r/s]"
     ]
    },
    {
     "name": "stderr",
     "output_type": "stream",
     "text": [
      "\r 94%|███████████████████████████████████████████████▊   | 1250000/1332946 [00:58<00:03, 21195.19r/s]"
     ]
    },
    {
     "name": "stderr",
     "output_type": "stream",
     "text": [
      "\r 94%|███████████████████████████████████████████████▉   | 1253234/1332946 [00:59<00:03, 21213.11r/s]"
     ]
    },
    {
     "name": "stderr",
     "output_type": "stream",
     "text": [
      "\r 94%|████████████████████████████████████████████████   | 1256474/1332946 [00:59<00:03, 21231.98r/s]"
     ]
    },
    {
     "name": "stderr",
     "output_type": "stream",
     "text": [
      "\r 95%|████████████████████████████████████████████████▏  | 1259766/1332946 [00:59<00:03, 21251.67r/s]"
     ]
    },
    {
     "name": "stderr",
     "output_type": "stream",
     "text": [
      "\r 95%|████████████████████████████████████████████████▎  | 1263076/1332946 [00:59<00:03, 21271.59r/s]"
     ]
    },
    {
     "name": "stderr",
     "output_type": "stream",
     "text": [
      "\r 95%|████████████████████████████████████████████████▍  | 1266336/1332946 [00:59<00:03, 21290.60r/s]"
     ]
    },
    {
     "name": "stderr",
     "output_type": "stream",
     "text": [
      "\r 95%|████████████████████████████████████████████████▌  | 1269595/1332946 [00:59<00:02, 21308.11r/s]"
     ]
    },
    {
     "name": "stderr",
     "output_type": "stream",
     "text": [
      "\r 95%|████████████████████████████████████████████████▋  | 1272816/1332946 [00:59<00:02, 21326.34r/s]"
     ]
    },
    {
     "name": "stderr",
     "output_type": "stream",
     "text": [
      "\r 96%|████████████████████████████████████████████████▊  | 1276039/1332946 [00:59<00:02, 21344.55r/s]"
     ]
    },
    {
     "name": "stderr",
     "output_type": "stream",
     "text": [
      "\r 96%|████████████████████████████████████████████████▉  | 1279382/1332946 [00:59<00:02, 21364.70r/s]"
     ]
    },
    {
     "name": "stderr",
     "output_type": "stream",
     "text": [
      "\r 96%|█████████████████████████████████████████████████  | 1282639/1332946 [00:59<00:02, 21382.99r/s]"
     ]
    },
    {
     "name": "stderr",
     "output_type": "stream",
     "text": [
      "\r 96%|█████████████████████████████████████████████████▏ | 1285885/1332946 [01:00<00:02, 21400.69r/s]"
     ]
    },
    {
     "name": "stderr",
     "output_type": "stream",
     "text": [
      "\r 97%|█████████████████████████████████████████████████▎ | 1289153/1332946 [01:00<00:02, 21419.41r/s]"
     ]
    },
    {
     "name": "stderr",
     "output_type": "stream",
     "text": [
      "\r 97%|█████████████████████████████████████████████████▍ | 1292418/1332946 [01:00<00:01, 21438.00r/s]"
     ]
    },
    {
     "name": "stderr",
     "output_type": "stream",
     "text": [
      "\r 97%|█████████████████████████████████████████████████▌ | 1295668/1332946 [01:00<00:01, 21456.29r/s]"
     ]
    },
    {
     "name": "stderr",
     "output_type": "stream",
     "text": [
      "\r 97%|█████████████████████████████████████████████████▋ | 1298920/1332946 [01:00<00:01, 21474.55r/s]"
     ]
    },
    {
     "name": "stderr",
     "output_type": "stream",
     "text": [
      "\r 98%|█████████████████████████████████████████████████▊ | 1302167/1332946 [01:00<00:01, 21491.24r/s]"
     ]
    },
    {
     "name": "stderr",
     "output_type": "stream",
     "text": [
      "\r 98%|█████████████████████████████████████████████████▉ | 1305408/1332946 [01:00<00:01, 21509.21r/s]"
     ]
    },
    {
     "name": "stderr",
     "output_type": "stream",
     "text": [
      "\r 98%|██████████████████████████████████████████████████ | 1308693/1332946 [01:00<00:01, 21527.84r/s]"
     ]
    },
    {
     "name": "stderr",
     "output_type": "stream",
     "text": [
      "\r 98%|██████████████████████████████████████████████████▏| 1311931/1332946 [01:00<00:00, 21545.62r/s]"
     ]
    },
    {
     "name": "stderr",
     "output_type": "stream",
     "text": [
      "\r 99%|██████████████████████████████████████████████████▎| 1315265/1332946 [01:00<00:00, 21564.61r/s]"
     ]
    },
    {
     "name": "stderr",
     "output_type": "stream",
     "text": [
      "\r 99%|██████████████████████████████████████████████████▍| 1318567/1332946 [01:01<00:00, 21583.02r/s]"
     ]
    },
    {
     "name": "stderr",
     "output_type": "stream",
     "text": [
      "\r 99%|██████████████████████████████████████████████████▌| 1321828/1332946 [01:01<00:00, 21601.01r/s]"
     ]
    },
    {
     "name": "stderr",
     "output_type": "stream",
     "text": [
      "\r 99%|██████████████████████████████████████████████████▋| 1325169/1332946 [01:01<00:00, 21619.95r/s]"
     ]
    },
    {
     "name": "stderr",
     "output_type": "stream",
     "text": [
      "\r100%|██████████████████████████████████████████████████▊| 1328499/1332946 [01:01<00:00, 21638.72r/s]"
     ]
    },
    {
     "name": "stderr",
     "output_type": "stream",
     "text": [
      "\r100%|██████████████████████████████████████████████████▉| 1331839/1332946 [01:01<00:00, 21657.76r/s]"
     ]
    },
    {
     "name": "stderr",
     "output_type": "stream",
     "text": [
      "\r                                                                                                    "
     ]
    },
    {
     "name": "stderr",
     "output_type": "stream",
     "text": [
      "\r"
     ]
    },
    {
     "name": "stdout",
     "output_type": "stream",
     "text": [
      "\n"
     ]
    },
    {
     "name": "stdout",
     "output_type": "stream",
     "text": [
      "trans completed!"
     ]
    },
    {
     "name": "stdout",
     "output_type": "stream",
     "text": [
      "\n"
     ]
    }
   ],
   "source": [
    "column = ['uid', 'age', 'gender', 'marriageStatus', 'education', 'consumptionAbility', 'LBS', \n",
    "          'interest1', 'interest2', 'interest3', 'interest4', 'interest5', \n",
    "          'kw1', 'kw2', 'kw3', \n",
    "          'topic1', 'topic2', 'topic3', \n",
    "          'appIdInstall', 'appIdAction',  'ct', 'os', 'carrier', 'house']\n",
    "df = pd.DataFrame(columns=column)\n",
    "\n",
    "print('read file')\n",
    "with open('data/userFeature.data.005') as f:\n",
    "    lines = f.readlines()\n",
    "print('read finish')\n",
    "length = len(lines)\n",
    "bar = tqdm(range(length), total=length, ncols=100, leave=False,\n",
    "           unit='r')\n",
    "\n",
    "dics = []\n",
    "for i in bar:\n",
    "    line = lines[i]\n",
    "    items = line.strip('\\n').split('|')\n",
    "    dic = {}\n",
    "    for item in items:\n",
    "        e = item.split(' ')\n",
    "        k = e[0]\n",
    "        if len(e) == 2:\n",
    "            v = e[1]\n",
    "        else:\n",
    "            v = str(e[1:])\n",
    "        dic[k] = v\n",
    "    dics.append(dic)\n",
    "    dic = {}\n",
    "print()\n",
    "print('trans completed!')\n",
    "bar.close()"
   ]
  },
  {
   "cell_type": "code",
   "execution_count": 15,
   "metadata": {},
   "outputs": [
    {
     "name": "stdout",
     "output_type": "stream",
     "text": [
      "do append!"
     ]
    },
    {
     "name": "stdout",
     "output_type": "stream",
     "text": [
      "\n"
     ]
    },
    {
     "name": "stdout",
     "output_type": "stream",
     "text": [
      "done"
     ]
    },
    {
     "name": "stdout",
     "output_type": "stream",
     "text": [
      "\n"
     ]
    }
   ],
   "source": [
    "row = pd.DataFrame(dics)\n",
    "print('do append!')\n",
    "df = df.append(row)\n",
    "df.to_csv('data/user_feature5.csv', columns=column, index=False)\n",
    "print('done')"
   ]
  },
  {
   "cell_type": "code",
   "execution_count": null,
   "metadata": {},
   "outputs": [],
   "source": []
  }
 ],
 "metadata": {
  "kernelspec": {
   "display_name": "Python 3",
   "language": "python",
   "name": "python3"
  },
  "language_info": {
   "codemirror_mode": {
    "name": "ipython",
    "version": 3
   },
   "file_extension": ".py",
   "mimetype": "text/x-python",
   "name": "python",
   "nbconvert_exporter": "python",
   "pygments_lexer": "ipython3",
   "version": "3.5.4"
  }
 },
 "nbformat": 4,
 "nbformat_minor": 2
}
