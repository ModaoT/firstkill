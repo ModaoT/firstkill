{
 "cells": [
  {
   "cell_type": "heading",
   "metadata": {},
   "level": 1,
   "source": [
    "清洗appId"
   ]
  },
  {
   "cell_type": "code",
   "execution_count": 1,
   "metadata": {},
   "outputs": [],
   "source": [
    "# 数据处理工具\n",
    "import pandas as pd\n",
    "import numpy as np\n",
    "import random as rnd\n",
    "from collections import Counter\n",
    "import utils\n",
    "\n",
    "# 可视化工具\n",
    "import seaborn as sns\n",
    "import matplotlib.pyplot as plt\n",
    "%matplotlib inline"
   ]
  },
  {
   "cell_type": "code",
   "execution_count": 2,
   "metadata": {},
   "outputs": [
    {
     "data": {
      "text/html": [
       "<div>\n",
       "<style scoped>\n",
       "    .dataframe tbody tr th:only-of-type {\n",
       "        vertical-align: middle;\n",
       "    }\n",
       "\n",
       "    .dataframe tbody tr th {\n",
       "        vertical-align: top;\n",
       "    }\n",
       "\n",
       "    .dataframe thead th {\n",
       "        text-align: right;\n",
       "    }\n",
       "</style>\n",
       "<table border=\"1\" class=\"dataframe\">\n",
       "  <thead>\n",
       "    <tr style=\"text-align: right;\">\n",
       "      <th></th>\n",
       "      <th>uid</th>\n",
       "      <th>appId</th>\n",
       "    </tr>\n",
       "  </thead>\n",
       "  <tbody>\n",
       "    <tr>\n",
       "      <th>0</th>\n",
       "      <td>26325489</td>\n",
       "      <td>NaN</td>\n",
       "    </tr>\n",
       "    <tr>\n",
       "      <th>1</th>\n",
       "      <td>1184123</td>\n",
       "      <td>NaN</td>\n",
       "    </tr>\n",
       "    <tr>\n",
       "      <th>2</th>\n",
       "      <td>76072711</td>\n",
       "      <td>NaN</td>\n",
       "    </tr>\n",
       "    <tr>\n",
       "      <th>3</th>\n",
       "      <td>63071413</td>\n",
       "      <td>NaN</td>\n",
       "    </tr>\n",
       "    <tr>\n",
       "      <th>4</th>\n",
       "      <td>81294159</td>\n",
       "      <td>NaN</td>\n",
       "    </tr>\n",
       "  </tbody>\n",
       "</table>\n",
       "</div>"
      ],
      "text/plain": [
       "<div>\n",
       "<style scoped>\n",
       "    .dataframe tbody tr th:only-of-type {\n",
       "        vertical-align: middle;\n",
       "    }\n",
       "\n",
       "    .dataframe tbody tr th {\n",
       "        vertical-align: top;\n",
       "    }\n",
       "\n",
       "    .dataframe thead th {\n",
       "        text-align: right;\n",
       "    }\n",
       "</style>\n",
       "<table border=\"1\" class=\"dataframe\">\n",
       "  <thead>\n",
       "    <tr style=\"text-align: right;\">\n",
       "      <th></th>\n",
       "      <th>uid</th>\n",
       "      <th>appId</th>\n",
       "    </tr>\n",
       "  </thead>\n",
       "  <tbody>\n",
       "    <tr>\n",
       "      <th>0</th>\n",
       "      <td>26325489</td>\n",
       "      <td>NaN</td>\n",
       "    </tr>\n",
       "    <tr>\n",
       "      <th>1</th>\n",
       "      <td>1184123</td>\n",
       "      <td>NaN</td>\n",
       "    </tr>\n",
       "    <tr>\n",
       "      <th>2</th>\n",
       "      <td>76072711</td>\n",
       "      <td>NaN</td>\n",
       "    </tr>\n",
       "    <tr>\n",
       "      <th>3</th>\n",
       "      <td>63071413</td>\n",
       "      <td>NaN</td>\n",
       "    </tr>\n",
       "    <tr>\n",
       "      <th>4</th>\n",
       "      <td>81294159</td>\n",
       "      <td>NaN</td>\n",
       "    </tr>\n",
       "  </tbody>\n",
       "</table>\n",
       "</div>"
      ]
     },
     "execution_count": 2,
     "metadata": {},
     "output_type": "execute_result"
    }
   ],
   "source": [
    "user_feature_embedding_app = pd.read_csv('data/user_feature_embedding_app_merged.csv')\n",
    "user_feature_embedding_app.head()"
   ]
  },
  {
   "cell_type": "code",
   "execution_count": 5,
   "metadata": {},
   "outputs": [
    {
     "name": "stdout",
     "output_type": "stream",
     "text": [
      "progress: 0\r"
     ]
    },
    {
     "name": "stdout",
     "output_type": "stream",
     "text": [
      "progress: 10\r"
     ]
    },
    {
     "name": "stdout",
     "output_type": "stream",
     "text": [
      "progress: 20\r"
     ]
    },
    {
     "name": "stdout",
     "output_type": "stream",
     "text": [
      "progress: 30\r"
     ]
    },
    {
     "name": "stdout",
     "output_type": "stream",
     "text": [
      "progress: 40\r"
     ]
    },
    {
     "name": "stdout",
     "output_type": "stream",
     "text": [
      "progress: 50\r"
     ]
    },
    {
     "name": "stdout",
     "output_type": "stream",
     "text": [
      "progress: 60\r"
     ]
    },
    {
     "name": "stdout",
     "output_type": "stream",
     "text": [
      "progress: 70\r"
     ]
    },
    {
     "name": "stdout",
     "output_type": "stream",
     "text": [
      "progress: 80\r"
     ]
    },
    {
     "name": "stdout",
     "output_type": "stream",
     "text": [
      "progress: 90\r"
     ]
    },
    {
     "name": "stdout",
     "output_type": "stream",
     "text": [
      "progress: 100\r"
     ]
    },
    {
     "name": "stdout",
     "output_type": "stream",
     "text": [
      "progress: 100\n"
     ]
    },
    {
     "data": {
      "text/plain": [
       "(array([  367264.,   243911.,   167917.,   158833.,   283571.,   361346.,\n          297983.,   458963.,   298131.,   414535.,   279824.,   310418.,\n          319795.,   365042.,   451380.,   374539.,   347167.,   465820.,\n          196579.,   260401.,   303759.,   435499.,   195737.,   338443.,\n          153551.,   273667.,   117131.,   506613.,   437627.,   591719.,\n          252586.,   290149.,   418152.,   308463.,   164002.,   322617.,\n          346092.,   303214.,   295979.,   445444.,   266501.,   241259.,\n          441914.,   419029.,   209048.,   269854.,   367590.,   264109.,\n          251919.,   491467.,   226863.,   247589.,   393819.,   299811.,\n          332422.,   303297.,   293921.,   465778.,   390461.,   409256.,\n          281276.,   366764.,   429972.,   522770.,   232157.,   319552.,\n          358368.,   149365.,   225097.,   450884.,   311357.,   275523.,\n          411830.,   287970.,   446470.,   302266.,   263962.,   339114.,\n          318188.,   239091.,   256425.,    63383.,        0.,        0.,\n               0.,        0.,        0.,    68567.,   197304.,   181868.,\n          295957.,   267376.,   173046.,   284592.,   240934.,    29755.,\n               0.,        0.,        0., 11119608.]),\n array([1.000000e+00, 8.009900e+02, 1.600980e+03, 2.400970e+03,\n        3.200960e+03, 4.000950e+03, 4.800940e+03, 5.600930e+03,\n        6.400920e+03, 7.200910e+03, 8.000900e+03, 8.800890e+03,\n        9.600880e+03, 1.040087e+04, 1.120086e+04, 1.200085e+04,\n        1.280084e+04, 1.360083e+04, 1.440082e+04, 1.520081e+04,\n        1.600080e+04, 1.680079e+04, 1.760078e+04, 1.840077e+04,\n        1.920076e+04, 2.000075e+04, 2.080074e+04, 2.160073e+04,\n        2.240072e+04, 2.320071e+04, 2.400070e+04, 2.480069e+04,\n        2.560068e+04, 2.640067e+04, 2.720066e+04, 2.800065e+04,\n        2.880064e+04, 2.960063e+04, 3.040062e+04, 3.120061e+04,\n        3.200060e+04, 3.280059e+04, 3.360058e+04, 3.440057e+04,\n        3.520056e+04, 3.600055e+04, 3.680054e+04, 3.760053e+04,\n        3.840052e+04, 3.920051e+04, 4.000050e+04, 4.080049e+04,\n        4.160048e+04, 4.240047e+04, 4.320046e+04, 4.400045e+04,\n        4.480044e+04, 4.560043e+04, 4.640042e+04, 4.720041e+04,\n        4.800040e+04, 4.880039e+04, 4.960038e+04, 5.040037e+04,\n        5.120036e+04, 5.200035e+04, 5.280034e+04, 5.360033e+04,\n        5.440032e+04, 5.520031e+04, 5.600030e+04, 5.680029e+04,\n        5.760028e+04, 5.840027e+04, 5.920026e+04, 6.000025e+04,\n        6.080024e+04, 6.160023e+04, 6.240022e+04, 6.320021e+04,\n        6.400020e+04, 6.480019e+04, 6.560018e+04, 6.640017e+04,\n        6.720016e+04, 6.800015e+04, 6.880014e+04, 6.960013e+04,\n        7.040012e+04, 7.120011e+04, 7.200010e+04, 7.280009e+04,\n        7.360008e+04, 7.440007e+04, 7.520006e+04, 7.600005e+04,\n        7.680004e+04, 7.760003e+04, 7.840002e+04, 7.920001e+04,\n        8.000000e+04]),\n <a list of 100 Patch objects>)"
      ]
     },
     "execution_count": 5,
     "metadata": {},
     "output_type": "execute_result"
    },
    {
     "data": {
      "image/png": "[encoded data removed]",
      "text/plain": [
       "<Figure size 432x288 with 1 Axes>"
      ]
     },
     "metadata": {},
     "output_type": "display_data"
    }
   ],
   "source": [
    "collector_app = utils.count_element(user_feature_embedding_app['appId'], fill_na='80000')\n",
    "plt.hist(collector_app, bins=100)"
   ]
  },
  {
   "cell_type": "code",
   "execution_count": 7,
   "metadata": {},
   "outputs": [
    {
     "data": {
      "text/plain": [
       "[(80000, 11119608),\n (50700, 131191),\n (57849, 130493),\n (6071, 123565),\n (24830, 120417),\n (31814, 119912),\n (47169, 110297),\n (14237, 107569),\n (50416, 106564),\n (7654, 99793)]"
      ]
     },
     "execution_count": 7,
     "metadata": {},
     "output_type": "execute_result"
    }
   ],
   "source": [
    "counter_app = Counter(collector_app)\n",
    "counter_app.most_common(10)"
   ]
  },
  {
   "cell_type": "code",
   "execution_count": 8,
   "metadata": {},
   "outputs": [
    {
     "name": "stdout",
     "output_type": "stream",
     "text": [
      "55700\n15374\n"
     ]
    }
   ],
   "source": [
    "dic_less_than_100, dic_more_than_100 = utils.count_baseline(counter_app, 100)\n",
    "print(len(dic_less_than_100))\n",
    "print(len(dic_more_than_100))"
   ]
  },
  {
   "cell_type": "code",
   "execution_count": 9,
   "metadata": {},
   "outputs": [
    {
     "data": {
      "text/plain": [
       "(array([  18.,   58.,  146.,  355.,  688., 1078., 1393., 1815., 2106.,\n        2326., 2408., 2374., 2242., 2074., 2008., 1787., 1702., 1571.,\n        1394., 1221., 1239., 1181., 1032., 1024.,  931.,  841.,  811.,\n         794.,  729.,  713.,  653.,  677.,  581.,  540.,  572.,  473.,\n         489.,  514.,  421.,  468.,  438.,  385.,  387.,  404.,  366.,\n         360.,  353.,  338.,  290.,    0.,  316.,  288.,  298.,  282.,\n         246.,  254.,  280.,  246.,  239.,  233.,  242.,  213.,  213.,\n         229.,  188.,  189.,  183.,  211.,  201.,  210.,  208.,  179.,\n         198.,  179.,  163.,  145.,  168.,  128.,  182.,  166.,  130.,\n         150.,  133.,  151.,  133.,  126.,  121.,  134.,  135.,  115.,\n         103.,   97.,  135.,  128.,  130.,  118.,  102.,  108.,  105.,\n         101.]),\n array([ 1.  ,  1.98,  2.96,  3.94,  4.92,  5.9 ,  6.88,  7.86,  8.84,\n         9.82, 10.8 , 11.78, 12.76, 13.74, 14.72, 15.7 , 16.68, 17.66,\n        18.64, 19.62, 20.6 , 21.58, 22.56, 23.54, 24.52, 25.5 , 26.48,\n        27.46, 28.44, 29.42, 30.4 , 31.38, 32.36, 33.34, 34.32, 35.3 ,\n        36.28, 37.26, 38.24, 39.22, 40.2 , 41.18, 42.16, 43.14, 44.12,\n        45.1 , 46.08, 47.06, 48.04, 49.02, 50.  , 50.98, 51.96, 52.94,\n        53.92, 54.9 , 55.88, 56.86, 57.84, 58.82, 59.8 , 60.78, 61.76,\n        62.74, 63.72, 64.7 , 65.68, 66.66, 67.64, 68.62, 69.6 , 70.58,\n        71.56, 72.54, 73.52, 74.5 , 75.48, 76.46, 77.44, 78.42, 79.4 ,\n        80.38, 81.36, 82.34, 83.32, 84.3 , 85.28, 86.26, 87.24, 88.22,\n        89.2 , 90.18, 91.16, 92.14, 93.12, 94.1 , 95.08, 96.06, 97.04,\n        98.02, 99.  ]),\n <a list of 100 Patch objects>)"
      ]
     },
     "execution_count": 9,
     "metadata": {},
     "output_type": "execute_result"
    },
    {
     "data": {
      "image/png": "[encoded data removed]",
      "text/plain": [
       "<Figure size 432x288 with 1 Axes>"
      ]
     },
     "metadata": {},
     "output_type": "display_data"
    }
   ],
   "source": [
    "plt.hist(dic_less_than_100.values(), bins=100)"
   ]
  },
  {
   "cell_type": "code",
   "execution_count": 11,
   "metadata": {},
   "outputs": [
    {
     "name": "stdout",
     "output_type": "stream",
     "text": [
      "progress: 0\r"
     ]
    },
    {
     "name": "stdout",
     "output_type": "stream",
     "text": [
      "progress: 10\r"
     ]
    },
    {
     "name": "stdout",
     "output_type": "stream",
     "text": [
      "progress: 20\r"
     ]
    },
    {
     "name": "stdout",
     "output_type": "stream",
     "text": [
      "progress: 30\r"
     ]
    },
    {
     "name": "stdout",
     "output_type": "stream",
     "text": [
      "progress: 40\r"
     ]
    },
    {
     "name": "stdout",
     "output_type": "stream",
     "text": [
      "progress: 50\r"
     ]
    },
    {
     "name": "stdout",
     "output_type": "stream",
     "text": [
      "progress: 60\r"
     ]
    },
    {
     "name": "stdout",
     "output_type": "stream",
     "text": [
      "progress: 70\r"
     ]
    },
    {
     "name": "stdout",
     "output_type": "stream",
     "text": [
      "progress: 80\r"
     ]
    },
    {
     "name": "stdout",
     "output_type": "stream",
     "text": [
      "progress: 90\r"
     ]
    },
    {
     "name": "stdout",
     "output_type": "stream",
     "text": [
      "progress: 100\r"
     ]
    },
    {
     "name": "stdout",
     "output_type": "stream",
     "text": [
      "progress: 100\n"
     ]
    }
   ],
   "source": [
    "app_cleaned = utils.remove_rare_labels(user_feature_embedding_app['appId'], dic_less_than_100, '0')"
   ]
  },
  {
   "cell_type": "code",
   "execution_count": 13,
   "metadata": {},
   "outputs": [
    {
     "name": "stdout",
     "output_type": "stream",
     "text": [
      "progress: 0\r"
     ]
    },
    {
     "name": "stdout",
     "output_type": "stream",
     "text": [
      "progress: 10\r"
     ]
    },
    {
     "name": "stdout",
     "output_type": "stream",
     "text": [
      "progress: 20\r"
     ]
    },
    {
     "name": "stdout",
     "output_type": "stream",
     "text": [
      "progress: 30\r"
     ]
    },
    {
     "name": "stdout",
     "output_type": "stream",
     "text": [
      "progress: 40\r"
     ]
    },
    {
     "name": "stdout",
     "output_type": "stream",
     "text": [
      "progress: 50\r"
     ]
    },
    {
     "name": "stdout",
     "output_type": "stream",
     "text": [
      "progress: 60\r"
     ]
    },
    {
     "name": "stdout",
     "output_type": "stream",
     "text": [
      "progress: 70\r"
     ]
    },
    {
     "name": "stdout",
     "output_type": "stream",
     "text": [
      "progress: 80\r"
     ]
    },
    {
     "name": "stdout",
     "output_type": "stream",
     "text": [
      "progress: 90\r"
     ]
    },
    {
     "name": "stdout",
     "output_type": "stream",
     "text": [
      "progress: 100\r"
     ]
    },
    {
     "name": "stdout",
     "output_type": "stream",
     "text": [
      "progress: 100\n"
     ]
    }
   ],
   "source": [
    "app_cleaned_collector = utils.count_element(app_cleaned)"
   ]
  },
  {
   "cell_type": "code",
   "execution_count": 15,
   "metadata": {
    "collapsed": true
   },
   "outputs": [
    {
     "name": "stdout",
     "output_type": "stream",
     "text": [
      "55700\n15374\n0\n15374\n"
     ]
    }
   ],
   "source": [
    "app_cleaned_count = Counter(app_cleaned_collector)\n",
    "utils.asset_clean_result(app_cleaned_count, 100, dic_less_than_100, dic_more_than_100)"
   ]
  },
  {
   "cell_type": "code",
   "execution_count": 17,
   "metadata": {
    "collapsed": true
   },
   "outputs": [
    {
     "name": "stdout",
     "output_type": "stream",
     "text": [
      "76215\n0\n"
     ]
    }
   ],
   "source": [
    "print(max(app_cleaned_collector))\n",
    "print(min(app_cleaned_collector))"
   ]
  },
  {
   "cell_type": "code",
   "execution_count": 19,
   "metadata": {},
   "outputs": [],
   "source": [
    "word2int = utils.create_lookup_tables(app_cleaned_collector)"
   ]
  },
  {
   "cell_type": "code",
   "execution_count": 20,
   "metadata": {},
   "outputs": [
    {
     "name": "stdout",
     "output_type": "stream",
     "text": [
      "15373\n0\n76215\n0\n"
     ]
    }
   ],
   "source": [
    "print(max(word2int.values()))\n",
    "print(min(word2int.values()))\n",
    "print(max(word2int.keys()))\n",
    "print(min(word2int.keys()))"
   ]
  },
  {
   "cell_type": "code",
   "execution_count": 22,
   "metadata": {},
   "outputs": [
    {
     "name": "stdout",
     "output_type": "stream",
     "text": [
      "15374\n15374\n"
     ]
    }
   ],
   "source": [
    "print(len(set(app_cleaned_collector)))\n",
    "print(len(word2int.keys()))"
   ]
  },
  {
   "cell_type": "code",
   "execution_count": 23,
   "metadata": {},
   "outputs": [
    {
     "name": "stdout",
     "output_type": "stream",
     "text": [
      "progress: 0\r"
     ]
    },
    {
     "name": "stdout",
     "output_type": "stream",
     "text": [
      "progress: 10\r"
     ]
    },
    {
     "name": "stdout",
     "output_type": "stream",
     "text": [
      "progress: 20\r"
     ]
    },
    {
     "name": "stdout",
     "output_type": "stream",
     "text": [
      "progress: 30\r"
     ]
    },
    {
     "name": "stdout",
     "output_type": "stream",
     "text": [
      "progress: 40\r"
     ]
    },
    {
     "name": "stdout",
     "output_type": "stream",
     "text": [
      "progress: 50\r"
     ]
    },
    {
     "name": "stdout",
     "output_type": "stream",
     "text": [
      "progress: 60\r"
     ]
    },
    {
     "name": "stdout",
     "output_type": "stream",
     "text": [
      "progress: 70\r"
     ]
    },
    {
     "name": "stdout",
     "output_type": "stream",
     "text": [
      "progress: 80\r"
     ]
    },
    {
     "name": "stdout",
     "output_type": "stream",
     "text": [
      "progress: 90\r"
     ]
    },
    {
     "name": "stdout",
     "output_type": "stream",
     "text": [
      "progress: 100\r"
     ]
    },
    {
     "name": "stdout",
     "output_type": "stream",
     "text": [
      "progress: 100\n"
     ]
    },
    {
     "data": {
      "text/plain": [
       "0    0\n1    0\n2    0\n3    0\n4    0\nName: appId, dtype: object"
      ]
     },
     "execution_count": 23,
     "metadata": {},
     "output_type": "execute_result"
    }
   ],
   "source": [
    "import sys\n",
    "app_mapped = app_cleaned.copy()\n",
    "length = len(app_mapped)\n",
    "step = length // 10\n",
    "for i, e in enumerate(app_mapped.fillna('0')):\n",
    "    if e.isdigit():\n",
    "        app_mapped[i] = str(word2int[int(e)])\n",
    "    else:\n",
    "        elements = list()\n",
    "        for ee in e.split('-'):\n",
    "            elements.append(str(word2int[int(ee)]))\n",
    "        formed = '-'\n",
    "        formed = formed.join(elements)\n",
    "        app_mapped[i] = formed\n",
    "    if i % step == 0:\n",
    "        sys.stdout.write('progress: ' + str(10 * i // step) + '\\r')\n",
    "        sys.stdout.flush()\n",
    "sys.stdout.write('progress: 100\\n')\n",
    "sys.stdout.flush()\n",
    "\n",
    "app_mapped.head()"
   ]
  },
  {
   "cell_type": "code",
   "execution_count": 31,
   "metadata": {},
   "outputs": [
    {
     "data": {
      "text/plain": [
       "'74681-70908-74041-71171-72602'"
      ]
     },
     "execution_count": 31,
     "metadata": {},
     "output_type": "execute_result"
    }
   ],
   "source": [
    "user_feature_embedding_app['appId'][11419942]"
   ]
  },
  {
   "cell_type": "code",
   "execution_count": 33,
   "metadata": {},
   "outputs": [
    {
     "name": "stdout",
     "output_type": "stream",
     "text": [
      "progress: 0\r"
     ]
    },
    {
     "name": "stdout",
     "output_type": "stream",
     "text": [
      "progress: 10\r"
     ]
    },
    {
     "name": "stdout",
     "output_type": "stream",
     "text": [
      "progress: 20\r"
     ]
    },
    {
     "name": "stdout",
     "output_type": "stream",
     "text": [
      "progress: 30\r"
     ]
    },
    {
     "name": "stdout",
     "output_type": "stream",
     "text": [
      "progress: 40\r"
     ]
    },
    {
     "name": "stdout",
     "output_type": "stream",
     "text": [
      "progress: 50\r"
     ]
    },
    {
     "name": "stdout",
     "output_type": "stream",
     "text": [
      "progress: 60\r"
     ]
    },
    {
     "name": "stdout",
     "output_type": "stream",
     "text": [
      "progress: 70\r"
     ]
    },
    {
     "name": "stdout",
     "output_type": "stream",
     "text": [
      "progress: 80\r"
     ]
    },
    {
     "name": "stdout",
     "output_type": "stream",
     "text": [
      "progress: 90\r"
     ]
    },
    {
     "name": "stdout",
     "output_type": "stream",
     "text": [
      "progress: 100\r"
     ]
    },
    {
     "name": "stdout",
     "output_type": "stream",
     "text": [
      "progress: 100\n"
     ]
    },
    {
     "data": {
      "text/plain": [
       "(array([1.9593718e+07, 3.7133330e+06, 2.3099510e+06, 1.5752340e+06,\n        1.1210500e+06, 8.4443800e+05, 6.8438100e+05, 5.8415300e+05,\n        5.1883200e+05, 4.5198700e+05, 3.9309000e+05, 3.4834000e+05,\n        3.1520100e+05, 2.8062300e+05, 2.5372400e+05, 2.3192400e+05,\n        2.1161900e+05, 1.9400000e+05, 1.7862600e+05, 1.6769800e+05,\n        1.5682400e+05, 1.4672000e+05, 1.3612300e+05, 1.2897700e+05,\n        1.2143100e+05, 1.1444600e+05, 1.0867900e+05, 1.0367600e+05,\n        9.8178000e+04, 9.2667000e+04, 8.8568000e+04, 8.3961000e+04,\n        7.9555000e+04, 7.5977000e+04, 7.3234000e+04, 7.0326000e+04,\n        6.7519000e+04, 6.4484000e+04, 6.2740000e+04, 6.0575000e+04,\n        5.7742000e+04, 5.6055000e+04, 5.4208000e+04, 5.2506000e+04,\n        5.0358000e+04, 4.9138000e+04, 4.7653000e+04, 4.6191000e+04,\n        4.4411000e+04, 4.3379000e+04, 4.2105000e+04, 4.0587000e+04,\n        3.9827000e+04, 3.8745000e+04, 3.7510000e+04, 3.6190000e+04,\n        3.5528000e+04, 3.4635000e+04, 3.3806000e+04, 3.2726000e+04,\n        3.2190000e+04, 3.1535000e+04, 3.0615000e+04, 3.0047000e+04,\n        2.9383000e+04, 2.8769000e+04, 2.7952000e+04, 2.7482000e+04,\n        2.6829000e+04, 2.6242000e+04, 2.5527000e+04, 2.5218000e+04,\n        2.4731000e+04, 2.4270000e+04, 2.3689000e+04, 2.3394000e+04,\n        2.2957000e+04, 2.2369000e+04, 2.2057000e+04, 2.1661000e+04,\n        2.1272000e+04, 2.0754000e+04, 2.0496000e+04, 2.0182000e+04,\n        1.9827000e+04, 1.9357000e+04, 1.9143000e+04, 1.8834000e+04,\n        1.8386000e+04, 1.8147000e+04, 1.7864000e+04, 1.7571000e+04,\n        1.7159000e+04, 1.6973000e+04, 1.6687000e+04, 1.6407000e+04,\n        1.6048000e+04, 1.5916000e+04, 1.5662000e+04, 1.5461000e+04]),\n array([    0.  ,   153.73,   307.46,   461.19,   614.92,   768.65,\n          922.38,  1076.11,  1229.84,  1383.57,  1537.3 ,  1691.03,\n         1844.76,  1998.49,  2152.22,  2305.95,  2459.68,  2613.41,\n         2767.14,  2920.87,  3074.6 ,  3228.33,  3382.06,  3535.79,\n         3689.52,  3843.25,  3996.98,  4150.71,  4304.44,  4458.17,\n         4611.9 ,  4765.63,  4919.36,  5073.09,  5226.82,  5380.55,\n         5534.28,  5688.01,  5841.74,  5995.47,  6149.2 ,  6302.93,\n         6456.66,  6610.39,  6764.12,  6917.85,  7071.58,  7225.31,\n         7379.04,  7532.77,  7686.5 ,  7840.23,  7993.96,  8147.69,\n         8301.42,  8455.15,  8608.88,  8762.61,  8916.34,  9070.07,\n         9223.8 ,  9377.53,  9531.26,  9684.99,  9838.72,  9992.45,\n        10146.18, 10299.91, 10453.64, 10607.37, 10761.1 , 10914.83,\n        11068.56, 11222.29, 11376.02, 11529.75, 11683.48, 11837.21,\n        11990.94, 12144.67, 12298.4 , 12452.13, 12605.86, 12759.59,\n        12913.32, 13067.05, 13220.78, 13374.51, 13528.24, 13681.97,\n        13835.7 , 13989.43, 14143.16, 14296.89, 14450.62, 14604.35,\n        14758.08, 14911.81, 15065.54, 15219.27, 15373.  ]),\n <a list of 100 Patch objects>)"
      ]
     },
     "execution_count": 33,
     "metadata": {},
     "output_type": "execute_result"
    },
    {
     "data": {
      "image/png": "[encoded data removed]",
      "text/plain": [
       "<Figure size 432x288 with 1 Axes>"
      ]
     },
     "metadata": {},
     "output_type": "display_data"
    }
   ],
   "source": [
    "app_mapped_collector = utils.count_element(app_mapped, '80000')\n",
    "plt.hist(app_mapped_collector, bins=100)"
   ]
  },
  {
   "cell_type": "code",
   "execution_count": 35,
   "metadata": {},
   "outputs": [
    {
     "name": "stdout",
     "output_type": "stream",
     "text": [
      "15373\n0\n"
     ]
    }
   ],
   "source": [
    "print(max(app_mapped_collector))\n",
    "print(min(app_mapped_collector))"
   ]
  },
  {
   "cell_type": "code",
   "execution_count": 36,
   "metadata": {},
   "outputs": [],
   "source": [
    "user_feature_embedding_app['appId'] = app_mapped\n",
    "user_feature_embedding_app.to_csv('data/user_feature_embedding_app_merged_mapped_cleaned.csv', columns=['appId'], index=False)"
   ]
  },
  {
   "cell_type": "heading",
   "metadata": {},
   "level": 1,
   "source": [
    "填充缺失值"
   ]
  },
  {
   "cell_type": "code",
   "execution_count": 1,
   "metadata": {},
   "outputs": [],
   "source": [
    "# 数据处理工具\n",
    "import pandas as pd\n",
    "import numpy as np\n",
    "import random as rnd\n",
    "from collections import Counter\n",
    "import utils\n",
    "\n",
    "# 可视化工具\n",
    "import seaborn as sns\n",
    "import matplotlib.pyplot as plt\n",
    "%matplotlib inline"
   ]
  },
  {
   "cell_type": "code",
   "execution_count": 2,
   "metadata": {},
   "outputs": [],
   "source": [
    "interest = pd.read_csv('data/user_feature_embedding_int_merged.csv')"
   ]
  },
  {
   "cell_type": "code",
   "execution_count": 5,
   "metadata": {},
   "outputs": [
    {
     "name": "stdout",
     "output_type": "stream",
     "text": [
      "progress: 0\r"
     ]
    },
    {
     "name": "stdout",
     "output_type": "stream",
     "text": [
      "progress: 10\r"
     ]
    },
    {
     "name": "stdout",
     "output_type": "stream",
     "text": [
      "progress: 20\r"
     ]
    },
    {
     "name": "stdout",
     "output_type": "stream",
     "text": [
      "progress: 30\r"
     ]
    },
    {
     "name": "stdout",
     "output_type": "stream",
     "text": [
      "progress: 40\r"
     ]
    },
    {
     "name": "stdout",
     "output_type": "stream",
     "text": [
      "progress: 50\r"
     ]
    },
    {
     "name": "stdout",
     "output_type": "stream",
     "text": [
      "progress: 60\r"
     ]
    },
    {
     "name": "stdout",
     "output_type": "stream",
     "text": [
      "progress: 70\r"
     ]
    },
    {
     "name": "stdout",
     "output_type": "stream",
     "text": [
      "progress: 80\r"
     ]
    },
    {
     "name": "stdout",
     "output_type": "stream",
     "text": [
      "progress: 90\r"
     ]
    },
    {
     "name": "stdout",
     "output_type": "stream",
     "text": [
      "progress: 100\r"
     ]
    },
    {
     "name": "stdout",
     "output_type": "stream",
     "text": [
      "progress: 100\n"
     ]
    }
   ],
   "source": [
    "int_collector = utils.count_element(interest['interest'].fillna('10000'))\n",
    "int_counter = Counter(int_collector)"
   ]
  },
  {
   "cell_type": "code",
   "execution_count": 14,
   "metadata": {},
   "outputs": [
    {
     "data": {
      "text/plain": [
       "dict_keys([1, 2, 3, 4, 5, 6, 7, 8, 9, 10, 11, 12, 13, 14, 15, 16, 17, 18, 19, 20, 21, 22, 23, 24, 25, 26, 27, 28, 29, 30, 31, 32, 33, 34, 35, 36, 37, 38, 39, 40, 41, 42, 43, 44, 45, 46, 47, 48, 49, 50, 51, 52, 53, 54, 55, 56, 57, 58, 59, 60, 61, 62, 63, 64, 65, 66, 67, 68, 69, 70, 71, 72, 73, 74, 75, 76, 77, 78, 79, 80, 81, 82, 83, 84, 85, 86, 87, 88, 89, 90, 91, 92, 93, 94, 95, 96, 97, 98, 99, 100, 101, 102, 103, 104, 105, 106, 107, 108, 109, 110, 111, 112, 113, 114, 115, 116, 117, 118, 119, 120, 121, 122, 201, 202, 203, 204, 205, 206, 207, 208, 209, 210, 211, 212, 213, 214, 215, 216, 217, 218, 219, 220, 221, 222, 223, 224, 225, 226, 227, 228, 229, 230, 231, 232, 233, 235, 236, 237, 238, 239, 240, 241, 242, 243, 244, 245, 246, 247, 248, 249, 250, 251, 252, 253, 254, 255, 256, 257, 258, 259, 260, 261, 262, 263, 264, 265, 266, 267, 268, 269, 270, 271, 272, 273, 274, 275, 276, 278, 279, 280, 281, 282, 301, 302, 303, 304, 305, 306, 307, 308, 309, 310, 401, 402, 403, 404, 405, 406, 407, 408, 409, 410, 501, 502, 503, 504, 505, 506, 507, 508, 509, 510, 511, 512, 513, 514, 515, 516, 517, 518, 519, 520, 521, 522, 523, 524, 525, 526, 527, 528, 529, 530, 531, 532, 533, 534, 535, 536, 537, 538, 539, 540, 541, 542, 543, 544, 545, 546, 547, 548, 549, 550, 551, 552, 553, 554, 555, 556, 557, 558, 559, 560, 561, 562, 563, 564, 565, 566, 567, 568, 569, 570, 571, 572, 573, 574, 575, 576, 577, 578, 579, 580, 581, 582, 583, 584, 585, 586, 587, 588, 589, 590, 591, 592, 593, 594, 595, 596, 597, 598, 599, 600, 601, 602, 603, 604, 605, 606, 607, 608, 609, 610, 611, 612, 613, 614, 615, 616, 617, 618, 619, 620, 621, 622, 623, 624, 625, 626, 627, 628, 629, 630, 631, 632, 633, 634, 635, 636, 10000])"
      ]
     },
     "execution_count": 14,
     "metadata": {},
     "output_type": "execute_result"
    }
   ],
   "source": [
    "int_counter.keys()"
   ]
  },
  {
   "cell_type": "code",
   "execution_count": 17,
   "metadata": {},
   "outputs": [],
   "source": [
    "interest.fillna('0', inplace=True)"
   ]
  },
  {
   "cell_type": "code",
   "execution_count": 19,
   "metadata": {},
   "outputs": [
    {
     "name": "stdout",
     "output_type": "stream",
     "text": [
      "progress: 0\r"
     ]
    },
    {
     "name": "stdout",
     "output_type": "stream",
     "text": [
      "progress: 10\r"
     ]
    },
    {
     "name": "stdout",
     "output_type": "stream",
     "text": [
      "progress: 20\r"
     ]
    },
    {
     "name": "stdout",
     "output_type": "stream",
     "text": [
      "progress: 30\r"
     ]
    },
    {
     "name": "stdout",
     "output_type": "stream",
     "text": [
      "progress: 40\r"
     ]
    },
    {
     "name": "stdout",
     "output_type": "stream",
     "text": [
      "progress: 50\r"
     ]
    },
    {
     "name": "stdout",
     "output_type": "stream",
     "text": [
      "progress: 60\r"
     ]
    },
    {
     "name": "stdout",
     "output_type": "stream",
     "text": [
      "progress: 70\r"
     ]
    },
    {
     "name": "stdout",
     "output_type": "stream",
     "text": [
      "progress: 80\r"
     ]
    },
    {
     "name": "stdout",
     "output_type": "stream",
     "text": [
      "progress: 90\r"
     ]
    },
    {
     "name": "stdout",
     "output_type": "stream",
     "text": [
      "progress: 100\r"
     ]
    },
    {
     "name": "stdout",
     "output_type": "stream",
     "text": [
      "progress: 100\n"
     ]
    }
   ],
   "source": [
    "int_collector_fill0 = utils.count_element(interest['interest'])\n",
    "int_counter_fill0 = Counter(int_collector_fill0)"
   ]
  },
  {
   "cell_type": "code",
   "execution_count": 20,
   "metadata": {},
   "outputs": [
    {
     "data": {
      "text/plain": [
       "dict_keys([0, 1, 2, 3, 4, 5, 6, 7, 8, 9, 10, 11, 12, 13, 14, 15, 16, 17, 18, 19, 20, 21, 22, 23, 24, 25, 26, 27, 28, 29, 30, 31, 32, 33, 34, 35, 36, 37, 38, 39, 40, 41, 42, 43, 44, 45, 46, 47, 48, 49, 50, 51, 52, 53, 54, 55, 56, 57, 58, 59, 60, 61, 62, 63, 64, 65, 66, 67, 68, 69, 70, 71, 72, 73, 74, 75, 76, 77, 78, 79, 80, 81, 82, 83, 84, 85, 86, 87, 88, 89, 90, 91, 92, 93, 94, 95, 96, 97, 98, 99, 100, 101, 102, 103, 104, 105, 106, 107, 108, 109, 110, 111, 112, 113, 114, 115, 116, 117, 118, 119, 120, 121, 122, 201, 202, 203, 204, 205, 206, 207, 208, 209, 210, 211, 212, 213, 214, 215, 216, 217, 218, 219, 220, 221, 222, 223, 224, 225, 226, 227, 228, 229, 230, 231, 232, 233, 235, 236, 237, 238, 239, 240, 241, 242, 243, 244, 245, 246, 247, 248, 249, 250, 251, 252, 253, 254, 255, 256, 257, 258, 259, 260, 261, 262, 263, 264, 265, 266, 267, 268, 269, 270, 271, 272, 273, 274, 275, 276, 278, 279, 280, 281, 282, 301, 302, 303, 304, 305, 306, 307, 308, 309, 310, 401, 402, 403, 404, 405, 406, 407, 408, 409, 410, 501, 502, 503, 504, 505, 506, 507, 508, 509, 510, 511, 512, 513, 514, 515, 516, 517, 518, 519, 520, 521, 522, 523, 524, 525, 526, 527, 528, 529, 530, 531, 532, 533, 534, 535, 536, 537, 538, 539, 540, 541, 542, 543, 544, 545, 546, 547, 548, 549, 550, 551, 552, 553, 554, 555, 556, 557, 558, 559, 560, 561, 562, 563, 564, 565, 566, 567, 568, 569, 570, 571, 572, 573, 574, 575, 576, 577, 578, 579, 580, 581, 582, 583, 584, 585, 586, 587, 588, 589, 590, 591, 592, 593, 594, 595, 596, 597, 598, 599, 600, 601, 602, 603, 604, 605, 606, 607, 608, 609, 610, 611, 612, 613, 614, 615, 616, 617, 618, 619, 620, 621, 622, 623, 624, 625, 626, 627, 628, 629, 630, 631, 632, 633, 634, 635, 636])"
      ]
     },
     "execution_count": 20,
     "metadata": {},
     "output_type": "execute_result"
    }
   ],
   "source": [
    "int_counter_fill0.keys()"
   ]
  },
  {
   "cell_type": "code",
   "execution_count": 22,
   "metadata": {},
   "outputs": [],
   "source": [
    "interest.to_csv('data/user_feature_embedding_int_merged.csv', columns=['interest'], index=False)"
   ]
  },
  {
   "cell_type": "code",
   "execution_count": 9,
   "metadata": {},
   "outputs": [],
   "source": [
    "topic = pd.read_csv('data/user_feature_embedding_to_merged.csv')"
   ]
  },
  {
   "cell_type": "code",
   "execution_count": 11,
   "metadata": {},
   "outputs": [
    {
     "name": "stdout",
     "output_type": "stream",
     "text": [
      "progress: 0\r"
     ]
    },
    {
     "name": "stdout",
     "output_type": "stream",
     "text": [
      "progress: 10\r"
     ]
    },
    {
     "name": "stdout",
     "output_type": "stream",
     "text": [
      "progress: 20\r"
     ]
    },
    {
     "name": "stdout",
     "output_type": "stream",
     "text": [
      "progress: 30\r"
     ]
    },
    {
     "name": "stdout",
     "output_type": "stream",
     "text": [
      "progress: 40\r"
     ]
    },
    {
     "name": "stdout",
     "output_type": "stream",
     "text": [
      "progress: 50\r"
     ]
    },
    {
     "name": "stdout",
     "output_type": "stream",
     "text": [
      "progress: 60\r"
     ]
    },
    {
     "name": "stdout",
     "output_type": "stream",
     "text": [
      "progress: 70\r"
     ]
    },
    {
     "name": "stdout",
     "output_type": "stream",
     "text": [
      "progress: 80\r"
     ]
    },
    {
     "name": "stdout",
     "output_type": "stream",
     "text": [
      "progress: 90\r"
     ]
    },
    {
     "name": "stdout",
     "output_type": "stream",
     "text": [
      "progress: 100\r"
     ]
    },
    {
     "name": "stdout",
     "output_type": "stream",
     "text": [
      "progress: 100\n"
     ]
    }
   ],
   "source": [
    "to_collector = utils.count_element(topic['topic'].fillna('40000'))\n",
    "to_counter = Counter(to_collector)"
   ]
  },
  {
   "cell_type": "code",
   "execution_count": 29,
   "metadata": {},
   "outputs": [],
   "source": [
    "to_sorted = sorted(set(to_collector))"
   ]
  },
  {
   "cell_type": "code",
   "execution_count": 33,
   "metadata": {},
   "outputs": [
    {
     "name": "stdout",
     "output_type": "stream",
     "text": [
      "[0, 1, 2, 3, 4]\n[29459, 29460, 29461, 29463, 40000]\n"
     ]
    }
   ],
   "source": [
    "print(to_sorted[:5])\n",
    "print(to_sorted[-5:])"
   ]
  },
  {
   "cell_type": "code",
   "execution_count": 35,
   "metadata": {},
   "outputs": [],
   "source": [
    "topic.fillna('30000', inplace=True)"
   ]
  },
  {
   "cell_type": "code",
   "execution_count": 36,
   "metadata": {},
   "outputs": [],
   "source": [
    "topic.to_csv('data/user_feature_embedding_to_merged.csv', columns=['topic'], index=False)"
   ]
  },
  {
   "cell_type": "heading",
   "metadata": {},
   "level": 1,
   "source": [
    "合并"
   ]
  },
  {
   "cell_type": "code",
   "execution_count": 4,
   "metadata": {},
   "outputs": [],
   "source": [
    "interest = pd.read_csv('data/user_feature_embedding_int_merged.csv')\n",
    "kw = pd.read_csv('data/user_feature_embedding_kw_merged_mapped_cleaned.csv')\n",
    "topic = pd.read_csv('data/user_feature_embedding_to_merged.csv')\n",
    "appId = pd.read_csv('data/user_feature_embedding_app_merged_mapped_cleaned.csv')"
   ]
  },
  {
   "cell_type": "code",
   "execution_count": 11,
   "metadata": {},
   "outputs": [],
   "source": [
    "embedding_ori = pd.read_csv('data/user_feature_all.csv')"
   ]
  },
  {
   "cell_type": "code",
   "execution_count": 14,
   "metadata": {},
   "outputs": [],
   "source": [
    "column_embedding = ['uid', 'interest1', 'interest2', 'interest3', 'interest4', 'interest5',\n",
    "                    'kw1', 'kw2', 'kw3',\n",
    "                    'topic1', 'topic2', 'topic3',\n",
    "                    'appIdInstall', 'appIdAction']"
   ]
  },
  {
   "cell_type": "code",
   "execution_count": 20,
   "metadata": {},
   "outputs": [
    {
     "data": {
      "text/html": [
       "<div>\n",
       "<style scoped>\n",
       "    .dataframe tbody tr th:only-of-type {\n",
       "        vertical-align: middle;\n",
       "    }\n",
       "\n",
       "    .dataframe tbody tr th {\n",
       "        vertical-align: top;\n",
       "    }\n",
       "\n",
       "    .dataframe thead th {\n",
       "        text-align: right;\n",
       "    }\n",
       "</style>\n",
       "<table border=\"1\" class=\"dataframe\">\n",
       "  <thead>\n",
       "    <tr style=\"text-align: right;\">\n",
       "      <th></th>\n",
       "      <th>interest</th>\n",
       "      <th>kw</th>\n",
       "      <th>topic</th>\n",
       "      <th>appId</th>\n",
       "    </tr>\n",
       "  </thead>\n",
       "  <tbody>\n",
       "    <tr>\n",
       "      <th>0</th>\n",
       "      <td>93-70-77-86-109-47-75-69-45-8-29-49-83-6-46-36...</td>\n",
       "      <td>2643-7395-1625-11-1-5-3251-4343-2845</td>\n",
       "      <td>9826-105-8525-5488-7281-19708-15553-16745-1747...</td>\n",
       "      <td>0</td>\n",
       "    </tr>\n",
       "    <tr>\n",
       "      <th>1</th>\n",
       "      <td>75-29-233</td>\n",
       "      <td>12-247-77-7736-50-897-1754-877-125</td>\n",
       "      <td>4391-9140-5669-1348-4388-19401-17724-11380-188...</td>\n",
       "      <td>0</td>\n",
       "    </tr>\n",
       "    <tr>\n",
       "      <th>2</th>\n",
       "      <td>70-12-28-106-59-49-41-6-42-115-35-116-36-11-96...</td>\n",
       "      <td>6951-471-2035-14-69-45-43-60</td>\n",
       "      <td>1502-5488-9826-2187-8088-15005-19154-12756-156...</td>\n",
       "      <td>0</td>\n",
       "    </tr>\n",
       "    <tr>\n",
       "      <th>3</th>\n",
       "      <td>93-70-77-47-76-75-69-29-59-49-122-42-46-23-17-...</td>\n",
       "      <td>113-184-372-492-1478-555-531-3458-3962-600</td>\n",
       "      <td>1619-7342-3064-9213-8525-10810-12438-15659-118...</td>\n",
       "      <td>0</td>\n",
       "    </tr>\n",
       "    <tr>\n",
       "      <th>4</th>\n",
       "      <td>75-29-49-122-36-11-631-616-513-508-506-632-542...</td>\n",
       "      <td>11-13232-544-1734-154-3234-339-400-43</td>\n",
       "      <td>477-9826-5808-644-2747-15483-12199-15424-11511...</td>\n",
       "      <td>0</td>\n",
       "    </tr>\n",
       "  </tbody>\n",
       "</table>\n",
       "</div>"
      ],
      "text/plain": [
       "<div>\n",
       "<style scoped>\n",
       "    .dataframe tbody tr th:only-of-type {\n",
       "        vertical-align: middle;\n",
       "    }\n",
       "\n",
       "    .dataframe tbody tr th {\n",
       "        vertical-align: top;\n",
       "    }\n",
       "\n",
       "    .dataframe thead th {\n",
       "        text-align: right;\n",
       "    }\n",
       "</style>\n",
       "<table border=\"1\" class=\"dataframe\">\n",
       "  <thead>\n",
       "    <tr style=\"text-align: right;\">\n",
       "      <th></th>\n",
       "      <th>interest</th>\n",
       "      <th>kw</th>\n",
       "      <th>topic</th>\n",
       "      <th>appId</th>\n",
       "    </tr>\n",
       "  </thead>\n",
       "  <tbody>\n",
       "    <tr>\n",
       "      <th>0</th>\n",
       "      <td>93-70-77-86-109-47-75-69-45-8-29-49-83-6-46-36...</td>\n",
       "      <td>2643-7395-1625-11-1-5-3251-4343-2845</td>\n",
       "      <td>9826-105-8525-5488-7281-19708-15553-16745-1747...</td>\n",
       "      <td>0</td>\n",
       "    </tr>\n",
       "    <tr>\n",
       "      <th>1</th>\n",
       "      <td>75-29-233</td>\n",
       "      <td>12-247-77-7736-50-897-1754-877-125</td>\n",
       "      <td>4391-9140-5669-1348-4388-19401-17724-11380-188...</td>\n",
       "      <td>0</td>\n",
       "    </tr>\n",
       "    <tr>\n",
       "      <th>2</th>\n",
       "      <td>70-12-28-106-59-49-41-6-42-115-35-116-36-11-96...</td>\n",
       "      <td>6951-471-2035-14-69-45-43-60</td>\n",
       "      <td>1502-5488-9826-2187-8088-15005-19154-12756-156...</td>\n",
       "      <td>0</td>\n",
       "    </tr>\n",
       "    <tr>\n",
       "      <th>3</th>\n",
       "      <td>93-70-77-47-76-75-69-29-59-49-122-42-46-23-17-...</td>\n",
       "      <td>113-184-372-492-1478-555-531-3458-3962-600</td>\n",
       "      <td>1619-7342-3064-9213-8525-10810-12438-15659-118...</td>\n",
       "      <td>0</td>\n",
       "    </tr>\n",
       "    <tr>\n",
       "      <th>4</th>\n",
       "      <td>75-29-49-122-36-11-631-616-513-508-506-632-542...</td>\n",
       "      <td>11-13232-544-1734-154-3234-339-400-43</td>\n",
       "      <td>477-9826-5808-644-2747-15483-12199-15424-11511...</td>\n",
       "      <td>0</td>\n",
       "    </tr>\n",
       "  </tbody>\n",
       "</table>\n",
       "</div>"
      ]
     },
     "execution_count": 20,
     "metadata": {},
     "output_type": "execute_result"
    }
   ],
   "source": [
    "intkw = pd.merge(interest, kw, left_index=True, right_index=True)\n",
    "intkwto = pd.merge(intkw, topic, left_index=True, right_index=True)\n",
    "embedding_final = pd.merge(intkwto, appId, left_index=True, right_index=True)\n",
    "embedding_final.head()"
   ]
  },
  {
   "cell_type": "code",
   "execution_count": 23,
   "metadata": {},
   "outputs": [],
   "source": [
    "embedding_final.to_csv('data/user_feature_embedding_final.csv', columns=['interest', 'kw', 'topic', 'appId'], index=False)"
   ]
  },
  {
   "cell_type": "code",
   "execution_count": null,
   "metadata": {},
   "outputs": [],
   "source": []
  },
  {
   "cell_type": "heading",
   "metadata": {},
   "level": 1,
   "source": [
    "读入供参考"
   ]
  },
  {
   "cell_type": "code",
   "execution_count": 2,
   "metadata": {},
   "outputs": [],
   "source": [
    "column_base = ['uid', 'age', 'gender', 'marriageStatus', 'education', 'consumptionAbility',\n",
    "               'LBS', 'ct', 'os', 'carrier', 'house']\n",
    "column_embedding = ['uid', 'interest1', 'interest2', 'interest3', 'interest4', 'interest5',\n",
    "                    'kw1', 'kw2', 'kw3',\n",
    "                    'topic1', 'topic2', 'topic3',\n",
    "                    'appIdInstall', 'appIdAction']\n",
    "column_embedding_merged = ['interest', 'kw', 'topic', 'appId']"
   ]
  },
  {
   "cell_type": "code",
   "execution_count": 3,
   "metadata": {},
   "outputs": [],
   "source": [
    "embedding_final = pd.read_csv('data/user_feature_embedding_final.csv')\n",
    "base = pd.read_csv('data/user_feature_base_normalized.csv')\n",
    "user_feature_final = pd.merge(base, embedding_final, left_index=True, right_index=True)\n",
    "user_feature_final.to_csv('data/user_feature_final.csv', columns=column_base+column_embedding_merged, index=False)"
   ]
  },
  {
   "cell_type": "code",
   "execution_count": null,
   "metadata": {},
   "outputs": [],
   "source": []
  },
  {
   "cell_type": "code",
   "execution_count": 4,
   "metadata": {},
   "outputs": [
    {
     "name": "stdout",
     "output_type": "stream",
     "text": [
      "progress: 0\r"
     ]
    },
    {
     "name": "stdout",
     "output_type": "stream",
     "text": [
      "progress: 10\r"
     ]
    },
    {
     "name": "stdout",
     "output_type": "stream",
     "text": [
      "progress: 20\r"
     ]
    },
    {
     "name": "stdout",
     "output_type": "stream",
     "text": [
      "progress: 30\r"
     ]
    },
    {
     "name": "stdout",
     "output_type": "stream",
     "text": [
      "progress: 40\r"
     ]
    },
    {
     "name": "stdout",
     "output_type": "stream",
     "text": [
      "progress: 50\r"
     ]
    },
    {
     "name": "stdout",
     "output_type": "stream",
     "text": [
      "progress: 60\r"
     ]
    },
    {
     "name": "stdout",
     "output_type": "stream",
     "text": [
      "progress: 70\r"
     ]
    },
    {
     "name": "stdout",
     "output_type": "stream",
     "text": [
      "progress: 80\r"
     ]
    },
    {
     "name": "stdout",
     "output_type": "stream",
     "text": [
      "progress: 90\r"
     ]
    },
    {
     "name": "stdout",
     "output_type": "stream",
     "text": [
      "progress: 100\r"
     ]
    }
   ],
   "source": [
    "int_collector = utils.count_element(user_feature_final['interest'])\n",
    "print(max(int_collector))\n",
    "print(min(int_collector))"
   ]
  },
  {
   "cell_type": "code",
   "execution_count": 5,
   "metadata": {},
   "outputs": [
    {
     "name": "stdout",
     "output_type": "stream",
     "text": [
      "progress: 0\r"
     ]
    },
    {
     "name": "stdout",
     "output_type": "stream",
     "text": [
      "progress: 10\r"
     ]
    },
    {
     "name": "stdout",
     "output_type": "stream",
     "text": [
      "progress: 20\r"
     ]
    },
    {
     "name": "stdout",
     "output_type": "stream",
     "text": [
      "progress: 30\r"
     ]
    },
    {
     "name": "stdout",
     "output_type": "stream",
     "text": [
      "progress: 40\r"
     ]
    },
    {
     "name": "stdout",
     "output_type": "stream",
     "text": [
      "progress: 50\r"
     ]
    },
    {
     "name": "stdout",
     "output_type": "stream",
     "text": [
      "progress: 60\r"
     ]
    },
    {
     "name": "stdout",
     "output_type": "stream",
     "text": [
      "progress: 70\r"
     ]
    },
    {
     "name": "stdout",
     "output_type": "stream",
     "text": [
      "progress: 80\r"
     ]
    },
    {
     "name": "stdout",
     "output_type": "stream",
     "text": [
      "progress: 90\r"
     ]
    },
    {
     "name": "stdout",
     "output_type": "stream",
     "text": [
      "progress: 100\r"
     ]
    },
    {
     "name": "stdout",
     "output_type": "stream",
     "text": [
      "progress: 100\n"
     ]
    },
    {
     "name": "stdout",
     "output_type": "stream",
     "text": [
      "16655\n0\n"
     ]
    }
   ],
   "source": [
    "kw_collector = utils.count_element(user_feature_final['kw'])\n",
    "print(max(kw_collector))\n",
    "print(min(kw_collector))"
   ]
  },
  {
   "cell_type": "code",
   "execution_count": 6,
   "metadata": {},
   "outputs": [
    {
     "name": "stdout",
     "output_type": "stream",
     "text": [
      "progress: 0\r"
     ]
    },
    {
     "name": "stdout",
     "output_type": "stream",
     "text": [
      "progress: 10\r"
     ]
    },
    {
     "name": "stdout",
     "output_type": "stream",
     "text": [
      "progress: 20\r"
     ]
    },
    {
     "name": "stdout",
     "output_type": "stream",
     "text": [
      "progress: 30\r"
     ]
    },
    {
     "name": "stdout",
     "output_type": "stream",
     "text": [
      "progress: 40\r"
     ]
    },
    {
     "name": "stdout",
     "output_type": "stream",
     "text": [
      "progress: 50\r"
     ]
    },
    {
     "name": "stdout",
     "output_type": "stream",
     "text": [
      "progress: 60\r"
     ]
    },
    {
     "name": "stdout",
     "output_type": "stream",
     "text": [
      "progress: 70\r"
     ]
    },
    {
     "name": "stdout",
     "output_type": "stream",
     "text": [
      "progress: 80\r"
     ]
    },
    {
     "name": "stdout",
     "output_type": "stream",
     "text": [
      "progress: 90\r"
     ]
    },
    {
     "name": "stdout",
     "output_type": "stream",
     "text": [
      "progress: 100\r"
     ]
    },
    {
     "name": "stdout",
     "output_type": "stream",
     "text": [
      "progress: 100\n"
     ]
    },
    {
     "name": "stdout",
     "output_type": "stream",
     "text": [
      "30000\n0\n"
     ]
    }
   ],
   "source": [
    "topic_collector = utils.count_element(user_feature_final['topic'])\n",
    "print(max(topic_collector))\n",
    "print(min(topic_collector))"
   ]
  },
  {
   "cell_type": "code",
   "execution_count": null,
   "metadata": {},
   "outputs": [],
   "source": [
    "appId_collector = utils.count_element(user_feature_final['appId'])\n",
    "print(max(appId_collector))\n",
    "print(min(appId_collector))"
   ]
  },
  {
   "cell_type": "code",
   "execution_count": null,
   "metadata": {},
   "outputs": [],
   "source": []
  }
 ],
 "metadata": {
  "kernelspec": {
   "display_name": "Python 2",
   "language": "python",
   "name": "python2"
  },
  "language_info": {
   "codemirror_mode": {
    "name": "ipython",
    "version": 2
   },
   "file_extension": ".py",
   "mimetype": "text/x-python",
   "name": "python",
   "nbconvert_exporter": "python",
   "pygments_lexer": "ipython2",
   "version": "2.7.6"
  }
 },
 "nbformat": 4,
 "nbformat_minor": 0
}
