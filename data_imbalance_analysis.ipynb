{
 "cells": [
  {
   "cell_type": "code",
   "execution_count": 1,
   "metadata": {
    "collapsed": true
   },
   "outputs": [],
   "source": [
    "import pandas as pd\n",
    "from sklearn.metrics import roc_curve, auc\n",
    "from sklearn.model_selection import train_test_split \n",
    "from collections import Counter\n",
    "import matplotlib.pyplot as plt\n",
    "import utils"
   ]
  },
  {
   "cell_type": "code",
   "execution_count": 2,
   "metadata": {},
   "outputs": [],
   "source": [
    "train = pd.read_csv('data/train.csv')\n",
    "test = pd.read_csv('data/test.csv')"
   ]
  },
  {
   "cell_type": "code",
   "execution_count": 3,
   "metadata": {},
   "outputs": [
    {
     "name": "stdout",
     "output_type": "stream",
     "text": [
      "train_num:  8798814\n"
     ]
    },
    {
     "name": "stdout",
     "output_type": "stream",
     "text": [
      "train_user_num 7883466\n"
     ]
    }
   ],
   "source": [
    "print('train_num: ', len(train))\n",
    "print('train_user_num', len(train['uid'].drop_duplicates()))"
   ]
  },
  {
   "cell_type": "code",
   "execution_count": 4,
   "metadata": {},
   "outputs": [
    {
     "name": "stdout",
     "output_type": "stream",
     "text": [
      "pos: 0.047956576875019745\nneg: 0.9520434231249802\n"
     ]
    }
   ],
   "source": [
    "utils.cal_pos_rate(train)"
   ]
  },
  {
   "cell_type": "code",
   "execution_count": 5,
   "metadata": {},
   "outputs": [],
   "source": [
    "train_ads = train['aid'].drop_duplicates()\n",
    "test_ads = test['aid'].drop_duplicates()"
   ]
  },
  {
   "cell_type": "code",
   "execution_count": 6,
   "metadata": {},
   "outputs": [
    {
     "data": {
      "text/plain": [
       "count     173.000000\nmean     1140.364162\nstd       658.957025\nmin         6.000000\n25%       562.000000\n50%      1171.000000\n75%      1728.000000\nmax      2216.000000\nName: aid, dtype: float64"
      ]
     },
     "execution_count": 6,
     "metadata": {},
     "output_type": "execute_result"
    }
   ],
   "source": [
    "train_ads.describe()"
   ]
  },
  {
   "cell_type": "code",
   "execution_count": 7,
   "metadata": {},
   "outputs": [
    {
     "data": {
      "text/plain": [
       "count     173.000000\nmean     1140.364162\nstd       658.957025\nmin         6.000000\n25%       562.000000\n50%      1171.000000\n75%      1728.000000\nmax      2216.000000\nName: aid, dtype: float64"
      ]
     },
     "execution_count": 7,
     "metadata": {},
     "output_type": "execute_result"
    }
   ],
   "source": [
    "test_ads.describe()"
   ]
  },
  {
   "cell_type": "code",
   "execution_count": 13,
   "metadata": {},
   "outputs": [
    {
     "data": {
      "text/plain": [
       "(array([1126301., 1015137.,  476445., 1076896.,  723164.,  997862.,\n        1249499.,  822427.,  745254.,  565829.]),\n array([   6.,  227.,  448.,  669.,  890., 1111., 1332., 1553., 1774.,\n        1995., 2216.]),\n <a list of 10 Patch objects>)"
      ]
     },
     "execution_count": 13,
     "metadata": {},
     "output_type": "execute_result"
    },
    {
     "data": {
      "image/png": "[encoded data removed]",
      "text/plain": [
       "<Figure size 432x288 with 1 Axes>"
      ]
     },
     "metadata": {},
     "output_type": "display_data"
    }
   ],
   "source": [
    "plt.hist(train['aid'])"
   ]
  },
  {
   "cell_type": "code",
   "execution_count": 14,
   "metadata": {},
   "outputs": [
    {
     "data": {
      "text/plain": [
       "(array([289533., 261203., 122914., 278013., 186539., 256256., 321670.,\n        211954., 192446., 145461.]),\n array([   6.,  227.,  448.,  669.,  890., 1111., 1332., 1553., 1774.,\n        1995., 2216.]),\n <a list of 10 Patch objects>)"
      ]
     },
     "execution_count": 14,
     "metadata": {},
     "output_type": "execute_result"
    },
    {
     "data": {
      "image/png": "[encoded data removed]",
      "text/plain": [
       "<Figure size 432x288 with 1 Axes>"
      ]
     },
     "metadata": {},
     "output_type": "display_data"
    }
   ],
   "source": [
    "plt.hist(test['aid'])"
   ]
  },
  {
   "cell_type": "heading",
   "metadata": {},
   "level": 1,
   "source": [
    "训练集和测试集的广告分布是一样的"
   ]
  },
  {
   "cell_type": "code",
   "execution_count": 8,
   "metadata": {},
   "outputs": [],
   "source": [
    "pos_rates = utils.get_pos_rate_by_aid(train, train_ads)"
   ]
  },
  {
   "cell_type": "code",
   "execution_count": 9,
   "metadata": {},
   "outputs": [
    {
     "data": {
      "text/plain": [
       "(array([ 7., 20., 55., 53., 24.,  8.,  4.,  1.,  0.,  1.]),\n array([0.04443102, 0.0454965 , 0.04656199, 0.04762747, 0.04869295,\n        0.04975843, 0.05082392, 0.0518894 , 0.05295488, 0.05402037,\n        0.05508585]),\n <a list of 10 Patch objects>)"
      ]
     },
     "execution_count": 9,
     "metadata": {},
     "output_type": "execute_result"
    },
    {
     "data": {
      "image/png": "[encoded data removed]",
      "text/plain": [
       "<Figure size 432x288 with 1 Axes>"
      ]
     },
     "metadata": {},
     "output_type": "display_data"
    }
   ],
   "source": [
    "plt.hist(pos_rates)"
   ]
  },
  {
   "cell_type": "code",
   "execution_count": 10,
   "metadata": {},
   "outputs": [
    {
     "data": {
      "text/plain": [
       "count    173.000000\nmean       0.047784\nstd        0.001441\nmin        0.044431\n25%        0.046988\n50%        0.047707\n75%        0.048488\nmax        0.055086\ndtype: float64"
      ]
     },
     "execution_count": 10,
     "metadata": {},
     "output_type": "execute_result"
    }
   ],
   "source": [
    "pd.Series(pos_rates).describe()"
   ]
  },
  {
   "cell_type": "heading",
   "metadata": {},
   "level": 1,
   "source": [
    "从目前来看，训练集和测试集都包含173类广告，训练集各广告的正样本比率都非常接近，可从train中采样出一个分布类似的验证集用于计算auc"
   ]
  },
  {
   "cell_type": "code",
   "execution_count": 11,
   "metadata": {},
   "outputs": [],
   "source": [
    "train_ad_user_all_shuffle = pd.read_csv('data/train_ad_user_all_shuffle.csv')\n",
    "train_train, train_valid = train_test_split(train_ad_user_all_shuffle, test_size=0.2)"
   ]
  },
  {
   "cell_type": "code",
   "execution_count": 12,
   "metadata": {},
   "outputs": [
    {
     "name": "stdout",
     "output_type": "stream",
     "text": [
      "pos: 0.04798246240864003\nneg: 0.95201753759136\n"
     ]
    }
   ],
   "source": [
    "utils.cal_pos_rate(train_train)"
   ]
  },
  {
   "cell_type": "code",
   "execution_count": 13,
   "metadata": {},
   "outputs": [
    {
     "name": "stdout",
     "output_type": "stream",
     "text": [
      "pos: 0.04785303475524829\nneg: 0.9521469652447517\n"
     ]
    }
   ],
   "source": [
    "utils.cal_pos_rate(train_valid)"
   ]
  },
  {
   "cell_type": "code",
   "execution_count": 14,
   "metadata": {},
   "outputs": [
    {
     "data": {
      "text/plain": [
       "(array([ 901151.,  812245.,  381731.,  861004.,  578856.,  798991.,\n        1000082.,  656827.,  595776.,  452388.]),\n array([   6.,  227.,  448.,  669.,  890., 1111., 1332., 1553., 1774.,\n        1995., 2216.]),\n <a list of 10 Patch objects>)"
      ]
     },
     "execution_count": 14,
     "metadata": {},
     "output_type": "execute_result"
    },
    {
     "data": {
      "image/png": "[encoded data removed]",
      "text/plain": [
       "<Figure size 432x288 with 1 Axes>"
      ]
     },
     "metadata": {},
     "output_type": "display_data"
    }
   ],
   "source": [
    "plt.hist(train_train['aid'])"
   ]
  },
  {
   "cell_type": "code",
   "execution_count": 15,
   "metadata": {},
   "outputs": [
    {
     "data": {
      "text/plain": [
       "(array([225150., 202892.,  94714., 215892., 144308., 198871., 249417.,\n        165600., 149478., 113441.]),\n array([   6.,  227.,  448.,  669.,  890., 1111., 1332., 1553., 1774.,\n        1995., 2216.]),\n <a list of 10 Patch objects>)"
      ]
     },
     "execution_count": 15,
     "metadata": {},
     "output_type": "execute_result"
    },
    {
     "data": {
      "image/png": "[encoded data removed]",
      "text/plain": [
       "<Figure size 432x288 with 1 Axes>"
      ]
     },
     "metadata": {},
     "output_type": "display_data"
    }
   ],
   "source": [
    "plt.hist(train_valid['aid'])"
   ]
  },
  {
   "cell_type": "code",
   "execution_count": 16,
   "metadata": {},
   "outputs": [
    {
     "data": {
      "text/plain": [
       "(array([1126301., 1015137.,  476445., 1076896.,  723164.,  997862.,\n        1249499.,  822427.,  745254.,  565829.]),\n array([   6.,  227.,  448.,  669.,  890., 1111., 1332., 1553., 1774.,\n        1995., 2216.]),\n <a list of 10 Patch objects>)"
      ]
     },
     "execution_count": 16,
     "metadata": {},
     "output_type": "execute_result"
    },
    {
     "data": {
      "image/png": "[encoded data removed]",
      "text/plain": [
       "<Figure size 432x288 with 1 Axes>"
      ]
     },
     "metadata": {},
     "output_type": "display_data"
    }
   ],
   "source": [
    "plt.hist(train['aid'])"
   ]
  },
  {
   "cell_type": "code",
   "execution_count": 17,
   "metadata": {},
   "outputs": [],
   "source": [
    "train_pos_rates = utils.get_pos_rate_by_aid(train_train, train_ads)\n",
    "val_pos_rates = utils.get_pos_rate_by_aid(train_valid, train_ads)"
   ]
  },
  {
   "cell_type": "code",
   "execution_count": 18,
   "metadata": {},
   "outputs": [
    {
     "data": {
      "text/plain": [
       "count    173.000000\nmean       0.047771\nstd        0.001721\nmin        0.043401\n25%        0.046822\n50%        0.047804\n75%        0.048587\nmax        0.055243\ndtype: float64"
      ]
     },
     "execution_count": 18,
     "metadata": {},
     "output_type": "execute_result"
    }
   ],
   "source": [
    "pd.Series(train_pos_rates).describe()"
   ]
  },
  {
   "cell_type": "code",
   "execution_count": 22,
   "metadata": {},
   "outputs": [
    {
     "data": {
      "text/plain": [
       "count    173.000000\nmean       0.047832\nstd        0.003961\nmin        0.035208\n25%        0.045900\n50%        0.047759\n75%        0.049462\nmax        0.064556\ndtype: float64"
      ]
     },
     "execution_count": 22,
     "metadata": {},
     "output_type": "execute_result"
    }
   ],
   "source": [
    "pd.Series(val_pos_rates).describe()"
   ]
  },
  {
   "cell_type": "code",
   "execution_count": 19,
   "metadata": {},
   "outputs": [
    {
     "data": {
      "text/plain": [
       "(array([ 7., 14., 30., 53., 43., 20.,  3.,  0.,  2.,  1.]),\n array([0.04340124, 0.04458539, 0.04576954, 0.0469537 , 0.04813785,\n        0.049322  , 0.05050615, 0.0516903 , 0.05287445, 0.05405861,\n        0.05524276]),\n <a list of 10 Patch objects>)"
      ]
     },
     "execution_count": 19,
     "metadata": {},
     "output_type": "execute_result"
    },
    {
     "data": {
      "image/png": "[encoded data removed]",
      "text/plain": [
       "<Figure size 432x288 with 1 Axes>"
      ]
     },
     "metadata": {},
     "output_type": "display_data"
    }
   ],
   "source": [
    "plt.hist(train_pos_rates)"
   ]
  },
  {
   "cell_type": "code",
   "execution_count": 23,
   "metadata": {},
   "outputs": [
    {
     "data": {
      "text/plain": [
       "(array([ 3.,  3., 15., 47., 67., 22.,  9.,  3.,  3.,  1.]),\n array([0.03520757, 0.03814245, 0.04107734, 0.04401223, 0.04694711,\n        0.049882  , 0.05281689, 0.05575177, 0.05868666, 0.06162155,\n        0.06455643]),\n <a list of 10 Patch objects>)"
      ]
     },
     "execution_count": 23,
     "metadata": {},
     "output_type": "execute_result"
    },
    {
     "data": {
      "image/png": "[encoded data removed]",
      "text/plain": [
       "<Figure size 432x288 with 1 Axes>"
      ]
     },
     "metadata": {},
     "output_type": "display_data"
    }
   ],
   "source": [
    "plt.hist(val_pos_rates)"
   ]
  },
  {
   "cell_type": "code",
   "execution_count": 24,
   "metadata": {},
   "outputs": [
    {
     "data": {
      "text/html": [
       "<div>\n",
       "<style scoped>\n",
       "    .dataframe tbody tr th:only-of-type {\n",
       "        vertical-align: middle;\n",
       "    }\n",
       "\n",
       "    .dataframe tbody tr th {\n",
       "        vertical-align: top;\n",
       "    }\n",
       "\n",
       "    .dataframe thead th {\n",
       "        text-align: right;\n",
       "    }\n",
       "</style>\n",
       "<table border=\"1\" class=\"dataframe\">\n",
       "  <thead>\n",
       "    <tr style=\"text-align: right;\">\n",
       "      <th></th>\n",
       "      <th>aid</th>\n",
       "      <th>uid</th>\n",
       "      <th>label</th>\n",
       "      <th>advertiserId</th>\n",
       "      <th>campaignId</th>\n",
       "      <th>creativeId</th>\n",
       "      <th>creativeSize</th>\n",
       "      <th>adCategoryId</th>\n",
       "      <th>productId</th>\n",
       "      <th>productType</th>\n",
       "      <th>...</th>\n",
       "      <th>consumptionAbility</th>\n",
       "      <th>LBS</th>\n",
       "      <th>ct</th>\n",
       "      <th>os</th>\n",
       "      <th>carrier</th>\n",
       "      <th>house</th>\n",
       "      <th>interest</th>\n",
       "      <th>kw</th>\n",
       "      <th>topic</th>\n",
       "      <th>appId</th>\n",
       "    </tr>\n",
       "  </thead>\n",
       "  <tbody>\n",
       "    <tr>\n",
       "      <th>7076584</th>\n",
       "      <td>1379</td>\n",
       "      <td>60412222</td>\n",
       "      <td>-1</td>\n",
       "      <td>0.294872</td>\n",
       "      <td>0.372263</td>\n",
       "      <td>0.412791</td>\n",
       "      <td>0.071429</td>\n",
       "      <td>0.000000</td>\n",
       "      <td>0.03125</td>\n",
       "      <td>0.666667</td>\n",
       "      <td>...</td>\n",
       "      <td>0.5</td>\n",
       "      <td>0.347041</td>\n",
       "      <td>0.333333</td>\n",
       "      <td>0.333333</td>\n",
       "      <td>0.000000</td>\n",
       "      <td>0.0</td>\n",
       "      <td>77-49-15-6-46-116-36-11-209-267-252-246-221-22...</td>\n",
       "      <td>652-2908-2-719-3444-109-14286-12371</td>\n",
       "      <td>8418-4484-6088-2552-5911-18510-12545-14835-117...</td>\n",
       "      <td>0</td>\n",
       "    </tr>\n",
       "    <tr>\n",
       "      <th>4798421</th>\n",
       "      <td>1375</td>\n",
       "      <td>77524103</td>\n",
       "      <td>-1</td>\n",
       "      <td>0.025641</td>\n",
       "      <td>0.328467</td>\n",
       "      <td>0.901163</td>\n",
       "      <td>0.000000</td>\n",
       "      <td>0.000000</td>\n",
       "      <td>0.03125</td>\n",
       "      <td>0.666667</td>\n",
       "      <td>...</td>\n",
       "      <td>0.0</td>\n",
       "      <td>0.739218</td>\n",
       "      <td>0.033333</td>\n",
       "      <td>0.166667</td>\n",
       "      <td>0.000000</td>\n",
       "      <td>0.0</td>\n",
       "      <td>36-11</td>\n",
       "      <td>480-77-11-3142-218-4642-1540-6377</td>\n",
       "      <td>5935-6661-6578-8778-3414-11256-16063-17808-162...</td>\n",
       "      <td>0</td>\n",
       "    </tr>\n",
       "    <tr>\n",
       "      <th>1094669</th>\n",
       "      <td>1415</td>\n",
       "      <td>28068503</td>\n",
       "      <td>-1</td>\n",
       "      <td>0.576923</td>\n",
       "      <td>0.744526</td>\n",
       "      <td>0.686047</td>\n",
       "      <td>0.071429</td>\n",
       "      <td>0.974359</td>\n",
       "      <td>0.00000</td>\n",
       "      <td>0.000000</td>\n",
       "      <td>...</td>\n",
       "      <td>0.5</td>\n",
       "      <td>0.419258</td>\n",
       "      <td>0.266667</td>\n",
       "      <td>0.333333</td>\n",
       "      <td>0.333333</td>\n",
       "      <td>0.0</td>\n",
       "      <td>93-70-77-86-37-109-98-4-75-69-29-49-83-6-42-46...</td>\n",
       "      <td>262-1296-1721-138-43-3069-60-3970-30</td>\n",
       "      <td>9826-9264-55-506-4851-14338-17315-18747-18083-...</td>\n",
       "      <td>0</td>\n",
       "    </tr>\n",
       "    <tr>\n",
       "      <th>1966964</th>\n",
       "      <td>1468</td>\n",
       "      <td>26510914</td>\n",
       "      <td>-1</td>\n",
       "      <td>0.038462</td>\n",
       "      <td>0.043796</td>\n",
       "      <td>0.319767</td>\n",
       "      <td>0.714286</td>\n",
       "      <td>0.128205</td>\n",
       "      <td>0.00000</td>\n",
       "      <td>0.000000</td>\n",
       "      <td>...</td>\n",
       "      <td>0.0</td>\n",
       "      <td>0.952859</td>\n",
       "      <td>0.333333</td>\n",
       "      <td>0.666667</td>\n",
       "      <td>0.333333</td>\n",
       "      <td>0.0</td>\n",
       "      <td>93-70-118-100-47-76-4-69-28-8-106-6-46-22-9-36...</td>\n",
       "      <td>10326-7558-8697-1352-267-4-972</td>\n",
       "      <td>9377-384-254-915-9477-11356-11891-10943-19705-...</td>\n",
       "      <td>0</td>\n",
       "    </tr>\n",
       "    <tr>\n",
       "      <th>1466758</th>\n",
       "      <td>1468</td>\n",
       "      <td>82185043</td>\n",
       "      <td>-1</td>\n",
       "      <td>0.038462</td>\n",
       "      <td>0.043796</td>\n",
       "      <td>0.319767</td>\n",
       "      <td>0.714286</td>\n",
       "      <td>0.128205</td>\n",
       "      <td>0.00000</td>\n",
       "      <td>0.000000</td>\n",
       "      <td>...</td>\n",
       "      <td>0.5</td>\n",
       "      <td>0.105316</td>\n",
       "      <td>0.333333</td>\n",
       "      <td>0.333333</td>\n",
       "      <td>0.333333</td>\n",
       "      <td>0.0</td>\n",
       "      <td>93-70-75-69-28-29-46-36-11-107-552-600-631-616...</td>\n",
       "      <td>39-8266-2811-2833-771-2814-208-638</td>\n",
       "      <td>1066-7684-2404-6939-421-10566-10473-11815-1456...</td>\n",
       "      <td>0</td>\n",
       "    </tr>\n",
       "  </tbody>\n",
       "</table>\n",
       "<p>5 rows × 24 columns</p>\n",
       "</div>"
      ],
      "text/plain": [
       "<div>\n",
       "<style scoped>\n",
       "    .dataframe tbody tr th:only-of-type {\n",
       "        vertical-align: middle;\n",
       "    }\n",
       "\n",
       "    .dataframe tbody tr th {\n",
       "        vertical-align: top;\n",
       "    }\n",
       "\n",
       "    .dataframe thead th {\n",
       "        text-align: right;\n",
       "    }\n",
       "</style>\n",
       "<table border=\"1\" class=\"dataframe\">\n",
       "  <thead>\n",
       "    <tr style=\"text-align: right;\">\n",
       "      <th></th>\n",
       "      <th>aid</th>\n",
       "      <th>uid</th>\n",
       "      <th>label</th>\n",
       "      <th>advertiserId</th>\n",
       "      <th>campaignId</th>\n",
       "      <th>creativeId</th>\n",
       "      <th>creativeSize</th>\n",
       "      <th>adCategoryId</th>\n",
       "      <th>productId</th>\n",
       "      <th>productType</th>\n",
       "      <th>...</th>\n",
       "      <th>consumptionAbility</th>\n",
       "      <th>LBS</th>\n",
       "      <th>ct</th>\n",
       "      <th>os</th>\n",
       "      <th>carrier</th>\n",
       "      <th>house</th>\n",
       "      <th>interest</th>\n",
       "      <th>kw</th>\n",
       "      <th>topic</th>\n",
       "      <th>appId</th>\n",
       "    </tr>\n",
       "  </thead>\n",
       "  <tbody>\n",
       "    <tr>\n",
       "      <th>7076584</th>\n",
       "      <td>1379</td>\n",
       "      <td>60412222</td>\n",
       "      <td>-1</td>\n",
       "      <td>0.294872</td>\n",
       "      <td>0.372263</td>\n",
       "      <td>0.412791</td>\n",
       "      <td>0.071429</td>\n",
       "      <td>0.000000</td>\n",
       "      <td>0.03125</td>\n",
       "      <td>0.666667</td>\n",
       "      <td>...</td>\n",
       "      <td>0.5</td>\n",
       "      <td>0.347041</td>\n",
       "      <td>0.333333</td>\n",
       "      <td>0.333333</td>\n",
       "      <td>0.000000</td>\n",
       "      <td>0.0</td>\n",
       "      <td>77-49-15-6-46-116-36-11-209-267-252-246-221-22...</td>\n",
       "      <td>652-2908-2-719-3444-109-14286-12371</td>\n",
       "      <td>8418-4484-6088-2552-5911-18510-12545-14835-117...</td>\n",
       "      <td>0</td>\n",
       "    </tr>\n",
       "    <tr>\n",
       "      <th>4798421</th>\n",
       "      <td>1375</td>\n",
       "      <td>77524103</td>\n",
       "      <td>-1</td>\n",
       "      <td>0.025641</td>\n",
       "      <td>0.328467</td>\n",
       "      <td>0.901163</td>\n",
       "      <td>0.000000</td>\n",
       "      <td>0.000000</td>\n",
       "      <td>0.03125</td>\n",
       "      <td>0.666667</td>\n",
       "      <td>...</td>\n",
       "      <td>0.0</td>\n",
       "      <td>0.739218</td>\n",
       "      <td>0.033333</td>\n",
       "      <td>0.166667</td>\n",
       "      <td>0.000000</td>\n",
       "      <td>0.0</td>\n",
       "      <td>36-11</td>\n",
       "      <td>480-77-11-3142-218-4642-1540-6377</td>\n",
       "      <td>5935-6661-6578-8778-3414-11256-16063-17808-162...</td>\n",
       "      <td>0</td>\n",
       "    </tr>\n",
       "    <tr>\n",
       "      <th>1094669</th>\n",
       "      <td>1415</td>\n",
       "      <td>28068503</td>\n",
       "      <td>-1</td>\n",
       "      <td>0.576923</td>\n",
       "      <td>0.744526</td>\n",
       "      <td>0.686047</td>\n",
       "      <td>0.071429</td>\n",
       "      <td>0.974359</td>\n",
       "      <td>0.00000</td>\n",
       "      <td>0.000000</td>\n",
       "      <td>...</td>\n",
       "      <td>0.5</td>\n",
       "      <td>0.419258</td>\n",
       "      <td>0.266667</td>\n",
       "      <td>0.333333</td>\n",
       "      <td>0.333333</td>\n",
       "      <td>0.0</td>\n",
       "      <td>93-70-77-86-37-109-98-4-75-69-29-49-83-6-42-46...</td>\n",
       "      <td>262-1296-1721-138-43-3069-60-3970-30</td>\n",
       "      <td>9826-9264-55-506-4851-14338-17315-18747-18083-...</td>\n",
       "      <td>0</td>\n",
       "    </tr>\n",
       "    <tr>\n",
       "      <th>1966964</th>\n",
       "      <td>1468</td>\n",
       "      <td>26510914</td>\n",
       "      <td>-1</td>\n",
       "      <td>0.038462</td>\n",
       "      <td>0.043796</td>\n",
       "      <td>0.319767</td>\n",
       "      <td>0.714286</td>\n",
       "      <td>0.128205</td>\n",
       "      <td>0.00000</td>\n",
       "      <td>0.000000</td>\n",
       "      <td>...</td>\n",
       "      <td>0.0</td>\n",
       "      <td>0.952859</td>\n",
       "      <td>0.333333</td>\n",
       "      <td>0.666667</td>\n",
       "      <td>0.333333</td>\n",
       "      <td>0.0</td>\n",
       "      <td>93-70-118-100-47-76-4-69-28-8-106-6-46-22-9-36...</td>\n",
       "      <td>10326-7558-8697-1352-267-4-972</td>\n",
       "      <td>9377-384-254-915-9477-11356-11891-10943-19705-...</td>\n",
       "      <td>0</td>\n",
       "    </tr>\n",
       "    <tr>\n",
       "      <th>1466758</th>\n",
       "      <td>1468</td>\n",
       "      <td>82185043</td>\n",
       "      <td>-1</td>\n",
       "      <td>0.038462</td>\n",
       "      <td>0.043796</td>\n",
       "      <td>0.319767</td>\n",
       "      <td>0.714286</td>\n",
       "      <td>0.128205</td>\n",
       "      <td>0.00000</td>\n",
       "      <td>0.000000</td>\n",
       "      <td>...</td>\n",
       "      <td>0.5</td>\n",
       "      <td>0.105316</td>\n",
       "      <td>0.333333</td>\n",
       "      <td>0.333333</td>\n",
       "      <td>0.333333</td>\n",
       "      <td>0.0</td>\n",
       "      <td>93-70-75-69-28-29-46-36-11-107-552-600-631-616...</td>\n",
       "      <td>39-8266-2811-2833-771-2814-208-638</td>\n",
       "      <td>1066-7684-2404-6939-421-10566-10473-11815-1456...</td>\n",
       "      <td>0</td>\n",
       "    </tr>\n",
       "  </tbody>\n",
       "</table>\n",
       "<p>5 rows × 24 columns</p>\n",
       "</div>"
      ]
     },
     "execution_count": 24,
     "metadata": {},
     "output_type": "execute_result"
    }
   ],
   "source": [
    "train_train.head()"
   ]
  },
  {
   "cell_type": "code",
   "execution_count": 25,
   "metadata": {},
   "outputs": [],
   "source": [
    "train_train.to_csv('data/train_train.csv', columns=train_train.columns, index=False)\n",
    "train_valid.to_csv('data/train_valid.csv', columns=train_train.columns, index=False)"
   ]
  },
  {
   "cell_type": "code",
   "execution_count": 3,
   "metadata": {},
   "outputs": [
    {
     "name": "stdout",
     "output_type": "stream",
     "text": [
      "7039051\n1759763\n"
     ]
    }
   ],
   "source": [
    "train_train = pd.read_csv('data/train_train.csv')\n",
    "train_valid = pd.read_csv('data/train_valid.csv')\n",
    "print(len(train_train))\n",
    "print(len(train_valid))"
   ]
  },
  {
   "cell_type": "code",
   "execution_count": 5,
   "metadata": {},
   "outputs": [
    {
     "data": {
      "text/html": [
       "<div>\n",
       "<style scoped>\n",
       "    .dataframe tbody tr th:only-of-type {\n",
       "        vertical-align: middle;\n",
       "    }\n",
       "\n",
       "    .dataframe tbody tr th {\n",
       "        vertical-align: top;\n",
       "    }\n",
       "\n",
       "    .dataframe thead th {\n",
       "        text-align: right;\n",
       "    }\n",
       "</style>\n",
       "<table border=\"1\" class=\"dataframe\">\n",
       "  <thead>\n",
       "    <tr style=\"text-align: right;\">\n",
       "      <th></th>\n",
       "      <th>aid</th>\n",
       "      <th>uid</th>\n",
       "      <th>label</th>\n",
       "      <th>advertiserId</th>\n",
       "      <th>campaignId</th>\n",
       "      <th>creativeId</th>\n",
       "      <th>creativeSize</th>\n",
       "      <th>adCategoryId</th>\n",
       "      <th>productId</th>\n",
       "      <th>productType</th>\n",
       "      <th>...</th>\n",
       "      <th>consumptionAbility</th>\n",
       "      <th>LBS</th>\n",
       "      <th>ct</th>\n",
       "      <th>os</th>\n",
       "      <th>carrier</th>\n",
       "      <th>house</th>\n",
       "      <th>interest</th>\n",
       "      <th>kw</th>\n",
       "      <th>topic</th>\n",
       "      <th>appId</th>\n",
       "    </tr>\n",
       "  </thead>\n",
       "  <tbody>\n",
       "    <tr>\n",
       "      <th>63</th>\n",
       "      <td>1379</td>\n",
       "      <td>11342939</td>\n",
       "      <td>-1</td>\n",
       "      <td>0.294872</td>\n",
       "      <td>0.372263</td>\n",
       "      <td>0.412791</td>\n",
       "      <td>0.071429</td>\n",
       "      <td>0.0</td>\n",
       "      <td>0.03125</td>\n",
       "      <td>0.666667</td>\n",
       "      <td>...</td>\n",
       "      <td>0.5</td>\n",
       "      <td>0.781344</td>\n",
       "      <td>0.333333</td>\n",
       "      <td>0.333333</td>\n",
       "      <td>0.333333</td>\n",
       "      <td>0.0</td>\n",
       "      <td>93-70-86-109-76-75-69-29-49-73-114-91-72-46-36...</td>\n",
       "      <td>3-669-374-8992-10-896-106-13-25</td>\n",
       "      <td>105-644-4973-9264-8525-16268-12483-19305-19114...</td>\n",
       "      <td>0</td>\n",
       "    </tr>\n",
       "    <tr>\n",
       "      <th>142</th>\n",
       "      <td>1379</td>\n",
       "      <td>50350600</td>\n",
       "      <td>-1</td>\n",
       "      <td>0.294872</td>\n",
       "      <td>0.372263</td>\n",
       "      <td>0.412791</td>\n",
       "      <td>0.071429</td>\n",
       "      <td>0.0</td>\n",
       "      <td>0.03125</td>\n",
       "      <td>0.666667</td>\n",
       "      <td>...</td>\n",
       "      <td>0.5</td>\n",
       "      <td>0.785356</td>\n",
       "      <td>0.333333</td>\n",
       "      <td>0.666667</td>\n",
       "      <td>0.333333</td>\n",
       "      <td>0.0</td>\n",
       "      <td>109-119-279-273-242-209-267-201-270-206-221-21...</td>\n",
       "      <td>9298-2517-99-1835-8604-0-9-821-19-167-3657-24-...</td>\n",
       "      <td>3291-7772-2718-2848-2967-15641-16311-11352-127...</td>\n",
       "      <td>0</td>\n",
       "    </tr>\n",
       "    <tr>\n",
       "      <th>186</th>\n",
       "      <td>1379</td>\n",
       "      <td>80172848</td>\n",
       "      <td>-1</td>\n",
       "      <td>0.294872</td>\n",
       "      <td>0.372263</td>\n",
       "      <td>0.412791</td>\n",
       "      <td>0.071429</td>\n",
       "      <td>0.0</td>\n",
       "      <td>0.03125</td>\n",
       "      <td>0.666667</td>\n",
       "      <td>...</td>\n",
       "      <td>0.5</td>\n",
       "      <td>0.475426</td>\n",
       "      <td>0.333333</td>\n",
       "      <td>0.333333</td>\n",
       "      <td>0.333333</td>\n",
       "      <td>0.0</td>\n",
       "      <td>70-76-201-270-210-235-552-531-631-616-578-508-...</td>\n",
       "      <td>310-163-34-1278-112</td>\n",
       "      <td>3632-636-1966-1768-9233-12981-14329-11654-1175...</td>\n",
       "      <td>0</td>\n",
       "    </tr>\n",
       "    <tr>\n",
       "      <th>203</th>\n",
       "      <td>1379</td>\n",
       "      <td>52660145</td>\n",
       "      <td>-1</td>\n",
       "      <td>0.294872</td>\n",
       "      <td>0.372263</td>\n",
       "      <td>0.412791</td>\n",
       "      <td>0.071429</td>\n",
       "      <td>0.0</td>\n",
       "      <td>0.03125</td>\n",
       "      <td>0.666667</td>\n",
       "      <td>...</td>\n",
       "      <td>0.5</td>\n",
       "      <td>0.550652</td>\n",
       "      <td>0.266667</td>\n",
       "      <td>0.333333</td>\n",
       "      <td>1.000000</td>\n",
       "      <td>0.0</td>\n",
       "      <td>49-6-89-17-56-116-36-11-537-506-542-589-546-55...</td>\n",
       "      <td>10767-996-3085-3522-7-205-160-15</td>\n",
       "      <td>9877-3135-9826-644-7653-14671-11699-15307-1238...</td>\n",
       "      <td>0</td>\n",
       "    </tr>\n",
       "    <tr>\n",
       "      <th>380</th>\n",
       "      <td>1379</td>\n",
       "      <td>20487183</td>\n",
       "      <td>-1</td>\n",
       "      <td>0.294872</td>\n",
       "      <td>0.372263</td>\n",
       "      <td>0.412791</td>\n",
       "      <td>0.071429</td>\n",
       "      <td>0.0</td>\n",
       "      <td>0.03125</td>\n",
       "      <td>0.666667</td>\n",
       "      <td>...</td>\n",
       "      <td>1.0</td>\n",
       "      <td>0.659980</td>\n",
       "      <td>0.333333</td>\n",
       "      <td>0.333333</td>\n",
       "      <td>0.333333</td>\n",
       "      <td>0.0</td>\n",
       "      <td>70-86-109-47-75-76-69-45-29-59-49-6-2-39-71-23...</td>\n",
       "      <td>29-2025-1004-1-5-186-211-15</td>\n",
       "      <td>3188-9826-7684-8822-1964-13368-13609-13624-156...</td>\n",
       "      <td>0</td>\n",
       "    </tr>\n",
       "  </tbody>\n",
       "</table>\n",
       "<p>5 rows × 24 columns</p>\n",
       "</div>"
      ],
      "text/plain": [
       "<div>\n",
       "<style scoped>\n",
       "    .dataframe tbody tr th:only-of-type {\n",
       "        vertical-align: middle;\n",
       "    }\n",
       "\n",
       "    .dataframe tbody tr th {\n",
       "        vertical-align: top;\n",
       "    }\n",
       "\n",
       "    .dataframe thead th {\n",
       "        text-align: right;\n",
       "    }\n",
       "</style>\n",
       "<table border=\"1\" class=\"dataframe\">\n",
       "  <thead>\n",
       "    <tr style=\"text-align: right;\">\n",
       "      <th></th>\n",
       "      <th>aid</th>\n",
       "      <th>uid</th>\n",
       "      <th>label</th>\n",
       "      <th>advertiserId</th>\n",
       "      <th>campaignId</th>\n",
       "      <th>creativeId</th>\n",
       "      <th>creativeSize</th>\n",
       "      <th>adCategoryId</th>\n",
       "      <th>productId</th>\n",
       "      <th>productType</th>\n",
       "      <th>...</th>\n",
       "      <th>consumptionAbility</th>\n",
       "      <th>LBS</th>\n",
       "      <th>ct</th>\n",
       "      <th>os</th>\n",
       "      <th>carrier</th>\n",
       "      <th>house</th>\n",
       "      <th>interest</th>\n",
       "      <th>kw</th>\n",
       "      <th>topic</th>\n",
       "      <th>appId</th>\n",
       "    </tr>\n",
       "  </thead>\n",
       "  <tbody>\n",
       "    <tr>\n",
       "      <th>63</th>\n",
       "      <td>1379</td>\n",
       "      <td>11342939</td>\n",
       "      <td>-1</td>\n",
       "      <td>0.294872</td>\n",
       "      <td>0.372263</td>\n",
       "      <td>0.412791</td>\n",
       "      <td>0.071429</td>\n",
       "      <td>0.0</td>\n",
       "      <td>0.03125</td>\n",
       "      <td>0.666667</td>\n",
       "      <td>...</td>\n",
       "      <td>0.5</td>\n",
       "      <td>0.781344</td>\n",
       "      <td>0.333333</td>\n",
       "      <td>0.333333</td>\n",
       "      <td>0.333333</td>\n",
       "      <td>0.0</td>\n",
       "      <td>93-70-86-109-76-75-69-29-49-73-114-91-72-46-36...</td>\n",
       "      <td>3-669-374-8992-10-896-106-13-25</td>\n",
       "      <td>105-644-4973-9264-8525-16268-12483-19305-19114...</td>\n",
       "      <td>0</td>\n",
       "    </tr>\n",
       "    <tr>\n",
       "      <th>142</th>\n",
       "      <td>1379</td>\n",
       "      <td>50350600</td>\n",
       "      <td>-1</td>\n",
       "      <td>0.294872</td>\n",
       "      <td>0.372263</td>\n",
       "      <td>0.412791</td>\n",
       "      <td>0.071429</td>\n",
       "      <td>0.0</td>\n",
       "      <td>0.03125</td>\n",
       "      <td>0.666667</td>\n",
       "      <td>...</td>\n",
       "      <td>0.5</td>\n",
       "      <td>0.785356</td>\n",
       "      <td>0.333333</td>\n",
       "      <td>0.666667</td>\n",
       "      <td>0.333333</td>\n",
       "      <td>0.0</td>\n",
       "      <td>109-119-279-273-242-209-267-201-270-206-221-21...</td>\n",
       "      <td>9298-2517-99-1835-8604-0-9-821-19-167-3657-24-...</td>\n",
       "      <td>3291-7772-2718-2848-2967-15641-16311-11352-127...</td>\n",
       "      <td>0</td>\n",
       "    </tr>\n",
       "    <tr>\n",
       "      <th>186</th>\n",
       "      <td>1379</td>\n",
       "      <td>80172848</td>\n",
       "      <td>-1</td>\n",
       "      <td>0.294872</td>\n",
       "      <td>0.372263</td>\n",
       "      <td>0.412791</td>\n",
       "      <td>0.071429</td>\n",
       "      <td>0.0</td>\n",
       "      <td>0.03125</td>\n",
       "      <td>0.666667</td>\n",
       "      <td>...</td>\n",
       "      <td>0.5</td>\n",
       "      <td>0.475426</td>\n",
       "      <td>0.333333</td>\n",
       "      <td>0.333333</td>\n",
       "      <td>0.333333</td>\n",
       "      <td>0.0</td>\n",
       "      <td>70-76-201-270-210-235-552-531-631-616-578-508-...</td>\n",
       "      <td>310-163-34-1278-112</td>\n",
       "      <td>3632-636-1966-1768-9233-12981-14329-11654-1175...</td>\n",
       "      <td>0</td>\n",
       "    </tr>\n",
       "    <tr>\n",
       "      <th>203</th>\n",
       "      <td>1379</td>\n",
       "      <td>52660145</td>\n",
       "      <td>-1</td>\n",
       "      <td>0.294872</td>\n",
       "      <td>0.372263</td>\n",
       "      <td>0.412791</td>\n",
       "      <td>0.071429</td>\n",
       "      <td>0.0</td>\n",
       "      <td>0.03125</td>\n",
       "      <td>0.666667</td>\n",
       "      <td>...</td>\n",
       "      <td>0.5</td>\n",
       "      <td>0.550652</td>\n",
       "      <td>0.266667</td>\n",
       "      <td>0.333333</td>\n",
       "      <td>1.000000</td>\n",
       "      <td>0.0</td>\n",
       "      <td>49-6-89-17-56-116-36-11-537-506-542-589-546-55...</td>\n",
       "      <td>10767-996-3085-3522-7-205-160-15</td>\n",
       "      <td>9877-3135-9826-644-7653-14671-11699-15307-1238...</td>\n",
       "      <td>0</td>\n",
       "    </tr>\n",
       "    <tr>\n",
       "      <th>380</th>\n",
       "      <td>1379</td>\n",
       "      <td>20487183</td>\n",
       "      <td>-1</td>\n",
       "      <td>0.294872</td>\n",
       "      <td>0.372263</td>\n",
       "      <td>0.412791</td>\n",
       "      <td>0.071429</td>\n",
       "      <td>0.0</td>\n",
       "      <td>0.03125</td>\n",
       "      <td>0.666667</td>\n",
       "      <td>...</td>\n",
       "      <td>1.0</td>\n",
       "      <td>0.659980</td>\n",
       "      <td>0.333333</td>\n",
       "      <td>0.333333</td>\n",
       "      <td>0.333333</td>\n",
       "      <td>0.0</td>\n",
       "      <td>70-86-109-47-75-76-69-45-29-59-49-6-2-39-71-23...</td>\n",
       "      <td>29-2025-1004-1-5-186-211-15</td>\n",
       "      <td>3188-9826-7684-8822-1964-13368-13609-13624-156...</td>\n",
       "      <td>0</td>\n",
       "    </tr>\n",
       "  </tbody>\n",
       "</table>\n",
       "<p>5 rows × 24 columns</p>\n",
       "</div>"
      ]
     },
     "execution_count": 5,
     "metadata": {},
     "output_type": "execute_result"
    }
   ],
   "source": [
    "train_valid[train_valid['aid'] == 1379].head()"
   ]
  },
  {
   "cell_type": "code",
   "execution_count": 1,
   "metadata": {},
   "outputs": [],
   "source": [
    "import numpy as np"
   ]
  },
  {
   "cell_type": "code",
   "execution_count": 4,
   "metadata": {},
   "outputs": [
    {
     "ename": "TypeError",
     "evalue": "unhashable type: 'list'",
     "traceback": [
      "\u001b[1;31m---------------------------------------------------------------------------\u001b[0m",
      "\u001b[1;31mTypeError\u001b[0m                                 Traceback (most recent call last)",
      "\u001b[1;32m<ipython-input-4-1d0348a326f7>\u001b[0m in \u001b[0;36m<module>\u001b[1;34m()\u001b[0m\n\u001b[0;32m      1\u001b[0m \u001b[0mx\u001b[0m \u001b[1;33m=\u001b[0m \u001b[0mnp\u001b[0m\u001b[1;33m.\u001b[0m\u001b[0mndarray\u001b[0m\u001b[1;33m(\u001b[0m\u001b[1;33m[\u001b[0m\u001b[1;36m1\u001b[0m\u001b[1;33m,\u001b[0m\u001b[1;36m1\u001b[0m\u001b[1;33m,\u001b[0m\u001b[1;36m1\u001b[0m\u001b[1;33m,\u001b[0m\u001b[1;36m2\u001b[0m\u001b[1;33m,\u001b[0m\u001b[1;36m2\u001b[0m\u001b[1;33m,\u001b[0m\u001b[1;36m4\u001b[0m\u001b[1;33m,\u001b[0m\u001b[1;36m4\u001b[0m\u001b[1;33m]\u001b[0m\u001b[1;33m)\u001b[0m\u001b[1;33m\u001b[0m\u001b[0m\n\u001b[1;32m----> 2\u001b[1;33m \u001b[0mset\u001b[0m\u001b[1;33m(\u001b[0m\u001b[0mx\u001b[0m\u001b[1;33m.\u001b[0m\u001b[0mtolist\u001b[0m\u001b[1;33m(\u001b[0m\u001b[1;33m)\u001b[0m\u001b[1;33m)\u001b[0m\u001b[1;33m\u001b[0m\u001b[0m\n\u001b[0m",
      "\u001b[1;31mTypeError\u001b[0m: unhashable type: 'list'"
     ],
     "output_type": "error"
    }
   ],
   "source": [
    "x = np.ndarray([1,1,1,2,2,4,4])\n",
    "set(x.tolist())"
   ]
  },
  {
   "cell_type": "code",
   "execution_count": 8,
   "metadata": {},
   "outputs": [
    {
     "data": {
      "text/plain": [
       "array([[[[[[[7.36190311e+228, 4.47590761e-091, 5.98149672e-154,\n             6.45312007e+247],\n            [2.41795994e+198, 6.32301042e+233, 8.04750949e+246,\n             3.53385241e+246],\n            [7.00676283e+194, 6.01346953e-154, 7.48960144e+247,\n             4.47590761e-091],\n            [5.98149672e-154, 3.74168656e+233, 6.32300688e+233,\n             6.96747069e+252]],\n\n           [[6.01346953e-154, 6.01334637e-154, 5.28595595e-085,\n             4.27255706e+180],\n            [2.43905765e-154, 5.03734573e+180, 7.04142211e-009,\n             1.17450684e+171],\n            [8.54403962e-072, 3.88830754e+160, 6.01334435e-154,\n             8.19148741e+247],\n            [9.92132479e+247, 1.17076152e+214, 2.16482145e-027,\n             7.01413727e-009]]],\n\n\n          [[[1.35719212e+248, 3.74564214e+233, 4.72383554e-120,\n             2.43895053e-154],\n            [1.39565693e-258, 2.18633604e+069, 1.33360336e+241,\n             6.21744767e-311],\n            [9.80013217e+040, 1.46548586e+171, 3.03797616e-298,\n             1.65477426e+241],\n            [1.33360309e+241, 2.41440681e-310, 1.25430630e-298,\n             1.52926424e-315]],\n\n           [[4.02422962e-270, 3.18978773e-241, 7.72802661e-319,\n             1.52973828e-308],\n            [2.78889432e+108, 5.90118287e+250, 2.24793916e+289,\n             5.95569050e+289],\n            [5.90118287e+250, 4.03791012e+202, 1.01928226e+251,\n             1.38945824e+111],\n            [3.60432404e+207, 7.29290211e-304, 1.99093780e+289,\n             7.08506777e+091]]]]]]])"
      ]
     },
     "execution_count": 8,
     "metadata": {},
     "output_type": "execute_result"
    }
   ],
   "source": [
    "x = np.ndarray([1,1,1,2,2,4,4])\n",
    "x"
   ]
  },
  {
   "cell_type": "code",
   "execution_count": 3,
   "metadata": {},
   "outputs": [
    {
     "data": {
      "text/plain": [
       "array([1, 1])"
      ]
     },
     "execution_count": 3,
     "metadata": {},
     "output_type": "execute_result"
    }
   ],
   "source": [
    "x[x==1]"
   ]
  },
  {
   "cell_type": "heading",
   "metadata": {},
   "level": 1,
   "source": [
    "抽样去掉一部分负例"
   ]
  },
  {
   "cell_type": "code",
   "execution_count": 1,
   "metadata": {},
   "outputs": [],
   "source": [
    "import pandas as pd"
   ]
  },
  {
   "cell_type": "code",
   "execution_count": 2,
   "metadata": {},
   "outputs": [],
   "source": [
    "train_train = pd.read_csv('data/train_train.csv')"
   ]
  },
  {
   "cell_type": "code",
   "execution_count": 5,
   "metadata": {},
   "outputs": [],
   "source": [
    "train_train_pos = train_train[train_train['label'] == 1]\n"
   ]
  },
  {
   "cell_type": "code",
   "execution_count": 7,
   "metadata": {},
   "outputs": [],
   "source": [
    "train_train_add = train_train.append(train_train_pos)\n",
    "train_train_add = train_train_add.append(train_train_pos)\n",
    "train_train_add = train_train_add.append(train_train_pos)\n",
    "train_train_add = train_train_add.append(train_train_pos)\n",
    "train_train_add = train_train_add.append(train_train_pos)\n"
   ]
  },
  {
   "cell_type": "code",
   "execution_count": 10,
   "metadata": {},
   "outputs": [],
   "source": [
    "train_train_add = train_train_add.append(train_train_pos)\n",
    "train_train_add = train_train_add.append(train_train_pos)\n",
    "train_train_add = train_train_add.append(train_train_pos)\n",
    "train_train_add = train_train_add.append(train_train_pos)\n"
   ]
  },
  {
   "cell_type": "code",
   "execution_count": 13,
   "metadata": {},
   "outputs": [
    {
     "data": {
      "text/plain": [
       "6079518"
      ]
     },
     "execution_count": 13,
     "metadata": {},
     "output_type": "execute_result"
    }
   ],
   "source": [
    "len(train_train_add[train_train_add['label'] == 1])"
   ]
  },
  {
   "cell_type": "code",
   "execution_count": 14,
   "metadata": {},
   "outputs": [
    {
     "data": {
      "text/plain": [
       "6701300"
      ]
     },
     "execution_count": 14,
     "metadata": {},
     "output_type": "execute_result"
    }
   ],
   "source": [
    "len(train_train_add[train_train_add['label'] == -1])"
   ]
  },
  {
   "cell_type": "code",
   "execution_count": 15,
   "metadata": {},
   "outputs": [],
   "source": [
    "train_train_add_sample = train_train_add.sample(7030000)"
   ]
  },
  {
   "cell_type": "code",
   "execution_count": 16,
   "metadata": {},
   "outputs": [
    {
     "data": {
      "text/plain": [
       "3343680"
      ]
     },
     "execution_count": 16,
     "metadata": {},
     "output_type": "execute_result"
    }
   ],
   "source": [
    "len(train_train_add_sample[train_train_add_sample['label'] == 1])"
   ]
  },
  {
   "cell_type": "code",
   "execution_count": 17,
   "metadata": {},
   "outputs": [
    {
     "data": {
      "text/plain": [
       "3686320"
      ]
     },
     "execution_count": 17,
     "metadata": {},
     "output_type": "execute_result"
    }
   ],
   "source": [
    "len(train_train_add_sample[train_train_add_sample['label'] == -1])"
   ]
  },
  {
   "cell_type": "code",
   "execution_count": 18,
   "metadata": {},
   "outputs": [],
   "source": [
    "train_train_add_sample.to_csv('data/train_train_add_sample.csv', columns=train_train.columns, index=False)"
   ]
  }
 ],
 "metadata": {
  "kernelspec": {
   "display_name": "Python 2",
   "language": "python",
   "name": "python2"
  },
  "language_info": {
   "codemirror_mode": {
    "name": "ipython",
    "version": 2
   },
   "file_extension": ".py",
   "mimetype": "text/x-python",
   "name": "python",
   "nbconvert_exporter": "python",
   "pygments_lexer": "ipython2",
   "version": "2.7.6"
  }
 },
 "nbformat": 4,
 "nbformat_minor": 0
}
